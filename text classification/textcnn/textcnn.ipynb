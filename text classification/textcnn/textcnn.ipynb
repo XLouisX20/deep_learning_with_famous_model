{
 "cells": [
  {
   "cell_type": "code",
   "execution_count": 54,
   "metadata": {},
   "outputs": [],
   "source": [
    "import torch\n",
    "from torch import nn\n",
    "import torch.nn.functional as F\n",
    "from torch.autograd import Variable\n",
    "from torchtext.data import Field,BucketIterator,TabularDataset\n",
    "from tqdm import tqdm\n",
    "import matplotlib.pyplot as plt\n",
    "\n",
    "import pandas as pd\n",
    "from sklearn.model_selection import train_test_split"
   ]
  },
  {
   "cell_type": "code",
   "execution_count": 168,
   "metadata": {},
   "outputs": [],
   "source": [
    "data = pd.read_csv('children_stories.csv',encoding='latin-1',usecols=['cats','desc'])"
   ]
  },
  {
   "cell_type": "code",
   "execution_count": 169,
   "metadata": {},
   "outputs": [],
   "source": [
    "#移除空標籤\n",
    "data = data.query('cats != \"Age \"')"
   ]
  },
  {
   "cell_type": "code",
   "execution_count": 170,
   "metadata": {},
   "outputs": [
    {
     "data": {
      "text/plain": [
       "Age 3+          32\n",
       "Age 9+          32\n",
       "Age 7+          27\n",
       "Age 8+          26\n",
       "Age 10+         26\n",
       "Age 6+          21\n",
       "Age 2-9         20\n",
       "Age 4+          20\n",
       "Age 11+         19\n",
       "Age 5+          17\n",
       "Age 0-4         16\n",
       "Age 0+          13\n",
       "Age 12+         12\n",
       "Age 2+          12\n",
       "Age 0-3         11\n",
       "Age 2-6         10\n",
       "Age 3-6          9\n",
       "Age 2-5          9\n",
       "Age 0-5          8\n",
       "Age 3-5          7\n",
       "Age 1-3          6\n",
       "Age 1-5          5\n",
       "Age 3-7          5\n",
       "Age 1-4          4\n",
       "Age 8-12         4\n",
       "Age 7-11         4\n",
       "Age 5-8          3\n",
       "Age 4-8          3\n",
       "Age 9-11         3\n",
       "Age 6-11         3\n",
       "Age 13+          3\n",
       "Age 4-6          3\n",
       "Age 9-12         2\n",
       "Age 4-7          2\n",
       "Age 0-2          2\n",
       "Age 5-9          2\n",
       "Age 6-8          2\n",
       "Age 1+           2\n",
       "Age 7-9          2\n",
       "Age 9-13         2\n",
       "Age 7-10         2\n",
       "Age 0-6          1\n",
       "Age 3-4          1\n",
       "Age 9-14         1\n",
       "Age 6months+     1\n",
       "Age 2-4          1\n",
       "Age 4-11         1\n",
       "Age 2-7          1\n",
       "Age 11-15        1\n",
       "Age 10-14        1\n",
       "Age 1-2          1\n",
       "Age 1-6          1\n",
       "Age 4-5          1\n",
       "Age  0-3         1\n",
       "Age 6-9          1\n",
       "Age 11-14        1\n",
       "Age 8-11         1\n",
       "Age 7-12         1\n",
       "Name: cats, dtype: int64"
      ]
     },
     "execution_count": 170,
     "metadata": {},
     "output_type": "execute_result"
    }
   ],
   "source": [
    "data.cats.value_counts()"
   ]
  },
  {
   "cell_type": "code",
   "execution_count": 171,
   "metadata": {},
   "outputs": [],
   "source": [
    "train,test = train_test_split(data)"
   ]
  },
  {
   "cell_type": "code",
   "execution_count": 172,
   "metadata": {},
   "outputs": [],
   "source": [
    "train.to_csv('train.csv',index=False)\n",
    "test.to_csv('test.csv',index=False)"
   ]
  },
  {
   "cell_type": "code",
   "execution_count": 173,
   "metadata": {},
   "outputs": [],
   "source": [
    "TEXT = Field(lower=True, include_lengths=True,fix_length=1000, batch_first=True)\n",
    "LABEL = Field(sequential=False)\n",
    "fields = {'desc': ('text',TEXT),'cats': ('label',LABEL)}"
   ]
  },
  {
   "cell_type": "code",
   "execution_count": 174,
   "metadata": {},
   "outputs": [],
   "source": [
    "train, test = TabularDataset.splits(path='./',\n",
    "                                    train='train.csv',\n",
    "                                    test='test.csv',\n",
    "                                    format='csv',\n",
    "                                    fields=fields)"
   ]
  },
  {
   "cell_type": "code",
   "execution_count": 175,
   "metadata": {},
   "outputs": [],
   "source": [
    "TEXT.build_vocab(train)\n",
    "LABEL.build_vocab(train)"
   ]
  },
  {
   "cell_type": "code",
   "execution_count": 176,
   "metadata": {},
   "outputs": [
    {
     "name": "stderr",
     "output_type": "stream",
     "text": [
      "The `device` argument should be set by using `torch.device` or passing a string as an argument. This behavior will be deprecated soon and currently defaults to cpu.\n",
      "The `device` argument should be set by using `torch.device` or passing a string as an argument. This behavior will be deprecated soon and currently defaults to cpu.\n"
     ]
    }
   ],
   "source": [
    "train_iter, test_iter = BucketIterator.splits(\n",
    "    (train, test), batch_size=32, device=0,sort=False)"
   ]
  },
  {
   "cell_type": "code",
   "execution_count": 185,
   "metadata": {},
   "outputs": [],
   "source": [
    "class TextCNN(nn.Module):\n",
    "    \n",
    "    def __init__(self, embed_dim = 128, kernel_size=[2,3,4]):\n",
    "        super(TextCNN,self).__init__()\n",
    "        self.kernel_size = kernel_size\n",
    "        \n",
    "        self.embed = nn.Embedding(len(TEXT.vocab),embed_dim)\n",
    "        self.cnn = nn.ModuleList([\n",
    "            nn.Sequential(\n",
    "                nn.Conv2d(1,32,(kernel,embed_dim)),\n",
    "                nn.LeakyReLU()\n",
    "            )\n",
    "            for kernel in kernel_size\n",
    "        ])\n",
    "        self.fc = nn.Linear(32*len(kernel_size),len(LABEL.vocab))\n",
    "    \n",
    "    def forward(self,x):\n",
    "        tmp = self.embed(x).unsqueeze(1) # Batch_size, channel_number, Seq_len, embed_dim\n",
    "        tmp = [c(tmp).squeeze(3) for c in self.cnn] # Batch_size, filter_number, Width\n",
    "        tmp = [F.max_pool1d(t,t.size(2)).squeeze(2) for t in tmp] # Batch_size, filter_number\n",
    "        tmp = torch.cat(tmp,1)\n",
    "        tmp = self.fc(tmp)\n",
    "        \n",
    "        return tmp"
   ]
  },
  {
   "cell_type": "code",
   "execution_count": 199,
   "metadata": {},
   "outputs": [],
   "source": [
    "model = TextCNN().cuda()"
   ]
  },
  {
   "cell_type": "code",
   "execution_count": 187,
   "metadata": {},
   "outputs": [
    {
     "name": "stdout",
     "output_type": "stream",
     "text": [
      "torch.Size([32, 54])\n"
     ]
    }
   ],
   "source": [
    "## 測試 forward\n",
    "for i in train_iter:\n",
    "    text = i.text[0].cuda()\n",
    "    output = model(text)\n",
    "    print(output.shape)\n",
    "    break"
   ]
  },
  {
   "cell_type": "code",
   "execution_count": 200,
   "metadata": {},
   "outputs": [],
   "source": [
    "criterion = nn.CrossEntropyLoss()\n",
    "optim = torch.optim.Adam(model.parameters())"
   ]
  },
  {
   "cell_type": "code",
   "execution_count": 201,
   "metadata": {},
   "outputs": [],
   "source": [
    "epoches = 20"
   ]
  },
  {
   "cell_type": "code",
   "execution_count": 202,
   "metadata": {},
   "outputs": [
    {
     "name": "stderr",
     "output_type": "stream",
     "text": [
      "100%|██████████████████████████████████████████████████████████████████████████████████| 11/11 [00:00<00:00, 24.07it/s]\n",
      " 36%|██████████████████████████████▏                                                    | 4/11 [00:00<00:00, 29.63it/s]"
     ]
    },
    {
     "name": "stdout",
     "output_type": "stream",
     "text": [
      "epoch 1 : 0.14048012469045099\n"
     ]
    },
    {
     "name": "stderr",
     "output_type": "stream",
     "text": [
      "100%|██████████████████████████████████████████████████████████████████████████████████| 11/11 [00:00<00:00, 26.77it/s]\n",
      " 27%|██████████████████████▋                                                            | 3/11 [00:00<00:00, 25.87it/s]"
     ]
    },
    {
     "name": "stdout",
     "output_type": "stream",
     "text": [
      "epoch 2 : 0.11544962464091933\n"
     ]
    },
    {
     "name": "stderr",
     "output_type": "stream",
     "text": [
      "100%|██████████████████████████████████████████████████████████████████████████████████| 11/11 [00:00<00:00, 26.90it/s]\n",
      " 27%|██████████████████████▋                                                            | 3/11 [00:00<00:00, 25.42it/s]"
     ]
    },
    {
     "name": "stdout",
     "output_type": "stream",
     "text": [
      "epoch 3 : 0.10314239668326214\n"
     ]
    },
    {
     "name": "stderr",
     "output_type": "stream",
     "text": [
      "100%|██████████████████████████████████████████████████████████████████████████████████| 11/11 [00:00<00:00, 26.90it/s]\n",
      " 36%|██████████████████████████████▏                                                    | 4/11 [00:00<00:00, 30.31it/s]"
     ]
    },
    {
     "name": "stdout",
     "output_type": "stream",
     "text": [
      "epoch 4 : 0.10861446998572424\n"
     ]
    },
    {
     "name": "stderr",
     "output_type": "stream",
     "text": [
      "100%|██████████████████████████████████████████████████████████████████████████████████| 11/11 [00:00<00:00, 26.77it/s]\n",
      " 27%|██████████████████████▋                                                            | 3/11 [00:00<00:00, 25.22it/s]"
     ]
    },
    {
     "name": "stdout",
     "output_type": "stream",
     "text": [
      "epoch 5 : 0.09473635474469431\n"
     ]
    },
    {
     "name": "stderr",
     "output_type": "stream",
     "text": [
      "100%|██████████████████████████████████████████████████████████████████████████████████| 11/11 [00:00<00:00, 26.97it/s]\n",
      " 27%|██████████████████████▋                                                            | 3/11 [00:00<00:00, 25.00it/s]"
     ]
    },
    {
     "name": "stdout",
     "output_type": "stream",
     "text": [
      "epoch 6 : 0.09293957959825748\n"
     ]
    },
    {
     "name": "stderr",
     "output_type": "stream",
     "text": [
      "100%|██████████████████████████████████████████████████████████████████████████████████| 11/11 [00:00<00:00, 27.10it/s]\n",
      " 36%|██████████████████████████████▏                                                    | 4/11 [00:00<00:00, 30.30it/s]"
     ]
    },
    {
     "name": "stdout",
     "output_type": "stream",
     "text": [
      "epoch 7 : 0.08960937933758412\n"
     ]
    },
    {
     "name": "stderr",
     "output_type": "stream",
     "text": [
      "100%|██████████████████████████████████████████████████████████████████████████████████| 11/11 [00:00<00:00, 26.44it/s]\n",
      " 27%|██████████████████████▋                                                            | 3/11 [00:00<00:00, 24.99it/s]"
     ]
    },
    {
     "name": "stdout",
     "output_type": "stream",
     "text": [
      "epoch 8 : 0.08313388987865032\n"
     ]
    },
    {
     "name": "stderr",
     "output_type": "stream",
     "text": [
      "100%|██████████████████████████████████████████████████████████████████████████████████| 11/11 [00:00<00:00, 26.44it/s]\n",
      " 27%|██████████████████████▋                                                            | 3/11 [00:00<00:00, 24.59it/s]"
     ]
    },
    {
     "name": "stdout",
     "output_type": "stream",
     "text": [
      "epoch 9 : 0.07811949483330748\n"
     ]
    },
    {
     "name": "stderr",
     "output_type": "stream",
     "text": [
      "100%|██████████████████████████████████████████████████████████████████████████████████| 11/11 [00:00<00:00, 26.15it/s]\n",
      " 36%|██████████████████████████████▏                                                    | 4/11 [00:00<00:00, 30.54it/s]"
     ]
    },
    {
     "name": "stdout",
     "output_type": "stream",
     "text": [
      "epoch 10 : 0.07550627271705698\n"
     ]
    },
    {
     "name": "stderr",
     "output_type": "stream",
     "text": [
      "100%|██████████████████████████████████████████████████████████████████████████████████| 11/11 [00:00<00:00, 26.90it/s]\n",
      " 27%|██████████████████████▋                                                            | 3/11 [00:00<00:00, 25.00it/s]"
     ]
    },
    {
     "name": "stdout",
     "output_type": "stream",
     "text": [
      "epoch 11 : 0.07522158979255462\n"
     ]
    },
    {
     "name": "stderr",
     "output_type": "stream",
     "text": [
      "100%|██████████████████████████████████████████████████████████████████████████████████| 11/11 [00:00<00:00, 26.58it/s]\n",
      " 27%|██████████████████████▋                                                            | 3/11 [00:00<00:00, 25.64it/s]"
     ]
    },
    {
     "name": "stdout",
     "output_type": "stream",
     "text": [
      "epoch 12 : 0.0690631636206606\n"
     ]
    },
    {
     "name": "stderr",
     "output_type": "stream",
     "text": [
      "100%|██████████████████████████████████████████████████████████████████████████████████| 11/11 [00:00<00:00, 26.90it/s]\n",
      " 27%|██████████████████████▋                                                            | 3/11 [00:00<00:00, 24.80it/s]"
     ]
    },
    {
     "name": "stdout",
     "output_type": "stream",
     "text": [
      "epoch 13 : 0.06598995927709657\n"
     ]
    },
    {
     "name": "stderr",
     "output_type": "stream",
     "text": [
      "100%|██████████████████████████████████████████████████████████████████████████████████| 11/11 [00:00<00:00, 26.57it/s]\n",
      " 27%|██████████████████████▋                                                            | 3/11 [00:00<00:00, 25.87it/s]"
     ]
    },
    {
     "name": "stdout",
     "output_type": "stream",
     "text": [
      "epoch 14 : 0.06050241661963062\n"
     ]
    },
    {
     "name": "stderr",
     "output_type": "stream",
     "text": [
      "100%|██████████████████████████████████████████████████████████████████████████████████| 11/11 [00:00<00:00, 26.88it/s]\n",
      " 27%|██████████████████████▋                                                            | 3/11 [00:00<00:00, 24.39it/s]"
     ]
    },
    {
     "name": "stdout",
     "output_type": "stream",
     "text": [
      "epoch 15 : 0.055809328860582964\n"
     ]
    },
    {
     "name": "stderr",
     "output_type": "stream",
     "text": [
      "100%|██████████████████████████████████████████████████████████████████████████████████| 11/11 [00:00<00:00, 26.54it/s]\n",
      " 27%|██████████████████████▋                                                            | 3/11 [00:00<00:00, 25.43it/s]"
     ]
    },
    {
     "name": "stdout",
     "output_type": "stream",
     "text": [
      "epoch 16 : 0.05437311056618378\n"
     ]
    },
    {
     "name": "stderr",
     "output_type": "stream",
     "text": [
      "100%|██████████████████████████████████████████████████████████████████████████████████| 11/11 [00:00<00:00, 26.70it/s]\n",
      " 36%|██████████████████████████████▏                                                    | 4/11 [00:00<00:00, 30.31it/s]"
     ]
    },
    {
     "name": "stdout",
     "output_type": "stream",
     "text": [
      "epoch 17 : 0.04807203989533992\n"
     ]
    },
    {
     "name": "stderr",
     "output_type": "stream",
     "text": [
      "100%|██████████████████████████████████████████████████████████████████████████████████| 11/11 [00:00<00:00, 26.83it/s]\n",
      " 36%|██████████████████████████████▏                                                    | 4/11 [00:00<00:00, 30.77it/s]"
     ]
    },
    {
     "name": "stdout",
     "output_type": "stream",
     "text": [
      "epoch 18 : 0.04332394614769291\n"
     ]
    },
    {
     "name": "stderr",
     "output_type": "stream",
     "text": [
      "100%|██████████████████████████████████████████████████████████████████████████████████| 11/11 [00:00<00:00, 26.77it/s]\n",
      " 27%|██████████████████████▋                                                            | 3/11 [00:00<00:00, 25.64it/s]"
     ]
    },
    {
     "name": "stdout",
     "output_type": "stream",
     "text": [
      "epoch 19 : 0.03967355270623418\n"
     ]
    },
    {
     "name": "stderr",
     "output_type": "stream",
     "text": [
      "100%|██████████████████████████████████████████████████████████████████████████████████| 11/11 [00:00<00:00, 27.37it/s]"
     ]
    },
    {
     "name": "stdout",
     "output_type": "stream",
     "text": [
      "epoch 20 : 0.036155263582865395\n"
     ]
    },
    {
     "name": "stderr",
     "output_type": "stream",
     "text": [
      "\n"
     ]
    }
   ],
   "source": [
    "model.train()\n",
    "training_loss = []\n",
    "for e in range(epoches):\n",
    "    running_loss = 0.0\n",
    "    for data in tqdm(train_iter):\n",
    "        text = data.text[0].cuda()\n",
    "        label = data.label.cuda()-1\n",
    "        \n",
    "        output = model(text)\n",
    "        \n",
    "        optim.zero_grad()\n",
    "        loss = criterion(output,label)\n",
    "        loss.backward(retain_graph=True)\n",
    "        optim.step()\n",
    "        \n",
    "        running_loss += loss.item()\n",
    "    training_loss.append(running_loss/len(train))\n",
    "    print(f'epoch {e+1} : {running_loss/len(train)}')"
   ]
  },
  {
   "cell_type": "code",
   "execution_count": 203,
   "metadata": {},
   "outputs": [
    {
     "data": {
      "text/plain": [
       "[<matplotlib.lines.Line2D at 0x276c8c284a8>]"
      ]
     },
     "execution_count": 203,
     "metadata": {},
     "output_type": "execute_result"
    },
    {
     "data": {
      "image/png": "[encoded data removed]",
      "text/plain": [
       "<Figure size 432x288 with 1 Axes>"
      ]
     },
     "metadata": {},
     "output_type": "display_data"
    }
   ],
   "source": [
    "plt.plot(training_loss)"
   ]
  },
  {
   "cell_type": "code",
   "execution_count": 206,
   "metadata": {},
   "outputs": [
    {
     "name": "stderr",
     "output_type": "stream",
     "text": [
      "100%|██████████████████████████████████████████████████████████████████████████████████| 11/11 [00:00<00:00, 99.50it/s]"
     ]
    },
    {
     "name": "stdout",
     "output_type": "stream",
     "text": [
      "0.8847352024922118\n"
     ]
    },
    {
     "name": "stderr",
     "output_type": "stream",
     "text": [
      "\n"
     ]
    }
   ],
   "source": [
    "model.eval()\n",
    "with torch.no_grad():\n",
    "    running_hit = 0.0\n",
    "    for data in tqdm(train_iter):\n",
    "        text = data.text[0].cuda()\n",
    "        label = (data.label.cuda()-1)\n",
    "        \n",
    "        output = model(text)\n",
    "        \n",
    "        pred = output.argmax(dim=1)\n",
    "        pred = torch.sum(pred == label)\n",
    "        running_hit += pred.item()\n",
    "    print(running_hit/len(train))"
   ]
  },
  {
   "cell_type": "code",
   "execution_count": 207,
   "metadata": {},
   "outputs": [
    {
     "name": "stderr",
     "output_type": "stream",
     "text": [
      "100%|████████████████████████████████████████████████████████████████████████████████████| 4/4 [00:00<00:00, 76.93it/s]"
     ]
    },
    {
     "name": "stdout",
     "output_type": "stream",
     "text": [
      "0.08411214953271028\n"
     ]
    },
    {
     "name": "stderr",
     "output_type": "stream",
     "text": [
      "\n"
     ]
    }
   ],
   "source": [
    "model.eval()\n",
    "with torch.no_grad():\n",
    "    running_hit = 0.0\n",
    "    for data in tqdm(test_iter):\n",
    "        text = data.text[0].cuda()\n",
    "        label = (data.label.cuda()-1)\n",
    "        \n",
    "        output = model(text)\n",
    "        \n",
    "        pred = output.argmax(dim=1)\n",
    "        pred = torch.sum(pred == label)\n",
    "        running_hit += pred.item()\n",
    "    print(running_hit/len(test))"
   ]
  },
  {
   "cell_type": "code",
   "execution_count": 208,
   "metadata": {},
   "outputs": [],
   "source": [
    "torch.save(model.state_dict(),'textcnn.pth')"
   ]
  },
  {
   "cell_type": "code",
   "execution_count": null,
   "metadata": {},
   "outputs": [],
   "source": []
  }
 ],
 "metadata": {
  "kernelspec": {
   "display_name": "Python 3",
   "language": "python",
   "name": "python3"
  },
  "language_info": {
   "codemirror_mode": {
    "name": "ipython",
    "version": 3
   },
   "file_extension": ".py",
   "mimetype": "text/x-python",
   "name": "python",
   "nbconvert_exporter": "python",
   "pygments_lexer": "ipython3",
   "version": "3.6.5"
  }
 },
 "nbformat": 4,
 "nbformat_minor": 2
}
