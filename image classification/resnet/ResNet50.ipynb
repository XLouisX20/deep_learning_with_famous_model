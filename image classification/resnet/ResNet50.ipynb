{
 "cells": [
  {
   "cell_type": "code",
   "execution_count": 1,
   "metadata": {},
   "outputs": [],
   "source": [
    "import torch\n",
    "from torch import nn\n",
    "import torchvision\n",
    "from torchvision import transforms\n",
    "from tqdm import tqdm"
   ]
  },
  {
   "cell_type": "code",
   "execution_count": 2,
   "metadata": {},
   "outputs": [],
   "source": [
    "preprocess = transforms.Compose([\n",
    "    transforms.Resize((224,224)),\n",
    "    transforms.ToTensor()\n",
    "])"
   ]
  },
  {
   "cell_type": "code",
   "execution_count": 4,
   "metadata": {},
   "outputs": [],
   "source": [
    "datas = torchvision.datasets.ImageFolder('D://research/pytorch-implementations/data/animal10/',transform=preprocess)"
   ]
  },
  {
   "cell_type": "code",
   "execution_count": 5,
   "metadata": {},
   "outputs": [],
   "source": [
    "loader = torch.utils.data.DataLoader(datas,batch_size=8,shuffle=True)"
   ]
  },
  {
   "cell_type": "code",
   "execution_count": 5,
   "metadata": {},
   "outputs": [],
   "source": [
    "# model = torchvision.models.resnet50()"
   ]
  },
  {
   "cell_type": "code",
   "execution_count": 6,
   "metadata": {},
   "outputs": [],
   "source": [
    "class ResBlock(nn.Module):\n",
    "    \n",
    "    def __init__(self, input_dim, block_dim):\n",
    "        super(ResBlock, self).__init__()\n",
    "        self.input_dim = input_dim\n",
    "        self.output_dim = block_dim*4\n",
    "        \n",
    "        self.block = nn.Sequential(\n",
    "            nn.Conv2d(input_dim,block_dim,1,bias=False),\n",
    "            nn.Conv2d(block_dim,block_dim,3,padding=1,bias=False),\n",
    "            nn.Conv2d(block_dim,self.output_dim,1,bias=False)\n",
    "        )\n",
    "        self.downsample = nn.Sequential(\n",
    "            nn.Conv2d(input_dim, self.output_dim, 1,bias=False)\n",
    "        )\n",
    "        \n",
    "    def forward(self, x):\n",
    "        tmp = self.block(x)\n",
    "        if self.input_dim != self.output_dim:\n",
    "            res = self.downsample(x)\n",
    "        else:\n",
    "            res = x\n",
    "        tmp = tmp + res\n",
    "        return tmp"
   ]
  },
  {
   "cell_type": "code",
   "execution_count": 7,
   "metadata": {},
   "outputs": [],
   "source": [
    "class ResNet50(nn.Module):\n",
    "    \n",
    "    def __init__(self):\n",
    "        super(ResNet50, self).__init__()\n",
    "        self.foot = nn.Sequential(\n",
    "            nn.Conv2d(3,64,7,stride=2, padding = 5),\n",
    "            nn.MaxPool2d(3,stride=2)\n",
    "        )\n",
    "        self.block1 = nn.Sequential(\n",
    "            ResBlock(64,64),\n",
    "            ResBlock(256,64),\n",
    "            ResBlock(256,64)\n",
    "        )\n",
    "        self.block2 = nn.Sequential(\n",
    "            ResBlock(256,128),\n",
    "            ResBlock(512,128),\n",
    "            ResBlock(512,128),\n",
    "            ResBlock(512,128),\n",
    "            nn.MaxPool2d(2,2)\n",
    "        )\n",
    "        self.block3 = nn.Sequential(\n",
    "            ResBlock(512,256),\n",
    "            ResBlock(1024,256),\n",
    "            ResBlock(1024,256),\n",
    "            ResBlock(1024,256),\n",
    "            ResBlock(1024,256),\n",
    "            ResBlock(1024,256),\n",
    "            nn.MaxPool2d(2,2)\n",
    "        )\n",
    "        self.block4 = nn.Sequential(\n",
    "            ResBlock(1024,512),\n",
    "            ResBlock(2048,512),\n",
    "            ResBlock(2048,512),\n",
    "            nn.AdaptiveAvgPool2d((1,1))\n",
    "        )\n",
    "        self.fc = nn.Sequential(\n",
    "            nn.Linear(2048,10)\n",
    "        )\n",
    "\n",
    "        \n",
    "    def forward(self, x):\n",
    "        tmp = self.foot(x)\n",
    "        tmp = self.block1(tmp)\n",
    "        tmp = self.block2(tmp)\n",
    "        tmp = self.block3(tmp)\n",
    "        tmp = self.block4(tmp)\n",
    "        tmp = torch.flatten(tmp,start_dim=1)\n",
    "        tmp = self.fc(tmp)\n",
    "\n",
    "        return tmp"
   ]
  },
  {
   "cell_type": "code",
   "execution_count": 8,
   "metadata": {},
   "outputs": [],
   "source": [
    "model = ResNet50().cuda()"
   ]
  },
  {
   "cell_type": "code",
   "execution_count": 9,
   "metadata": {},
   "outputs": [
    {
     "data": {
      "text/plain": [
       "torch.Size([8, 10])"
      ]
     },
     "execution_count": 9,
     "metadata": {},
     "output_type": "execute_result"
    }
   ],
   "source": [
    "model(torch.randn(8,3,224,224).cuda()).shape"
   ]
  },
  {
   "cell_type": "code",
   "execution_count": 10,
   "metadata": {},
   "outputs": [],
   "source": [
    "criterion = nn.CrossEntropyLoss()\n",
    "optim = torch.optim.Adam(model.parameters())"
   ]
  },
  {
   "cell_type": "code",
   "execution_count": 11,
   "metadata": {},
   "outputs": [],
   "source": [
    "epoches = 1"
   ]
  },
  {
   "cell_type": "code",
   "execution_count": null,
   "metadata": {},
   "outputs": [],
   "source": [
    "model.train()\n",
    "training_loss = []\n",
    "for e in range(epoches):\n",
    "    running_loss = 0.0\n",
    "    for data in tqdm(loader):\n",
    "        img, label = data\n",
    "        img = img.cuda()\n",
    "        label = label.cuda()\n",
    "        \n",
    "        output = model(img)\n",
    "        \n",
    "        optim.zero_grad()\n",
    "        loss = criterion(output,label)\n",
    "        loss.backward()\n",
    "        optim.step()\n",
    "            \n",
    "        running_loss += loss.item()\n",
    "    training_loss.append(running_loss/len(datas))\n",
    "    print(f'epoch {e+1}: {running_loss/len(datas)}')"
   ]
  },
  {
   "cell_type": "code",
   "execution_count": 20,
   "metadata": {},
   "outputs": [
    {
     "name": "stderr",
     "output_type": "stream",
     "text": [
      "100%|██████████████████████████████████████████████████████████████████████████████| 3273/3273 [04:59<00:00, 10.93it/s]"
     ]
    },
    {
     "name": "stdout",
     "output_type": "stream",
     "text": [
      "0.16413919553840864\n"
     ]
    },
    {
     "name": "stderr",
     "output_type": "stream",
     "text": [
      "\n"
     ]
    }
   ],
   "source": [
    "model.eval()\n",
    "with torch.no_grad():\n",
    "    running_hit = 0.0\n",
    "    for data in tqdm(loader):\n",
    "        img, label = data\n",
    "        img = img.cuda()\n",
    "        \n",
    "        output = model(img)\n",
    "        output = output.detach().cpu()\n",
    "        output = output.argmax(dim=1)\n",
    "        acc = torch.sum(label == output)\n",
    "        running_hit += acc.item()\n",
    "    print(running_hit/len(datas))"
   ]
  },
  {
   "cell_type": "code",
   "execution_count": 21,
   "metadata": {},
   "outputs": [],
   "source": [
    "torch.save(model.state_dict(),'resnet.pth')"
   ]
  },
  {
   "cell_type": "code",
   "execution_count": 12,
   "metadata": {},
   "outputs": [
    {
     "data": {
      "text/plain": [
       "IncompatibleKeys(missing_keys=[], unexpected_keys=[])"
      ]
     },
     "execution_count": 12,
     "metadata": {},
     "output_type": "execute_result"
    }
   ],
   "source": [
    "model.load_state_dict(torch.load('resnet.pth'))"
   ]
  },
  {
   "cell_type": "code",
   "execution_count": 22,
   "metadata": {},
   "outputs": [],
   "source": [
    "# Netron 檢查\n",
    "torch.onnx.export(model.cpu(),torch.randn(1,3,224,224),'a.onnx')"
   ]
  },
  {
   "cell_type": "code",
   "execution_count": null,
   "metadata": {},
   "outputs": [],
   "source": []
  }
 ],
 "metadata": {
  "kernelspec": {
   "display_name": "Python 3.11.4 ('pytorch_implementation-d01dM_ad')",
   "language": "python",
   "name": "python3"
  },
  "language_info": {
   "codemirror_mode": {
    "name": "ipython",
    "version": 3
   },
   "file_extension": ".py",
   "mimetype": "text/x-python",
   "name": "python",
   "nbconvert_exporter": "python",
   "pygments_lexer": "ipython3",
   "version": "3.11.4"
  },
  "vscode": {
   "interpreter": {
    "hash": "e9a0f5bc210cc2fd6db4126ab49b4d48087584897d11cdd399640c3fb0a9b61d"
   }
  }
 },
 "nbformat": 4,
 "nbformat_minor": 2
}
