{
 "cells": [
  {
   "cell_type": "code",
   "execution_count": 15,
   "metadata": {},
   "outputs": [],
   "source": [
    "import torch\n",
    "from torch import nn\n",
    "import torch.nn.functional as F\n",
    "import torchvision\n",
    "from torchvision import transforms\n",
    "from tqdm import tqdm\n",
    "import matplotlib.pyplot as plt"
   ]
  },
  {
   "cell_type": "code",
   "execution_count": 16,
   "metadata": {},
   "outputs": [],
   "source": [
    "preprocess = transforms.Compose([\n",
    "    transforms.RandomHorizontalFlip(),\n",
    "    transforms.Resize((224,224)),\n",
    "    transforms.ToTensor()\n",
    "])"
   ]
  },
  {
   "cell_type": "code",
   "execution_count": 17,
   "metadata": {},
   "outputs": [],
   "source": [
    "dataset = torchvision.datasets.ImageFolder('D://research/pytorch-implementations/data/animal10/', transform=preprocess)"
   ]
  },
  {
   "cell_type": "code",
   "execution_count": 18,
   "metadata": {},
   "outputs": [],
   "source": [
    "batch_size = 16"
   ]
  },
  {
   "cell_type": "code",
   "execution_count": 19,
   "metadata": {},
   "outputs": [],
   "source": [
    "loader = torch.utils.data.DataLoader(dataset, batch_size=batch_size, shuffle=True, drop_last=True)"
   ]
  },
  {
   "cell_type": "code",
   "execution_count": 20,
   "metadata": {},
   "outputs": [],
   "source": [
    "class ConvBlock(nn.Module):\n",
    "    def __init__(self, input_channel: int, output_channel: int, kernel_size: int = 3, stride: int = 1, padding: int = 0, enable_relu: bool = True):\n",
    "        super(ConvBlock, self).__init__()\n",
    "        self.enable_relu = enable_relu\n",
    "        self.block = nn.Sequential(\n",
    "            nn.Conv2d(input_channel, output_channel, kernel_size, stride=stride, padding=padding, bias=False),\n",
    "            nn.BatchNorm2d(output_channel),\n",
    "        )\n",
    "        \n",
    "    def forward(self, x: torch.Tensor) -> torch.Tensor:\n",
    "        y = self.block(x)\n",
    "        \n",
    "        return F.relu(y, inplace=True) if self.enable_relu else y"
   ]
  },
  {
   "cell_type": "code",
   "execution_count": 21,
   "metadata": {},
   "outputs": [],
   "source": [
    "class ResBlock(nn.Module):\n",
    "    \n",
    "    def __init__(self, input_channel: int, block_base_channel: int):\n",
    "        super(ResBlock, self).__init__()\n",
    "        equal_channel_size = input_channel == block_base_channel * 4\n",
    "    \n",
    "        self.block = nn.Sequential(\n",
    "            ConvBlock(input_channel, block_base_channel, 1),\n",
    "            ConvBlock(block_base_channel, block_base_channel, 3, padding = 1),\n",
    "            ConvBlock(block_base_channel, block_base_channel * 4, 1)\n",
    "        )\n",
    "        \n",
    "        self.downsample = nn.Identity() if equal_channel_size else nn.Sequential(\n",
    "            ConvBlock(input_channel, block_base_channel * 4, 1)\n",
    "        )\n",
    "        \n",
    "    def forward(self, x: torch.Tensor) -> torch.Tensor:\n",
    "        return self.block(x) + self.downsample(x)"
   ]
  },
  {
   "cell_type": "code",
   "execution_count": 22,
   "metadata": {},
   "outputs": [],
   "source": [
    "class ResNet50(nn.Module):\n",
    "    \n",
    "    def __init__(self):\n",
    "        super(ResNet50, self).__init__()\n",
    "        self.foot = nn.Sequential(\n",
    "            nn.Conv2d(3, 64, 7, stride=2, padding = 3, bias=False),\n",
    "            nn.BatchNorm2d(64),\n",
    "            nn.MaxPool2d(3, stride=2)\n",
    "        )\n",
    "        self.block1 = nn.Sequential(\n",
    "            ResBlock(64, 64),\n",
    "            ResBlock(256, 64),\n",
    "            ResBlock(256, 64)\n",
    "        )\n",
    "        self.block2 = nn.Sequential(\n",
    "            ResBlock(256,128),\n",
    "            ResBlock(512,128),\n",
    "            ResBlock(512,128),\n",
    "            ResBlock(512,128),\n",
    "            nn.MaxPool2d(2,2)\n",
    "        )\n",
    "        self.block3 = nn.Sequential(\n",
    "            ResBlock(512,256),\n",
    "            ResBlock(1024,256),\n",
    "            ResBlock(1024,256),\n",
    "            ResBlock(1024,256),\n",
    "            ResBlock(1024,256),\n",
    "            ResBlock(1024,256),\n",
    "            nn.MaxPool2d(2,2)\n",
    "        )\n",
    "        self.block4 = nn.Sequential(\n",
    "            ResBlock(1024,512),\n",
    "            ResBlock(2048,512),\n",
    "            ResBlock(2048,512),\n",
    "            nn.AdaptiveAvgPool2d((1,1))\n",
    "        )\n",
    "        self.fc = nn.Sequential(\n",
    "            nn.Linear(2048,10)\n",
    "        )\n",
    "\n",
    "        \n",
    "    def forward(self, x):\n",
    "        tmp = self.foot(x)\n",
    "        tmp = self.block1(tmp)\n",
    "        tmp = self.block2(tmp)\n",
    "        tmp = self.block3(tmp)\n",
    "        tmp = self.block4(tmp)\n",
    "        tmp = torch.flatten(tmp,start_dim=1)\n",
    "        tmp = self.fc(tmp)\n",
    "\n",
    "        return tmp"
   ]
  },
  {
   "cell_type": "code",
   "execution_count": 23,
   "metadata": {},
   "outputs": [],
   "source": [
    "model = ResNet50().cuda()"
   ]
  },
  {
   "cell_type": "code",
   "execution_count": 24,
   "metadata": {},
   "outputs": [
    {
     "data": {
      "text/plain": [
       "torch.Size([16, 10])"
      ]
     },
     "execution_count": 24,
     "metadata": {},
     "output_type": "execute_result"
    }
   ],
   "source": [
    "model.eval()\n",
    "model(torch.randn(batch_size, 3, 224, 224).cuda()).shape"
   ]
  },
  {
   "cell_type": "code",
   "execution_count": 25,
   "metadata": {},
   "outputs": [],
   "source": [
    "criterion = nn.CrossEntropyLoss()\n",
    "optim = torch.optim.Adam(model.parameters())"
   ]
  },
  {
   "cell_type": "code",
   "execution_count": 26,
   "metadata": {},
   "outputs": [],
   "source": [
    "epoches = 3\n",
    "acc_iters = 64/batch_size"
   ]
  },
  {
   "cell_type": "code",
   "execution_count": 31,
   "metadata": {},
   "outputs": [
    {
     "name": "stderr",
     "output_type": "stream",
     "text": [
      "100%|██████████| 1636/1636 [02:46<00:00,  9.85it/s]\n"
     ]
    },
    {
     "name": "stdout",
     "output_type": "stream",
     "text": [
      "epoch 1: 0.031197044215895756\n"
     ]
    },
    {
     "name": "stderr",
     "output_type": "stream",
     "text": [
      "100%|██████████| 1636/1636 [02:44<00:00,  9.94it/s]\n"
     ]
    },
    {
     "name": "stdout",
     "output_type": "stream",
     "text": [
      "epoch 2: 0.029328144801310064\n"
     ]
    },
    {
     "name": "stderr",
     "output_type": "stream",
     "text": [
      "100%|██████████| 1636/1636 [02:43<00:00, 10.03it/s]"
     ]
    },
    {
     "name": "stdout",
     "output_type": "stream",
     "text": [
      "epoch 3: 0.028946732354767933\n"
     ]
    },
    {
     "name": "stderr",
     "output_type": "stream",
     "text": [
      "\n"
     ]
    }
   ],
   "source": [
    "model.train()\n",
    "training_loss = []\n",
    "for e in range(epoches):\n",
    "    running_loss = 0.0\n",
    "    acc_iter = 0\n",
    "    \n",
    "    for img, label in tqdm(loader):\n",
    "        optim.zero_grad()\n",
    "\n",
    "        img = img.cuda()\n",
    "        label = label.cuda()\n",
    "        \n",
    "        output = model(img)\n",
    "        loss = criterion(output,label)\n",
    "        loss /= acc_iters\n",
    "\n",
    "        running_loss += loss.item()\n",
    "        acc_iter += 1\n",
    "\n",
    "        if acc_iter % acc_iters == 0:\n",
    "            loss.backward()\n",
    "            optim.step()\n",
    "\n",
    "    training_loss.append(running_loss/len(dataset))\n",
    "    \n",
    "    print(f'epoch {e+1}: {training_loss[e]}')"
   ]
  },
  {
   "cell_type": "code",
   "execution_count": 32,
   "metadata": {},
   "outputs": [
    {
     "data": {
      "text/plain": [
       "[<matplotlib.lines.Line2D at 0x204b96182d0>]"
      ]
     },
     "execution_count": 32,
     "metadata": {},
     "output_type": "execute_result"
    },
    {
     "data": {
      "image/png": "[encoded data removed]",
      "text/plain": [
       "<Figure size 640x480 with 1 Axes>"
      ]
     },
     "metadata": {},
     "output_type": "display_data"
    }
   ],
   "source": [
    "plt.plot(training_loss)"
   ]
  },
  {
   "cell_type": "code",
   "execution_count": 33,
   "metadata": {},
   "outputs": [
    {
     "name": "stderr",
     "output_type": "stream",
     "text": [
      "100%|██████████| 1636/1636 [02:25<00:00, 11.28it/s]"
     ]
    },
    {
     "name": "stdout",
     "output_type": "stream",
     "text": [
      "0.37560640207800144\n"
     ]
    },
    {
     "name": "stderr",
     "output_type": "stream",
     "text": [
      "\n"
     ]
    }
   ],
   "source": [
    "model.eval()\n",
    "with torch.no_grad():\n",
    "    running_hit = 0.0\n",
    "\n",
    "    for img, label in tqdm(loader):\n",
    "        img = img.cuda()\n",
    "        \n",
    "        output = model(img)\n",
    "        output = output.detach().cpu()\n",
    "        img = img.detach().cpu()\n",
    "\n",
    "        output = output.argmax(dim=1)\n",
    "        acc = (label == output).sum()\n",
    "        running_hit += acc.item()\n",
    "\n",
    "    print(running_hit/len(dataset))"
   ]
  },
  {
   "cell_type": "code",
   "execution_count": 34,
   "metadata": {},
   "outputs": [],
   "source": [
    "torch.save(model,'resnet.pth')"
   ]
  },
  {
   "cell_type": "code",
   "execution_count": 38,
   "metadata": {},
   "outputs": [
    {
     "data": {
      "text/plain": [
       "90.10343742370605"
      ]
     },
     "execution_count": 38,
     "metadata": {},
     "output_type": "execute_result"
    }
   ],
   "source": [
    "import os\n",
    "os.stat('resnet.pth').st_size / 1024**2"
   ]
  },
  {
   "cell_type": "code",
   "execution_count": 12,
   "metadata": {},
   "outputs": [
    {
     "data": {
      "text/plain": [
       "IncompatibleKeys(missing_keys=[], unexpected_keys=[])"
      ]
     },
     "execution_count": 12,
     "metadata": {},
     "output_type": "execute_result"
    }
   ],
   "source": [
    "model = torch.load('resnet.pth')"
   ]
  },
  {
   "cell_type": "code",
   "execution_count": 22,
   "metadata": {},
   "outputs": [],
   "source": [
    "# Netron 檢查\n",
    "torch.onnx.export(model.cpu(),torch.randn(1,3,224,224),'a.onnx')"
   ]
  },
  {
   "cell_type": "code",
   "execution_count": null,
   "metadata": {},
   "outputs": [],
   "source": []
  }
 ],
 "metadata": {
  "kernelspec": {
   "display_name": "Python 3.11.4 ('pytorch_implementation-d01dM_ad')",
   "language": "python",
   "name": "python3"
  },
  "language_info": {
   "codemirror_mode": {
    "name": "ipython",
    "version": 3
   },
   "file_extension": ".py",
   "mimetype": "text/x-python",
   "name": "python",
   "nbconvert_exporter": "python",
   "pygments_lexer": "ipython3",
   "version": "3.11.4"
  },
  "vscode": {
   "interpreter": {
    "hash": "e9a0f5bc210cc2fd6db4126ab49b4d48087584897d11cdd399640c3fb0a9b61d"
   }
  }
 },
 "nbformat": 4,
 "nbformat_minor": 2
}
