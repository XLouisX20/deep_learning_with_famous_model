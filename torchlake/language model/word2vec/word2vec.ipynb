{
  "cells": [
    {
      "cell_type": "code",
      "execution_count": 1,
      "metadata": {
        "id": "d7sKSxZC0mlq"
      },
      "outputs": [],
      "source": [
        "import torch\n",
        "import torchtext\n",
        "\n",
        "import torchtext.transforms as T\n",
        "import torchtext.functional as F\n",
        "\n",
        "import matplotlib.pyplot as plt\n",
        "from typing import List, Callable\n",
        "from functools import lru_cache\n",
        "from enum import Enum\n",
        "import json\n",
        "from pathlib import Path\n",
        "from tqdm import tqdm\n",
        "import numpy as np\n",
        "from collections import Counter\n",
        "from torch import nn,optim\n",
        "from torch.utils.data import DataLoader\n",
        "from torchtext.data.utils import get_tokenizer, ngrams_iterator\n",
        "from torchtext.datasets import WikiText2, WikiText103\n",
        "from torchtext.vocab import build_vocab_from_iterator"
      ]
    },
    {
      "cell_type": "code",
      "execution_count": 2,
      "metadata": {
        "id": "enpYe6zqMT0u"
      },
      "outputs": [],
      "source": [
        "import nltk\n",
        "from nltk.corpus import stopwords"
      ]
    },
    {
      "cell_type": "code",
      "execution_count": 3,
      "metadata": {
        "colab": {
          "base_uri": "https://localhost:8080/",
          "height": 35
        },
        "id": "Gcf1yr-Y0mls",
        "outputId": "d5f96f63-22d9-4857-d230-af686ab5df12"
      },
      "outputs": [
        {
          "data": {
            "text/plain": [
              "'2.1.0+cu118'"
            ]
          },
          "execution_count": 3,
          "metadata": {},
          "output_type": "execute_result"
        }
      ],
      "source": [
        "torch.__version__"
      ]
    },
    {
      "cell_type": "code",
      "execution_count": 4,
      "metadata": {
        "colab": {
          "base_uri": "https://localhost:8080/",
          "height": 35
        },
        "id": "Iz1byBBS0mlu",
        "outputId": "7057b39e-a226-43ce-97ee-4e54f9f5cf31"
      },
      "outputs": [
        {
          "data": {
            "text/plain": [
              "'0.16.0+cpu'"
            ]
          },
          "execution_count": 4,
          "metadata": {},
          "output_type": "execute_result"
        }
      ],
      "source": [
        "torchtext.__version__"
      ]
    },
    {
      "cell_type": "code",
      "execution_count": 5,
      "metadata": {
        "colab": {
          "base_uri": "https://localhost:8080/",
          "height": 35
        },
        "id": "9jFYJU3pMW9d",
        "outputId": "526676a4-9821-4b65-a127-38f44772f808"
      },
      "outputs": [
        {
          "data": {
            "text/plain": [
              "'3.8.1'"
            ]
          },
          "execution_count": 5,
          "metadata": {},
          "output_type": "execute_result"
        }
      ],
      "source": [
        "nltk.__version__"
      ]
    },
    {
      "cell_type": "code",
      "execution_count": 3,
      "metadata": {
        "id": "-hK_NMU_0mlu"
      },
      "outputs": [],
      "source": [
        "import os\n",
        "os.makedirs(\"models\", exist_ok=True)\n",
        "os.makedirs(\"artifacts\", exist_ok=True)"
      ]
    },
    {
      "cell_type": "code",
      "execution_count": 461,
      "metadata": {
        "colab": {
          "base_uri": "https://localhost:8080/"
        },
        "id": "kOoGvgvxNh29",
        "outputId": "72485ea2-e53e-4293-c12a-44da7374127b"
      },
      "outputs": [
        {
          "name": "stderr",
          "output_type": "stream",
          "text": [
            "[nltk_data] Downloading package stopwords to\n",
            "[nltk_data]     C:\\Users\\User\\AppData\\Roaming\\nltk_data...\n",
            "[nltk_data]   Unzipping corpora\\stopwords.zip.\n"
          ]
        },
        {
          "data": {
            "text/plain": [
              "True"
            ]
          },
          "execution_count": 461,
          "metadata": {},
          "output_type": "execute_result"
        }
      ],
      "source": [
        "nltk.download('stopwords')"
      ]
    },
    {
      "cell_type": "code",
      "execution_count": null,
      "metadata": {
        "colab": {
          "base_uri": "https://localhost:8080/"
        },
        "id": "QCZWXyw1NdoQ",
        "outputId": "22e86648-62d3-47cf-f603-a6c2cf855bab"
      },
      "outputs": [
        {
          "data": {
            "text/plain": [
              "['i', 'me', 'my', 'myself', 'we', 'our', 'ours', 'ourselves', 'you', \"you're\"]"
            ]
          },
          "execution_count": 64,
          "metadata": {},
          "output_type": "execute_result"
        }
      ],
      "source": [
        "stopwords.words('english')[:10]"
      ]
    },
    {
      "cell_type": "markdown",
      "metadata": {
        "id": "dQC-kmj40mlv"
      },
      "source": [
        "# input\n"
      ]
    },
    {
      "cell_type": "code",
      "execution_count": 4,
      "metadata": {},
      "outputs": [],
      "source": [
        "unk_idex = 0\n",
        "bos_idx = 1\n",
        "eos_idx = 2\n",
        "padding_idx = 3\n",
        "max_seq_len = 256"
      ]
    },
    {
      "cell_type": "code",
      "execution_count": 5,
      "metadata": {},
      "outputs": [],
      "source": [
        "batch_size = 128\n",
        "context_size = 5\n",
        "min_frequency = 5"
      ]
    },
    {
      "cell_type": "code",
      "execution_count": 6,
      "metadata": {},
      "outputs": [],
      "source": [
        "artifact_path = Path(\"artifacts/wikitext2\")"
      ]
    },
    {
      "cell_type": "code",
      "execution_count": 7,
      "metadata": {},
      "outputs": [],
      "source": [
        "tokenizer = get_tokenizer('basic_english')"
      ]
    },
    {
      "cell_type": "code",
      "execution_count": 8,
      "metadata": {},
      "outputs": [],
      "source": [
        "def drop_title(text: str) -> bool:\n",
        "    return not text.startswith(\"=\") and not text.endswith(\"=\")"
      ]
    },
    {
      "cell_type": "code",
      "execution_count": 9,
      "metadata": {
        "id": "xe3rFxuX0ml6"
      },
      "outputs": [],
      "source": [
        "def drop_short_text(tokens: list[str], context_size: int = 1) -> bool:\n",
        "    return len(tokens) >= context_size"
      ]
    },
    {
      "cell_type": "code",
      "execution_count": 10,
      "metadata": {
        "id": "6HlGYspjMoIu"
      },
      "outputs": [],
      "source": [
        "def drop_keywords(text: str, keywords: list[str]):\n",
        "    return [word for word in text if word not in keywords]"
      ]
    },
    {
      "cell_type": "code",
      "execution_count": 11,
      "metadata": {
        "id": "VjIy_PjO0ml6"
      },
      "outputs": [],
      "source": [
        "def datapipe_factory(datapipe, context_size: int = 1, transform = None):\n",
        "    datapipe = (\n",
        "        datapipe\n",
        "        .map(lambda text: text.strip())\n",
        "        .map(lambda text: text.lower())\n",
        "        .filter(lambda text: bool(text))\n",
        "        # .filter(drop_title)\n",
        "        .map(tokenizer)\n",
        "        # .map(lambda text: drop_keywords(text, stopwords.words('english')))\n",
        "        .filter(lambda tokens: drop_short_text(tokens, context_size))\n",
        "#         .batch(batch_size)\n",
        "        # .map(text_transform)\n",
        "#         .map(lambda text: F.to_tensor(text, padding_value=padding_idx))\n",
        "    )\n",
        "\n",
        "    if transform:\n",
        "      datapipe = datapipe.map(transform)\n",
        "\n",
        "    return datapipe"
      ]
    },
    {
      "cell_type": "code",
      "execution_count": 12,
      "metadata": {
        "id": "eGd_f6M00ml7"
      },
      "outputs": [],
      "source": [
        "def get_context(batch: list, context_size: int = 5):\n",
        "    \"\"\"\n",
        "    Args:\n",
        "        batch: shape(batch_size, max_seq_len)\n",
        "\n",
        "    Return:\n",
        "        gram, context\n",
        "    \"\"\"\n",
        "    new_batch = []\n",
        "\n",
        "    # half_size\n",
        "    half_size = context_size // 2\n",
        "    if context_size < 3:\n",
        "        raise ValueError(\"context size is too small.\")\n",
        "    elif context_size % 2 == 0:\n",
        "        raise ValueError(\"context size should be odd.\")\n",
        "\n",
        "    for item in batch:\n",
        "        gram_placeholder, context_placeholder = [], []\n",
        "        for index in range(half_size, len(item) - half_size, 1):\n",
        "            gram = item[index: index+1]\n",
        "            context = item[index-half_size:index+half_size+1]\n",
        "            context.pop(half_size)\n",
        "            gram_placeholder.append(gram)\n",
        "            context_placeholder.append(context)\n",
        "\n",
        "        # debug\n",
        "        if not gram_placeholder:\n",
        "            print(item)\n",
        "\n",
        "        gram_placeholder = torch.Tensor(gram_placeholder).long()\n",
        "        context_placeholder = torch.Tensor(context_placeholder).long()\n",
        "        new_batch.append([gram_placeholder, context_placeholder])\n",
        "\n",
        "    return new_batch"
      ]
    },
    {
      "cell_type": "code",
      "execution_count": 13,
      "metadata": {
        "id": "IJsLMBXd0ml5"
      },
      "outputs": [],
      "source": [
        "train_datapipe, val_datapipe, test_datapipe = WikiText2(\"./data\")"
      ]
    },
    {
      "cell_type": "code",
      "execution_count": 14,
      "metadata": {
        "colab": {
          "base_uri": "https://localhost:8080/"
        },
        "id": "ZDQE8SdK0ml5",
        "outputId": "25f19425-0b0b-4158-f7c5-a5e4281e10a4"
      },
      "outputs": [
        {
          "name": "stderr",
          "output_type": "stream",
          "text": [
            "d:\\research\\pytorch-implementations\\.venv\\Lib\\site-packages\\torch\\utils\\data\\datapipes\\utils\\common.py:141: UserWarning: Local function is not supported by pickle, please use regular python function or functools.partial instead.\n",
            "  warnings.warn(\n"
          ]
        }
      ],
      "source": [
        "vocab = build_vocab_from_iterator(datapipe_factory(train_datapipe, context_size), specials=[\"<unk>\", \"<bos>\", \"<eos>\", \"<pad>\"], min_freq=min_frequency)\n",
        "vocab.set_default_index(vocab[\"<unk>\"])"
      ]
    },
    {
      "cell_type": "code",
      "execution_count": 15,
      "metadata": {
        "colab": {
          "base_uri": "https://localhost:8080/"
        },
        "id": "RqRnU0X5LK_4",
        "outputId": "0a76e030-c72c-4d2e-c5ad-1739d9f3e932"
      },
      "outputs": [
        {
          "name": "stdout",
          "output_type": "stream",
          "text": [
            "vocab size: 20382\n"
          ]
        }
      ],
      "source": [
        "print(\"vocab size:\", len(vocab))"
      ]
    },
    {
      "cell_type": "code",
      "execution_count": 352,
      "metadata": {
        "colab": {
          "base_uri": "https://localhost:8080/"
        },
        "id": "39QfrYufkefY",
        "outputId": "fdc52a35-2910-4d6c-fb09-a074df56d240"
      },
      "outputs": [
        {
          "data": {
            "text/plain": [
              "225881"
            ]
          },
          "execution_count": 352,
          "metadata": {},
          "output_type": "execute_result"
        }
      ],
      "source": [
        "artifact_path.joinpath(\"vocab.json\").write_text(json.dumps(list(vocab.get_stoi().keys())))"
      ]
    },
    {
      "cell_type": "code",
      "execution_count": 174,
      "metadata": {
        "colab": {
          "base_uri": "https://localhost:8080/"
        },
        "id": "h5eL12nFLH_M",
        "outputId": "60f7e4e4-09ef-41b6-e388-7079bc5f6c46"
      },
      "outputs": [
        {
          "data": {
            "text/plain": [
              "['<unk>',\n",
              " '<bos>',\n",
              " '<eos>',\n",
              " '<pad>',\n",
              " 'the',\n",
              " ',',\n",
              " '.',\n",
              " 'of',\n",
              " 'and',\n",
              " 'in',\n",
              " 'to',\n",
              " 'a',\n",
              " 'was',\n",
              " \"'\",\n",
              " '@-@',\n",
              " 'on',\n",
              " 'as',\n",
              " 's',\n",
              " 'that',\n",
              " 'for']"
            ]
          },
          "execution_count": 174,
          "metadata": {},
          "output_type": "execute_result"
        }
      ],
      "source": [
        "vocab.lookup_tokens(range(20))"
      ]
    },
    {
      "cell_type": "code",
      "execution_count": 16,
      "metadata": {
        "id": "VXZtp3Xk0ml5"
      },
      "outputs": [],
      "source": [
        "text_transform = T.Sequential(\n",
        "    T.VocabTransform(vocab),\n",
        "    T.Truncate(max_seq_len - 2),\n",
        "    T.AddToken(token=bos_idx, begin=True),\n",
        "    T.AddToken(token=eos_idx, begin=False),\n",
        ")"
      ]
    },
    {
      "cell_type": "code",
      "execution_count": 17,
      "metadata": {
        "id": "1q159o50PHMf"
      },
      "outputs": [],
      "source": [
        "train_datapipe = datapipe_factory(\n",
        "    train_datapipe,\n",
        "    context_size,\n",
        "    text_transform,\n",
        ")\n",
        "\n",
        "val_datapipe = datapipe_factory(\n",
        "    val_datapipe,\n",
        "    context_size,\n",
        "    text_transform,\n",
        ")\n",
        "\n",
        "test_datapipe = datapipe_factory(\n",
        "    test_datapipe,\n",
        "    context_size,\n",
        "    text_transform,\n",
        ")"
      ]
    },
    {
      "cell_type": "code",
      "execution_count": 18,
      "metadata": {
        "id": "DL2__1kp0ml8"
      },
      "outputs": [],
      "source": [
        "train_dataloader = DataLoader(\n",
        "    train_datapipe,\n",
        "    batch_size=batch_size,\n",
        "    collate_fn=lambda data: get_context(data, context_size),\n",
        ")\n",
        "\n",
        "val_dataloader = DataLoader(\n",
        "    val_datapipe,\n",
        "    batch_size=batch_size,\n",
        "    collate_fn=lambda data: get_context(data, context_size),\n",
        ")\n",
        "\n",
        "test_dataloader = DataLoader(\n",
        "    test_datapipe,\n",
        "    batch_size=batch_size,\n",
        "    collate_fn=lambda data: get_context(data, context_size),\n",
        ")"
      ]
    },
    {
      "cell_type": "code",
      "execution_count": 167,
      "metadata": {
        "id": "oz2f4qOd0ml7"
      },
      "outputs": [],
      "source": [
        "# check context size\n",
        "# for data in train_datapipe:\n",
        "#     if len(data) < 5:\n",
        "#         print(data)\n",
        "#         break"
      ]
    },
    {
      "cell_type": "code",
      "execution_count": 180,
      "metadata": {
        "colab": {
          "base_uri": "https://localhost:8080/"
        },
        "id": "sd9gWgCsLymY",
        "outputId": "6b781224-caf6-461d-fd69-83d9fe50c1dc"
      },
      "outputs": [],
      "source": [
        "# sample\n",
        "# for data in train_datapipe:\n",
        "#     if len(data) > 5:\n",
        "#         print(data)\n",
        "#         print(vocab.lookup_tokens(data))\n",
        "#         break"
      ]
    },
    {
      "cell_type": "code",
      "execution_count": 181,
      "metadata": {
        "colab": {
          "base_uri": "https://localhost:8080/"
        },
        "id": "a42AV49hp6vX",
        "outputId": "49b37f15-c86e-450b-a4ff-2335b471fee0"
      },
      "outputs": [
        {
          "name": "stderr",
          "output_type": "stream",
          "text": [
            "d:\\research\\pytorch-implementations\\.venv\\Lib\\site-packages\\torch\\utils\\data\\datapipes\\iter\\combining.py:333: UserWarning: Some child DataPipes are not exhausted when __iter__ is called. We are resetting the buffer and each child DataPipe will read from the start again.\n",
            "  warnings.warn(\"Some child DataPipes are not exhausted when __iter__ is called. We are resetting \"\n"
          ]
        },
        {
          "data": {
            "text/plain": [
              "1993228"
            ]
          },
          "execution_count": 181,
          "metadata": {},
          "output_type": "execute_result"
        }
      ],
      "source": [
        "# count = 0\n",
        "# for data in train_datapipe:\n",
        "#   count += len(data)\n",
        "# count"
      ]
    },
    {
      "cell_type": "code",
      "execution_count": null,
      "metadata": {
        "colab": {
          "base_uri": "https://localhost:8080/"
        },
        "id": "frdhH6YwqDau",
        "outputId": "05768484-8667-4e4b-8add-6448602de244"
      },
      "outputs": [
        {
          "data": {
            "text/plain": [
              "10780437"
            ]
          },
          "execution_count": 15,
          "metadata": {},
          "output_type": "execute_result"
        }
      ],
      "source": [
        "# number of words in training corpurs\n",
        "# wikitext2 count 1,993,228\n",
        "# wikitext103 count 101,227,641"
      ]
    },
    {
      "cell_type": "code",
      "execution_count": null,
      "metadata": {
        "id": "c2mRhse60ml8"
      },
      "outputs": [],
      "source": [
        "# for batch in train_dataloader:\n",
        "# #     print(len(batch))\n",
        "#     for gram, context in batch:\n",
        "#         if not gram.numel():\n",
        "#             print(gram)\n",
        "#             break\n",
        "#         if not context.numel():\n",
        "#             print(context)\n",
        "#             break\n",
        "# #         print(len(gram), len(context))\n",
        "# #         break\n",
        "#     if not batch:\n",
        "#         break"
      ]
    },
    {
      "cell_type": "markdown",
      "metadata": {
        "id": "L2Dm95bs0ml8"
      },
      "source": [
        "# subsampling\n"
      ]
    },
    {
      "cell_type": "code",
      "execution_count": 19,
      "metadata": {
        "id": "M2BWVL6Czo7K"
      },
      "outputs": [],
      "source": [
        "def subsampling_probability(freqs, t):\n",
        "  return 1 - (t/freqs).sqrt()"
      ]
    },
    {
      "cell_type": "code",
      "execution_count": 20,
      "metadata": {
        "id": "yc2wi6TY0ml8"
      },
      "outputs": [],
      "source": [
        "subsampling_threshold = 1e-5"
      ]
    },
    {
      "cell_type": "code",
      "execution_count": 21,
      "metadata": {
        "id": "Z-T_ZdaC0ml9"
      },
      "outputs": [],
      "source": [
        "counter = Counter()\n",
        "for item in train_datapipe:\n",
        "  counter.update(item)"
      ]
    },
    {
      "cell_type": "code",
      "execution_count": 22,
      "metadata": {
        "id": "3utpjUJa0ml9"
      },
      "outputs": [],
      "source": [
        "word_counts = [counter.get(i, 0) for i in range(len(vocab))]\n",
        "word_counts = torch.LongTensor(word_counts)"
      ]
    },
    {
      "cell_type": "code",
      "execution_count": 23,
      "metadata": {
        "colab": {
          "base_uri": "https://localhost:8080/"
        },
        "id": "8VqVYGMwJpLw",
        "outputId": "0d67fed8-b9ae-468f-d33e-430e9dd776cb"
      },
      "outputs": [
        {
          "data": {
            "text/plain": [
              "True"
            ]
          },
          "execution_count": 23,
          "metadata": {},
          "output_type": "execute_result"
        }
      ],
      "source": [
        "len(word_counts) == len(vocab)"
      ]
    },
    {
      "cell_type": "code",
      "execution_count": 24,
      "metadata": {
        "id": "EFxnmEPyfkqn"
      },
      "outputs": [],
      "source": [
        "word_freqs = word_counts / sum(word_counts)"
      ]
    },
    {
      "cell_type": "code",
      "execution_count": 361,
      "metadata": {
        "colab": {
          "base_uri": "https://localhost:8080/"
        },
        "id": "FmYLnWPTVO-w",
        "outputId": "3ca2ae3a-d3f2-46cb-b189-df69791ce123"
      },
      "outputs": [
        {
          "data": {
            "text/plain": [
              "torch.Size([20382])"
            ]
          },
          "execution_count": 361,
          "metadata": {},
          "output_type": "execute_result"
        }
      ],
      "source": [
        "word_freqs.shape"
      ]
    },
    {
      "cell_type": "code",
      "execution_count": 362,
      "metadata": {
        "colab": {
          "base_uri": "https://localhost:8080/"
        },
        "id": "R9mbblWIfPId",
        "outputId": "eed6c760-2728-4ea0-d798-50b21734949a"
      },
      "outputs": [
        {
          "data": {
            "text/plain": [
              "tensor(1.0000)"
            ]
          },
          "execution_count": 362,
          "metadata": {},
          "output_type": "execute_result"
        }
      ],
      "source": [
        "sum(word_freqs)"
      ]
    },
    {
      "cell_type": "code",
      "execution_count": 363,
      "metadata": {
        "colab": {
          "base_uri": "https://localhost:8080/"
        },
        "id": "73IXZP6f0ml9",
        "outputId": "337f2433-4e4a-4529-aafe-ff3b7a9e1d39"
      },
      "outputs": [
        {
          "data": {
            "text/plain": [
              "tensor(2049228)"
            ]
          },
          "execution_count": 363,
          "metadata": {},
          "output_type": "execute_result"
        }
      ],
      "source": [
        "sum(word_counts)"
      ]
    },
    {
      "cell_type": "code",
      "execution_count": 25,
      "metadata": {
        "id": "Z_AVOBBn0ml9"
      },
      "outputs": [],
      "source": [
        "word_probs = subsampling_probability(word_freqs, subsampling_threshold).maximum(torch.zeros((1)))"
      ]
    },
    {
      "cell_type": "code",
      "execution_count": 26,
      "metadata": {
        "colab": {
          "base_uri": "https://localhost:8080/",
          "height": 466
        },
        "id": "tZqPLdRf0ml-",
        "outputId": "22484b9f-7393-4b09-980c-9bb6d2274120"
      },
      "outputs": [
        {
          "data": {
            "text/plain": [
              "Text(0, 0.5, 'drop probability')"
            ]
          },
          "execution_count": 26,
          "metadata": {},
          "output_type": "execute_result"
        },
        {
          "data": {
            "image/png": "[encoded data removed]",
            "text/plain": [
              "<Figure size 640x480 with 1 Axes>"
            ]
          },
          "metadata": {},
          "output_type": "display_data"
        }
      ],
      "source": [
        "plt.scatter(word_freqs, word_probs)\n",
        "plt.xlabel(\"word frequency\")\n",
        "plt.ylabel(\"drop probability\")"
      ]
    },
    {
      "cell_type": "code",
      "execution_count": 366,
      "metadata": {
        "colab": {
          "base_uri": "https://localhost:8080/"
        },
        "id": "5Pxl0SiKeWV2",
        "outputId": "50b0eb80-284e-4f12-c065-a4c6cadbd926"
      },
      "outputs": [
        {
          "data": {
            "text/plain": [
              "76211"
            ]
          },
          "execution_count": 366,
          "metadata": {},
          "output_type": "execute_result"
        }
      ],
      "source": [
        "# save word frequency\n",
        "artifact_path.joinpath(\"word-count.json\").write_text(json.dumps(word_counts.tolist()))"
      ]
    },
    {
      "cell_type": "code",
      "execution_count": 196,
      "metadata": {
        "id": "3SutljlQ37hh"
      },
      "outputs": [],
      "source": [
        "# load word frequency\n",
        "word_counts = json.loads(artifact_path.joinpath(\"word-count.json\").read_text())\n",
        "word_counts = torch.LongTensor(word_counts)"
      ]
    },
    {
      "cell_type": "markdown",
      "metadata": {
        "id": "p2bks8KU0ml-"
      },
      "source": [
        "# model\n"
      ]
    },
    {
      "cell_type": "code",
      "execution_count": 27,
      "metadata": {
        "id": "2P6TZYlZ0ml-"
      },
      "outputs": [],
      "source": [
        "class SkipGram(nn.Module):\n",
        "\n",
        "    def __init__(self, vocab_size: int, embed_dim: int, context_size: int):\n",
        "        super(SkipGram, self).__init__()\n",
        "        self.context_size = context_size\n",
        "\n",
        "        self.embeddings = nn.Embedding(vocab_size, embed_dim, padding_idx=padding_idx)\n",
        "        self.linear = nn.Linear(embed_dim, vocab_size)\n",
        "\n",
        "    def forward(self, input: torch.Tensor) -> torch.Tensor:\n",
        "        embed = self.embeddings(input).expand(-1, self.context_size-1, -1)\n",
        "        out = self.linear(embed)\n",
        "        return out"
      ]
    },
    {
      "cell_type": "code",
      "execution_count": 28,
      "metadata": {
        "id": "l8M76DVe0ml-"
      },
      "outputs": [],
      "source": [
        "class CBOW(nn.Module):\n",
        "\n",
        "    def __init__(self, vocab_size: int, embed_dim: int):\n",
        "        super(CBOW, self).__init__()\n",
        "\n",
        "        self.embeddings = nn.Embedding(vocab_size, embed_dim, padding_idx=padding_idx)\n",
        "        self.linear = nn.Linear(embed_dim, vocab_size)\n",
        "\n",
        "    def forward(self, input: torch.Tensor) -> torch.Tensor:\n",
        "        embed = self.embeddings(input).sum(dim=1, keepdim=True)\n",
        "        out = self.linear(embed)\n",
        "        return out"
      ]
    },
    {
      "cell_type": "markdown",
      "metadata": {
        "id": "KdVDoSNH0ml-"
      },
      "source": [
        "# loss\n"
      ]
    },
    {
      "cell_type": "code",
      "execution_count": 65,
      "metadata": {
        "id": "kwXUQtqu0ml-"
      },
      "outputs": [],
      "source": [
        "class NegativeSampling(nn.Module):\n",
        "    def __init__(self, device, word_freqs: torch.Tensor, negative_ratio: int = 5, power: float = 0.75):\n",
        "        super(NegativeSampling, self).__init__()\n",
        "        self.device = device\n",
        "        self.negative_ratio = negative_ratio\n",
        "        self.power = power\n",
        "        self.word_freqs = word_freqs\n",
        "        self.distribution = self.get_distribution()\n",
        "        self.loss = nn.BCEWithLogitsLoss()\n",
        "\n",
        "    @lru_cache\n",
        "    def get_distribution(self):\n",
        "        return nn.functional.normalize(self.word_freqs.pow(self.power), p=1, dim=0)\n",
        "\n",
        "    def sample(self, num_negative_samples: int):\n",
        "        noise_distribution = self.get_distribution()\n",
        "        negative_samples = torch.multinomial(noise_distribution, num_negative_samples).to(self.device)\n",
        "\n",
        "        return negative_samples\n",
        "\n",
        "    def forward(self, pred: torch.Tensor, target: torch.Tensor) -> torch.Tensor:\n",
        "        positive_loss = pred.gather(2, target.unsqueeze(2))\n",
        "\n",
        "        num_subseq, positive_size = target.shape\n",
        "        negative_target = self.sample(self.negative_ratio * num_subseq * positive_size).reshape(num_subseq * self.negative_ratio, positive_size)\n",
        "        negative_loss = (1 - pred.repeat(self.negative_ratio, 1, 1).gather(2, negative_target.unsqueeze(2)))\n",
        "\n",
        "        return self.loss(\n",
        "            torch.cat([positive_loss, negative_loss], 0),\n",
        "            torch.cat([torch.ones_like(positive_loss), torch.zeros_like(negative_loss)], 0),\n",
        "        )"
      ]
    },
    {
      "cell_type": "code",
      "execution_count": 66,
      "metadata": {
        "id": "tENNIJ6zQVbD"
      },
      "outputs": [],
      "source": [
        "import heapq\n",
        "\n",
        "class HuffmanNode:\n",
        "    def __init__(self, char, freq, internal_index: int | None = None):\n",
        "        self.char = char\n",
        "        self.freq = freq\n",
        "        self.left = None\n",
        "        self.right = None\n",
        "        self.internal_index = internal_index\n",
        "\n",
        "    def __lt__(self, other):\n",
        "        return self.freq < other.freq\n",
        "\n",
        "    def __str__(self):\n",
        "        return f\"{self.char},{self.freq}\"\n",
        "\n",
        "\n",
        "    def __len__(self):\n",
        "        node = self\n",
        "        count = 1\n",
        "        if node.left:\n",
        "            count += len(node.left)\n",
        "        if node.right:\n",
        "            count += len(node.right)\n",
        "\n",
        "        return count"
      ]
    },
    {
      "cell_type": "code",
      "execution_count": 74,
      "metadata": {
        "id": "qNIVnUDb0ml_"
      },
      "outputs": [],
      "source": [
        "class HierarchicalSoftmax(nn.Module):\n",
        "    def __init__(self, device, word_counts: torch.Tensor, embed_dim: int, vocab_size: int):\n",
        "        super(HierarchicalSoftmax, self).__init__()\n",
        "        self.device = device\n",
        "        self.word_counts = word_counts\n",
        "        self.vocab_size = vocab_size\n",
        "\n",
        "        self.tree = self.build_tree(embed_dim)\n",
        "        self.paths = self.build_huffman_path(self.tree)\n",
        "        self.loss = nn.BCEWithLogitsLoss(reduction=\"sum\")\n",
        "        self.layer = nn.Linear(embed_dim, vocab_size-1).to(device)\n",
        "\n",
        "    def build_tree(self, embed_dim: int):\n",
        "        priority_queue = [HuffmanNode(index, freq.item()) for index, freq in enumerate(self.word_counts)]\n",
        "        heapq.heapify(priority_queue)\n",
        "\n",
        "        internal_index = 0\n",
        "        while len(priority_queue) > 1:\n",
        "          left = heapq.heappop(priority_queue)\n",
        "          right = heapq.heappop(priority_queue)\n",
        "          combined_node = HuffmanNode(None, left.freq + right.freq, internal_index)\n",
        "          combined_node.left = left\n",
        "          combined_node.right = right\n",
        "          internal_index += 1\n",
        "          heapq.heappush(priority_queue, combined_node)\n",
        "\n",
        "        if priority_queue[0].internal_index != (self.vocab_size - 2):\n",
        "          print(\"Size of inner nodes is incorrect.\")\n",
        "\n",
        "        return priority_queue[0]\n",
        "\n",
        "    def build_huffman_path(self, root: HuffmanNode, current_codes: list[int] = [], current_internal_indices: list[int] = [], huffman_codes={},):\n",
        "      if root is not None:\n",
        "          if root.char is not None:\n",
        "              huffman_codes[root.char] = {\n",
        "                 \"code\": torch.Tensor(current_codes).to(self.device),\n",
        "                 \"indices\": torch.LongTensor(current_internal_indices).to(self.device),\n",
        "              }\n",
        "          self.build_huffman_path(root.left, current_codes + [0], current_internal_indices + [root.internal_index], huffman_codes)\n",
        "          self.build_huffman_path(root.right, current_codes + [1], current_internal_indices + [root.internal_index], huffman_codes)\n",
        "      return huffman_codes\n",
        "\n",
        "    def calc_path_loss(self, pred: torch.Tensor, target: torch.Tensor):\n",
        "      node_info = self.paths[target.item()]\n",
        "      indices = node_info['indices']\n",
        "      labels = node_info['code']\n",
        "\n",
        "      return self.loss(pred[indices-1], labels)\n",
        "\n",
        "    def forward(self, embedding: torch.Tensor, target: torch.Tensor):\n",
        "      losses = 0\n",
        "\n",
        "      subseq, _ = target.shape\n",
        "      pred = self.layer(embedding).reshape(-1, self.vocab_size-1) # seq, context, vocab-1\n",
        "\n",
        "      for idx, token in enumerate(target.flatten()):\n",
        "        losses += self.calc_path_loss(pred[idx % subseq], token)\n",
        "\n",
        "      return losses"
      ]
    },
    {
      "cell_type": "code",
      "execution_count": 75,
      "metadata": {
        "id": "Lot6BthUPpNY"
      },
      "outputs": [],
      "source": [
        "# debug\n",
        "# h = HierarchicalSoftmax(\"cpu\", word_counts, 128, len(vocab))"
      ]
    },
    {
      "cell_type": "code",
      "execution_count": 76,
      "metadata": {},
      "outputs": [],
      "source": [
        "# h.paths"
      ]
    },
    {
      "cell_type": "code",
      "execution_count": 77,
      "metadata": {
        "colab": {
          "base_uri": "https://localhost:8080/"
        },
        "id": "N_svddzb98DX",
        "outputId": "d812e798-d083-43ac-f644-37e274c7d6b8"
      },
      "outputs": [
        {
          "data": {
            "text/plain": [
              "tensor(45.2503, grad_fn=<AddBackward0>)"
            ]
          },
          "execution_count": 77,
          "metadata": {},
          "output_type": "execute_result"
        }
      ],
      "source": [
        "# h.forward(\n",
        "#     torch.randint(0, 1, (3, 1, 128)).float(),\n",
        "#     torch.randint(0, 10, (3, 4)).float(),\n",
        "# )"
      ]
    },
    {
      "cell_type": "markdown",
      "metadata": {
        "id": "UY0J9kAYr20R"
      },
      "source": [
        "# Final\n"
      ]
    },
    {
      "cell_type": "code",
      "execution_count": 78,
      "metadata": {
        "id": "zd66AgKrsZPX"
      },
      "outputs": [],
      "source": [
        "class ModelType(Enum):\n",
        "  CBOW = \"CBOW\"\n",
        "  SKIP_GRAM = \"SKIP_GRAM\""
      ]
    },
    {
      "cell_type": "code",
      "execution_count": 79,
      "metadata": {
        "id": "LzlUOmwVsJVZ"
      },
      "outputs": [],
      "source": [
        "class LossType(Enum):\n",
        "  NS = \"NS\"\n",
        "  HS = \"HS\"\n",
        "  CE = \"CE\""
      ]
    },
    {
      "cell_type": "code",
      "execution_count": 80,
      "metadata": {
        "id": "7aI1fAiOrl5t"
      },
      "outputs": [],
      "source": [
        "class Word2Vec(nn.Module):\n",
        "    def __init__(self, vocab_size: int, embed_dim: int, context_size: int, model_type: ModelType, loss_type: LossType = LossType.CE):\n",
        "        super(Word2Vec, self).__init__()\n",
        "        self.model = self.build_model(model_type, loss_type, vocab_size, embed_dim, context_size)\n",
        "\n",
        "    def build_model(self, model_type: ModelType, loss_type:LossType, vocab_size: int, embed_dim: int, context_size: int):\n",
        "      if model_type == ModelType.CBOW:\n",
        "        model = CBOW(vocab_size, embed_dim)\n",
        "      elif model_type == ModelType.SKIP_GRAM:\n",
        "        model = SkipGram(vocab_size, embed_dim, context_size)\n",
        "\n",
        "      if loss_type == LossType.HS:\n",
        "        model.linear = nn.Identity()\n",
        "\n",
        "      return model\n",
        "\n",
        "    @property\n",
        "    def embeddings(self) -> nn.Module:\n",
        "      return self.model.embeddings\n",
        "\n",
        "    @staticmethod\n",
        "    def subsampling(input: torch.Tensor, subsampling_probs: dict[int, float]) -> torch.Tensor:\n",
        "      output = input * torch.bernoulli(subsampling_probs[input])\n",
        "      return output\n",
        "\n",
        "    def forward(self, input: torch.Tensor, word_probs: dict[int, float]|None = None):\n",
        "      if word_probs is not None:\n",
        "        output = self.subsampling(input, word_probs).long()\n",
        "      else:\n",
        "        output = nn.Identity()(input)\n",
        "\n",
        "      return self.model(output)"
      ]
    },
    {
      "cell_type": "markdown",
      "metadata": {
        "id": "Br5_RcSU0ml_"
      },
      "source": [
        "# training\n"
      ]
    },
    {
      "cell_type": "code",
      "execution_count": 51,
      "metadata": {
        "colab": {
          "base_uri": "https://localhost:8080/"
        },
        "id": "iuysaj-R0ml_",
        "outputId": "d06b096a-7242-4570-a7dc-d30c40e16aff"
      },
      "outputs": [
        {
          "data": {
            "text/plain": [
              "20382"
            ]
          },
          "execution_count": 51,
          "metadata": {},
          "output_type": "execute_result"
        }
      ],
      "source": [
        "vocab_size = len(vocab)\n",
        "vocab_size"
      ]
    },
    {
      "cell_type": "code",
      "execution_count": 52,
      "metadata": {
        "id": "ucGutfqLvOXa"
      },
      "outputs": [],
      "source": [
        "embed_dim = 300"
      ]
    },
    {
      "cell_type": "code",
      "execution_count": 53,
      "metadata": {
        "id": "TLupxmPc0ml_"
      },
      "outputs": [],
      "source": [
        "epoches = 20\n",
        "device = torch.device(\"cuda:0\" if torch.cuda.is_available() else \"cpu\")"
      ]
    },
    {
      "cell_type": "code",
      "execution_count": null,
      "metadata": {
        "id": "5JWYx42r0ml_"
      },
      "outputs": [],
      "source": [
        "# input = torch.range(10).long()\n",
        "# model(input)"
      ]
    },
    {
      "cell_type": "markdown",
      "metadata": {
        "id": "_h-1_YPH0ml_"
      },
      "source": [
        "## cross entropy\n"
      ]
    },
    {
      "cell_type": "markdown",
      "metadata": {
        "id": "PuKbk6FlQ6US"
      },
      "source": [
        "### SkipGram\n"
      ]
    },
    {
      "cell_type": "code",
      "execution_count": 54,
      "metadata": {
        "id": "D1sVrxGu0mmE"
      },
      "outputs": [],
      "source": [
        "model = Word2Vec(vocab_size, embed_dim, context_size, ModelType.SKIP_GRAM).to(device)"
      ]
    },
    {
      "cell_type": "code",
      "execution_count": 115,
      "metadata": {
        "id": "5XTK-Pof0mmE"
      },
      "outputs": [],
      "source": [
        "criterion = nn.CrossEntropyLoss()\n",
        "optimizer = optim.SGD(model.parameters(), lr=1e-3)"
      ]
    },
    {
      "cell_type": "code",
      "execution_count": null,
      "metadata": {
        "colab": {
          "base_uri": "https://localhost:8080/"
        },
        "id": "mDuGPI9J0mmF",
        "outputId": "74f4bdba-906c-4666-d7d7-993362e92675"
      },
      "outputs": [],
      "source": [
        "model.train()\n",
        "for epoch in range(epoches):\n",
        "    for batch in tqdm(train_dataloader):\n",
        "        running_loss = 0\n",
        "        optimizer.zero_grad()\n",
        "\n",
        "        for gram, context in batch:\n",
        "            gram = gram.to(device)\n",
        "            context = context.to(device)\n",
        "\n",
        "            pred = model(gram, word_probs.to(device))\n",
        "            loss = criterion(pred.transpose(1,2), context)\n",
        "            running_loss += loss.item()\n",
        "\n",
        "        loss.backward()\n",
        "        optimizer.step()\n",
        "\n",
        "    print(f'Epoch {epoch+1}: {running_loss}')"
      ]
    },
    {
      "cell_type": "code",
      "execution_count": null,
      "metadata": {
        "id": "iUzEdQXd0mmF"
      },
      "outputs": [],
      "source": [
        "torch.save(model, \"models/sg.pth\")"
      ]
    },
    {
      "cell_type": "code",
      "execution_count": 96,
      "metadata": {
        "id": "PaRusaOZ0mmF"
      },
      "outputs": [],
      "source": [
        "model = torch.load(\"models/sg.pth\")"
      ]
    },
    {
      "cell_type": "markdown",
      "metadata": {
        "id": "mTD_ZolX0mmH"
      },
      "source": [
        "### CBOW\n"
      ]
    },
    {
      "cell_type": "code",
      "execution_count": 87,
      "metadata": {
        "id": "k63cX6-D0mmH"
      },
      "outputs": [],
      "source": [
        "model = Word2Vec(vocab_size, embed_dim, context_size, ModelType.CBOW).to(device)"
      ]
    },
    {
      "cell_type": "code",
      "execution_count": 88,
      "metadata": {
        "id": "M-j6UOGF0mmH"
      },
      "outputs": [],
      "source": [
        "criterion = nn.CrossEntropyLoss()\n",
        "optimizer = optim.SGD(model.parameters(), lr=1e-3)"
      ]
    },
    {
      "cell_type": "code",
      "execution_count": null,
      "metadata": {
        "id": "qz4ejle30mmH"
      },
      "outputs": [],
      "source": [
        "model.train()\n",
        "for epoch in range(epoches):\n",
        "    for batch in tqdm(train_dataloader):\n",
        "        running_loss = 0\n",
        "        optimizer.zero_grad()\n",
        "\n",
        "        for gram, context in batch:\n",
        "            context = context.to(device)\n",
        "            gram = gram.to(device)\n",
        "\n",
        "            pred = model(context, word_probs.to(device))\n",
        "            loss = criterion(pred.transpose(1,2), gram)\n",
        "\n",
        "            running_loss += loss.item()\n",
        "\n",
        "        loss.backward()\n",
        "        optimizer.step()\n",
        "\n",
        "    print(f'Epoch {epoch+1}: {running_loss}')"
      ]
    },
    {
      "cell_type": "code",
      "execution_count": null,
      "metadata": {
        "id": "nyekoVbf0mmI"
      },
      "outputs": [],
      "source": [
        "torch.save(model, \"models/cb.pth\")"
      ]
    },
    {
      "cell_type": "code",
      "execution_count": 328,
      "metadata": {
        "id": "xwOZG0830mmI"
      },
      "outputs": [],
      "source": [
        "model = torch.load(\"models/cb.pth\")"
      ]
    },
    {
      "cell_type": "markdown",
      "metadata": {
        "id": "62UKYJJFRDrX"
      },
      "source": [
        "## NS\n"
      ]
    },
    {
      "cell_type": "markdown",
      "metadata": {
        "id": "RGBmJD48PTbw"
      },
      "source": [
        "### SkipGram\n"
      ]
    },
    {
      "cell_type": "code",
      "execution_count": 367,
      "metadata": {
        "id": "vznrmHTXPS4B"
      },
      "outputs": [],
      "source": [
        "model = Word2Vec(vocab_size, embed_dim, context_size, ModelType.SKIP_GRAM).to(device)"
      ]
    },
    {
      "cell_type": "code",
      "execution_count": 118,
      "metadata": {
        "id": "QEmVfMpMPc8N"
      },
      "outputs": [],
      "source": [
        "criterion = NegativeSampling(device, word_freqs)\n",
        "optimizer = optim.SGD(model.parameters(), lr=1e-3)"
      ]
    },
    {
      "cell_type": "code",
      "execution_count": null,
      "metadata": {
        "colab": {
          "base_uri": "https://localhost:8080/"
        },
        "id": "8BKAr9TKPc-R",
        "outputId": "eed67b2f-e319-463c-ab61-5a69aa9c596f"
      },
      "outputs": [
        {
          "name": "stderr",
          "output_type": "stream",
          "text": [
            "180it [01:07,  2.67it/s]\n"
          ]
        },
        {
          "name": "stdout",
          "output_type": "stream",
          "text": [
            "Epoch 1: 36.28033268451691\n"
          ]
        },
        {
          "name": "stderr",
          "output_type": "stream",
          "text": [
            "180it [01:05,  2.75it/s]\n"
          ]
        },
        {
          "name": "stdout",
          "output_type": "stream",
          "text": [
            "Epoch 2: 36.10806864500046\n"
          ]
        },
        {
          "name": "stderr",
          "output_type": "stream",
          "text": [
            "180it [01:05,  2.74it/s]\n"
          ]
        },
        {
          "name": "stdout",
          "output_type": "stream",
          "text": [
            "Epoch 3: 35.804463028907776\n"
          ]
        },
        {
          "name": "stderr",
          "output_type": "stream",
          "text": [
            "180it [01:06,  2.71it/s]\n"
          ]
        },
        {
          "name": "stdout",
          "output_type": "stream",
          "text": [
            "Epoch 4: 35.80097317695618\n"
          ]
        },
        {
          "name": "stderr",
          "output_type": "stream",
          "text": [
            "180it [01:06,  2.71it/s]\n"
          ]
        },
        {
          "name": "stdout",
          "output_type": "stream",
          "text": [
            "Epoch 5: 35.60616582632065\n"
          ]
        },
        {
          "name": "stderr",
          "output_type": "stream",
          "text": [
            "180it [01:06,  2.72it/s]\n"
          ]
        },
        {
          "name": "stdout",
          "output_type": "stream",
          "text": [
            "Epoch 6: 35.54139968752861\n"
          ]
        },
        {
          "name": "stderr",
          "output_type": "stream",
          "text": [
            "180it [01:06,  2.72it/s]\n"
          ]
        },
        {
          "name": "stdout",
          "output_type": "stream",
          "text": [
            "Epoch 7: 35.480569034814835\n"
          ]
        },
        {
          "name": "stderr",
          "output_type": "stream",
          "text": [
            "180it [01:06,  2.73it/s]\n"
          ]
        },
        {
          "name": "stdout",
          "output_type": "stream",
          "text": [
            "Epoch 8: 35.39726656675339\n"
          ]
        },
        {
          "name": "stderr",
          "output_type": "stream",
          "text": [
            "180it [01:05,  2.74it/s]\n"
          ]
        },
        {
          "name": "stdout",
          "output_type": "stream",
          "text": [
            "Epoch 9: 35.207111686468124\n"
          ]
        },
        {
          "name": "stderr",
          "output_type": "stream",
          "text": [
            "180it [01:06,  2.71it/s]\n"
          ]
        },
        {
          "name": "stdout",
          "output_type": "stream",
          "text": [
            "Epoch 10: 35.25894060730934\n"
          ]
        },
        {
          "name": "stderr",
          "output_type": "stream",
          "text": [
            "180it [01:06,  2.73it/s]\n"
          ]
        },
        {
          "name": "stdout",
          "output_type": "stream",
          "text": [
            "Epoch 11: 35.281426042318344\n"
          ]
        },
        {
          "name": "stderr",
          "output_type": "stream",
          "text": [
            "180it [01:06,  2.72it/s]\n"
          ]
        },
        {
          "name": "stdout",
          "output_type": "stream",
          "text": [
            "Epoch 12: 35.08335426449776\n"
          ]
        },
        {
          "name": "stderr",
          "output_type": "stream",
          "text": [
            "180it [01:06,  2.71it/s]\n"
          ]
        },
        {
          "name": "stdout",
          "output_type": "stream",
          "text": [
            "Epoch 13: 34.96698319911957\n"
          ]
        },
        {
          "name": "stderr",
          "output_type": "stream",
          "text": [
            "180it [01:06,  2.72it/s]\n"
          ]
        },
        {
          "name": "stdout",
          "output_type": "stream",
          "text": [
            "Epoch 14: 35.18055787682533\n"
          ]
        },
        {
          "name": "stderr",
          "output_type": "stream",
          "text": [
            "180it [01:06,  2.72it/s]\n"
          ]
        },
        {
          "name": "stdout",
          "output_type": "stream",
          "text": [
            "Epoch 15: 34.837773859500885\n"
          ]
        },
        {
          "name": "stderr",
          "output_type": "stream",
          "text": [
            "180it [01:06,  2.72it/s]\n"
          ]
        },
        {
          "name": "stdout",
          "output_type": "stream",
          "text": [
            "Epoch 16: 35.02310487627983\n"
          ]
        },
        {
          "name": "stderr",
          "output_type": "stream",
          "text": [
            "180it [01:05,  2.74it/s]\n"
          ]
        },
        {
          "name": "stdout",
          "output_type": "stream",
          "text": [
            "Epoch 17: 34.86487454175949\n"
          ]
        },
        {
          "name": "stderr",
          "output_type": "stream",
          "text": [
            "180it [01:05,  2.73it/s]\n"
          ]
        },
        {
          "name": "stdout",
          "output_type": "stream",
          "text": [
            "Epoch 18: 34.96572181582451\n"
          ]
        },
        {
          "name": "stderr",
          "output_type": "stream",
          "text": [
            "180it [01:06,  2.72it/s]\n"
          ]
        },
        {
          "name": "stdout",
          "output_type": "stream",
          "text": [
            "Epoch 19: 35.010703295469284\n"
          ]
        },
        {
          "name": "stderr",
          "output_type": "stream",
          "text": [
            "180it [01:05,  2.73it/s]\n"
          ]
        },
        {
          "name": "stdout",
          "output_type": "stream",
          "text": [
            "Epoch 20: 34.859012722969055\n"
          ]
        },
        {
          "name": "stderr",
          "output_type": "stream",
          "text": [
            "180it [01:05,  2.73it/s]\n"
          ]
        },
        {
          "name": "stdout",
          "output_type": "stream",
          "text": [
            "Epoch 21: 34.759097903966904\n"
          ]
        },
        {
          "name": "stderr",
          "output_type": "stream",
          "text": [
            "180it [01:06,  2.73it/s]\n"
          ]
        },
        {
          "name": "stdout",
          "output_type": "stream",
          "text": [
            "Epoch 22: 34.83731719851494\n"
          ]
        },
        {
          "name": "stderr",
          "output_type": "stream",
          "text": [
            "180it [01:05,  2.74it/s]\n"
          ]
        },
        {
          "name": "stdout",
          "output_type": "stream",
          "text": [
            "Epoch 23: 34.851063311100006\n"
          ]
        },
        {
          "name": "stderr",
          "output_type": "stream",
          "text": [
            "180it [01:05,  2.74it/s]\n"
          ]
        },
        {
          "name": "stdout",
          "output_type": "stream",
          "text": [
            "Epoch 24: 34.86696696281433\n"
          ]
        },
        {
          "name": "stderr",
          "output_type": "stream",
          "text": [
            "180it [01:05,  2.73it/s]\n"
          ]
        },
        {
          "name": "stdout",
          "output_type": "stream",
          "text": [
            "Epoch 25: 34.738046169281006\n"
          ]
        },
        {
          "name": "stderr",
          "output_type": "stream",
          "text": [
            "180it [01:06,  2.73it/s]\n"
          ]
        },
        {
          "name": "stdout",
          "output_type": "stream",
          "text": [
            "Epoch 26: 34.6762455701828\n"
          ]
        },
        {
          "name": "stderr",
          "output_type": "stream",
          "text": [
            "180it [01:05,  2.74it/s]\n"
          ]
        },
        {
          "name": "stdout",
          "output_type": "stream",
          "text": [
            "Epoch 27: 34.83886793255806\n"
          ]
        },
        {
          "name": "stderr",
          "output_type": "stream",
          "text": [
            "180it [01:05,  2.73it/s]\n"
          ]
        },
        {
          "name": "stdout",
          "output_type": "stream",
          "text": [
            "Epoch 28: 34.66218391060829\n"
          ]
        },
        {
          "name": "stderr",
          "output_type": "stream",
          "text": [
            "180it [01:05,  2.73it/s]\n"
          ]
        },
        {
          "name": "stdout",
          "output_type": "stream",
          "text": [
            "Epoch 29: 34.461845606565475\n"
          ]
        },
        {
          "name": "stderr",
          "output_type": "stream",
          "text": [
            "180it [01:05,  2.74it/s]"
          ]
        },
        {
          "name": "stdout",
          "output_type": "stream",
          "text": [
            "Epoch 30: 34.62926971912384\n"
          ]
        },
        {
          "name": "stderr",
          "output_type": "stream",
          "text": [
            "\n"
          ]
        }
      ],
      "source": [
        "model.train()\n",
        "for epoch in range(epoches):\n",
        "    for batch in tqdm(train_dataloader):\n",
        "        running_loss = 0\n",
        "        optimizer.zero_grad()\n",
        "\n",
        "        for gram, context in batch:\n",
        "            context = context.to(device)\n",
        "            gram = gram.to(device)\n",
        "\n",
        "            pred = model(gram, word_probs.to(device))\n",
        "            loss = criterion(pred, context)\n",
        "\n",
        "            running_loss += loss.item()\n",
        "\n",
        "        loss.backward()\n",
        "        optimizer.step()\n",
        "\n",
        "    print(f'Epoch {epoch+1}: {running_loss}')"
      ]
    },
    {
      "cell_type": "code",
      "execution_count": null,
      "metadata": {
        "id": "H8vmnjSLQWxj"
      },
      "outputs": [],
      "source": [
        "torch.save(model, \"models/sg_ns.pth\")"
      ]
    },
    {
      "cell_type": "code",
      "execution_count": 368,
      "metadata": {
        "id": "kNAdrwRgQWzx"
      },
      "outputs": [],
      "source": [
        "model = torch.load(\"models/sg_ns.pth\")"
      ]
    },
    {
      "cell_type": "markdown",
      "metadata": {
        "id": "T17Jiwv3trmZ"
      },
      "source": [
        "### CBOW\n"
      ]
    },
    {
      "cell_type": "code",
      "execution_count": 84,
      "metadata": {
        "id": "uToiCxSVtt1g"
      },
      "outputs": [],
      "source": [
        "model = Word2Vec(vocab_size, embed_dim, context_size, ModelType.CBOW).to(device)"
      ]
    },
    {
      "cell_type": "code",
      "execution_count": 85,
      "metadata": {
        "id": "JYWSQBOAtt4N"
      },
      "outputs": [],
      "source": [
        "criterion = NegativeSampling(device, word_freqs)\n",
        "optimizer = optim.SGD(model.parameters(), lr=1e-3)"
      ]
    },
    {
      "cell_type": "code",
      "execution_count": null,
      "metadata": {
        "colab": {
          "base_uri": "https://localhost:8080/"
        },
        "id": "_wpcabMH8kmd",
        "outputId": "734447f1-d0e8-4c91-df29-1ef5394c834b"
      },
      "outputs": [],
      "source": [
        "model.train()\n",
        "for epoch in range(epoches):\n",
        "    for batch in tqdm(train_dataloader):\n",
        "        running_loss = 0\n",
        "        optimizer.zero_grad()\n",
        "\n",
        "        for gram, context in batch:\n",
        "            context = context.to(device)\n",
        "            gram = gram.to(device)\n",
        "\n",
        "            pred = model(context, word_probs.to(device))\n",
        "            loss = criterion(pred, gram)\n",
        "\n",
        "            running_loss += loss.item()\n",
        "            # print(running_loss)\n",
        "\n",
        "        loss.backward()\n",
        "        optimizer.step()\n",
        "\n",
        "    print(f'Epoch {epoch+1}: {running_loss}')"
      ]
    },
    {
      "cell_type": "code",
      "execution_count": null,
      "metadata": {
        "id": "NHPvMLnq8koj"
      },
      "outputs": [],
      "source": [
        "torch.save(model, \"models/cb_ns.pth\")"
      ]
    },
    {
      "cell_type": "code",
      "execution_count": 379,
      "metadata": {
        "id": "JmBIksc58uGj"
      },
      "outputs": [],
      "source": [
        "model = torch.load(\"models/cb_ns.pth\")"
      ]
    },
    {
      "cell_type": "markdown",
      "metadata": {
        "id": "c1LtPLsWRRz3"
      },
      "source": [
        "## HS\n"
      ]
    },
    {
      "cell_type": "markdown",
      "metadata": {
        "id": "wx8hQALcPajl"
      },
      "source": [
        "### SkipGram\n"
      ]
    },
    {
      "cell_type": "code",
      "execution_count": 58,
      "metadata": {
        "id": "GKHsdNnEPbwU"
      },
      "outputs": [],
      "source": [
        "model = Word2Vec(vocab_size, embed_dim, context_size, ModelType.SKIP_GRAM, LossType.HS).to(device)"
      ]
    },
    {
      "cell_type": "code",
      "execution_count": 59,
      "metadata": {
        "id": "ygmqPYasPcil"
      },
      "outputs": [],
      "source": [
        "criterion = HierarchicalSoftmax(device, word_counts, embed_dim, vocab_size)\n",
        "optimizer = optim.SGD([*model.parameters(), *criterion.parameters()], lr=1e-3)"
      ]
    },
    {
      "cell_type": "code",
      "execution_count": null,
      "metadata": {
        "id": "cBXBKgCXPckt"
      },
      "outputs": [],
      "source": [
        "model.train()\n",
        "for epoch in range(epoches):\n",
        "    for batch in tqdm(train_dataloader):\n",
        "        running_loss = 0\n",
        "        optimizer.zero_grad()\n",
        "\n",
        "        for gram, context in batch:\n",
        "            context = context.to(device)\n",
        "            gram = gram.to(device)\n",
        "\n",
        "            pred = model(gram, word_probs.to(device))\n",
        "            loss = criterion(pred, context)\n",
        "\n",
        "            running_loss += loss.item()\n",
        "            # print(running_loss)\n",
        "\n",
        "        loss.backward()\n",
        "        optimizer.step()\n",
        "\n",
        "    print(f'Epoch {epoch+1}: {running_loss}')"
      ]
    },
    {
      "cell_type": "code",
      "execution_count": null,
      "metadata": {
        "id": "fBm74bpADXIa"
      },
      "outputs": [],
      "source": [
        "torch.save(model, \"models/sg_hs.pth\")"
      ]
    },
    {
      "cell_type": "code",
      "execution_count": null,
      "metadata": {
        "id": "u8bGg98XDbun"
      },
      "outputs": [],
      "source": [
        "model = torch.load(\"models/sg_hs.pth\")"
      ]
    },
    {
      "cell_type": "markdown",
      "metadata": {
        "id": "889SiePetuPH"
      },
      "source": [
        "### CBOW\n"
      ]
    },
    {
      "cell_type": "code",
      "execution_count": 90,
      "metadata": {
        "id": "bKvN6LHUCGgd"
      },
      "outputs": [],
      "source": [
        "model = Word2Vec(vocab_size, embed_dim, context_size, ModelType.CBOW, LossType.HS).to(device)"
      ]
    },
    {
      "cell_type": "code",
      "execution_count": 91,
      "metadata": {
        "id": "rsTfF4GECGge"
      },
      "outputs": [],
      "source": [
        "criterion = HierarchicalSoftmax(device, word_counts, embed_dim, vocab_size)\n",
        "optimizer = optim.SGD([*model.parameters(), *criterion.parameters()], lr=1e-3)"
      ]
    },
    {
      "cell_type": "code",
      "execution_count": null,
      "metadata": {
        "colab": {
          "base_uri": "https://localhost:8080/",
          "height": 446
        },
        "id": "Cwct4r7SCGge",
        "outputId": "3c59ba64-0e74-4c3c-f129-1087d82ef6b2"
      },
      "outputs": [],
      "source": [
        "model.train()\n",
        "for epoch in range(epoches):\n",
        "    for batch in tqdm(train_dataloader):\n",
        "        running_loss = 0\n",
        "        optimizer.zero_grad()\n",
        "\n",
        "        for gram, context in batch:\n",
        "            context = context.to(device)\n",
        "            gram = gram.to(device)\n",
        "\n",
        "            pred = model(context, word_probs.to(device))\n",
        "            loss = criterion(pred, gram)\n",
        "\n",
        "            running_loss += loss.item()\n",
        "            # print(running_loss)\n",
        "\n",
        "        loss.backward()\n",
        "        optimizer.step()\n",
        "\n",
        "    print(f'Epoch {epoch+1}: {running_loss}')"
      ]
    },
    {
      "cell_type": "code",
      "execution_count": null,
      "metadata": {
        "id": "cry3wSBiCGge"
      },
      "outputs": [],
      "source": [
        "torch.save(model, \"models/cb_hs.pth\")"
      ]
    },
    {
      "cell_type": "code",
      "execution_count": null,
      "metadata": {
        "id": "-6DeGsuICGgf"
      },
      "outputs": [],
      "source": [
        "model = torch.load(\"models/cb_hs.pth\")"
      ]
    },
    {
      "cell_type": "markdown",
      "metadata": {
        "id": "L7OmkYxH1jIT"
      },
      "source": [
        "# Evaluation\n"
      ]
    },
    {
      "cell_type": "markdown",
      "metadata": {
        "id": "NKBBG3gE0mmJ"
      },
      "source": [
        "## show embedding\n"
      ]
    },
    {
      "cell_type": "code",
      "execution_count": 380,
      "metadata": {
        "id": "zA3Gl4kX0mmL"
      },
      "outputs": [],
      "source": [
        "def get_vector(sentence: str) -> torch.Tensor:\n",
        "    with torch.no_grad():\n",
        "      tokens = tokenizer(sentence)\n",
        "      indices = torch.LongTensor(vocab(tokens)).to(device)\n",
        "      return model.embeddings(indices)"
      ]
    },
    {
      "cell_type": "code",
      "execution_count": 381,
      "metadata": {
        "id": "u2hvO7it0mmJ"
      },
      "outputs": [],
      "source": [
        "sample_word_pairs = [\n",
        "    [\"paris\", \"france\"],\n",
        "    [\"beijing\", \"china\"],\n",
        "    [\"moscow\", \"russia\"],\n",
        "    [\"tokyo\", \"japan\"],\n",
        "    [\"athens\", \"greece\"],\n",
        "    [\"rome\", \"italy\"],\n",
        "    [\"berlin\", \"germany\"],\n",
        "    [\"madrid\", \"spain\"],\n",
        "    [\"lisbon\", \"portugal\"],\n",
        "]"
      ]
    },
    {
      "cell_type": "code",
      "execution_count": 382,
      "metadata": {
        "id": "Rlg9lLio0mmK"
      },
      "outputs": [],
      "source": [
        "vectors = []\n",
        "for pair in sample_word_pairs:\n",
        "    vectors.append(torch.cat([get_vector(item) for item in pair]))\n",
        "\n",
        "vectors = torch.cat(vectors)"
      ]
    },
    {
      "cell_type": "code",
      "execution_count": 383,
      "metadata": {
        "id": "aT4IUgHd0mmK"
      },
      "outputs": [],
      "source": [
        "from sklearn.decomposition import PCA\n",
        "from sklearn.manifold import TSNE"
      ]
    },
    {
      "cell_type": "code",
      "execution_count": 384,
      "metadata": {
        "colab": {
          "base_uri": "https://localhost:8080/",
          "height": 75
        },
        "id": "UNl1Qq7e0mmK",
        "outputId": "9b3227a6-0109-46b8-fd66-d2f617dbfdd0"
      },
      "outputs": [
        {
          "data": {
            "text/html": [
              "<style>#sk-container-id-21 {color: black;}#sk-container-id-21 pre{padding: 0;}#sk-container-id-21 div.sk-toggleable {background-color: white;}#sk-container-id-21 label.sk-toggleable__label {cursor: pointer;display: block;width: 100%;margin-bottom: 0;padding: 0.3em;box-sizing: border-box;text-align: center;}#sk-container-id-21 label.sk-toggleable__label-arrow:before {content: \"▸\";float: left;margin-right: 0.25em;color: #696969;}#sk-container-id-21 label.sk-toggleable__label-arrow:hover:before {color: black;}#sk-container-id-21 div.sk-estimator:hover label.sk-toggleable__label-arrow:before {color: black;}#sk-container-id-21 div.sk-toggleable__content {max-height: 0;max-width: 0;overflow: hidden;text-align: left;background-color: #f0f8ff;}#sk-container-id-21 div.sk-toggleable__content pre {margin: 0.2em;color: black;border-radius: 0.25em;background-color: #f0f8ff;}#sk-container-id-21 input.sk-toggleable__control:checked~div.sk-toggleable__content {max-height: 200px;max-width: 100%;overflow: auto;}#sk-container-id-21 input.sk-toggleable__control:checked~label.sk-toggleable__label-arrow:before {content: \"▾\";}#sk-container-id-21 div.sk-estimator input.sk-toggleable__control:checked~label.sk-toggleable__label {background-color: #d4ebff;}#sk-container-id-21 div.sk-label input.sk-toggleable__control:checked~label.sk-toggleable__label {background-color: #d4ebff;}#sk-container-id-21 input.sk-hidden--visually {border: 0;clip: rect(1px 1px 1px 1px);clip: rect(1px, 1px, 1px, 1px);height: 1px;margin: -1px;overflow: hidden;padding: 0;position: absolute;width: 1px;}#sk-container-id-21 div.sk-estimator {font-family: monospace;background-color: #f0f8ff;border: 1px dotted black;border-radius: 0.25em;box-sizing: border-box;margin-bottom: 0.5em;}#sk-container-id-21 div.sk-estimator:hover {background-color: #d4ebff;}#sk-container-id-21 div.sk-parallel-item::after {content: \"\";width: 100%;border-bottom: 1px solid gray;flex-grow: 1;}#sk-container-id-21 div.sk-label:hover label.sk-toggleable__label {background-color: #d4ebff;}#sk-container-id-21 div.sk-serial::before {content: \"\";position: absolute;border-left: 1px solid gray;box-sizing: border-box;top: 0;bottom: 0;left: 50%;z-index: 0;}#sk-container-id-21 div.sk-serial {display: flex;flex-direction: column;align-items: center;background-color: white;padding-right: 0.2em;padding-left: 0.2em;position: relative;}#sk-container-id-21 div.sk-item {position: relative;z-index: 1;}#sk-container-id-21 div.sk-parallel {display: flex;align-items: stretch;justify-content: center;background-color: white;position: relative;}#sk-container-id-21 div.sk-item::before, #sk-container-id-21 div.sk-parallel-item::before {content: \"\";position: absolute;border-left: 1px solid gray;box-sizing: border-box;top: 0;bottom: 0;left: 50%;z-index: -1;}#sk-container-id-21 div.sk-parallel-item {display: flex;flex-direction: column;z-index: 1;position: relative;background-color: white;}#sk-container-id-21 div.sk-parallel-item:first-child::after {align-self: flex-end;width: 50%;}#sk-container-id-21 div.sk-parallel-item:last-child::after {align-self: flex-start;width: 50%;}#sk-container-id-21 div.sk-parallel-item:only-child::after {width: 0;}#sk-container-id-21 div.sk-dashed-wrapped {border: 1px dashed gray;margin: 0 0.4em 0.5em 0.4em;box-sizing: border-box;padding-bottom: 0.4em;background-color: white;}#sk-container-id-21 div.sk-label label {font-family: monospace;font-weight: bold;display: inline-block;line-height: 1.2em;}#sk-container-id-21 div.sk-label-container {text-align: center;}#sk-container-id-21 div.sk-container {/* jupyter's `normalize.less` sets `[hidden] { display: none; }` but bootstrap.min.css set `[hidden] { display: none !important; }` so we also need the `!important` here to be able to override the default hidden behavior on the sphinx rendered scikit-learn.org. See: https://github.com/scikit-learn/scikit-learn/issues/21755 */display: inline-block !important;position: relative;}#sk-container-id-21 div.sk-text-repr-fallback {display: none;}</style><div id=\"sk-container-id-21\" class=\"sk-top-container\"><div class=\"sk-text-repr-fallback\"><pre>PCA(n_components=2)</pre><b>In a Jupyter environment, please rerun this cell to show the HTML representation or trust the notebook. <br />On GitHub, the HTML representation is unable to render, please try loading this page with nbviewer.org.</b></div><div class=\"sk-container\" hidden><div class=\"sk-item\"><div class=\"sk-estimator sk-toggleable\"><input class=\"sk-toggleable__control sk-hidden--visually\" id=\"sk-estimator-id-21\" type=\"checkbox\" checked><label for=\"sk-estimator-id-21\" class=\"sk-toggleable__label sk-toggleable__label-arrow\">PCA</label><div class=\"sk-toggleable__content\"><pre>PCA(n_components=2)</pre></div></div></div></div></div>"
            ],
            "text/plain": [
              "PCA(n_components=2)"
            ]
          },
          "execution_count": 384,
          "metadata": {},
          "output_type": "execute_result"
        }
      ],
      "source": [
        "projector = PCA(2)\n",
        "projector.fit(model.embeddings.weight.clone().detach().cpu())"
      ]
    },
    {
      "cell_type": "code",
      "execution_count": null,
      "metadata": {
        "id": "GFtCCvFvn_Ct"
      },
      "outputs": [],
      "source": [
        "projector = TSNE(perplexity=2)\n",
        "projector.fit(model.embeddings.weight.clone().detach().cpu())"
      ]
    },
    {
      "cell_type": "code",
      "execution_count": 385,
      "metadata": {
        "colab": {
          "base_uri": "https://localhost:8080/",
          "height": 676
        },
        "id": "jvrd5M8U0mmK",
        "outputId": "f6c3875a-e8f2-446a-a435-af04c8c617f1"
      },
      "outputs": [
        {
          "data": {
            "image/png": "[encoded data removed]",
            "text/plain": [
              "<Figure size 800x800 with 1 Axes>"
            ]
          },
          "metadata": {},
          "output_type": "display_data"
        }
      ],
      "source": [
        "projected = projector.transform(vectors.detach().cpu())\n",
        "\n",
        "plt.figure(figsize=(8,8))\n",
        "for i in range(0, len(projected), 2):\n",
        "    pair = sample_word_pairs[i // 2]\n",
        "\n",
        "    plt.plot(projected[i:i+2, 0], projected[i:i+2, 1], '--')\n",
        "\n",
        "    for j in range(2):\n",
        "        x, y = projected[i+j, 0], projected[i+j, 1]\n",
        "        plt.scatter(x, y)\n",
        "        plt.text(x, y, pair[j])"
      ]
    },
    {
      "cell_type": "code",
      "execution_count": 386,
      "metadata": {
        "colab": {
          "base_uri": "https://localhost:8080/",
          "height": 430
        },
        "id": "41P3miXNG4p6",
        "outputId": "41d904b8-fa91-4fed-b9aa-a8c99455b976"
      },
      "outputs": [
        {
          "data": {
            "image/png": "[encoded data removed]",
            "text/plain": [
              "<Figure size 640x480 with 1 Axes>"
            ]
          },
          "metadata": {},
          "output_type": "display_data"
        }
      ],
      "source": [
        "demo = 'mother father desk'\n",
        "projected = projector.transform(get_vector(demo).detach().cpu())\n",
        "for j in range(len(demo.split())):\n",
        "  x, y = projected[j, 0], projected[j, 1]\n",
        "  plt.scatter(x, y)\n",
        "  plt.text(x, y, tokenizer(demo)[j])\n",
        "  plt.plot(torch.Tensor([0, x]), torch.Tensor([0, y]), '--')"
      ]
    },
    {
      "cell_type": "code",
      "execution_count": null,
      "metadata": {
        "colab": {
          "base_uri": "https://localhost:8080/",
          "height": 430
        },
        "id": "41P3miXNG4p6",
        "outputId": "41d904b8-fa91-4fed-b9aa-a8c99455b976"
      },
      "outputs": [
        {
          "data": {
            "image/png": "[encoded data removed]",
            "text/plain": [
              "<Figure size 640x480 with 1 Axes>"
            ]
          },
          "metadata": {},
          "output_type": "display_data"
        }
      ],
      "source": [
        "# demo = 'mother father desk'\n",
        "# projected = pca.transform(get_vector(demo).detach().cpu())\n",
        "# for j in range(3):\n",
        "#   x, y = projected[j, 0], projected[j, 1]\n",
        "#   plt.scatter(x, y)\n",
        "#   plt.text(x, y, tokenizer(demo)[j])\n",
        "#   plt.plot(torch.Tensor([0, x]), torch.Tensor([0, y]), '--')"
      ]
    },
    {
      "cell_type": "markdown",
      "metadata": {
        "id": "_HbLdV310mmL"
      },
      "source": [
        "## Simple QA / relationship inference\n",
        "\n",
        "prove linear composability\n"
      ]
    },
    {
      "cell_type": "code",
      "execution_count": 387,
      "metadata": {
        "id": "ajHr6-gC0mmM"
      },
      "outputs": [],
      "source": [
        "question = get_vector('berlin') - get_vector('germany')"
      ]
    },
    {
      "cell_type": "code",
      "execution_count": 388,
      "metadata": {
        "colab": {
          "base_uri": "https://localhost:8080/"
        },
        "id": "341Cg28S0mmN",
        "outputId": "a2fbb3d2-a8d2-4257-f71b-1286ac8a96fc"
      },
      "outputs": [
        {
          "name": "stdout",
          "output_type": "stream",
          "text": [
            "question: france\n",
            "tensor([0.5920, 0.0461, 0.0130], device='cuda:0')\n",
            "answer: ['berlin', 'beijing', 'rome']\n",
            "-------------------------------\n",
            "question: china\n",
            "tensor([0.5827, 0.0960, 0.0737], device='cuda:0')\n",
            "answer: ['berlin', 'athens', 'beijing']\n",
            "-------------------------------\n",
            "question: russia\n",
            "tensor([0.5642, 0.0994, 0.0861], device='cuda:0')\n",
            "answer: ['berlin', 'beijing', 'paris']\n",
            "-------------------------------\n",
            "question: japan\n",
            "tensor([0.5794, 0.0735, 0.0387], device='cuda:0')\n",
            "answer: ['berlin', 'moscow', 'beijing']\n",
            "-------------------------------\n",
            "question: greece\n",
            "tensor([0.5650, 0.1255, 0.0694], device='cuda:0')\n",
            "answer: ['berlin', 'beijing', 'athens']\n",
            "-------------------------------\n",
            "question: italy\n",
            "tensor([0.6387, 0.1244, 0.1070], device='cuda:0')\n",
            "answer: ['berlin', 'beijing', 'rome']\n",
            "-------------------------------\n",
            "question: germany\n",
            "tensor([1.0000, 0.0849, 0.0374], device='cuda:0')\n",
            "answer: ['berlin', 'lisbon', 'madrid']\n",
            "-------------------------------\n",
            "question: spain\n",
            "tensor([0.6523, 0.1759, 0.0547], device='cuda:0')\n",
            "answer: ['berlin', 'beijing', 'rome']\n",
            "-------------------------------\n",
            "question: portugal\n",
            "tensor([0.6184, 0.1200, 0.0717], device='cuda:0')\n",
            "answer: ['berlin', 'beijing', 'rome']\n",
            "-------------------------------\n",
            "1/9\n"
          ]
        }
      ],
      "source": [
        "acc = 0\n",
        "\n",
        "metric = nn.CosineSimilarity()\n",
        "choices = [capital for capital, country in sample_word_pairs]\n",
        "for capital, country in sample_word_pairs:\n",
        "  print('question:', country)\n",
        "  guess = metric(question + get_vector(country), get_vector(\" \".join(choices)))\n",
        "  # guess = metric(question, model.embeddings.weight)\n",
        "  # print(guess)\n",
        "  topk_guess_value, topk_guess_idx = guess.topk(3, largest=True)\n",
        "  answer = [choices[g] for g in topk_guess_idx]\n",
        "  print(topk_guess_value)\n",
        "  # answer = vocab.lookup_tokens([guess[4:].abs().argmin()])\n",
        "  print('answer:', answer)\n",
        "  print('-------------------------------')\n",
        "\n",
        "  acc += answer[0] == capital\n",
        "\n",
        "print(f\"{acc}/{len(sample_word_pairs)}\")"
      ]
    },
    {
      "cell_type": "markdown",
      "metadata": {
        "id": "9xT4nfpj0mmP"
      },
      "source": [
        "## phrase construction\n"
      ]
    },
    {
      "cell_type": "code",
      "execution_count": null,
      "metadata": {
        "colab": {
          "base_uri": "https://localhost:8080/"
        },
        "id": "4YTceMTl0mmP",
        "outputId": "91a30109-baca-418b-f81b-bfd4792efea6"
      },
      "outputs": [
        {
          "data": {
            "text/plain": [
              "torch.Size([6, 128])"
            ]
          },
          "execution_count": 104,
          "metadata": {},
          "output_type": "execute_result"
        }
      ],
      "source": [
        "# bigram count / unigram product => keep filtering"
      ]
    },
    {
      "cell_type": "code",
      "execution_count": 487,
      "metadata": {},
      "outputs": [],
      "source": [
        "train_datapipe, val_datapipe, test_datapipe = WikiText2(\"./data\")"
      ]
    },
    {
      "cell_type": "code",
      "execution_count": 488,
      "metadata": {},
      "outputs": [
        {
          "name": "stderr",
          "output_type": "stream",
          "text": [
            "d:\\research\\pytorch-implementations\\.venv\\Lib\\site-packages\\torch\\utils\\data\\datapipes\\utils\\common.py:141: UserWarning: Local function is not supported by pickle, please use regular python function or functools.partial instead.\n",
            "  warnings.warn(\n"
          ]
        }
      ],
      "source": [
        "ngrams_counter = Counter()\n",
        "for data in datapipe_factory(train_datapipe):\n",
        "    ngrams_counter.update(ngrams_iterator(data, 2))"
      ]
    },
    {
      "cell_type": "code",
      "execution_count": 489,
      "metadata": {},
      "outputs": [],
      "source": [
        "for stopword in stopwords.words('english'):\n",
        "    ngrams_counter.pop(stopword, \"\")\n",
        "\n",
        "import string\n",
        "\n",
        "for stopword in string.ascii_letters + string.punctuation:\n",
        "    ngrams_counter.pop(stopword, \"\")"
      ]
    },
    {
      "cell_type": "code",
      "execution_count": 490,
      "metadata": {},
      "outputs": [],
      "source": [
        "iter_limit = 1\n",
        "frequent_word_threshold = sum(counter) * 1e-4\n",
        "count_threshold = 5e-5\n",
        "count_threshold_factor = 0.8"
      ]
    },
    {
      "cell_type": "code",
      "execution_count": 491,
      "metadata": {},
      "outputs": [
        {
          "name": "stderr",
          "output_type": "stream",
          "text": [
            "100%|█████████▉| 577048/577049 [00:00<00:00, 672551.02it/s]\n"
          ]
        }
      ],
      "source": [
        "phrases = set()\n",
        "bigrams = [key for key in ngrams_counter.keys() if \" \" in key and key != \"\"]\n",
        "for _ in range(iter_limit):\n",
        "   for bigram in tqdm(bigrams):\n",
        "      gram1, gram2 = bigram.split(\" \")\n",
        "      gram1_count, gram2_count = ngrams_counter[gram1], ngrams_counter[gram2]\n",
        "\n",
        "      if gram1_count > frequent_word_threshold or gram2_count > frequent_word_threshold:\n",
        "         continue\n",
        "\n",
        "      if gram1_count == 0 or gram2_count == 0:\n",
        "         continue\n",
        "\n",
        "      lift = ngrams_counter[bigram] / (gram1_count * gram2_count)\n",
        "      # print(bigram, lift)\n",
        "      if lift > count_threshold:\n",
        "         phrases.add(bigram)\n",
        "      else:\n",
        "         bigrams.remove(bigram)\n",
        "      \n",
        "      count_threshold *= count_threshold_factor"
      ]
    },
    {
      "cell_type": "code",
      "execution_count": null,
      "metadata": {},
      "outputs": [],
      "source": [
        "phrases"
      ]
    },
    {
      "cell_type": "code",
      "execution_count": 493,
      "metadata": {},
      "outputs": [
        {
          "data": {
            "text/plain": [
              "7.172148157986485e-05"
            ]
          },
          "execution_count": 493,
          "metadata": {},
          "output_type": "execute_result"
        }
      ],
      "source": [
        "ngrams_counter['video game'] / (ngrams_counter['video'] * ngrams_counter['game'])"
      ]
    },
    {
      "cell_type": "code",
      "execution_count": 494,
      "metadata": {},
      "outputs": [
        {
          "data": {
            "text/plain": [
              "True"
            ]
          },
          "execution_count": 494,
          "metadata": {},
          "output_type": "execute_result"
        }
      ],
      "source": [
        "'video game' in phrases"
      ]
    }
  ],
  "metadata": {
    "colab": {
      "provenance": [],
      "toc_visible": true
    },
    "kernelspec": {
      "display_name": "Python 3.11.4 ('.venv': pipenv)",
      "language": "python",
      "name": "python3"
    },
    "language_info": {
      "codemirror_mode": {
        "name": "ipython",
        "version": 3
      },
      "file_extension": ".py",
      "mimetype": "text/x-python",
      "name": "python",
      "nbconvert_exporter": "python",
      "pygments_lexer": "ipython3",
      "version": "3.11.4"
    },
    "vscode": {
      "interpreter": {
        "hash": "f35bd473d876cea6bd28a6266f5aa5f9962dc64f5f4db6f1a1cfdf1b2fe9cc07"
      }
    }
  },
  "nbformat": 4,
  "nbformat_minor": 0
}
