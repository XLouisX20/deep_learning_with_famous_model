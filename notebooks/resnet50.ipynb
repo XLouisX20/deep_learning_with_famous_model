{
 "cells": [
  {
   "cell_type": "code",
   "execution_count": 28,
   "metadata": {},
   "outputs": [],
   "source": [
    "from pathlib import Path\n",
    "\n",
    "import matplotlib.pyplot as plt\n",
    "import torch\n",
    "import torchinfo\n",
    "import torchvision\n",
    "from PIL import Image\n",
    "from torch import nn\n",
    "from torch.utils.data import DataLoader\n",
    "from torchlake.common.constants import IMAGENET_MEAN, IMAGENET_STD\n",
    "from torchlake.common.controller.evaluator import ClassificationEvaluator\n",
    "from torchlake.common.metrics.classification import IncrementalConfusionMatrix\n",
    "from torchlake.image_classification.models import ResNet\n",
    "from torchvision import transforms\n",
    "from tqdm import tqdm"
   ]
  },
  {
   "cell_type": "markdown",
   "metadata": {},
   "source": [
    "# Setting"
   ]
  },
  {
   "cell_type": "code",
   "execution_count": 29,
   "metadata": {},
   "outputs": [],
   "source": [
    "IMAGE_SIZE = 224\n",
    "BATCH_SIZE = 16"
   ]
  },
  {
   "cell_type": "code",
   "execution_count": 30,
   "metadata": {},
   "outputs": [],
   "source": [
    "artifact_path = Path(\"../../artifacts/resnet\")\n",
    "data_path = Path(\"../../data/animal10\")"
   ]
  },
  {
   "cell_type": "code",
   "execution_count": 31,
   "metadata": {},
   "outputs": [],
   "source": [
    "device = torch.device(\"cuda:0\")"
   ]
  },
  {
   "cell_type": "markdown",
   "metadata": {},
   "source": [
    "# data"
   ]
  },
  {
   "cell_type": "code",
   "execution_count": 32,
   "metadata": {},
   "outputs": [],
   "source": [
    "preprocess = transforms.Compose(\n",
    "    [\n",
    "        transforms.RandomHorizontalFlip(),\n",
    "        transforms.ColorJitter(),\n",
    "        transforms.RandomResizedCrop((IMAGE_SIZE, IMAGE_SIZE)),\n",
    "        transforms.ToTensor(),\n",
    "        transforms.Normalize(IMAGENET_MEAN, IMAGENET_STD),\n",
    "    ]\n",
    ")"
   ]
  },
  {
   "cell_type": "code",
   "execution_count": 33,
   "metadata": {},
   "outputs": [],
   "source": [
    "dataset = torchvision.datasets.ImageFolder(\n",
    "    data_path.as_posix(),\n",
    "    transform=preprocess,\n",
    ")"
   ]
  },
  {
   "cell_type": "code",
   "execution_count": 34,
   "metadata": {},
   "outputs": [],
   "source": [
    "train_loader = DataLoader(dataset, batch_size=BATCH_SIZE, shuffle=True, drop_last=True)"
   ]
  },
  {
   "cell_type": "code",
   "execution_count": 35,
   "metadata": {},
   "outputs": [],
   "source": [
    "num_class = len(dataset.classes)"
   ]
  },
  {
   "cell_type": "markdown",
   "metadata": {},
   "source": [
    "# model"
   ]
  },
  {
   "cell_type": "code",
   "execution_count": 36,
   "metadata": {},
   "outputs": [],
   "source": [
    "model = ResNet(output_size=num_class, num_layer=50).to(device)"
   ]
  },
  {
   "cell_type": "code",
   "execution_count": 37,
   "metadata": {},
   "outputs": [
    {
     "data": {
      "text/plain": [
       "===========================================================================\n",
       "Layer (type:depth-idx)                             Param #\n",
       "===========================================================================\n",
       "ResNet                                             --\n",
       "├─Sequential: 1-1                                  --\n",
       "│    └─ConvBnRelu: 2-1                             --\n",
       "│    │    └─Conv2d: 3-1                            9,408\n",
       "│    │    └─BatchNorm2d: 3-2                       128\n",
       "│    │    └─ReLU: 3-3                              --\n",
       "│    └─MaxPool2d: 2-2                              --\n",
       "├─Sequential: 1-2                                  --\n",
       "│    └─ResBlock: 2-3                               --\n",
       "│    │    └─BottleNeck: 3-4                        58,112\n",
       "│    │    └─ConvBnRelu: 3-5                        16,896\n",
       "│    └─ResBlock: 2-4                               --\n",
       "│    │    └─BottleNeck: 3-6                        70,400\n",
       "│    │    └─Identity: 3-7                          --\n",
       "│    └─ResBlock: 2-5                               --\n",
       "│    │    └─BottleNeck: 3-8                        70,400\n",
       "│    │    └─Identity: 3-9                          --\n",
       "├─Sequential: 1-3                                  --\n",
       "│    └─ResBlock: 2-6                               --\n",
       "│    │    └─BottleNeck: 3-10                       247,296\n",
       "│    │    └─ConvBnRelu: 3-11                       132,096\n",
       "│    └─ResBlock: 2-7                               --\n",
       "│    │    └─BottleNeck: 3-12                       280,064\n",
       "│    │    └─Identity: 3-13                         --\n",
       "│    └─ResBlock: 2-8                               --\n",
       "│    │    └─BottleNeck: 3-14                       280,064\n",
       "│    │    └─Identity: 3-15                         --\n",
       "│    └─ResBlock: 2-9                               --\n",
       "│    │    └─BottleNeck: 3-16                       280,064\n",
       "│    │    └─Identity: 3-17                         --\n",
       "│    └─MaxPool2d: 2-10                             --\n",
       "├─Sequential: 1-4                                  --\n",
       "│    └─ResBlock: 2-11                              --\n",
       "│    │    └─BottleNeck: 3-18                       986,112\n",
       "│    │    └─ConvBnRelu: 3-19                       526,336\n",
       "│    └─ResBlock: 2-12                              --\n",
       "│    │    └─BottleNeck: 3-20                       1,117,184\n",
       "│    │    └─Identity: 3-21                         --\n",
       "│    └─ResBlock: 2-13                              --\n",
       "│    │    └─BottleNeck: 3-22                       1,117,184\n",
       "│    │    └─Identity: 3-23                         --\n",
       "│    └─ResBlock: 2-14                              --\n",
       "│    │    └─BottleNeck: 3-24                       1,117,184\n",
       "│    │    └─Identity: 3-25                         --\n",
       "│    └─ResBlock: 2-15                              --\n",
       "│    │    └─BottleNeck: 3-26                       1,117,184\n",
       "│    │    └─Identity: 3-27                         --\n",
       "│    └─ResBlock: 2-16                              --\n",
       "│    │    └─BottleNeck: 3-28                       1,117,184\n",
       "│    │    └─Identity: 3-29                         --\n",
       "│    └─MaxPool2d: 2-17                             --\n",
       "├─Sequential: 1-5                                  --\n",
       "│    └─ResBlock: 2-18                              --\n",
       "│    │    └─BottleNeck: 3-30                       3,938,304\n",
       "│    │    └─ConvBnRelu: 3-31                       2,101,248\n",
       "│    └─ResBlock: 2-19                              --\n",
       "│    │    └─BottleNeck: 3-32                       4,462,592\n",
       "│    │    └─Identity: 3-33                         --\n",
       "│    └─ResBlock: 2-20                              --\n",
       "│    │    └─BottleNeck: 3-34                       4,462,592\n",
       "│    │    └─Identity: 3-35                         --\n",
       "├─AdaptiveAvgPool2d: 1-6                           --\n",
       "├─Linear: 1-7                                      20,490\n",
       "===========================================================================\n",
       "Total params: 23,528,522\n",
       "Trainable params: 23,528,522\n",
       "Non-trainable params: 0\n",
       "==========================================================================="
      ]
     },
     "execution_count": 37,
     "metadata": {},
     "output_type": "execute_result"
    }
   ],
   "source": [
    "torchinfo.summary(model)"
   ]
  },
  {
   "cell_type": "markdown",
   "metadata": {},
   "source": [
    "# training"
   ]
  },
  {
   "cell_type": "code",
   "execution_count": 38,
   "metadata": {},
   "outputs": [],
   "source": [
    "criterion = nn.CrossEntropyLoss()\n",
    "optim = torch.optim.Adam(model.parameters())"
   ]
  },
  {
   "cell_type": "code",
   "execution_count": 39,
   "metadata": {},
   "outputs": [],
   "source": [
    "epoches = 10\n",
    "acc_iters = 64 // BATCH_SIZE"
   ]
  },
  {
   "cell_type": "code",
   "execution_count": 40,
   "metadata": {},
   "outputs": [
    {
     "name": "stderr",
     "output_type": "stream",
     "text": [
      "100%|██████████| 1636/1636 [04:39<00:00,  5.84it/s]\n"
     ]
    },
    {
     "name": "stdout",
     "output_type": "stream",
     "text": [
      "epoch 1: 0.032176847903730946\n"
     ]
    },
    {
     "name": "stderr",
     "output_type": "stream",
     "text": [
      "100%|██████████| 1636/1636 [04:43<00:00,  5.78it/s]\n"
     ]
    },
    {
     "name": "stdout",
     "output_type": "stream",
     "text": [
      "epoch 2: 0.028110389810062184\n"
     ]
    },
    {
     "name": "stderr",
     "output_type": "stream",
     "text": [
      "100%|██████████| 1636/1636 [04:43<00:00,  5.77it/s]\n"
     ]
    },
    {
     "name": "stdout",
     "output_type": "stream",
     "text": [
      "epoch 3: 0.025668095604767478\n"
     ]
    },
    {
     "name": "stderr",
     "output_type": "stream",
     "text": [
      "100%|██████████| 1636/1636 [04:56<00:00,  5.52it/s]\n"
     ]
    },
    {
     "name": "stdout",
     "output_type": "stream",
     "text": [
      "epoch 4: 0.02375792081951025\n"
     ]
    },
    {
     "name": "stderr",
     "output_type": "stream",
     "text": [
      "100%|██████████| 1636/1636 [04:48<00:00,  5.68it/s]\n"
     ]
    },
    {
     "name": "stdout",
     "output_type": "stream",
     "text": [
      "epoch 5: 0.022512893380271435\n"
     ]
    },
    {
     "name": "stderr",
     "output_type": "stream",
     "text": [
      "100%|██████████| 1636/1636 [04:50<00:00,  5.63it/s]\n"
     ]
    },
    {
     "name": "stdout",
     "output_type": "stream",
     "text": [
      "epoch 6: 0.02107753414109846\n"
     ]
    },
    {
     "name": "stderr",
     "output_type": "stream",
     "text": [
      "100%|██████████| 1636/1636 [04:33<00:00,  5.97it/s]\n"
     ]
    },
    {
     "name": "stdout",
     "output_type": "stream",
     "text": [
      "epoch 7: 0.01999660179009298\n"
     ]
    },
    {
     "name": "stderr",
     "output_type": "stream",
     "text": [
      "100%|██████████| 1636/1636 [04:32<00:00,  6.01it/s]\n"
     ]
    },
    {
     "name": "stdout",
     "output_type": "stream",
     "text": [
      "epoch 8: 0.018937925457751772\n"
     ]
    },
    {
     "name": "stderr",
     "output_type": "stream",
     "text": [
      "100%|██████████| 1636/1636 [04:35<00:00,  5.95it/s]\n"
     ]
    },
    {
     "name": "stdout",
     "output_type": "stream",
     "text": [
      "epoch 9: 0.017812709400014875\n"
     ]
    },
    {
     "name": "stderr",
     "output_type": "stream",
     "text": [
      "100%|██████████| 1636/1636 [04:30<00:00,  6.06it/s]"
     ]
    },
    {
     "name": "stdout",
     "output_type": "stream",
     "text": [
      "epoch 10: 0.016961729453035687\n"
     ]
    },
    {
     "name": "stderr",
     "output_type": "stream",
     "text": [
      "\n"
     ]
    }
   ],
   "source": [
    "training_loss = []\n",
    "\n",
    "model.train()\n",
    "for e in range(epoches):\n",
    "    running_loss = 0.0\n",
    "    acc_iter = 0\n",
    "    optim.zero_grad()\n",
    "    \n",
    "    for img, label in tqdm(train_loader):\n",
    "        img = img.to(device)\n",
    "        label = label.to(device)\n",
    "        \n",
    "        output = model(img)\n",
    "        loss = criterion(output,label)\n",
    "        loss /= acc_iters\n",
    "        loss.backward()\n",
    "\n",
    "        if acc_iter % acc_iters == 0:\n",
    "            optim.step()\n",
    "            optim.zero_grad()\n",
    "            \n",
    "        running_loss += loss.item()\n",
    "        acc_iter += 1\n",
    "\n",
    "    training_loss.append(running_loss/len(dataset))\n",
    "    \n",
    "    print(f'epoch {e+1}: {training_loss[e]}')"
   ]
  },
  {
   "cell_type": "code",
   "execution_count": 41,
   "metadata": {},
   "outputs": [
    {
     "data": {
      "text/plain": [
       "[<matplotlib.lines.Line2D at 0x1e71e4d5a50>]"
      ]
     },
     "execution_count": 41,
     "metadata": {},
     "output_type": "execute_result"
    },
    {
     "data": {
      "image/png": "[encoded data removed]",
      "text/plain": [
       "<Figure size 640x480 with 1 Axes>"
      ]
     },
     "metadata": {},
     "output_type": "display_data"
    }
   ],
   "source": [
    "plt.plot(training_loss)"
   ]
  },
  {
   "cell_type": "markdown",
   "metadata": {},
   "source": [
    "# inference"
   ]
  },
  {
   "cell_type": "code",
   "execution_count": 42,
   "metadata": {},
   "outputs": [],
   "source": [
    "test_preprocess = transforms.Compose([\n",
    "    transforms.Resize((IMAGE_SIZE*2, IMAGE_SIZE*2)),\n",
    "    transforms.ToTensor(),\n",
    "    transforms.Normalize(IMAGENET_MEAN, IMAGENET_STD),\n",
    "])"
   ]
  },
  {
   "cell_type": "code",
   "execution_count": 43,
   "metadata": {},
   "outputs": [],
   "source": [
    "test_dataset = torchvision.datasets.ImageFolder(data_path.as_posix(), transform=test_preprocess)"
   ]
  },
  {
   "cell_type": "code",
   "execution_count": 44,
   "metadata": {},
   "outputs": [],
   "source": [
    "test_loader = DataLoader(test_dataset, batch_size=BATCH_SIZE)"
   ]
  },
  {
   "cell_type": "code",
   "execution_count": 45,
   "metadata": {},
   "outputs": [],
   "source": [
    "evaluator = ClassificationEvaluator(num_class, device)"
   ]
  },
  {
   "cell_type": "code",
   "execution_count": 46,
   "metadata": {},
   "outputs": [
    {
     "name": "stderr",
     "output_type": "stream",
     "text": [
      "100%|██████████| 1637/1637 [07:07<00:00,  3.83it/s]\n"
     ]
    }
   ],
   "source": [
    "confusion_matrix = IncrementalConfusionMatrix(num_class)\n",
    "\n",
    "model.eval()\n",
    "with torch.no_grad():\n",
    "    for img, label in tqdm(test_loader):\n",
    "        img = img.to(device)\n",
    "        \n",
    "        output = model(img)\n",
    "        output = output.detach().cpu()\n",
    "\n",
    "        output = output.argmax(dim=1)\n",
    "        confusion_matrix.update(label, output)"
   ]
  },
  {
   "cell_type": "code",
   "execution_count": 47,
   "metadata": {},
   "outputs": [
    {
     "name": "stdout",
     "output_type": "stream",
     "text": [
      "[[3783  164   94   68   64  129  110  100  277   74]\n",
      " [ 480 1630  109   15   32    5  202   68   70   12]\n",
      " [ 101  113 1108    8   11    1   21   47   22   14]\n",
      " [  57   12    8 1327   17   11    8    7  643   22]\n",
      " [ 301   91   55   53 2119   35   31   48  334   31]\n",
      " [ 677    8   55   19    8  647    9   13  128  104]\n",
      " [ 275  318   39    6   19    0  999  165   40    5]\n",
      " [ 189   64  138    3   24   23  172 1087   77   43]\n",
      " [ 141   35   31   49   10    7   16   39 4454   39]\n",
      " [ 240   63   46   11   20   73   17   66  430  896]]\n"
     ]
    }
   ],
   "source": [
    "print(confusion_matrix)"
   ]
  },
  {
   "cell_type": "code",
   "execution_count": 48,
   "metadata": {},
   "outputs": [
    {
     "name": "stdout",
     "output_type": "stream",
     "text": [
      "cane      : 0.7779148673658236\n",
      "cavallo   : 0.621425848265345\n",
      "elefante  : 0.7662517289073306\n",
      "farfalla  : 0.6283143939393939\n",
      "gallina   : 0.683989670755326\n",
      "gatto     : 0.38788968824940045\n",
      "mucca     : 0.5353697749196141\n",
      "pecora    : 0.5972527472527472\n",
      "ragno     : 0.9238747147894628\n",
      "scoiattolo: 0.48120300751879697\n"
     ]
    }
   ],
   "source": [
    "per_class_acc = evaluator.get_per_class_accuracy(confusion_matrix)\n",
    "evaluator.show_per_class_accuracy(test_dataset.classes, per_class_acc)"
   ]
  },
  {
   "cell_type": "code",
   "execution_count": 49,
   "metadata": {},
   "outputs": [
    {
     "data": {
      "text/plain": [
       "0.640348644196324"
      ]
     },
     "execution_count": 49,
     "metadata": {},
     "output_type": "execute_result"
    }
   ],
   "source": [
    "per_class_acc.mean()"
   ]
  },
  {
   "cell_type": "code",
   "execution_count": 53,
   "metadata": {},
   "outputs": [
    {
     "data": {
      "image/png": "[encoded data removed]",
      "text/plain": [
       "<Figure size 600x400 with 2 Axes>"
      ]
     },
     "metadata": {},
     "output_type": "display_data"
    }
   ],
   "source": [
    "evaluator.plot_confusion_matrix(\n",
    "    confusion_matrix,\n",
    "    test_dataset.classes,\n",
    "    \"Blues\",\n",
    "    annot=False,\n",
    "    figsize=(6, 4),\n",
    ")"
   ]
  },
  {
   "cell_type": "code",
   "execution_count": 56,
   "metadata": {},
   "outputs": [],
   "source": [
    "# image from internet\n",
    "import requests\n",
    "from io import BytesIO\n",
    "\n",
    "demo_url = \"http://t2.gstatic.com/licensed-image?q=tbn:ANd9GcSFoiMCj_B7I2ML4tMYIbrcSgD9gBkp-G1JVfYz8R5xtL76jjcXyhY92BwcFNKCSxCU1NwmZ5XfIAO1VCF7WCM\" # cow\n",
    "# demo_url = \"http://t0.gstatic.com/licensed-image?q=tbn:ANd9GcRgs4mxH44aRwV3qnlSmBlnP2u4pEDu8gatItCeqvXEb3yUol302ClE9ujMszbxXiyPZopDy-3i9EzcjjLNdTI\" # horse\n",
    "img = Image.open(BytesIO(requests.get(demo_url).content))\n",
    "img = test_preprocess(img).unsqueeze(0).to(device)"
   ]
  },
  {
   "cell_type": "code",
   "execution_count": null,
   "metadata": {},
   "outputs": [],
   "source": [
    "# randomly sampled from dataset\n",
    "\n",
    "# import random\n",
    "# idx = random.randint(0, len(dataset))\n",
    "# sample = test_dataset[idx]\n",
    "# img = sample[0].unsqueeze(0).to(device)"
   ]
  },
  {
   "cell_type": "code",
   "execution_count": 57,
   "metadata": {},
   "outputs": [
    {
     "name": "stdout",
     "output_type": "stream",
     "text": [
      "cane\n"
     ]
    }
   ],
   "source": [
    "model.eval()\n",
    "with torch.no_grad():\n",
    "    prediction = model(img).detach().cpu()\n",
    "    print(dataset.classes[prediction.argmax()])\n",
    "    # print(dataset.classes[sample[1]])"
   ]
  },
  {
   "cell_type": "code",
   "execution_count": 63,
   "metadata": {},
   "outputs": [],
   "source": [
    "model_path = artifact_path / 'resnet.1.pth'"
   ]
  },
  {
   "cell_type": "code",
   "execution_count": 64,
   "metadata": {},
   "outputs": [],
   "source": [
    "torch.save(model.state_dict(), model_path)"
   ]
  },
  {
   "cell_type": "code",
   "execution_count": 65,
   "metadata": {},
   "outputs": [
    {
     "data": {
      "text/plain": [
       "90.06841087341309"
      ]
     },
     "execution_count": 65,
     "metadata": {},
     "output_type": "execute_result"
    }
   ],
   "source": [
    "model_path.stat().st_size / 1024**2"
   ]
  },
  {
   "cell_type": "code",
   "execution_count": null,
   "metadata": {},
   "outputs": [],
   "source": [
    "model.load_state_dict(torch.load(model_path.as_posix()))"
   ]
  },
  {
   "cell_type": "code",
   "execution_count": 27,
   "metadata": {},
   "outputs": [],
   "source": [
    "# Netron 檢查\n",
    "onnx_path = artifact_path / \"resnet.onnx\"\n",
    "torch.onnx.export(model.cpu(), torch.randn(1, 3, 224, 224), onnx_path.as_posix())"
   ]
  },
  {
   "cell_type": "code",
   "execution_count": null,
   "metadata": {},
   "outputs": [],
   "source": []
  }
 ],
 "metadata": {
  "kernelspec": {
   "display_name": "Python 3.11.4 ('pytorch_implementation-d01dM_ad')",
   "language": "python",
   "name": "python3"
  },
  "language_info": {
   "codemirror_mode": {
    "name": "ipython",
    "version": 3
   },
   "file_extension": ".py",
   "mimetype": "text/x-python",
   "name": "python",
   "nbconvert_exporter": "python",
   "pygments_lexer": "ipython3",
   "version": "3.11.4"
  },
  "vscode": {
   "interpreter": {
    "hash": "e9a0f5bc210cc2fd6db4126ab49b4d48087584897d11cdd399640c3fb0a9b61d"
   }
  }
 },
 "nbformat": 4,
 "nbformat_minor": 2
}
