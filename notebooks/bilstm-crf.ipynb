{
 "cells": [
  {
   "cell_type": "code",
   "execution_count": 1,
   "metadata": {},
   "outputs": [],
   "source": [
    "from pathlib import Path\n",
    "\n",
    "import matplotlib.pyplot as plt\n",
    "import numpy as np\n",
    "import pandas as pd\n",
    "import torch\n",
    "import torchinfo\n",
    "import torchtext.transforms as T\n",
    "from seaborn import heatmap\n",
    "from sklearn.model_selection import train_test_split\n",
    "from torch import nn\n",
    "from torch.utils.data import DataLoader\n",
    "from torchlake.common.schemas import NlpContext\n",
    "from torchlake.common.utils.platform import get_file_size, get_num_workers\n",
    "from torchlake.sequence_data.models.lstm import LSTMDiscriminator\n",
    "from torchlake.common.controller.trainer import ClassificationTrainer\n",
    "from torchlake.common.controller.evaluator import ClassificationEvaluator\n",
    "from torchlake.tag_prediction.controllers.trainer_bilstm_crf import BiLSTMCRFTrainer\n",
    "from torchlake.tag_prediction.models.bilstm_crf import (BiLSTMCRF,\n",
    "                                                        LinearCRFLoss)\n",
    "from torchtext.data import get_tokenizer\n",
    "from torchlake.common.utils.text import build_vocab\n",
    "from tqdm import tqdm"
   ]
  },
  {
   "cell_type": "markdown",
   "metadata": {},
   "source": [
    "# setting\n"
   ]
  },
  {
   "cell_type": "code",
   "execution_count": 2,
   "metadata": {},
   "outputs": [],
   "source": [
    "artifacts_path = Path(\"../../artifacts/bilstm-crf\")\n",
    "artifacts_path.mkdir(exist_ok=True)\n",
    "\n",
    "data_path = Path(\"../../data/nerDataset\")"
   ]
  },
  {
   "cell_type": "code",
   "execution_count": 3,
   "metadata": {},
   "outputs": [],
   "source": [
    "batch_size = 128\n",
    "CONTEXT = NlpContext(device=\"cuda:0\")"
   ]
  },
  {
   "cell_type": "code",
   "execution_count": 4,
   "metadata": {},
   "outputs": [],
   "source": [
    "tokenizer = get_tokenizer(\"basic_english\")"
   ]
  },
  {
   "cell_type": "code",
   "execution_count": 5,
   "metadata": {},
   "outputs": [],
   "source": [
    "DEVICE = torch.device(CONTEXT.device)"
   ]
  },
  {
   "cell_type": "code",
   "execution_count": 6,
   "metadata": {},
   "outputs": [],
   "source": [
    "NUM_WORKERS = get_num_workers()"
   ]
  },
  {
   "cell_type": "markdown",
   "metadata": {},
   "source": [
    "# data\n"
   ]
  },
  {
   "cell_type": "code",
   "execution_count": 7,
   "metadata": {},
   "outputs": [],
   "source": [
    "# data = pd.read_csv(data_path.joinpath(\"ner_dataset.csv\"), encoding=\"latin-1\")"
   ]
  },
  {
   "cell_type": "code",
   "execution_count": 8,
   "metadata": {},
   "outputs": [],
   "source": [
    "# data[\"Sentence #\"] = data[\"Sentence #\"].ffill()"
   ]
  },
  {
   "cell_type": "code",
   "execution_count": 9,
   "metadata": {},
   "outputs": [],
   "source": [
    "# speedup groupby to save you hours to 10 seconds\n",
    "# data = data.set_index(\"Sentence #\")"
   ]
  },
  {
   "cell_type": "code",
   "execution_count": 10,
   "metadata": {},
   "outputs": [],
   "source": [
    "# new_df = data.groupby(level=(0)).apply(\n",
    "#     lambda row: [row[\"Word\"].str.cat(sep=\" \"), row[\"Tag\"].str.cat(sep=\" \")]\n",
    "# )"
   ]
  },
  {
   "cell_type": "code",
   "execution_count": 11,
   "metadata": {},
   "outputs": [],
   "source": [
    "# new_df = pd.DataFrame(new_df.tolist(), columns=[\"Text\", \"Label\"])"
   ]
  },
  {
   "cell_type": "code",
   "execution_count": 12,
   "metadata": {},
   "outputs": [],
   "source": [
    "# new_df.to_csv(data_path.joinpath(\"processed.csv\"), index=False)"
   ]
  },
  {
   "cell_type": "markdown",
   "metadata": {},
   "source": [
    "# load text data\n"
   ]
  },
  {
   "cell_type": "code",
   "execution_count": 13,
   "metadata": {},
   "outputs": [],
   "source": [
    "new_df = pd.read_csv(data_path.joinpath(\"processed.csv\"))"
   ]
  },
  {
   "cell_type": "code",
   "execution_count": 14,
   "metadata": {},
   "outputs": [],
   "source": [
    "# TODO: stratified so every label are present in train and test\n",
    "train_data, test_data = train_test_split(new_df, test_size=1/5, random_state=32)"
   ]
  },
  {
   "cell_type": "code",
   "execution_count": 15,
   "metadata": {},
   "outputs": [
    {
     "data": {
      "text/html": [
       "<div>\n",
       "<style scoped>\n",
       "    .dataframe tbody tr th:only-of-type {\n",
       "        vertical-align: middle;\n",
       "    }\n",
       "\n",
       "    .dataframe tbody tr th {\n",
       "        vertical-align: top;\n",
       "    }\n",
       "\n",
       "    .dataframe thead th {\n",
       "        text-align: right;\n",
       "    }\n",
       "</style>\n",
       "<table border=\"1\" class=\"dataframe\">\n",
       "  <thead>\n",
       "    <tr style=\"text-align: right;\">\n",
       "      <th></th>\n",
       "      <th>Text</th>\n",
       "      <th>Label</th>\n",
       "    </tr>\n",
       "  </thead>\n",
       "  <tbody>\n",
       "    <tr>\n",
       "      <th>2122</th>\n",
       "      <td>U Win Tin was arrested in 1989 and is serving ...</td>\n",
       "      <td>B-org I-org I-org O O O B-tim O O O O O O O O ...</td>\n",
       "    </tr>\n",
       "    <tr>\n",
       "      <th>1095</th>\n",
       "      <td>The last time the Vatican issued a vacant see ...</td>\n",
       "      <td>O O O O B-gpe O O O O O O O B-tim O O O B-per ...</td>\n",
       "    </tr>\n",
       "    <tr>\n",
       "      <th>46391</th>\n",
       "      <td>Witnesses say a top Palestinian bombmaker for ...</td>\n",
       "      <td>O O O O B-gpe O O O O B-geo I-geo O O O O B-ti...</td>\n",
       "    </tr>\n",
       "    <tr>\n",
       "      <th>22794</th>\n",
       "      <td>Pakistani police say a suicide bomber crashed ...</td>\n",
       "      <td>B-gpe O O O O O O O O O O O O O O O O O O O O ...</td>\n",
       "    </tr>\n",
       "    <tr>\n",
       "      <th>31861</th>\n",
       "      <td>The Defense Department is investigating the ac...</td>\n",
       "      <td>O B-org I-org O O O O O</td>\n",
       "    </tr>\n",
       "    <tr>\n",
       "      <th>...</th>\n",
       "      <td>...</td>\n",
       "      <td>...</td>\n",
       "    </tr>\n",
       "    <tr>\n",
       "      <th>24828</th>\n",
       "      <td>The militant Hezbollah movement fought a 34-da...</td>\n",
       "      <td>O O B-org O O O O O O B-geo O B-tim O O O O O ...</td>\n",
       "    </tr>\n",
       "    <tr>\n",
       "      <th>20414</th>\n",
       "      <td>The rebels say they will continue until the mo...</td>\n",
       "      <td>O O O O O O O O O O O O O O O O O O O O O</td>\n",
       "    </tr>\n",
       "    <tr>\n",
       "      <th>9526</th>\n",
       "      <td>The Olympic torch will make two trips to the w...</td>\n",
       "      <td>O O O O O O O O O O O O O O O O O O O O B-tim ...</td>\n",
       "    </tr>\n",
       "    <tr>\n",
       "      <th>42539</th>\n",
       "      <td>There were no reports of injuries and no claim...</td>\n",
       "      <td>O O O O O O O O O O O O</td>\n",
       "    </tr>\n",
       "    <tr>\n",
       "      <th>10967</th>\n",
       "      <td>In Belgrade , visiting French Foreign Minister...</td>\n",
       "      <td>O B-geo O O B-gpe O O B-per I-per O B-gpe O O ...</td>\n",
       "    </tr>\n",
       "  </tbody>\n",
       "</table>\n",
       "<p>38367 rows × 2 columns</p>\n",
       "</div>"
      ],
      "text/plain": [
       "                                                    Text  \\\n",
       "2122   U Win Tin was arrested in 1989 and is serving ...   \n",
       "1095   The last time the Vatican issued a vacant see ...   \n",
       "46391  Witnesses say a top Palestinian bombmaker for ...   \n",
       "22794  Pakistani police say a suicide bomber crashed ...   \n",
       "31861  The Defense Department is investigating the ac...   \n",
       "...                                                  ...   \n",
       "24828  The militant Hezbollah movement fought a 34-da...   \n",
       "20414  The rebels say they will continue until the mo...   \n",
       "9526   The Olympic torch will make two trips to the w...   \n",
       "42539  There were no reports of injuries and no claim...   \n",
       "10967  In Belgrade , visiting French Foreign Minister...   \n",
       "\n",
       "                                                   Label  \n",
       "2122   B-org I-org I-org O O O B-tim O O O O O O O O ...  \n",
       "1095   O O O O B-gpe O O O O O O O B-tim O O O B-per ...  \n",
       "46391  O O O O B-gpe O O O O B-geo I-geo O O O O B-ti...  \n",
       "22794  B-gpe O O O O O O O O O O O O O O O O O O O O ...  \n",
       "31861                            O B-org I-org O O O O O  \n",
       "...                                                  ...  \n",
       "24828  O O B-org O O O O O O B-geo O B-tim O O O O O ...  \n",
       "20414          O O O O O O O O O O O O O O O O O O O O O  \n",
       "9526   O O O O O O O O O O O O O O O O O O O O B-tim ...  \n",
       "42539                            O O O O O O O O O O O O  \n",
       "10967  O B-geo O O B-gpe O O B-per I-per O B-gpe O O ...  \n",
       "\n",
       "[38367 rows x 2 columns]"
      ]
     },
     "execution_count": 15,
     "metadata": {},
     "output_type": "execute_result"
    }
   ],
   "source": [
    "train_data"
   ]
  },
  {
   "cell_type": "code",
   "execution_count": 16,
   "metadata": {},
   "outputs": [],
   "source": [
    "vocab = build_vocab(\n",
    "    train_data[\"Text\"].str.lower().str.split(),\n",
    "    context=CONTEXT,\n",
    ")"
   ]
  },
  {
   "cell_type": "code",
   "execution_count": 17,
   "metadata": {},
   "outputs": [],
   "source": [
    "label_vocab = build_vocab(\n",
    "    train_data[\"Label\"].str.lower().str.split(),\n",
    "    context=CONTEXT,\n",
    ")"
   ]
  },
  {
   "cell_type": "code",
   "execution_count": 18,
   "metadata": {},
   "outputs": [],
   "source": [
    "VOCAB_SIZE = len(vocab)\n",
    "NUM_CLASS = len(label_vocab)"
   ]
  },
  {
   "cell_type": "code",
   "execution_count": 19,
   "metadata": {},
   "outputs": [
    {
     "data": {
      "text/plain": [
       "(9104, 21)"
      ]
     },
     "execution_count": 19,
     "metadata": {},
     "output_type": "execute_result"
    }
   ],
   "source": [
    "VOCAB_SIZE, NUM_CLASS"
   ]
  },
  {
   "cell_type": "code",
   "execution_count": 20,
   "metadata": {},
   "outputs": [],
   "source": [
    "text_transform = T.Sequential(\n",
    "    T.VocabTransform(vocab),\n",
    "    T.Truncate(CONTEXT.max_seq_len - 2),\n",
    "    T.AddToken(token=CONTEXT.bos_idx, begin=True),\n",
    "    T.AddToken(token=CONTEXT.eos_idx, begin=False),\n",
    "    T.ToTensor(),\n",
    "    T.PadTransform(CONTEXT.max_seq_len, CONTEXT.padding_idx),\n",
    ")"
   ]
  },
  {
   "cell_type": "code",
   "execution_count": 21,
   "metadata": {},
   "outputs": [],
   "source": [
    "label_transform = T.Sequential(\n",
    "    T.VocabTransform(label_vocab),\n",
    "    T.Truncate(CONTEXT.max_seq_len - 2),\n",
    "    T.AddToken(token=CONTEXT.bos_idx, begin=True),\n",
    "    T.AddToken(token=CONTEXT.eos_idx, begin=False),\n",
    "    T.ToTensor(),\n",
    "    T.PadTransform(CONTEXT.max_seq_len, CONTEXT.padding_idx),\n",
    ")"
   ]
  },
  {
   "cell_type": "code",
   "execution_count": 22,
   "metadata": {},
   "outputs": [],
   "source": [
    "def collate_fn(batch: np.ndarray):\n",
    "    text_placeholder, label_placeholder = [], []\n",
    "\n",
    "    for text, label in batch:\n",
    "        text = tokenizer(text)\n",
    "        text = text_transform(text)\n",
    "        text_placeholder.append(text)\n",
    "        \n",
    "        label = tokenizer(label)\n",
    "        label = label_transform(label)\n",
    "        label_placeholder.append(label)\n",
    "\n",
    "    return torch.stack(text_placeholder), torch.stack(label_placeholder)"
   ]
  },
  {
   "cell_type": "code",
   "execution_count": 23,
   "metadata": {},
   "outputs": [],
   "source": [
    "train_iter = DataLoader(\n",
    "    train_data.to_numpy(),\n",
    "    batch_size=batch_size,\n",
    "    collate_fn=collate_fn,\n",
    "    shuffle=True,\n",
    "    drop_last=True,\n",
    "    num_workers=NUM_WORKERS,\n",
    ")\n",
    "\n",
    "test_iter = DataLoader(\n",
    "    test_data.to_numpy(),\n",
    "    batch_size=batch_size,\n",
    "    collate_fn=collate_fn,\n",
    "    num_workers=NUM_WORKERS,\n",
    ")"
   ]
  },
  {
   "cell_type": "code",
   "execution_count": 24,
   "metadata": {},
   "outputs": [
    {
     "name": "stdout",
     "output_type": "stream",
     "text": [
      "torch.Size([128, 256]) torch.Size([128, 256])\n"
     ]
    }
   ],
   "source": [
    "for text, label in train_iter:\n",
    "    # print(text[0], label[0])\n",
    "    print(text.shape, label.shape)\n",
    "    break"
   ]
  },
  {
   "cell_type": "markdown",
   "metadata": {},
   "source": [
    "# model\n"
   ]
  },
  {
   "cell_type": "code",
   "execution_count": 25,
   "metadata": {},
   "outputs": [],
   "source": [
    "EMBED_DIM = 300\n",
    "HIDDEN_DIM = 256"
   ]
  },
  {
   "cell_type": "code",
   "execution_count": 26,
   "metadata": {},
   "outputs": [],
   "source": [
    "model = BiLSTMCRF(\n",
    "    VOCAB_SIZE,\n",
    "    EMBED_DIM,\n",
    "    HIDDEN_DIM,\n",
    "    NUM_CLASS,\n",
    "    num_layers=2,\n",
    "    context=CONTEXT,\n",
    ").to(DEVICE)"
   ]
  },
  {
   "cell_type": "code",
   "execution_count": 27,
   "metadata": {},
   "outputs": [
    {
     "data": {
      "text/plain": [
       "=================================================================\n",
       "Layer (type:depth-idx)                   Param #\n",
       "=================================================================\n",
       "BiLSTMCRF                                --\n",
       "├─LSTMDiscriminator: 1-1                 --\n",
       "│    └─Embedding: 2-1                    2,731,200\n",
       "│    └─LSTM: 2-2                         2,719,744\n",
       "│    └─LayerNorm: 2-3                    1,024\n",
       "│    └─Linear: 2-4                       10,773\n",
       "├─LinearCRF: 1-2                         441\n",
       "=================================================================\n",
       "Total params: 5,463,182\n",
       "Trainable params: 5,463,182\n",
       "Non-trainable params: 0\n",
       "================================================================="
      ]
     },
     "execution_count": 27,
     "metadata": {},
     "output_type": "execute_result"
    }
   ],
   "source": [
    "torchinfo.summary(model)"
   ]
  },
  {
   "cell_type": "markdown",
   "metadata": {},
   "source": [
    "# training\n"
   ]
  },
  {
   "cell_type": "code",
   "execution_count": 28,
   "metadata": {},
   "outputs": [],
   "source": [
    "EPOCHES = 10"
   ]
  },
  {
   "cell_type": "code",
   "execution_count": 29,
   "metadata": {},
   "outputs": [],
   "source": [
    "trainer = BiLSTMCRFTrainer(EPOCHES, DEVICE)"
   ]
  },
  {
   "cell_type": "code",
   "execution_count": 30,
   "metadata": {},
   "outputs": [],
   "source": [
    "criterion = LinearCRFLoss(CONTEXT)\n",
    "optimizer = torch.optim.Adam(model.parameters(), lr=1e-3)"
   ]
  },
  {
   "cell_type": "code",
   "execution_count": 31,
   "metadata": {},
   "outputs": [],
   "source": [
    "scheduler = torch.optim.lr_scheduler.ReduceLROnPlateau(\n",
    "    optimizer,\n",
    "    \"min\",\n",
    "    patience=2,\n",
    "    threshold=0.05,\n",
    "    threshold_mode=\"rel\",\n",
    ")"
   ]
  },
  {
   "cell_type": "code",
   "execution_count": 32,
   "metadata": {},
   "outputs": [
    {
     "name": "stderr",
     "output_type": "stream",
     "text": [
      "  0%|          | 0/299 [00:00<?, ?it/s]"
     ]
    },
    {
     "name": "stderr",
     "output_type": "stream",
     "text": [
      "100%|██████████| 299/299 [00:21<00:00, 14.15it/s]\n"
     ]
    },
    {
     "name": "stdout",
     "output_type": "stream",
     "text": [
      "epoch 1 : 12.279418501965576\n"
     ]
    },
    {
     "name": "stderr",
     "output_type": "stream",
     "text": [
      "100%|██████████| 299/299 [00:19<00:00, 15.05it/s]\n"
     ]
    },
    {
     "name": "stdout",
     "output_type": "stream",
     "text": [
      "epoch 2 : 9.9376846205032\n"
     ]
    },
    {
     "name": "stderr",
     "output_type": "stream",
     "text": [
      "100%|██████████| 299/299 [00:19<00:00, 15.43it/s]\n"
     ]
    },
    {
     "name": "stdout",
     "output_type": "stream",
     "text": [
      "epoch 3 : 8.170835475060453\n"
     ]
    },
    {
     "name": "stderr",
     "output_type": "stream",
     "text": [
      "100%|██████████| 299/299 [00:19<00:00, 15.41it/s]\n"
     ]
    },
    {
     "name": "stdout",
     "output_type": "stream",
     "text": [
      "epoch 4 : 6.88186370409452\n"
     ]
    },
    {
     "name": "stderr",
     "output_type": "stream",
     "text": [
      "100%|██████████| 299/299 [00:19<00:00, 15.35it/s]\n"
     ]
    },
    {
     "name": "stdout",
     "output_type": "stream",
     "text": [
      "epoch 5 : 5.7802342714673305\n"
     ]
    },
    {
     "name": "stderr",
     "output_type": "stream",
     "text": [
      "100%|██████████| 299/299 [00:19<00:00, 15.40it/s]\n"
     ]
    },
    {
     "name": "stdout",
     "output_type": "stream",
     "text": [
      "epoch 6 : 4.825836230281205\n"
     ]
    },
    {
     "name": "stderr",
     "output_type": "stream",
     "text": [
      "100%|██████████| 299/299 [00:19<00:00, 15.37it/s]\n"
     ]
    },
    {
     "name": "stdout",
     "output_type": "stream",
     "text": [
      "epoch 7 : 4.163181013885549\n"
     ]
    },
    {
     "name": "stderr",
     "output_type": "stream",
     "text": [
      "100%|██████████| 299/299 [00:20<00:00, 14.90it/s]\n"
     ]
    },
    {
     "name": "stdout",
     "output_type": "stream",
     "text": [
      "epoch 8 : 3.6480209189513855\n"
     ]
    },
    {
     "name": "stderr",
     "output_type": "stream",
     "text": [
      "100%|██████████| 299/299 [00:19<00:00, 15.34it/s]\n"
     ]
    },
    {
     "name": "stdout",
     "output_type": "stream",
     "text": [
      "epoch 9 : 3.287215100881647\n"
     ]
    },
    {
     "name": "stderr",
     "output_type": "stream",
     "text": [
      "100%|██████████| 299/299 [00:19<00:00, 15.23it/s]"
     ]
    },
    {
     "name": "stdout",
     "output_type": "stream",
     "text": [
      "epoch 10 : 3.0245470087663784\n"
     ]
    },
    {
     "name": "stderr",
     "output_type": "stream",
     "text": [
      "\n"
     ]
    }
   ],
   "source": [
    "training_loss = trainer.run(\n",
    "    train_iter,\n",
    "    model,\n",
    "    optimizer,\n",
    "    criterion,\n",
    "    scheduler,\n",
    ")"
   ]
  },
  {
   "cell_type": "code",
   "execution_count": 33,
   "metadata": {},
   "outputs": [
    {
     "data": {
      "text/plain": [
       "[<matplotlib.lines.Line2D at 0x1b7f0e3e450>]"
      ]
     },
     "execution_count": 33,
     "metadata": {},
     "output_type": "execute_result"
    },
    {
     "data": {
      "image/png": "[encoded data removed]",
      "text/plain": [
       "<Figure size 640x480 with 1 Axes>"
      ]
     },
     "metadata": {},
     "output_type": "display_data"
    }
   ],
   "source": [
    "plt.plot(training_loss)"
   ]
  },
  {
   "cell_type": "code",
   "execution_count": 34,
   "metadata": {},
   "outputs": [],
   "source": [
    "model_path = artifacts_path.joinpath(\"crf.pth\")"
   ]
  },
  {
   "cell_type": "code",
   "execution_count": 35,
   "metadata": {},
   "outputs": [],
   "source": [
    "torch.save(model.state_dict(), model_path)"
   ]
  },
  {
   "cell_type": "code",
   "execution_count": 36,
   "metadata": {},
   "outputs": [
    {
     "data": {
      "text/plain": [
       "'20.84MiB'"
      ]
     },
     "execution_count": 36,
     "metadata": {},
     "output_type": "execute_result"
    }
   ],
   "source": [
    "get_file_size(model_path)"
   ]
  },
  {
   "cell_type": "code",
   "execution_count": 37,
   "metadata": {},
   "outputs": [
    {
     "data": {
      "text/plain": [
       "<All keys matched successfully>"
      ]
     },
     "execution_count": 37,
     "metadata": {},
     "output_type": "execute_result"
    }
   ],
   "source": [
    "model.load_state_dict(torch.load(model_path))"
   ]
  },
  {
   "cell_type": "markdown",
   "metadata": {},
   "source": [
    "## baseline"
   ]
  },
  {
   "cell_type": "code",
   "execution_count": 44,
   "metadata": {},
   "outputs": [],
   "source": [
    "baseline = LSTMDiscriminator(\n",
    "    VOCAB_SIZE,\n",
    "    EMBED_DIM,\n",
    "    HIDDEN_DIM,\n",
    "    NUM_CLASS,\n",
    "    num_layers=2,\n",
    "    bidirectional=True,\n",
    "    context=CONTEXT,\n",
    "    sequence_output=True,\n",
    ").to(DEVICE)"
   ]
  },
  {
   "cell_type": "code",
   "execution_count": 45,
   "metadata": {},
   "outputs": [
    {
     "data": {
      "text/plain": [
       "=================================================================\n",
       "Layer (type:depth-idx)                   Param #\n",
       "=================================================================\n",
       "LSTMDiscriminator                        --\n",
       "├─Embedding: 1-1                         2,731,200\n",
       "├─LSTM: 1-2                              2,719,744\n",
       "├─LayerNorm: 1-3                         1,024\n",
       "├─Linear: 1-4                            10,773\n",
       "=================================================================\n",
       "Total params: 5,462,741\n",
       "Trainable params: 5,462,741\n",
       "Non-trainable params: 0\n",
       "================================================================="
      ]
     },
     "execution_count": 45,
     "metadata": {},
     "output_type": "execute_result"
    }
   ],
   "source": [
    "torchinfo.summary(baseline)"
   ]
  },
  {
   "cell_type": "code",
   "execution_count": 46,
   "metadata": {},
   "outputs": [],
   "source": [
    "trainer = ClassificationTrainer(EPOCHES, DEVICE, feature_last=True)"
   ]
  },
  {
   "cell_type": "code",
   "execution_count": 47,
   "metadata": {},
   "outputs": [],
   "source": [
    "criterion = nn.CrossEntropyLoss(ignore_index=CONTEXT.padding_idx)\n",
    "optimizer = torch.optim.Adam(baseline.parameters(), lr=1e-3)"
   ]
  },
  {
   "cell_type": "code",
   "execution_count": 48,
   "metadata": {},
   "outputs": [],
   "source": [
    "scheduler = torch.optim.lr_scheduler.ReduceLROnPlateau(\n",
    "    optimizer,\n",
    "    \"min\",\n",
    "    patience=2,\n",
    "    threshold=0.05,\n",
    "    threshold_mode=\"rel\",\n",
    ")"
   ]
  },
  {
   "cell_type": "code",
   "execution_count": 49,
   "metadata": {},
   "outputs": [
    {
     "name": "stderr",
     "output_type": "stream",
     "text": [
      "100%|██████████| 299/299 [00:18<00:00, 16.01it/s]\n"
     ]
    },
    {
     "name": "stdout",
     "output_type": "stream",
     "text": [
      "epoch 1 : 0.19110617948615033\n"
     ]
    },
    {
     "name": "stderr",
     "output_type": "stream",
     "text": [
      "100%|██████████| 299/299 [00:18<00:00, 16.13it/s]\n"
     ]
    },
    {
     "name": "stdout",
     "output_type": "stream",
     "text": [
      "epoch 2 : 0.1007926145375373\n"
     ]
    },
    {
     "name": "stderr",
     "output_type": "stream",
     "text": [
      "100%|██████████| 299/299 [00:17<00:00, 17.04it/s]\n"
     ]
    },
    {
     "name": "stdout",
     "output_type": "stream",
     "text": [
      "epoch 3 : 0.07531792180843178\n"
     ]
    },
    {
     "name": "stderr",
     "output_type": "stream",
     "text": [
      "100%|██████████| 299/299 [00:18<00:00, 16.34it/s]\n"
     ]
    },
    {
     "name": "stdout",
     "output_type": "stream",
     "text": [
      "epoch 4 : 0.05815438861432283\n"
     ]
    },
    {
     "name": "stderr",
     "output_type": "stream",
     "text": [
      "100%|██████████| 299/299 [00:18<00:00, 16.26it/s]\n"
     ]
    },
    {
     "name": "stdout",
     "output_type": "stream",
     "text": [
      "epoch 5 : 0.04380477744350864\n"
     ]
    },
    {
     "name": "stderr",
     "output_type": "stream",
     "text": [
      "100%|██████████| 299/299 [00:18<00:00, 16.59it/s]\n"
     ]
    },
    {
     "name": "stdout",
     "output_type": "stream",
     "text": [
      "epoch 6 : 0.03245909454730841\n"
     ]
    },
    {
     "name": "stderr",
     "output_type": "stream",
     "text": [
      "100%|██████████| 299/299 [00:17<00:00, 16.63it/s]\n"
     ]
    },
    {
     "name": "stdout",
     "output_type": "stream",
     "text": [
      "epoch 7 : 0.023066311401866352\n"
     ]
    },
    {
     "name": "stderr",
     "output_type": "stream",
     "text": [
      "100%|██████████| 299/299 [00:17<00:00, 16.64it/s]\n"
     ]
    },
    {
     "name": "stdout",
     "output_type": "stream",
     "text": [
      "epoch 8 : 0.01709391265472142\n"
     ]
    },
    {
     "name": "stderr",
     "output_type": "stream",
     "text": [
      "100%|██████████| 299/299 [00:18<00:00, 16.56it/s]\n"
     ]
    },
    {
     "name": "stdout",
     "output_type": "stream",
     "text": [
      "epoch 9 : 0.013104419069782049\n"
     ]
    },
    {
     "name": "stderr",
     "output_type": "stream",
     "text": [
      "100%|██████████| 299/299 [00:17<00:00, 16.63it/s]"
     ]
    },
    {
     "name": "stdout",
     "output_type": "stream",
     "text": [
      "epoch 10 : 0.00920975228372874\n"
     ]
    },
    {
     "name": "stderr",
     "output_type": "stream",
     "text": [
      "\n"
     ]
    }
   ],
   "source": [
    "training_loss = trainer.run(\n",
    "    train_iter,\n",
    "    baseline,\n",
    "    optimizer,\n",
    "    criterion,\n",
    "    scheduler,\n",
    ")"
   ]
  },
  {
   "cell_type": "code",
   "execution_count": 50,
   "metadata": {},
   "outputs": [
    {
     "data": {
      "text/plain": [
       "[<matplotlib.lines.Line2D at 0x1b7eda8a090>]"
      ]
     },
     "execution_count": 50,
     "metadata": {},
     "output_type": "execute_result"
    },
    {
     "data": {
      "image/png": "[encoded data removed]",
      "text/plain": [
       "<Figure size 640x480 with 1 Axes>"
      ]
     },
     "metadata": {},
     "output_type": "display_data"
    }
   ],
   "source": [
    "plt.plot(training_loss)"
   ]
  },
  {
   "cell_type": "code",
   "execution_count": 51,
   "metadata": {},
   "outputs": [],
   "source": [
    "baseline_path = artifacts_path.joinpath(\"baseline.pth\")"
   ]
  },
  {
   "cell_type": "code",
   "execution_count": 52,
   "metadata": {},
   "outputs": [],
   "source": [
    "torch.save(baseline.state_dict(), baseline_path)"
   ]
  },
  {
   "cell_type": "code",
   "execution_count": 53,
   "metadata": {},
   "outputs": [
    {
     "data": {
      "text/plain": [
       "'20.84MiB'"
      ]
     },
     "execution_count": 53,
     "metadata": {},
     "output_type": "execute_result"
    }
   ],
   "source": [
    "get_file_size(baseline_path)"
   ]
  },
  {
   "cell_type": "code",
   "execution_count": 54,
   "metadata": {},
   "outputs": [
    {
     "data": {
      "text/plain": [
       "<All keys matched successfully>"
      ]
     },
     "execution_count": 54,
     "metadata": {},
     "output_type": "execute_result"
    }
   ],
   "source": [
    "baseline.load_state_dict(torch.load(baseline_path))"
   ]
  },
  {
   "cell_type": "markdown",
   "metadata": {},
   "source": [
    "# prediction\n"
   ]
  },
  {
   "cell_type": "code",
   "execution_count": 38,
   "metadata": {},
   "outputs": [
    {
     "name": "stdout",
     "output_type": "stream",
     "text": [
      "--------------sentence 0\n",
      "score:  -9899.2861328125\n",
      "pred :  o     o     o     o     o     o     o     o     o     o     o     o     o     o     o     o     o     o     o     o     o     o     o     o     o     o     o     o     o     o     o     o     o     o     o     o     o     o     o     o     o     o     o     o     o     o     o     o     o     o     o     o     o     o     o     o     o     o     o     o     o     o     o     o     o     o     o     o     o     o     o     o     o     o     o     o     o     o     o     o     o     o     o     o     o     o     o     o     o     o     o     o     o     o     o     o     o     o     o     o     o     o     o     o     o     o     o     o     o     o     o     o     o     o     o     o     o     o     o     o     o     o     o     o     o     o     o     o     o     o     o     o     o     o     o     o     o     o     o     o     o     o     o     o     o     o     o     o     o     o     o     o     o     o     o     o     o     o     o     o     o     o     o     o     o     o     o     o     o     o     o     o     o     o     o     o     o     o     o     o     o     o     o     o     o     o     o     o     o     o     o     o     o     o     o     o     o     o     o     o     o     o     o     o     o     o     o     o     o     o     o     o     o     o     o     o     o     o     o     o     o     o     o     o     o     o     o     o     o     o     o     o     o     o     o     o     o     o     o     o     o     o     o     o     o     o     o     o     o     o     o     o     o     o    \n",
      "label:  b-org i-org i-org o     o     o     b-tim o     o     o     o     o     o     o     o     o     o     o    \n",
      "text :  U Win Tin was arrested in 1989 and is serving a 20-year sentence for writing anti-government propaganda .\n",
      "\n",
      "--------------sentence 1\n",
      "score:  -9867.3125\n",
      "pred :  o     o     o     o     o     o     o     o     o     o     o     o     o     o     o     o     o     o     o     o     o     o     o     o     o     o     o     o     o     o     o     o     o     o     o     o     o     o     o     o     o     o     o     o     o     o     o     o     o     o     o     o     o     o     o     o     o     o     o     o     o     o     o     o     o     o     o     o     o     o     o     o     o     o     o     o     o     o     o     o     o     o     o     o     o     o     o     o     o     o     o     o     o     o     o     o     o     o     o     o     o     o     o     o     o     o     o     o     o     o     o     o     o     o     o     o     o     o     o     o     o     o     o     o     o     o     o     o     o     o     o     o     o     o     o     o     o     o     o     o     o     o     o     o     o     o     o     o     o     o     o     o     o     o     o     o     o     o     o     o     o     o     o     o     o     o     o     o     o     o     o     o     o     o     o     o     o     o     o     o     o     o     o     o     o     o     o     o     o     o     o     o     o     o     o     o     o     o     o     o     o     o     o     o     o     o     o     o     o     o     o     o     o     o     o     o     o     o     o     o     o     o     o     o     o     o     o     o     o     o     o     o     o     o     o     o     o     o     o     o     o     o     o     o     o     o     o     o     o     o     o     o     o     o    \n",
      "label:  o     o     o     o     b-gpe o     o     o     o     o     o     o     b-tim o     o     o     b-per i-per i-per o     o    \n",
      "text :  The last time the Vatican issued a vacant see stamp was in 1978 , when Pope John Paul I died .\n",
      "\n",
      "--------------sentence 2\n",
      "score:  -9840.935546875\n",
      "pred :  o     o     o     o     o     o     o     o     o     o     o     o     o     o     o     o     o     o     o     o     o     o     o     o     o     o     o     o     o     o     o     o     o     o     o     o     o     o     o     o     o     o     o     o     o     o     o     o     o     o     o     o     o     o     o     o     o     o     o     o     o     o     o     o     o     o     o     o     o     o     o     o     o     o     o     o     o     o     o     o     o     o     o     o     o     o     o     o     o     o     o     o     o     o     o     o     o     o     o     o     o     o     o     o     o     o     o     o     o     o     o     o     o     o     o     o     o     o     o     o     o     o     o     o     o     o     o     o     o     o     o     o     o     o     o     o     o     o     o     o     o     o     o     o     o     o     o     o     o     o     o     o     o     o     o     o     o     o     o     o     o     o     o     o     o     o     o     o     o     o     o     o     o     o     o     o     o     o     o     o     o     o     o     o     o     o     o     o     o     o     o     o     o     o     o     o     o     o     o     o     o     o     o     o     o     o     o     o     o     o     o     o     o     o     o     o     o     o     o     o     o     o     o     o     o     o     o     o     o     o     o     o     o     o     o     o     o     o     o     o     o     o     o     o     o     o     o     o     o     o     o     o     o     o    \n",
      "label:  o     o     o     o     b-gpe o     o     o     o     b-geo i-geo o     o     o     o     b-tim o     o     b-gpe o     o     o     b-geo i-geo o    \n",
      "text :  Witnesses say a top Palestinian bombmaker for the militant Islamic Jihad group was killed late Sunday in an Israeli missile strike in Gaza City .\n",
      "\n",
      "--------------sentence 3\n",
      "score:  -9810.6826171875\n",
      "pred :  o     o     o     o     o     o     o     o     o     o     o     o     o     o     o     o     o     o     o     o     o     o     o     o     o     o     o     o     o     o     o     o     o     o     o     o     o     o     o     o     o     o     o     o     o     o     o     o     o     o     o     o     o     o     o     o     o     o     o     o     o     o     o     o     o     o     o     o     o     o     o     o     o     o     o     o     o     o     o     o     o     o     o     o     o     o     o     o     o     o     o     o     o     o     o     o     o     o     o     o     o     o     o     o     o     o     o     o     o     o     o     o     o     o     o     o     o     o     o     o     o     o     o     o     o     o     o     o     o     o     o     o     o     o     o     o     o     o     o     o     o     o     o     o     o     o     o     o     o     o     o     o     o     o     o     o     o     o     o     o     o     o     o     o     o     o     o     o     o     o     o     o     o     o     o     o     o     o     o     o     o     o     o     o     o     o     o     o     o     o     o     o     o     o     o     o     o     o     o     o     o     o     o     o     o     o     o     o     o     o     o     o     o     o     o     o     o     o     o     o     o     o     o     o     o     o     o     o     o     o     o     o     o     o     o     o     o     o     o     o     o     o     o     o     o     o     o     o     o     o     o     o     o     o    \n",
      "label:  b-gpe o     o     o     o     o     o     o     o     o     o     o     o     o     o     o     o     o     o     o     o     o     o     o    \n",
      "text :  Pakistani police say a suicide bomber crashed an explosives-laden car into a police checkpoint killing at least three officers and wounding 17 others .\n",
      "\n",
      "--------------sentence 4\n",
      "score:  -9942.96875\n",
      "pred :  o     o     o     o     o     o     o     o     o     o     o     o     o     o     o     o     o     o     o     o     o     o     o     o     o     o     o     o     o     o     o     o     o     o     o     o     o     o     o     o     o     o     o     o     o     o     o     o     o     o     o     o     o     o     o     o     o     o     o     o     o     o     o     o     o     o     o     o     o     o     o     o     o     o     o     o     o     o     o     o     o     o     o     o     o     o     o     o     o     o     o     o     o     o     o     o     o     o     o     o     o     o     o     o     o     o     o     o     o     o     o     o     o     o     o     o     o     o     o     o     o     o     o     o     o     o     o     o     o     o     o     o     o     o     o     o     o     o     o     o     o     o     o     o     o     o     o     o     o     o     o     o     o     o     o     o     o     o     o     o     o     o     o     o     o     o     o     o     o     o     o     o     o     o     o     o     o     o     o     o     o     o     o     o     o     o     o     o     o     o     o     o     o     o     o     o     o     o     o     o     o     o     o     o     o     o     o     o     o     o     o     o     o     o     o     o     o     o     o     o     o     o     o     o     o     o     o     o     o     o     o     o     o     o     o     o     o     o     o     o     o     o     o     o     o     o     o     o     o     o     o     o     o     o    \n",
      "label:  o     b-org i-org o     o     o     o     o    \n",
      "text :  The Defense Department is investigating the accusations .\n",
      "\n",
      "--------------sentence 5\n",
      "score:  -9923.7998046875\n",
      "pred :  o     o     o     o     o     o     o     o     o     o     o     o     o     o     o     o     o     o     o     o     o     o     o     o     o     o     o     o     o     o     o     o     o     o     o     o     o     o     o     o     o     o     o     o     o     o     o     o     o     o     o     o     o     o     o     o     o     o     o     o     o     o     o     o     o     o     o     o     o     o     o     o     o     o     o     o     o     o     o     o     o     o     o     o     o     o     o     o     o     o     o     o     o     o     o     o     o     o     o     o     o     o     o     o     o     o     o     o     o     o     o     o     o     o     o     o     o     o     o     o     o     o     o     o     o     o     o     o     o     o     o     o     o     o     o     o     o     o     o     o     o     o     o     o     o     o     o     o     o     o     o     o     o     o     o     o     o     o     o     o     o     o     o     o     o     o     o     o     o     o     o     o     o     o     o     o     o     o     o     o     o     o     o     o     o     o     o     o     o     o     o     o     o     o     o     o     o     o     o     o     o     o     o     o     o     o     o     o     o     o     o     o     o     o     o     o     o     o     o     o     o     o     o     o     o     o     o     o     o     o     o     o     o     o     o     o     o     o     o     o     o     o     o     o     o     o     o     o     o     o     o     o     o     o    \n",
      "label:  o     o     o     o     o     b-geo o     b-geo o     b-tim o    \n",
      "text :  The pope will arrive in Darwin , Australia on Sunday .\n",
      "\n",
      "--------------sentence 6\n",
      "score:  -9883.4189453125\n",
      "pred :  o     o     o     o     o     o     o     o     o     o     o     o     o     o     o     o     o     o     o     o     o     o     o     o     o     o     o     o     o     o     o     o     o     o     o     o     o     o     o     o     o     o     o     o     o     o     o     o     o     o     o     o     o     o     o     o     o     o     o     o     o     o     o     o     o     o     o     o     o     o     o     o     o     o     o     o     o     o     o     o     o     o     o     o     o     o     o     o     o     o     o     o     o     o     o     o     o     o     o     o     o     o     o     o     o     o     o     o     o     o     o     o     o     o     o     o     o     o     o     o     o     o     o     o     o     o     o     o     o     o     o     o     o     o     o     o     o     o     o     o     o     o     o     o     o     o     o     o     o     o     o     o     o     o     o     o     o     o     o     o     o     o     o     o     o     o     o     o     o     o     o     o     o     o     o     o     o     o     o     o     o     o     o     o     o     o     o     o     o     o     o     o     o     o     o     o     o     o     o     o     o     o     o     o     o     o     o     o     o     o     o     o     o     o     o     o     o     o     o     o     o     o     o     o     o     o     o     o     o     o     o     o     o     o     o     o     o     o     o     o     o     o     o     o     o     o     o     o     o     o     o     o     o     o    \n",
      "label:  o     o     o     o     o     o     o     o     o     b-org i-org o     o    \n",
      "text :  Many of the protesters were supporters of the banned Muslim Brotherhood movement .\n",
      "\n",
      "--------------sentence 7\n",
      "score:  -9869.5263671875\n",
      "pred :  o     o     o     o     o     o     o     o     o     o     o     o     o     o     o     o     o     o     o     o     o     o     o     o     o     o     o     o     o     o     o     o     o     o     o     o     o     o     o     o     o     o     o     o     o     o     o     o     o     o     o     o     o     o     o     o     o     o     o     o     o     o     o     o     o     o     o     o     o     o     o     o     o     o     o     o     o     o     o     o     o     o     o     o     o     o     o     o     o     o     o     o     o     o     o     o     o     o     o     o     o     o     o     o     o     o     o     o     o     o     o     o     o     o     o     o     o     o     o     o     o     o     o     o     o     o     o     o     o     o     o     o     o     o     o     o     o     o     o     o     o     o     o     o     o     o     o     o     o     o     o     o     o     o     o     o     o     o     o     o     o     o     o     o     o     o     o     o     o     o     o     o     o     o     o     o     o     o     o     o     o     o     o     o     o     o     o     o     o     o     o     o     o     o     o     o     o     o     o     o     o     o     o     o     o     o     o     o     o     o     o     o     o     o     o     o     o     o     o     o     o     o     o     o     o     o     o     o     o     o     o     o     o     o     o     o     o     o     o     o     o     o     o     o     o     o     o     o     o     o     o     o     o     o    \n",
      "label:  o     o     o     o     o     o     o     o     o     o     o     o     o     o     b-geo o    \n",
      "text :  When told there was not enough fuel , he agreed to go to neighboring Chad .\n",
      "\n",
      "--------------sentence 8\n",
      "score:  -9914.53515625\n",
      "pred :  o     o     o     o     o     o     o     o     o     o     o     o     o     o     o     o     o     o     o     o     o     o     o     o     o     o     o     o     o     o     o     o     o     o     o     o     o     o     o     o     o     o     o     o     o     o     o     o     o     o     o     o     o     o     o     o     o     o     o     o     o     o     o     o     o     o     o     o     o     o     o     o     o     o     o     o     o     o     o     o     o     o     o     o     o     o     o     o     o     o     o     o     o     o     o     o     o     o     o     o     o     o     o     o     o     o     o     o     o     o     o     o     o     o     o     o     o     o     o     o     o     o     o     o     o     o     o     o     o     o     o     o     o     o     o     o     o     o     o     o     o     o     o     o     o     o     o     o     o     o     o     o     o     o     o     o     o     o     o     o     o     o     o     o     o     o     o     o     o     o     o     o     o     o     o     o     o     o     o     o     o     o     o     o     o     o     o     o     o     o     o     o     o     o     o     o     o     o     o     o     o     o     o     o     o     o     o     o     o     o     o     o     o     o     o     o     o     o     o     o     o     o     o     o     o     o     o     o     o     o     o     o     o     o     o     o     o     o     o     o     o     o     o     o     o     o     o     o     o     o     o     o     o     o    \n",
      "label:  b-org o     o     o     o     o     o     o     o     o     o    \n",
      "text :  Damascus has denied it played any role in the assassination .\n",
      "\n",
      "--------------sentence 9\n",
      "score:  -9873.734375\n",
      "pred :  o     o     o     o     o     o     o     o     o     o     o     o     o     o     o     o     o     o     o     o     o     o     o     o     o     o     o     o     o     o     o     o     o     o     o     o     o     o     o     o     o     o     o     o     o     o     o     o     o     o     o     o     o     o     o     o     o     o     o     o     o     o     o     o     o     o     o     o     o     o     o     o     o     o     o     o     o     o     o     o     o     o     o     o     o     o     o     o     o     o     o     o     o     o     o     o     o     o     o     o     o     o     o     o     o     o     o     o     o     o     o     o     o     o     o     o     o     o     o     o     o     o     o     o     o     o     o     o     o     o     o     o     o     o     o     o     o     o     o     o     o     o     o     o     o     o     o     o     o     o     o     o     o     o     o     o     o     o     o     o     o     o     o     o     o     o     o     o     o     o     o     o     o     o     o     o     o     o     o     o     o     o     o     o     o     o     o     o     o     o     o     o     o     o     o     o     o     o     o     o     o     o     o     o     o     o     o     o     o     o     o     o     o     o     o     o     o     o     o     o     o     o     o     o     o     o     o     o     o     o     o     o     o     o     o     o     o     o     o     o     o     o     o     o     o     o     o     o     o     o     o     o     o     o    \n",
      "label:  o     o     o     o     o     o     o     o     b-geo i-geo o     o     o     o     o     o     o     o     o    \n",
      "text :  An estimate 5,000 to 10,000 residents remain in New Orleans , despite contaminated floodwaters and several raging fires .\n",
      "\n",
      "--------------sentence 10\n",
      "score:  -9942.84765625\n",
      "pred :  o     o     o     o     o     o     o     o     o     o     o     o     o     o     o     o     o     o     o     o     o     o     o     o     o     o     o     o     o     o     o     o     o     o     o     o     o     o     o     o     o     o     o     o     o     o     o     o     o     o     o     o     o     o     o     o     o     o     o     o     o     o     o     o     o     o     o     o     o     o     o     o     o     o     o     o     o     o     o     o     o     o     o     o     o     o     o     o     o     o     o     o     o     o     o     o     o     o     o     o     o     o     o     o     o     o     o     o     o     o     o     o     o     o     o     o     o     o     o     o     o     o     o     o     o     o     o     o     o     o     o     o     o     o     o     o     o     o     o     o     o     o     o     o     o     o     o     o     o     o     o     o     o     o     o     o     o     o     o     o     o     o     o     o     o     o     o     o     o     o     o     o     o     o     o     o     o     o     o     o     o     o     o     o     o     o     o     o     o     o     o     o     o     o     o     o     o     o     o     o     o     o     o     o     o     o     o     o     o     o     o     o     o     o     o     o     o     o     o     o     o     o     o     o     o     o     o     o     o     o     o     o     o     o     o     o     o     o     o     o     o     o     o     o     o     o     o     o     o     o     o     o     o     o    \n",
      "label:  b-org o     o     o     o     o     o     o    \n",
      "text :  Ford is the world 's third-largest automaker .\n",
      "\n",
      "--------------sentence 11\n",
      "score:  -9863.6025390625\n",
      "pred :  o     o     o     o     o     o     o     o     o     o     o     o     o     o     o     o     o     o     o     o     o     o     o     o     o     o     o     o     o     o     o     o     o     o     o     o     o     o     o     o     o     o     o     o     o     o     o     o     o     o     o     o     o     o     o     o     o     o     o     o     o     o     o     o     o     o     o     o     o     o     o     o     o     o     o     o     o     o     o     o     o     o     o     o     o     o     o     o     o     o     o     o     o     o     o     o     o     o     o     o     o     o     o     o     o     o     o     o     o     o     o     o     o     o     o     o     o     o     o     o     o     o     o     o     o     o     o     o     o     o     o     o     o     o     o     o     o     o     o     o     o     o     o     o     o     o     o     o     o     o     o     o     o     o     o     o     o     o     o     o     o     o     o     o     o     o     o     o     o     o     o     o     o     o     o     o     o     o     o     o     o     o     o     o     o     o     o     o     o     o     o     o     o     o     o     o     o     o     o     o     o     o     o     o     o     o     o     o     o     o     o     o     o     o     o     o     o     o     o     o     o     o     o     o     o     o     o     o     o     o     o     o     o     o     o     o     o     o     o     o     o     o     o     o     o     o     o     o     o     o     o     o     o     o    \n",
      "label:  b-gpe o     o     o     o     o     o     b-org i-org o     o     o     b-org i-org o     o     o     o     o     o     b-geo o    \n",
      "text :  Lebanese artillery and tanks continued to pound Fatah al-Islam militants inside the Nahr el-Bared refugee camp near the city of Tripoli .\n",
      "\n"
     ]
    }
   ],
   "source": [
    "model.eval()\n",
    "with torch.no_grad():\n",
    "    for i, (_, row) in enumerate(train_data.iterrows()):\n",
    "        sentence, tag = row['Text'], row['Label']\n",
    "        x = text_transform(tokenizer(sentence)).unsqueeze(0).to(DEVICE)\n",
    "        tag_seq, score = model.forward(x, output_score=True)\n",
    "        tag_seq = np.array(tag_seq.long()).flatten().tolist()\n",
    "        decoded_seq = label_vocab.lookup_tokens(tag_seq)\n",
    "        print(\"--------------sentence\", i)\n",
    "        print(\"score: \", score.item())\n",
    "        print(\"pred : \", *[f\"{d:<5}\" for d in decoded_seq[1:-1]])\n",
    "        print(\"label: \", *[f\"{t:<5}\" for t in tokenizer(tag)])\n",
    "        print(\"text : \", sentence)\n",
    "        print()\n",
    "        if i > 10:\n",
    "            break"
   ]
  },
  {
   "cell_type": "code",
   "execution_count": 55,
   "metadata": {},
   "outputs": [
    {
     "name": "stdout",
     "output_type": "stream",
     "text": [
      "--------------sentence 0\n",
      "pred :  <bos> b-org i-org i-org o     o     o     b-tim o     o     o     o     o     o     o     o     o     o    \n",
      "label:  b-org i-org i-org o     o     o     b-tim o     o     o     o     o     o     o     o     o     o     o    \n",
      "text :  U Win Tin was arrested in 1989 and is serving a 20-year sentence for writing anti-government propaganda .\n",
      "\n",
      "--------------sentence 1\n",
      "pred :  <bos> o     o     o     o     b-gpe o     o     o     o     o     o     o     b-tim o     o     o     b-per i-per i-per o    \n",
      "label:  o     o     o     o     b-gpe o     o     o     o     o     o     o     b-tim o     o     o     b-per i-per i-per o     o    \n",
      "text :  The last time the Vatican issued a vacant see stamp was in 1978 , when Pope John Paul I died .\n",
      "\n",
      "--------------sentence 2\n",
      "pred :  <bos> o     o     o     o     b-gpe o     o     o     o     b-geo i-geo o     o     o     o     b-tim o     o     b-gpe o     o     o     b-geo i-geo\n",
      "label:  o     o     o     o     b-gpe o     o     o     o     b-geo i-geo o     o     o     o     b-tim o     o     b-gpe o     o     o     b-geo i-geo o    \n",
      "text :  Witnesses say a top Palestinian bombmaker for the militant Islamic Jihad group was killed late Sunday in an Israeli missile strike in Gaza City .\n",
      "\n",
      "--------------sentence 3\n",
      "pred :  <bos> b-gpe o     o     o     o     o     o     o     o     o     o     o     o     o     o     o     o     o     o     o     o     o     o    \n",
      "label:  b-gpe o     o     o     o     o     o     o     o     o     o     o     o     o     o     o     o     o     o     o     o     o     o     o    \n",
      "text :  Pakistani police say a suicide bomber crashed an explosives-laden car into a police checkpoint killing at least three officers and wounding 17 others .\n",
      "\n",
      "--------------sentence 4\n",
      "pred :  <bos> o     b-org i-org o     o     o     o    \n",
      "label:  o     b-org i-org o     o     o     o     o    \n",
      "text :  The Defense Department is investigating the accusations .\n",
      "\n",
      "--------------sentence 5\n",
      "pred :  <bos> o     o     o     o     o     b-geo o     b-geo o     b-tim\n",
      "label:  o     o     o     o     o     b-geo o     b-geo o     b-tim o    \n",
      "text :  The pope will arrive in Darwin , Australia on Sunday .\n",
      "\n",
      "--------------sentence 6\n",
      "pred :  <bos> o     o     o     o     o     o     o     o     o     b-org i-org o    \n",
      "label:  o     o     o     o     o     o     o     o     o     b-org i-org o     o    \n",
      "text :  Many of the protesters were supporters of the banned Muslim Brotherhood movement .\n",
      "\n",
      "--------------sentence 7\n",
      "pred :  <bos> o     o     o     o     o     o     o     o     o     o     o     o     o     o     b-geo\n",
      "label:  o     o     o     o     o     o     o     o     o     o     o     o     o     o     b-geo o    \n",
      "text :  When told there was not enough fuel , he agreed to go to neighboring Chad .\n",
      "\n",
      "--------------sentence 8\n",
      "pred :  <bos> b-org o     o     o     o     o     o     o     o     o    \n",
      "label:  b-org o     o     o     o     o     o     o     o     o     o    \n",
      "text :  Damascus has denied it played any role in the assassination .\n",
      "\n",
      "--------------sentence 9\n",
      "pred :  <bos> o     o     o     o     o     o     o     o     b-geo i-geo o     o     o     o     o     o     o     o    \n",
      "label:  o     o     o     o     o     o     o     o     b-geo i-geo o     o     o     o     o     o     o     o     o    \n",
      "text :  An estimate 5,000 to 10,000 residents remain in New Orleans , despite contaminated floodwaters and several raging fires .\n",
      "\n",
      "--------------sentence 10\n",
      "pred :  <bos> b-org o     o     o     o     o     o    \n",
      "label:  b-org o     o     o     o     o     o     o    \n",
      "text :  Ford is the world 's third-largest automaker .\n",
      "\n",
      "--------------sentence 11\n",
      "pred :  <bos> b-gpe o     o     o     o     o     o     b-org i-org o     o     o     b-org i-org o     o     o     o     o     o     b-geo\n",
      "label:  b-gpe o     o     o     o     o     o     b-org i-org o     o     o     b-org i-org o     o     o     o     o     o     b-geo o    \n",
      "text :  Lebanese artillery and tanks continued to pound Fatah al-Islam militants inside the Nahr el-Bared refugee camp near the city of Tripoli .\n",
      "\n"
     ]
    }
   ],
   "source": [
    "baseline.eval()\n",
    "with torch.no_grad():\n",
    "    for i, (_, row) in enumerate(train_data.iterrows()):\n",
    "        sentence, tag = row['Text'], row['Label']\n",
    "        x = text_transform(tokenizer(sentence)).unsqueeze(0).to(DEVICE)\n",
    "        score = baseline(x).detach().cpu()\n",
    "        tag_seq = score.argmax(-1).numpy().flatten().tolist()\n",
    "        decoded_seq = label_vocab.lookup_tokens(tag_seq[:len(sentence.split())])\n",
    "        print(\"--------------sentence\", i)\n",
    "        print(\"pred : \", *[f\"{d:<5}\" for d in decoded_seq])\n",
    "        print(\"label: \", *[f\"{t:<5}\" for t in tokenizer(tag)])\n",
    "        print(\"text : \", sentence)\n",
    "        print()\n",
    "        if i > 10:\n",
    "            break"
   ]
  },
  {
   "cell_type": "markdown",
   "metadata": {},
   "source": [
    "# Evaluation\n"
   ]
  },
  {
   "cell_type": "markdown",
   "metadata": {},
   "source": [
    "## model"
   ]
  },
  {
   "cell_type": "code",
   "execution_count": 39,
   "metadata": {},
   "outputs": [],
   "source": [
    "evaluator = ClassificationEvaluator(NUM_CLASS, DEVICE, feature_dim=-1)"
   ]
  },
  {
   "cell_type": "code",
   "execution_count": 40,
   "metadata": {},
   "outputs": [
    {
     "name": "stderr",
     "output_type": "stream",
     "text": [
      "100%|██████████| 75/75 [00:07<00:00, 10.59it/s]"
     ]
    },
    {
     "name": "stdout",
     "output_type": "stream",
     "text": [
      "[[   0    0    0    0    0    0    0    0    0    0    0    0    0    0\n",
      "     0    0    0    0    0    0    0]\n",
      " [   0 9592    0    0    0    0    0    0    0    0    0    0    0    0\n",
      "     0    0    0    0    0    0    0]\n",
      " [   0    0 6259    0 3214   54    7    1    9    4   12    4    4   24\n",
      "     0    0    0    0    0    0    0]\n",
      " [   0    0 3439    0 9592   43    3    0    7    1    5    2    9   15\n",
      "     0    0    0    0    0    0    0]\n",
      " [   0    0  314    0 9590  541  194  355  174  310  346  129   72  145\n",
      "     7    4    2    4    3    1    0]\n",
      " [   0    0    9    0 1647 3638   20  275   39   82   47   58   39    8\n",
      "     1    3    0    0    0    0    0]\n",
      " [   0    0    3    0 1249   54 2354   19    8    6    7    0    5  133\n",
      "     1    2    0    0    0    0    0]\n",
      " [   0    0    4    0 1182  415    9 1733   51  145   77   48    2    1\n",
      "     4    1    0    0    1    0    0]\n",
      " [   0    0    3    0  400   17    2   16 1736  197   94    6   14    1\n",
      "     0    0    0    0    0    0    0]\n",
      " [   0    0    0    0  589   93    3   81  164 2033   47   11    4    4\n",
      "     0    0    0    0    0    0    0]\n",
      " [   0    0    1    0  787   58    5   83   89   55  952    8   65    0\n",
      "     2    0    2    1    0    1    0]\n",
      " [   0    0    2    0  482  113    1   34    4    8   16 2088    2    2\n",
      "     0    0    0    0    0    1    0]\n",
      " [   0    0    1    0  504  149    1    6   29    9  104    5  519    0\n",
      "     0    0    0    0    0    0    0]\n",
      " [   0    0    2    0  410   12   78    1    4    4    2    0    1  442\n",
      "     1    0    0    1    0    0    0]\n",
      " [   0    0    0    0   39   10    0    7    1    4    0    3    2    0\n",
      "     0    0    0    0    0    0    0]\n",
      " [   0    0    2    0   33    7    1    3    0    3    2    1    0    0\n",
      "     0    9    1    2    0    0    0]\n",
      " [   0    0    2    0   21    2    1    0    1    2    8    0    2    0\n",
      "     0    0    1    0    0    0    0]\n",
      " [   0    0    0    0   24    0    0    0    2    2    3    0    2    2\n",
      "     0    3    2    3    0    0    0]\n",
      " [   0    0    0    0   28    0    0    3    0    5    1    1    0    0\n",
      "     0    0    0    0    4    0    0]\n",
      " [   0    0    0    0   14    1    0    0    0    0    5   11    8    0\n",
      "     0    0    0    0    0   11    0]\n",
      " [   0    0    1    0    8    0    0    0    0    0    0    0    0    0\n",
      "     0    0    0    0    0    0    0]]\n"
     ]
    },
    {
     "name": "stderr",
     "output_type": "stream",
     "text": [
      "\n"
     ]
    }
   ],
   "source": [
    "confusion_matrix = evaluator.run(test_iter, model.foot)"
   ]
  },
  {
   "cell_type": "code",
   "execution_count": 41,
   "metadata": {},
   "outputs": [
    {
     "name": "stdout",
     "output_type": "stream",
     "text": [
      "<unk>     : 0.0\n",
      "<bos>     : 1.0\n",
      "<eos>     : 0.6525229357798165\n",
      "<pad>     : 0.0\n",
      "o         : 0.7866458863095727\n",
      "b-geo     : 0.6201841118308898\n",
      "b-tim     : 0.6128612340536319\n",
      "b-org     : 0.47182139940103457\n",
      "i-per     : 0.6983105390185036\n",
      "b-per     : 0.6711786068009244\n",
      "i-org     : 0.45139876718824085\n",
      "b-gpe     : 0.758445332364693\n",
      "i-geo     : 0.3911077618688772\n",
      "i-tim     : 0.4613778705636743\n",
      "b-art     : 0.0\n",
      "b-eve     : 0.140625\n",
      "i-art     : 0.025\n",
      "i-eve     : 0.06976744186046512\n",
      "b-nat     : 0.09523809523809523\n",
      "i-gpe     : 0.22\n",
      "i-nat     : 0.0\n"
     ]
    },
    {
     "name": "stderr",
     "output_type": "stream",
     "text": [
      "d:\\research\\pytorch-implementations\\.venv\\Lib\\site-packages\\torchlake\\common\\controller\\evaluator.py:104: RuntimeWarning: invalid value encountered in divide\n",
      "  return np.where(total == 0, 0, hits / total)\n"
     ]
    }
   ],
   "source": [
    "per_class_acc = evaluator.get_per_class_accuracy(confusion_matrix)\n",
    "evaluator.show_per_class_accuracy(label_vocab.get_itos(), per_class_acc)"
   ]
  },
  {
   "cell_type": "code",
   "execution_count": 42,
   "metadata": {},
   "outputs": [
    {
     "data": {
      "text/plain": [
       "0.380821296852859"
      ]
     },
     "execution_count": 42,
     "metadata": {},
     "output_type": "execute_result"
    }
   ],
   "source": [
    "per_class_acc[4:].mean()"
   ]
  },
  {
   "cell_type": "code",
   "execution_count": 43,
   "metadata": {},
   "outputs": [
    {
     "name": "stderr",
     "output_type": "stream",
     "text": [
      "d:\\research\\pytorch-implementations\\.venv\\Lib\\site-packages\\torchlake\\common\\controller\\evaluator.py:123: RuntimeWarning: invalid value encountered in divide\n",
      "  percentage = np.where(total == 0, 0, hits / total)\n"
     ]
    },
    {
     "data": {
      "image/png": "[encoded data removed]",
      "text/plain": [
       "<Figure size 800x600 with 2 Axes>"
      ]
     },
     "metadata": {},
     "output_type": "display_data"
    }
   ],
   "source": [
    "evaluator.plot_confusion_matrix(\n",
    "    confusion_matrix,\n",
    "    label_vocab.get_itos(),\n",
    "    \"Blues\",\n",
    "    annot=False,\n",
    "    figsize=(8, 6),\n",
    ")"
   ]
  },
  {
   "cell_type": "markdown",
   "metadata": {},
   "source": [
    "## baseline"
   ]
  },
  {
   "cell_type": "code",
   "execution_count": 56,
   "metadata": {},
   "outputs": [],
   "source": [
    "evaluator = ClassificationEvaluator(NUM_CLASS, DEVICE, feature_dim=-1)"
   ]
  },
  {
   "cell_type": "code",
   "execution_count": 57,
   "metadata": {},
   "outputs": [
    {
     "name": "stderr",
     "output_type": "stream",
     "text": [
      "100%|██████████| 75/75 [00:05<00:00, 14.53it/s]"
     ]
    },
    {
     "name": "stdout",
     "output_type": "stream",
     "text": [
      "[[   0    0    0    0    0    0    0    0    0    0    0    0    0    0\n",
      "     0    0    0    0    0    0    0]\n",
      " [   0 9592    0    0    0    0    0    0    0    0    0    0    0    0\n",
      "     0    0    0    0    0    0    0]\n",
      " [   0    0 9165    0  393    5   19    0    0    0    0    0    5    5\n",
      "     0    0    0    0    0    0    0]\n",
      " [   0    0 9592    0 1042    1    1    0    0    0    0    0    2    2\n",
      "     0    0    0    0    0    0    0]\n",
      " [   0    0  498    0 9590  410  338  409  131  216  292   75  104  129\n",
      "    11    5    8    6    7    3    2]\n",
      " [   0    0   20    0  605 4215   37  275   25  104   25   56   73    5\n",
      "     2    1    0    0    2    1    0]\n",
      " [   0    0    3    0  457   41 3118    8    4    9    4    1    1   86\n",
      "     1    0    0    0    0    0    0]\n",
      " [   0    0    4    0  660  541   16 2063   47  161   62   44    6    5\n",
      "     5    1    0    2    0    0    0]\n",
      " [   0    0    4    0  196   28    0   44 1832  170  115    2   30    4\n",
      "     0    0    3    0    0    1    0]\n",
      " [   0    0    0    0  332  112    8  145  129 2153   37    6    6    2\n",
      "     1    0    3    0    0    0    0]\n",
      " [   0    0    2    0  557   56    3  111  120   50 1104    5   94    3\n",
      "     3    1    6    1    0    2    0]\n",
      " [   0    0    1    0  152  123    1   37    3    6   10 2337    5    2\n",
      "     1    2    0    0    0    1    0]\n",
      " [   0    0    5    0  170  103    5    5   48    7   74    2  869    1\n",
      "     1    0    2    1    0    2    0]\n",
      " [   0    0    2    0  188   10  110    4    4    1    3    0    2  627\n",
      "     1    0    1    1    0    0    0]\n",
      " [   0    0    0    0   35   14    1    8    0    1    2    2    2    0\n",
      "     4    0    0    0    0    0    0]\n",
      " [   0    0    0    0   15    7    2    6    1    0    1    3    0    1\n",
      "     0   27    0    3    0    0    0]\n",
      " [   0    0    1    0   19    1    1    0    1    1    8    0    3    0\n",
      "     0    0    3    0    0    1    0]\n",
      " [   0    0    0    0   16    1    3    3    1    0    4    0    2    2\n",
      "     0    3    1    7    0    1    0]\n",
      " [   0    0    0    0   14    5    0    3    0    2    0    1    0    0\n",
      "     1    0    0    0   14    0    1]\n",
      " [   0    0    0    0    3    1    0    0    2    0    3    4    8    0\n",
      "     0    0    0    0    0   27    0]\n",
      " [   0    0    0    0    5    0    0    0    0    0    0    0    0    0\n",
      "     0    0    1    0    2    0    1]]\n"
     ]
    },
    {
     "name": "stderr",
     "output_type": "stream",
     "text": [
      "\n"
     ]
    }
   ],
   "source": [
    "confusion_matrix = evaluator.run(test_iter, baseline)"
   ]
  },
  {
   "cell_type": "code",
   "execution_count": 58,
   "metadata": {},
   "outputs": [
    {
     "name": "stdout",
     "output_type": "stream",
     "text": [
      "<unk>     : 0.0\n",
      "<bos>     : 1.0\n",
      "<eos>     : 0.9554837364470392\n",
      "<pad>     : 0.0\n",
      "o         : 0.7838809874121301\n",
      "b-geo     : 0.7739625413147264\n",
      "b-tim     : 0.8352531476024645\n",
      "b-org     : 0.5703621786010505\n",
      "i-per     : 0.7542198435570193\n",
      "b-per     : 0.7338104976141786\n",
      "i-org     : 0.5212464589235127\n",
      "b-gpe     : 0.8716896680343156\n",
      "i-geo     : 0.6710424710424711\n",
      "i-tim     : 0.6572327044025157\n",
      "b-art     : 0.057971014492753624\n",
      "b-eve     : 0.4090909090909091\n",
      "i-art     : 0.07692307692307693\n",
      "i-eve     : 0.1590909090909091\n",
      "b-nat     : 0.34146341463414637\n",
      "i-gpe     : 0.5625\n",
      "i-nat     : 0.1111111111111111\n"
     ]
    },
    {
     "name": "stderr",
     "output_type": "stream",
     "text": [
      "d:\\research\\pytorch-implementations\\.venv\\Lib\\site-packages\\torchlake\\common\\controller\\evaluator.py:104: RuntimeWarning: invalid value encountered in divide\n",
      "  return np.where(total == 0, 0, hits / total)\n"
     ]
    }
   ],
   "source": [
    "per_class_acc = evaluator.get_per_class_accuracy(confusion_matrix)\n",
    "evaluator.show_per_class_accuracy(label_vocab.get_itos(), per_class_acc)"
   ]
  },
  {
   "cell_type": "code",
   "execution_count": 59,
   "metadata": {},
   "outputs": [
    {
     "data": {
      "text/plain": [
       "0.5229912314027817"
      ]
     },
     "execution_count": 59,
     "metadata": {},
     "output_type": "execute_result"
    }
   ],
   "source": [
    "per_class_acc[4:].mean()"
   ]
  },
  {
   "cell_type": "code",
   "execution_count": 60,
   "metadata": {},
   "outputs": [
    {
     "name": "stderr",
     "output_type": "stream",
     "text": [
      "d:\\research\\pytorch-implementations\\.venv\\Lib\\site-packages\\torchlake\\common\\controller\\evaluator.py:123: RuntimeWarning: invalid value encountered in divide\n",
      "  percentage = np.where(total == 0, 0, hits / total)\n"
     ]
    },
    {
     "data": {
      "image/png": "[encoded data removed]",
      "text/plain": [
       "<Figure size 800x600 with 2 Axes>"
      ]
     },
     "metadata": {},
     "output_type": "display_data"
    }
   ],
   "source": [
    "evaluator.plot_confusion_matrix(\n",
    "    confusion_matrix,\n",
    "    label_vocab.get_itos(),\n",
    "    \"Blues\",\n",
    "    annot=False,\n",
    "    figsize=(8, 6),\n",
    ")"
   ]
  },
  {
   "cell_type": "markdown",
   "metadata": {},
   "source": [
    "# Visualization\n"
   ]
  },
  {
   "cell_type": "code",
   "execution_count": 61,
   "metadata": {},
   "outputs": [
    {
     "data": {
      "text/plain": [
       "<Axes: title={'center': 'transition likelihood'}>"
      ]
     },
     "execution_count": 61,
     "metadata": {},
     "output_type": "execute_result"
    },
    {
     "data": {
      "image/png": "[encoded data removed]",
      "text/plain": [
       "<Figure size 800x600 with 2 Axes>"
      ]
     },
     "metadata": {},
     "output_type": "display_data"
    }
   ],
   "source": [
    "plt.figure(figsize=(8, 6))\n",
    "plt.title('transition likelihood')\n",
    "heatmap(\n",
    "    model.head.transition\n",
    "    .softmax(-1)\n",
    "    # .div(-torch.inf)\n",
    "    .clone()\n",
    "    .detach()\n",
    "    .cpu()\n",
    "    .numpy(),\n",
    "    xticklabels=label_vocab.get_itos(),\n",
    "    yticklabels=label_vocab.get_itos(),\n",
    ")"
   ]
  },
  {
   "cell_type": "code",
   "execution_count": null,
   "metadata": {},
   "outputs": [],
   "source": []
  }
 ],
 "metadata": {
  "kernelspec": {
   "display_name": ".venv",
   "language": "python",
   "name": "python3"
  },
  "language_info": {
   "codemirror_mode": {
    "name": "ipython",
    "version": 3
   },
   "file_extension": ".py",
   "mimetype": "text/x-python",
   "name": "python",
   "nbconvert_exporter": "python",
   "pygments_lexer": "ipython3",
   "version": "3.11.4"
  }
 },
 "nbformat": 4,
 "nbformat_minor": 4
}
