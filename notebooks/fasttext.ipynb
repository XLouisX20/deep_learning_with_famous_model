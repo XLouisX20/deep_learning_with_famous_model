{
 "cells": [
  {
   "cell_type": "code",
   "execution_count": 1,
   "metadata": {},
   "outputs": [],
   "source": [
    "from pathlib import Path\n",
    "\n",
    "import matplotlib.pyplot as plt\n",
    "import torch\n",
    "import torchinfo\n",
    "import torchtext.transforms as T\n",
    "from torch import optim\n",
    "from torch.utils.data import DataLoader\n",
    "from torchlake.common.controller.evaluator import ClassificationEvaluator\n",
    "from torchlake.common.controller.trainer import ClassificationTrainer\n",
    "from torchlake.common.helpers.tokenizer import CharNgramTokenizer\n",
    "from torchlake.common.helpers.transform import CustomVocabTransform\n",
    "from torchlake.common.helpers.vocab import CharNgramVocab\n",
    "from torchlake.common.schemas.nlp import NlpContext\n",
    "from torchlake.common.utils.platform import get_file_size, get_num_workers\n",
    "from torchlake.common.utils.text import is_corpus_title, is_longer_text\n",
    "from torchlake.language_model.constants.enum import LossType\n",
    "from torchlake.text_classification.datasets.ag_news.constants import \\\n",
    "    CLASS_NAMES as AG_NEWS_CLASS_NAMES\n",
    "from torchlake.text_classification.models import FastText\n",
    "from torchtext.data.utils import get_tokenizer\n",
    "from torchtext.datasets import AG_NEWS"
   ]
  },
  {
   "cell_type": "markdown",
   "metadata": {},
   "source": [
    "To utilize this notebook, you have to install `portalocker`, `spacy` first"
   ]
  },
  {
   "cell_type": "markdown",
   "metadata": {},
   "source": [
    "# setting\n"
   ]
  },
  {
   "cell_type": "code",
   "execution_count": 2,
   "metadata": {},
   "outputs": [],
   "source": [
    "DATASET_NAME = \"AGNews\""
   ]
  },
  {
   "cell_type": "code",
   "execution_count": 3,
   "metadata": {},
   "outputs": [],
   "source": [
    "artifact_path = Path('../../artifacts/fasttext')\n",
    "artifact_dataset_path = artifact_path / DATASET_NAME\n",
    "data_path = Path('../../data') / DATASET_NAME"
   ]
  },
  {
   "cell_type": "code",
   "execution_count": 15,
   "metadata": {},
   "outputs": [],
   "source": [
    "NUM_CLASS = len(AG_NEWS_CLASS_NAMES)"
   ]
  },
  {
   "cell_type": "code",
   "execution_count": 4,
   "metadata": {},
   "outputs": [],
   "source": [
    "CONTEXT = NlpContext(\n",
    "    max_seq_len=512, # empirically based on n-grams\n",
    ")"
   ]
  },
  {
   "cell_type": "code",
   "execution_count": 5,
   "metadata": {},
   "outputs": [],
   "source": [
    "BATCH_SIZE = 1\n",
    "CONTEXT_SIZE = 5"
   ]
  },
  {
   "cell_type": "code",
   "execution_count": 6,
   "metadata": {},
   "outputs": [],
   "source": [
    "DEVICE = torch.device(CONTEXT.device)"
   ]
  },
  {
   "cell_type": "code",
   "execution_count": 8,
   "metadata": {},
   "outputs": [],
   "source": [
    "BUCKET_SIZE = 10**5"
   ]
  },
  {
   "cell_type": "code",
   "execution_count": 7,
   "metadata": {},
   "outputs": [],
   "source": [
    "tokenizer = get_tokenizer('basic_english')"
   ]
  },
  {
   "cell_type": "code",
   "execution_count": 9,
   "metadata": {},
   "outputs": [],
   "source": [
    "ngram_vocab = CharNgramVocab(bucket_size=BUCKET_SIZE)\n",
    "ngram_tokenizer = CharNgramTokenizer(tokenizer, ngram_vocab, [2])\n",
    "ngram_tokenizer.activate_vocab()"
   ]
  },
  {
   "cell_type": "code",
   "execution_count": 10,
   "metadata": {},
   "outputs": [],
   "source": [
    "def datapipe_factory(\n",
    "    datapipe,\n",
    "    minimum_length: int = 1,\n",
    "    transform=None,\n",
    "    indices_transform=None,\n",
    "):\n",
    "    datapipe = (\n",
    "        datapipe.map(lambda pair: (pair[0], pair[1].strip()))  # label, text\n",
    "        .map(lambda pair: (pair[0], pair[1].lower()))\n",
    "        .filter(lambda pair: is_longer_text(pair[1], minimum_length))\n",
    "        .filter(lambda pair: not is_corpus_title(pair[1]))\n",
    "        .map(\n",
    "            lambda pair: (pair[0], ngram_tokenizer(pair[1]))\n",
    "        )  # label, (token, word_indices)\n",
    "        # .map(lambda text: drop_keywords(text, stopwords.words('english')))\n",
    "        # .batch(batch_size)\n",
    "        # .map(lambda text: F.to_tensor(text, padding_value=padding_idx))\n",
    "    )\n",
    "\n",
    "    if transform:\n",
    "        datapipe = datapipe.map(\n",
    "            lambda pair: (\n",
    "                (\n",
    "                    transform(pair[1][0]), \n",
    "                    indices_transform(pair[1][1])\n",
    "                ), \n",
    "                pair[0]-1,\n",
    "            ) # (grams, indices), label\n",
    "        )\n",
    "    \n",
    "    return datapipe"
   ]
  },
  {
   "cell_type": "code",
   "execution_count": 11,
   "metadata": {},
   "outputs": [],
   "source": [
    "train_datapipe, test_datapipe = AG_NEWS(data_path.as_posix())"
   ]
  },
  {
   "cell_type": "code",
   "execution_count": 12,
   "metadata": {},
   "outputs": [
    {
     "name": "stderr",
     "output_type": "stream",
     "text": [
      "d:\\research\\pytorch-implementations\\.venv\\Lib\\site-packages\\torch\\utils\\data\\datapipes\\utils\\common.py:141: UserWarning: Local function is not supported by pickle, please use regular python function or functools.partial instead.\n",
      "  warnings.warn(\n"
     ]
    }
   ],
   "source": [
    "# create vocabulary\n",
    "cloned_train_datapipe = datapipe_factory(train_datapipe, CONTEXT_SIZE)\n",
    "for sentence in cloned_train_datapipe:\n",
    "    pass"
   ]
  },
  {
   "cell_type": "code",
   "execution_count": 13,
   "metadata": {},
   "outputs": [],
   "source": [
    "# ngram_tokenizer.frozen_vocab()"
   ]
  },
  {
   "cell_type": "code",
   "execution_count": 14,
   "metadata": {},
   "outputs": [],
   "source": [
    "vocab_size = len(ngram_vocab)"
   ]
  },
  {
   "cell_type": "code",
   "execution_count": 16,
   "metadata": {},
   "outputs": [],
   "source": [
    "ngram_vocab.save_subword_vocab(artifact_dataset_path / \"vocab.json\")"
   ]
  },
  {
   "cell_type": "code",
   "execution_count": 17,
   "metadata": {},
   "outputs": [],
   "source": [
    "text_transform = T.Sequential(\n",
    "    CustomVocabTransform(ngram_vocab),\n",
    "    # T.Truncate(CONTEXT.max_seq_len),\n",
    "    # T.AddToken(token=CONTEXT.bos_idx, begin=True),\n",
    "    # T.AddToken(token=CONTEXT.eos_idx, begin=False),\n",
    "    T.ToTensor(),\n",
    "    # T.PadTransform(CONTEXT.max_seq_len, CONTEXT.padding_idx),\n",
    ")"
   ]
  },
  {
   "cell_type": "code",
   "execution_count": 18,
   "metadata": {},
   "outputs": [],
   "source": [
    "indices_transform = T.Sequential(\n",
    "    # T.Truncate(CONTEXT.max_seq_len),\n",
    "    T.ToTensor(),\n",
    "    # T.PadTransform(CONTEXT.max_seq_len, CONTEXT.padding_idx),\n",
    ")"
   ]
  },
  {
   "cell_type": "code",
   "execution_count": 19,
   "metadata": {},
   "outputs": [],
   "source": [
    "train_datapipe = datapipe_factory(\n",
    "    train_datapipe,\n",
    "    CONTEXT_SIZE,\n",
    "    text_transform,\n",
    "    indices_transform,\n",
    ")\n",
    "\n",
    "test_datapipe = datapipe_factory(\n",
    "    test_datapipe,\n",
    "    CONTEXT_SIZE,\n",
    "    text_transform,\n",
    "    indices_transform,\n",
    ")"
   ]
  },
  {
   "cell_type": "code",
   "execution_count": 20,
   "metadata": {},
   "outputs": [
    {
     "name": "stdout",
     "output_type": "stream",
     "text": [
      "torch.Size([95])\n",
      "torch.Size([95])\n",
      "2\n",
      "torch.Size([189])\n",
      "torch.Size([189])\n",
      "2\n",
      "torch.Size([157])\n",
      "torch.Size([157])\n",
      "2\n",
      "torch.Size([181])\n",
      "torch.Size([181])\n",
      "2\n",
      "torch.Size([155])\n",
      "torch.Size([155])\n",
      "2\n",
      "torch.Size([152])\n",
      "torch.Size([152])\n",
      "2\n",
      "torch.Size([130])\n",
      "torch.Size([130])\n",
      "2\n",
      "torch.Size([165])\n",
      "torch.Size([165])\n",
      "2\n",
      "torch.Size([255])\n",
      "torch.Size([255])\n",
      "2\n",
      "torch.Size([92])\n",
      "torch.Size([92])\n",
      "2\n",
      "torch.Size([150])\n",
      "torch.Size([150])\n",
      "2\n",
      "torch.Size([168])\n",
      "torch.Size([168])\n",
      "2\n",
      "torch.Size([141])\n",
      "torch.Size([141])\n",
      "2\n",
      "torch.Size([170])\n",
      "torch.Size([170])\n",
      "2\n",
      "torch.Size([163])\n",
      "torch.Size([163])\n",
      "2\n",
      "torch.Size([90])\n",
      "torch.Size([90])\n",
      "2\n",
      "torch.Size([99])\n",
      "torch.Size([99])\n",
      "2\n",
      "torch.Size([163])\n",
      "torch.Size([163])\n",
      "2\n",
      "torch.Size([96])\n",
      "torch.Size([96])\n",
      "2\n",
      "torch.Size([98])\n",
      "torch.Size([98])\n",
      "2\n",
      "torch.Size([118])\n",
      "torch.Size([118])\n",
      "2\n",
      "torch.Size([108])\n",
      "torch.Size([108])\n",
      "2\n",
      "torch.Size([88])\n",
      "torch.Size([88])\n",
      "2\n",
      "torch.Size([98])\n",
      "torch.Size([98])\n",
      "2\n",
      "torch.Size([87])\n",
      "torch.Size([87])\n",
      "2\n",
      "torch.Size([98])\n",
      "torch.Size([98])\n",
      "2\n",
      "torch.Size([96])\n",
      "torch.Size([96])\n",
      "2\n",
      "torch.Size([126])\n",
      "torch.Size([126])\n",
      "2\n",
      "torch.Size([103])\n",
      "torch.Size([103])\n",
      "2\n",
      "torch.Size([98])\n",
      "torch.Size([98])\n",
      "2\n",
      "torch.Size([96])\n",
      "torch.Size([96])\n",
      "2\n",
      "torch.Size([116])\n",
      "torch.Size([116])\n",
      "2\n",
      "torch.Size([94])\n",
      "torch.Size([94])\n",
      "2\n",
      "torch.Size([104])\n",
      "torch.Size([104])\n",
      "2\n",
      "torch.Size([101])\n",
      "torch.Size([101])\n",
      "2\n",
      "torch.Size([116])\n",
      "torch.Size([116])\n",
      "2\n",
      "torch.Size([138])\n",
      "torch.Size([138])\n",
      "2\n",
      "torch.Size([191])\n",
      "torch.Size([191])\n",
      "2\n",
      "torch.Size([228])\n",
      "torch.Size([228])\n",
      "2\n",
      "torch.Size([273])\n",
      "torch.Size([273])\n",
      "2\n",
      "torch.Size([241])\n",
      "torch.Size([241])\n",
      "2\n",
      "torch.Size([163])\n",
      "torch.Size([163])\n",
      "2\n",
      "torch.Size([176])\n",
      "torch.Size([176])\n",
      "2\n",
      "torch.Size([184])\n",
      "torch.Size([184])\n",
      "2\n",
      "torch.Size([192])\n",
      "torch.Size([192])\n",
      "2\n",
      "torch.Size([125])\n",
      "torch.Size([125])\n",
      "2\n",
      "torch.Size([98])\n",
      "torch.Size([98])\n",
      "2\n",
      "torch.Size([130])\n",
      "torch.Size([130])\n",
      "2\n",
      "torch.Size([128])\n",
      "torch.Size([128])\n",
      "2\n",
      "torch.Size([75])\n",
      "torch.Size([75])\n",
      "2\n",
      "torch.Size([73])\n",
      "torch.Size([73])\n",
      "2\n",
      "torch.Size([65])\n",
      "torch.Size([65])\n",
      "2\n"
     ]
    }
   ],
   "source": [
    "count = 0\n",
    "for (grams, indices), label in train_datapipe:\n",
    "    print(grams.shape)\n",
    "    print(indices.shape)\n",
    "    print(label)\n",
    "    if count > 50:\n",
    "        break\n",
    "    count+=1"
   ]
  },
  {
   "cell_type": "code",
   "execution_count": 21,
   "metadata": {},
   "outputs": [],
   "source": [
    "NUM_WORKERS = get_num_workers()"
   ]
  },
  {
   "cell_type": "code",
   "execution_count": 22,
   "metadata": {},
   "outputs": [],
   "source": [
    "train_dataloader = DataLoader(\n",
    "    train_datapipe,\n",
    "    batch_size=BATCH_SIZE,\n",
    "    pin_memory=True,\n",
    "    num_workers=NUM_WORKERS,\n",
    ")\n",
    "\n",
    "test_dataloader = DataLoader(\n",
    "    test_datapipe,\n",
    "    batch_size=BATCH_SIZE,\n",
    "    pin_memory=True,\n",
    "    num_workers=NUM_WORKERS,\n",
    ")"
   ]
  },
  {
   "cell_type": "code",
   "execution_count": 23,
   "metadata": {},
   "outputs": [
    {
     "name": "stderr",
     "output_type": "stream",
     "text": [
      "d:\\research\\pytorch-implementations\\.venv\\Lib\\site-packages\\torch\\utils\\data\\datapipes\\iter\\combining.py:333: UserWarning: Some child DataPipes are not exhausted when __iter__ is called. We are resetting the buffer and each child DataPipe will read from the start again.\n",
      "  warnings.warn(\"Some child DataPipes are not exhausted when __iter__ is called. We are resetting \"\n"
     ]
    },
    {
     "name": "stdout",
     "output_type": "stream",
     "text": [
      "torch.Size([1, 95])\n",
      "torch.Size([1, 95])\n",
      "torch.Size([1])\n",
      "torch.Size([1, 189])\n",
      "torch.Size([1, 189])\n",
      "torch.Size([1])\n",
      "torch.Size([1, 157])\n",
      "torch.Size([1, 157])\n",
      "torch.Size([1])\n",
      "torch.Size([1, 181])\n",
      "torch.Size([1, 181])\n",
      "torch.Size([1])\n",
      "torch.Size([1, 155])\n",
      "torch.Size([1, 155])\n",
      "torch.Size([1])\n",
      "torch.Size([1, 152])\n",
      "torch.Size([1, 152])\n",
      "torch.Size([1])\n",
      "torch.Size([1, 130])\n",
      "torch.Size([1, 130])\n",
      "torch.Size([1])\n",
      "torch.Size([1, 165])\n",
      "torch.Size([1, 165])\n",
      "torch.Size([1])\n",
      "torch.Size([1, 255])\n",
      "torch.Size([1, 255])\n",
      "torch.Size([1])\n",
      "torch.Size([1, 92])\n",
      "torch.Size([1, 92])\n",
      "torch.Size([1])\n",
      "torch.Size([1, 150])\n",
      "torch.Size([1, 150])\n",
      "torch.Size([1])\n",
      "torch.Size([1, 168])\n",
      "torch.Size([1, 168])\n",
      "torch.Size([1])\n",
      "torch.Size([1, 141])\n",
      "torch.Size([1, 141])\n",
      "torch.Size([1])\n",
      "torch.Size([1, 170])\n",
      "torch.Size([1, 170])\n",
      "torch.Size([1])\n",
      "torch.Size([1, 163])\n",
      "torch.Size([1, 163])\n",
      "torch.Size([1])\n",
      "torch.Size([1, 90])\n",
      "torch.Size([1, 90])\n",
      "torch.Size([1])\n",
      "torch.Size([1, 99])\n",
      "torch.Size([1, 99])\n",
      "torch.Size([1])\n",
      "torch.Size([1, 163])\n",
      "torch.Size([1, 163])\n",
      "torch.Size([1])\n",
      "torch.Size([1, 96])\n",
      "torch.Size([1, 96])\n",
      "torch.Size([1])\n",
      "torch.Size([1, 98])\n",
      "torch.Size([1, 98])\n",
      "torch.Size([1])\n",
      "torch.Size([1, 118])\n",
      "torch.Size([1, 118])\n",
      "torch.Size([1])\n",
      "torch.Size([1, 108])\n",
      "torch.Size([1, 108])\n",
      "torch.Size([1])\n",
      "torch.Size([1, 88])\n",
      "torch.Size([1, 88])\n",
      "torch.Size([1])\n",
      "torch.Size([1, 98])\n",
      "torch.Size([1, 98])\n",
      "torch.Size([1])\n",
      "torch.Size([1, 87])\n",
      "torch.Size([1, 87])\n",
      "torch.Size([1])\n",
      "torch.Size([1, 98])\n",
      "torch.Size([1, 98])\n",
      "torch.Size([1])\n",
      "torch.Size([1, 96])\n",
      "torch.Size([1, 96])\n",
      "torch.Size([1])\n",
      "torch.Size([1, 126])\n",
      "torch.Size([1, 126])\n",
      "torch.Size([1])\n",
      "torch.Size([1, 103])\n",
      "torch.Size([1, 103])\n",
      "torch.Size([1])\n",
      "torch.Size([1, 98])\n",
      "torch.Size([1, 98])\n",
      "torch.Size([1])\n",
      "torch.Size([1, 96])\n",
      "torch.Size([1, 96])\n",
      "torch.Size([1])\n",
      "torch.Size([1, 116])\n",
      "torch.Size([1, 116])\n",
      "torch.Size([1])\n",
      "torch.Size([1, 94])\n",
      "torch.Size([1, 94])\n",
      "torch.Size([1])\n",
      "torch.Size([1, 104])\n",
      "torch.Size([1, 104])\n",
      "torch.Size([1])\n",
      "torch.Size([1, 101])\n",
      "torch.Size([1, 101])\n",
      "torch.Size([1])\n",
      "torch.Size([1, 116])\n",
      "torch.Size([1, 116])\n",
      "torch.Size([1])\n",
      "torch.Size([1, 138])\n",
      "torch.Size([1, 138])\n",
      "torch.Size([1])\n",
      "torch.Size([1, 191])\n",
      "torch.Size([1, 191])\n",
      "torch.Size([1])\n",
      "torch.Size([1, 228])\n",
      "torch.Size([1, 228])\n",
      "torch.Size([1])\n",
      "torch.Size([1, 273])\n",
      "torch.Size([1, 273])\n",
      "torch.Size([1])\n",
      "torch.Size([1, 241])\n",
      "torch.Size([1, 241])\n",
      "torch.Size([1])\n",
      "torch.Size([1, 163])\n",
      "torch.Size([1, 163])\n",
      "torch.Size([1])\n",
      "torch.Size([1, 176])\n",
      "torch.Size([1, 176])\n",
      "torch.Size([1])\n",
      "torch.Size([1, 184])\n",
      "torch.Size([1, 184])\n",
      "torch.Size([1])\n",
      "torch.Size([1, 192])\n",
      "torch.Size([1, 192])\n",
      "torch.Size([1])\n",
      "torch.Size([1, 125])\n",
      "torch.Size([1, 125])\n",
      "torch.Size([1])\n",
      "torch.Size([1, 98])\n",
      "torch.Size([1, 98])\n",
      "torch.Size([1])\n",
      "torch.Size([1, 130])\n",
      "torch.Size([1, 130])\n",
      "torch.Size([1])\n",
      "torch.Size([1, 128])\n",
      "torch.Size([1, 128])\n",
      "torch.Size([1])\n",
      "torch.Size([1, 75])\n",
      "torch.Size([1, 75])\n",
      "torch.Size([1])\n",
      "torch.Size([1, 73])\n",
      "torch.Size([1, 73])\n",
      "torch.Size([1])\n",
      "torch.Size([1, 65])\n",
      "torch.Size([1, 65])\n",
      "torch.Size([1])\n"
     ]
    }
   ],
   "source": [
    "count = 0\n",
    "for (grams, indices), label in train_dataloader:\n",
    "    print(grams.shape)\n",
    "    print(indices.shape)\n",
    "    print(label.shape)\n",
    "    if count > 50:\n",
    "        break\n",
    "    count+=1"
   ]
  },
  {
   "cell_type": "markdown",
   "metadata": {},
   "source": [
    "# training\n"
   ]
  },
  {
   "cell_type": "code",
   "execution_count": 24,
   "metadata": {},
   "outputs": [],
   "source": [
    "EMBED_DIM = 300"
   ]
  },
  {
   "cell_type": "code",
   "execution_count": 27,
   "metadata": {},
   "outputs": [],
   "source": [
    "EPOCHES = 10\n",
    "ACC_ITERS = 32 / BATCH_SIZE\n",
    "LR = 1e-3"
   ]
  },
  {
   "cell_type": "code",
   "execution_count": 28,
   "metadata": {},
   "outputs": [],
   "source": [
    "trainer = ClassificationTrainer(EPOCHES, DEVICE, ACC_ITERS, feature_last=True)"
   ]
  },
  {
   "cell_type": "code",
   "execution_count": 29,
   "metadata": {},
   "outputs": [],
   "source": [
    "model = FastText(\n",
    "    ngram_vocab.bucket_size,\n",
    "    EMBED_DIM,\n",
    "    NUM_CLASS,\n",
    "    loss_type=LossType.CE,\n",
    "    context=CONTEXT,\n",
    ").to(DEVICE)"
   ]
  },
  {
   "cell_type": "code",
   "execution_count": 28,
   "metadata": {},
   "outputs": [],
   "source": [
    "loss = trainer.get_criterion(NUM_CLASS)\n",
    "optimizer = optim.Adam(model.parameters(), lr=LR)"
   ]
  },
  {
   "cell_type": "code",
   "execution_count": 29,
   "metadata": {},
   "outputs": [
    {
     "data": {
      "text/plain": [
       "=================================================================\n",
       "Layer (type:depth-idx)                   Param #\n",
       "=================================================================\n",
       "FastText                                 --\n",
       "├─Embedding: 1-1                         30,000,000\n",
       "├─Linear: 1-2                            1,204\n",
       "=================================================================\n",
       "Total params: 30,001,204\n",
       "Trainable params: 30,001,204\n",
       "Non-trainable params: 0\n",
       "================================================================="
      ]
     },
     "execution_count": 29,
     "metadata": {},
     "output_type": "execute_result"
    }
   ],
   "source": [
    "torchinfo.summary(model)"
   ]
  },
  {
   "cell_type": "code",
   "execution_count": null,
   "metadata": {},
   "outputs": [],
   "source": [
    "training_loss = trainer.run(train_dataloader, model, optimizer, loss)"
   ]
  },
  {
   "cell_type": "code",
   "execution_count": null,
   "metadata": {},
   "outputs": [],
   "source": [
    "plt.plot(training_loss)"
   ]
  },
  {
   "cell_type": "markdown",
   "metadata": {},
   "source": [
    "# Inference"
   ]
  },
  {
   "cell_type": "code",
   "execution_count": 32,
   "metadata": {},
   "outputs": [],
   "source": [
    "evaluator = ClassificationEvaluator(NUM_CLASS, DEVICE, feature_dim=-1)"
   ]
  },
  {
   "cell_type": "code",
   "execution_count": 33,
   "metadata": {},
   "outputs": [
    {
     "name": "stderr",
     "output_type": "stream",
     "text": [
      "0it [00:00, ?it/s]"
     ]
    },
    {
     "name": "stderr",
     "output_type": "stream",
     "text": [
      "7599it [00:18, 400.21it/s]"
     ]
    },
    {
     "name": "stdout",
     "output_type": "stream",
     "text": [
      "[[1532  160  112   96]\n",
      " [  59 1771   33   37]\n",
      " [ 134  114 1411  240]\n",
      " [  95  138  200 1467]]\n"
     ]
    },
    {
     "name": "stderr",
     "output_type": "stream",
     "text": [
      "\n"
     ]
    }
   ],
   "source": [
    "confusion_matrix = evaluator.run(iter(test_dataloader), model)"
   ]
  },
  {
   "cell_type": "code",
   "execution_count": 34,
   "metadata": {},
   "outputs": [
    {
     "name": "stdout",
     "output_type": "stream",
     "text": [
      "world     : 0.8063157894736842\n",
      "sports    : 0.9321052631578948\n",
      "business  : 0.7430226434965771\n",
      "science   : 0.7721052631578947\n"
     ]
    }
   ],
   "source": [
    "per_class_acc = evaluator.get_per_class_accuracy(confusion_matrix)\n",
    "evaluator.show_per_class_accuracy(AG_NEWS_CLASS_NAMES, per_class_acc)"
   ]
  },
  {
   "cell_type": "code",
   "execution_count": 35,
   "metadata": {},
   "outputs": [
    {
     "data": {
      "text/plain": [
       "0.8133872398215127"
      ]
     },
     "execution_count": 35,
     "metadata": {},
     "output_type": "execute_result"
    }
   ],
   "source": [
    "per_class_acc.mean()"
   ]
  },
  {
   "cell_type": "code",
   "execution_count": 37,
   "metadata": {},
   "outputs": [
    {
     "data": {
      "image/png": "[encoded data removed]",
      "text/plain": [
       "<Figure size 600x400 with 2 Axes>"
      ]
     },
     "metadata": {},
     "output_type": "display_data"
    }
   ],
   "source": [
    "evaluator.plot_confusion_matrix(\n",
    "    confusion_matrix,\n",
    "    AG_NEWS_CLASS_NAMES,\n",
    "    \"Blues\",\n",
    "    annot=True,\n",
    "    figsize=(6, 4),\n",
    ")"
   ]
  },
  {
   "cell_type": "markdown",
   "metadata": {},
   "source": [
    "# File\n"
   ]
  },
  {
   "cell_type": "code",
   "execution_count": 30,
   "metadata": {},
   "outputs": [],
   "source": [
    "model_path = artifact_path / \"fasttext.pth\""
   ]
  },
  {
   "cell_type": "code",
   "execution_count": 34,
   "metadata": {},
   "outputs": [],
   "source": [
    "torch.save(model.state_dict(), model_path)"
   ]
  },
  {
   "cell_type": "code",
   "execution_count": 35,
   "metadata": {},
   "outputs": [
    {
     "data": {
      "text/plain": [
       "'114.45MB'"
      ]
     },
     "execution_count": 35,
     "metadata": {},
     "output_type": "execute_result"
    }
   ],
   "source": [
    "get_file_size(model_path)"
   ]
  },
  {
   "cell_type": "code",
   "execution_count": 31,
   "metadata": {},
   "outputs": [
    {
     "data": {
      "text/plain": [
       "<All keys matched successfully>"
      ]
     },
     "execution_count": 31,
     "metadata": {},
     "output_type": "execute_result"
    }
   ],
   "source": [
    "model.load_state_dict(torch.load(model_path.as_posix()))"
   ]
  }
 ],
 "metadata": {
  "kernelspec": {
   "display_name": ".venv",
   "language": "python",
   "name": "python3"
  },
  "language_info": {
   "codemirror_mode": {
    "name": "ipython",
    "version": 3
   },
   "file_extension": ".py",
   "mimetype": "text/x-python",
   "name": "python",
   "nbconvert_exporter": "python",
   "pygments_lexer": "ipython3",
   "version": "3.11.4"
  }
 },
 "nbformat": 4,
 "nbformat_minor": 2
}
