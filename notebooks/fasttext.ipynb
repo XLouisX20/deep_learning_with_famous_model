{
 "cells": [
  {
   "cell_type": "code",
   "execution_count": 2,
   "metadata": {},
   "outputs": [],
   "source": [
    "from pathlib import Path\n",
    "\n",
    "import matplotlib.pyplot as plt\n",
    "import torch\n",
    "import torchinfo\n",
    "import torchtext.transforms as T\n",
    "from torch import optim\n",
    "from torch.utils.data import DataLoader\n",
    "from torchlake.common.controller.evaluator import ClassificationEvaluator\n",
    "from torchlake.common.controller.trainer import ClassificationTrainer\n",
    "from torchlake.common.helpers.tokenizer import CharNgramTokenizer\n",
    "from torchlake.common.helpers.transform import CustomVocabTransform\n",
    "from torchlake.common.helpers.vocab import CharNgramVocab\n",
    "from torchlake.common.schemas.nlp import NlpContext\n",
    "from torchlake.common.utils.platform import get_file_size, get_num_workers\n",
    "from torchlake.common.utils.text import is_longer_text\n",
    "from torchlake.language_model.constants.enum import LossType\n",
    "from torchlake.text_classification.datasets.ag_news.constants import \\\n",
    "    CLASS_NAMES as AG_NEWS_CLASS_NAMES\n",
    "from torchlake.text_classification.models import FastText\n",
    "from torchtext.data.utils import get_tokenizer\n",
    "from torchtext.datasets import AG_NEWS"
   ]
  },
  {
   "cell_type": "markdown",
   "metadata": {},
   "source": [
    "To utilize this notebook, you have to install `portalocker`, `spacy` first"
   ]
  },
  {
   "cell_type": "markdown",
   "metadata": {},
   "source": [
    "# setting\n"
   ]
  },
  {
   "cell_type": "code",
   "execution_count": 3,
   "metadata": {},
   "outputs": [],
   "source": [
    "DATASET_NAME = \"AGNews\""
   ]
  },
  {
   "cell_type": "code",
   "execution_count": 4,
   "metadata": {},
   "outputs": [],
   "source": [
    "artifact_path = Path('../../artifacts/fasttext')\n",
    "artifact_dataset_path = artifact_path / DATASET_NAME\n",
    "data_path = Path('../../data') / DATASET_NAME"
   ]
  },
  {
   "cell_type": "code",
   "execution_count": 5,
   "metadata": {},
   "outputs": [],
   "source": [
    "NUM_CLASS = len(AG_NEWS_CLASS_NAMES)"
   ]
  },
  {
   "cell_type": "code",
   "execution_count": 6,
   "metadata": {},
   "outputs": [],
   "source": [
    "CONTEXT = NlpContext(\n",
    "    max_seq_len=256, # word length, not ngram length\n",
    ")"
   ]
  },
  {
   "cell_type": "code",
   "execution_count": 7,
   "metadata": {},
   "outputs": [],
   "source": [
    "BATCH_SIZE = 32\n",
    "MINIMUM_LENGTH = 5"
   ]
  },
  {
   "cell_type": "code",
   "execution_count": 8,
   "metadata": {},
   "outputs": [],
   "source": [
    "DEVICE = torch.device(CONTEXT.device)"
   ]
  },
  {
   "cell_type": "code",
   "execution_count": 9,
   "metadata": {},
   "outputs": [],
   "source": [
    "BUCKET_SIZE = 1 * 10**5 # should be smaller than ngram size"
   ]
  },
  {
   "cell_type": "code",
   "execution_count": 10,
   "metadata": {},
   "outputs": [],
   "source": [
    "tokenizer = get_tokenizer('basic_english')"
   ]
  },
  {
   "cell_type": "code",
   "execution_count": 11,
   "metadata": {},
   "outputs": [],
   "source": [
    "ngram_vocab = CharNgramVocab(BUCKET_SIZE, context=CONTEXT)\n",
    "ngram_tokenizer = CharNgramTokenizer(tokenizer, ngram_vocab, ngrams=[2]) # [3,4,5,6] is used in paper"
   ]
  },
  {
   "cell_type": "code",
   "execution_count": 12,
   "metadata": {},
   "outputs": [],
   "source": [
    "def datapipe_factory(\n",
    "    datapipe,\n",
    "    minimum_length: int = 1,\n",
    "    ngram_transform=None,\n",
    "    word_transform=None,\n",
    "    word_spans_transform=None,\n",
    "):\n",
    "    datapipe = (\n",
    "        datapipe\n",
    "        .map(lambda pair: (pair[1], pair[0])) # label, text -> text, label\n",
    "        .map(lambda pair: (pair[0].strip(), pair[1]))\n",
    "        .map(lambda pair: (pair[0].lower(), pair[1]))\n",
    "        .filter(lambda pair: is_longer_text(pair[0], minimum_length))\n",
    "        .map(\n",
    "            lambda pair: (ngram_tokenizer(pair[0]), pair[1])\n",
    "        )  # label, (grams, words, word_spans)\n",
    "    )\n",
    "\n",
    "    if ngram_transform:\n",
    "        datapipe = datapipe.map(\n",
    "            lambda pair: (\n",
    "                (\n",
    "                    ngram_transform(pair[0][0]),\n",
    "                    word_transform(pair[0][1]),\n",
    "                    word_spans_transform(pair[0][2]),\n",
    "                ),\n",
    "                pair[1] - 1,\n",
    "            )  # (grams, words, word_spans), label\n",
    "        )\n",
    "\n",
    "    return datapipe"
   ]
  },
  {
   "cell_type": "code",
   "execution_count": 13,
   "metadata": {},
   "outputs": [],
   "source": [
    "train_datapipe, test_datapipe = AG_NEWS(data_path.as_posix())"
   ]
  },
  {
   "cell_type": "code",
   "execution_count": 14,
   "metadata": {},
   "outputs": [
    {
     "name": "stderr",
     "output_type": "stream",
     "text": [
      "d:\\research\\pytorch-implementations\\.venv\\Lib\\site-packages\\torch\\utils\\data\\datapipes\\utils\\common.py:141: UserWarning: Local function is not supported by pickle, please use regular python function or functools.partial instead.\n",
      "  warnings.warn(\n"
     ]
    }
   ],
   "source": [
    "# create vocabulary\n",
    "cloned_train_datapipe = datapipe_factory(train_datapipe, MINIMUM_LENGTH)\n",
    "for _ in cloned_train_datapipe:\n",
    "    pass"
   ]
  },
  {
   "cell_type": "code",
   "execution_count": 15,
   "metadata": {},
   "outputs": [],
   "source": [
    "def datapipe_factory_for_vocab(datapipe, minimum_length: int = 1):\n",
    "    datapipe = (\n",
    "        datapipe.map(lambda pair: pair[1])\n",
    "        .map(lambda text: text.strip())\n",
    "        .map(lambda text: text.lower())\n",
    "        .filter(lambda text: is_longer_text(text, minimum_length))\n",
    "        .map(lambda text: ngram_tokenizer.tokenizer(text))\n",
    "    )\n",
    "\n",
    "    return datapipe"
   ]
  },
  {
   "cell_type": "code",
   "execution_count": 16,
   "metadata": {},
   "outputs": [],
   "source": [
    "# optional for KNN search\n",
    "ngram_vocab.build_word_vocab(\n",
    "    datapipe_factory_for_vocab(train_datapipe, minimum_length=MINIMUM_LENGTH)\n",
    ")"
   ]
  },
  {
   "cell_type": "code",
   "execution_count": 17,
   "metadata": {},
   "outputs": [
    {
     "data": {
      "text/plain": [
       "30335"
      ]
     },
     "execution_count": 17,
     "metadata": {},
     "output_type": "execute_result"
    }
   ],
   "source": [
    "VOCAB_SIZE = len(ngram_vocab.word_vocab)\n",
    "VOCAB_SIZE"
   ]
  },
  {
   "cell_type": "code",
   "execution_count": 18,
   "metadata": {},
   "outputs": [
    {
     "name": "stdout",
     "output_type": "stream",
     "text": [
      "cache size: 99515\n"
     ]
    }
   ],
   "source": [
    "print(\"cache size:\", len(ngram_vocab))"
   ]
  },
  {
   "cell_type": "code",
   "execution_count": 19,
   "metadata": {},
   "outputs": [],
   "source": [
    "ngram_vocab.save_word_vocab(artifact_dataset_path / \"words.json\")\n",
    "ngram_vocab.save_subword_vocab(artifact_dataset_path / \"grams.json\")"
   ]
  },
  {
   "cell_type": "code",
   "execution_count": 20,
   "metadata": {},
   "outputs": [],
   "source": [
    "ngram_vocab.load_word_vocab(artifact_dataset_path / \"words.json\")\n",
    "ngram_vocab.load_subword_vocab(artifact_dataset_path / \"grams.json\")"
   ]
  },
  {
   "cell_type": "code",
   "execution_count": 21,
   "metadata": {},
   "outputs": [
    {
     "data": {
      "text/plain": [
       "'0.52MiB'"
      ]
     },
     "execution_count": 21,
     "metadata": {},
     "output_type": "execute_result"
    }
   ],
   "source": [
    "get_file_size(artifact_dataset_path / \"words.json\")"
   ]
  },
  {
   "cell_type": "code",
   "execution_count": 22,
   "metadata": {},
   "outputs": [
    {
     "data": {
      "text/plain": [
       "'1.83MiB'"
      ]
     },
     "execution_count": 22,
     "metadata": {},
     "output_type": "execute_result"
    }
   ],
   "source": [
    "get_file_size(artifact_dataset_path / \"grams.json\")"
   ]
  },
  {
   "cell_type": "code",
   "execution_count": 23,
   "metadata": {},
   "outputs": [],
   "source": [
    "ngram_transform = T.Sequential(\n",
    "    CustomVocabTransform(ngram_vocab),\n",
    "    T.ToTensor(),\n",
    ")"
   ]
  },
  {
   "cell_type": "code",
   "execution_count": 24,
   "metadata": {},
   "outputs": [],
   "source": [
    "word_transform = T.Sequential(\n",
    "    T.Truncate(CONTEXT.max_seq_len),\n",
    "    T.ToTensor(),\n",
    "    T.PadTransform(CONTEXT.max_seq_len, CONTEXT.padding_idx),\n",
    ")"
   ]
  },
  {
   "cell_type": "code",
   "execution_count": 25,
   "metadata": {},
   "outputs": [],
   "source": [
    "word_spans_transform = T.Sequential(\n",
    "    T.Truncate(CONTEXT.max_seq_len),\n",
    "    T.ToTensor(),\n",
    ")"
   ]
  },
  {
   "cell_type": "code",
   "execution_count": 26,
   "metadata": {},
   "outputs": [],
   "source": [
    "train_datapipe = datapipe_factory(\n",
    "    train_datapipe,\n",
    "    MINIMUM_LENGTH,\n",
    "    ngram_transform,\n",
    "    word_transform,\n",
    "    word_spans_transform,\n",
    ")\n",
    "\n",
    "test_datapipe = datapipe_factory(\n",
    "    test_datapipe,\n",
    "    MINIMUM_LENGTH,\n",
    "    ngram_transform,\n",
    "    word_transform,\n",
    "    word_spans_transform,\n",
    ")"
   ]
  },
  {
   "cell_type": "code",
   "execution_count": 27,
   "metadata": {},
   "outputs": [
    {
     "name": "stdout",
     "output_type": "stream",
     "text": [
      "torch.Size([104])\n",
      "torch.Size([256])\n",
      "torch.Size([29])\n",
      "2\n",
      "torch.Size([196])\n",
      "torch.Size([256])\n",
      "torch.Size([42])\n",
      "2\n",
      "torch.Size([162])\n",
      "torch.Size([256])\n",
      "torch.Size([40])\n",
      "2\n",
      "torch.Size([187])\n",
      "torch.Size([256])\n",
      "torch.Size([40])\n",
      "2\n",
      "torch.Size([163])\n",
      "torch.Size([256])\n",
      "torch.Size([43])\n",
      "2\n",
      "torch.Size([163])\n",
      "torch.Size([256])\n",
      "torch.Size([48])\n",
      "2\n",
      "torch.Size([140])\n",
      "torch.Size([256])\n",
      "torch.Size([47])\n",
      "2\n",
      "torch.Size([176])\n",
      "torch.Size([256])\n",
      "torch.Size([49])\n",
      "2\n",
      "torch.Size([275])\n",
      "torch.Size([256])\n",
      "torch.Size([88])\n",
      "2\n",
      "torch.Size([101])\n",
      "torch.Size([256])\n",
      "torch.Size([31])\n",
      "2\n",
      "torch.Size([155])\n",
      "torch.Size([256])\n",
      "torch.Size([44])\n",
      "2\n",
      "torch.Size([181])\n",
      "torch.Size([256])\n",
      "torch.Size([56])\n",
      "2\n"
     ]
    }
   ],
   "source": [
    "count = 0\n",
    "for (grams, words, word_lengths), label in train_datapipe:\n",
    "    print(grams.shape)\n",
    "    print(words.shape)\n",
    "    print(word_lengths.shape)\n",
    "    print(label)\n",
    "    if count > 10:\n",
    "        break\n",
    "    count+=1"
   ]
  },
  {
   "cell_type": "code",
   "execution_count": 28,
   "metadata": {},
   "outputs": [],
   "source": [
    "NUM_WORKERS = get_num_workers()"
   ]
  },
  {
   "cell_type": "code",
   "execution_count": 29,
   "metadata": {},
   "outputs": [],
   "source": [
    "def collate_fn(\n",
    "    batch: list[torch.Tensor],\n",
    "    device: torch.device,\n",
    ") -> tuple[list[torch.Tensor], list[torch.Tensor], list[torch.Tensor], torch.Tensor]:\n",
    "    ngrams, words, word_spans = [], [], []\n",
    "    labels = []\n",
    "    \n",
    "    for (ngram, word, word_span), label in batch:\n",
    "        # truncate ngram with word length\n",
    "        # move to gpu here\n",
    "        # TODO: more trackable some other days\n",
    "        ngrams.append(ngram[:sum(word_span)].to(device))\n",
    "        words.append(word)\n",
    "        word_spans.append(word_span.to(device))\n",
    "        labels.append(label)\n",
    "\n",
    "    return (ngrams, torch.stack(words).to(device), word_spans), torch.LongTensor(labels).to(device)"
   ]
  },
  {
   "cell_type": "code",
   "execution_count": 30,
   "metadata": {},
   "outputs": [],
   "source": [
    "train_dataloader = DataLoader(\n",
    "    train_datapipe,\n",
    "    batch_size=BATCH_SIZE,\n",
    "    # pin_memory=True,\n",
    "    num_workers=NUM_WORKERS,\n",
    "    collate_fn=lambda x: collate_fn(x, DEVICE),\n",
    ")\n",
    "\n",
    "test_dataloader = DataLoader(\n",
    "    test_datapipe,\n",
    "    batch_size=BATCH_SIZE,\n",
    "    # pin_memory=True,\n",
    "    num_workers=NUM_WORKERS,\n",
    "    collate_fn=lambda x: collate_fn(x, DEVICE),\n",
    ")"
   ]
  },
  {
   "cell_type": "code",
   "execution_count": 31,
   "metadata": {},
   "outputs": [
    {
     "name": "stderr",
     "output_type": "stream",
     "text": [
      "d:\\research\\pytorch-implementations\\.venv\\Lib\\site-packages\\torch\\utils\\data\\datapipes\\iter\\combining.py:333: UserWarning: Some child DataPipes are not exhausted when __iter__ is called. We are resetting the buffer and each child DataPipe will read from the start again.\n",
      "  warnings.warn(\"Some child DataPipes are not exhausted when __iter__ is called. We are resetting \"\n"
     ]
    },
    {
     "name": "stdout",
     "output_type": "stream",
     "text": [
      "32 torch.Size([104]) torch.Size([196]) torch.Size([162]) torch.Size([187])\n",
      "torch.Size([32, 256])\n",
      "32 torch.Size([29]) torch.Size([42]) torch.Size([40]) torch.Size([40])\n",
      "torch.Size([32])\n",
      "32 torch.Size([100]) torch.Size([110]) torch.Size([103]) torch.Size([119])\n",
      "torch.Size([32, 256])\n",
      "32 torch.Size([36]) torch.Size([34]) torch.Size([26]) torch.Size([32])\n",
      "torch.Size([32])\n",
      "32 torch.Size([216]) torch.Size([247]) torch.Size([253]) torch.Size([225])\n",
      "torch.Size([32, 256])\n",
      "32 torch.Size([66]) torch.Size([74]) torch.Size([68]) torch.Size([62])\n",
      "torch.Size([32])\n",
      "32 torch.Size([95]) torch.Size([95]) torch.Size([176]) torch.Size([228])\n",
      "torch.Size([32, 256])\n",
      "32 torch.Size([31]) torch.Size([35]) torch.Size([42]) torch.Size([65])\n",
      "torch.Size([32])\n",
      "32 torch.Size([202]) torch.Size([164]) torch.Size([130]) torch.Size([217])\n",
      "torch.Size([32, 256])\n",
      "32 torch.Size([51]) torch.Size([43]) torch.Size([47]) torch.Size([56])\n",
      "torch.Size([32])\n",
      "32 torch.Size([212]) torch.Size([197]) torch.Size([210]) torch.Size([432])\n",
      "torch.Size([32, 256])\n",
      "32 torch.Size([63]) torch.Size([60]) torch.Size([54]) torch.Size([126])\n",
      "torch.Size([32])\n",
      "32 torch.Size([88]) torch.Size([96]) torch.Size([75]) torch.Size([95])\n",
      "torch.Size([32, 256])\n",
      "32 torch.Size([25]) torch.Size([22]) torch.Size([26]) torch.Size([22])\n",
      "torch.Size([32])\n",
      "32 torch.Size([99]) torch.Size([94]) torch.Size([94]) torch.Size([97])\n",
      "torch.Size([32, 256])\n",
      "32 torch.Size([26]) torch.Size([25]) torch.Size([29]) torch.Size([28])\n",
      "torch.Size([32])\n",
      "32 torch.Size([137]) torch.Size([192]) torch.Size([99]) torch.Size([211])\n",
      "torch.Size([32, 256])\n",
      "32 torch.Size([33]) torch.Size([51]) torch.Size([25]) torch.Size([57])\n",
      "torch.Size([32])\n",
      "32 torch.Size([198]) torch.Size([169]) torch.Size([331]) torch.Size([274])\n",
      "torch.Size([32, 256])\n",
      "32 torch.Size([69]) torch.Size([43]) torch.Size([90]) torch.Size([63])\n",
      "torch.Size([32])\n",
      "32 torch.Size([99]) torch.Size([103]) torch.Size([118]) torch.Size([117])\n",
      "torch.Size([32, 256])\n",
      "32 torch.Size([25]) torch.Size([28]) torch.Size([35]) torch.Size([26])\n",
      "torch.Size([32])\n",
      "32 torch.Size([96]) torch.Size([80]) torch.Size([102]) torch.Size([109])\n",
      "torch.Size([32, 256])\n",
      "32 torch.Size([19]) torch.Size([18]) torch.Size([30]) torch.Size([31])\n",
      "torch.Size([32])\n"
     ]
    }
   ],
   "source": [
    "count = 0\n",
    "for (grams, words, word_spans), label in train_dataloader:\n",
    "    print(len(grams), *[gram.shape for gram in grams[:4]])\n",
    "    print(words.shape)\n",
    "    print(len(word_spans), *[word_span.shape for word_span in word_spans[:4]])\n",
    "    print(label.shape)\n",
    "    if count > 10:\n",
    "        break\n",
    "    count+=1"
   ]
  },
  {
   "cell_type": "markdown",
   "metadata": {},
   "source": [
    "# training\n"
   ]
  },
  {
   "cell_type": "code",
   "execution_count": 32,
   "metadata": {},
   "outputs": [],
   "source": [
    "EMBED_DIM = 300"
   ]
  },
  {
   "cell_type": "code",
   "execution_count": 33,
   "metadata": {},
   "outputs": [],
   "source": [
    "EPOCHES = 10\n",
    "ACC_ITERS = max(32 / BATCH_SIZE, 1)\n",
    "LR = 1e-3"
   ]
  },
  {
   "cell_type": "code",
   "execution_count": 79,
   "metadata": {},
   "outputs": [],
   "source": [
    "trainer = ClassificationTrainer(EPOCHES, DEVICE, ACC_ITERS, feature_last=True)"
   ]
  },
  {
   "cell_type": "code",
   "execution_count": 34,
   "metadata": {},
   "outputs": [],
   "source": [
    "model = FastText(\n",
    "    BUCKET_SIZE,\n",
    "    EMBED_DIM,\n",
    "    NUM_CLASS,\n",
    "    loss_type=LossType.CROSS_ENTROPY,\n",
    "    context=CONTEXT,\n",
    ").to(DEVICE)"
   ]
  },
  {
   "cell_type": "code",
   "execution_count": 81,
   "metadata": {},
   "outputs": [],
   "source": [
    "criterion = trainer.get_criterion(NUM_CLASS)\n",
    "optimizer = optim.Adam(model.parameters(), lr=LR)"
   ]
  },
  {
   "cell_type": "code",
   "execution_count": 82,
   "metadata": {},
   "outputs": [
    {
     "data": {
      "text/plain": [
       "=================================================================\n",
       "Layer (type:depth-idx)                   Param #\n",
       "=================================================================\n",
       "FastText                                 --\n",
       "├─SubwordEmbedding: 1-1                  --\n",
       "│    └─Embedding: 2-1                    30,000,000\n",
       "│    └─Embedding: 2-2                    1,200\n",
       "├─Linear: 1-2                            1,204\n",
       "=================================================================\n",
       "Total params: 30,002,404\n",
       "Trainable params: 30,002,404\n",
       "Non-trainable params: 0\n",
       "================================================================="
      ]
     },
     "execution_count": 82,
     "metadata": {},
     "output_type": "execute_result"
    }
   ],
   "source": [
    "torchinfo.summary(model)"
   ]
  },
  {
   "cell_type": "code",
   "execution_count": 37,
   "metadata": {},
   "outputs": [
    {
     "name": "stderr",
     "output_type": "stream",
     "text": [
      "3750it [02:27, 25.41it/s]\n"
     ]
    },
    {
     "name": "stdout",
     "output_type": "stream",
     "text": [
      "epoch 1 : 0.3724533801118533\n"
     ]
    },
    {
     "name": "stderr",
     "output_type": "stream",
     "text": [
      "3750it [02:15, 27.60it/s]\n"
     ]
    },
    {
     "name": "stdout",
     "output_type": "stream",
     "text": [
      "epoch 2 : 0.16477494599272807\n"
     ]
    },
    {
     "name": "stderr",
     "output_type": "stream",
     "text": [
      "3750it [02:18, 27.05it/s]\n"
     ]
    },
    {
     "name": "stdout",
     "output_type": "stream",
     "text": [
      "epoch 3 : 0.13408915094733237\n"
     ]
    },
    {
     "name": "stderr",
     "output_type": "stream",
     "text": [
      "3750it [02:24, 25.97it/s]\n"
     ]
    },
    {
     "name": "stdout",
     "output_type": "stream",
     "text": [
      "epoch 4 : 0.11686723314672709\n"
     ]
    },
    {
     "name": "stderr",
     "output_type": "stream",
     "text": [
      "3750it [02:14, 27.96it/s]\n"
     ]
    },
    {
     "name": "stdout",
     "output_type": "stream",
     "text": [
      "epoch 5 : 0.10469017231836915\n"
     ]
    },
    {
     "name": "stderr",
     "output_type": "stream",
     "text": [
      "3750it [02:20, 26.71it/s]\n"
     ]
    },
    {
     "name": "stdout",
     "output_type": "stream",
     "text": [
      "epoch 6 : 0.09511124613210559\n"
     ]
    },
    {
     "name": "stderr",
     "output_type": "stream",
     "text": [
      "3750it [02:18, 27.10it/s]\n"
     ]
    },
    {
     "name": "stdout",
     "output_type": "stream",
     "text": [
      "epoch 7 : 0.08711054726516207\n"
     ]
    },
    {
     "name": "stderr",
     "output_type": "stream",
     "text": [
      "3750it [02:19, 26.94it/s]\n"
     ]
    },
    {
     "name": "stdout",
     "output_type": "stream",
     "text": [
      "epoch 8 : 0.08022307246526082\n"
     ]
    },
    {
     "name": "stderr",
     "output_type": "stream",
     "text": [
      "3750it [02:28, 25.28it/s]\n"
     ]
    },
    {
     "name": "stdout",
     "output_type": "stream",
     "text": [
      "epoch 9 : 0.07418334598727525\n"
     ]
    },
    {
     "name": "stderr",
     "output_type": "stream",
     "text": [
      "3750it [02:26, 25.62it/s]"
     ]
    },
    {
     "name": "stdout",
     "output_type": "stream",
     "text": [
      "epoch 10 : 0.06880933721022059\n"
     ]
    },
    {
     "name": "stderr",
     "output_type": "stream",
     "text": [
      "\n"
     ]
    }
   ],
   "source": [
    "training_loss = trainer.run(train_dataloader, model, optimizer, criterion)\n"
   ]
  },
  {
   "cell_type": "code",
   "execution_count": 38,
   "metadata": {},
   "outputs": [
    {
     "data": {
      "text/plain": [
       "[<matplotlib.lines.Line2D at 0x222577418d0>]"
      ]
     },
     "execution_count": 38,
     "metadata": {},
     "output_type": "execute_result"
    },
    {
     "data": {
      "image/png": "[encoded data removed]",
      "text/plain": [
       "<Figure size 640x480 with 1 Axes>"
      ]
     },
     "metadata": {},
     "output_type": "display_data"
    }
   ],
   "source": [
    "plt.plot(training_loss)"
   ]
  },
  {
   "cell_type": "markdown",
   "metadata": {},
   "source": [
    "# Inference"
   ]
  },
  {
   "cell_type": "code",
   "execution_count": 39,
   "metadata": {},
   "outputs": [],
   "source": [
    "evaluator = ClassificationEvaluator(NUM_CLASS, DEVICE, feature_dim=-1)"
   ]
  },
  {
   "cell_type": "code",
   "execution_count": 40,
   "metadata": {},
   "outputs": [
    {
     "name": "stderr",
     "output_type": "stream",
     "text": [
      "237it [00:10, 21.62it/s]"
     ]
    },
    {
     "name": "stdout",
     "output_type": "stream",
     "text": [
      "[[1738   55   68   39]\n",
      " [  13 1869   10    2]\n",
      " [  78   12 1684  125]\n",
      " [  66   20  153 1636]]\n"
     ]
    },
    {
     "name": "stderr",
     "output_type": "stream",
     "text": [
      "\n"
     ]
    }
   ],
   "source": [
    "confusion_matrix = evaluator.run(iter(test_dataloader), model)"
   ]
  },
  {
   "cell_type": "code",
   "execution_count": 41,
   "metadata": {},
   "outputs": [
    {
     "name": "stdout",
     "output_type": "stream",
     "text": [
      "world     : 0.9147368421052632\n",
      "sports    : 0.9868004223864836\n",
      "business  : 0.8867825171142707\n",
      "science   : 0.8725333333333334\n"
     ]
    }
   ],
   "source": [
    "per_class_acc = evaluator.get_per_class_accuracy(confusion_matrix)\n",
    "evaluator.show_per_class_accuracy(AG_NEWS_CLASS_NAMES, per_class_acc)"
   ]
  },
  {
   "cell_type": "code",
   "execution_count": 42,
   "metadata": {},
   "outputs": [
    {
     "data": {
      "text/plain": [
       "0.9152132787348377"
      ]
     },
     "execution_count": 42,
     "metadata": {},
     "output_type": "execute_result"
    }
   ],
   "source": [
    "per_class_acc.mean()"
   ]
  },
  {
   "cell_type": "code",
   "execution_count": 43,
   "metadata": {},
   "outputs": [
    {
     "data": {
      "image/png": "[encoded data removed]",
      "text/plain": [
       "<Figure size 600x400 with 2 Axes>"
      ]
     },
     "metadata": {},
     "output_type": "display_data"
    }
   ],
   "source": [
    "evaluator.plot_confusion_matrix(\n",
    "    confusion_matrix,\n",
    "    AG_NEWS_CLASS_NAMES,\n",
    "    \"Blues\",\n",
    "    annot=True,\n",
    "    figsize=(6, 4),\n",
    ")"
   ]
  },
  {
   "cell_type": "markdown",
   "metadata": {},
   "source": [
    "# File\n"
   ]
  },
  {
   "cell_type": "code",
   "execution_count": 35,
   "metadata": {},
   "outputs": [],
   "source": [
    "model_path = artifact_path / \"fasttext.pth\""
   ]
  },
  {
   "cell_type": "code",
   "execution_count": 45,
   "metadata": {},
   "outputs": [],
   "source": [
    "torch.save(model.state_dict(), model_path)"
   ]
  },
  {
   "cell_type": "code",
   "execution_count": 35,
   "metadata": {},
   "outputs": [
    {
     "data": {
      "text/plain": [
       "'114.45MiB'"
      ]
     },
     "execution_count": 35,
     "metadata": {},
     "output_type": "execute_result"
    }
   ],
   "source": [
    "get_file_size(model_path)"
   ]
  },
  {
   "cell_type": "code",
   "execution_count": 137,
   "metadata": {},
   "outputs": [
    {
     "data": {
      "text/plain": [
       "<All keys matched successfully>"
      ]
     },
     "execution_count": 137,
     "metadata": {},
     "output_type": "execute_result"
    }
   ],
   "source": [
    "model.load_state_dict(torch.load(model_path.as_posix()))"
   ]
  },
  {
   "cell_type": "markdown",
   "metadata": {},
   "source": [
    "# Product Quantization"
   ]
  },
  {
   "cell_type": "code",
   "execution_count": 138,
   "metadata": {},
   "outputs": [],
   "source": [
    "from torchlake.common.helpers.quantizer import ProductQuantization, get_compression_ratio"
   ]
  },
  {
   "cell_type": "code",
   "execution_count": 139,
   "metadata": {},
   "outputs": [],
   "source": [
    "quantizer = ProductQuantization(k=50)"
   ]
  },
  {
   "cell_type": "code",
   "execution_count": 140,
   "metadata": {},
   "outputs": [],
   "source": [
    "vectors = model.embeddings.weight.data.clone()"
   ]
  },
  {
   "cell_type": "code",
   "execution_count": 141,
   "metadata": {},
   "outputs": [
    {
     "data": {
      "text/plain": [
       "tensor([[-0.2977,  1.6751, -0.2600,  ...,  0.0665, -1.0991,  0.1561],\n",
       "        [ 0.8621, -0.5486,  0.2356,  ...,  0.4201,  0.3472,  0.6238],\n",
       "        [-0.6113, -0.7099, -1.3545,  ...,  0.1208,  0.5920,  0.2054],\n",
       "        ...,\n",
       "        [ 0.7196, -1.1708,  0.0050,  ...,  0.2591, -0.4873, -1.7383],\n",
       "        [-0.1107, -1.4340, -0.2777,  ..., -1.4994,  0.3745,  0.0311],\n",
       "        [ 0.8859,  2.6990,  0.8034,  ...,  0.6098, -1.0167, -0.8026]],\n",
       "       device='cuda:0')"
      ]
     },
     "execution_count": 141,
     "metadata": {},
     "output_type": "execute_result"
    }
   ],
   "source": [
    "vectors"
   ]
  },
  {
   "cell_type": "code",
   "execution_count": 142,
   "metadata": {},
   "outputs": [
    {
     "name": "stdout",
     "output_type": "stream",
     "text": [
      "init evaluation score: tensor(0.9366)\n",
      "new evaluation score: tensor(0.7332)\n",
      "init evaluation score: tensor(0.9080)\n",
      "new evaluation score: tensor(0.7257)\n",
      "init evaluation score: tensor(0.8428)\n",
      "new evaluation score: tensor(0.7287)\n",
      "init evaluation score: tensor(1.0408)\n",
      "new evaluation score: tensor(0.7374)\n",
      "init evaluation score: tensor(0.8456)\n",
      "new evaluation score: tensor(0.7401)\n",
      "init evaluation score: tensor(1.0341)\n",
      "new evaluation score: tensor(0.7147)\n",
      "init evaluation score: tensor(0.9890)\n",
      "new evaluation score: tensor(0.7298)\n",
      "init evaluation score: tensor(0.9565)\n",
      "new evaluation score: tensor(0.7376)\n",
      "init evaluation score: tensor(1.0118)\n",
      "new evaluation score: tensor(0.7290)\n",
      "init evaluation score: tensor(0.9875)\n",
      "new evaluation score: tensor(0.7212)\n",
      "init evaluation score: tensor(0.8607)\n",
      "new evaluation score: tensor(0.7144)\n",
      "init evaluation score: tensor(0.9112)\n",
      "new evaluation score: tensor(0.7465)\n",
      "init evaluation score: tensor(0.8074)\n",
      "new evaluation score: tensor(0.7260)\n",
      "init evaluation score: tensor(0.9540)\n",
      "new evaluation score: tensor(0.7339)\n",
      "init evaluation score: tensor(1.0971)\n",
      "new evaluation score: tensor(0.7363)\n",
      "init evaluation score: tensor(0.9851)\n",
      "new evaluation score: tensor(0.7157)\n",
      "init evaluation score: tensor(1.1330)\n",
      "new evaluation score: tensor(0.7283)\n",
      "init evaluation score: tensor(0.9865)\n",
      "new evaluation score: tensor(0.7280)\n",
      "init evaluation score: tensor(0.8755)\n",
      "new evaluation score: tensor(0.7293)\n",
      "init evaluation score: tensor(1.0308)\n",
      "new evaluation score: tensor(0.7097)\n",
      "init evaluation score: tensor(0.9030)\n",
      "new evaluation score: tensor(0.7286)\n",
      "init evaluation score: tensor(1.0309)\n",
      "new evaluation score: tensor(0.7233)\n",
      "init evaluation score: tensor(0.9395)\n",
      "new evaluation score: tensor(0.7497)\n",
      "init evaluation score: tensor(0.7956)\n",
      "new evaluation score: tensor(0.7160)\n",
      "init evaluation score: tensor(0.9085)\n",
      "new evaluation score: tensor(0.7264)\n",
      "init evaluation score: tensor(0.9179)\n",
      "new evaluation score: tensor(0.7057)\n",
      "init evaluation score: tensor(0.8500)\n",
      "new evaluation score: tensor(0.7418)\n",
      "init evaluation score: tensor(0.9260)\n",
      "new evaluation score: tensor(0.7380)\n",
      "init evaluation score: tensor(0.9874)\n",
      "new evaluation score: tensor(0.7282)\n",
      "init evaluation score: tensor(1.1895)\n",
      "new evaluation score: tensor(0.7497)\n",
      "init evaluation score: tensor(1.0363)\n",
      "new evaluation score: tensor(0.7146)\n",
      "init evaluation score: tensor(0.8551)\n",
      "new evaluation score: tensor(0.7261)\n",
      "init evaluation score: tensor(0.8545)\n",
      "new evaluation score: tensor(0.7355)\n",
      "init evaluation score: tensor(0.7758)\n",
      "new evaluation score: tensor(0.7124)\n",
      "init evaluation score: tensor(0.9513)\n",
      "new evaluation score: tensor(0.7312)\n",
      "init evaluation score: tensor(0.9453)\n",
      "new evaluation score: tensor(0.7199)\n",
      "init evaluation score: tensor(1.0145)\n",
      "new evaluation score: tensor(0.7339)\n",
      "init evaluation score: tensor(0.8882)\n",
      "new evaluation score: tensor(0.7326)\n",
      "init evaluation score: tensor(0.8719)\n",
      "new evaluation score: tensor(0.7218)\n",
      "init evaluation score: tensor(0.9782)\n",
      "new evaluation score: tensor(0.7197)\n",
      "init evaluation score: tensor(1.0852)\n",
      "new evaluation score: tensor(0.7184)\n",
      "init evaluation score: tensor(0.9854)\n",
      "new evaluation score: tensor(0.7500)\n",
      "init evaluation score: tensor(0.8505)\n",
      "new evaluation score: tensor(0.7285)\n",
      "init evaluation score: tensor(0.9079)\n",
      "new evaluation score: tensor(0.7312)\n",
      "init evaluation score: tensor(0.8204)\n",
      "new evaluation score: tensor(0.7284)\n",
      "init evaluation score: tensor(0.9030)\n",
      "new evaluation score: tensor(0.7218)\n",
      "init evaluation score: tensor(0.9482)\n",
      "new evaluation score: tensor(0.7419)\n",
      "init evaluation score: tensor(1.0140)\n",
      "new evaluation score: tensor(0.7392)\n",
      "init evaluation score: tensor(0.8182)\n",
      "new evaluation score: tensor(0.7305)\n",
      "init evaluation score: tensor(0.9175)\n",
      "new evaluation score: tensor(0.7298)\n"
     ]
    }
   ],
   "source": [
    "quantized_indices = quantizer.quantize(vectors.detach().cpu())"
   ]
  },
  {
   "cell_type": "code",
   "execution_count": 143,
   "metadata": {},
   "outputs": [
    {
     "data": {
      "text/plain": [
       "0.04174666666666667"
      ]
     },
     "execution_count": 143,
     "metadata": {},
     "output_type": "execute_result"
    }
   ],
   "source": [
    "get_compression_ratio(vectors, quantizer.codebook, quantized_indices)"
   ]
  },
  {
   "cell_type": "code",
   "execution_count": 144,
   "metadata": {},
   "outputs": [],
   "source": [
    "reconstructed_vectors = quantizer.reconstruct(quantized_indices.long())"
   ]
  },
  {
   "cell_type": "code",
   "execution_count": 145,
   "metadata": {},
   "outputs": [
    {
     "name": "stdout",
     "output_type": "stream",
     "text": [
      "quantization error tensor(0.7288)\n"
     ]
    }
   ],
   "source": [
    "import torch.nn.functional as F\n",
    "\n",
    "print(\"quantization error\", F.mse_loss(vectors.detach().cpu(), reconstructed_vectors))"
   ]
  },
  {
   "cell_type": "code",
   "execution_count": 146,
   "metadata": {},
   "outputs": [
    {
     "data": {
      "text/plain": [
       "tensor([[ 5.6082e-01,  4.6055e-01, -7.0085e-01,  ..., -1.7091e-04,\n",
       "         -5.6791e-01,  5.6528e-01],\n",
       "        [-2.1667e-01, -9.5067e-01,  6.2092e-01,  ...,  1.0502e-01,\n",
       "          3.1280e-01,  1.1136e+00],\n",
       "        [-5.3196e-01,  3.9757e-01, -4.4569e-01,  ..., -1.7091e-04,\n",
       "         -5.6791e-01,  5.6528e-01],\n",
       "        ...,\n",
       "        [ 4.5436e-01, -6.4711e-01,  4.6075e-01,  ...,  7.8643e-01,\n",
       "          7.8176e-01,  2.4869e-02],\n",
       "        [-2.6512e-01,  2.9283e-01,  2.3335e-01,  ..., -1.5096e+00,\n",
       "         -1.3425e-02, -3.8063e-01],\n",
       "        [ 1.6225e+00,  6.0429e-01,  5.8285e-01,  ..., -3.9719e-01,\n",
       "          5.5825e-01, -4.1728e-02]], device='cuda:0')"
      ]
     },
     "execution_count": 146,
     "metadata": {},
     "output_type": "execute_result"
    }
   ],
   "source": [
    "model.embeddings.weight.data.copy_(reconstructed_vectors)"
   ]
  },
  {
   "cell_type": "code",
   "execution_count": 46,
   "metadata": {},
   "outputs": [],
   "source": [
    "codebook_path = artifact_path / \"fasttext.quantizer.pth\"\n",
    "indices_path = artifact_path / \"fasttext.embed.pth\""
   ]
  },
  {
   "cell_type": "code",
   "execution_count": 48,
   "metadata": {},
   "outputs": [],
   "source": [
    "torch.save(quantizer.state_dict(), codebook_path)"
   ]
  },
  {
   "cell_type": "code",
   "execution_count": 49,
   "metadata": {},
   "outputs": [],
   "source": [
    "torch.save(quantized_indices, indices_path)"
   ]
  },
  {
   "cell_type": "code",
   "execution_count": 50,
   "metadata": {},
   "outputs": [
    {
     "name": "stdout",
     "output_type": "stream",
     "text": [
      "codebook size: 26.77KiB\n",
      "indices size: 4.77MiB\n"
     ]
    }
   ],
   "source": [
    "print(\"codebook size:\", get_file_size(codebook_path, \"K\"))\n",
    "print(\"indices size:\", get_file_size(indices_path, \"M\"))"
   ]
  },
  {
   "cell_type": "code",
   "execution_count": 51,
   "metadata": {},
   "outputs": [
    {
     "data": {
      "text/plain": [
       "<All keys matched successfully>"
      ]
     },
     "execution_count": 51,
     "metadata": {},
     "output_type": "execute_result"
    }
   ],
   "source": [
    "quantizer.load_state_dict(torch.load(codebook_path))"
   ]
  },
  {
   "cell_type": "code",
   "execution_count": 52,
   "metadata": {},
   "outputs": [],
   "source": [
    "quantized_indices = torch.load(indices_path)"
   ]
  },
  {
   "cell_type": "markdown",
   "metadata": {},
   "source": [
    "## visualization"
   ]
  },
  {
   "cell_type": "code",
   "execution_count": 106,
   "metadata": {},
   "outputs": [
    {
     "name": "stdout",
     "output_type": "stream",
     "text": [
      "init evaluation score: tensor(1.4534)\n",
      "new evaluation score: tensor(1.0210)\n",
      "init evaluation score: tensor(1.5011)\n",
      "new evaluation score: tensor(1.0154)\n",
      "init evaluation score: tensor(1.5409)\n",
      "new evaluation score: tensor(1.0158)\n",
      "init evaluation score: tensor(1.4591)\n",
      "new evaluation score: tensor(1.0173)\n",
      "init evaluation score: tensor(1.5177)\n",
      "new evaluation score: tensor(1.0148)\n",
      "init evaluation score: tensor(1.6859)\n",
      "new evaluation score: tensor(1.0205)\n",
      "init evaluation score: tensor(1.6039)\n",
      "new evaluation score: tensor(1.0167)\n",
      "init evaluation score: tensor(1.5827)\n",
      "new evaluation score: tensor(1.0143)\n",
      "init evaluation score: tensor(1.6613)\n",
      "new evaluation score: tensor(1.0135)\n",
      "init evaluation score: tensor(1.6258)\n",
      "new evaluation score: tensor(1.0156)\n",
      "init evaluation score: tensor(1.0785)\n",
      "new evaluation score: tensor(0.8690)\n",
      "init evaluation score: tensor(1.0642)\n",
      "new evaluation score: tensor(0.8788)\n",
      "init evaluation score: tensor(1.0949)\n",
      "new evaluation score: tensor(0.8735)\n",
      "init evaluation score: tensor(1.1147)\n",
      "new evaluation score: tensor(0.8734)\n",
      "init evaluation score: tensor(1.0972)\n",
      "new evaluation score: tensor(0.8617)\n",
      "init evaluation score: tensor(1.2530)\n",
      "new evaluation score: tensor(0.8641)\n",
      "init evaluation score: tensor(1.3142)\n",
      "new evaluation score: tensor(0.8686)\n",
      "init evaluation score: tensor(1.1033)\n",
      "new evaluation score: tensor(0.8778)\n",
      "init evaluation score: tensor(1.2383)\n",
      "new evaluation score: tensor(0.8769)\n",
      "init evaluation score: tensor(1.2555)\n",
      "new evaluation score: tensor(0.8632)\n",
      "init evaluation score: tensor(1.0495)\n",
      "new evaluation score: tensor(0.8706)\n",
      "init evaluation score: tensor(1.0738)\n",
      "new evaluation score: tensor(0.8658)\n",
      "init evaluation score: tensor(1.0342)\n",
      "new evaluation score: tensor(0.8636)\n",
      "init evaluation score: tensor(1.2725)\n",
      "new evaluation score: tensor(0.8698)\n",
      "init evaluation score: tensor(1.1742)\n",
      "new evaluation score: tensor(0.8822)\n",
      "init evaluation score: tensor(1.1096)\n",
      "new evaluation score: tensor(0.8743)\n",
      "init evaluation score: tensor(1.3230)\n",
      "new evaluation score: tensor(0.8708)\n",
      "init evaluation score: tensor(1.2572)\n",
      "new evaluation score: tensor(0.8953)\n",
      "init evaluation score: tensor(1.0953)\n",
      "new evaluation score: tensor(0.8789)\n",
      "init evaluation score: tensor(1.0182)\n",
      "new evaluation score: tensor(0.8815)\n",
      "init evaluation score: tensor(1.1222)\n",
      "new evaluation score: tensor(0.8659)\n",
      "init evaluation score: tensor(1.1621)\n",
      "new evaluation score: tensor(0.8597)\n",
      "init evaluation score: tensor(1.1997)\n",
      "new evaluation score: tensor(0.8672)\n",
      "init evaluation score: tensor(1.1602)\n",
      "new evaluation score: tensor(0.8714)\n",
      "init evaluation score: tensor(1.1438)\n",
      "new evaluation score: tensor(0.9015)\n",
      "init evaluation score: tensor(1.1628)\n",
      "new evaluation score: tensor(0.8785)\n",
      "init evaluation score: tensor(1.2122)\n",
      "new evaluation score: tensor(0.8641)\n",
      "init evaluation score: tensor(1.2099)\n",
      "new evaluation score: tensor(0.8564)\n",
      "init evaluation score: tensor(1.1687)\n",
      "new evaluation score: tensor(0.8734)\n",
      "init evaluation score: tensor(1.2107)\n",
      "new evaluation score: tensor(0.8725)\n",
      "init evaluation score: tensor(0.9696)\n",
      "new evaluation score: tensor(0.7384)\n",
      "init evaluation score: tensor(0.9149)\n",
      "new evaluation score: tensor(0.7127)\n",
      "init evaluation score: tensor(0.8643)\n",
      "new evaluation score: tensor(0.7182)\n",
      "init evaluation score: tensor(0.8523)\n",
      "new evaluation score: tensor(0.7407)\n",
      "init evaluation score: tensor(0.9840)\n",
      "new evaluation score: tensor(0.7363)\n",
      "init evaluation score: tensor(0.8984)\n",
      "new evaluation score: tensor(0.7417)\n",
      "init evaluation score: tensor(0.9114)\n",
      "new evaluation score: tensor(0.7291)\n",
      "init evaluation score: tensor(0.9337)\n",
      "new evaluation score: tensor(0.7251)\n",
      "init evaluation score: tensor(0.9776)\n",
      "new evaluation score: tensor(0.7232)\n",
      "init evaluation score: tensor(1.0811)\n",
      "new evaluation score: tensor(0.7250)\n",
      "init evaluation score: tensor(0.8664)\n",
      "new evaluation score: tensor(0.7285)\n",
      "init evaluation score: tensor(0.9478)\n",
      "new evaluation score: tensor(0.7155)\n",
      "init evaluation score: tensor(0.9362)\n",
      "new evaluation score: tensor(0.7182)\n",
      "init evaluation score: tensor(1.0142)\n",
      "new evaluation score: tensor(0.7547)\n",
      "init evaluation score: tensor(1.0212)\n",
      "new evaluation score: tensor(0.7257)\n",
      "init evaluation score: tensor(0.9744)\n",
      "new evaluation score: tensor(0.7555)\n",
      "init evaluation score: tensor(1.1029)\n",
      "new evaluation score: tensor(0.7368)\n",
      "init evaluation score: tensor(0.8971)\n",
      "new evaluation score: tensor(0.7339)\n",
      "init evaluation score: tensor(0.9945)\n",
      "new evaluation score: tensor(0.7153)\n",
      "init evaluation score: tensor(0.9139)\n",
      "new evaluation score: tensor(0.7347)\n",
      "init evaluation score: tensor(1.0021)\n",
      "new evaluation score: tensor(0.7224)\n",
      "init evaluation score: tensor(0.9374)\n",
      "new evaluation score: tensor(0.7485)\n",
      "init evaluation score: tensor(1.1347)\n",
      "new evaluation score: tensor(0.7378)\n",
      "init evaluation score: tensor(0.8686)\n",
      "new evaluation score: tensor(0.7207)\n",
      "init evaluation score: tensor(1.2151)\n",
      "new evaluation score: tensor(0.7225)\n",
      "init evaluation score: tensor(0.8857)\n",
      "new evaluation score: tensor(0.7230)\n",
      "init evaluation score: tensor(0.8491)\n",
      "new evaluation score: tensor(0.7184)\n",
      "init evaluation score: tensor(0.8636)\n",
      "new evaluation score: tensor(0.7261)\n",
      "init evaluation score: tensor(0.9255)\n",
      "new evaluation score: tensor(0.7289)\n",
      "init evaluation score: tensor(0.9137)\n",
      "new evaluation score: tensor(0.7482)\n",
      "init evaluation score: tensor(0.8720)\n",
      "new evaluation score: tensor(0.7330)\n",
      "init evaluation score: tensor(0.9138)\n",
      "new evaluation score: tensor(0.7179)\n",
      "init evaluation score: tensor(0.8875)\n",
      "new evaluation score: tensor(0.7606)\n",
      "init evaluation score: tensor(0.9311)\n",
      "new evaluation score: tensor(0.7222)\n",
      "init evaluation score: tensor(0.8647)\n",
      "new evaluation score: tensor(0.7319)\n",
      "init evaluation score: tensor(0.9147)\n",
      "new evaluation score: tensor(0.7257)\n",
      "init evaluation score: tensor(0.8803)\n",
      "new evaluation score: tensor(0.7294)\n",
      "init evaluation score: tensor(0.8847)\n",
      "new evaluation score: tensor(0.7738)\n",
      "init evaluation score: tensor(0.8880)\n",
      "new evaluation score: tensor(0.7282)\n",
      "init evaluation score: tensor(0.8712)\n",
      "new evaluation score: tensor(0.7299)\n",
      "init evaluation score: tensor(0.9630)\n",
      "new evaluation score: tensor(0.7326)\n",
      "init evaluation score: tensor(0.8531)\n",
      "new evaluation score: tensor(0.7221)\n",
      "init evaluation score: tensor(0.8136)\n",
      "new evaluation score: tensor(0.7161)\n",
      "init evaluation score: tensor(0.9439)\n",
      "new evaluation score: tensor(0.7133)\n",
      "init evaluation score: tensor(0.8114)\n",
      "new evaluation score: tensor(0.7235)\n",
      "init evaluation score: tensor(1.1087)\n",
      "new evaluation score: tensor(0.7086)\n",
      "init evaluation score: tensor(0.9419)\n",
      "new evaluation score: tensor(0.7313)\n",
      "init evaluation score: tensor(0.8959)\n",
      "new evaluation score: tensor(0.7172)\n",
      "init evaluation score: tensor(0.9406)\n",
      "new evaluation score: tensor(0.7269)\n",
      "init evaluation score: tensor(0.8419)\n",
      "new evaluation score: tensor(0.7279)\n",
      "init evaluation score: tensor(0.7952)\n",
      "new evaluation score: tensor(0.6622)\n",
      "init evaluation score: tensor(0.7702)\n",
      "new evaluation score: tensor(0.6450)\n",
      "init evaluation score: tensor(0.9845)\n",
      "new evaluation score: tensor(0.7042)\n",
      "init evaluation score: tensor(0.8543)\n",
      "new evaluation score: tensor(0.6616)\n",
      "init evaluation score: tensor(0.7208)\n",
      "new evaluation score: tensor(0.6531)\n",
      "init evaluation score: tensor(0.8070)\n",
      "new evaluation score: tensor(0.6543)\n",
      "init evaluation score: tensor(0.8683)\n",
      "new evaluation score: tensor(0.6634)\n",
      "init evaluation score: tensor(0.7548)\n",
      "new evaluation score: tensor(0.6592)\n",
      "init evaluation score: tensor(0.8702)\n",
      "new evaluation score: tensor(0.6776)\n",
      "init evaluation score: tensor(0.9711)\n",
      "new evaluation score: tensor(0.6814)\n",
      "init evaluation score: tensor(0.7594)\n",
      "new evaluation score: tensor(0.6438)\n",
      "init evaluation score: tensor(0.8425)\n",
      "new evaluation score: tensor(0.6698)\n",
      "init evaluation score: tensor(0.7519)\n",
      "new evaluation score: tensor(0.6454)\n",
      "init evaluation score: tensor(0.9111)\n",
      "new evaluation score: tensor(0.6925)\n",
      "init evaluation score: tensor(0.7614)\n",
      "new evaluation score: tensor(0.6781)\n",
      "init evaluation score: tensor(0.9883)\n",
      "new evaluation score: tensor(0.6889)\n",
      "init evaluation score: tensor(0.8787)\n",
      "new evaluation score: tensor(0.6903)\n",
      "init evaluation score: tensor(0.8204)\n",
      "new evaluation score: tensor(0.6743)\n",
      "init evaluation score: tensor(0.9418)\n",
      "new evaluation score: tensor(0.6798)\n",
      "init evaluation score: tensor(0.7544)\n",
      "new evaluation score: tensor(0.6461)\n",
      "init evaluation score: tensor(0.7955)\n",
      "new evaluation score: tensor(0.6790)\n",
      "init evaluation score: tensor(0.7384)\n",
      "new evaluation score: tensor(0.6482)\n",
      "init evaluation score: tensor(0.8205)\n",
      "new evaluation score: tensor(0.6664)\n",
      "init evaluation score: tensor(0.7423)\n",
      "new evaluation score: tensor(0.6496)\n",
      "init evaluation score: tensor(0.7730)\n",
      "new evaluation score: tensor(0.6841)\n",
      "init evaluation score: tensor(0.8045)\n",
      "new evaluation score: tensor(0.6443)\n",
      "init evaluation score: tensor(0.9593)\n",
      "new evaluation score: tensor(0.7036)\n",
      "init evaluation score: tensor(0.9459)\n",
      "new evaluation score: tensor(0.6441)\n",
      "init evaluation score: tensor(0.8807)\n",
      "new evaluation score: tensor(0.6416)\n",
      "init evaluation score: tensor(0.7805)\n",
      "new evaluation score: tensor(0.6694)\n",
      "init evaluation score: tensor(0.7921)\n",
      "new evaluation score: tensor(0.6346)\n",
      "init evaluation score: tensor(0.8530)\n",
      "new evaluation score: tensor(0.6650)\n",
      "init evaluation score: tensor(0.7555)\n",
      "new evaluation score: tensor(0.6562)\n",
      "init evaluation score: tensor(0.8064)\n",
      "new evaluation score: tensor(0.6882)\n",
      "init evaluation score: tensor(1.0493)\n",
      "new evaluation score: tensor(0.6761)\n",
      "init evaluation score: tensor(0.9568)\n",
      "new evaluation score: tensor(0.6713)\n",
      "init evaluation score: tensor(0.8077)\n",
      "new evaluation score: tensor(0.6532)\n",
      "init evaluation score: tensor(0.8194)\n",
      "new evaluation score: tensor(0.6941)\n",
      "init evaluation score: tensor(0.8269)\n",
      "new evaluation score: tensor(0.6515)\n",
      "init evaluation score: tensor(0.9818)\n",
      "new evaluation score: tensor(0.6764)\n",
      "init evaluation score: tensor(0.7814)\n",
      "new evaluation score: tensor(0.6617)\n",
      "init evaluation score: tensor(0.8866)\n",
      "new evaluation score: tensor(0.7175)\n",
      "init evaluation score: tensor(0.7677)\n",
      "new evaluation score: tensor(0.6774)\n",
      "init evaluation score: tensor(0.7033)\n",
      "new evaluation score: tensor(0.6677)\n",
      "init evaluation score: tensor(0.7992)\n",
      "new evaluation score: tensor(0.6840)\n",
      "init evaluation score: tensor(0.9185)\n",
      "new evaluation score: tensor(0.6806)\n",
      "init evaluation score: tensor(0.8675)\n",
      "new evaluation score: tensor(0.6710)\n",
      "init evaluation score: tensor(0.8908)\n",
      "new evaluation score: tensor(0.6672)\n",
      "init evaluation score: tensor(0.8506)\n",
      "new evaluation score: tensor(0.6578)\n",
      "init evaluation score: tensor(0.7924)\n",
      "new evaluation score: tensor(0.6703)\n",
      "init evaluation score: tensor(0.7706)\n",
      "new evaluation score: tensor(0.6573)\n",
      "init evaluation score: tensor(0.7568)\n",
      "new evaluation score: tensor(0.6578)\n",
      "init evaluation score: tensor(0.7749)\n",
      "new evaluation score: tensor(0.6478)\n",
      "init evaluation score: tensor(0.7688)\n",
      "new evaluation score: tensor(0.6825)\n",
      "init evaluation score: tensor(0.8309)\n",
      "new evaluation score: tensor(0.6414)\n",
      "init evaluation score: tensor(0.7590)\n",
      "new evaluation score: tensor(0.6566)\n",
      "init evaluation score: tensor(0.9128)\n",
      "new evaluation score: tensor(0.6951)\n",
      "init evaluation score: tensor(0.7896)\n",
      "new evaluation score: tensor(0.6681)\n",
      "init evaluation score: tensor(0.7982)\n",
      "new evaluation score: tensor(0.6512)\n",
      "init evaluation score: tensor(0.9312)\n",
      "new evaluation score: tensor(0.6429)\n",
      "init evaluation score: tensor(0.6955)\n",
      "new evaluation score: tensor(0.4661)\n",
      "init evaluation score: tensor(0.4909)\n",
      "new evaluation score: tensor(0.4327)\n",
      "init evaluation score: tensor(0.5819)\n",
      "new evaluation score: tensor(0.4479)\n",
      "init evaluation score: tensor(0.4758)\n",
      "new evaluation score: tensor(0.4177)\n",
      "init evaluation score: tensor(0.5333)\n",
      "new evaluation score: tensor(0.4280)\n",
      "init evaluation score: tensor(0.5169)\n",
      "new evaluation score: tensor(0.4371)\n",
      "init evaluation score: tensor(0.5012)\n",
      "new evaluation score: tensor(0.4508)\n",
      "init evaluation score: tensor(0.5262)\n",
      "new evaluation score: tensor(0.4334)\n",
      "init evaluation score: tensor(0.5806)\n",
      "new evaluation score: tensor(0.4574)\n",
      "init evaluation score: tensor(0.6372)\n",
      "new evaluation score: tensor(0.4690)\n",
      "init evaluation score: tensor(0.6273)\n",
      "new evaluation score: tensor(0.4469)\n",
      "init evaluation score: tensor(0.6225)\n",
      "new evaluation score: tensor(0.4320)\n",
      "init evaluation score: tensor(0.5286)\n",
      "new evaluation score: tensor(0.4480)\n",
      "init evaluation score: tensor(0.5551)\n",
      "new evaluation score: tensor(0.4332)\n",
      "init evaluation score: tensor(0.5214)\n",
      "new evaluation score: tensor(0.4521)\n",
      "init evaluation score: tensor(0.5389)\n",
      "new evaluation score: tensor(0.4426)\n",
      "init evaluation score: tensor(0.5305)\n",
      "new evaluation score: tensor(0.4442)\n",
      "init evaluation score: tensor(0.5447)\n",
      "new evaluation score: tensor(0.4506)\n",
      "init evaluation score: tensor(0.5869)\n",
      "new evaluation score: tensor(0.4706)\n",
      "init evaluation score: tensor(0.5818)\n",
      "new evaluation score: tensor(0.4360)\n",
      "init evaluation score: tensor(0.5467)\n",
      "new evaluation score: tensor(0.4453)\n",
      "init evaluation score: tensor(0.6218)\n",
      "new evaluation score: tensor(0.4563)\n",
      "init evaluation score: tensor(0.5350)\n",
      "new evaluation score: tensor(0.4321)\n",
      "init evaluation score: tensor(0.5128)\n",
      "new evaluation score: tensor(0.4292)\n",
      "init evaluation score: tensor(0.6529)\n",
      "new evaluation score: tensor(0.4530)\n",
      "init evaluation score: tensor(0.6703)\n",
      "new evaluation score: tensor(0.4594)\n",
      "init evaluation score: tensor(0.4909)\n",
      "new evaluation score: tensor(0.4254)\n",
      "init evaluation score: tensor(0.5505)\n",
      "new evaluation score: tensor(0.4267)\n",
      "init evaluation score: tensor(0.5803)\n",
      "new evaluation score: tensor(0.4595)\n",
      "init evaluation score: tensor(0.4680)\n",
      "new evaluation score: tensor(0.4132)\n",
      "init evaluation score: tensor(0.6554)\n",
      "new evaluation score: tensor(0.4637)\n",
      "init evaluation score: tensor(0.6574)\n",
      "new evaluation score: tensor(0.4450)\n",
      "init evaluation score: tensor(0.5173)\n",
      "new evaluation score: tensor(0.4310)\n",
      "init evaluation score: tensor(0.6048)\n",
      "new evaluation score: tensor(0.4425)\n",
      "init evaluation score: tensor(0.5499)\n",
      "new evaluation score: tensor(0.4322)\n",
      "init evaluation score: tensor(0.4955)\n",
      "new evaluation score: tensor(0.4348)\n",
      "init evaluation score: tensor(0.5353)\n",
      "new evaluation score: tensor(0.4501)\n",
      "init evaluation score: tensor(0.5385)\n",
      "new evaluation score: tensor(0.4515)\n",
      "init evaluation score: tensor(0.5393)\n",
      "new evaluation score: tensor(0.4242)\n",
      "init evaluation score: tensor(0.6434)\n",
      "new evaluation score: tensor(0.4663)\n",
      "init evaluation score: tensor(0.4794)\n",
      "new evaluation score: tensor(0.4208)\n",
      "init evaluation score: tensor(0.5072)\n",
      "new evaluation score: tensor(0.4430)\n",
      "init evaluation score: tensor(0.7495)\n",
      "new evaluation score: tensor(0.4585)\n",
      "init evaluation score: tensor(0.5392)\n",
      "new evaluation score: tensor(0.4721)\n",
      "init evaluation score: tensor(0.7052)\n",
      "new evaluation score: tensor(0.4355)\n",
      "init evaluation score: tensor(0.5448)\n",
      "new evaluation score: tensor(0.4521)\n",
      "init evaluation score: tensor(0.5002)\n",
      "new evaluation score: tensor(0.4210)\n",
      "init evaluation score: tensor(0.5765)\n",
      "new evaluation score: tensor(0.4548)\n",
      "init evaluation score: tensor(0.6453)\n",
      "new evaluation score: tensor(0.4901)\n",
      "init evaluation score: tensor(0.5254)\n",
      "new evaluation score: tensor(0.4484)\n",
      "init evaluation score: tensor(0.4829)\n",
      "new evaluation score: tensor(0.4143)\n",
      "init evaluation score: tensor(0.4939)\n",
      "new evaluation score: tensor(0.4260)\n",
      "init evaluation score: tensor(0.5495)\n",
      "new evaluation score: tensor(0.4399)\n",
      "init evaluation score: tensor(0.5722)\n",
      "new evaluation score: tensor(0.4703)\n",
      "init evaluation score: tensor(0.5605)\n",
      "new evaluation score: tensor(0.4384)\n",
      "init evaluation score: tensor(0.4996)\n",
      "new evaluation score: tensor(0.4282)\n",
      "init evaluation score: tensor(0.5749)\n",
      "new evaluation score: tensor(0.4331)\n",
      "init evaluation score: tensor(0.5290)\n",
      "new evaluation score: tensor(0.4330)\n",
      "init evaluation score: tensor(0.5667)\n",
      "new evaluation score: tensor(0.4494)\n",
      "init evaluation score: tensor(0.5661)\n",
      "new evaluation score: tensor(0.4625)\n",
      "init evaluation score: tensor(0.5683)\n",
      "new evaluation score: tensor(0.4410)\n",
      "init evaluation score: tensor(0.5516)\n",
      "new evaluation score: tensor(0.4566)\n",
      "init evaluation score: tensor(0.5069)\n",
      "new evaluation score: tensor(0.4406)\n",
      "init evaluation score: tensor(0.4796)\n",
      "new evaluation score: tensor(0.4353)\n",
      "init evaluation score: tensor(0.6238)\n",
      "new evaluation score: tensor(0.4767)\n",
      "init evaluation score: tensor(0.6793)\n",
      "new evaluation score: tensor(0.4804)\n",
      "init evaluation score: tensor(0.6277)\n",
      "new evaluation score: tensor(0.4874)\n",
      "init evaluation score: tensor(0.7697)\n",
      "new evaluation score: tensor(0.4856)\n",
      "init evaluation score: tensor(0.5151)\n",
      "new evaluation score: tensor(0.4339)\n",
      "init evaluation score: tensor(0.4707)\n",
      "new evaluation score: tensor(0.4243)\n",
      "init evaluation score: tensor(0.5700)\n",
      "new evaluation score: tensor(0.4494)\n",
      "init evaluation score: tensor(0.5989)\n",
      "new evaluation score: tensor(0.4642)\n",
      "init evaluation score: tensor(0.4871)\n",
      "new evaluation score: tensor(0.4308)\n",
      "init evaluation score: tensor(0.4748)\n",
      "new evaluation score: tensor(0.4231)\n",
      "init evaluation score: tensor(0.5516)\n",
      "new evaluation score: tensor(0.4417)\n",
      "init evaluation score: tensor(0.5968)\n",
      "new evaluation score: tensor(0.4713)\n",
      "init evaluation score: tensor(0.5532)\n",
      "new evaluation score: tensor(0.4402)\n",
      "init evaluation score: tensor(0.6040)\n",
      "new evaluation score: tensor(0.4677)\n",
      "init evaluation score: tensor(0.6207)\n",
      "new evaluation score: tensor(0.4570)\n",
      "init evaluation score: tensor(0.6179)\n",
      "new evaluation score: tensor(0.4579)\n",
      "init evaluation score: tensor(0.5497)\n",
      "new evaluation score: tensor(0.4403)\n",
      "init evaluation score: tensor(0.5257)\n",
      "new evaluation score: tensor(0.4331)\n",
      "init evaluation score: tensor(0.6596)\n",
      "new evaluation score: tensor(0.4502)\n",
      "init evaluation score: tensor(0.7093)\n",
      "new evaluation score: tensor(0.4676)\n",
      "init evaluation score: tensor(0.6367)\n",
      "new evaluation score: tensor(0.4769)\n",
      "init evaluation score: tensor(0.5581)\n",
      "new evaluation score: tensor(0.4440)\n",
      "init evaluation score: tensor(0.5898)\n",
      "new evaluation score: tensor(0.4275)\n",
      "init evaluation score: tensor(0.5294)\n",
      "new evaluation score: tensor(0.4245)\n",
      "init evaluation score: tensor(0.4773)\n",
      "new evaluation score: tensor(0.4233)\n",
      "init evaluation score: tensor(0.5042)\n",
      "new evaluation score: tensor(0.4264)\n",
      "init evaluation score: tensor(0.5313)\n",
      "new evaluation score: tensor(0.4122)\n",
      "init evaluation score: tensor(0.4851)\n",
      "new evaluation score: tensor(0.4177)\n",
      "init evaluation score: tensor(0.6722)\n",
      "new evaluation score: tensor(0.4215)\n",
      "init evaluation score: tensor(0.7087)\n",
      "new evaluation score: tensor(0.4439)\n",
      "init evaluation score: tensor(0.5993)\n",
      "new evaluation score: tensor(0.4818)\n",
      "init evaluation score: tensor(0.5484)\n",
      "new evaluation score: tensor(0.4286)\n",
      "init evaluation score: tensor(0.5531)\n",
      "new evaluation score: tensor(0.4630)\n",
      "init evaluation score: tensor(0.5679)\n",
      "new evaluation score: tensor(0.4713)\n",
      "init evaluation score: tensor(0.6307)\n",
      "new evaluation score: tensor(0.4827)\n",
      "init evaluation score: tensor(0.5401)\n",
      "new evaluation score: tensor(0.4639)\n",
      "init evaluation score: tensor(0.3112)\n",
      "new evaluation score: tensor(0.2650)\n",
      "init evaluation score: tensor(0.3766)\n",
      "new evaluation score: tensor(0.2782)\n",
      "init evaluation score: tensor(0.6267)\n",
      "new evaluation score: tensor(0.2968)\n",
      "init evaluation score: tensor(0.4102)\n",
      "new evaluation score: tensor(0.2808)\n",
      "init evaluation score: tensor(0.3807)\n",
      "new evaluation score: tensor(0.2837)\n",
      "init evaluation score: tensor(0.4541)\n",
      "new evaluation score: tensor(0.3079)\n",
      "init evaluation score: tensor(0.4611)\n",
      "new evaluation score: tensor(0.3078)\n",
      "init evaluation score: tensor(0.4088)\n",
      "new evaluation score: tensor(0.3061)\n",
      "init evaluation score: tensor(0.3874)\n",
      "new evaluation score: tensor(0.2653)\n",
      "init evaluation score: tensor(0.4692)\n",
      "new evaluation score: tensor(0.2684)\n",
      "init evaluation score: tensor(0.3359)\n",
      "new evaluation score: tensor(0.2554)\n",
      "init evaluation score: tensor(0.4195)\n",
      "new evaluation score: tensor(0.2589)\n",
      "init evaluation score: tensor(0.3197)\n",
      "new evaluation score: tensor(0.2457)\n",
      "init evaluation score: tensor(0.3209)\n",
      "new evaluation score: tensor(0.2553)\n",
      "init evaluation score: tensor(0.4376)\n",
      "new evaluation score: tensor(0.2934)\n",
      "init evaluation score: tensor(0.3986)\n",
      "new evaluation score: tensor(0.2848)\n",
      "init evaluation score: tensor(0.3579)\n",
      "new evaluation score: tensor(0.2769)\n",
      "init evaluation score: tensor(0.3494)\n",
      "new evaluation score: tensor(0.2785)\n",
      "init evaluation score: tensor(0.3151)\n",
      "new evaluation score: tensor(0.2577)\n",
      "init evaluation score: tensor(0.3491)\n",
      "new evaluation score: tensor(0.2432)\n",
      "init evaluation score: tensor(0.3810)\n",
      "new evaluation score: tensor(0.2697)\n",
      "init evaluation score: tensor(0.3118)\n",
      "new evaluation score: tensor(0.2594)\n",
      "init evaluation score: tensor(0.3522)\n",
      "new evaluation score: tensor(0.2628)\n",
      "init evaluation score: tensor(0.2952)\n",
      "new evaluation score: tensor(0.2541)\n",
      "init evaluation score: tensor(0.2935)\n",
      "new evaluation score: tensor(0.2519)\n",
      "init evaluation score: tensor(0.3052)\n",
      "new evaluation score: tensor(0.2621)\n",
      "init evaluation score: tensor(0.3679)\n",
      "new evaluation score: tensor(0.2762)\n",
      "init evaluation score: tensor(0.3636)\n",
      "new evaluation score: tensor(0.2739)\n",
      "init evaluation score: tensor(0.3372)\n",
      "new evaluation score: tensor(0.2688)\n",
      "init evaluation score: tensor(0.3151)\n",
      "new evaluation score: tensor(0.2740)\n",
      "init evaluation score: tensor(0.2902)\n",
      "new evaluation score: tensor(0.2398)\n",
      "init evaluation score: tensor(0.4262)\n",
      "new evaluation score: tensor(0.2776)\n",
      "init evaluation score: tensor(0.3872)\n",
      "new evaluation score: tensor(0.3196)\n",
      "init evaluation score: tensor(0.4295)\n",
      "new evaluation score: tensor(0.2776)\n",
      "init evaluation score: tensor(0.3826)\n",
      "new evaluation score: tensor(0.2815)\n",
      "init evaluation score: tensor(0.3834)\n",
      "new evaluation score: tensor(0.2842)\n",
      "init evaluation score: tensor(0.3945)\n",
      "new evaluation score: tensor(0.3016)\n",
      "init evaluation score: tensor(0.3051)\n",
      "new evaluation score: tensor(0.2713)\n",
      "init evaluation score: tensor(0.3383)\n",
      "new evaluation score: tensor(0.2633)\n",
      "init evaluation score: tensor(0.3396)\n",
      "new evaluation score: tensor(0.2562)\n",
      "init evaluation score: tensor(0.4015)\n",
      "new evaluation score: tensor(0.3041)\n",
      "init evaluation score: tensor(0.3314)\n",
      "new evaluation score: tensor(0.2551)\n",
      "init evaluation score: tensor(0.3733)\n",
      "new evaluation score: tensor(0.2732)\n",
      "init evaluation score: tensor(0.4200)\n",
      "new evaluation score: tensor(0.2920)\n",
      "init evaluation score: tensor(0.3815)\n",
      "new evaluation score: tensor(0.2555)\n",
      "init evaluation score: tensor(0.3615)\n",
      "new evaluation score: tensor(0.2807)\n",
      "init evaluation score: tensor(0.4385)\n",
      "new evaluation score: tensor(0.2755)\n",
      "init evaluation score: tensor(0.4116)\n",
      "new evaluation score: tensor(0.3148)\n",
      "init evaluation score: tensor(0.3617)\n",
      "new evaluation score: tensor(0.2802)\n",
      "init evaluation score: tensor(0.2992)\n",
      "new evaluation score: tensor(0.2515)\n",
      "init evaluation score: tensor(0.3441)\n",
      "new evaluation score: tensor(0.2577)\n",
      "init evaluation score: tensor(0.3467)\n",
      "new evaluation score: tensor(0.2694)\n",
      "init evaluation score: tensor(0.5975)\n",
      "new evaluation score: tensor(0.3258)\n",
      "init evaluation score: tensor(0.3023)\n",
      "new evaluation score: tensor(0.2453)\n",
      "init evaluation score: tensor(0.3137)\n",
      "new evaluation score: tensor(0.2411)\n",
      "init evaluation score: tensor(0.3316)\n",
      "new evaluation score: tensor(0.2620)\n",
      "init evaluation score: tensor(0.3105)\n",
      "new evaluation score: tensor(0.2626)\n",
      "init evaluation score: tensor(0.4946)\n",
      "new evaluation score: tensor(0.2630)\n",
      "init evaluation score: tensor(0.3357)\n",
      "new evaluation score: tensor(0.2686)\n",
      "init evaluation score: tensor(0.3577)\n",
      "new evaluation score: tensor(0.2663)\n",
      "init evaluation score: tensor(0.3016)\n",
      "new evaluation score: tensor(0.2671)\n",
      "init evaluation score: tensor(0.3085)\n",
      "new evaluation score: tensor(0.2618)\n",
      "init evaluation score: tensor(0.5111)\n",
      "new evaluation score: tensor(0.2961)\n",
      "init evaluation score: tensor(0.2968)\n",
      "new evaluation score: tensor(0.2549)\n",
      "init evaluation score: tensor(0.3332)\n",
      "new evaluation score: tensor(0.2496)\n",
      "init evaluation score: tensor(0.3348)\n",
      "new evaluation score: tensor(0.2559)\n",
      "init evaluation score: tensor(0.2794)\n",
      "new evaluation score: tensor(0.2390)\n",
      "init evaluation score: tensor(0.3927)\n",
      "new evaluation score: tensor(0.2570)\n",
      "init evaluation score: tensor(0.3185)\n",
      "new evaluation score: tensor(0.2528)\n",
      "init evaluation score: tensor(0.4045)\n",
      "new evaluation score: tensor(0.2431)\n",
      "init evaluation score: tensor(0.3563)\n",
      "new evaluation score: tensor(0.2643)\n",
      "init evaluation score: tensor(0.3211)\n",
      "new evaluation score: tensor(0.2575)\n",
      "init evaluation score: tensor(0.4026)\n",
      "new evaluation score: tensor(0.2822)\n",
      "init evaluation score: tensor(0.4281)\n",
      "new evaluation score: tensor(0.2845)\n",
      "init evaluation score: tensor(0.4381)\n",
      "new evaluation score: tensor(0.2950)\n",
      "init evaluation score: tensor(0.2690)\n",
      "new evaluation score: tensor(0.2408)\n",
      "init evaluation score: tensor(0.3283)\n",
      "new evaluation score: tensor(0.2447)\n",
      "init evaluation score: tensor(0.3645)\n",
      "new evaluation score: tensor(0.2747)\n",
      "init evaluation score: tensor(0.2819)\n",
      "new evaluation score: tensor(0.2498)\n",
      "init evaluation score: tensor(0.3466)\n",
      "new evaluation score: tensor(0.2653)\n",
      "init evaluation score: tensor(0.4057)\n",
      "new evaluation score: tensor(0.3094)\n",
      "init evaluation score: tensor(0.3502)\n",
      "new evaluation score: tensor(0.2517)\n",
      "init evaluation score: tensor(0.3578)\n",
      "new evaluation score: tensor(0.2853)\n",
      "init evaluation score: tensor(0.3257)\n",
      "new evaluation score: tensor(0.2510)\n",
      "init evaluation score: tensor(0.3288)\n",
      "new evaluation score: tensor(0.2619)\n",
      "init evaluation score: tensor(0.3156)\n",
      "new evaluation score: tensor(0.2647)\n",
      "init evaluation score: tensor(0.2929)\n",
      "new evaluation score: tensor(0.2492)\n",
      "init evaluation score: tensor(0.3429)\n",
      "new evaluation score: tensor(0.2614)\n",
      "init evaluation score: tensor(0.3123)\n",
      "new evaluation score: tensor(0.2648)\n",
      "init evaluation score: tensor(0.3221)\n",
      "new evaluation score: tensor(0.2498)\n",
      "init evaluation score: tensor(0.3350)\n",
      "new evaluation score: tensor(0.2771)\n",
      "init evaluation score: tensor(0.2979)\n",
      "new evaluation score: tensor(0.2526)\n",
      "init evaluation score: tensor(0.3138)\n",
      "new evaluation score: tensor(0.2462)\n",
      "init evaluation score: tensor(0.5791)\n",
      "new evaluation score: tensor(0.3115)\n",
      "init evaluation score: tensor(0.2929)\n",
      "new evaluation score: tensor(0.2437)\n",
      "init evaluation score: tensor(0.3106)\n",
      "new evaluation score: tensor(0.2738)\n",
      "init evaluation score: tensor(0.3045)\n",
      "new evaluation score: tensor(0.2592)\n",
      "init evaluation score: tensor(0.3919)\n",
      "new evaluation score: tensor(0.2773)\n",
      "init evaluation score: tensor(0.3334)\n",
      "new evaluation score: tensor(0.2577)\n",
      "init evaluation score: tensor(0.3235)\n",
      "new evaluation score: tensor(0.2773)\n",
      "init evaluation score: tensor(0.3006)\n",
      "new evaluation score: tensor(0.2591)\n",
      "init evaluation score: tensor(0.3044)\n",
      "new evaluation score: tensor(0.2469)\n",
      "init evaluation score: tensor(0.4893)\n",
      "new evaluation score: tensor(0.2970)\n",
      "init evaluation score: tensor(0.3680)\n",
      "new evaluation score: tensor(0.2703)\n",
      "init evaluation score: tensor(0.3258)\n",
      "new evaluation score: tensor(0.2617)\n",
      "init evaluation score: tensor(0.3090)\n",
      "new evaluation score: tensor(0.2470)\n",
      "init evaluation score: tensor(0.3417)\n",
      "new evaluation score: tensor(0.2607)\n",
      "init evaluation score: tensor(0.3404)\n",
      "new evaluation score: tensor(0.2681)\n",
      "init evaluation score: tensor(0.3698)\n",
      "new evaluation score: tensor(0.2631)\n",
      "init evaluation score: tensor(0.3011)\n",
      "new evaluation score: tensor(0.2480)\n",
      "init evaluation score: tensor(0.3272)\n",
      "new evaluation score: tensor(0.2627)\n",
      "init evaluation score: tensor(0.3039)\n",
      "new evaluation score: tensor(0.2663)\n",
      "init evaluation score: tensor(0.3412)\n",
      "new evaluation score: tensor(0.2911)\n",
      "init evaluation score: tensor(0.3104)\n",
      "new evaluation score: tensor(0.2621)\n",
      "init evaluation score: tensor(0.3912)\n",
      "new evaluation score: tensor(0.2483)\n",
      "init evaluation score: tensor(0.3310)\n",
      "new evaluation score: tensor(0.2672)\n",
      "init evaluation score: tensor(0.3208)\n",
      "new evaluation score: tensor(0.2713)\n",
      "init evaluation score: tensor(0.3657)\n",
      "new evaluation score: tensor(0.2603)\n",
      "init evaluation score: tensor(0.2797)\n",
      "new evaluation score: tensor(0.2455)\n",
      "init evaluation score: tensor(0.4007)\n",
      "new evaluation score: tensor(0.2786)\n",
      "init evaluation score: tensor(0.2906)\n",
      "new evaluation score: tensor(0.2623)\n",
      "init evaluation score: tensor(0.3483)\n",
      "new evaluation score: tensor(0.2753)\n",
      "init evaluation score: tensor(0.3847)\n",
      "new evaluation score: tensor(0.2892)\n",
      "init evaluation score: tensor(0.3941)\n",
      "new evaluation score: tensor(0.3032)\n",
      "init evaluation score: tensor(0.3225)\n",
      "new evaluation score: tensor(0.2579)\n",
      "init evaluation score: tensor(0.3334)\n",
      "new evaluation score: tensor(0.2525)\n",
      "init evaluation score: tensor(0.3133)\n",
      "new evaluation score: tensor(0.2673)\n",
      "init evaluation score: tensor(0.3637)\n",
      "new evaluation score: tensor(0.2688)\n",
      "init evaluation score: tensor(0.3964)\n",
      "new evaluation score: tensor(0.2551)\n",
      "init evaluation score: tensor(0.2703)\n",
      "new evaluation score: tensor(0.2360)\n",
      "init evaluation score: tensor(0.3408)\n",
      "new evaluation score: tensor(0.2537)\n",
      "init evaluation score: tensor(0.3351)\n",
      "new evaluation score: tensor(0.2666)\n",
      "init evaluation score: tensor(0.3321)\n",
      "new evaluation score: tensor(0.2779)\n",
      "init evaluation score: tensor(0.3362)\n",
      "new evaluation score: tensor(0.2611)\n",
      "init evaluation score: tensor(0.3632)\n",
      "new evaluation score: tensor(0.2783)\n",
      "init evaluation score: tensor(0.3082)\n",
      "new evaluation score: tensor(0.2535)\n",
      "init evaluation score: tensor(0.3024)\n",
      "new evaluation score: tensor(0.2468)\n",
      "init evaluation score: tensor(0.3063)\n",
      "new evaluation score: tensor(0.2435)\n",
      "init evaluation score: tensor(0.3950)\n",
      "new evaluation score: tensor(0.2525)\n",
      "init evaluation score: tensor(0.3105)\n",
      "new evaluation score: tensor(0.2340)\n",
      "init evaluation score: tensor(0.3695)\n",
      "new evaluation score: tensor(0.2749)\n",
      "init evaluation score: tensor(0.3224)\n",
      "new evaluation score: tensor(0.2733)\n",
      "init evaluation score: tensor(0.3578)\n",
      "new evaluation score: tensor(0.2712)\n",
      "init evaluation score: tensor(0.2993)\n",
      "new evaluation score: tensor(0.2624)\n",
      "init evaluation score: tensor(0.5132)\n",
      "new evaluation score: tensor(0.2993)\n",
      "init evaluation score: tensor(0.3417)\n",
      "new evaluation score: tensor(0.2670)\n",
      "init evaluation score: tensor(0.3770)\n",
      "new evaluation score: tensor(0.2605)\n",
      "init evaluation score: tensor(0.2937)\n",
      "new evaluation score: tensor(0.2538)\n",
      "init evaluation score: tensor(0.3732)\n",
      "new evaluation score: tensor(0.2777)\n",
      "init evaluation score: tensor(0.3962)\n",
      "new evaluation score: tensor(0.2665)\n"
     ]
    }
   ],
   "source": [
    "params = [10, 30, 50, 60, 100, 150]\n",
    "errors = []\n",
    "ratios = []\n",
    "vectors = model.embeddings.weight.data.clone().detach().cpu()\n",
    "for k in params:\n",
    "    quantizer = ProductQuantization(k=k)\n",
    "    quantized_indices = quantizer.quantize(vectors)\n",
    "    reconstructed_vectors = quantizer.reconstruct(quantized_indices.long())\n",
    "    \n",
    "    errors.append(F.mse_loss(vectors, reconstructed_vectors).item())\n",
    "    ratios.append(get_compression_ratio(vectors, quantizer.codebook, quantized_indices))"
   ]
  },
  {
   "cell_type": "code",
   "execution_count": 107,
   "metadata": {},
   "outputs": [
    {
     "data": {
      "text/plain": [
       "Text(0, 0.5, 'quantization error')"
      ]
     },
     "execution_count": 107,
     "metadata": {},
     "output_type": "execute_result"
    },
    {
     "data": {
      "image/png": "[encoded data removed]",
      "text/plain": [
       "<Figure size 640x480 with 1 Axes>"
      ]
     },
     "metadata": {},
     "output_type": "display_data"
    }
   ],
   "source": [
    "plt.plot(params, errors)\n",
    "plt.title(\"quantization error v.s. k\")\n",
    "plt.xlabel(\"k\")\n",
    "plt.ylabel(\"quantization error\")"
   ]
  },
  {
   "cell_type": "code",
   "execution_count": 108,
   "metadata": {},
   "outputs": [
    {
     "data": {
      "text/plain": [
       "Text(0, 0.5, 'compression ratio')"
      ]
     },
     "execution_count": 108,
     "metadata": {},
     "output_type": "execute_result"
    },
    {
     "data": {
      "image/png": "[encoded data removed]",
      "text/plain": [
       "<Figure size 640x480 with 1 Axes>"
      ]
     },
     "metadata": {},
     "output_type": "display_data"
    }
   ],
   "source": [
    "plt.plot(params, ratios)\n",
    "plt.title(\"compression ratio v.s. k\")\n",
    "plt.xlabel(\"k\")\n",
    "plt.ylabel(\"compression ratio\")"
   ]
  },
  {
   "cell_type": "markdown",
   "metadata": {},
   "source": [
    "## Evaluation"
   ]
  },
  {
   "cell_type": "code",
   "execution_count": 147,
   "metadata": {},
   "outputs": [],
   "source": [
    "evaluator = ClassificationEvaluator(NUM_CLASS, DEVICE, feature_dim=-1)"
   ]
  },
  {
   "cell_type": "code",
   "execution_count": 148,
   "metadata": {},
   "outputs": [
    {
     "name": "stderr",
     "output_type": "stream",
     "text": [
      "237it [00:10, 22.75it/s]"
     ]
    },
    {
     "name": "stdout",
     "output_type": "stream",
     "text": [
      "[[1900    0    0    0]\n",
      " [1894    0    0    0]\n",
      " [1895    0    0    4]\n",
      " [1784    0    0   91]]\n"
     ]
    },
    {
     "name": "stderr",
     "output_type": "stream",
     "text": [
      "\n"
     ]
    }
   ],
   "source": [
    "confusion_matrix = evaluator.run(iter(test_dataloader), model)"
   ]
  },
  {
   "cell_type": "code",
   "execution_count": 149,
   "metadata": {},
   "outputs": [
    {
     "name": "stdout",
     "output_type": "stream",
     "text": [
      "world     : 1.0\n",
      "sports    : 0.0\n",
      "business  : 0.0\n",
      "science   : 0.04853333333333333\n"
     ]
    }
   ],
   "source": [
    "per_class_acc = evaluator.get_per_class_accuracy(confusion_matrix)\n",
    "evaluator.show_per_class_accuracy(AG_NEWS_CLASS_NAMES, per_class_acc)"
   ]
  },
  {
   "cell_type": "code",
   "execution_count": 151,
   "metadata": {},
   "outputs": [
    {
     "data": {
      "text/plain": [
       "0.26213333333333333"
      ]
     },
     "execution_count": 151,
     "metadata": {},
     "output_type": "execute_result"
    }
   ],
   "source": [
    "per_class_acc.mean()"
   ]
  },
  {
   "cell_type": "code",
   "execution_count": 152,
   "metadata": {},
   "outputs": [
    {
     "data": {
      "image/png": "[encoded data removed]",
      "text/plain": [
       "<Figure size 600x400 with 2 Axes>"
      ]
     },
     "metadata": {},
     "output_type": "display_data"
    }
   ],
   "source": [
    "evaluator.plot_confusion_matrix(\n",
    "    confusion_matrix,\n",
    "    AG_NEWS_CLASS_NAMES,\n",
    "    \"Blues\",\n",
    "    annot=True,\n",
    "    figsize=(6, 4),\n",
    ")"
   ]
  },
  {
   "cell_type": "markdown",
   "metadata": {},
   "source": [
    "## retraining"
   ]
  },
  {
   "cell_type": "code",
   "execution_count": 153,
   "metadata": {},
   "outputs": [
    {
     "data": {
      "text/plain": [
       "Embedding(100000, 300)"
      ]
     },
     "execution_count": 153,
     "metadata": {},
     "output_type": "execute_result"
    }
   ],
   "source": [
    "model.embeddings.requires_grad_(False)"
   ]
  },
  {
   "cell_type": "code",
   "execution_count": 154,
   "metadata": {},
   "outputs": [],
   "source": [
    "EPOCHES = 5\n",
    "ACC_ITERS = 32 / BATCH_SIZE\n",
    "LR = 1e-3"
   ]
  },
  {
   "cell_type": "code",
   "execution_count": 155,
   "metadata": {},
   "outputs": [],
   "source": [
    "trainer = ClassificationTrainer(EPOCHES, DEVICE, ACC_ITERS, feature_last=True)"
   ]
  },
  {
   "cell_type": "code",
   "execution_count": 156,
   "metadata": {},
   "outputs": [],
   "source": [
    "criterion = trainer.get_criterion(NUM_CLASS)\n",
    "optimizer = optim.Adam(model.parameters(), lr=LR)"
   ]
  },
  {
   "cell_type": "code",
   "execution_count": 158,
   "metadata": {},
   "outputs": [
    {
     "name": "stderr",
     "output_type": "stream",
     "text": [
      "3750it [02:27, 25.40it/s]\n"
     ]
    },
    {
     "name": "stdout",
     "output_type": "stream",
     "text": [
      "epoch 1 : 0.12767885526617367\n"
     ]
    },
    {
     "name": "stderr",
     "output_type": "stream",
     "text": [
      "3750it [02:47, 22.40it/s]\n"
     ]
    },
    {
     "name": "stdout",
     "output_type": "stream",
     "text": [
      "epoch 2 : 0.10248801213900248\n"
     ]
    },
    {
     "name": "stderr",
     "output_type": "stream",
     "text": [
      "3750it [02:49, 22.06it/s]\n"
     ]
    },
    {
     "name": "stdout",
     "output_type": "stream",
     "text": [
      "epoch 3 : 0.09065195331176122\n"
     ]
    },
    {
     "name": "stderr",
     "output_type": "stream",
     "text": [
      "3750it [02:40, 23.39it/s]\n"
     ]
    },
    {
     "name": "stdout",
     "output_type": "stream",
     "text": [
      "epoch 4 : 0.08441672388662895\n"
     ]
    },
    {
     "name": "stderr",
     "output_type": "stream",
     "text": [
      "3750it [02:46, 22.55it/s]"
     ]
    },
    {
     "name": "stdout",
     "output_type": "stream",
     "text": [
      "epoch 5 : 0.08062778430978457\n"
     ]
    },
    {
     "name": "stderr",
     "output_type": "stream",
     "text": [
      "\n"
     ]
    }
   ],
   "source": [
    "training_loss = trainer.run(train_dataloader, model, optimizer, criterion)"
   ]
  },
  {
   "cell_type": "code",
   "execution_count": 159,
   "metadata": {},
   "outputs": [
    {
     "data": {
      "text/plain": [
       "[<matplotlib.lines.Line2D at 0x28e35fc5650>]"
      ]
     },
     "execution_count": 159,
     "metadata": {},
     "output_type": "execute_result"
    },
    {
     "data": {
      "image/png": "[encoded data removed]",
      "text/plain": [
       "<Figure size 640x480 with 1 Axes>"
      ]
     },
     "metadata": {},
     "output_type": "display_data"
    }
   ],
   "source": [
    "plt.plot(training_loss)"
   ]
  },
  {
   "cell_type": "markdown",
   "metadata": {},
   "source": [
    "## ReEvaluation"
   ]
  },
  {
   "cell_type": "code",
   "execution_count": 160,
   "metadata": {},
   "outputs": [],
   "source": [
    "evaluator = ClassificationEvaluator(NUM_CLASS, DEVICE, feature_dim=-1)"
   ]
  },
  {
   "cell_type": "code",
   "execution_count": 161,
   "metadata": {},
   "outputs": [
    {
     "name": "stderr",
     "output_type": "stream",
     "text": [
      "237it [00:10, 22.05it/s]"
     ]
    },
    {
     "name": "stdout",
     "output_type": "stream",
     "text": [
      "[[1723   54   81   42]\n",
      " [  18 1856   15    5]\n",
      " [  74   19 1674  132]\n",
      " [  66   22  186 1601]]\n"
     ]
    },
    {
     "name": "stderr",
     "output_type": "stream",
     "text": [
      "\n"
     ]
    }
   ],
   "source": [
    "confusion_matrix = evaluator.run(iter(test_dataloader), model)"
   ]
  },
  {
   "cell_type": "code",
   "execution_count": 162,
   "metadata": {},
   "outputs": [
    {
     "name": "stdout",
     "output_type": "stream",
     "text": [
      "world     : 0.9068421052631579\n",
      "sports    : 0.9799366420274551\n",
      "business  : 0.8815165876777251\n",
      "science   : 0.8538666666666667\n"
     ]
    }
   ],
   "source": [
    "per_class_acc = evaluator.get_per_class_accuracy(confusion_matrix)\n",
    "evaluator.show_per_class_accuracy(AG_NEWS_CLASS_NAMES, per_class_acc)"
   ]
  },
  {
   "cell_type": "code",
   "execution_count": 163,
   "metadata": {},
   "outputs": [
    {
     "data": {
      "text/plain": [
       "0.9055405004087512"
      ]
     },
     "execution_count": 163,
     "metadata": {},
     "output_type": "execute_result"
    }
   ],
   "source": [
    "per_class_acc.mean()"
   ]
  },
  {
   "cell_type": "code",
   "execution_count": 164,
   "metadata": {},
   "outputs": [
    {
     "data": {
      "image/png": "[encoded data removed]",
      "text/plain": [
       "<Figure size 600x400 with 2 Axes>"
      ]
     },
     "metadata": {},
     "output_type": "display_data"
    }
   ],
   "source": [
    "evaluator.plot_confusion_matrix(\n",
    "    confusion_matrix,\n",
    "    AG_NEWS_CLASS_NAMES,\n",
    "    \"Blues\",\n",
    "    annot=True,\n",
    "    figsize=(6, 4),\n",
    ")"
   ]
  },
  {
   "cell_type": "code",
   "execution_count": 166,
   "metadata": {},
   "outputs": [
    {
     "data": {
      "text/plain": [
       "tensor([[ 5.6082e-01,  4.6055e-01, -7.0085e-01,  ..., -1.7091e-04,\n",
       "         -5.6791e-01,  5.6528e-01],\n",
       "        [-2.1667e-01, -9.5067e-01,  6.2092e-01,  ...,  1.0502e-01,\n",
       "          3.1280e-01,  1.1136e+00],\n",
       "        [-5.3196e-01,  3.9757e-01, -4.4569e-01,  ..., -1.7091e-04,\n",
       "         -5.6791e-01,  5.6528e-01],\n",
       "        ...,\n",
       "        [ 4.5436e-01, -6.4711e-01,  4.6075e-01,  ...,  7.8643e-01,\n",
       "          7.8176e-01,  2.4869e-02],\n",
       "        [-2.6512e-01,  2.9283e-01,  2.3335e-01,  ..., -1.5096e+00,\n",
       "         -1.3425e-02, -3.8063e-01],\n",
       "        [ 1.6225e+00,  6.0429e-01,  5.8285e-01,  ..., -3.9719e-01,\n",
       "          5.5825e-01, -4.1728e-02]], device='cuda:0')"
      ]
     },
     "execution_count": 166,
     "metadata": {},
     "output_type": "execute_result"
    }
   ],
   "source": [
    "model.embeddings.weight.data"
   ]
  },
  {
   "cell_type": "markdown",
   "metadata": {},
   "source": [
    "## file"
   ]
  },
  {
   "cell_type": "code",
   "execution_count": 167,
   "metadata": {},
   "outputs": [],
   "source": [
    "model_path = artifact_path / \"fasttext.pq.pth\""
   ]
  },
  {
   "cell_type": "code",
   "execution_count": 170,
   "metadata": {},
   "outputs": [],
   "source": [
    "# embed is popout, save fc only\n",
    "state = model.state_dict().copy()\n",
    "state.pop('embed.embeddings.weight')\n",
    "torch.save(state, model_path)"
   ]
  },
  {
   "cell_type": "code",
   "execution_count": 174,
   "metadata": {},
   "outputs": [
    {
     "data": {
      "text/plain": [
       "odict_keys(['embed.special_tokens_embedding.weight', 'fc.weight', 'fc.bias'])"
      ]
     },
     "execution_count": 174,
     "metadata": {},
     "output_type": "execute_result"
    }
   ],
   "source": [
    "state.keys()"
   ]
  },
  {
   "cell_type": "code",
   "execution_count": 172,
   "metadata": {},
   "outputs": [
    {
     "data": {
      "text/plain": [
       "'11.11KiB'"
      ]
     },
     "execution_count": 172,
     "metadata": {},
     "output_type": "execute_result"
    }
   ],
   "source": [
    "get_file_size(model_path, \"K\")"
   ]
  },
  {
   "cell_type": "code",
   "execution_count": null,
   "metadata": {},
   "outputs": [
    {
     "data": {
      "text/plain": [
       "<All keys matched successfully>"
      ]
     },
     "metadata": {},
     "output_type": "display_data"
    }
   ],
   "source": [
    "# quantized embed could be retrieved from above quantization files\n",
    "model.load_state_dict(torch.load(model_path.as_posix()))"
   ]
  }
 ],
 "metadata": {
  "kernelspec": {
   "display_name": ".venv",
   "language": "python",
   "name": "python3"
  },
  "language_info": {
   "codemirror_mode": {
    "name": "ipython",
    "version": 3
   },
   "file_extension": ".py",
   "mimetype": "text/x-python",
   "name": "python",
   "nbconvert_exporter": "python",
   "pygments_lexer": "ipython3",
   "version": "3.11.4"
  }
 },
 "nbformat": 4,
 "nbformat_minor": 2
}
