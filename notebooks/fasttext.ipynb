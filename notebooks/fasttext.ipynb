{
 "cells": [
  {
   "cell_type": "code",
   "execution_count": 1,
   "metadata": {},
   "outputs": [],
   "source": [
    "from pathlib import Path\n",
    "\n",
    "import matplotlib.pyplot as plt\n",
    "import torch\n",
    "import torchinfo\n",
    "import torchtext.transforms as T\n",
    "from torch import optim\n",
    "from torch.utils.data import DataLoader\n",
    "from torchlake.common.controller.evaluator import ClassificationEvaluator\n",
    "from torchlake.common.controller.trainer import ClassificationTrainer\n",
    "from torchlake.common.helpers.tokenizer import CharNgramTokenizer\n",
    "from torchlake.common.helpers.transform import CustomVocabTransform\n",
    "from torchlake.common.helpers.vocab import CharNgramVocab\n",
    "from torchlake.common.schemas.nlp import NlpContext\n",
    "from torchlake.common.utils.platform import get_file_size, get_num_workers\n",
    "from torchlake.common.utils.text import is_longer_text\n",
    "from torchlake.language_model.constants.enum import LossType\n",
    "from torchlake.text_classification.datasets.ag_news.constants import \\\n",
    "    CLASS_NAMES as AG_NEWS_CLASS_NAMES\n",
    "from torchlake.text_classification.models import FastText\n",
    "from torchtext.data.utils import get_tokenizer\n",
    "from torchtext.datasets import AG_NEWS"
   ]
  },
  {
   "cell_type": "markdown",
   "metadata": {},
   "source": [
    "To utilize this notebook, you have to install `portalocker`, `spacy` first"
   ]
  },
  {
   "cell_type": "markdown",
   "metadata": {},
   "source": [
    "# setting\n"
   ]
  },
  {
   "cell_type": "code",
   "execution_count": 2,
   "metadata": {},
   "outputs": [],
   "source": [
    "DATASET_NAME = \"AGNews\""
   ]
  },
  {
   "cell_type": "code",
   "execution_count": 3,
   "metadata": {},
   "outputs": [],
   "source": [
    "artifact_path = Path('../../artifacts/fasttext')\n",
    "artifact_dataset_path = artifact_path / DATASET_NAME\n",
    "data_path = Path('../../data') / DATASET_NAME"
   ]
  },
  {
   "cell_type": "code",
   "execution_count": 4,
   "metadata": {},
   "outputs": [],
   "source": [
    "NUM_CLASS = len(AG_NEWS_CLASS_NAMES)"
   ]
  },
  {
   "cell_type": "code",
   "execution_count": 5,
   "metadata": {},
   "outputs": [],
   "source": [
    "CONTEXT = NlpContext(\n",
    "    max_seq_len=256, # word length, not ngram length\n",
    ")"
   ]
  },
  {
   "cell_type": "code",
   "execution_count": 6,
   "metadata": {},
   "outputs": [],
   "source": [
    "BATCH_SIZE = 32\n",
    "MINIMUM_LENGTH = 5"
   ]
  },
  {
   "cell_type": "code",
   "execution_count": 7,
   "metadata": {},
   "outputs": [],
   "source": [
    "DEVICE = torch.device(CONTEXT.device)"
   ]
  },
  {
   "cell_type": "code",
   "execution_count": 8,
   "metadata": {},
   "outputs": [],
   "source": [
    "BUCKET_SIZE = 10**5 # should be smaller than vocab size + ngram size"
   ]
  },
  {
   "cell_type": "code",
   "execution_count": 9,
   "metadata": {},
   "outputs": [],
   "source": [
    "tokenizer = get_tokenizer('basic_english')"
   ]
  },
  {
   "cell_type": "code",
   "execution_count": 10,
   "metadata": {},
   "outputs": [],
   "source": [
    "ngram_vocab = CharNgramVocab(BUCKET_SIZE, context=CONTEXT)\n",
    "ngram_tokenizer = CharNgramTokenizer(tokenizer, ngram_vocab, ngrams=[2])"
   ]
  },
  {
   "cell_type": "code",
   "execution_count": 11,
   "metadata": {},
   "outputs": [],
   "source": [
    "def datapipe_factory(\n",
    "    datapipe,\n",
    "    minimum_length: int = 1,\n",
    "    ngram_transform=None,\n",
    "    word_transform=None,\n",
    "    word_spans_transform=None,\n",
    "):\n",
    "    datapipe = (\n",
    "        datapipe\n",
    "        .map(lambda pair: (pair[1], pair[0])) # label, text -> text, label\n",
    "        .map(lambda pair: (pair[0].strip(), pair[1]))\n",
    "        .map(lambda pair: (pair[0].lower(), pair[1]))\n",
    "        .filter(lambda pair: is_longer_text(pair[0], minimum_length))\n",
    "        .map(\n",
    "            lambda pair: (ngram_tokenizer(pair[0]), pair[1])\n",
    "        )  # label, (grams, words, word_spans)\n",
    "    )\n",
    "\n",
    "    if ngram_transform:\n",
    "        datapipe = datapipe.map(\n",
    "            lambda pair: (\n",
    "                (\n",
    "                    ngram_transform(pair[0][0]),\n",
    "                    word_transform(pair[0][1]),\n",
    "                    word_spans_transform(pair[0][2]),\n",
    "                ),\n",
    "                pair[1] - 1,\n",
    "            )  # (grams, words, word_spans), label\n",
    "        )\n",
    "\n",
    "    return datapipe"
   ]
  },
  {
   "cell_type": "code",
   "execution_count": 12,
   "metadata": {},
   "outputs": [],
   "source": [
    "train_datapipe, test_datapipe = AG_NEWS(data_path.as_posix())"
   ]
  },
  {
   "cell_type": "code",
   "execution_count": 13,
   "metadata": {},
   "outputs": [
    {
     "name": "stderr",
     "output_type": "stream",
     "text": [
      "d:\\research\\pytorch-implementations\\.venv\\Lib\\site-packages\\torch\\utils\\data\\datapipes\\utils\\common.py:141: UserWarning: Local function is not supported by pickle, please use regular python function or functools.partial instead.\n",
      "  warnings.warn(\n"
     ]
    }
   ],
   "source": [
    "# create vocabulary\n",
    "cloned_train_datapipe = datapipe_factory(train_datapipe, MINIMUM_LENGTH)\n",
    "for _ in cloned_train_datapipe:\n",
    "    pass"
   ]
  },
  {
   "cell_type": "code",
   "execution_count": 14,
   "metadata": {},
   "outputs": [],
   "source": [
    "def datapipe_factory_for_vocab(datapipe, minimum_length: int = 1):\n",
    "    datapipe = (\n",
    "        datapipe.map(lambda pair: pair[1])\n",
    "        .map(lambda text: text.strip())\n",
    "        .map(lambda text: text.lower())\n",
    "        .filter(lambda text: is_longer_text(text, minimum_length))\n",
    "        .map(lambda text: ngram_tokenizer.tokenizer(text))\n",
    "    )\n",
    "\n",
    "    return datapipe"
   ]
  },
  {
   "cell_type": "code",
   "execution_count": 15,
   "metadata": {},
   "outputs": [],
   "source": [
    "# optional for KNN search\n",
    "ngram_vocab.build_word_vocab(\n",
    "    datapipe_factory_for_vocab(train_datapipe, minimum_length=MINIMUM_LENGTH)\n",
    ")"
   ]
  },
  {
   "cell_type": "code",
   "execution_count": 16,
   "metadata": {},
   "outputs": [
    {
     "data": {
      "text/plain": [
       "30335"
      ]
     },
     "execution_count": 16,
     "metadata": {},
     "output_type": "execute_result"
    }
   ],
   "source": [
    "VOCAB_SIZE = len(ngram_vocab.word_vocab)\n",
    "VOCAB_SIZE"
   ]
  },
  {
   "cell_type": "code",
   "execution_count": 17,
   "metadata": {},
   "outputs": [
    {
     "name": "stdout",
     "output_type": "stream",
     "text": [
      "cache size: 99515\n"
     ]
    }
   ],
   "source": [
    "print(\"cache size:\", len(ngram_vocab))"
   ]
  },
  {
   "cell_type": "code",
   "execution_count": 18,
   "metadata": {},
   "outputs": [],
   "source": [
    "ngram_vocab.save_word_vocab(artifact_dataset_path / \"words.json\")\n",
    "ngram_vocab.save_subword_vocab(artifact_dataset_path / \"grams.json\")"
   ]
  },
  {
   "cell_type": "code",
   "execution_count": 19,
   "metadata": {},
   "outputs": [],
   "source": [
    "ngram_vocab.load_word_vocab(artifact_dataset_path / \"words.json\")\n",
    "ngram_vocab.load_subword_vocab(artifact_dataset_path / \"grams.json\")"
   ]
  },
  {
   "cell_type": "code",
   "execution_count": 20,
   "metadata": {},
   "outputs": [
    {
     "data": {
      "text/plain": [
       "'0.52MB'"
      ]
     },
     "execution_count": 20,
     "metadata": {},
     "output_type": "execute_result"
    }
   ],
   "source": [
    "get_file_size(artifact_dataset_path / \"words.json\")"
   ]
  },
  {
   "cell_type": "code",
   "execution_count": 21,
   "metadata": {},
   "outputs": [
    {
     "data": {
      "text/plain": [
       "'1.83MB'"
      ]
     },
     "execution_count": 21,
     "metadata": {},
     "output_type": "execute_result"
    }
   ],
   "source": [
    "get_file_size(artifact_dataset_path / \"grams.json\")"
   ]
  },
  {
   "cell_type": "code",
   "execution_count": 22,
   "metadata": {},
   "outputs": [],
   "source": [
    "ngram_transform = T.Sequential(\n",
    "    CustomVocabTransform(ngram_vocab),\n",
    "    T.ToTensor(),\n",
    ")"
   ]
  },
  {
   "cell_type": "code",
   "execution_count": 23,
   "metadata": {},
   "outputs": [],
   "source": [
    "word_transform = T.Sequential(\n",
    "    T.Truncate(CONTEXT.max_seq_len),\n",
    "    T.ToTensor(),\n",
    "    T.PadTransform(CONTEXT.max_seq_len, CONTEXT.padding_idx),\n",
    ")"
   ]
  },
  {
   "cell_type": "code",
   "execution_count": 24,
   "metadata": {},
   "outputs": [],
   "source": [
    "word_spans_transform = T.Sequential(\n",
    "    T.Truncate(CONTEXT.max_seq_len),\n",
    "    T.ToTensor(),\n",
    ")"
   ]
  },
  {
   "cell_type": "code",
   "execution_count": 25,
   "metadata": {},
   "outputs": [],
   "source": [
    "train_datapipe = datapipe_factory(\n",
    "    train_datapipe,\n",
    "    MINIMUM_LENGTH,\n",
    "    ngram_transform,\n",
    "    word_transform,\n",
    "    word_spans_transform,\n",
    ")\n",
    "\n",
    "test_datapipe = datapipe_factory(\n",
    "    test_datapipe,\n",
    "    MINIMUM_LENGTH,\n",
    "    ngram_transform,\n",
    "    word_transform,\n",
    "    word_spans_transform,\n",
    ")"
   ]
  },
  {
   "cell_type": "code",
   "execution_count": 26,
   "metadata": {},
   "outputs": [
    {
     "name": "stdout",
     "output_type": "stream",
     "text": [
      "torch.Size([104])\n",
      "torch.Size([256])\n",
      "torch.Size([29])\n",
      "2\n",
      "torch.Size([196])\n",
      "torch.Size([256])\n",
      "torch.Size([42])\n",
      "2\n",
      "torch.Size([162])\n",
      "torch.Size([256])\n",
      "torch.Size([40])\n",
      "2\n",
      "torch.Size([187])\n",
      "torch.Size([256])\n",
      "torch.Size([40])\n",
      "2\n",
      "torch.Size([163])\n",
      "torch.Size([256])\n",
      "torch.Size([43])\n",
      "2\n",
      "torch.Size([163])\n",
      "torch.Size([256])\n",
      "torch.Size([48])\n",
      "2\n",
      "torch.Size([140])\n",
      "torch.Size([256])\n",
      "torch.Size([47])\n",
      "2\n",
      "torch.Size([176])\n",
      "torch.Size([256])\n",
      "torch.Size([49])\n",
      "2\n",
      "torch.Size([275])\n",
      "torch.Size([256])\n",
      "torch.Size([88])\n",
      "2\n",
      "torch.Size([101])\n",
      "torch.Size([256])\n",
      "torch.Size([31])\n",
      "2\n",
      "torch.Size([155])\n",
      "torch.Size([256])\n",
      "torch.Size([44])\n",
      "2\n",
      "torch.Size([181])\n",
      "torch.Size([256])\n",
      "torch.Size([56])\n",
      "2\n"
     ]
    }
   ],
   "source": [
    "count = 0\n",
    "for (grams, words, word_lengths), label in train_datapipe:\n",
    "    print(grams.shape)\n",
    "    print(words.shape)\n",
    "    print(word_lengths.shape)\n",
    "    print(label)\n",
    "    if count > 10:\n",
    "        break\n",
    "    count+=1"
   ]
  },
  {
   "cell_type": "code",
   "execution_count": 27,
   "metadata": {},
   "outputs": [],
   "source": [
    "NUM_WORKERS = get_num_workers()"
   ]
  },
  {
   "cell_type": "code",
   "execution_count": 28,
   "metadata": {},
   "outputs": [],
   "source": [
    "def collate_fn(\n",
    "    batch: list[torch.Tensor],\n",
    "    device: torch.device,\n",
    ") -> tuple[list[torch.Tensor], list[torch.Tensor], list[torch.Tensor], torch.Tensor]:\n",
    "    ngrams, words, word_spans = [], [], []\n",
    "    labels = []\n",
    "    \n",
    "    for (ngram, word, word_span), label in batch:\n",
    "        # truncate ngram with word length\n",
    "        # move to gpu here\n",
    "        # TODO: more trackable some other days\n",
    "        ngrams.append(ngram[:sum(word_span)].to(device))\n",
    "        words.append(word)\n",
    "        word_spans.append(word_span.to(device))\n",
    "        labels.append(label)\n",
    "\n",
    "    return (ngrams, torch.stack(words).to(device), word_spans), torch.LongTensor(labels).to(device)"
   ]
  },
  {
   "cell_type": "code",
   "execution_count": 29,
   "metadata": {},
   "outputs": [],
   "source": [
    "train_dataloader = DataLoader(\n",
    "    train_datapipe,\n",
    "    batch_size=BATCH_SIZE,\n",
    "    # pin_memory=True,\n",
    "    num_workers=NUM_WORKERS,\n",
    "    collate_fn=lambda x: collate_fn(x, DEVICE),\n",
    ")\n",
    "\n",
    "test_dataloader = DataLoader(\n",
    "    test_datapipe,\n",
    "    batch_size=BATCH_SIZE,\n",
    "    # pin_memory=True,\n",
    "    num_workers=NUM_WORKERS,\n",
    "    collate_fn=lambda x: collate_fn(x, DEVICE),\n",
    ")"
   ]
  },
  {
   "cell_type": "code",
   "execution_count": 30,
   "metadata": {},
   "outputs": [
    {
     "name": "stderr",
     "output_type": "stream",
     "text": [
      "d:\\research\\pytorch-implementations\\.venv\\Lib\\site-packages\\torch\\utils\\data\\datapipes\\iter\\combining.py:333: UserWarning: Some child DataPipes are not exhausted when __iter__ is called. We are resetting the buffer and each child DataPipe will read from the start again.\n",
      "  warnings.warn(\"Some child DataPipes are not exhausted when __iter__ is called. We are resetting \"\n"
     ]
    },
    {
     "name": "stdout",
     "output_type": "stream",
     "text": [
      "32 torch.Size([104]) torch.Size([196]) torch.Size([162]) torch.Size([187])\n",
      "torch.Size([32, 256])\n",
      "32 torch.Size([29]) torch.Size([42]) torch.Size([40]) torch.Size([40])\n",
      "torch.Size([32])\n",
      "32 torch.Size([100]) torch.Size([110]) torch.Size([103]) torch.Size([119])\n",
      "torch.Size([32, 256])\n",
      "32 torch.Size([36]) torch.Size([34]) torch.Size([26]) torch.Size([32])\n",
      "torch.Size([32])\n",
      "32 torch.Size([216]) torch.Size([247]) torch.Size([253]) torch.Size([225])\n",
      "torch.Size([32, 256])\n",
      "32 torch.Size([66]) torch.Size([74]) torch.Size([68]) torch.Size([62])\n",
      "torch.Size([32])\n",
      "32 torch.Size([95]) torch.Size([95]) torch.Size([176]) torch.Size([228])\n",
      "torch.Size([32, 256])\n",
      "32 torch.Size([31]) torch.Size([35]) torch.Size([42]) torch.Size([65])\n",
      "torch.Size([32])\n",
      "32 torch.Size([202]) torch.Size([164]) torch.Size([130]) torch.Size([217])\n",
      "torch.Size([32, 256])\n",
      "32 torch.Size([51]) torch.Size([43]) torch.Size([47]) torch.Size([56])\n",
      "torch.Size([32])\n",
      "32 torch.Size([212]) torch.Size([197]) torch.Size([210]) torch.Size([432])\n",
      "torch.Size([32, 256])\n",
      "32 torch.Size([63]) torch.Size([60]) torch.Size([54]) torch.Size([126])\n",
      "torch.Size([32])\n",
      "32 torch.Size([88]) torch.Size([96]) torch.Size([75]) torch.Size([95])\n",
      "torch.Size([32, 256])\n",
      "32 torch.Size([25]) torch.Size([22]) torch.Size([26]) torch.Size([22])\n",
      "torch.Size([32])\n",
      "32 torch.Size([99]) torch.Size([94]) torch.Size([94]) torch.Size([97])\n",
      "torch.Size([32, 256])\n",
      "32 torch.Size([26]) torch.Size([25]) torch.Size([29]) torch.Size([28])\n",
      "torch.Size([32])\n",
      "32 torch.Size([137]) torch.Size([192]) torch.Size([99]) torch.Size([211])\n",
      "torch.Size([32, 256])\n",
      "32 torch.Size([33]) torch.Size([51]) torch.Size([25]) torch.Size([57])\n",
      "torch.Size([32])\n",
      "32 torch.Size([198]) torch.Size([169]) torch.Size([331]) torch.Size([274])\n",
      "torch.Size([32, 256])\n",
      "32 torch.Size([69]) torch.Size([43]) torch.Size([90]) torch.Size([63])\n",
      "torch.Size([32])\n",
      "32 torch.Size([99]) torch.Size([103]) torch.Size([118]) torch.Size([117])\n",
      "torch.Size([32, 256])\n",
      "32 torch.Size([25]) torch.Size([28]) torch.Size([35]) torch.Size([26])\n",
      "torch.Size([32])\n",
      "32 torch.Size([96]) torch.Size([80]) torch.Size([102]) torch.Size([109])\n",
      "torch.Size([32, 256])\n",
      "32 torch.Size([19]) torch.Size([18]) torch.Size([30]) torch.Size([31])\n",
      "torch.Size([32])\n"
     ]
    }
   ],
   "source": [
    "count = 0\n",
    "for (grams, words, word_spans), label in train_dataloader:\n",
    "    print(len(grams), *[gram.shape for gram in grams[:4]])\n",
    "    print(words.shape)\n",
    "    print(len(word_spans), *[word_span.shape for word_span in word_spans[:4]])\n",
    "    print(label.shape)\n",
    "    if count > 10:\n",
    "        break\n",
    "    count+=1"
   ]
  },
  {
   "cell_type": "markdown",
   "metadata": {},
   "source": [
    "# training\n"
   ]
  },
  {
   "cell_type": "code",
   "execution_count": 31,
   "metadata": {},
   "outputs": [],
   "source": [
    "EMBED_DIM = 300"
   ]
  },
  {
   "cell_type": "code",
   "execution_count": 32,
   "metadata": {},
   "outputs": [],
   "source": [
    "EPOCHES = 10\n",
    "ACC_ITERS = max(32 / BATCH_SIZE, 1)\n",
    "LR = 1e-3"
   ]
  },
  {
   "cell_type": "code",
   "execution_count": 33,
   "metadata": {},
   "outputs": [],
   "source": [
    "trainer = ClassificationTrainer(EPOCHES, DEVICE, ACC_ITERS, feature_last=True)"
   ]
  },
  {
   "cell_type": "code",
   "execution_count": 34,
   "metadata": {},
   "outputs": [],
   "source": [
    "model = FastText(\n",
    "    BUCKET_SIZE,\n",
    "    EMBED_DIM,\n",
    "    NUM_CLASS,\n",
    "    loss_type=LossType.CROSS_ENTROPY,\n",
    "    context=CONTEXT,\n",
    ").to(DEVICE)"
   ]
  },
  {
   "cell_type": "code",
   "execution_count": 35,
   "metadata": {},
   "outputs": [],
   "source": [
    "loss = trainer.get_criterion(NUM_CLASS)\n",
    "optimizer = optim.Adam(model.parameters(), lr=LR)"
   ]
  },
  {
   "cell_type": "code",
   "execution_count": 36,
   "metadata": {},
   "outputs": [
    {
     "data": {
      "text/plain": [
       "=================================================================\n",
       "Layer (type:depth-idx)                   Param #\n",
       "=================================================================\n",
       "FastText                                 --\n",
       "├─SubwordEmbedding: 1-1                  --\n",
       "│    └─Embedding: 2-1                    30,000,000\n",
       "│    └─Embedding: 2-2                    1,200\n",
       "├─Linear: 1-2                            1,204\n",
       "=================================================================\n",
       "Total params: 30,002,404\n",
       "Trainable params: 30,002,404\n",
       "Non-trainable params: 0\n",
       "================================================================="
      ]
     },
     "execution_count": 36,
     "metadata": {},
     "output_type": "execute_result"
    }
   ],
   "source": [
    "torchinfo.summary(model)"
   ]
  },
  {
   "cell_type": "code",
   "execution_count": 37,
   "metadata": {},
   "outputs": [
    {
     "name": "stderr",
     "output_type": "stream",
     "text": [
      "3750it [02:52, 21.75it/s]\n"
     ]
    },
    {
     "name": "stdout",
     "output_type": "stream",
     "text": [
      "epoch 1 : 0.3819239235520363\n"
     ]
    },
    {
     "name": "stderr",
     "output_type": "stream",
     "text": [
      "3750it [02:54, 21.49it/s]\n"
     ]
    },
    {
     "name": "stdout",
     "output_type": "stream",
     "text": [
      "epoch 2 : 0.1674368421882391\n"
     ]
    },
    {
     "name": "stderr",
     "output_type": "stream",
     "text": [
      "3750it [02:52, 21.73it/s]\n"
     ]
    },
    {
     "name": "stdout",
     "output_type": "stream",
     "text": [
      "epoch 3 : 0.13623133122101427\n"
     ]
    },
    {
     "name": "stderr",
     "output_type": "stream",
     "text": [
      "3750it [02:53, 21.59it/s]\n"
     ]
    },
    {
     "name": "stdout",
     "output_type": "stream",
     "text": [
      "epoch 4 : 0.11890580112809936\n"
     ]
    },
    {
     "name": "stderr",
     "output_type": "stream",
     "text": [
      "3750it [02:50, 22.04it/s]\n"
     ]
    },
    {
     "name": "stdout",
     "output_type": "stream",
     "text": [
      "epoch 5 : 0.10664762827306985\n"
     ]
    },
    {
     "name": "stderr",
     "output_type": "stream",
     "text": [
      "3750it [02:55, 21.37it/s]\n"
     ]
    },
    {
     "name": "stdout",
     "output_type": "stream",
     "text": [
      "epoch 6 : 0.09702322473699848\n"
     ]
    },
    {
     "name": "stderr",
     "output_type": "stream",
     "text": [
      "3750it [02:55, 21.39it/s]\n"
     ]
    },
    {
     "name": "stdout",
     "output_type": "stream",
     "text": [
      "epoch 7 : 0.08898995060970386\n"
     ]
    },
    {
     "name": "stderr",
     "output_type": "stream",
     "text": [
      "3750it [02:58, 21.03it/s]\n"
     ]
    },
    {
     "name": "stdout",
     "output_type": "stream",
     "text": [
      "epoch 8 : 0.08207345613700648\n"
     ]
    },
    {
     "name": "stderr",
     "output_type": "stream",
     "text": [
      "3750it [03:01, 20.66it/s]\n"
     ]
    },
    {
     "name": "stdout",
     "output_type": "stream",
     "text": [
      "epoch 9 : 0.07600722429653009\n"
     ]
    },
    {
     "name": "stderr",
     "output_type": "stream",
     "text": [
      "3750it [03:02, 20.55it/s]"
     ]
    },
    {
     "name": "stdout",
     "output_type": "stream",
     "text": [
      "epoch 10 : 0.07061235350295901\n"
     ]
    },
    {
     "name": "stderr",
     "output_type": "stream",
     "text": [
      "\n"
     ]
    }
   ],
   "source": [
    "training_loss = trainer.run(train_dataloader, model, optimizer, loss)"
   ]
  },
  {
   "cell_type": "code",
   "execution_count": 38,
   "metadata": {},
   "outputs": [
    {
     "data": {
      "text/plain": [
       "[<matplotlib.lines.Line2D at 0x158d18ede50>]"
      ]
     },
     "execution_count": 38,
     "metadata": {},
     "output_type": "execute_result"
    },
    {
     "data": {
      "image/png": "[encoded data removed]",
      "text/plain": [
       "<Figure size 640x480 with 1 Axes>"
      ]
     },
     "metadata": {},
     "output_type": "display_data"
    }
   ],
   "source": [
    "plt.plot(training_loss)"
   ]
  },
  {
   "cell_type": "markdown",
   "metadata": {},
   "source": [
    "# Inference"
   ]
  },
  {
   "cell_type": "code",
   "execution_count": 39,
   "metadata": {},
   "outputs": [],
   "source": [
    "evaluator = ClassificationEvaluator(NUM_CLASS, DEVICE, feature_dim=-1)"
   ]
  },
  {
   "cell_type": "code",
   "execution_count": 40,
   "metadata": {},
   "outputs": [
    {
     "name": "stderr",
     "output_type": "stream",
     "text": [
      "237it [00:13, 17.52it/s]"
     ]
    },
    {
     "name": "stdout",
     "output_type": "stream",
     "text": [
      "[[1742   56   64   38]\n",
      " [  13 1870    9    2]\n",
      " [  76   17 1682  124]\n",
      " [  66   19  152 1638]]\n"
     ]
    },
    {
     "name": "stderr",
     "output_type": "stream",
     "text": [
      "\n"
     ]
    }
   ],
   "source": [
    "confusion_matrix = evaluator.run(iter(test_dataloader), model)"
   ]
  },
  {
   "cell_type": "code",
   "execution_count": 41,
   "metadata": {},
   "outputs": [
    {
     "name": "stdout",
     "output_type": "stream",
     "text": [
      "world     : 0.9168421052631579\n",
      "sports    : 0.9873284054910243\n",
      "business  : 0.8857293312269615\n",
      "science   : 0.8736\n"
     ]
    }
   ],
   "source": [
    "per_class_acc = evaluator.get_per_class_accuracy(confusion_matrix)\n",
    "evaluator.show_per_class_accuracy(AG_NEWS_CLASS_NAMES, per_class_acc)"
   ]
  },
  {
   "cell_type": "code",
   "execution_count": 42,
   "metadata": {},
   "outputs": [
    {
     "data": {
      "text/plain": [
       "0.9158749604952859"
      ]
     },
     "execution_count": 42,
     "metadata": {},
     "output_type": "execute_result"
    }
   ],
   "source": [
    "per_class_acc.mean()"
   ]
  },
  {
   "cell_type": "code",
   "execution_count": 43,
   "metadata": {},
   "outputs": [
    {
     "data": {
      "image/png": "[encoded data removed]",
      "text/plain": [
       "<Figure size 600x400 with 2 Axes>"
      ]
     },
     "metadata": {},
     "output_type": "display_data"
    }
   ],
   "source": [
    "evaluator.plot_confusion_matrix(\n",
    "    confusion_matrix,\n",
    "    AG_NEWS_CLASS_NAMES,\n",
    "    \"Blues\",\n",
    "    annot=True,\n",
    "    figsize=(6, 4),\n",
    ")"
   ]
  },
  {
   "cell_type": "markdown",
   "metadata": {},
   "source": [
    "# File\n"
   ]
  },
  {
   "cell_type": "code",
   "execution_count": 44,
   "metadata": {},
   "outputs": [],
   "source": [
    "model_path = artifact_path / \"fasttext.pth\""
   ]
  },
  {
   "cell_type": "code",
   "execution_count": 45,
   "metadata": {},
   "outputs": [],
   "source": [
    "torch.save(model.state_dict(), model_path)"
   ]
  },
  {
   "cell_type": "code",
   "execution_count": 46,
   "metadata": {},
   "outputs": [
    {
     "data": {
      "text/plain": [
       "'114.45MB'"
      ]
     },
     "execution_count": 46,
     "metadata": {},
     "output_type": "execute_result"
    }
   ],
   "source": [
    "get_file_size(model_path)"
   ]
  },
  {
   "cell_type": "code",
   "execution_count": 47,
   "metadata": {},
   "outputs": [
    {
     "data": {
      "text/plain": [
       "<All keys matched successfully>"
      ]
     },
     "execution_count": 47,
     "metadata": {},
     "output_type": "execute_result"
    }
   ],
   "source": [
    "model.load_state_dict(torch.load(model_path.as_posix()))"
   ]
  },
  {
   "cell_type": "markdown",
   "metadata": {},
   "source": [
    "# Product Quantization"
   ]
  },
  {
   "cell_type": "code",
   "execution_count": 48,
   "metadata": {},
   "outputs": [],
   "source": [
    "from torchlake.common.helpers.quantizer import ProductQuantization, get_compression_ratio"
   ]
  },
  {
   "cell_type": "code",
   "execution_count": null,
   "metadata": {},
   "outputs": [],
   "source": [
    "quantizer = ProductQuantization(k=50)"
   ]
  },
  {
   "cell_type": "code",
   "execution_count": 118,
   "metadata": {},
   "outputs": [],
   "source": [
    "vectors = model.embeddings.weight.data.clone()"
   ]
  },
  {
   "cell_type": "code",
   "execution_count": 119,
   "metadata": {},
   "outputs": [
    {
     "data": {
      "text/plain": [
       "tensor([[-0.5887, -1.5287, -0.7832,  ..., -0.3271, -1.4679,  1.3871],\n",
       "        [ 0.8909, -1.2176,  0.4909,  ...,  0.0450,  1.1130, -0.9949],\n",
       "        [-1.7107, -0.7182, -0.4997,  ..., -0.2353, -0.4815, -1.0157],\n",
       "        ...,\n",
       "        [ 1.2645,  1.6792, -0.0476,  ..., -0.0868,  0.5137,  1.9476],\n",
       "        [-2.2605, -0.1781, -0.0355,  ...,  0.1853,  1.5293, -0.8034],\n",
       "        [-1.2113,  0.1580,  0.7323,  ..., -1.2736,  1.9072,  2.1073]],\n",
       "       device='cuda:0')"
      ]
     },
     "execution_count": 119,
     "metadata": {},
     "output_type": "execute_result"
    }
   ],
   "source": [
    "vectors"
   ]
  },
  {
   "cell_type": "code",
   "execution_count": 120,
   "metadata": {},
   "outputs": [],
   "source": [
    "quantized_indices = quantizer.quantize(vectors.detach().cpu())"
   ]
  },
  {
   "cell_type": "code",
   "execution_count": 122,
   "metadata": {},
   "outputs": [
    {
     "data": {
      "text/plain": [
       "0.04174666666666667"
      ]
     },
     "execution_count": 122,
     "metadata": {},
     "output_type": "execute_result"
    }
   ],
   "source": [
    "get_compression_ratio(vectors, quantizer.codebook, quantized_indices)"
   ]
  },
  {
   "cell_type": "code",
   "execution_count": 123,
   "metadata": {},
   "outputs": [],
   "source": [
    "reconstructed_vectors = quantizer.reconstruct(quantized_indices.long())"
   ]
  },
  {
   "cell_type": "code",
   "execution_count": 128,
   "metadata": {},
   "outputs": [
    {
     "name": "stdout",
     "output_type": "stream",
     "text": [
      "quantization error tensor(0.9336)\n"
     ]
    }
   ],
   "source": [
    "import torch.nn.functional as F\n",
    "\n",
    "print(\"quantization error\", F.mse_loss(vectors.detach().cpu(), reconstructed_vectors))"
   ]
  },
  {
   "cell_type": "code",
   "execution_count": 109,
   "metadata": {},
   "outputs": [
    {
     "data": {
      "text/plain": [
       "tensor([[ 0.2695,  0.7591, -0.5311,  ...,  1.9347, -0.2132,  0.5362],\n",
       "        [ 1.1164, -0.8147,  1.1852,  ..., -0.3755, -0.0545, -0.6657],\n",
       "        [-0.6952,  0.6119, -0.1353,  ..., -0.2368, -1.1817, -0.6934],\n",
       "        ...,\n",
       "        [ 0.2695,  0.7591, -0.5311,  ...,  1.9347, -0.2132,  0.5362],\n",
       "        [-2.1339, -0.5943, -0.1892,  ...,  0.4313,  2.1424,  0.2259],\n",
       "        [-0.6952,  0.6119, -0.1353,  ...,  0.4313,  2.1424,  0.2259]],\n",
       "       device='cuda:0')"
      ]
     },
     "execution_count": 109,
     "metadata": {},
     "output_type": "execute_result"
    }
   ],
   "source": [
    "model.embeddings.weight.data.copy_(reconstructed_vectors)"
   ]
  },
  {
   "cell_type": "markdown",
   "metadata": {},
   "source": [
    "## visualization"
   ]
  },
  {
   "cell_type": "code",
   "execution_count": 145,
   "metadata": {},
   "outputs": [],
   "source": [
    "params = [10, 30, 50, 60, 100, 150]\n",
    "errors = []\n",
    "ratios = []\n",
    "for k in params:\n",
    "    quantizer = ProductQuantization(k=k)\n",
    "    vectors = model.embeddings.weight.data.clone().detach().cpu()\n",
    "    quantized_indices = quantizer.quantize(vectors)\n",
    "    reconstructed_vectors = quantizer.reconstruct(quantized_indices.long())\n",
    "    \n",
    "    errors.append(F.mse_loss(vectors, reconstructed_vectors).item())\n",
    "    ratios.append(get_compression_ratio(vectors, quantizer.codebook, quantized_indices))"
   ]
  },
  {
   "cell_type": "code",
   "execution_count": 148,
   "metadata": {},
   "outputs": [
    {
     "data": {
      "text/plain": [
       "Text(0, 0.5, 'quantization error')"
      ]
     },
     "execution_count": 148,
     "metadata": {},
     "output_type": "execute_result"
    },
    {
     "data": {
      "image/png": "[encoded data removed]",
      "text/plain": [
       "<Figure size 640x480 with 1 Axes>"
      ]
     },
     "metadata": {},
     "output_type": "display_data"
    }
   ],
   "source": [
    "plt.plot(params, errors)\n",
    "plt.title(\"quantization error v.s. k\")\n",
    "plt.xlabel(\"k\")\n",
    "plt.ylabel(\"quantization error\")"
   ]
  },
  {
   "cell_type": "code",
   "execution_count": 149,
   "metadata": {},
   "outputs": [
    {
     "data": {
      "text/plain": [
       "Text(0, 0.5, 'compression ratio')"
      ]
     },
     "execution_count": 149,
     "metadata": {},
     "output_type": "execute_result"
    },
    {
     "data": {
      "image/png": "[encoded data removed]",
      "text/plain": [
       "<Figure size 640x480 with 1 Axes>"
      ]
     },
     "metadata": {},
     "output_type": "display_data"
    }
   ],
   "source": [
    "plt.plot(params, ratios)\n",
    "plt.title(\"compression ratio v.s. k\")\n",
    "plt.xlabel(\"k\")\n",
    "plt.ylabel(\"compression ratio\")"
   ]
  },
  {
   "cell_type": "markdown",
   "metadata": {},
   "source": [
    "## Evaluation"
   ]
  },
  {
   "cell_type": "code",
   "execution_count": 110,
   "metadata": {},
   "outputs": [],
   "source": [
    "evaluator = ClassificationEvaluator(NUM_CLASS, DEVICE, feature_dim=-1)"
   ]
  },
  {
   "cell_type": "code",
   "execution_count": 111,
   "metadata": {},
   "outputs": [
    {
     "name": "stderr",
     "output_type": "stream",
     "text": [
      "7599it [00:18, 410.59it/s]"
     ]
    },
    {
     "name": "stdout",
     "output_type": "stream",
     "text": [
      "[[1137  695   34   34]\n",
      " [  34 1863    1    2]\n",
      " [ 248  790  677  184]\n",
      " [ 130  820   83  867]]\n"
     ]
    },
    {
     "name": "stderr",
     "output_type": "stream",
     "text": [
      "\n"
     ]
    }
   ],
   "source": [
    "confusion_matrix = evaluator.run(iter(test_dataloader), model)"
   ]
  },
  {
   "cell_type": "code",
   "execution_count": 112,
   "metadata": {},
   "outputs": [
    {
     "name": "stdout",
     "output_type": "stream",
     "text": [
      "world     : 0.598421052631579\n",
      "sports    : 0.9805263157894737\n",
      "business  : 0.3565034228541338\n",
      "science   : 0.45631578947368423\n"
     ]
    }
   ],
   "source": [
    "per_class_acc = evaluator.get_per_class_accuracy(confusion_matrix)\n",
    "evaluator.show_per_class_accuracy(AG_NEWS_CLASS_NAMES, per_class_acc)"
   ]
  },
  {
   "cell_type": "code",
   "execution_count": 113,
   "metadata": {},
   "outputs": [
    {
     "data": {
      "text/plain": [
       "0.5979416451872177"
      ]
     },
     "execution_count": 113,
     "metadata": {},
     "output_type": "execute_result"
    }
   ],
   "source": [
    "per_class_acc.mean()"
   ]
  },
  {
   "cell_type": "code",
   "execution_count": 114,
   "metadata": {},
   "outputs": [
    {
     "data": {
      "image/png": "[encoded data removed]",
      "text/plain": [
       "<Figure size 600x400 with 2 Axes>"
      ]
     },
     "metadata": {},
     "output_type": "display_data"
    }
   ],
   "source": [
    "evaluator.plot_confusion_matrix(\n",
    "    confusion_matrix,\n",
    "    AG_NEWS_CLASS_NAMES,\n",
    "    \"Blues\",\n",
    "    annot=True,\n",
    "    figsize=(6, 4),\n",
    ")"
   ]
  },
  {
   "cell_type": "markdown",
   "metadata": {},
   "source": [
    "## retraining"
   ]
  },
  {
   "cell_type": "code",
   "execution_count": null,
   "metadata": {},
   "outputs": [],
   "source": [
    "model.embeddings.requires_grad_(False)"
   ]
  },
  {
   "cell_type": "code",
   "execution_count": null,
   "metadata": {},
   "outputs": [],
   "source": [
    "EPOCHES = 5\n",
    "ACC_ITERS = 32 / BATCH_SIZE\n",
    "LR = 1e-3"
   ]
  },
  {
   "cell_type": "code",
   "execution_count": null,
   "metadata": {},
   "outputs": [],
   "source": [
    "trainer.run()"
   ]
  },
  {
   "cell_type": "code",
   "execution_count": null,
   "metadata": {},
   "outputs": [],
   "source": [
    "trainer = ClassificationTrainer(EPOCHES, DEVICE, ACC_ITERS, feature_last=True)"
   ]
  },
  {
   "cell_type": "code",
   "execution_count": null,
   "metadata": {},
   "outputs": [],
   "source": [
    "loss = trainer.get_criterion(NUM_CLASS)\n",
    "optimizer = optim.Adam(model.parameters(), lr=LR)"
   ]
  },
  {
   "cell_type": "code",
   "execution_count": null,
   "metadata": {},
   "outputs": [],
   "source": [
    "training_loss = trainer.run(train_dataloader, model, optimizer, loss)"
   ]
  },
  {
   "cell_type": "code",
   "execution_count": null,
   "metadata": {},
   "outputs": [],
   "source": [
    "plt.plot(training_loss)"
   ]
  },
  {
   "cell_type": "markdown",
   "metadata": {},
   "source": [
    "## file"
   ]
  },
  {
   "cell_type": "code",
   "execution_count": null,
   "metadata": {},
   "outputs": [],
   "source": [
    "model_path = artifact_path / \"fasttext.pq.pth\""
   ]
  },
  {
   "cell_type": "code",
   "execution_count": null,
   "metadata": {},
   "outputs": [],
   "source": [
    "torch.save(model.state_dict(), model_path)"
   ]
  },
  {
   "cell_type": "code",
   "execution_count": null,
   "metadata": {},
   "outputs": [
    {
     "data": {
      "text/plain": [
       "'114.45MB'"
      ]
     },
     "metadata": {},
     "output_type": "display_data"
    }
   ],
   "source": [
    "get_file_size(model_path)"
   ]
  },
  {
   "cell_type": "code",
   "execution_count": null,
   "metadata": {},
   "outputs": [
    {
     "data": {
      "text/plain": [
       "<All keys matched successfully>"
      ]
     },
     "metadata": {},
     "output_type": "display_data"
    }
   ],
   "source": [
    "model.load_state_dict(torch.load(model_path.as_posix()))"
   ]
  }
 ],
 "metadata": {
  "kernelspec": {
   "display_name": ".venv",
   "language": "python",
   "name": "python3"
  },
  "language_info": {
   "codemirror_mode": {
    "name": "ipython",
    "version": 3
   },
   "file_extension": ".py",
   "mimetype": "text/x-python",
   "name": "python",
   "nbconvert_exporter": "python",
   "pygments_lexer": "ipython3",
   "version": "3.11.4"
  }
 },
 "nbformat": 4,
 "nbformat_minor": 2
}
