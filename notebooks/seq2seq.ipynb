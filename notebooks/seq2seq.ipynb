{
 "cells": [
  {
   "cell_type": "code",
   "execution_count": 34,
   "metadata": {},
   "outputs": [],
   "source": [
    "from pathlib import Path\n",
    "\n",
    "import matplotlib.pyplot as plt\n",
    "import torch\n",
    "import torchinfo\n",
    "import torchtext.transforms as T\n",
    "from torch import nn\n",
    "from torch.utils.data import DataLoader\n",
    "from torchlake.common.schemas import NlpContext\n",
    "from torchlake.common.utils.platform import get_num_workers, get_file_size\n",
    "from torchlake.common.utils.text import build_vocab\n",
    "from torchlake.sequence_data.models.lstm import LSTMDiscriminator\n",
    "from torchlake.sequence_data.models.gru import GRUDiscriminator\n",
    "from torchlake.sequence_data.models.base import RNNGenerator\n",
    "from torchlake.sequence_data.models.seq2seq import Seq2Seq, GlobalAttention, LocalAttention, BahdanauAttention\n",
    "from torchtext.data.utils import get_tokenizer\n",
    "from torchlake.sequence_data.controller.trainer_rnn_generator import RNNGeneratorTrainer\n",
    "from torchlake.common.controller.recorder import TrainRecorder\n",
    "from torchtext.datasets import Multi30k\n",
    "from tqdm import tqdm"
   ]
  },
  {
   "cell_type": "markdown",
   "metadata": {},
   "source": [
    "To utilize this notebook, you have to install `spacy` and download `de_core_news_sm` and `en_core_web_sm` first"
   ]
  },
  {
   "cell_type": "markdown",
   "metadata": {},
   "source": [
    "# setting"
   ]
  },
  {
   "cell_type": "code",
   "execution_count": 35,
   "metadata": {},
   "outputs": [],
   "source": [
    "artifacts_path = Path(\"../../artifacts/seq2seq\")\n",
    "artifacts_path.mkdir(exist_ok=True)\n",
    "\n",
    "data_path = Path(\"../../data/multi30k\")"
   ]
  },
  {
   "cell_type": "code",
   "execution_count": 36,
   "metadata": {},
   "outputs": [],
   "source": [
    "# no attention, 128\n",
    "# global attention, 64\n",
    "BATCH_SIZE = 128\n",
    "CONTEXT = NlpContext()"
   ]
  },
  {
   "cell_type": "code",
   "execution_count": 37,
   "metadata": {},
   "outputs": [],
   "source": [
    "DEVICE = torch.device(CONTEXT.device)"
   ]
  },
  {
   "cell_type": "markdown",
   "metadata": {},
   "source": [
    "# data"
   ]
  },
  {
   "cell_type": "code",
   "execution_count": 38,
   "metadata": {},
   "outputs": [],
   "source": [
    "SRC_LANGUAGE = 'de'\n",
    "TRG_LANGUAGE = 'en'"
   ]
  },
  {
   "cell_type": "code",
   "execution_count": 39,
   "metadata": {},
   "outputs": [],
   "source": [
    "tokenizers = {\n",
    "    SRC_LANGUAGE: get_tokenizer('spacy', language=SRC_LANGUAGE), # de_core_news_sm\n",
    "    TRG_LANGUAGE: get_tokenizer('spacy', language=TRG_LANGUAGE)  # en_web_core_sm\n",
    "}"
   ]
  },
  {
   "cell_type": "code",
   "execution_count": 40,
   "metadata": {},
   "outputs": [],
   "source": [
    "train_iter, val_iter, test_iter = Multi30k(\n",
    "    data_path.as_posix(),\n",
    "    language_pair=(SRC_LANGUAGE, TRG_LANGUAGE),\n",
    ")"
   ]
  },
  {
   "cell_type": "code",
   "execution_count": 41,
   "metadata": {},
   "outputs": [
    {
     "name": "stdout",
     "output_type": "stream",
     "text": [
      "Zwei junge weiße Männer sind im Freien in der Nähe vieler Büsche. Two young, White males are outside near many bushes.\n"
     ]
    }
   ],
   "source": [
    "for src, trg in train_iter:\n",
    "    print(src, trg)\n",
    "    break"
   ]
  },
  {
   "cell_type": "code",
   "execution_count": 42,
   "metadata": {},
   "outputs": [],
   "source": [
    "# from torchtext.vocab.vectors import Vectors\n",
    "# vector = Vectors(\"../../artifacts/glove/glove.6B.300d.txt\")"
   ]
  },
  {
   "cell_type": "code",
   "execution_count": 43,
   "metadata": {},
   "outputs": [],
   "source": [
    "# vocab = build_vocab(\n",
    "#     map(lambda x: [x], vector.stoi.keys()),\n",
    "#     context=NlpContext(min_frequency=0, min_seq_len=1),\n",
    "# )"
   ]
  },
  {
   "cell_type": "code",
   "execution_count": 44,
   "metadata": {},
   "outputs": [],
   "source": [
    "vocabs = {\n",
    "    SRC_LANGUAGE: build_vocab(map(lambda x: tokenizers[SRC_LANGUAGE](x[0]), train_iter), CONTEXT),\n",
    "    # SRC_LANGUAGE: vocab,\n",
    "    TRG_LANGUAGE: build_vocab(map(lambda x: tokenizers[SRC_LANGUAGE](x[1]), train_iter), CONTEXT),\n",
    "}"
   ]
  },
  {
   "cell_type": "code",
   "execution_count": 45,
   "metadata": {},
   "outputs": [],
   "source": [
    "vocab_sizes = {\n",
    "    SRC_LANGUAGE: len(vocabs[SRC_LANGUAGE]),\n",
    "    TRG_LANGUAGE: len(vocabs[TRG_LANGUAGE]),\n",
    "}"
   ]
  },
  {
   "cell_type": "code",
   "execution_count": 46,
   "metadata": {},
   "outputs": [],
   "source": [
    "src_transform = T.Sequential(\n",
    "    T.VocabTransform(vocabs[SRC_LANGUAGE]),\n",
    "    T.Truncate(CONTEXT.max_seq_len - 2),\n",
    "    T.AddToken(token=CONTEXT.bos_idx, begin=True),\n",
    "    T.AddToken(token=CONTEXT.eos_idx, begin=False),\n",
    "    T.ToTensor(),\n",
    "    T.PadTransform(CONTEXT.max_seq_len, CONTEXT.padding_idx),\n",
    ")\n",
    "\n",
    "trg_transform = T.Sequential(\n",
    "    T.VocabTransform(vocabs[TRG_LANGUAGE]),\n",
    "    T.Truncate(CONTEXT.max_seq_len - 2),\n",
    "    T.AddToken(token=CONTEXT.bos_idx, begin=True),\n",
    "    T.AddToken(token=CONTEXT.eos_idx, begin=False),\n",
    "    T.ToTensor(),\n",
    "    T.PadTransform(CONTEXT.max_seq_len, CONTEXT.padding_idx),\n",
    ")"
   ]
  },
  {
   "cell_type": "code",
   "execution_count": 47,
   "metadata": {},
   "outputs": [],
   "source": [
    "def datapipe_factory(datapipe):\n",
    "    return (\n",
    "        datapipe.map(lambda pair: (pair[0].rstrip(\"\\n\"), pair[1].rstrip(\"\\n\")))\n",
    "        # 1409.3215 p.2: reverse source sentence\n",
    "        .map(lambda pair: (pair[0][::-1], pair[1]))\n",
    "        .map(\n",
    "            lambda pair: (\n",
    "                tokenizers[SRC_LANGUAGE](pair[0]),\n",
    "                tokenizers[TRG_LANGUAGE](pair[1]),\n",
    "            )\n",
    "        )\n",
    "    )"
   ]
  },
  {
   "cell_type": "code",
   "execution_count": 48,
   "metadata": {},
   "outputs": [],
   "source": [
    "train_datapipe, val_datapipe = datapipe_factory(train_iter), datapipe_factory(val_iter)"
   ]
  },
  {
   "cell_type": "code",
   "execution_count": 49,
   "metadata": {},
   "outputs": [],
   "source": [
    "def collate_fn(batch):\n",
    "    src_batch, tgt_batch = [], []\n",
    "    for src_sample, trg_sample in batch:\n",
    "        src_batch.append(src_transform(src_sample))\n",
    "        tgt_batch.append(trg_transform(trg_sample))\n",
    "\n",
    "    return torch.stack(src_batch), torch.stack(tgt_batch)"
   ]
  },
  {
   "cell_type": "code",
   "execution_count": 50,
   "metadata": {},
   "outputs": [],
   "source": [
    "NUM_WORKERS = get_num_workers()"
   ]
  },
  {
   "cell_type": "code",
   "execution_count": 51,
   "metadata": {},
   "outputs": [],
   "source": [
    "train_loader = DataLoader(\n",
    "    train_datapipe,\n",
    "    batch_size=BATCH_SIZE,\n",
    "    collate_fn=collate_fn,\n",
    "    num_workers=NUM_WORKERS,\n",
    ")\n",
    "\n",
    "test_loader = DataLoader(\n",
    "    val_datapipe,\n",
    "    batch_size=BATCH_SIZE,\n",
    "    collate_fn=collate_fn,\n",
    "    num_workers=NUM_WORKERS,\n",
    ")"
   ]
  },
  {
   "cell_type": "code",
   "execution_count": 52,
   "metadata": {},
   "outputs": [
    {
     "name": "stdout",
     "output_type": "stream",
     "text": [
      "torch.Size([64, 256]) torch.Size([64, 256])\n"
     ]
    }
   ],
   "source": [
    "for src, trg in train_loader:\n",
    "    print(src.shape, trg.shape)\n",
    "    break"
   ]
  },
  {
   "cell_type": "markdown",
   "metadata": {},
   "source": [
    "# Model"
   ]
  },
  {
   "cell_type": "code",
   "execution_count": 53,
   "metadata": {},
   "outputs": [],
   "source": [
    "NUM_LAYERS = 2\n",
    "EMBED_DIM = 300\n",
    "HIDDEN_DIM = 256\n",
    "BIDIRECTIONAL = True"
   ]
  },
  {
   "cell_type": "code",
   "execution_count": 54,
   "metadata": {},
   "outputs": [],
   "source": [
    "encoder = LSTMDiscriminator(\n",
    "    vocab_sizes[SRC_LANGUAGE],\n",
    "    EMBED_DIM,\n",
    "    HIDDEN_DIM,\n",
    "    num_layers=NUM_LAYERS,\n",
    "    bidirectional=BIDIRECTIONAL,\n",
    "    drop_fc=True,\n",
    "    context=CONTEXT,\n",
    ")"
   ]
  },
  {
   "cell_type": "code",
   "execution_count": 55,
   "metadata": {},
   "outputs": [],
   "source": [
    "# encoder.foot.weight.data.copy_(torch.cat([torch.rand(4, EMBED_DIM), vector.vectors],0 ))\n",
    "# encoder.foot.weight.requires_grad_(False)"
   ]
  },
  {
   "cell_type": "code",
   "execution_count": 56,
   "metadata": {},
   "outputs": [],
   "source": [
    "CONTEXT_SIZE = 2\n",
    "\n",
    "attention = None\n",
    "\n",
    "# attention = BahdanauAttention(\n",
    "#     HIDDEN_DIM,\n",
    "#     HIDDEN_DIM,\n",
    "#     encoder_bidirectional=BIDIRECTIONAL,\n",
    "# )\n",
    "\n",
    "# attention = GlobalAttention(\n",
    "#     HIDDEN_DIM,\n",
    "#     HIDDEN_DIM,\n",
    "#     encoder_bidirectional=BIDIRECTIONAL,\n",
    "# )\n",
    "\n",
    "# attention = LocalAttention(\n",
    "#     HIDDEN_DIM,\n",
    "#     HIDDEN_DIM,\n",
    "#     encoder_bidirectional=BIDIRECTIONAL,\n",
    "#     context_size=CONTEXT_SIZE,\n",
    "# )"
   ]
  },
  {
   "cell_type": "code",
   "execution_count": 57,
   "metadata": {},
   "outputs": [],
   "source": [
    "decoder = RNNGenerator(\n",
    "    LSTMDiscriminator(\n",
    "        vocab_sizes[TRG_LANGUAGE],\n",
    "        EMBED_DIM,\n",
    "        HIDDEN_DIM,\n",
    "        output_size=vocab_sizes[TRG_LANGUAGE],\n",
    "        num_layers=NUM_LAYERS,\n",
    "        bidirectional=BIDIRECTIONAL,\n",
    "        context=CONTEXT,\n",
    "    ),\n",
    "    attention=attention,\n",
    ")"
   ]
  },
  {
   "cell_type": "code",
   "execution_count": 58,
   "metadata": {},
   "outputs": [],
   "source": [
    "model = Seq2Seq(encoder, decoder, context=CONTEXT).to(DEVICE)"
   ]
  },
  {
   "cell_type": "code",
   "execution_count": 59,
   "metadata": {},
   "outputs": [
    {
     "data": {
      "text/plain": [
       "=================================================================\n",
       "Layer (type:depth-idx)                   Param #\n",
       "=================================================================\n",
       "Seq2Seq                                  --\n",
       "├─LSTMDiscriminator: 1-1                 --\n",
       "│    └─Embedding: 2-1                    1,089,000\n",
       "│    └─LSTM: 2-2                         2,719,744\n",
       "│    └─LayerNorm: 2-3                    1,024\n",
       "│    └─Identity: 2-4                     --\n",
       "├─RNNGenerator: 1-2                      --\n",
       "│    └─LocalAttention: 2-5               --\n",
       "│    │    └─Linear: 3-1                  131,328\n",
       "│    │    └─Linear: 3-2                  196,864\n",
       "│    │    └─Linear: 3-3                  257\n",
       "│    │    └─Linear: 3-4                  65,792\n",
       "│    └─LSTMDiscriminator: 2-6            --\n",
       "│    │    └─Embedding: 3-5               1,009,500\n",
       "│    │    └─LSTM: 3-6                    2,719,744\n",
       "│    │    └─LayerNorm: 3-7               1,024\n",
       "│    │    └─Linear: 3-8                  1,726,245\n",
       "=================================================================\n",
       "Total params: 9,660,522\n",
       "Trainable params: 9,660,522\n",
       "Non-trainable params: 0\n",
       "================================================================="
      ]
     },
     "execution_count": 59,
     "metadata": {},
     "output_type": "execute_result"
    }
   ],
   "source": [
    "torchinfo.summary(model)"
   ]
  },
  {
   "cell_type": "markdown",
   "metadata": {},
   "source": [
    "# Training"
   ]
  },
  {
   "cell_type": "code",
   "execution_count": 60,
   "metadata": {},
   "outputs": [],
   "source": [
    "EPOCH = 10"
   ]
  },
  {
   "cell_type": "code",
   "execution_count": 61,
   "metadata": {},
   "outputs": [],
   "source": [
    "trainer = RNNGeneratorTrainer(EPOCH, DEVICE, feature_last=True)\n",
    "trainer.set_curriculum_strategy(\"inverse_sigmoid\", k=10)"
   ]
  },
  {
   "cell_type": "code",
   "execution_count": 62,
   "metadata": {},
   "outputs": [],
   "source": [
    "criterion = nn.CrossEntropyLoss(\n",
    "    ignore_index=CONTEXT.padding_idx,\n",
    "    reduction=\"sum\",\n",
    ")\n",
    "optimizer = torch.optim.Adam(model.parameters(), lr=1e-3)"
   ]
  },
  {
   "cell_type": "code",
   "execution_count": 63,
   "metadata": {},
   "outputs": [
    {
     "name": "stderr",
     "output_type": "stream",
     "text": [
      "0it [00:00, ?it/s]"
     ]
    },
    {
     "name": "stderr",
     "output_type": "stream",
     "text": [
      "452it [00:10, 45.51it/s]d:\\research\\pytorch-implementations\\.venv\\Lib\\site-packages\\torch\\_jit_internal.py:1355: UserWarning: The inner type of a container is lost when calling torch.jit.isinstance in eager mode. For example, List[int] would become list and therefore falsely return True for List[float] or List[str].\n",
      "  warnings.warn(\n",
      "454it [00:10, 43.03it/s]\n"
     ]
    },
    {
     "data": {
      "text/plain": [
       "29001"
      ]
     },
     "execution_count": 63,
     "metadata": {},
     "output_type": "execute_result"
    }
   ],
   "source": [
    "recorder = TrainRecorder(total_epoch=EPOCH)\n",
    "recorder.calc_dataset_size(map(lambda x: x[0], train_loader))"
   ]
  },
  {
   "cell_type": "code",
   "execution_count": 64,
   "metadata": {},
   "outputs": [],
   "source": [
    "# to continue\n",
    "# recorder.total_epoch = EPOCH"
   ]
  },
  {
   "cell_type": "code",
   "execution_count": 65,
   "metadata": {},
   "outputs": [],
   "source": [
    "scheduler = torch.optim.lr_scheduler.ReduceLROnPlateau(\n",
    "    optimizer,\n",
    "    \"min\",\n",
    "    patience=2,\n",
    "    threshold=0.05,\n",
    "    threshold_mode=\"rel\",\n",
    ")"
   ]
  },
  {
   "cell_type": "code",
   "execution_count": 67,
   "metadata": {},
   "outputs": [],
   "source": [
    "scaler = torch.cuda.amp.GradScaler()"
   ]
  },
  {
   "cell_type": "code",
   "execution_count": null,
   "metadata": {},
   "outputs": [],
   "source": [
    "training_loss = trainer.run(\n",
    "    train_loader,\n",
    "    model,\n",
    "    optimizer,\n",
    "    criterion,\n",
    "    scheduler,\n",
    "    scaler=scaler,\n",
    "    recorder=recorder,\n",
    ")"
   ]
  },
  {
   "cell_type": "code",
   "execution_count": 39,
   "metadata": {},
   "outputs": [
    {
     "data": {
      "text/plain": [
       "[<matplotlib.lines.Line2D at 0x212cced2d10>]"
      ]
     },
     "execution_count": 39,
     "metadata": {},
     "output_type": "execute_result"
    },
    {
     "data": {
      "image/png": "[encoded data removed]",
      "text/plain": [
       "<Figure size 640x480 with 1 Axes>"
      ]
     },
     "metadata": {},
     "output_type": "display_data"
    }
   ],
   "source": [
    "# plain, 4, bi\n",
    "plt.plot(training_loss)"
   ]
  },
  {
   "cell_type": "code",
   "execution_count": null,
   "metadata": {},
   "outputs": [
    {
     "data": {
      "text/plain": [
       "[<matplotlib.lines.Line2D at 0x17d34a1da50>]"
      ]
     },
     "execution_count": 86,
     "metadata": {},
     "output_type": "execute_result"
    },
    {
     "data": {
      "image/png": "[encoded data removed]",
      "text/plain": [
       "<Figure size 640x480 with 1 Axes>"
      ]
     },
     "metadata": {},
     "output_type": "display_data"
    }
   ],
   "source": [
    "# local, 2, bi\n",
    "plt.plot(training_loss)"
   ]
  },
  {
   "cell_type": "markdown",
   "metadata": {},
   "source": [
    "# Evaluate"
   ]
  },
  {
   "cell_type": "code",
   "execution_count": null,
   "metadata": {},
   "outputs": [],
   "source": [
    "from torchmetrics.text import Perplexity"
   ]
  },
  {
   "cell_type": "code",
   "execution_count": null,
   "metadata": {},
   "outputs": [],
   "source": [
    "metric = Perplexity(ignore_index=CONTEXT.padding_idx)"
   ]
  },
  {
   "cell_type": "code",
   "execution_count": null,
   "metadata": {},
   "outputs": [
    {
     "name": "stderr",
     "output_type": "stream",
     "text": [
      "0it [00:00, ?it/s]d:\\research\\pytorch-implementations\\.venv\\Lib\\site-packages\\torch\\utils\\data\\datapipes\\iter\\combining.py:333: UserWarning: Some child DataPipes are not exhausted when __iter__ is called. We are resetting the buffer and each child DataPipe will read from the start again.\n",
      "  warnings.warn(\"Some child DataPipes are not exhausted when __iter__ is called. We are resetting \"\n",
      "7it [00:09,  1.36s/it]d:\\research\\pytorch-implementations\\.venv\\Lib\\site-packages\\torch\\_jit_internal.py:1355: UserWarning: The inner type of a container is lost when calling torch.jit.isinstance in eager mode. For example, List[int] would become list and therefore falsely return True for List[float] or List[str].\n",
      "  warnings.warn(\n",
      "8it [00:11,  1.38s/it]\n"
     ]
    }
   ],
   "source": [
    "model.eval()\n",
    "running_loss = 0.0\n",
    "data_count = 0\n",
    "with torch.no_grad():\n",
    "    for source_sentence, target_sentence in tqdm(test_loader):\n",
    "        # data_count += len(source_sentence)\n",
    "        text = source_sentence.to(DEVICE)\n",
    "        label = target_sentence.to(DEVICE)\n",
    "        # label = label[1:].view(-1)\n",
    "\n",
    "        output = model.predict(text, topk=2)\n",
    "        # output = torch.flatten(output[:, 1:], end_dim=-2)\n",
    "\n",
    "        # loss = criterion(output.transpose(-1, -2), label)\n",
    "        # running_loss += loss.item()\n",
    "        metric.update(output.detach().cpu(), label.detach().cpu())\n",
    "\n",
    "    # mean_loss = running_loss / data_count\n",
    "\n",
    "# print(f\"loss: {mean_loss}\")\n",
    "# print(f\"perplexity: {math.exp(mean_loss)}\")"
   ]
  },
  {
   "cell_type": "code",
   "execution_count": null,
   "metadata": {},
   "outputs": [
    {
     "data": {
      "text/plain": [
       "tensor(146.6560)"
      ]
     },
     "execution_count": 27,
     "metadata": {},
     "output_type": "execute_result"
    }
   ],
   "source": [
    "metric.compute()"
   ]
  },
  {
   "cell_type": "code",
   "execution_count": 30,
   "metadata": {},
   "outputs": [],
   "source": [
    "from torchmetrics.text import BLEUScore"
   ]
  },
  {
   "cell_type": "code",
   "execution_count": 31,
   "metadata": {},
   "outputs": [],
   "source": [
    "metric = BLEUScore()"
   ]
  },
  {
   "cell_type": "code",
   "execution_count": null,
   "metadata": {},
   "outputs": [],
   "source": [
    "model.eval()\n",
    "running_loss = 0.0\n",
    "with torch.no_grad():\n",
    "    for source_sentence, target_sentence in tqdm(test_loader):\n",
    "        text = source_sentence.to(DEVICE)\n",
    "        label = target_sentence.to(DEVICE)\n",
    "\n",
    "        output = model.predict(text, topk=3)\n",
    "        \n",
    "        preds = []\n",
    "        for o in output.tolist():\n",
    "            translated = vocabs[TRG_LANGUAGE].lookup_tokens(o)\n",
    "            start_idx, end_idx = translated.index(CONTEXT.bos_str), translated.index(CONTEXT.eos_str)\n",
    "            preds.append(\" \".join(translated[start_idx+1 : end_idx]))\n",
    "            \n",
    "        labels = []\n",
    "        for l in label.tolist():\n",
    "            translated = vocabs[TRG_LANGUAGE].lookup_tokens(l)\n",
    "            start_idx, end_idx = translated.index(CONTEXT.bos_str), translated.index(CONTEXT.eos_str)\n",
    "            labels.append(\" \".join(translated[start_idx+1 : end_idx]))\n",
    "        \n",
    "        for pred, label in zip(preds, labels):\n",
    "            metric.update(pred, [label])"
   ]
  },
  {
   "cell_type": "code",
   "execution_count": null,
   "metadata": {},
   "outputs": [
    {
     "data": {
      "text/plain": [
       "tensor(0.)"
      ]
     },
     "execution_count": 94,
     "metadata": {},
     "output_type": "execute_result"
    }
   ],
   "source": [
    "metric.compute()"
   ]
  },
  {
   "cell_type": "markdown",
   "metadata": {},
   "source": [
    "# Translate"
   ]
  },
  {
   "cell_type": "code",
   "execution_count": 33,
   "metadata": {},
   "outputs": [
    {
     "name": "stdout",
     "output_type": "stream",
     "text": [
      "第1句\n",
      "source: Eine Gruppe von Männern lädt Baumwolle auf einen Lastwagen\n",
      "target: A group of men are loading cotton onto a truck\n",
      "output: <unk> <unk> <unk> <unk> .\n",
      "第2句\n",
      "source: Ein Mann schläft in einem grünen Raum auf einem Sofa.\n",
      "target: A man sleeping in a green room on a couch.\n",
      "output:\n",
      "第3句\n",
      "source: Ein Junge mit Kopfhörern sitzt auf den Schultern einer Frau.\n",
      "target: A boy wearing headphones sits on a woman's shoulders.\n",
      "output:\n",
      "第4句\n",
      "source: Zwei Männer bauen eine blaue Eisfischerhütte auf einem zugefrorenen See auf\n",
      "target: Two men setting up a blue ice fishing hut on an iced over lake\n",
      "output: <unk> <unk> <unk> <unk> .\n",
      "第5句\n",
      "source: Ein Mann mit beginnender Glatze, der eine rote Rettungsweste trägt, sitzt in einem kleinen Boot.\n",
      "target: A balding man wearing a red life jacket is sitting in a small boat.\n",
      "output: <unk> <unk> <unk> <unk> .\n"
     ]
    }
   ],
   "source": [
    "CLIP = 5\n",
    "\n",
    "model.eval()\n",
    "with torch.no_grad():\n",
    "    for i, (source_sentence, target_sentence) in enumerate(val_iter):\n",
    "        ori_source, ori_target = source_sentence.rstrip('\\n'), target_sentence.rstrip('\\n')\n",
    "        source_sentence = tokenizers[SRC_LANGUAGE](source_sentence)\n",
    "        source_sentence = src_transform(source_sentence)\n",
    "        source_sentence = source_sentence.unsqueeze(0)\n",
    "        source_sentence = source_sentence.to(DEVICE)\n",
    "        \n",
    "        target_sentence = tokenizers[TRG_LANGUAGE](target_sentence)\n",
    "        target_sentence = trg_transform(target_sentence)\n",
    "        target_sentence = target_sentence.unsqueeze(0)\n",
    "        target_sentence = target_sentence.to(DEVICE)\n",
    "        \n",
    "        output = model.predict(source_sentence, topk=1)[0]\n",
    "        \n",
    "        # if EOS_IDX in outputs:\n",
    "        translated = vocabs[TRG_LANGUAGE].lookup_tokens(output.tolist())\n",
    "        start_idx, end_idx = translated.index(CONTEXT.bos_str), translated.index(CONTEXT.eos_str)\n",
    "        # start_idx, end_idx =0, len(ori_target.split())\n",
    "        print(f'第{i+1}句')\n",
    "        print('source:', ori_source)\n",
    "        print('target:', ori_target)\n",
    "        print('output:', *translated[start_idx+1:end_idx], sep=' ')\n",
    "        \n",
    "        if i+1==CLIP: break"
   ]
  },
  {
   "cell_type": "markdown",
   "metadata": {},
   "source": [
    "# visualization"
   ]
  },
  {
   "cell_type": "code",
   "execution_count": 38,
   "metadata": {},
   "outputs": [],
   "source": [
    "source_embedding = model.foot.foot"
   ]
  },
  {
   "cell_type": "code",
   "execution_count": 39,
   "metadata": {},
   "outputs": [],
   "source": [
    "from sklearn.decomposition import PCA"
   ]
  },
  {
   "cell_type": "code",
   "execution_count": 40,
   "metadata": {},
   "outputs": [
    {
     "data": {
      "text/plain": [
       "<matplotlib.collections.PathCollection at 0x2863bc65490>"
      ]
     },
     "execution_count": 40,
     "metadata": {},
     "output_type": "execute_result"
    },
    {
     "data": {
      "image/png": "[encoded data removed]",
      "text/plain": [
       "<Figure size 640x480 with 1 Axes>"
      ]
     },
     "metadata": {},
     "output_type": "display_data"
    }
   ],
   "source": [
    "m = PCA(2)\n",
    "\n",
    "plt.scatter(\n",
    "    *m.fit_transform(source_embedding.weight.data.detach().cpu().numpy()).T,\n",
    ")"
   ]
  },
  {
   "cell_type": "code",
   "execution_count": 41,
   "metadata": {},
   "outputs": [],
   "source": [
    "target_embedding = model.head.head.foot"
   ]
  },
  {
   "cell_type": "code",
   "execution_count": 42,
   "metadata": {},
   "outputs": [
    {
     "data": {
      "text/plain": [
       "<matplotlib.collections.PathCollection at 0x2863f0187d0>"
      ]
     },
     "execution_count": 42,
     "metadata": {},
     "output_type": "execute_result"
    },
    {
     "data": {
      "image/png": "[encoded data removed]",
      "text/plain": [
       "<Figure size 640x480 with 1 Axes>"
      ]
     },
     "metadata": {},
     "output_type": "display_data"
    }
   ],
   "source": [
    "m = PCA(2)\n",
    "\n",
    "plt.scatter(\n",
    "    *m.fit_transform(source_embedding.weight.data.detach().cpu().numpy()).T,\n",
    ")"
   ]
  },
  {
   "cell_type": "markdown",
   "metadata": {},
   "source": [
    "# Save"
   ]
  },
  {
   "cell_type": "code",
   "execution_count": 28,
   "metadata": {},
   "outputs": [],
   "source": [
    "from torchlake.common.controller.weight_manager import WeightManager"
   ]
  },
  {
   "cell_type": "code",
   "execution_count": 29,
   "metadata": {},
   "outputs": [],
   "source": [
    "manager = WeightManager(artifacts_path.joinpath(\"seq2seq.{attention}.{bidirectional}.2.pth\").as_posix())"
   ]
  },
  {
   "cell_type": "code",
   "execution_count": 30,
   "metadata": {},
   "outputs": [
    {
     "data": {
      "text/plain": [
       "WindowsPath('../../artifacts/seq2seq/seq2seq.global.bi.2.pth')"
      ]
     },
     "execution_count": 30,
     "metadata": {},
     "output_type": "execute_result"
    }
   ],
   "source": [
    "attention_name = \"plain\"\n",
    "if model.head.neck is not None:\n",
    "    if isinstance(model.head.neck, GlobalAttention):\n",
    "        attention_name = \"global\"\n",
    "    elif isinstance(model.head.neck, LocalAttention):\n",
    "        attention_name = \"local\"\n",
    "    elif isinstance(model.head.neck, BahdanauAttention):\n",
    "        attention_name = \"bahdanau\"\n",
    "\n",
    "\n",
    "model_path = manager.get_filename(\n",
    "    attention=attention_name,\n",
    "    bidirectional=\"bi\" if model.head.head.factor == 2 else \"uni\",\n",
    ")\n",
    "model_path"
   ]
  },
  {
   "cell_type": "code",
   "execution_count": 38,
   "metadata": {},
   "outputs": [
    {
     "name": "stdout",
     "output_type": "stream",
     "text": [
      "Save weight to ..\\..\\artifacts\\seq2seq\\seq2seq.global.bi.2.pth, model size is 36.61MiB\n"
     ]
    }
   ],
   "source": [
    "manager.save_weight(model.state_dict(), model_path)"
   ]
  },
  {
   "cell_type": "code",
   "execution_count": 31,
   "metadata": {},
   "outputs": [],
   "source": [
    "manager.load_weight(model_path, model)"
   ]
  },
  {
   "cell_type": "code",
   "execution_count": null,
   "metadata": {},
   "outputs": [],
   "source": []
  },
  {
   "cell_type": "markdown",
   "metadata": {},
   "source": [
    "# debug"
   ]
  },
  {
   "cell_type": "code",
   "execution_count": 44,
   "metadata": {},
   "outputs": [
    {
     "data": {
      "text/plain": [
       "[<matplotlib.lines.Line2D at 0x1dc7bcec210>]"
      ]
     },
     "execution_count": 44,
     "metadata": {},
     "output_type": "execute_result"
    },
    {
     "data": {
      "image/png": "[encoded data removed]",
      "text/plain": [
       "<Figure size 640x480 with 1 Axes>"
      ]
     },
     "metadata": {},
     "output_type": "display_data"
    }
   ],
   "source": [
    "trainer = RNNGeneratorTrainer(EPOCH, DEVICE, feature_last=True)\n",
    "trainer.set_curriculum_strategy(\"inverse_sigmoid\", k=10)\n",
    "\n",
    "ratios = []\n",
    "for t in range(100):\n",
    "    trainer.recorder.current_epoch = t\n",
    "    ratios.append(trainer.teacher_forcing_raio)\n",
    "\n",
    "plt.plot(ratios)"
   ]
  }
 ],
 "metadata": {
  "kernelspec": {
   "display_name": ".venv",
   "language": "python",
   "name": "python3"
  },
  "language_info": {
   "codemirror_mode": {
    "name": "ipython",
    "version": 3
   },
   "file_extension": ".py",
   "mimetype": "text/x-python",
   "name": "python",
   "nbconvert_exporter": "python",
   "pygments_lexer": "ipython3",
   "version": "3.11.4"
  }
 },
 "nbformat": 4,
 "nbformat_minor": 2
}
