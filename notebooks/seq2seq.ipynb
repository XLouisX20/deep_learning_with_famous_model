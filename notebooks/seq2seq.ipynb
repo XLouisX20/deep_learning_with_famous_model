{
 "cells": [
  {
   "cell_type": "code",
   "execution_count": 119,
   "metadata": {},
   "outputs": [],
   "source": [
    "import math\n",
    "from pathlib import Path\n",
    "\n",
    "import matplotlib.pyplot as plt\n",
    "import torch\n",
    "import torchinfo\n",
    "import torchtext.transforms as T\n",
    "from torch import nn\n",
    "from torch.utils.data import DataLoader\n",
    "from torchlake.common.schemas import NlpContext\n",
    "from torchlake.common.utils.text import build_vocab\n",
    "from torchlake.sequence_data.models import (Seq2Seq, Seq2SeqDecoder,\n",
    "                                            Seq2SeqEncoder)\n",
    "from torchtext.data.utils import get_tokenizer\n",
    "from torchtext.datasets import Multi30k\n",
    "from tqdm import tqdm"
   ]
  },
  {
   "cell_type": "markdown",
   "metadata": {},
   "source": [
    "# setting"
   ]
  },
  {
   "cell_type": "code",
   "execution_count": 120,
   "metadata": {},
   "outputs": [],
   "source": [
    "data_path = Path(\"../../data/multi30k\")\n",
    "artifacts_path = Path(\"../../artifacts/seq2seq\")"
   ]
  },
  {
   "cell_type": "code",
   "execution_count": 121,
   "metadata": {},
   "outputs": [],
   "source": [
    "BATCH_SIZE = 32\n",
    "context = NlpContext()"
   ]
  },
  {
   "cell_type": "code",
   "execution_count": 122,
   "metadata": {},
   "outputs": [],
   "source": [
    "device = torch.device(context.device)"
   ]
  },
  {
   "cell_type": "markdown",
   "metadata": {},
   "source": [
    "# data"
   ]
  },
  {
   "cell_type": "code",
   "execution_count": 123,
   "metadata": {},
   "outputs": [],
   "source": [
    "SRC_LANGUAGE = 'de'\n",
    "TRG_LANGUAGE = 'en'"
   ]
  },
  {
   "cell_type": "code",
   "execution_count": 124,
   "metadata": {},
   "outputs": [
    {
     "name": "stderr",
     "output_type": "stream",
     "text": [
      "d:\\research\\pytorch-implementations\\.venv\\Lib\\site-packages\\torchtext\\data\\utils.py:105: UserWarning: Spacy model \"de\" could not be loaded, trying \"de_core_news_sm\" instead\n",
      "  warnings.warn(\n"
     ]
    },
    {
     "name": "stderr",
     "output_type": "stream",
     "text": [
      "d:\\research\\pytorch-implementations\\.venv\\Lib\\site-packages\\torchtext\\data\\utils.py:105: UserWarning: Spacy model \"en\" could not be loaded, trying \"en_core_web_sm\" instead\n",
      "  warnings.warn(\n"
     ]
    }
   ],
   "source": [
    "tokenizers = {\n",
    "    SRC_LANGUAGE: get_tokenizer('spacy', language=SRC_LANGUAGE), # de_core_news_sm\n",
    "    TRG_LANGUAGE: get_tokenizer('spacy', language=TRG_LANGUAGE)  # en_web_core_sm\n",
    "}"
   ]
  },
  {
   "cell_type": "code",
   "execution_count": 125,
   "metadata": {},
   "outputs": [],
   "source": [
    "train_iter, val_iter, test_iter = Multi30k(\n",
    "    data_path.as_posix(),\n",
    "    language_pair=(SRC_LANGUAGE, TRG_LANGUAGE),\n",
    ")"
   ]
  },
  {
   "cell_type": "code",
   "execution_count": 126,
   "metadata": {},
   "outputs": [
    {
     "name": "stderr",
     "output_type": "stream",
     "text": [
      "d:\\research\\pytorch-implementations\\.venv\\Lib\\site-packages\\torch\\utils\\data\\datapipes\\iter\\combining.py:333: UserWarning: Some child DataPipes are not exhausted when __iter__ is called. We are resetting the buffer and each child DataPipe will read from the start again.\n",
      "  warnings.warn(\"Some child DataPipes are not exhausted when __iter__ is called. We are resetting \"\n"
     ]
    }
   ],
   "source": [
    "vocabs = {\n",
    "    SRC_LANGUAGE: build_vocab(map(lambda x: tokenizers[SRC_LANGUAGE](x[0]), train_iter), context),\n",
    "    TRG_LANGUAGE: build_vocab(map(lambda x: tokenizers[SRC_LANGUAGE](x[1]), train_iter), context),\n",
    "}"
   ]
  },
  {
   "cell_type": "code",
   "execution_count": 127,
   "metadata": {},
   "outputs": [],
   "source": [
    "src_transform = T.Sequential(\n",
    "    T.VocabTransform(vocabs[SRC_LANGUAGE]),\n",
    "    T.Truncate(context.max_seq_len - 2),\n",
    "    T.AddToken(token=context.bos_idx, begin=True),\n",
    "    T.AddToken(token=context.eos_idx, begin=False),\n",
    "    T.ToTensor(),\n",
    "    T.PadTransform(context.max_seq_len, context.padding_idx),\n",
    ")\n",
    "\n",
    "trg_transform = T.Sequential(\n",
    "    T.VocabTransform(vocabs[TRG_LANGUAGE]),\n",
    "    T.Truncate(context.max_seq_len - 2),\n",
    "    T.AddToken(token=context.bos_idx, begin=True),\n",
    "    T.AddToken(token=context.eos_idx, begin=False),\n",
    "    T.ToTensor(),\n",
    "    T.PadTransform(context.max_seq_len, context.padding_idx),\n",
    ")"
   ]
  },
  {
   "cell_type": "code",
   "execution_count": 128,
   "metadata": {},
   "outputs": [],
   "source": [
    "def collate_fn(batch):\n",
    "    src_batch, tgt_batch = [], []\n",
    "\n",
    "    for src_sample, trg_sample in batch:\n",
    "        # paper p.2: reverse source sentence\n",
    "        src_sample = src_sample[::-1]\n",
    "        \n",
    "        src_tokenizer  = tokenizers[SRC_LANGUAGE]\n",
    "        src_batch.append(src_transform(src_tokenizer(src_sample.rstrip(\"\\n\"))))\n",
    "        \n",
    "        trg_tokenizer  = tokenizers[TRG_LANGUAGE]\n",
    "        tgt_batch.append(trg_transform(trg_tokenizer(trg_sample.rstrip(\"\\n\"))))\n",
    "\n",
    "    return torch.stack(src_batch), torch.stack(tgt_batch)"
   ]
  },
  {
   "cell_type": "code",
   "execution_count": 129,
   "metadata": {},
   "outputs": [],
   "source": [
    "train_loader = DataLoader(\n",
    "    train_iter,\n",
    "    batch_size=BATCH_SIZE,\n",
    "    collate_fn=collate_fn,\n",
    ")"
   ]
  },
  {
   "cell_type": "code",
   "execution_count": 130,
   "metadata": {},
   "outputs": [
    {
     "name": "stdout",
     "output_type": "stream",
     "text": [
      "torch.Size([32, 256]) torch.Size([32, 256])\n"
     ]
    }
   ],
   "source": [
    "for src, trg in train_loader:\n",
    "    print(src.shape, trg.shape)\n",
    "    break"
   ]
  },
  {
   "cell_type": "code",
   "execution_count": 131,
   "metadata": {},
   "outputs": [],
   "source": [
    "vocab_sizes = {\n",
    "    SRC_LANGUAGE: len(vocabs[SRC_LANGUAGE]),\n",
    "    TRG_LANGUAGE: len(vocabs[TRG_LANGUAGE]),\n",
    "}"
   ]
  },
  {
   "cell_type": "markdown",
   "metadata": {},
   "source": [
    "# Model"
   ]
  },
  {
   "cell_type": "code",
   "execution_count": 132,
   "metadata": {},
   "outputs": [],
   "source": [
    "encoder = Seq2SeqEncoder(\n",
    "    vocab_sizes[SRC_LANGUAGE],\n",
    "    128,\n",
    "    128,\n",
    "    context=context,\n",
    ").to(device)\n",
    "\n",
    "decoder = Seq2SeqDecoder(\n",
    "    vocab_sizes[TRG_LANGUAGE],\n",
    "    128,\n",
    "    128,\n",
    "    output_size=vocab_sizes[TRG_LANGUAGE],\n",
    "    context=context,\n",
    ").to(device)\n",
    "\n",
    "model = Seq2Seq(encoder, decoder, context).to(device)"
   ]
  },
  {
   "cell_type": "code",
   "execution_count": 133,
   "metadata": {},
   "outputs": [
    {
     "data": {
      "text/plain": [
       "=================================================================\n",
       "Layer (type:depth-idx)                   Param #\n",
       "=================================================================\n",
       "Seq2Seq                                  --\n",
       "├─Seq2SeqEncoder: 1-1                    --\n",
       "│    └─LstmClassifier: 2-1               --\n",
       "│    │    └─Embedding: 3-1               464,640\n",
       "│    │    └─LSTM: 3-2                    132,096\n",
       "│    │    └─LayerNorm: 3-3               256\n",
       "│    │    └─Linear: 3-4                  129\n",
       "├─Seq2SeqDecoder: 1-2                    --\n",
       "│    └─LstmClassifier: 2-2               --\n",
       "│    │    └─Embedding: 3-5               430,720\n",
       "│    │    └─LSTM: 3-6                    132,096\n",
       "│    │    └─LayerNorm: 3-7               256\n",
       "│    │    └─Linear: 3-8                  434,085\n",
       "=================================================================\n",
       "Total params: 1,594,278\n",
       "Trainable params: 1,594,278\n",
       "Non-trainable params: 0\n",
       "================================================================="
      ]
     },
     "execution_count": 133,
     "metadata": {},
     "output_type": "execute_result"
    }
   ],
   "source": [
    "torchinfo.summary(model)"
   ]
  },
  {
   "cell_type": "markdown",
   "metadata": {},
   "source": [
    "# Training"
   ]
  },
  {
   "cell_type": "code",
   "execution_count": 134,
   "metadata": {},
   "outputs": [],
   "source": [
    "criterion = nn.CrossEntropyLoss(ignore_index = context.padding_idx)\n",
    "optimizer = torch.optim.Adam(model.parameters())"
   ]
  },
  {
   "cell_type": "code",
   "execution_count": 135,
   "metadata": {},
   "outputs": [],
   "source": [
    "epoches = 10"
   ]
  },
  {
   "cell_type": "code",
   "execution_count": 136,
   "metadata": {},
   "outputs": [
    {
     "name": "stderr",
     "output_type": "stream",
     "text": [
      "905it [01:22, 11.77it/s]d:\\research\\pytorch-implementations\\.venv\\Lib\\site-packages\\torch\\_jit_internal.py:1355: UserWarning: The inner type of a container is lost when calling torch.jit.isinstance in eager mode. For example, List[int] would become list and therefore falsely return True for List[float] or List[str].\n",
      "  warnings.warn(\n",
      "907it [01:22, 11.02it/s]\n"
     ]
    },
    {
     "name": "stdout",
     "output_type": "stream",
     "text": [
      "epoch 1 : 0.017756800946238854\n"
     ]
    },
    {
     "name": "stderr",
     "output_type": "stream",
     "text": [
      "907it [01:20, 11.32it/s]\n"
     ]
    },
    {
     "name": "stdout",
     "output_type": "stream",
     "text": [
      "epoch 2 : 0.0002230972870818898\n"
     ]
    },
    {
     "name": "stderr",
     "output_type": "stream",
     "text": [
      "907it [01:19, 11.40it/s]\n"
     ]
    },
    {
     "name": "stdout",
     "output_type": "stream",
     "text": [
      "epoch 3 : 3.8360028107649006e-05\n"
     ]
    },
    {
     "name": "stderr",
     "output_type": "stream",
     "text": [
      "907it [01:21, 11.14it/s]\n"
     ]
    },
    {
     "name": "stdout",
     "output_type": "stream",
     "text": [
      "epoch 4 : 1.647737256033482e-05\n"
     ]
    },
    {
     "name": "stderr",
     "output_type": "stream",
     "text": [
      "907it [01:17, 11.67it/s]\n"
     ]
    },
    {
     "name": "stdout",
     "output_type": "stream",
     "text": [
      "epoch 5 : 8.495792418167656e-06\n"
     ]
    },
    {
     "name": "stderr",
     "output_type": "stream",
     "text": [
      "907it [01:21, 11.09it/s]\n"
     ]
    },
    {
     "name": "stdout",
     "output_type": "stream",
     "text": [
      "epoch 6 : 4.731972046688728e-06\n"
     ]
    },
    {
     "name": "stderr",
     "output_type": "stream",
     "text": [
      "907it [01:22, 10.93it/s]\n"
     ]
    },
    {
     "name": "stdout",
     "output_type": "stream",
     "text": [
      "epoch 7 : 2.7489773836100455e-06\n"
     ]
    },
    {
     "name": "stderr",
     "output_type": "stream",
     "text": [
      "907it [01:21, 11.16it/s]\n"
     ]
    },
    {
     "name": "stdout",
     "output_type": "stream",
     "text": [
      "epoch 8 : 1.6379637361007078e-06\n"
     ]
    },
    {
     "name": "stderr",
     "output_type": "stream",
     "text": [
      "907it [01:18, 11.54it/s]\n"
     ]
    },
    {
     "name": "stdout",
     "output_type": "stream",
     "text": [
      "epoch 9 : 9.922805569780704e-07\n"
     ]
    },
    {
     "name": "stderr",
     "output_type": "stream",
     "text": [
      "907it [01:21, 11.18it/s]"
     ]
    },
    {
     "name": "stdout",
     "output_type": "stream",
     "text": [
      "epoch 10 : 6.091692144126171e-07\n"
     ]
    },
    {
     "name": "stderr",
     "output_type": "stream",
     "text": [
      "\n"
     ]
    }
   ],
   "source": [
    "model.train()\n",
    "training_loss = []\n",
    "for e in range(epoches):\n",
    "    running_loss = 0.0\n",
    "    data_count = 0\n",
    "    \n",
    "    for source_sentence, target_sentence in tqdm(train_loader):\n",
    "        data_count += len(source_sentence)\n",
    "        optimizer.zero_grad()\n",
    "\n",
    "        text = source_sentence.to(device)\n",
    "        label = target_sentence.to(device)\n",
    "        # label = label[:, 1:].view(-1)\n",
    "\n",
    "        output = model(text, label)\n",
    "        # output = torch.flatten(output[:, 1:], end_dim=-2)\n",
    "        loss = criterion(output.transpose(-1, -2), label)\n",
    "        running_loss += loss.item()\n",
    "\n",
    "        loss.backward()\n",
    "        optimizer.step()\n",
    "\n",
    "    mean_loss = running_loss / data_count\n",
    "    training_loss.append(mean_loss)\n",
    "    print(f\"epoch {e+1} : {mean_loss}\")"
   ]
  },
  {
   "cell_type": "code",
   "execution_count": 137,
   "metadata": {},
   "outputs": [
    {
     "data": {
      "text/plain": [
       "[<matplotlib.lines.Line2D at 0x1fca23e1cd0>]"
      ]
     },
     "execution_count": 137,
     "metadata": {},
     "output_type": "execute_result"
    },
    {
     "data": {
      "image/png": "[encoded data removed]",
      "text/plain": [
       "<Figure size 640x480 with 1 Axes>"
      ]
     },
     "metadata": {},
     "output_type": "display_data"
    }
   ],
   "source": [
    "plt.plot(training_loss)"
   ]
  },
  {
   "cell_type": "markdown",
   "metadata": {},
   "source": [
    "# Evaluate"
   ]
  },
  {
   "cell_type": "code",
   "execution_count": 138,
   "metadata": {},
   "outputs": [],
   "source": [
    "test_loader = DataLoader(val_iter, batch_size=BATCH_SIZE, collate_fn=collate_fn)"
   ]
  },
  {
   "cell_type": "code",
   "execution_count": 140,
   "metadata": {},
   "outputs": [
    {
     "name": "stderr",
     "output_type": "stream",
     "text": [
      "32it [00:02, 11.47it/s]"
     ]
    },
    {
     "name": "stdout",
     "output_type": "stream",
     "text": [
      "loss: 4.618349534919912e-07\n",
      "perplexity: 1.0000004618350602\n"
     ]
    },
    {
     "name": "stderr",
     "output_type": "stream",
     "text": [
      "\n"
     ]
    }
   ],
   "source": [
    "model.eval()\n",
    "running_loss = 0.0\n",
    "data_count = 0\n",
    "with torch.no_grad():\n",
    "    for source_sentence, target_sentence in tqdm(test_loader):\n",
    "        data_count += len(source_sentence)\n",
    "        text = source_sentence.to(device)\n",
    "        label = target_sentence.to(device)\n",
    "        # label = label[1:].view(-1)\n",
    "\n",
    "        output = model(text, label, 0)\n",
    "        # output = torch.flatten(output[:, 1:], end_dim=-2)\n",
    "\n",
    "        loss = criterion(output.transpose(-1, -2), label)\n",
    "        running_loss += loss.item()\n",
    "\n",
    "    mean_loss = running_loss / data_count\n",
    "\n",
    "print(f\"loss: {mean_loss}\")\n",
    "print(f\"perplexity: {math.exp(mean_loss)}\")"
   ]
  },
  {
   "cell_type": "markdown",
   "metadata": {},
   "source": [
    "# Translate"
   ]
  },
  {
   "cell_type": "code",
   "execution_count": 141,
   "metadata": {},
   "outputs": [
    {
     "name": "stdout",
     "output_type": "stream",
     "text": [
      "第1句\n",
      "Eine Gruppe von Männern lädt Baumwolle auf einen Lastwagen\n",
      "A group of men are loading cotton onto a truck\n",
      "<bos> A group of men are loading cotton onto a truck <eos> . . . . . . . . . . . . . . . . . . . . . . . . . . . . . . . . . . . . . . . . . . . . . . . . . . . . . . . . . . . . . . . . . . . . . . . . . . . . . . . . . . . . . . . . . . . . . . . . . . . . . . . . . . . . . . . . . . . . . . . . . . . . . . . . . . . . . . . . . . . . . . . . . . . . . . . . . . . . . . . . . . . . . . . . . . . . . . . . . . . . . . . . . . . . . . . . . . . . . . . . . . . . . . . . . . . . . . . . . . . . . . . . . . . . . . . . . . . . . . . . . . . .\n",
      "第2句\n",
      "Ein Mann schläft in einem grünen Raum auf einem Sofa.\n",
      "A man sleeping in a green room on a couch.\n",
      "<bos> A man sleeping in a green room on a couch . <eos> . . . . . . . . . . . . . . . . . . . . . . . . . . . . . . . . . . . . . . . . . . . . . . . . . . . . . . . . . . . . . . . . . . . . . . . . . . . . . . . . . . . . . . . . . . . . . . . . . . . . . . . . . . . . . . . . . . . . . . . . . . . . . . . . . . . . . . . . . . . . . . . . . . . . . . . . . . . . . . . . . . . . . . . . . . . . . . . . . . . . . . . . . . . . . . . . . . . . . . . . . . . . . . . . . . . . . . . . . . . . . . . . . . . . . . . . . . . . . . . . . . .\n",
      "第3句\n",
      "Ein Junge mit Kopfhörern sitzt auf den Schultern einer Frau.\n",
      "A boy wearing headphones sits on a woman's shoulders.\n",
      "<bos> A boy wearing headphones sits on a woman <unk> shoulders . <eos> . . . . . . . . . . . . . . . . . . . . . . . . . . . . . . . . . . . . . . . . . . . . . . . . . . . . . . . . . . . . . . . . . . . . . . . . . . . . . . . . . . . . . . . . . . . . . . . . . . . . . . . . . . . . . . . . . . . . . . . . . . . . . . . . . . . . . . . . . . . . . . . . . . . . . . . . . . . . . . . . . . . . . . . . . . . . . . . . . . . . . . . . . . . . . . . . . . . . . . . . . . . . . . . . . . . . . . . . . . . . . . . . . . . . . . . . . . . . . . . . . . .\n",
      "第4句\n",
      "Zwei Männer bauen eine blaue Eisfischerhütte auf einem zugefrorenen See auf\n",
      "Two men setting up a blue ice fishing hut on an iced over lake\n",
      "<bos> Two men setting up a blue ice fishing hut on an <unk> over lake <eos> . . . . . . . . . . . . . . . . . . . . . . . . . . . . . . . . . . . . . . . . . . . . . . . . . . . . . . . . . . . . . . . . . . . . . . . . . . . . . . . . . . . . . . . . . . . . . . . . . . . . . . . . . . . . . . . . . . . . . . . . . . . . . . . . . . . . . . . . . . . . . . . . . . . . . . . . . . . . . . . . . . . . . . . . . . . . . . . . . . . . . . . . . . . . . . . . . . . . . . . . . . . . . . . . . . . . . . . . . . . . . . . . . . . . . . . . . . . . . . . .\n",
      "第5句\n",
      "Ein Mann mit beginnender Glatze, der eine rote Rettungsweste trägt, sitzt in einem kleinen Boot.\n",
      "A balding man wearing a red life jacket is sitting in a small boat.\n",
      "<bos> A balding man wearing a red life jacket is sitting in a small boat . <eos> . . . . . . . . . . . . . . . . . . . . . . . . . . . . . . . . . . . . . . . . . . . . . . . . . . . . . . . . . . . . . . . . . . . . . . . . . . . . . . . . . . . . . . . . . . . . . . . . . . . . . . . . . . . . . . . . . . . . . . . . . . . . . . . . . . . . . . . . . . . . . . . . . . . . . . . . . . . . . . . . . . . . . . . . . . . . . . . . . . . . . . . . . . . . . . . . . . . . . . . . . . . . . . . . . . . . . . . . . . . . . . . . . . . . . . . . . . . . . . .\n",
      "第6句\n",
      "Eine Frau in einem rotem Mantel, die eine vermutlich aus Asien stammende Handtasche in einem blauen Farbton hält, springt für einen Schnappschuss in die Luft.\n",
      "A lady in a red coat, holding a bluish hand bag likely of asian descent, jumping off the ground for a snapshot.\n",
      "<bos> A lady in a red coat , holding a <unk> hand bag <unk> of asian descent , jumping off the ground for a <unk> . <eos> . . . . . . . . . . . . . . . . . . . . . . . . . . . . . . . . . . . . . . . . . . . . . . . . . . . . . . . . . . . . . . . . . . . . . . . . . . . . . . . . . . . . . . . . . . . . . . . . . . . . . . . . . . . . . . . . . . . . . . . . . . . . . . . . . . . . . . . . . . . . . . . . . . . . . . . . . . . . . . . . . . . . . . . . . . . . . . . . . . . . . . . . . . . . . . . . . . . . . . . . . . . . . . . . . . . . . . . . . . . . . . . . . . . . .\n",
      "第7句\n",
      "Ein brauner Hund rennt dem schwarzen Hund hinterher.\n",
      "A brown dog is running after the black dog.\n",
      "<bos> A brown dog is running after the black dog . <eos> . . . . . . . . . . . . . . . . . . . . . . . . . . . . . . . . . . . . . . . . . . . . . . . . . . . . . . . . . . . . . . . . . . . . . . . . . . . . . . . . . . . . . . . . . . . . . . . . . . . . . . . . . . . . . . . . . . . . . . . . . . . . . . . . . . . . . . . . . . . . . . . . . . . . . . . . . . . . . . . . . . . . . . . . . . . . . . . . . . . . . . . . . . . . . . . . . . . . . . . . . . . . . . . . . . . . . . . . . . . . . . . . . . . . . . . . . . . . . . . . . . . .\n",
      "第8句\n",
      "Ein kleiner Junge mit einem Giants-Trikot schwingt einen Baseballschläger in Richtung eines ankommenden Balls.\n",
      "A young boy wearing a Giants jersey swings a baseball bat at an incoming pitch.\n",
      "<bos> A young boy wearing a <unk> jersey swings a baseball bat at an <unk> pitch . <eos> . . . . . . . . . . . . . . . . . . . . . . . . . . . . . . . . . . . . . . . . . . . . . . . . . . . . . . . . . . . . . . . . . . . . . . . . . . . . . . . . . . . . . . . . . . . . . . . . . . . . . . . . . . . . . . . . . . . . . . . . . . . . . . . . . . . . . . . . . . . . . . . . . . . . . . . . . . . . . . . . . . . . . . . . . . . . . . . . . . . . . . . . . . . . . . . . . . . . . . . . . . . . . . . . . . . . . . . . . . . . . . . . . . . . . . . . . . . . . .\n",
      "第9句\n",
      "Ein Mann telefoniert in einem unaufgeräumten Büro\n",
      "A man in a cluttered office is using the telephone\n",
      "<bos> A man in a cluttered office is using the telephone <eos> . . . . . . . . . . . . . . . . . . . . . . . . . . . . . . . . . . . . . . . . . . . . . . . . . . . . . . . . . . . . . . . . . . . . . . . . . . . . . . . . . . . . . . . . . . . . . . . . . . . . . . . . . . . . . . . . . . . . . . . . . . . . . . . . . . . . . . . . . . . . . . . . . . . . . . . . . . . . . . . . . . . . . . . . . . . . . . . . . . . . . . . . . . . . . . . . . . . . . . . . . . . . . . . . . . . . . . . . . . . . . . . . . . . . . . . . . . . . . . . . . . . .\n",
      "第10句\n",
      "Eine lächelnde Frau mit einem pfirsichfarbenen Trägershirt hält ein Mountainbike\n",
      "A smiling woman in a peach tank top stands holding a mountain bike\n",
      "<bos> A smiling woman in a <unk> tank top stands holding a mountain bike <eos> . . . . . . . . . . . . . . . . . . . . . . . . . . . . . . . . . . . . . . . . . . . . . . . . . . . . . . . . . . . . . . . . . . . . . . . . . . . . . . . . . . . . . . . . . . . . . . . . . . . . . . . . . . . . . . . . . . . . . . . . . . . . . . . . . . . . . . . . . . . . . . . . . . . . . . . . . . . . . . . . . . . . . . . . . . . . . . . . . . . . . . . . . . . . . . . . . . . . . . . . . . . . . . . . . . . . . . . . . . . . . . . . . . . . . . . . . . . . . . . . .\n",
      "第11句\n",
      "Ein kleines Kind steht allein auf einem zerklüfteten Felsen.\n",
      "A young child is standing alone on some jagged rocks.\n",
      "<bos> A young child is standing alone on some <unk> rocks . <eos> . . . . . . . . . . . . . . . . . . . . . . . . . . . . . . . . . . . . . . . . . . . . . . . . . . . . . . . . . . . . . . . . . . . . . . . . . . . . . . . . . . . . . . . . . . . . . . . . . . . . . . . . . . . . . . . . . . . . . . . . . . . . . . . . . . . . . . . . . . . . . . . . . . . . . . . . . . . . . . . . . . . . . . . . . . . . . . . . . . . . . . . . . . . . . . . . . . . . . . . . . . . . . . . . . . . . . . . . . . . . . . . . . . . . . . . . . . . . . . . . . . .\n"
     ]
    }
   ],
   "source": [
    "MAX_LENGTH = 100\n",
    "\n",
    "model.eval()\n",
    "with torch.no_grad():\n",
    "    for i, (source_sentence, target_sentence) in enumerate(val_iter):\n",
    "        ori_source, ori_target = source_sentence, target_sentence\n",
    "        source_sentence = tokenizers[SRC_LANGUAGE](source_sentence.rstrip('\\n'))\n",
    "        source_sentence = src_transform(source_sentence)\n",
    "        source_sentence = source_sentence.unsqueeze(0)\n",
    "        source_sentence = source_sentence.to(device)\n",
    "        \n",
    "        target_sentence = tokenizers[TRG_LANGUAGE](target_sentence.rstrip('\\n'))\n",
    "        target_sentence = trg_transform(target_sentence)\n",
    "        target_sentence = target_sentence.unsqueeze(0)\n",
    "        target_sentence = target_sentence.to(device)\n",
    "        \n",
    "        # outputs = [BOS_IDX]\n",
    "        \n",
    "        # h, c = model.encoder(source_sentence)\n",
    "        \n",
    "        # for _ in range(MAX_LENGTH):\n",
    "            \n",
    "        #     input_seq = torch.LongTensor([outputs[-1]]).to(device)\n",
    "            \n",
    "        #     output, _, _ = model.decoder(input_seq, h, c)\n",
    "            \n",
    "        #     next_token = output.argmax(1).item()\n",
    "        #     outputs.append(next_token) \n",
    "            \n",
    "        #     if next_token == EOS_IDX: break\n",
    "        \n",
    "        output = model(source_sentence, target_sentence)[0].argmax(-1)\n",
    "        \n",
    "        # if EOS_IDX in outputs:\n",
    "        translated = vocabs[TRG_LANGUAGE].lookup_tokens(output.tolist())\n",
    "        print(f'第{i+1}句')\n",
    "        print(ori_source.rstrip('\\n'))\n",
    "        print(ori_target.rstrip('\\n'))\n",
    "        print(*translated,sep=' ')\n",
    "        \n",
    "        if i==10: break"
   ]
  },
  {
   "cell_type": "code",
   "execution_count": 142,
   "metadata": {},
   "outputs": [],
   "source": [
    "model_path = artifacts_path / 'seq2seq.pth'"
   ]
  },
  {
   "cell_type": "code",
   "execution_count": 143,
   "metadata": {},
   "outputs": [],
   "source": [
    "torch.save(model, model_path.as_posix())"
   ]
  },
  {
   "cell_type": "code",
   "execution_count": 17,
   "metadata": {},
   "outputs": [],
   "source": [
    "model = torch.load(model_path.as_posix())"
   ]
  },
  {
   "cell_type": "code",
   "execution_count": null,
   "metadata": {},
   "outputs": [],
   "source": []
  }
 ],
 "metadata": {
  "kernelspec": {
   "display_name": "Python 3",
   "language": "python",
   "name": "python3"
  },
  "language_info": {
   "codemirror_mode": {
    "name": "ipython",
    "version": 3
   },
   "file_extension": ".py",
   "mimetype": "text/x-python",
   "name": "python",
   "nbconvert_exporter": "python",
   "pygments_lexer": "ipython3",
   "version": "3.11.4"
  }
 },
 "nbformat": 4,
 "nbformat_minor": 2
}
