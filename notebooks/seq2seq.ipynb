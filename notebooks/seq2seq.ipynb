{
 "cells": [
  {
   "cell_type": "code",
   "execution_count": 110,
   "metadata": {},
   "outputs": [],
   "source": [
    "from pathlib import Path\n",
    "\n",
    "import matplotlib.pyplot as plt\n",
    "import torch\n",
    "import torchinfo\n",
    "import torchtext.transforms as T\n",
    "from torch import nn\n",
    "from torch.utils.data import DataLoader\n",
    "from torchlake.common.schemas import NlpContext\n",
    "from torchlake.common.utils.platform import get_num_workers, get_file_size\n",
    "from torchlake.common.utils.text import build_vocab\n",
    "from torchlake.sequence_data.models.lstm import LSTMDiscriminator\n",
    "from torchlake.sequence_data.models.gru import GRUDiscriminator\n",
    "from torchlake.sequence_data.models.base import RNNGenerator\n",
    "from torchlake.sequence_data.models.seq2seq import Seq2Seq, GlobalAttention, LocalAttention, BahdanauAttention\n",
    "from torchtext.data.utils import get_tokenizer\n",
    "from torchlake.sequence_data.controller.trainer_seq2seq import Seq2SeqTrainer\n",
    "from torchlake.common.controller.recorder import TrainRecorder\n",
    "from torchtext.datasets import Multi30k\n",
    "from tqdm import tqdm"
   ]
  },
  {
   "cell_type": "markdown",
   "metadata": {},
   "source": [
    "To utilize this notebook, you have to install `spacy` and download `de_core_news_sm` and `en_core_web_sm` first"
   ]
  },
  {
   "cell_type": "markdown",
   "metadata": {},
   "source": [
    "# setting"
   ]
  },
  {
   "cell_type": "code",
   "execution_count": 111,
   "metadata": {},
   "outputs": [],
   "source": [
    "artifacts_path = Path(\"../../artifacts/seq2seq\")\n",
    "artifacts_path.mkdir(exist_ok=True)\n",
    "\n",
    "data_path = Path(\"../../data/multi30k\")"
   ]
  },
  {
   "cell_type": "code",
   "execution_count": 112,
   "metadata": {},
   "outputs": [],
   "source": [
    "BATCH_SIZE = 128\n",
    "CONTEXT = NlpContext(max_seq_len=32)"
   ]
  },
  {
   "cell_type": "code",
   "execution_count": 113,
   "metadata": {},
   "outputs": [],
   "source": [
    "VAL_BATCH_SIZE = 32"
   ]
  },
  {
   "cell_type": "code",
   "execution_count": 114,
   "metadata": {},
   "outputs": [],
   "source": [
    "DEVICE = torch.device(CONTEXT.device)"
   ]
  },
  {
   "cell_type": "markdown",
   "metadata": {},
   "source": [
    "# data"
   ]
  },
  {
   "cell_type": "code",
   "execution_count": 115,
   "metadata": {},
   "outputs": [],
   "source": [
    "SRC_LANGUAGE = 'de'\n",
    "TRG_LANGUAGE = 'en'"
   ]
  },
  {
   "cell_type": "code",
   "execution_count": 116,
   "metadata": {},
   "outputs": [
    {
     "name": "stderr",
     "output_type": "stream",
     "text": [
      "d:\\research\\pytorch-implementations\\.venv\\Lib\\site-packages\\torchtext\\data\\utils.py:105: UserWarning: Spacy model \"de\" could not be loaded, trying \"de_core_news_sm\" instead\n",
      "  warnings.warn(\n",
      "d:\\research\\pytorch-implementations\\.venv\\Lib\\site-packages\\torchtext\\data\\utils.py:105: UserWarning: Spacy model \"en\" could not be loaded, trying \"en_core_web_sm\" instead\n",
      "  warnings.warn(\n"
     ]
    }
   ],
   "source": [
    "tokenizers = {\n",
    "    SRC_LANGUAGE: get_tokenizer('spacy', language=SRC_LANGUAGE), # de_core_news_sm\n",
    "    TRG_LANGUAGE: get_tokenizer('spacy', language=TRG_LANGUAGE)  # en_web_core_sm\n",
    "}"
   ]
  },
  {
   "cell_type": "code",
   "execution_count": 117,
   "metadata": {},
   "outputs": [],
   "source": [
    "train_iter, val_iter, test_iter = Multi30k(\n",
    "    data_path.as_posix(),\n",
    "    language_pair=(SRC_LANGUAGE, TRG_LANGUAGE),\n",
    ")"
   ]
  },
  {
   "cell_type": "code",
   "execution_count": 118,
   "metadata": {},
   "outputs": [
    {
     "name": "stdout",
     "output_type": "stream",
     "text": [
      "Zwei junge weiße Männer sind im Freien in der Nähe vieler Büsche.\n",
      "Two young, White males are outside near many bushes.\n"
     ]
    }
   ],
   "source": [
    "for src, trg in train_iter:\n",
    "    print(src)\n",
    "    print(trg)\n",
    "    break"
   ]
  },
  {
   "cell_type": "code",
   "execution_count": 119,
   "metadata": {},
   "outputs": [],
   "source": [
    "src_lengths, trg_lengths = [], []\n",
    "for src, trg in train_iter:\n",
    "    src_lengths.append(len(tokenizers[SRC_LANGUAGE](src)))\n",
    "    trg_lengths.append(len(tokenizers[TRG_LANGUAGE](trg)))"
   ]
  },
  {
   "cell_type": "code",
   "execution_count": 120,
   "metadata": {},
   "outputs": [
    {
     "data": {
      "text/plain": [
       "(array([3.000e+00, 1.000e+00, 2.800e+01, 1.530e+02, 2.089e+03, 2.251e+03,\n",
       "        6.085e+03, 3.232e+03, 5.429e+03, 2.165e+03, 3.103e+03, 1.147e+03,\n",
       "        1.493e+03, 4.760e+02, 3.550e+02, 4.990e+02, 1.180e+02, 1.860e+02,\n",
       "        4.900e+01, 6.400e+01, 1.700e+01, 2.800e+01, 5.000e+00, 1.500e+01,\n",
       "        6.000e+00, 0.000e+00, 1.000e+00, 0.000e+00, 0.000e+00, 3.000e+00]),\n",
       " array([ 0.        ,  1.46666667,  2.93333333,  4.4       ,  5.86666667,\n",
       "         7.33333333,  8.8       , 10.26666667, 11.73333333, 13.2       ,\n",
       "        14.66666667, 16.13333333, 17.6       , 19.06666667, 20.53333333,\n",
       "        22.        , 23.46666667, 24.93333333, 26.4       , 27.86666667,\n",
       "        29.33333333, 30.8       , 32.26666667, 33.73333333, 35.2       ,\n",
       "        36.66666667, 38.13333333, 39.6       , 41.06666667, 42.53333333,\n",
       "        44.        ]),\n",
       " <BarContainer object of 30 artists>)"
      ]
     },
     "execution_count": 120,
     "metadata": {},
     "output_type": "execute_result"
    },
    {
     "data": {
      "image/png": "[encoded data removed]",
      "text/plain": [
       "<Figure size 640x480 with 1 Axes>"
      ]
     },
     "metadata": {},
     "output_type": "display_data"
    }
   ],
   "source": [
    "plt.hist(src_lengths, bins=30)"
   ]
  },
  {
   "cell_type": "code",
   "execution_count": 121,
   "metadata": {},
   "outputs": [
    {
     "data": {
      "text/plain": [
       "(array([1.000e+00, 0.000e+00, 8.000e+00, 3.200e+01, 2.110e+02, 2.477e+03,\n",
       "        2.427e+03, 3.049e+03, 6.523e+03, 2.849e+03, 4.639e+03, 1.558e+03,\n",
       "        1.326e+03, 1.774e+03, 5.860e+02, 4.450e+02, 5.080e+02, 1.720e+02,\n",
       "        1.110e+02, 1.440e+02, 4.300e+01, 5.500e+01, 1.200e+01, 1.100e+01,\n",
       "        1.700e+01, 1.000e+01, 3.000e+00, 5.000e+00, 2.000e+00, 3.000e+00]),\n",
       " array([ 0.        ,  1.36666667,  2.73333333,  4.1       ,  5.46666667,\n",
       "         6.83333333,  8.2       ,  9.56666667, 10.93333333, 12.3       ,\n",
       "        13.66666667, 15.03333333, 16.4       , 17.76666667, 19.13333333,\n",
       "        20.5       , 21.86666667, 23.23333333, 24.6       , 25.96666667,\n",
       "        27.33333333, 28.7       , 30.06666667, 31.43333333, 32.8       ,\n",
       "        34.16666667, 35.53333333, 36.9       , 38.26666667, 39.63333333,\n",
       "        41.        ]),\n",
       " <BarContainer object of 30 artists>)"
      ]
     },
     "execution_count": 121,
     "metadata": {},
     "output_type": "execute_result"
    },
    {
     "data": {
      "image/png": "[encoded data removed]",
      "text/plain": [
       "<Figure size 640x480 with 1 Axes>"
      ]
     },
     "metadata": {},
     "output_type": "display_data"
    }
   ],
   "source": [
    "plt.hist(trg_lengths, bins=30)"
   ]
  },
  {
   "cell_type": "code",
   "execution_count": 122,
   "metadata": {},
   "outputs": [],
   "source": [
    "# from torchtext.vocab.vectors import Vectors\n",
    "# vector = Vectors(\"../../artifacts/glove/glove.6B.300d.txt\")"
   ]
  },
  {
   "cell_type": "code",
   "execution_count": 123,
   "metadata": {},
   "outputs": [],
   "source": [
    "# vocab = build_vocab(\n",
    "#     map(lambda x: [x], vector.stoi.keys()),\n",
    "#     context=NlpContext(min_frequency=0, min_seq_len=1),\n",
    "# )"
   ]
  },
  {
   "cell_type": "code",
   "execution_count": 124,
   "metadata": {},
   "outputs": [],
   "source": [
    "vocabs = {\n",
    "    SRC_LANGUAGE: build_vocab(map(lambda x: tokenizers[SRC_LANGUAGE](x[0]), train_iter), CONTEXT),\n",
    "    # SRC_LANGUAGE: vocab,\n",
    "    TRG_LANGUAGE: build_vocab(map(lambda x: tokenizers[SRC_LANGUAGE](x[1]), train_iter), CONTEXT),\n",
    "}"
   ]
  },
  {
   "cell_type": "code",
   "execution_count": 125,
   "metadata": {},
   "outputs": [],
   "source": [
    "vocab_sizes = {\n",
    "    SRC_LANGUAGE: len(vocabs[SRC_LANGUAGE]),\n",
    "    TRG_LANGUAGE: len(vocabs[TRG_LANGUAGE]),\n",
    "}"
   ]
  },
  {
   "cell_type": "code",
   "execution_count": 126,
   "metadata": {},
   "outputs": [
    {
     "data": {
      "text/plain": [
       "{'de': 3630, 'en': 3365}"
      ]
     },
     "execution_count": 126,
     "metadata": {},
     "output_type": "execute_result"
    }
   ],
   "source": [
    "vocab_sizes"
   ]
  },
  {
   "cell_type": "code",
   "execution_count": 127,
   "metadata": {},
   "outputs": [],
   "source": [
    "src_transform = T.Sequential(\n",
    "    T.VocabTransform(vocabs[SRC_LANGUAGE]),\n",
    "    T.Truncate(CONTEXT.max_seq_len - 2),\n",
    "    T.AddToken(token=CONTEXT.bos_idx, begin=True),\n",
    "    T.AddToken(token=CONTEXT.eos_idx, begin=False),\n",
    "    T.ToTensor(),\n",
    "    T.PadTransform(CONTEXT.max_seq_len, CONTEXT.padding_idx),\n",
    ")\n",
    "\n",
    "trg_transform = T.Sequential(\n",
    "    T.VocabTransform(vocabs[TRG_LANGUAGE]),\n",
    "    T.Truncate(CONTEXT.max_seq_len - 2),\n",
    "    T.AddToken(token=CONTEXT.bos_idx, begin=True),\n",
    "    T.AddToken(token=CONTEXT.eos_idx, begin=False),\n",
    "    T.ToTensor(),\n",
    "    T.PadTransform(CONTEXT.max_seq_len, CONTEXT.padding_idx),\n",
    ")"
   ]
  },
  {
   "cell_type": "code",
   "execution_count": 128,
   "metadata": {},
   "outputs": [],
   "source": [
    "def datapipe_factory(datapipe):\n",
    "    return (\n",
    "        datapipe.map(lambda pair: (pair[0].rstrip(\"\\n\"), pair[1].rstrip(\"\\n\")))\n",
    "        # 1409.3215 p.2: reverse source sentence\n",
    "        # don't use\n",
    "        # .map(lambda pair: (pair[0][::-1], pair[1]))\n",
    "        .map(\n",
    "            lambda pair: (\n",
    "                tokenizers[SRC_LANGUAGE](pair[0]),\n",
    "                tokenizers[TRG_LANGUAGE](pair[1]),\n",
    "            )\n",
    "        )\n",
    "    )"
   ]
  },
  {
   "cell_type": "code",
   "execution_count": 129,
   "metadata": {},
   "outputs": [
    {
     "name": "stderr",
     "output_type": "stream",
     "text": [
      "d:\\research\\pytorch-implementations\\.venv\\Lib\\site-packages\\torch\\utils\\data\\datapipes\\utils\\common.py:141: UserWarning: Local function is not supported by pickle, please use regular python function or functools.partial instead.\n",
      "  warnings.warn(\n"
     ]
    }
   ],
   "source": [
    "train_datapipe, val_datapipe = datapipe_factory(train_iter), datapipe_factory(val_iter)"
   ]
  },
  {
   "cell_type": "code",
   "execution_count": 130,
   "metadata": {},
   "outputs": [],
   "source": [
    "def collate_fn(batch):\n",
    "    src_batch, tgt_batch = [], []\n",
    "    for src_sample, trg_sample in batch:\n",
    "        src_batch.append(src_transform(src_sample))\n",
    "        tgt_batch.append(trg_transform(trg_sample))\n",
    "\n",
    "    return torch.stack(src_batch), torch.stack(tgt_batch)"
   ]
  },
  {
   "cell_type": "code",
   "execution_count": 131,
   "metadata": {},
   "outputs": [],
   "source": [
    "NUM_WORKERS = get_num_workers()"
   ]
  },
  {
   "cell_type": "code",
   "execution_count": 132,
   "metadata": {},
   "outputs": [],
   "source": [
    "train_loader = DataLoader(\n",
    "    train_datapipe,\n",
    "    batch_size=BATCH_SIZE,\n",
    "    collate_fn=collate_fn,\n",
    "    num_workers=NUM_WORKERS,\n",
    "    shuffle=True,\n",
    ")\n",
    "\n",
    "test_loader = DataLoader(\n",
    "    val_datapipe,\n",
    "    batch_size=VAL_BATCH_SIZE,\n",
    "    collate_fn=collate_fn,\n",
    "    num_workers=NUM_WORKERS,\n",
    "    shuffle=True,\n",
    ")"
   ]
  },
  {
   "cell_type": "code",
   "execution_count": 133,
   "metadata": {},
   "outputs": [
    {
     "name": "stdout",
     "output_type": "stream",
     "text": [
      "torch.Size([128, 32]) torch.Size([128, 32])\n"
     ]
    }
   ],
   "source": [
    "for src, trg in train_loader:\n",
    "    print(src.shape, trg.shape)\n",
    "    break"
   ]
  },
  {
   "cell_type": "markdown",
   "metadata": {},
   "source": [
    "# Model"
   ]
  },
  {
   "cell_type": "code",
   "execution_count": 134,
   "metadata": {},
   "outputs": [],
   "source": [
    "NUM_LAYERS = 4\n",
    "EMBED_DIM = 512\n",
    "HIDDEN_DIM = 256\n",
    "BIDIRECTIONAL = True\n",
    "FACTOR = 2 if BIDIRECTIONAL else 1"
   ]
  },
  {
   "cell_type": "code",
   "execution_count": 135,
   "metadata": {},
   "outputs": [],
   "source": [
    "encoder = LSTMDiscriminator(\n",
    "    vocab_sizes[SRC_LANGUAGE],\n",
    "    EMBED_DIM,\n",
    "    HIDDEN_DIM,\n",
    "    num_layers=NUM_LAYERS,\n",
    "    bidirectional=BIDIRECTIONAL,\n",
    "    drop_fc=True,\n",
    "    context=CONTEXT,\n",
    ")"
   ]
  },
  {
   "cell_type": "code",
   "execution_count": 136,
   "metadata": {},
   "outputs": [],
   "source": [
    "# encoder.foot.weight.data.copy_(torch.cat([torch.rand(4, EMBED_DIM), vector.vectors],0 ))\n",
    "# encoder.foot.weight.data[4:, :].requires_grad_(False)"
   ]
  },
  {
   "cell_type": "code",
   "execution_count": 137,
   "metadata": {},
   "outputs": [],
   "source": [
    "# attention = None\n",
    "\n",
    "# attention = BahdanauAttention(\n",
    "#     HIDDEN_DIM * FACTOR,\n",
    "#     HIDDEN_DIM,\n",
    "#     decoder_bidirectional=BIDIRECTIONAL,\n",
    "# )\n",
    "\n",
    "# attention = GlobalAttention(\n",
    "#     HIDDEN_DIM * FACTOR,\n",
    "#     HIDDEN_DIM,\n",
    "#     decoder_bidirectional=BIDIRECTIONAL,\n",
    "# )\n",
    "\n",
    "CONTEXT_SIZE = 2\n",
    "attention = LocalAttention(\n",
    "    HIDDEN_DIM * FACTOR,\n",
    "    HIDDEN_DIM,\n",
    "    decoder_bidirectional=BIDIRECTIONAL,\n",
    "    context_size=CONTEXT_SIZE,\n",
    ")"
   ]
  },
  {
   "cell_type": "code",
   "execution_count": 138,
   "metadata": {},
   "outputs": [],
   "source": [
    "decoder = RNNGenerator(\n",
    "    LSTMDiscriminator(\n",
    "        vocab_sizes[TRG_LANGUAGE],\n",
    "        EMBED_DIM,\n",
    "        HIDDEN_DIM,\n",
    "        context_dim=HIDDEN_DIM * FACTOR if attention is not None else 0,\n",
    "        output_size=vocab_sizes[TRG_LANGUAGE],\n",
    "        num_layers=NUM_LAYERS,\n",
    "        bidirectional=BIDIRECTIONAL,\n",
    "        context=CONTEXT,\n",
    "    ),\n",
    "    attention=attention,\n",
    ")"
   ]
  },
  {
   "cell_type": "code",
   "execution_count": 139,
   "metadata": {},
   "outputs": [],
   "source": [
    "model = Seq2Seq(encoder, decoder, context=CONTEXT).to(DEVICE)"
   ]
  },
  {
   "cell_type": "code",
   "execution_count": 140,
   "metadata": {},
   "outputs": [
    {
     "data": {
      "text/plain": [
       "=================================================================\n",
       "Layer (type:depth-idx)                   Param #\n",
       "=================================================================\n",
       "Seq2Seq                                  --\n",
       "├─LSTMDiscriminator: 1-1                 --\n",
       "│    └─Embedding: 2-1                    1,858,560\n",
       "│    └─LSTM: 2-2                         6,307,840\n",
       "│    └─LayerNorm: 2-3                    1,024\n",
       "│    └─Identity: 2-4                     --\n",
       "├─RNNGenerator: 1-2                      --\n",
       "│    └─LocalAttention: 2-5               --\n",
       "│    │    └─Linear: 3-1                  262,656\n",
       "│    │    └─Linear: 3-2                  513\n",
       "│    │    └─Linear: 3-3                  262,656\n",
       "│    └─LSTMDiscriminator: 2-6            --\n",
       "│    │    └─Embedding: 3-4               1,722,880\n",
       "│    │    └─LSTM: 3-5                    7,356,416\n",
       "│    │    └─LayerNorm: 3-6               1,024\n",
       "│    │    └─Linear: 3-7                  1,726,245\n",
       "=================================================================\n",
       "Total params: 19,499,814\n",
       "Trainable params: 19,499,814\n",
       "Non-trainable params: 0\n",
       "================================================================="
      ]
     },
     "execution_count": 140,
     "metadata": {},
     "output_type": "execute_result"
    }
   ],
   "source": [
    "torchinfo.summary(model)"
   ]
  },
  {
   "cell_type": "markdown",
   "metadata": {},
   "source": [
    "# Training"
   ]
  },
  {
   "cell_type": "code",
   "execution_count": 141,
   "metadata": {},
   "outputs": [],
   "source": [
    "EPOCH = 30"
   ]
  },
  {
   "cell_type": "code",
   "execution_count": 142,
   "metadata": {},
   "outputs": [],
   "source": [
    "trainer = Seq2SeqTrainer(EPOCH, DEVICE, feature_last=True)\n",
    "trainer.set_curriculum_strategy(\"inverse_sigmoid\", k=5)"
   ]
  },
  {
   "cell_type": "code",
   "execution_count": 143,
   "metadata": {},
   "outputs": [],
   "source": [
    "criterion = nn.CrossEntropyLoss(\n",
    "    ignore_index=CONTEXT.padding_idx,\n",
    "    reduction=\"sum\",\n",
    ")\n",
    "optimizer = torch.optim.Adadelta(model.parameters(), lr=1e-1)"
   ]
  },
  {
   "cell_type": "code",
   "execution_count": 144,
   "metadata": {},
   "outputs": [
    {
     "name": "stderr",
     "output_type": "stream",
     "text": [
      "227it [00:06, 34.23it/s]\n"
     ]
    },
    {
     "data": {
      "text/plain": [
       "29001"
      ]
     },
     "execution_count": 144,
     "metadata": {},
     "output_type": "execute_result"
    }
   ],
   "source": [
    "recorder = TrainRecorder(total_epoch=EPOCH)\n",
    "recorder.calc_dataset_size(map(lambda x: x[0], train_loader))"
   ]
  },
  {
   "cell_type": "code",
   "execution_count": 145,
   "metadata": {},
   "outputs": [],
   "source": [
    "# to continue\n",
    "# recorder.total_epoch = EPOCH"
   ]
  },
  {
   "cell_type": "code",
   "execution_count": 146,
   "metadata": {},
   "outputs": [],
   "source": [
    "scheduler = torch.optim.lr_scheduler.ReduceLROnPlateau(\n",
    "    optimizer,\n",
    "    \"min\",\n",
    "    patience=2,\n",
    "    threshold=0.05,\n",
    "    threshold_mode=\"rel\",\n",
    ")"
   ]
  },
  {
   "cell_type": "code",
   "execution_count": 147,
   "metadata": {},
   "outputs": [],
   "source": [
    "# scaler = torch.cuda.amp.GradScaler()"
   ]
  },
  {
   "cell_type": "code",
   "execution_count": 148,
   "metadata": {},
   "outputs": [
    {
     "name": "stdout",
     "output_type": "stream",
     "text": [
      "Enable AMP: False\n",
      "Training...\n"
     ]
    },
    {
     "name": "stderr",
     "output_type": "stream",
     "text": [
      "227it [00:54,  4.17it/s]\n"
     ]
    },
    {
     "name": "stdout",
     "output_type": "stream",
     "text": [
      "Epoch 1 : 66.26662653133191 (0%)\n"
     ]
    },
    {
     "name": "stderr",
     "output_type": "stream",
     "text": [
      "227it [00:53,  4.21it/s]\n"
     ]
    },
    {
     "name": "stdout",
     "output_type": "stream",
     "text": [
      "Epoch 2 : 54.63157326808237 (-18%)\n"
     ]
    },
    {
     "name": "stderr",
     "output_type": "stream",
     "text": [
      "227it [00:52,  4.32it/s]\n"
     ]
    },
    {
     "name": "stdout",
     "output_type": "stream",
     "text": [
      "Epoch 3 : 49.782295281506975 (-9%)\n"
     ]
    },
    {
     "name": "stderr",
     "output_type": "stream",
     "text": [
      "227it [00:53,  4.24it/s]\n"
     ]
    },
    {
     "name": "stdout",
     "output_type": "stream",
     "text": [
      "Epoch 4 : 47.15003924298945 (-5%)\n"
     ]
    },
    {
     "name": "stderr",
     "output_type": "stream",
     "text": [
      "227it [00:52,  4.32it/s]\n"
     ]
    },
    {
     "name": "stdout",
     "output_type": "stream",
     "text": [
      "Epoch 5 : 44.808047685182224 (-5%)\n"
     ]
    },
    {
     "name": "stderr",
     "output_type": "stream",
     "text": [
      "227it [00:52,  4.36it/s]\n"
     ]
    },
    {
     "name": "stdout",
     "output_type": "stream",
     "text": [
      "Epoch 6 : 42.50169357037256 (-5%)\n"
     ]
    },
    {
     "name": "stderr",
     "output_type": "stream",
     "text": [
      "227it [00:51,  4.37it/s]\n"
     ]
    },
    {
     "name": "stdout",
     "output_type": "stream",
     "text": [
      "Epoch 7 : 41.2345866710415 (-3%)\n"
     ]
    },
    {
     "name": "stderr",
     "output_type": "stream",
     "text": [
      "227it [00:52,  4.32it/s]\n"
     ]
    },
    {
     "name": "stdout",
     "output_type": "stream",
     "text": [
      "Epoch 8 : 40.0508455493722 (-3%)\n"
     ]
    },
    {
     "name": "stderr",
     "output_type": "stream",
     "text": [
      "227it [00:55,  4.08it/s]\n"
     ]
    },
    {
     "name": "stdout",
     "output_type": "stream",
     "text": [
      "Epoch 9 : 38.578334372831414 (-4%)\n"
     ]
    },
    {
     "name": "stderr",
     "output_type": "stream",
     "text": [
      "227it [00:52,  4.28it/s]\n"
     ]
    },
    {
     "name": "stdout",
     "output_type": "stream",
     "text": [
      "Epoch 10 : 37.40897697358496 (-3%)\n"
     ]
    },
    {
     "name": "stderr",
     "output_type": "stream",
     "text": [
      "227it [01:00,  3.77it/s]\n"
     ]
    },
    {
     "name": "stdout",
     "output_type": "stream",
     "text": [
      "Epoch 11 : 36.173979352274486 (-3%)\n"
     ]
    },
    {
     "name": "stderr",
     "output_type": "stream",
     "text": [
      "227it [00:51,  4.40it/s]\n"
     ]
    },
    {
     "name": "stdout",
     "output_type": "stream",
     "text": [
      "Epoch 12 : 34.7577931377905 (-4%)\n"
     ]
    },
    {
     "name": "stderr",
     "output_type": "stream",
     "text": [
      "227it [00:50,  4.48it/s]\n"
     ]
    },
    {
     "name": "stdout",
     "output_type": "stream",
     "text": [
      "Epoch 13 : 33.41608024426957 (-4%)\n"
     ]
    },
    {
     "name": "stderr",
     "output_type": "stream",
     "text": [
      "227it [00:50,  4.52it/s]\n"
     ]
    },
    {
     "name": "stdout",
     "output_type": "stream",
     "text": [
      "Epoch 14 : 32.15495677277292 (-4%)\n"
     ]
    },
    {
     "name": "stderr",
     "output_type": "stream",
     "text": [
      "227it [00:51,  4.43it/s]\n"
     ]
    },
    {
     "name": "stdout",
     "output_type": "stream",
     "text": [
      "Epoch 15 : 30.930379269653418 (-4%)\n"
     ]
    },
    {
     "name": "stderr",
     "output_type": "stream",
     "text": [
      "227it [00:52,  4.33it/s]\n"
     ]
    },
    {
     "name": "stdout",
     "output_type": "stream",
     "text": [
      "Epoch 16 : 29.694658932827743 (-4%)\n"
     ]
    },
    {
     "name": "stderr",
     "output_type": "stream",
     "text": [
      "227it [00:50,  4.50it/s]\n"
     ]
    },
    {
     "name": "stdout",
     "output_type": "stream",
     "text": [
      "Epoch 17 : 28.55539779844609 (-4%)\n"
     ]
    },
    {
     "name": "stderr",
     "output_type": "stream",
     "text": [
      "227it [00:50,  4.51it/s]\n"
     ]
    },
    {
     "name": "stdout",
     "output_type": "stream",
     "text": [
      "Epoch 18 : 27.401603305435618 (-4%)\n"
     ]
    },
    {
     "name": "stderr",
     "output_type": "stream",
     "text": [
      "227it [00:51,  4.44it/s]\n"
     ]
    },
    {
     "name": "stdout",
     "output_type": "stream",
     "text": [
      "Epoch 19 : 26.269032323743946 (-4%)\n"
     ]
    },
    {
     "name": "stderr",
     "output_type": "stream",
     "text": [
      "227it [00:50,  4.47it/s]\n"
     ]
    },
    {
     "name": "stdout",
     "output_type": "stream",
     "text": [
      "Epoch 20 : 25.141374624777214 (-4%)\n"
     ]
    },
    {
     "name": "stderr",
     "output_type": "stream",
     "text": [
      "227it [00:50,  4.49it/s]\n"
     ]
    },
    {
     "name": "stdout",
     "output_type": "stream",
     "text": [
      "Epoch 21 : 24.02271488129584 (-4%)\n"
     ]
    },
    {
     "name": "stderr",
     "output_type": "stream",
     "text": [
      "227it [00:51,  4.44it/s]\n"
     ]
    },
    {
     "name": "stdout",
     "output_type": "stream",
     "text": [
      "Epoch 22 : 22.95011139836773 (-4%)\n"
     ]
    },
    {
     "name": "stderr",
     "output_type": "stream",
     "text": [
      "227it [00:52,  4.36it/s]\n"
     ]
    },
    {
     "name": "stdout",
     "output_type": "stream",
     "text": [
      "Epoch 23 : 21.848549378213782 (-5%)\n"
     ]
    },
    {
     "name": "stderr",
     "output_type": "stream",
     "text": [
      "227it [00:52,  4.35it/s]\n"
     ]
    },
    {
     "name": "stdout",
     "output_type": "stream",
     "text": [
      "Epoch 24 : 20.73871651246941 (-5%)\n"
     ]
    },
    {
     "name": "stderr",
     "output_type": "stream",
     "text": [
      "227it [00:52,  4.32it/s]\n"
     ]
    },
    {
     "name": "stdout",
     "output_type": "stream",
     "text": [
      "Epoch 25 : 19.7008150926167 (-5%)\n"
     ]
    },
    {
     "name": "stderr",
     "output_type": "stream",
     "text": [
      "227it [00:52,  4.32it/s]\n"
     ]
    },
    {
     "name": "stdout",
     "output_type": "stream",
     "text": [
      "Epoch 26 : 18.709967625880612 (-5%)\n"
     ]
    },
    {
     "name": "stderr",
     "output_type": "stream",
     "text": [
      "227it [00:52,  4.34it/s]\n"
     ]
    },
    {
     "name": "stdout",
     "output_type": "stream",
     "text": [
      "Epoch 27 : 17.702549904495484 (-5%)\n"
     ]
    },
    {
     "name": "stderr",
     "output_type": "stream",
     "text": [
      "227it [00:53,  4.21it/s]\n"
     ]
    },
    {
     "name": "stdout",
     "output_type": "stream",
     "text": [
      "Epoch 28 : 16.71284915198909 (-6%)\n"
     ]
    },
    {
     "name": "stderr",
     "output_type": "stream",
     "text": [
      "227it [00:52,  4.29it/s]\n"
     ]
    },
    {
     "name": "stdout",
     "output_type": "stream",
     "text": [
      "Epoch 29 : 15.782287183052425 (-6%)\n"
     ]
    },
    {
     "name": "stderr",
     "output_type": "stream",
     "text": [
      "227it [00:54,  4.19it/s]"
     ]
    },
    {
     "name": "stdout",
     "output_type": "stream",
     "text": [
      "Epoch 30 : 14.864955731759515 (-6%)\n"
     ]
    },
    {
     "name": "stderr",
     "output_type": "stream",
     "text": [
      "\n"
     ]
    }
   ],
   "source": [
    "training_loss = trainer.run(\n",
    "    train_loader,\n",
    "    model,\n",
    "    optimizer,\n",
    "    criterion,\n",
    "    scheduler,\n",
    "    # scaler=scaler,\n",
    "    recorder=recorder,\n",
    ")"
   ]
  },
  {
   "cell_type": "code",
   "execution_count": 149,
   "metadata": {},
   "outputs": [],
   "source": [
    "# plain, 4, bi\n",
    "if model.head.neck is None:\n",
    "    plt.plot(training_loss)"
   ]
  },
  {
   "cell_type": "code",
   "execution_count": 150,
   "metadata": {},
   "outputs": [],
   "source": [
    "# Bahdanau, 4, bi\n",
    "if model.head.neck is not None and isinstance(model.head.neck, BahdanauAttention):\n",
    "    plt.plot(training_loss)"
   ]
  },
  {
   "cell_type": "code",
   "execution_count": 151,
   "metadata": {},
   "outputs": [],
   "source": [
    "# global, 4, bi\n",
    "if model.head.neck is not None and isinstance(model.head.neck, GlobalAttention):\n",
    "    plt.plot(training_loss)"
   ]
  },
  {
   "cell_type": "code",
   "execution_count": 152,
   "metadata": {},
   "outputs": [
    {
     "data": {
      "image/png": "[encoded data removed]",
      "text/plain": [
       "<Figure size 640x480 with 1 Axes>"
      ]
     },
     "metadata": {},
     "output_type": "display_data"
    }
   ],
   "source": [
    "# local, 4, bi\n",
    "if model.head.neck is not None and isinstance(model.head.neck, LocalAttention):\n",
    "    plt.plot(training_loss)"
   ]
  },
  {
   "cell_type": "markdown",
   "metadata": {},
   "source": [
    "# Save"
   ]
  },
  {
   "cell_type": "code",
   "execution_count": 153,
   "metadata": {},
   "outputs": [],
   "source": [
    "from torchlake.common.controller.weight_manager import WeightManager"
   ]
  },
  {
   "cell_type": "code",
   "execution_count": 154,
   "metadata": {},
   "outputs": [],
   "source": [
    "manager = WeightManager(artifacts_path.joinpath(\"seq2seq.{attention}.{bidirectional}.{num_layer}.pth\").as_posix())"
   ]
  },
  {
   "cell_type": "code",
   "execution_count": 155,
   "metadata": {},
   "outputs": [
    {
     "data": {
      "text/plain": [
       "WindowsPath('../../artifacts/seq2seq/seq2seq.local.bi.4.pth')"
      ]
     },
     "execution_count": 155,
     "metadata": {},
     "output_type": "execute_result"
    }
   ],
   "source": [
    "attention_name = \"plain\"\n",
    "if model.head.neck is not None:\n",
    "    if isinstance(model.head.neck, GlobalAttention):\n",
    "        attention_name = \"global\"\n",
    "    elif isinstance(model.head.neck, LocalAttention):\n",
    "        attention_name = \"local\"\n",
    "    elif isinstance(model.head.neck, BahdanauAttention):\n",
    "        attention_name = \"bahdanau\"\n",
    "\n",
    "\n",
    "model_path = manager.get_filename(\n",
    "    attention=attention_name,\n",
    "    bidirectional=\"bi\" if model.head.head.factor == 2 else \"uni\",\n",
    "    num_layer=model.head.head.num_layers,\n",
    ")\n",
    "model_path"
   ]
  },
  {
   "cell_type": "code",
   "execution_count": 156,
   "metadata": {},
   "outputs": [
    {
     "name": "stdout",
     "output_type": "stream",
     "text": [
      "Save weight to ..\\..\\artifacts\\seq2seq\\seq2seq.local.bi.4.pth, model size is 74.4MiB\n"
     ]
    }
   ],
   "source": [
    "manager.save_weight(model.state_dict(), model_path)"
   ]
  },
  {
   "cell_type": "code",
   "execution_count": 157,
   "metadata": {},
   "outputs": [],
   "source": [
    "manager.load_weight(model_path, model)"
   ]
  },
  {
   "cell_type": "markdown",
   "metadata": {},
   "source": [
    "# Evaluate"
   ]
  },
  {
   "cell_type": "markdown",
   "metadata": {},
   "source": [
    "## bleu"
   ]
  },
  {
   "cell_type": "code",
   "execution_count": 158,
   "metadata": {},
   "outputs": [],
   "source": [
    "from torchmetrics.text import BLEUScore"
   ]
  },
  {
   "cell_type": "code",
   "execution_count": 159,
   "metadata": {},
   "outputs": [],
   "source": [
    "metric = BLEUScore()"
   ]
  },
  {
   "cell_type": "code",
   "execution_count": 160,
   "metadata": {},
   "outputs": [
    {
     "name": "stderr",
     "output_type": "stream",
     "text": [
      "32it [00:07,  4.51it/s]\n"
     ]
    }
   ],
   "source": [
    "model.eval()\n",
    "with torch.no_grad():\n",
    "    for source_sentence, target_sentence in tqdm(test_loader):\n",
    "        text = source_sentence.to(DEVICE)\n",
    "        label = target_sentence.to(DEVICE)\n",
    "\n",
    "        output = model.predict(text, topk=1)\n",
    "        \n",
    "        preds = []\n",
    "        for o in output.tolist():\n",
    "            translated = vocabs[TRG_LANGUAGE].lookup_tokens(o)\n",
    "            try:\n",
    "                start_idx, end_idx = translated.index(CONTEXT.bos_str), translated.index(CONTEXT.eos_str)\n",
    "            except:\n",
    "                start_idx, end_idx = 0, -1\n",
    "            preds.append(\" \".join(translated[start_idx+1 : end_idx]))\n",
    "            \n",
    "        labels = []\n",
    "        for l in label.tolist():\n",
    "            translated = vocabs[TRG_LANGUAGE].lookup_tokens(l)\n",
    "            start_idx, end_idx = translated.index(CONTEXT.bos_str), translated.index(CONTEXT.eos_str)\n",
    "            labels.append([\" \".join(translated[start_idx+1 : end_idx])])\n",
    "        \n",
    "        metric.update(preds, labels)"
   ]
  },
  {
   "cell_type": "code",
   "execution_count": null,
   "metadata": {},
   "outputs": [
    {
     "data": {
      "text/plain": [
       "tensor(0.2145)"
      ]
     },
     "execution_count": 161,
     "metadata": {},
     "output_type": "execute_result"
    }
   ],
   "source": [
    "# plain, 4, bi: 0.2126\n",
    "# badanau, 4, bi: 0.22\n",
    "# global, 4, bi: 0.2062\n",
    "# local, 4, bi: 0.2145\n",
    "metric.compute()"
   ]
  },
  {
   "cell_type": "markdown",
   "metadata": {},
   "source": [
    "## predict"
   ]
  },
  {
   "cell_type": "code",
   "execution_count": 163,
   "metadata": {},
   "outputs": [
    {
     "name": "stderr",
     "output_type": "stream",
     "text": [
      "0it [00:00, ?it/s]"
     ]
    },
    {
     "name": "stdout",
     "output_type": "stream",
     "text": [
      "text: Zwei Männer beobachten einen anderen , während dieser am nassen Zement <unk> Hand <unk> .\n",
      "label: Two men are observing another as he puts the finishing touches on wet cement .\n",
      "pred: Two men look as another another looks out on a bucket of water behind their <unk> .\n",
      "--------------------------\n",
      "text: Ein Mädchen mit einem weißen Trikot , schwarzen Shorts und einem Stirnband spielt Volleyball .\n",
      "label: A girl wearing a white shirt , black shorts , and a headband is playing volleyball .\n",
      "pred: Young girl with white hair , white shorts , and a skirt is playing tennis .\n",
      "--------------------------\n",
      "text: <unk> <unk> auf Grün , während die Menschen sich Motorräder ansehen .\n",
      "label: Green traffic <unk> light up as people look at motorcycles .\n",
      "pred: <unk> on the <unk> of people to people on the street .\n",
      "--------------------------\n",
      "text: Ein Mann mit einem großen Hut im <unk> .\n",
      "label: A man with a large hat in the bushes .\n",
      "pred: A man with a large hat in in his <unk> .\n",
      "--------------------------\n",
      "text: Ein Mann in der Ferne bei einem <unk> Tempel .\n",
      "label: A man off in the distance by a <unk> temple .\n",
      "pred: A man in the distance during a <unk> <unk> .\n",
      "--------------------------\n",
      "text: Eine Frau in weißen Shorts , gelbem Oberteil und weißen Sandalen scheint einen Stock zu werfen .\n",
      "label: A woman who is wearing white shorts , yellow top and white sandals appears to be throwing a stick .\n",
      "pred: A woman , dressed in white white , white , and shorts , is throwing a <unk> of water on .\n",
      "--------------------------\n",
      "text: Vier Frauen haben sich mit <unk> Kostümen verkleidet .\n",
      "label: Four women dressed up in funny costumes .\n",
      "pred: Four women are in a <unk> wearing colorful costumes .\n",
      "--------------------------\n",
      "text: Drei ältere Frauen in einem <unk> geschmückten Wohnzimmer , im <unk> der Aufmerksamkeit steht ein <unk> .\n",
      "label: Three older women in a living room , decorated for Christmas , a \" <unk> \" notebook is the center of attention .\n",
      "pred: Three older women in a <unk> <unk> - dress dress , have a nap in the same nearby .\n",
      "--------------------------\n",
      "text: Junge Frauen und Kinder in einem Dorf , wobei eine einzelne Frau in die Kamera blickt .\n",
      "label: Young women and children in a village , with a single woman focused on the camera .\n",
      "pred: Young children and a woman in a dress smiling at the camera while smiling .\n",
      "--------------------------\n",
      "text: Ein <unk> weißer Hund springt hoch , um eine kleine Frisbeescheibe aus Stoff zu fangen .\n",
      "label: A medium sized white dog is jumping up to catch a small cloth Frisbee .\n",
      "pred: A white and white dog jumping jumping to catch a small small of sand .\n",
      "--------------------------\n",
      "text: Ein Junge in einem Kapuzenpullover wirft einen Gegenstand in einen schmutzigen Swimmingpool .\n",
      "label: A boy in a hoodie is throwing an object into a dirty swimming pool .\n",
      "pred: A boy in a gray pool throwing a wooden object in a backyard .\n",
      "--------------------------\n",
      "text: Ein Junge in einem roten T-Shirt versucht , Gitarre zu spielen .\n",
      "label: A boy in a red shirt trying to play a guitar .\n",
      "pred: A boy in a red <unk> - shirt is to play the guitar .\n",
      "--------------------------\n",
      "text: Eine <unk> junge Frau und ein älterer Mann stehen an einer Bar .\n",
      "label: A <unk> young woman and an older man stand by a bar .\n",
      "pred: A young young lady and and young man stand at a street .\n",
      "--------------------------\n",
      "text: Ein Mädchen in einem schwarzen <unk> mit <unk> scheint zu tanzen und ist dabei von mehreren anderen Menschen umgeben .\n",
      "label: A girl in a black tank with cargo shorts to what appears to be dancing with several people around .\n",
      "pred: A girl with a black <unk> - like print with many <unk> , others are surrounded by other people .\n",
      "--------------------------\n",
      "text: Ein kleiner Junge und ein Mädchen lachen miteinander , während das Mädchen ein <unk> macht .\n",
      "label: A young boy and girl are laughing together as the girl holds up a hand sign .\n",
      "pred: A young boy and girl are laughing while a girl is <unk> the ball .\n",
      "--------------------------\n",
      "text: Ein Mann fotografiert einen See mit Bergen im Hintergrund .\n",
      "label: A man takes a photograph of a lake with mountains in the background .\n",
      "pred: A man takes a picture with a lake in the background .\n",
      "--------------------------\n",
      "text: Ein bunt gekleideter <unk> reitet auf einem Stier\n",
      "label: A <unk> in a colorful outfit is riding a bull\n",
      "pred: A man dressed in <unk> rides a horse .\n",
      "--------------------------\n",
      "text: Da ist ein Café an einer Straßenecke mit einer <unk> <unk> am <unk> des Gebäudes .\n",
      "label: There is a cafe on a street corner with an <unk> painting on the corner of its building .\n",
      "pred: A police officer is being <unk> on a corner with the <unk> <unk> on the building of a building .\n",
      "--------------------------\n",
      "text: Eine Frau und ein Kind reiten auf Kamelen am Meer .\n",
      "label: A woman and child riding camels near the ocean .\n",
      "pred: A woman and child are on the edge of the ocean .\n",
      "--------------------------\n",
      "text: Ein brauner Hund rennt mit einem Stock im Maul über den Sand .\n",
      "label: A brown dog runs on the sand carrying a stick .\n",
      "pred: A brown dog runs through the grass with a stick in its mouth .\n",
      "--------------------------\n",
      "text: Ein Mann mit einem Hut spielt am <unk> für Geld auf einem ungewöhnlichen Instrument .\n",
      "label: A man in a hat plays an unusual instrument for cash next to the <unk> <unk> .\n",
      "pred: A man in a hat plays the <unk> at an outdoor grill of an audience .\n",
      "--------------------------\n",
      "text: Ein Kind kommt mit dem Snowboard zum Stehen\n",
      "label: A child snowboarder coming to a stop\n",
      "pred: A child about to go down .\n",
      "--------------------------\n",
      "text: Ein Mann in einem Mantel telefoniert auf der Straße .\n",
      "label: A man in a coat talking on his phone on the street .\n",
      "pred: A man in a coat is talking on the street .\n",
      "--------------------------\n",
      "text: Ein Mann in einem <unk> weißen Hemd blickt der Frau in die Augen , während er sie am Rücken ihres <unk> <unk> hält .\n",
      "label: A man in a <unk> white shirt gazes into the woman <unk> eyes while holding on to the back of her black and pink dress .\n",
      "pred: A man in a white <unk> - shirt looking the woman as he holds his hands as he <unk> his hands in the back of a street .\n",
      "--------------------------\n",
      "text: Der <unk> eines <unk> nimmt Geld von zwei <unk> <unk> entgegen .\n",
      "label: A carnival game <unk> takes the money of two <unk> <unk> .\n",
      "pred: The front side of a <unk> being pulled by two three <unk> .\n",
      "--------------------------\n",
      "text: <unk> stehen oben an einer <unk> , die auf ein großes Schiff führt .\n",
      "label: <unk> stand at the top of a <unk> to a large boat .\n",
      "pred: <unk> on the top of a mountain that is a large yellow <unk> .\n",
      "--------------------------\n",
      "text: Der Mann telefoniert vor einem <unk> mit seinem Handy .\n",
      "label: The man is talking on his cellphone in front of a sports store .\n",
      "pred: The man on a cellphone is talking in front of a <unk> machine .\n",
      "--------------------------\n",
      "text: Eine <unk> steht hinter einer Theke voll mit Kuchen .\n",
      "label: A <unk> stands behind a counter full of <unk> .\n",
      "pred: A female of women is behind a table full of food .\n",
      "--------------------------\n",
      "text: Straßenverkäufer <unk> Waren auf dem Tisch zurecht .\n",
      "label: Street vendor <unk> merchandise on the table .\n",
      "pred: <unk> <unk> the of a table on the street .\n",
      "--------------------------\n",
      "text: Drei Männer stehen in der Nähe einiger Motorräder um einen Wagen .\n",
      "label: Three men stand around a cart near some motorcycles .\n",
      "pred: Three men stand outside near a cart that are coming through a .\n",
      "--------------------------\n",
      "text: Ein barfüßiger Junge mit einem <unk> gestreiften Handtuch steht am Strand .\n",
      "label: A barefoot boy with a blue and white striped towel is standing on the beach .\n",
      "pred: A young boy wearing a <unk> - <unk> red suit is standing on the beach .\n",
      "--------------------------\n",
      "text: Eine Braut und ein Bräutigam machen Fotos , während in der Nähe zwei Männer stehen .\n",
      "label: A bride and groom are taking pictures while two men stand nearby .\n",
      "pred: A bride and groom are having a conversation with two people watching .\n",
      "--------------------------\n"
     ]
    },
    {
     "name": "stderr",
     "output_type": "stream",
     "text": [
      "\n"
     ]
    }
   ],
   "source": [
    "model.eval()\n",
    "with torch.no_grad():\n",
    "    for source_sentence, target_sentence in tqdm(test_loader):\n",
    "        text = source_sentence.to(DEVICE)\n",
    "        label = target_sentence.to(DEVICE)\n",
    "\n",
    "        output = model.predict(text, topk=1)\n",
    "        \n",
    "        preds = []\n",
    "        for o in output.tolist():\n",
    "            translated = vocabs[TRG_LANGUAGE].lookup_tokens(o)\n",
    "            start_idx, end_idx = translated.index(CONTEXT.bos_str), translated.index(CONTEXT.eos_str)\n",
    "            preds.append(\" \".join(translated[start_idx+1 : end_idx]))\n",
    "\n",
    "        texts = []\n",
    "        for t in text.tolist():\n",
    "            translated = vocabs[SRC_LANGUAGE].lookup_tokens(t)\n",
    "            start_idx, end_idx = translated.index(CONTEXT.bos_str), translated.index(CONTEXT.eos_str)\n",
    "            texts.append(\" \".join(translated[start_idx+1 : end_idx]))\n",
    "\n",
    "            \n",
    "        labels = []\n",
    "        for l in label.tolist():\n",
    "            translated = vocabs[TRG_LANGUAGE].lookup_tokens(l)\n",
    "            start_idx, end_idx = translated.index(CONTEXT.bos_str), translated.index(CONTEXT.eos_str)\n",
    "            labels.append(\" \".join(translated[start_idx+1 : end_idx]))\n",
    "        \n",
    "        for text, label, pred in zip(texts, labels, preds):\n",
    "            print(\"text:\", text)\n",
    "            print(\"label:\", label)\n",
    "            print(\"pred:\", pred)\n",
    "            print(\"--------------------------\")\n",
    "            \n",
    "        break"
   ]
  },
  {
   "cell_type": "markdown",
   "metadata": {},
   "source": [
    "# debug"
   ]
  },
  {
   "cell_type": "code",
   "execution_count": 44,
   "metadata": {},
   "outputs": [
    {
     "data": {
      "text/plain": [
       "[<matplotlib.lines.Line2D at 0x1dc7bcec210>]"
      ]
     },
     "execution_count": 44,
     "metadata": {},
     "output_type": "execute_result"
    },
    {
     "data": {
      "image/png": "[encoded data removed]",
      "text/plain": [
       "<Figure size 640x480 with 1 Axes>"
      ]
     },
     "metadata": {},
     "output_type": "display_data"
    }
   ],
   "source": [
    "trainer = Seq2SeqTrainer(EPOCH, DEVICE, feature_last=True)\n",
    "trainer.set_curriculum_strategy(\"inverse_sigmoid\", k=10)\n",
    "\n",
    "ratios = []\n",
    "for t in range(100):\n",
    "    trainer.recorder.current_epoch = t\n",
    "    ratios.append(trainer.teacher_forcing_raio)\n",
    "\n",
    "plt.plot(ratios)"
   ]
  }
 ],
 "metadata": {
  "kernelspec": {
   "display_name": ".venv",
   "language": "python",
   "name": "python3"
  },
  "language_info": {
   "codemirror_mode": {
    "name": "ipython",
    "version": 3
   },
   "file_extension": ".py",
   "mimetype": "text/x-python",
   "name": "python",
   "nbconvert_exporter": "python",
   "pygments_lexer": "ipython3",
   "version": "3.11.4"
  }
 },
 "nbformat": 4,
 "nbformat_minor": 2
}
