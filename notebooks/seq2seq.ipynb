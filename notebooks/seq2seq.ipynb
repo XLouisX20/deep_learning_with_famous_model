{
 "cells": [
  {
   "cell_type": "code",
   "execution_count": 1,
   "metadata": {},
   "outputs": [],
   "source": [
    "from pathlib import Path\n",
    "\n",
    "import matplotlib.pyplot as plt\n",
    "import torch\n",
    "import torchinfo\n",
    "import torchtext.transforms as T\n",
    "from torch import nn\n",
    "from torch.utils.data import DataLoader\n",
    "from torchlake.common.schemas import NlpContext\n",
    "from torchlake.common.utils.platform import get_num_workers\n",
    "from torchlake.common.utils.text import build_vocab\n",
    "from torchlake.sequence_data.models import (Seq2Seq, Seq2SeqAttentionEncoder,\n",
    "                                            Seq2SeqDecoder, Seq2SeqEncoder)\n",
    "from torchlake.sequence_data.models.seq2seq.network import (GlobalAttention,\n",
    "                                                            LocalAttention)\n",
    "from torchtext.data.utils import get_tokenizer\n",
    "from torchtext.datasets import Multi30k\n",
    "from tqdm import tqdm"
   ]
  },
  {
   "cell_type": "markdown",
   "metadata": {},
   "source": [
    "To utilize this notebook, you have to install `spacy` and download `de_core_news_sm` and `en_core_web_sm` first"
   ]
  },
  {
   "cell_type": "markdown",
   "metadata": {},
   "source": [
    "# setting"
   ]
  },
  {
   "cell_type": "code",
   "execution_count": 2,
   "metadata": {},
   "outputs": [],
   "source": [
    "data_path = Path(\"../../data/multi30k\")\n",
    "artifacts_path = Path(\"../../artifacts/seq2seq\")"
   ]
  },
  {
   "cell_type": "code",
   "execution_count": 3,
   "metadata": {},
   "outputs": [],
   "source": [
    "BATCH_SIZE = 64\n",
    "context = NlpContext()"
   ]
  },
  {
   "cell_type": "code",
   "execution_count": 4,
   "metadata": {},
   "outputs": [],
   "source": [
    "device = torch.device(context.device)"
   ]
  },
  {
   "cell_type": "markdown",
   "metadata": {},
   "source": [
    "# data"
   ]
  },
  {
   "cell_type": "code",
   "execution_count": 5,
   "metadata": {},
   "outputs": [],
   "source": [
    "SRC_LANGUAGE = 'de'\n",
    "TRG_LANGUAGE = 'en'"
   ]
  },
  {
   "cell_type": "code",
   "execution_count": 6,
   "metadata": {},
   "outputs": [
    {
     "name": "stderr",
     "output_type": "stream",
     "text": [
      "/opt/conda/lib/python3.10/site-packages/torchtext/data/utils.py:105: UserWarning: Spacy model \"de\" could not be loaded, trying \"de_core_news_sm\" instead\n",
      "  warnings.warn(\n",
      "/opt/conda/lib/python3.10/site-packages/torchtext/data/utils.py:105: UserWarning: Spacy model \"en\" could not be loaded, trying \"en_core_web_sm\" instead\n",
      "  warnings.warn(\n"
     ]
    }
   ],
   "source": [
    "tokenizers = {\n",
    "    SRC_LANGUAGE: get_tokenizer('spacy', language=SRC_LANGUAGE), # de_core_news_sm\n",
    "    TRG_LANGUAGE: get_tokenizer('spacy', language=TRG_LANGUAGE)  # en_web_core_sm\n",
    "}"
   ]
  },
  {
   "cell_type": "code",
   "execution_count": 7,
   "metadata": {},
   "outputs": [],
   "source": [
    "train_iter, val_iter, test_iter = Multi30k(\n",
    "    data_path.as_posix(),\n",
    "    language_pair=(SRC_LANGUAGE, TRG_LANGUAGE),\n",
    ")"
   ]
  },
  {
   "cell_type": "code",
   "execution_count": 8,
   "metadata": {},
   "outputs": [
    {
     "name": "stderr",
     "output_type": "stream",
     "text": [
      "/opt/conda/lib/python3.10/site-packages/torch/utils/data/datapipes/iter/combining.py:337: UserWarning: Some child DataPipes are not exhausted when __iter__ is called. We are resetting the buffer and each child DataPipe will read from the start again.\n",
      "  warnings.warn(\"Some child DataPipes are not exhausted when __iter__ is called. We are resetting \"\n"
     ]
    }
   ],
   "source": [
    "vocabs = {\n",
    "    SRC_LANGUAGE: build_vocab(map(lambda x: tokenizers[SRC_LANGUAGE](x[0]), train_iter), context),\n",
    "    TRG_LANGUAGE: build_vocab(map(lambda x: tokenizers[SRC_LANGUAGE](x[1]), train_iter), context),\n",
    "}"
   ]
  },
  {
   "cell_type": "code",
   "execution_count": 9,
   "metadata": {},
   "outputs": [],
   "source": [
    "vocab_sizes = {\n",
    "    SRC_LANGUAGE: len(vocabs[SRC_LANGUAGE]),\n",
    "    TRG_LANGUAGE: len(vocabs[TRG_LANGUAGE]),\n",
    "}"
   ]
  },
  {
   "cell_type": "code",
   "execution_count": 10,
   "metadata": {},
   "outputs": [],
   "source": [
    "src_transform = T.Sequential(\n",
    "    T.VocabTransform(vocabs[SRC_LANGUAGE]),\n",
    "    T.Truncate(context.max_seq_len - 2),\n",
    "    T.AddToken(token=context.bos_idx, begin=True),\n",
    "    T.AddToken(token=context.eos_idx, begin=False),\n",
    "    T.ToTensor(),\n",
    "    T.PadTransform(context.max_seq_len, context.padding_idx),\n",
    ")\n",
    "\n",
    "trg_transform = T.Sequential(\n",
    "    T.VocabTransform(vocabs[TRG_LANGUAGE]),\n",
    "    T.Truncate(context.max_seq_len - 2),\n",
    "    T.AddToken(token=context.bos_idx, begin=True),\n",
    "    T.AddToken(token=context.eos_idx, begin=False),\n",
    "    T.ToTensor(),\n",
    "    T.PadTransform(context.max_seq_len, context.padding_idx),\n",
    ")"
   ]
  },
  {
   "cell_type": "code",
   "execution_count": 11,
   "metadata": {},
   "outputs": [],
   "source": [
    "def collate_fn(batch):\n",
    "    src_batch, tgt_batch = [], []\n",
    "\n",
    "    for src_sample, trg_sample in batch:\n",
    "        # paper p.2: reverse source sentence\n",
    "        src_sample = src_sample[::-1]\n",
    "        \n",
    "        src_tokenizer  = tokenizers[SRC_LANGUAGE]\n",
    "        src_batch.append(src_transform(src_tokenizer(src_sample.rstrip(\"\\n\"))))\n",
    "        \n",
    "        trg_tokenizer  = tokenizers[TRG_LANGUAGE]\n",
    "        tgt_batch.append(trg_transform(trg_tokenizer(trg_sample.rstrip(\"\\n\"))))\n",
    "\n",
    "    return torch.stack(src_batch), torch.stack(tgt_batch)"
   ]
  },
  {
   "cell_type": "code",
   "execution_count": 12,
   "metadata": {},
   "outputs": [],
   "source": [
    "NUM_WORKERS = get_num_workers()"
   ]
  },
  {
   "cell_type": "code",
   "execution_count": 13,
   "metadata": {},
   "outputs": [],
   "source": [
    "train_loader = DataLoader(\n",
    "    train_iter,\n",
    "    batch_size=BATCH_SIZE,\n",
    "    collate_fn=collate_fn,\n",
    "    num_workers=NUM_WORKERS,\n",
    ")\n",
    "\n",
    "test_loader = DataLoader(\n",
    "    val_iter,\n",
    "    batch_size=BATCH_SIZE,\n",
    "    collate_fn=collate_fn,\n",
    "    num_workers=NUM_WORKERS,\n",
    ")"
   ]
  },
  {
   "cell_type": "code",
   "execution_count": 14,
   "metadata": {},
   "outputs": [
    {
     "name": "stdout",
     "output_type": "stream",
     "text": [
      "torch.Size([64, 256]) torch.Size([64, 256])\n"
     ]
    }
   ],
   "source": [
    "for src, trg in train_loader:\n",
    "    print(src.shape, trg.shape)\n",
    "    break"
   ]
  },
  {
   "cell_type": "markdown",
   "metadata": {},
   "source": [
    "# Model"
   ]
  },
  {
   "cell_type": "code",
   "execution_count": 15,
   "metadata": {},
   "outputs": [],
   "source": [
    "NUM_LAYERS = 1\n",
    "BIDIRECTIONAL = True\n",
    "\n",
    "# encoder = Seq2SeqEncoder(\n",
    "#     vocab_sizes[SRC_LANGUAGE],\n",
    "#     128,\n",
    "#     128,\n",
    "#     num_layers=NUM_LAYERS,\n",
    "#     bidirectional=BIDIRECTIONAL,\n",
    "#     context=context,\n",
    "# )\n",
    "\n",
    "encoder = Seq2SeqAttentionEncoder(\n",
    "    vocab_sizes[SRC_LANGUAGE],\n",
    "    128,\n",
    "    128,\n",
    "    num_layers=NUM_LAYERS,\n",
    "    bidirectional=BIDIRECTIONAL,\n",
    "    context=context,\n",
    ")\n",
    "\n",
    "decoder = Seq2SeqDecoder(\n",
    "    vocab_sizes[TRG_LANGUAGE],\n",
    "    128,\n",
    "    128,\n",
    "    output_size=vocab_sizes[TRG_LANGUAGE],\n",
    "    num_layers=NUM_LAYERS,\n",
    "    bidirectional=BIDIRECTIONAL,\n",
    "    context=context,\n",
    ")\n",
    "\n",
    "# attention = None \n",
    "# attention = GlobalAttention(128, num_layers=NUM_LAYERS, bidirectional=BIDIRECTIONAL)\n",
    "attention = LocalAttention(128, num_layers=NUM_LAYERS, bidirectional=BIDIRECTIONAL)\n",
    "\n",
    "model = Seq2Seq(encoder, decoder, attention, context=context).to(device)"
   ]
  },
  {
   "cell_type": "code",
   "execution_count": 16,
   "metadata": {},
   "outputs": [
    {
     "data": {
      "text/plain": [
       "=================================================================\n",
       "Layer (type:depth-idx)                   Param #\n",
       "=================================================================\n",
       "Seq2Seq                                  --\n",
       "├─Seq2SeqEncoder: 1-1                    --\n",
       "│    └─LstmClassifier: 2-1               --\n",
       "│    │    └─Embedding: 3-1               464,640\n",
       "│    │    └─LSTM: 3-2                    1,449,984\n",
       "│    │    └─LayerNorm: 3-3               512\n",
       "├─Seq2SeqDecoder: 1-2                    --\n",
       "│    └─LstmClassifier: 2-2               --\n",
       "│    │    └─Embedding: 3-4               430,720\n",
       "│    │    └─LSTM: 3-5                    1,449,984\n",
       "│    │    └─LayerNorm: 3-6               512\n",
       "│    │    └─Linear: 3-7                  864,805\n",
       "=================================================================\n",
       "Total params: 4,661,157\n",
       "Trainable params: 4,661,157\n",
       "Non-trainable params: 0\n",
       "================================================================="
      ]
     },
     "execution_count": 16,
     "metadata": {},
     "output_type": "execute_result"
    }
   ],
   "source": [
    "torchinfo.summary(model)"
   ]
  },
  {
   "cell_type": "markdown",
   "metadata": {},
   "source": [
    "# Training"
   ]
  },
  {
   "cell_type": "code",
   "execution_count": 17,
   "metadata": {},
   "outputs": [],
   "source": [
    "criterion = nn.CrossEntropyLoss(ignore_index = context.padding_idx)\n",
    "optimizer = torch.optim.Adam(model.parameters())"
   ]
  },
  {
   "cell_type": "code",
   "execution_count": 18,
   "metadata": {},
   "outputs": [],
   "source": [
    "epoches = 10"
   ]
  },
  {
   "cell_type": "code",
   "execution_count": null,
   "metadata": {},
   "outputs": [],
   "source": [
    "model.train()\n",
    "training_loss = []\n",
    "for e in range(epoches):\n",
    "    running_loss = 0.0\n",
    "    data_count = 0\n",
    "    \n",
    "    for source_sentence, target_sentence in tqdm(train_loader):\n",
    "        data_count += len(source_sentence)\n",
    "        optimizer.zero_grad()\n",
    "\n",
    "        text = source_sentence.to(device)\n",
    "        label = target_sentence.to(device)\n",
    "\n",
    "        output = model.loss_forward(text, label)\n",
    "        loss = criterion(output.transpose(-1, -2), label)\n",
    "        running_loss += loss.item()\n",
    "\n",
    "        loss.backward()\n",
    "        optimizer.step()\n",
    "\n",
    "    mean_loss = running_loss / data_count\n",
    "    training_loss.append(mean_loss)\n",
    "    print(f\"epoch {e+1} : {mean_loss}\")"
   ]
  },
  {
   "cell_type": "code",
   "execution_count": 20,
   "metadata": {},
   "outputs": [
    {
     "data": {
      "text/plain": [
       "[<matplotlib.lines.Line2D at 0x26d253f9b90>]"
      ]
     },
     "execution_count": 20,
     "metadata": {},
     "output_type": "execute_result"
    },
    {
     "data": {
      "image/png": "[encoded data removed]",
      "text/plain": [
       "<Figure size 640x480 with 1 Axes>"
      ]
     },
     "metadata": {},
     "output_type": "display_data"
    }
   ],
   "source": [
    "# plain, 4, bi\n",
    "plt.plot(training_loss)"
   ]
  },
  {
   "cell_type": "code",
   "execution_count": 20,
   "metadata": {},
   "outputs": [
    {
     "data": {
      "text/plain": [
       "[<matplotlib.lines.Line2D at 0x242dc9ee510>]"
      ]
     },
     "execution_count": 20,
     "metadata": {},
     "output_type": "execute_result"
    },
    {
     "data": {
      "image/png": "[encoded data removed]",
      "text/plain": [
       "<Figure size 640x480 with 1 Axes>"
      ]
     },
     "metadata": {},
     "output_type": "display_data"
    }
   ],
   "source": [
    "# local, 1, uni\n",
    "plt.plot(training_loss)"
   ]
  },
  {
   "cell_type": "markdown",
   "metadata": {},
   "source": [
    "# Evaluate"
   ]
  },
  {
   "cell_type": "code",
   "execution_count": 21,
   "metadata": {},
   "outputs": [],
   "source": [
    "from torchmetrics.text import Perplexity"
   ]
  },
  {
   "cell_type": "code",
   "execution_count": 22,
   "metadata": {},
   "outputs": [],
   "source": []
  },
  {
   "cell_type": "code",
   "execution_count": 23,
   "metadata": {},
   "outputs": [],
   "source": [
    "metric = Perplexity(ignore_index=context.padding_idx)"
   ]
  },
  {
   "cell_type": "code",
   "execution_count": 26,
   "metadata": {},
   "outputs": [
    {
     "name": "stderr",
     "output_type": "stream",
     "text": [
      "0it [00:00, ?it/s]d:\\research\\pytorch-implementations\\.venv\\Lib\\site-packages\\torch\\utils\\data\\datapipes\\iter\\combining.py:333: UserWarning: Some child DataPipes are not exhausted when __iter__ is called. We are resetting the buffer and each child DataPipe will read from the start again.\n",
      "  warnings.warn(\"Some child DataPipes are not exhausted when __iter__ is called. We are resetting \"\n",
      "7it [00:09,  1.36s/it]d:\\research\\pytorch-implementations\\.venv\\Lib\\site-packages\\torch\\_jit_internal.py:1355: UserWarning: The inner type of a container is lost when calling torch.jit.isinstance in eager mode. For example, List[int] would become list and therefore falsely return True for List[float] or List[str].\n",
      "  warnings.warn(\n",
      "8it [00:11,  1.38s/it]\n"
     ]
    }
   ],
   "source": [
    "model.eval()\n",
    "running_loss = 0.0\n",
    "data_count = 0\n",
    "with torch.no_grad():\n",
    "    for source_sentence, target_sentence in tqdm(test_loader):\n",
    "        # data_count += len(source_sentence)\n",
    "        text = source_sentence.to(device)\n",
    "        label = target_sentence.to(device)\n",
    "        # label = label[1:].view(-1)\n",
    "\n",
    "        output = model.predict(text, topk=2)\n",
    "        # output = torch.flatten(output[:, 1:], end_dim=-2)\n",
    "\n",
    "        # loss = criterion(output.transpose(-1, -2), label)\n",
    "        # running_loss += loss.item()\n",
    "        metric.update(output.detach().cpu(), label.detach().cpu())\n",
    "\n",
    "    # mean_loss = running_loss / data_count\n",
    "\n",
    "# print(f\"loss: {mean_loss}\")\n",
    "# print(f\"perplexity: {math.exp(mean_loss)}\")"
   ]
  },
  {
   "cell_type": "code",
   "execution_count": 27,
   "metadata": {},
   "outputs": [
    {
     "data": {
      "text/plain": [
       "tensor(146.6560)"
      ]
     },
     "execution_count": 27,
     "metadata": {},
     "output_type": "execute_result"
    }
   ],
   "source": [
    "metric.compute()"
   ]
  },
  {
   "cell_type": "code",
   "execution_count": 19,
   "metadata": {},
   "outputs": [],
   "source": [
    "from torchmetrics.text import BLEUScore"
   ]
  },
  {
   "cell_type": "code",
   "execution_count": 20,
   "metadata": {},
   "outputs": [],
   "source": [
    "metric = BLEUScore()"
   ]
  },
  {
   "cell_type": "code",
   "execution_count": null,
   "metadata": {},
   "outputs": [],
   "source": [
    "model.eval()\n",
    "running_loss = 0.0\n",
    "data_count = 0\n",
    "with torch.no_grad():\n",
    "    for source_sentence, target_sentence in tqdm(test_loader):\n",
    "        data_count += len(source_sentence)\n",
    "        text = source_sentence.to(device)\n",
    "        label = target_sentence.to(device)\n",
    "\n",
    "        output = model(text, teacher_forcing_ratio=0).argmax(-1)\n",
    "        \n",
    "        preds = []\n",
    "        for o in output.tolist():\n",
    "            translated = vocabs[TRG_LANGUAGE].lookup_tokens(o)\n",
    "            start_idx, end_idx = translated.index(context.bos_str), translated.index(context.eos_str)\n",
    "            preds.append(\" \".join(translated[start_idx+1 : end_idx]))\n",
    "            \n",
    "        labels = []\n",
    "        for l in label.tolist():\n",
    "            translated = vocabs[TRG_LANGUAGE].lookup_tokens(l)\n",
    "            start_idx, end_idx = translated.index(context.bos_str), translated.index(context.eos_str)\n",
    "            labels.append(\" \".join(translated[start_idx+1 : end_idx]))\n",
    "            \n",
    "        metric.update(preds, labels)"
   ]
  },
  {
   "cell_type": "code",
   "execution_count": null,
   "metadata": {},
   "outputs": [],
   "source": [
    "metric.compute()"
   ]
  },
  {
   "cell_type": "markdown",
   "metadata": {},
   "source": [
    "# Translate"
   ]
  },
  {
   "cell_type": "code",
   "execution_count": 44,
   "metadata": {},
   "outputs": [
    {
     "name": "stderr",
     "output_type": "stream",
     "text": [
      "d:\\research\\pytorch-implementations\\.venv\\Lib\\site-packages\\torch\\utils\\data\\datapipes\\iter\\combining.py:333: UserWarning: Some child DataPipes are not exhausted when __iter__ is called. We are resetting the buffer and each child DataPipe will read from the start again.\n",
      "  warnings.warn(\"Some child DataPipes are not exhausted when __iter__ is called. We are resetting \"\n"
     ]
    },
    {
     "name": "stdout",
     "output_type": "stream",
     "text": [
      "第1句\n",
      "source: Eine Gruppe von Männern lädt Baumwolle auf einen Lastwagen\n",
      "target: A group of men are loading cotton onto a truck\n",
      "output: A man of men are sitting cotton onto a truck\n",
      "第2句\n",
      "source: Ein Mann schläft in einem grünen Raum auf einem Sofa.\n",
      "target: A man sleeping in a green room on a couch.\n",
      "output: A man in a a a room on a couch .\n",
      "第3句\n",
      "source: Ein Junge mit Kopfhörern sitzt auf den Schultern einer Frau.\n",
      "target: A boy wearing headphones sits on a woman's shoulders.\n",
      "output: A man wearing headphones and and a woman <unk> shoulders .\n",
      "第4句\n",
      "source: Zwei Männer bauen eine blaue Eisfischerhütte auf einem zugefrorenen See auf\n",
      "target: Two men setting up a blue ice fishing hut on an iced over lake\n",
      "output: Two men setting up up blue ice cream hut on an <unk> over lake .\n",
      "第5句\n",
      "source: Ein Mann mit beginnender Glatze, der eine rote Rettungsweste trägt, sitzt in einem kleinen Boot.\n",
      "target: A balding man wearing a red life jacket is sitting in a small boat.\n",
      "output: A balding man in a blue life jacket and a a a small child .\n",
      "第6句\n",
      "source: Eine Frau in einem rotem Mantel, die eine vermutlich aus Asien stammende Handtasche in einem blauen Farbton hält, springt für einen Schnappschuss in die Luft.\n",
      "target: A lady in a red coat, holding a bluish hand bag likely of asian descent, jumping off the ground for a snapshot.\n",
      "output: A lady in a a coat , one a a hand , <unk> of a <unk> in a a a a for a <unk> .\n",
      "第7句\n",
      "source: Ein brauner Hund rennt dem schwarzen Hund hinterher.\n",
      "target: A brown dog is running after the black dog.\n",
      "output: A brown dog is running after the middle of of\n",
      "第8句\n",
      "source: Ein kleiner Junge mit einem Giants-Trikot schwingt einen Baseballschläger in Richtung eines ankommenden Balls.\n",
      "target: A young boy wearing a Giants jersey swings a baseball bat at an incoming pitch.\n",
      "output: A young boy wearing a <unk> jersey swings swings swings bat bat bat bat pitch .\n",
      "第9句\n",
      "source: Ein Mann telefoniert in einem unaufgeräumten Büro\n",
      "target: A man in a cluttered office is using the telephone\n",
      "output: A man in a blue office office . . telephone .\n",
      "第10句\n",
      "source: Eine lächelnde Frau mit einem pfirsichfarbenen Trägershirt hält ein Mountainbike\n",
      "target: A smiling woman in a peach tank top stands holding a mountain bike\n",
      "output: A smiling woman in a blue tank top is a a mountain bike .\n",
      "第11句\n",
      "source: Ein kleines Kind steht allein auf einem zerklüfteten Felsen.\n",
      "target: A young child is standing alone on some jagged rocks.\n",
      "output: A young girl girl standing alone on some sort . .\n",
      "第12句\n",
      "source: Eine Person auf einem Schneemobil mitten im Sprung.\n",
      "target: A person on a snowmobile in mid jump.\n",
      "output: A person is a <unk> in mid jump .\n",
      "第13句\n",
      "source: Drei kleine Kinder stehen um ein blau-weißes Fass herum.\n",
      "target: Three young children stand around a blue and white barrel.\n",
      "output: A man children stand in a a and a a .\n",
      "第14句\n",
      "source: Eine Frau sitzt bei ihrem Trockenblumensortiment auf einem Freiluftmarkt.\n",
      "target: A woman is sitting by her dried flower display at an outside market.\n",
      "output: A man in a a a a a display .\n",
      "第15句\n",
      "source: Eine Frau spielt ein Lied auf ihrer Geige.\n",
      "target: A female playing a song on her violin.\n",
      "output: A man in a song on a a .\n",
      "第16句\n",
      "source: Drei Menschen auf zwei Geländemotorrädern und einem Quad fahren durch braunes Gras.\n",
      "target: Three people on two dirt-bikes and one four-wheeler are riding through brown grass.\n",
      "output: A man on two dirt - <unk> <unk> <unk> <unk> - <unk> are riding through brown hair .\n",
      "第17句\n",
      "source: Ein halbnackter Mann schläft draußen auf seinem Stuhl.\n",
      "target: A half naked man is sleeping on his chair outdoors.\n",
      "output: A man naked man is sleeping on his bike outdoors .\n",
      "第18句\n",
      "source: Eine Gruppe von Menschen steht vor einer Bude auf einem Parkplatz.\n",
      "target: A group of people standing in front of a hut in a parking lot.\n",
      "output: A group of people standing in a of a <unk> in a background lot .\n",
      "第19句\n",
      "source: Eine junge Frau fertigt im Regenwald Teppiche an\n",
      "target: A young woman is making rugs in the rain forest\n",
      "output: A young woman is a rugs and the rain .\n",
      "第20句\n",
      "source: Drei Mädchen, von denen eines gerade trinkt, stehen in einer belebten Straße und schneiden Grimassen.\n",
      "target: Three girls make faces as one takes a drink while they stand in a busy street.\n",
      "output: Three girls are a as one <unk> <unk> drink while a a in a blue and .\n",
      "第21句\n",
      "source: Ein einzelner Mann in einem schwarzen T-Shirt überragt die anderen Menschen in einer gut besuchten Bar.\n",
      "target: A single man in a black t-shirt standing above the crowd at a busy bar.\n",
      "output: A man in a a black <unk> <unk> a standing in a crowd at a busy bar .\n",
      "第22句\n",
      "source: Frau und Mann gehen über hölzerne Hängebrücke mit Warnschild daneben.\n",
      "target: Woman and man walking across wooden rope bridge with a caution sign beside it.\n",
      "output: A man in walking across wooden wooden bridge with a <unk> sign .\n",
      "第23句\n",
      "source: Ein Mann mit einem Rock hüpft und jongliert dabei mit Messern.\n",
      "target: A man in a skirt is jumping while juggling knives.\n",
      "output: A man in a skirt and jumping while a a .\n",
      "第24句\n",
      "source: Ein asiatisches Mädchen mit grünem Hut und Schürze serviert Getränke auf einem Tablett.\n",
      "target: An Asian girl in a green hat and apron is serving drinks on a tray.\n",
      "output: An Asian girl in a green hat and apron is serving in a a . .\n",
      "第25句\n",
      "source: Bauarbeiter stehen auf einer Maschine\n",
      "target: Construction workers standing on top of a piece of machinery.\n",
      "output: A man standing on a . . piece of machinery .\n",
      "第26句\n",
      "source: Zwei Hunde spielen im hohen Gras mit einem orangen Spielzeug.\n",
      "target: Two dogs play with an orange toy in tall grass.\n",
      "output: A dogs play with an <unk> <unk> in a of .\n",
      "第27句\n",
      "source: Ein süßes Baby lächelt einem anderen Kind zu.\n",
      "target: A cute baby is smiling at another child.\n",
      "output: A cute baby is running at a child in a a . . .\n",
      "第28句\n",
      "source: Drei Männer gehen auf einer Straße in den Bergen.\n",
      "target: Three men are walking on a road in the mountains.\n",
      "output: A men are walking on a <unk> in the mountains .\n",
      "第29句\n",
      "source: Eine Person beim Parasailing über einem großen Gewässer.\n",
      "target: A person is parasailing over a large body of water.\n",
      "output: A man is parasailing on a large crowd crowd water .\n",
      "第30句\n",
      "source: Ein Traktor bewegt Erde für den Bau einer Stützmauer.\n",
      "target: A tractor is moving dirt to help build up a retaining wall.\n",
      "output: A tractor tractor tractor tractor to a <unk> a a <unk> wall .\n",
      "第31句\n",
      "source: Ein junges Mädchen läuft allein durch einen Park.\n",
      "target: A young girl running by herself in a park.\n",
      "output: A young girl in by a in a park .\n",
      "第32句\n",
      "source: Eine Person überquert die Straße und meidet dabei die ausgelaufene Farbe.\n",
      "target: A person crosses the street and avoids the spill of paint.\n",
      "output: A person is the <unk> and a a <unk> a paint . . background .\n",
      "第33句\n",
      "source: Kind spielt auf einem Spielplatz und hängt dabei an Stangen.\n",
      "target: Child playing on a playground, hanging from bars.\n",
      "output: Child in a blue blue and and from bars .\n",
      "第34句\n",
      "source: Eine Person in einem roten Langarmshirt liegt auf sehr ungewöhnliche Art auf einer Mauer vor einem Laternenpfahl.\n",
      "target: A person wearing a red long-sleeved shirt is lying down on a wall in front of a lamp post in a very unusual manner.\n",
      "output: A man in a blue shirt and <unk> shirt is sitting down a a wall with a of a lamp . . a <unk> .\n",
      "第35句\n",
      "source: Eine Gruppe von Menschen sammelt sich um einen Mann in einem Anzug und einen kleinen Jungen.\n",
      "target: A group of people collect around a man in a suit and a little boy.\n",
      "output: A group of people are around a a in a suit and a a a .\n",
      "第36句\n",
      "source: Eine Frau sitzt an einer dunklen Bar.\n",
      "target: A woman sits at a dark bar.\n",
      "output: A man in at a dark bar .\n",
      "第37句\n",
      "source: Menschen gehen auf einem Gehweg, an dem ein Freiluftmarkt stattfindet.\n",
      "target: People are walking down a sidewalk where there is an outdoors market.\n",
      "output: A are walking down a sidewalk in there is an outdoors .\n",
      "第38句\n",
      "source: Ein Mann mit einem blauen Rucksack liest die Zeitung, während er auf die U-Bahn wartet.\n",
      "target: A man with a blue backpack reads the paper while waiting to board the subway.\n",
      "output: A man in a a a reads a paper while waiting for board board subway subway .\n",
      "第39句\n",
      "source: Ein großer brauner Hund hält sein Gesicht in den Rasensprenger.\n",
      "target: A large brown dog is sticking his face in the sprinkler.\n",
      "output: A man in dog is a a face while the background .\n",
      "第40句\n",
      "source: Ein blonder Junge in einem blauen T-Shirt steht lächelnd vor einem Boot aus grünem Nylongewebe.\n",
      "target: A blond boy in a blue t-shirt stands smiling before a craft of green nylon fabric.\n",
      "output: A man boy in a blue shirt - shirt stands in before a a of green <unk> .\n",
      "第41句\n",
      "source: Ein junger weißer Mann fegt eine Veranda mit einem großen Besen.\n",
      "target: A young white male is sweeping a porch with a large broom.\n",
      "output: A young white male is sitting a a a a a broom .\n",
      "第42句\n",
      "source: Eine Person wirft gerade eine grüne Bowlingkugel eine Bowlingbahn entlang.\n",
      "target: A person about in the middle of throwing a green bowling ball down a bowling lane.\n",
      "output: A man in a the <unk> of a <unk> green grass grass . a bowling lane .\n",
      "第43句\n",
      "source: Eine Band gibt ein Rockkonzert vor Zuschauern in einer Bar.\n",
      "target: A band plays a rock show to a bar audience.\n",
      "output: A band plays a a <unk> to a a audience .\n",
      "第44句\n",
      "source: Ein älterer Mann geht mit einem braunen Hund an einer roten Leine spazieren.\n",
      "target: An elderly man is walking a brown dog using a red leash.\n",
      "output: A man in is sitting a a <unk> using a <unk> in .\n",
      "第45句\n",
      "source: Ein Mann fährt ein altmodisches rotes Rennauto.\n",
      "target: A man drives an old-fashioned red race car.\n",
      "output: A man in a old <unk> fashioned a race .\n",
      "第46句\n",
      "source: Junge Erwachsene in einer geraden Linie, die rote, gelbe und schwarze T-Shirts tragen, führen einen Sketch auf.\n",
      "target: Young adults wearing red, yellow, and black shirts in a straight line perform a sketch.\n",
      "output: Young girl wearing red , one a and a a in a blue line perform a <unk> .\n",
      "第47句\n",
      "source: Ein kleiner Junge wirft einen Stein in ruhiges Wasser.\n",
      "target: A young boy, throwing a stone into calm water.\n",
      "output: A young girl girl girl girl girl into a <unk> .\n",
      "第48句\n",
      "source: Zwei kurzhaarige Frauen stehen einander gegenüber und die blonde Frau spricht.\n",
      "target: Two women with short hair are facing each other and the blond one is talking.\n",
      "output: A women in short hair hair hair hair hair hair the <unk> . . talking .\n",
      "第49句\n",
      "source: Eine aufwendig kostümierte Figur vor einem prächtig geschmückten Bauwerk.\n",
      "target: An elaborate costumed figure is in front of a brightly decorated structure.\n",
      "output: A elaborate <unk> figure is sitting front of a brightly colored structure .\n",
      "第50句\n",
      "source: Ein Hund geht mit einem Tuch im Maul durch einen kleinen Bach.\n",
      "target: A dog walking through a small stream with a rag in his mouth.\n",
      "output: A dog walking through a small stream of a rag . his hand .\n",
      "第51句\n",
      "source: Drei kleine Hunde schnüffeln an etwas.\n",
      "target: Three small dogs sniff at something.\n",
      "output: A man dogs <unk> at a .\n",
      "第52句\n",
      "source: Zwei Männer paddeln in einem Kajak einen Fluss mit grünen Bäumen auf beiden Seiten entlang.\n",
      "target: Two man are paddling a kayak along a river with green trees on either side.\n",
      "output: A man are sitting in in along a river with green green green . side .\n",
      "第53句\n",
      "source: Zwei Mädchen gehen eine Straße entlang.\n",
      "target: Two girls walking down the street.\n",
      "output: Two girls walking down the middle of of a . . .\n",
      "第54句\n",
      "source: Eine Gruppe von Kindern sitzt hinten in einem Van und sieht sich ein Buch an.\n",
      "target: A group of kids sitting in the back of a van together looking at a book.\n",
      "output: A man of kids are in a <unk> <unk> a <unk> in looking at at the .\n",
      "第55句\n",
      "source: Strandbesucher blicken auf ein Herz, das von einem Himmelsschreiber am Himmel hinterlassen wurde.\n",
      "target: Beach goers look at a heart left in the sky by a sky writer.\n",
      "output: A <unk> look at at a <unk> in the sky .\n",
      "第56句\n",
      "source: Ein Mädchen sitzt in bequemer Haltung an einem öffentlichen Ort und liest ein Buch, das sie mit ihrer Hand geöffnet hält, an der sich ein Ring mit einem Schmetterling befindet.\n",
      "target: Sitting casually in a public place, a girl reads holding the book open with her hand on which is a butterfly ring.\n",
      "output: <unk> <unk> in a blue blue shirt a girl reads a the book open a her <unk> <unk> which is a butterfly to .\n",
      "第57句\n",
      "source: Ein Mann isst in einem Restaurant zu Mittag.\n",
      "target: A man in a restaurant having lunch.\n",
      "output: A man in a restaurant having lunch .\n",
      "第58句\n",
      "source: Ein Mann mit Anzug und Brille hält einen Gegenstand in den Händen.\n",
      "target: A man in a suit and glass has an object in his hands.\n",
      "output: A man in a suit is a has a <unk> <unk> his hands .\n",
      "第59句\n",
      "source: Ein Mann in einem schwarzen Neoprenanzug surft auf einer Welle.\n",
      "target: A man in a black wetsuit is surfing on a wave.\n",
      "output: A man in a blue wetsuit wetsuit surfing on a a .\n",
      "第60句\n",
      "source: Eine Frau mit pinkfarbener Tasche sitzt auf einer Bank.\n",
      "target: A woman with a pink purse is sitting on a bench.\n",
      "output: A man with a pink shirt and sitting on a bench .\n",
      "第61句\n",
      "source: Drei Frauen sitzen da und lächeln.\n",
      "target: Three women smiling and sitting down.\n",
      "output: A women in and sitting down .\n",
      "第62句\n",
      "source: Ein rotes Flugzeug fliegt über einem Boot und zieht dabei pinkfarbenen Rauch hinter sich her.\n",
      "target: A red plane flying over a boat as it trails pink smoke.\n",
      "output: A red plane in a a a a it <unk> pink smoke .\n",
      "第63句\n",
      "source: Ein Mann in einem Klettergurt klettert an einer Felswand\n",
      "target: A man in a harness climbing a rock wall\n",
      "output: A man in a a climbing a rock climbing\n",
      "第64句\n",
      "source: Zwei Bauarbeiter helfen beim Beladen eines Kippers auf einer innerstädtischen Baustelle.\n",
      "target: Two construction workers assist in the loading of a dump truck at an urban construction site.\n",
      "output: Two construction workers are a a a a a a a at an urban area site .\n",
      "第65句\n",
      "source: Eine bunt gekleidete Frau geht an einem weißen Lastwagen vorbei, der mit Flaschen gefüllt ist.\n",
      "target: A woman in a colorful outfit is walking by a white truck filled with bottles.\n",
      "output: A man in a colorful outfit is sitting a a a a a with a <unk>\n",
      "第66句\n",
      "source: Eine Frau mit blauem Hut und gelbem Rock springt an einer mit Flieder bewachsenen Stelle in die Luft.\n",
      "target: A woman in a blue hat and yellow skirt is jumping in an area with lilacs.\n",
      "output: A man in a blue shirt and yellow skirt is sitting in an <unk> with a .\n",
      "第67句\n",
      "source: Ein Mann mit goldfarbener Kleidung steht neben seinem goldfarbenen Fahrrad.\n",
      "target: A man is wearing a gold outfit while standing with his gold bike.\n",
      "output: A man in wearing a gold outfit while a a his hand bike .\n",
      "第68句\n",
      "source: Baby sieht sich die Blätter am Zweig eines Baumes an.\n",
      "target: Baby looking at the leaves on a branch of a tree.\n",
      "output: A looking at at a on a <unk> in a tree .\n",
      "第69句\n",
      "source: Eine Reinigungskraft ist im Begriff, eine Bahnstation zu wischen.\n",
      "target: A janitor about to mop in a train station.\n",
      "output: A <unk> about to <unk> <unk> a train station .\n",
      "第70句\n",
      "source: Zwei kleine schwarze Jungen spielen mit Plastikflaschen und haben dabei viel Spaß.\n",
      "target: Two little black boys are playing with plastic bottles and having a lot of fun.\n",
      "output: Two little black boys in playing with a bottles of a a lot of\n",
      "第71句\n",
      "source: Ampeln schalten auf Grün, während die Menschen sich Motorräder ansehen.\n",
      "target: Green traffic signals light up as people look at motorcycles.\n",
      "output: A traffic <unk> light up a people look at motorcycles .\n",
      "第72句\n",
      "source: Zwei Menschen klettern mit einem Seil an einem Felsen.\n",
      "target: Two people are climbing a rock wall with a rope.\n",
      "output: Two men in a a rock wall with a rope .\n",
      "第73句\n",
      "source: Ein Mann und eine Frau fischen am Strand.\n",
      "target: A man and woman fishing at the beach.\n",
      "output: A man in a fishing at a beach .\n",
      "第74句\n",
      "source: Ein Kind macht einen Rückwärtssalto, während es auf einem Trampolin hüpft.\n",
      "target: A child is doing a back flip whilst jumping on a trampoline.\n",
      "output: A man in a a back flip flip flip flip flip trampoline .\n",
      "第75句\n",
      "source: Kinder fahren in einem Kettenkarussell\n",
      "target: Kids are riding a swinging carnival ride\n",
      "output: Kids are playing a a carnival ride\n",
      "第76句\n",
      "source: Zwei Menschen halten einen großen umgekehrten Globus mit einem Durchmesser von ca. 120 cm und es wirkt so, als würde ein Kind über die Antarktis springen.\n",
      "target: Two people are holding a large upside-down earth globe, about 4' in diameter, and a child appears to be jumping over Antarctica.\n",
      "output: A people are holding a large upside - down earth a , about on on in a , and a a appears to be jumping over a <unk>\n",
      "第77句\n",
      "source: Zwei Männer beim Militär spielen Baseball.\n",
      "target: Two men in the military are playing baseball.\n",
      "output: Two men in a military are playing playing .\n",
      "第78句\n",
      "source: Eine Frau in einem schwarzen Kleid schiebt einen Wagen mit Thermoskannen einen gepflasterten Fußgängerweg entlang.\n",
      "target: A woman in a black dress is pushing a cart with thermos down a paved walkway.\n",
      "output: A woman in a black shirt is pushing a cart with <unk> down a paved walkway .\n",
      "第79句\n",
      "source: Ein Polizist hält ein Fahrzeug am Straßenrand an.\n",
      "target: A policeman stopping a vehicle on the side of the road.\n",
      "output: A policeman <unk> a a on a <unk> of a road .\n",
      "第80句\n",
      "source: Mann steht auf einem Pier neben einem Boot an einem ruhigen See.\n",
      "target: Man standing on a pier next to a boat on a still lake.\n",
      "output: Man standing on a pier next to a boat in a a lake .\n",
      "第81句\n",
      "source: Eine Gruppe schottischer Offiziere gibt eine Vorführung.\n",
      "target: A group of Scottish officers doing a demonstration.\n",
      "output: A man is is a a a demonstration .\n",
      "第82句\n",
      "source: Eine Frau und ein Kind sitzen zusammen in einem Türrahmen an einem grauen Gehweg, während ein Mann und zwei Frauen vorbeigehen.\n",
      "target: A woman and a child sit together in a door frame along a gray sidewalk, as a man and two women walk past.\n",
      "output: A woman in a child sit on a a a frame along a <unk> in , as a man and a a walk down a\n",
      "第83句\n",
      "source: Ein einzelner Feuerwehrmann hilft bei der Bekämpfung eines großen Brandes.\n",
      "target: A lone firefighter helps tame a large fire.\n",
      "output: A lone firefighter helps a a large <unk> <unk> a a . .\n",
      "第84句\n",
      "source: Eine Person in einem lilafarbenen Oberteil malt ein Bild von einer Frau auf eine weiße Wand.\n",
      "target: A person with a purple shirt is painting an image of a woman on a white wall.\n",
      "output: A man in a purple shirt is painting an image while a <unk> on a white wall .\n",
      "第85句\n",
      "source: Ein kleines Mädchen liegt auf dem Boden, während ihre jüngere Schwester Krankenschwester spielt.\n",
      "target: A small girl is lying on the floor while her younger sister is pretending to be a nurse.\n",
      "output: A small child is lying on on floor while a a a a a to be a <unk> .\n",
      "第86句\n",
      "source: Eine junge Frau und eine ältere Frau in traditionellen Saris spinnen Textilien, während drei weitere Personen in moderner Kleidung nur von der Taille abwärts auf dem Bild zu sehen sind.\n",
      "target: A young woman and older woman wear traditional saris as they spin textiles, three people are pictured at only the waists, and wear modern clothes.\n",
      "output: A young woman and a woman wear traditional saris with with <unk> <unk> <unk> <unk> <unk> <unk> <unk> <unk> <unk> <unk> <unk> , and a a clothes .\n",
      "第87句\n",
      "source: Frauen gehen durch den Tiefschnee einen steilen Abhang hinunter.\n",
      "target: Women walking through deep snow and down a steep hill.\n",
      "output: A walking down deep deep deep deep deep deep deep .\n",
      "第88句\n",
      "source: Der FedEx-Fahrer hört dem Arbeiter mit dem grünen Schutzhelm zu, während die zu versendende Ausrüstung eingeladen wird.\n",
      "target: The FedEx driver listens to the workman in the green hard hat while the equipment to ship is being loaded.\n",
      "output: A <unk> <unk> <unk> to the workman in in a hard hat and the <unk> <unk> <unk> is <unk> a a . .\n",
      "第89句\n",
      "source: Der braune Hund trägt ein schwarzes Halsband.\n",
      "target: The brown dog is wearing a black collar.\n",
      "output: A man in a wearing a blue collar .\n",
      "第90句\n",
      "source: Ein braun-weißer Hund rennt eine gelb-blaue Rampe hinunter.\n",
      "target: A brown a white dog runs down a yellow and blue ramp.\n",
      "output: A man in a a runs through a a and\n",
      "第91句\n",
      "source: Ein Kind macht sich bereit, ein Buch zu lesen.\n",
      "target: A child is getting ready to read a book.\n",
      "output: A child is sitting a a <unk> a book .\n",
      "第92句\n",
      "source: Ein älterer Japaner versucht, eine kleine rot-graue Maschine zu reparieren.\n",
      "target: A older Japanese man trying to fix a small red and gray machine.\n",
      "output: A older Japanese of trying to fix a small red and a machine .\n",
      "第93句\n",
      "source: Ein kleines Kind und eine Frau stehen um einen Hahn im Käfig herum.\n",
      "target: A young child and a woman are standing around a caged rooster.\n",
      "output: A man in and a woman in a around a <unk> <unk> .\n",
      "第94句\n",
      "source: Ein als Spiderman verkleidetes Kind klingelt an der Tür.\n",
      "target: A child that is dressed as Spiderman is ringing the doorbell.\n",
      "output: A man that is sitting a <unk> is sitting a a .\n",
      "第95句\n",
      "source: Ein braun gekleideter Mann hält ein Lichtschwert.\n",
      "target: A man dressed in brown holding a light saber.\n",
      "output: A man dressed in a holding a light light .\n",
      "第96句\n",
      "source: Eine junge Frau singt in ein Mikrofon, während ein Mann hinter ihr eine Gitarre hält.\n",
      "target: A young woman stands singing at a microphone while a man behind her holds a guitar.\n",
      "output: A young girl in singing and a microphone while a man behind her head a <unk> . .\n",
      "第97句\n",
      "source: Zwei Kinder graben Löcher in die Erde.\n",
      "target: Twp children dig holes in the dirt.\n",
      "output: <unk> children dig in in a dirt .\n",
      "第98句\n",
      "source: Viele Stühle sind leer und nur einige wenige Menschen genießen die Sonne.\n",
      "target: Many of the chairs are empty with only a few people enjoying the sun.\n",
      "output: Many of the <unk> are empty with a <unk> few people in the sun .\n",
      "第99句\n",
      "source: Einige Männer sitzen in einem Boot in der Nähe eines Strandes, der mit gestapelten Holzstämmen und Stöcken bedeckt ist.\n",
      "target: Some men are sitting on a boat near a beach covered in stacked logs and sticks.\n",
      "output: A man in a a a boat in a beach covered in stacked stacked stacked sticks sticks\n",
      "第100句\n",
      "source: Ein junger Mann trägt etwas in einem großen schwarzen Plastikmüllsack.\n",
      "target: A young man is carrying something in a large black plastic garbage bag.\n",
      "output: A young man in a a a a large <unk> plastic plastic . .\n"
     ]
    }
   ],
   "source": [
    "CLIP = 20\n",
    "\n",
    "model.eval()\n",
    "with torch.no_grad():\n",
    "    for i, (source_sentence, target_sentence) in enumerate(val_iter):\n",
    "        ori_source, ori_target = source_sentence, target_sentence\n",
    "        source_sentence = tokenizers[SRC_LANGUAGE](source_sentence.rstrip('\\n'))\n",
    "        source_sentence = src_transform(source_sentence)\n",
    "        source_sentence = source_sentence.unsqueeze(0)\n",
    "        source_sentence = source_sentence.to(device)\n",
    "        \n",
    "        target_sentence = tokenizers[TRG_LANGUAGE](target_sentence.rstrip('\\n'))\n",
    "        target_sentence = trg_transform(target_sentence)\n",
    "        target_sentence = target_sentence.unsqueeze(0)\n",
    "        target_sentence = target_sentence.to(device)\n",
    "        \n",
    "        # outputs = [BOS_IDX]\n",
    "        \n",
    "        # h, c = model.encoder(source_sentence)\n",
    "        \n",
    "        # for _ in range(MAX_LENGTH):\n",
    "            \n",
    "        #     input_seq = torch.LongTensor([outputs[-1]]).to(device)\n",
    "            \n",
    "        #     output, _, _ = model.decoder(input_seq, h, c)\n",
    "            \n",
    "        #     next_token = output.argmax(1).item()\n",
    "        #     outputs.append(next_token) \n",
    "            \n",
    "        #     if next_token == EOS_IDX: break\n",
    "        \n",
    "        output = model(source_sentence, target_sentence)[0].argmax(-1)\n",
    "        \n",
    "        # if EOS_IDX in outputs:\n",
    "        translated = vocabs[TRG_LANGUAGE].lookup_tokens(output.tolist())\n",
    "        start_idx, end_idx = translated.index(context.bos_str), translated.index(context.eos_str)\n",
    "        print(f'第{i+1}句')\n",
    "        print('source:', ori_source.rstrip('\\n'))\n",
    "        print('target:', ori_target.rstrip('\\n'))\n",
    "        print('output:', *translated[start_idx+1:end_idx], sep=' ')\n",
    "        \n",
    "        if i+1==CLIP: break"
   ]
  },
  {
   "cell_type": "markdown",
   "metadata": {},
   "source": [
    "# Save"
   ]
  },
  {
   "cell_type": "code",
   "execution_count": 28,
   "metadata": {},
   "outputs": [
    {
     "name": "stdout",
     "output_type": "stream",
     "text": [
      "../../artifacts/seq2seq/seq2seq.bi.pth\n"
     ]
    }
   ],
   "source": [
    "model_name = 'seq2seq'\n",
    "if model.attention is not None:\n",
    "    if isinstance(model.attention, GlobalAttention):\n",
    "        model_name += '.global'\n",
    "    elif isinstance(model.attention, LocalAttention):\n",
    "        model_name += '.local'\n",
    "\n",
    "if model.decoder.rnn.factor == 2:\n",
    "    model_name += '.bi'\n",
    "\n",
    "model_path = artifacts_path / (model_name + '.pth')\n",
    "print(model_path.as_posix())"
   ]
  },
  {
   "cell_type": "code",
   "execution_count": 29,
   "metadata": {},
   "outputs": [],
   "source": [
    "torch.save(model, model_path.as_posix())"
   ]
  },
  {
   "cell_type": "code",
   "execution_count": 38,
   "metadata": {},
   "outputs": [],
   "source": [
    "model = torch.load(model_path.as_posix())"
   ]
  },
  {
   "cell_type": "code",
   "execution_count": null,
   "metadata": {},
   "outputs": [],
   "source": []
  }
 ],
 "metadata": {
  "kernelspec": {
   "display_name": "Python 3",
   "language": "python",
   "name": "python3"
  },
  "language_info": {
   "codemirror_mode": {
    "name": "ipython",
    "version": 3
   },
   "file_extension": ".py",
   "mimetype": "text/x-python",
   "name": "python",
   "nbconvert_exporter": "python",
   "pygments_lexer": "ipython3",
   "version": "3.10.14"
  }
 },
 "nbformat": 4,
 "nbformat_minor": 2
}
