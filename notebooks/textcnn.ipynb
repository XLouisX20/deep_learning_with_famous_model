{
 "cells": [
  {
   "cell_type": "code",
   "execution_count": 194,
   "metadata": {},
   "outputs": [],
   "source": [
    "from pathlib import Path\n",
    "\n",
    "import matplotlib.pyplot as plt\n",
    "import numpy as np\n",
    "import pandas as pd\n",
    "import torch\n",
    "import torchinfo\n",
    "import torchtext.transforms as T\n",
    "from sklearn.model_selection import train_test_split\n",
    "from torch.utils.data import DataLoader\n",
    "from torchlake.common.controller.evaluator import ClassificationEvaluator\n",
    "from torchlake.common.controller.trainer import ClassificationTrainer\n",
    "from torchlake.common.schemas import NlpContext\n",
    "from torchlake.common.utils.platform import get_file_size\n",
    "from torchlake.text_classification.models import TextCnn\n",
    "from torchtext.data.utils import get_tokenizer\n",
    "from torchtext.vocab import build_vocab_from_iterator"
   ]
  },
  {
   "cell_type": "markdown",
   "metadata": {},
   "source": [
    "# setting\n"
   ]
  },
  {
   "cell_type": "code",
   "execution_count": 195,
   "metadata": {},
   "outputs": [],
   "source": [
    "data_path = Path(\"../../data/childrenBooksAndStories\")\n",
    "artifacts_path = Path(\"../../artifacts/textcnn\")"
   ]
  },
  {
   "cell_type": "code",
   "execution_count": 196,
   "metadata": {},
   "outputs": [],
   "source": [
    "batch_size = 32\n",
    "context = NlpContext()"
   ]
  },
  {
   "cell_type": "code",
   "execution_count": 197,
   "metadata": {},
   "outputs": [],
   "source": [
    "tokenizer = get_tokenizer(\"basic_english\")"
   ]
  },
  {
   "cell_type": "markdown",
   "metadata": {},
   "source": [
    "# data"
   ]
  },
  {
   "cell_type": "code",
   "execution_count": 198,
   "metadata": {},
   "outputs": [],
   "source": [
    "data = pd.read_csv(\n",
    "    data_path.joinpath(\"children_stories.csv\").as_posix(),\n",
    "    encoding=\"latin-1\",\n",
    "    usecols=[\"cats\", \"desc\"],\n",
    ")"
   ]
  },
  {
   "cell_type": "code",
   "execution_count": 199,
   "metadata": {},
   "outputs": [],
   "source": [
    "# 移除空標籤\n",
    "data = data.query('cats != \"Age \"')"
   ]
  },
  {
   "cell_type": "code",
   "execution_count": 200,
   "metadata": {},
   "outputs": [],
   "source": [
    "def convert_to_bound(label: str) -> tuple[int, int]:\n",
    "    \"\"\"convert age label to label\n",
    "\n",
    "    Args:\n",
    "        label (str): age label, in format like 'x-y', 'x+'\n",
    "\n",
    "    Returns:\n",
    "        tuple[int, int]: lower and upper bound\n",
    "    \"\"\"\n",
    "\n",
    "    label = label.replace(\"6months\", \"0.5\")\n",
    "\n",
    "    if \"-\" in label:\n",
    "        [lower, upper] = label.split(\"-\")\n",
    "        lower, upper = float(lower), float(upper)\n",
    "    else:\n",
    "        lower = float(label.replace(\"+\", \"\"))\n",
    "        upper = np.Inf\n",
    "\n",
    "    return (lower, upper)"
   ]
  },
  {
   "cell_type": "code",
   "execution_count": 201,
   "metadata": {},
   "outputs": [],
   "source": [
    "def convert_to_label(lower: float, upper: float) -> int:\n",
    "    \"\"\"convert age bound to label\n",
    "\n",
    "    Args:\n",
    "        lower (float): lower bound of age\n",
    "        upper (float): upper bound of age\n",
    "\n",
    "    Returns:\n",
    "        int: 0 -> before kindergarten, 1 -> kindergarten, 2 -> elementary school\n",
    "    \"\"\"\n",
    "    if lower >= 8:\n",
    "        return 2\n",
    "    elif lower >= 3:\n",
    "        return 1\n",
    "    else:\n",
    "        return 0"
   ]
  },
  {
   "cell_type": "code",
   "execution_count": 202,
   "metadata": {},
   "outputs": [],
   "source": [
    "data[\"cats\"] = data.cats.str.replace(\"Age\\s\", \"\", regex=True)"
   ]
  },
  {
   "cell_type": "code",
   "execution_count": 203,
   "metadata": {},
   "outputs": [],
   "source": [
    "data[\"cats\"] = data.cats.apply(convert_to_bound)"
   ]
  },
  {
   "cell_type": "code",
   "execution_count": 204,
   "metadata": {},
   "outputs": [
    {
     "data": {
      "text/plain": [
       "cats\n",
       "(0.0, 2.0)       2\n",
       "(0.0, 3.0)      12\n",
       "(0.0, 4.0)      16\n",
       "(0.0, 5.0)       8\n",
       "(0.0, 6.0)       1\n",
       "(0.0, inf)      13\n",
       "(0.5, inf)       1\n",
       "(1.0, 2.0)       1\n",
       "(1.0, 3.0)       6\n",
       "(1.0, 4.0)       4\n",
       "(1.0, 5.0)       5\n",
       "(1.0, 6.0)       1\n",
       "(1.0, inf)       2\n",
       "(2.0, 4.0)       1\n",
       "(2.0, 5.0)       9\n",
       "(2.0, 6.0)      10\n",
       "(2.0, 7.0)       1\n",
       "(2.0, 9.0)      20\n",
       "(2.0, inf)      12\n",
       "(3.0, 4.0)       1\n",
       "(3.0, 5.0)       7\n",
       "(3.0, 6.0)       9\n",
       "(3.0, 7.0)       5\n",
       "(3.0, inf)      32\n",
       "(4.0, 5.0)       1\n",
       "(4.0, 6.0)       3\n",
       "(4.0, 7.0)       2\n",
       "(4.0, 8.0)       3\n",
       "(4.0, 11.0)      1\n",
       "(4.0, inf)      20\n",
       "(5.0, 8.0)       3\n",
       "(5.0, 9.0)       2\n",
       "(5.0, inf)      17\n",
       "(6.0, 8.0)       2\n",
       "(6.0, 9.0)       1\n",
       "(6.0, 11.0)      3\n",
       "(6.0, inf)      21\n",
       "(7.0, 9.0)       2\n",
       "(7.0, 10.0)      2\n",
       "(7.0, 11.0)      4\n",
       "(7.0, 12.0)      1\n",
       "(7.0, inf)      27\n",
       "(8.0, 11.0)      1\n",
       "(8.0, 12.0)      4\n",
       "(8.0, inf)      26\n",
       "(9.0, 11.0)      3\n",
       "(9.0, 12.0)      2\n",
       "(9.0, 13.0)      2\n",
       "(9.0, 14.0)      1\n",
       "(9.0, inf)      32\n",
       "(10.0, 14.0)     1\n",
       "(10.0, inf)     26\n",
       "(11.0, 14.0)     1\n",
       "(11.0, 15.0)     1\n",
       "(11.0, inf)     19\n",
       "(12.0, inf)     12\n",
       "(13.0, inf)      3\n",
       "Name: count, dtype: int64"
      ]
     },
     "execution_count": 204,
     "metadata": {},
     "output_type": "execute_result"
    }
   ],
   "source": [
    "data.cats.value_counts().sort_index()"
   ]
  },
  {
   "cell_type": "code",
   "execution_count": 205,
   "metadata": {},
   "outputs": [],
   "source": [
    "CLASS_NAMES = [\"3y-\", \"3~8y\", \"8y+\"]"
   ]
  },
  {
   "cell_type": "code",
   "execution_count": 206,
   "metadata": {},
   "outputs": [],
   "source": [
    "data[\"cats\"] = data.cats.apply(lambda bound: convert_to_label(*bound))"
   ]
  },
  {
   "cell_type": "code",
   "execution_count": 233,
   "metadata": {},
   "outputs": [
    {
     "data": {
      "text/plain": [
       "cats\n",
       "0    125\n",
       "1    169\n",
       "2    134\n",
       "Name: count, dtype: int64"
      ]
     },
     "execution_count": 233,
     "metadata": {},
     "output_type": "execute_result"
    }
   ],
   "source": [
    "data.cats.value_counts().sort_index()"
   ]
  },
  {
   "cell_type": "code",
   "execution_count": 207,
   "metadata": {},
   "outputs": [],
   "source": [
    "train_data, test_data = train_test_split(data, test_size=1 / 5)"
   ]
  },
  {
   "cell_type": "code",
   "execution_count": 208,
   "metadata": {},
   "outputs": [],
   "source": [
    "vocab = build_vocab_from_iterator(\n",
    "    train_data[\"desc\"].str.split(),\n",
    "    specials=context.special_tokens,\n",
    "    min_freq=context.min_frequency,\n",
    ")\n",
    "\n",
    "vocab.set_default_index(context.unk_idx)"
   ]
  },
  {
   "cell_type": "code",
   "execution_count": 209,
   "metadata": {},
   "outputs": [],
   "source": [
    "text_transform = T.Sequential(\n",
    "    T.VocabTransform(vocab),\n",
    "    T.Truncate(context.max_seq_len - 2),\n",
    "    T.AddToken(token=context.bos_idx, begin=True),\n",
    "    T.AddToken(token=context.eos_idx, begin=False),\n",
    "    T.ToTensor(),\n",
    "    T.PadTransform(context.max_seq_len, context.padding_idx),\n",
    ")"
   ]
  },
  {
   "cell_type": "code",
   "execution_count": 210,
   "metadata": {},
   "outputs": [],
   "source": [
    "def collate_fn(batch: np.ndarray):\n",
    "    text_placeholder, label_placeholder = [], []\n",
    "\n",
    "    for label, text in batch:\n",
    "        text = tokenizer(text)\n",
    "        text = text_transform(text)\n",
    "        text_placeholder.append(text)\n",
    "        label_placeholder.append(label)\n",
    "\n",
    "    return torch.stack(text_placeholder), torch.Tensor(label_placeholder)"
   ]
  },
  {
   "cell_type": "code",
   "execution_count": 211,
   "metadata": {},
   "outputs": [],
   "source": [
    "train_iter = DataLoader(\n",
    "    train_data.to_numpy(),\n",
    "    batch_size=batch_size,\n",
    "    collate_fn=collate_fn,\n",
    "    shuffle=True,\n",
    "    drop_last=True,\n",
    ")\n",
    "\n",
    "test_iter = DataLoader(\n",
    "    test_data.to_numpy(),\n",
    "    batch_size=batch_size,\n",
    "    collate_fn=collate_fn,\n",
    ")"
   ]
  },
  {
   "cell_type": "code",
   "execution_count": 212,
   "metadata": {},
   "outputs": [
    {
     "name": "stdout",
     "output_type": "stream",
     "text": [
      "torch.Size([32, 256]) torch.Size([32])\n"
     ]
    }
   ],
   "source": [
    "for text, label in train_iter:\n",
    "    print(text.shape, label.shape)\n",
    "    break"
   ]
  },
  {
   "cell_type": "markdown",
   "metadata": {},
   "source": [
    "# model\n"
   ]
  },
  {
   "cell_type": "code",
   "execution_count": 213,
   "metadata": {},
   "outputs": [],
   "source": [
    "VOCAB_SIZE = len(vocab)\n",
    "LABEL_SIZE = data.cats.nunique()"
   ]
  },
  {
   "cell_type": "code",
   "execution_count": 214,
   "metadata": {},
   "outputs": [],
   "source": [
    "DEVICE = torch.device(context.device)"
   ]
  },
  {
   "cell_type": "code",
   "execution_count": 215,
   "metadata": {},
   "outputs": [],
   "source": [
    "EMBED_DIM = 32"
   ]
  },
  {
   "cell_type": "code",
   "execution_count": 216,
   "metadata": {},
   "outputs": [],
   "source": [
    "model = TextCnn(VOCAB_SIZE, EMBED_DIM, output_size=LABEL_SIZE, padding_idx=context.padding_idx).to(DEVICE)"
   ]
  },
  {
   "cell_type": "code",
   "execution_count": 217,
   "metadata": {},
   "outputs": [
    {
     "data": {
      "text/plain": [
       "======================================================================\n",
       "Layer (type:depth-idx)                        Param #\n",
       "======================================================================\n",
       "TextCnn                                       --\n",
       "├─Embedding: 1-1                              29,568\n",
       "├─MultiKernelConvModule: 1-2                  --\n",
       "│    └─FlattenFeature: 2-1                    --\n",
       "│    │    └─Sequential: 3-1                   --\n",
       "│    └─ModuleList: 2-2                        --\n",
       "│    │    └─ConvBnRelu: 3-2                   9,700\n",
       "│    │    └─ConvBnRelu: 3-3                   12,900\n",
       "│    │    └─ConvBnRelu: 3-4                   16,100\n",
       "├─Linear: 1-3                                 903\n",
       "======================================================================\n",
       "Total params: 69,171\n",
       "Trainable params: 69,171\n",
       "Non-trainable params: 0\n",
       "======================================================================"
      ]
     },
     "execution_count": 217,
     "metadata": {},
     "output_type": "execute_result"
    }
   ],
   "source": [
    "torchinfo.summary(model)"
   ]
  },
  {
   "cell_type": "markdown",
   "metadata": {},
   "source": [
    "# train\n"
   ]
  },
  {
   "cell_type": "code",
   "execution_count": 218,
   "metadata": {},
   "outputs": [],
   "source": [
    "EPOCHES = 20"
   ]
  },
  {
   "cell_type": "code",
   "execution_count": 219,
   "metadata": {},
   "outputs": [],
   "source": [
    "trainer = ClassificationTrainer(EPOCHES, DEVICE)"
   ]
  },
  {
   "cell_type": "code",
   "execution_count": 220,
   "metadata": {},
   "outputs": [],
   "source": [
    "criterion = trainer.get_criterion(LABEL_SIZE)\n",
    "optimizer = torch.optim.Adam(model.parameters())"
   ]
  },
  {
   "cell_type": "code",
   "execution_count": 221,
   "metadata": {},
   "outputs": [
    {
     "name": "stderr",
     "output_type": "stream",
     "text": [
      "100%|██████████| 10/10 [00:00<00:00, 26.32it/s]\n"
     ]
    },
    {
     "name": "stdout",
     "output_type": "stream",
     "text": [
      "epoch 1 : 0.5476763904094696\n"
     ]
    },
    {
     "name": "stderr",
     "output_type": "stream",
     "text": [
      "100%|██████████| 10/10 [00:00<00:00, 34.46it/s]\n"
     ]
    },
    {
     "name": "stdout",
     "output_type": "stream",
     "text": [
      "epoch 2 : 0.4571013182401657\n"
     ]
    },
    {
     "name": "stderr",
     "output_type": "stream",
     "text": [
      "100%|██████████| 10/10 [00:00<00:00, 63.06it/s]\n"
     ]
    },
    {
     "name": "stdout",
     "output_type": "stream",
     "text": [
      "epoch 3 : 0.4095168739557266\n"
     ]
    },
    {
     "name": "stderr",
     "output_type": "stream",
     "text": [
      "100%|██████████| 10/10 [00:00<00:00, 84.97it/s]\n"
     ]
    },
    {
     "name": "stdout",
     "output_type": "stream",
     "text": [
      "epoch 4 : 0.36796596050262453\n"
     ]
    },
    {
     "name": "stderr",
     "output_type": "stream",
     "text": [
      "100%|██████████| 10/10 [00:00<00:00, 91.15it/s]\n"
     ]
    },
    {
     "name": "stdout",
     "output_type": "stream",
     "text": [
      "epoch 5 : 0.3231422692537308\n"
     ]
    },
    {
     "name": "stderr",
     "output_type": "stream",
     "text": [
      "100%|██████████| 10/10 [00:00<00:00, 73.73it/s]\n"
     ]
    },
    {
     "name": "stdout",
     "output_type": "stream",
     "text": [
      "epoch 6 : 0.274935083091259\n"
     ]
    },
    {
     "name": "stderr",
     "output_type": "stream",
     "text": [
      "100%|██████████| 10/10 [00:00<00:00, 90.78it/s]\n"
     ]
    },
    {
     "name": "stdout",
     "output_type": "stream",
     "text": [
      "epoch 7 : 0.2615450620651245\n"
     ]
    },
    {
     "name": "stderr",
     "output_type": "stream",
     "text": [
      "100%|██████████| 10/10 [00:00<00:00, 90.57it/s]\n"
     ]
    },
    {
     "name": "stdout",
     "output_type": "stream",
     "text": [
      "epoch 8 : 0.21865840405225753\n"
     ]
    },
    {
     "name": "stderr",
     "output_type": "stream",
     "text": [
      "100%|██████████| 10/10 [00:00<00:00, 79.59it/s]\n"
     ]
    },
    {
     "name": "stdout",
     "output_type": "stream",
     "text": [
      "epoch 9 : 0.19761861115694046\n"
     ]
    },
    {
     "name": "stderr",
     "output_type": "stream",
     "text": [
      "100%|██████████| 10/10 [00:00<00:00, 87.49it/s]\n"
     ]
    },
    {
     "name": "stdout",
     "output_type": "stream",
     "text": [
      "epoch 10 : 0.16456803381443025\n"
     ]
    },
    {
     "name": "stderr",
     "output_type": "stream",
     "text": [
      "100%|██████████| 10/10 [00:00<00:00, 87.23it/s]\n"
     ]
    },
    {
     "name": "stdout",
     "output_type": "stream",
     "text": [
      "epoch 11 : 0.14419522881507874\n"
     ]
    },
    {
     "name": "stderr",
     "output_type": "stream",
     "text": [
      "100%|██████████| 10/10 [00:00<00:00, 88.73it/s]\n"
     ]
    },
    {
     "name": "stdout",
     "output_type": "stream",
     "text": [
      "epoch 12 : 0.1200312539935112\n"
     ]
    },
    {
     "name": "stderr",
     "output_type": "stream",
     "text": [
      "100%|██████████| 10/10 [00:00<00:00, 87.19it/s]\n"
     ]
    },
    {
     "name": "stdout",
     "output_type": "stream",
     "text": [
      "epoch 13 : 0.10818595662713051\n"
     ]
    },
    {
     "name": "stderr",
     "output_type": "stream",
     "text": [
      "100%|██████████| 10/10 [00:00<00:00, 56.97it/s]\n"
     ]
    },
    {
     "name": "stdout",
     "output_type": "stream",
     "text": [
      "epoch 14 : 0.09459726437926293\n"
     ]
    },
    {
     "name": "stderr",
     "output_type": "stream",
     "text": [
      "100%|██████████| 10/10 [00:00<00:00, 72.66it/s]\n"
     ]
    },
    {
     "name": "stdout",
     "output_type": "stream",
     "text": [
      "epoch 15 : 0.08217835053801537\n"
     ]
    },
    {
     "name": "stderr",
     "output_type": "stream",
     "text": [
      "100%|██████████| 10/10 [00:00<00:00, 80.86it/s]\n"
     ]
    },
    {
     "name": "stdout",
     "output_type": "stream",
     "text": [
      "epoch 16 : 0.06965986602008342\n"
     ]
    },
    {
     "name": "stderr",
     "output_type": "stream",
     "text": [
      "100%|██████████| 10/10 [00:00<00:00, 84.26it/s]\n"
     ]
    },
    {
     "name": "stdout",
     "output_type": "stream",
     "text": [
      "epoch 17 : 0.058989540114998816\n"
     ]
    },
    {
     "name": "stderr",
     "output_type": "stream",
     "text": [
      "100%|██████████| 10/10 [00:00<00:00, 80.86it/s]\n"
     ]
    },
    {
     "name": "stdout",
     "output_type": "stream",
     "text": [
      "epoch 18 : 0.05141771398484707\n"
     ]
    },
    {
     "name": "stderr",
     "output_type": "stream",
     "text": [
      "100%|██████████| 10/10 [00:00<00:00, 82.87it/s]\n"
     ]
    },
    {
     "name": "stdout",
     "output_type": "stream",
     "text": [
      "epoch 19 : 0.046194658428430554\n"
     ]
    },
    {
     "name": "stderr",
     "output_type": "stream",
     "text": [
      "100%|██████████| 10/10 [00:00<00:00, 73.19it/s]"
     ]
    },
    {
     "name": "stdout",
     "output_type": "stream",
     "text": [
      "epoch 20 : 0.041906974837183954\n"
     ]
    },
    {
     "name": "stderr",
     "output_type": "stream",
     "text": [
      "\n"
     ]
    }
   ],
   "source": [
    "training_loss = trainer.run(train_iter, model, optimizer, criterion)"
   ]
  },
  {
   "cell_type": "code",
   "execution_count": 222,
   "metadata": {},
   "outputs": [
    {
     "data": {
      "text/plain": [
       "[<matplotlib.lines.Line2D at 0x2ac92eb4410>]"
      ]
     },
     "execution_count": 222,
     "metadata": {},
     "output_type": "execute_result"
    },
    {
     "data": {
      "image/png": "[encoded data removed]",
      "text/plain": [
       "<Figure size 640x480 with 1 Axes>"
      ]
     },
     "metadata": {},
     "output_type": "display_data"
    }
   ],
   "source": [
    "plt.plot(training_loss)"
   ]
  },
  {
   "cell_type": "markdown",
   "metadata": {},
   "source": [
    "# inference\n"
   ]
  },
  {
   "cell_type": "code",
   "execution_count": 223,
   "metadata": {},
   "outputs": [],
   "source": [
    "evaluator = ClassificationEvaluator(LABEL_SIZE, DEVICE)"
   ]
  },
  {
   "cell_type": "code",
   "execution_count": 224,
   "metadata": {},
   "outputs": [
    {
     "name": "stderr",
     "output_type": "stream",
     "text": [
      "100%|██████████| 3/3 [00:00<00:00, 120.32it/s]"
     ]
    },
    {
     "name": "stdout",
     "output_type": "stream",
     "text": [
      "[[18  8  3]\n",
      " [ 0 19  8]\n",
      " [ 0  7 23]]\n"
     ]
    },
    {
     "name": "stderr",
     "output_type": "stream",
     "text": [
      "\n"
     ]
    }
   ],
   "source": [
    "confusion_matrix = evaluator.run(test_iter, model)"
   ]
  },
  {
   "cell_type": "code",
   "execution_count": 225,
   "metadata": {},
   "outputs": [],
   "source": [
    "per_class_accuracy = evaluator.get_per_class_accuracy(confusion_matrix)"
   ]
  },
  {
   "cell_type": "code",
   "execution_count": 226,
   "metadata": {},
   "outputs": [
    {
     "name": "stdout",
     "output_type": "stream",
     "text": [
      "3y-       : 0.6206896551724138\n",
      "3~8y      : 0.7037037037037037\n",
      "8y+       : 0.7666666666666667\n"
     ]
    }
   ],
   "source": [
    "evaluator.show_per_class_accuracy(CLASS_NAMES, per_class_accuracy)"
   ]
  },
  {
   "cell_type": "code",
   "execution_count": 227,
   "metadata": {},
   "outputs": [
    {
     "data": {
      "text/plain": [
       "array(0.69767442)"
      ]
     },
     "execution_count": 227,
     "metadata": {},
     "output_type": "execute_result"
    }
   ],
   "source": [
    "evaluator.get_total_accuracy(confusion_matrix)"
   ]
  },
  {
   "cell_type": "code",
   "execution_count": 228,
   "metadata": {},
   "outputs": [
    {
     "data": {
      "image/png": "[encoded data removed]",
      "text/plain": [
       "<Figure size 400x300 with 2 Axes>"
      ]
     },
     "metadata": {},
     "output_type": "display_data"
    }
   ],
   "source": [
    "evaluator.plot_confusion_matrix(confusion_matrix, CLASS_NAMES, cmap=\"Blues\")"
   ]
  },
  {
   "cell_type": "markdown",
   "metadata": {},
   "source": [
    "# File"
   ]
  },
  {
   "cell_type": "code",
   "execution_count": 229,
   "metadata": {},
   "outputs": [],
   "source": [
    "model_path = artifacts_path.joinpath(\"textcnn.pth\")"
   ]
  },
  {
   "cell_type": "code",
   "execution_count": 230,
   "metadata": {},
   "outputs": [],
   "source": [
    "torch.save(model.state_dict(), model_path)"
   ]
  },
  {
   "cell_type": "code",
   "execution_count": 231,
   "metadata": {},
   "outputs": [
    {
     "data": {
      "text/plain": [
       "'273.75KB'"
      ]
     },
     "execution_count": 231,
     "metadata": {},
     "output_type": "execute_result"
    }
   ],
   "source": [
    "get_file_size(model_path, unit=\"K\")"
   ]
  },
  {
   "cell_type": "code",
   "execution_count": 232,
   "metadata": {},
   "outputs": [
    {
     "data": {
      "text/plain": [
       "<All keys matched successfully>"
      ]
     },
     "execution_count": 232,
     "metadata": {},
     "output_type": "execute_result"
    }
   ],
   "source": [
    "model.load_state_dict(torch.load(model_path))"
   ]
  }
 ],
 "metadata": {
  "kernelspec": {
   "display_name": "Python 3",
   "language": "python",
   "name": "python3"
  },
  "language_info": {
   "codemirror_mode": {
    "name": "ipython",
    "version": 3
   },
   "file_extension": ".py",
   "mimetype": "text/x-python",
   "name": "python",
   "nbconvert_exporter": "python",
   "pygments_lexer": "ipython3",
   "version": "3.11.4"
  }
 },
 "nbformat": 4,
 "nbformat_minor": 2
}
