{
 "cells": [
  {
   "cell_type": "code",
   "execution_count": 1,
   "metadata": {},
   "outputs": [],
   "source": [
    "from pathlib import Path\n",
    "\n",
    "import torch\n",
    "import torchinfo\n",
    "import torchtext.transforms as T\n",
    "from torch import nn\n",
    "from torch.utils.data import DataLoader\n",
    "from torchlake.common.controller.evaluator import ClassificationEvaluator\n",
    "from torchlake.common.metrics.classification import IncrementalConfusionMatrix\n",
    "from torchlake.common.schemas import NlpContext\n",
    "from torchlake.sequence_data.models import LstmClassifier\n",
    "from torchtext.datasets import CoNLL2000Chunking\n",
    "from torchlake.common.utils.text import build_vocab\n",
    "from tqdm import tqdm"
   ]
  },
  {
   "cell_type": "markdown",
   "metadata": {},
   "source": [
    "# setting\n"
   ]
  },
  {
   "cell_type": "code",
   "execution_count": 2,
   "metadata": {},
   "outputs": [],
   "source": [
    "data_path = Path(\"../../data/CoNLL2000\")\n",
    "artifacts_path = Path(\"../../artifacts/bilstm\")"
   ]
  },
  {
   "cell_type": "code",
   "execution_count": 3,
   "metadata": {},
   "outputs": [],
   "source": [
    "batch_size = 128\n",
    "context = NlpContext()"
   ]
  },
  {
   "cell_type": "markdown",
   "metadata": {},
   "source": [
    "# data\n"
   ]
  },
  {
   "cell_type": "code",
   "execution_count": 4,
   "metadata": {},
   "outputs": [],
   "source": [
    "def datapipe_factory(datapipe, text_transform=None, label_transform=None):\n",
    "    datapipe = datapipe.map(\n",
    "        lambda item: [[word.lower() for word in item[0]], item[1]]\n",
    "    ).filter(lambda item: len(item[0]) > context.min_seq_len)\n",
    "\n",
    "    if text_transform:\n",
    "        datapipe = datapipe.map(lambda item: (text_transform(item[0]), item[1]))\n",
    "\n",
    "    if label_transform:\n",
    "        datapipe = datapipe.map(lambda item: (item[0], label_transform(item[1])))\n",
    "\n",
    "    return datapipe"
   ]
  },
  {
   "cell_type": "code",
   "execution_count": 5,
   "metadata": {},
   "outputs": [],
   "source": [
    "train_data, test_data = CoNLL2000Chunking(data_path.as_posix())"
   ]
  },
  {
   "cell_type": "code",
   "execution_count": 6,
   "metadata": {},
   "outputs": [],
   "source": [
    "vocab = build_vocab(map(lambda it: it[0], train_data))\n",
    "label_vocab = build_vocab(map(lambda it: it[1], train_data))"
   ]
  },
  {
   "cell_type": "code",
   "execution_count": 7,
   "metadata": {},
   "outputs": [],
   "source": [
    "text_transform = T.Sequential(\n",
    "    T.VocabTransform(vocab),\n",
    "    T.Truncate(context.max_seq_len - 2),\n",
    "    T.AddToken(token=context.bos_idx, begin=True),\n",
    "    T.AddToken(token=context.eos_idx, begin=False),\n",
    "    T.ToTensor(),\n",
    "    T.PadTransform(context.max_seq_len, context.padding_idx),\n",
    ")"
   ]
  },
  {
   "cell_type": "code",
   "execution_count": 8,
   "metadata": {},
   "outputs": [],
   "source": [
    "label_transform = T.Sequential(\n",
    "    T.VocabTransform(label_vocab),\n",
    "    T.Truncate(context.max_seq_len - 2),\n",
    "    T.AddToken(token=context.bos_idx, begin=True),\n",
    "    T.AddToken(token=context.eos_idx, begin=False),\n",
    "    T.ToTensor(),\n",
    "    T.PadTransform(context.max_seq_len, context.padding_idx),\n",
    ")"
   ]
  },
  {
   "cell_type": "code",
   "execution_count": 9,
   "metadata": {},
   "outputs": [],
   "source": [
    "def collate_fn(batch: list):\n",
    "    text_placeholder, label_placeholder = [], []\n",
    "\n",
    "    for row in batch:\n",
    "        text, label = row[0], row[1]\n",
    "        text_placeholder.append(text)\n",
    "        label_placeholder.append(label)\n",
    "\n",
    "    return torch.stack(text_placeholder), torch.stack(label_placeholder)"
   ]
  },
  {
   "cell_type": "code",
   "execution_count": 10,
   "metadata": {},
   "outputs": [
    {
     "name": "stderr",
     "output_type": "stream",
     "text": [
      "d:\\research\\pytorch-implementations\\.venv\\Lib\\site-packages\\torch\\utils\\data\\datapipes\\utils\\common.py:141: UserWarning: Local function is not supported by pickle, please use regular python function or functools.partial instead.\n",
      "  warnings.warn(\n"
     ]
    }
   ],
   "source": [
    "train_iter = DataLoader(\n",
    "    datapipe_factory(train_data, text_transform, label_transform),\n",
    "    batch_size=batch_size,\n",
    "    collate_fn=collate_fn,\n",
    "    shuffle=True,\n",
    "    drop_last=True,\n",
    ")\n",
    "\n",
    "test_iter = DataLoader(\n",
    "    datapipe_factory(test_data, text_transform, label_transform),\n",
    "    batch_size=batch_size,\n",
    "    collate_fn=collate_fn,\n",
    ")"
   ]
  },
  {
   "cell_type": "markdown",
   "metadata": {},
   "source": [
    "# model\n"
   ]
  },
  {
   "cell_type": "code",
   "execution_count": 11,
   "metadata": {},
   "outputs": [],
   "source": [
    "vocab_size = len(vocab)\n",
    "label_size = len(label_vocab)"
   ]
  },
  {
   "cell_type": "code",
   "execution_count": 12,
   "metadata": {},
   "outputs": [],
   "source": [
    "device = torch.device(context.device)"
   ]
  },
  {
   "cell_type": "code",
   "execution_count": 13,
   "metadata": {},
   "outputs": [],
   "source": [
    "model = LstmClassifier(\n",
    "    vocab_size,\n",
    "    128,\n",
    "    128,\n",
    "    label_size,\n",
    "    bidirectional=True,\n",
    "    context=context,\n",
    "    is_sequence=True,\n",
    ").to(device)"
   ]
  },
  {
   "cell_type": "code",
   "execution_count": 14,
   "metadata": {},
   "outputs": [
    {
     "data": {
      "text/plain": [
       "=================================================================\n",
       "Layer (type:depth-idx)                   Param #\n",
       "=================================================================\n",
       "LstmClassifier                           --\n",
       "├─Embedding: 1-1                         563,968\n",
       "├─LSTM: 1-2                              264,192\n",
       "├─LayerNorm: 1-3                         512\n",
       "├─Linear: 1-4                            12,336\n",
       "=================================================================\n",
       "Total params: 841,008\n",
       "Trainable params: 841,008\n",
       "Non-trainable params: 0\n",
       "================================================================="
      ]
     },
     "execution_count": 14,
     "metadata": {},
     "output_type": "execute_result"
    }
   ],
   "source": [
    "torchinfo.summary(model)"
   ]
  },
  {
   "cell_type": "markdown",
   "metadata": {},
   "source": [
    "# train\n"
   ]
  },
  {
   "cell_type": "code",
   "execution_count": 15,
   "metadata": {},
   "outputs": [],
   "source": [
    "criterion = nn.CrossEntropyLoss(ignore_index=context.padding_idx)\n",
    "optimizer = torch.optim.SGD(model.parameters(), lr=0.01, weight_decay=1e-4)"
   ]
  },
  {
   "cell_type": "code",
   "execution_count": 16,
   "metadata": {},
   "outputs": [
    {
     "name": "stderr",
     "output_type": "stream",
     "text": [
      "67it [00:07,  9.23it/s]\n"
     ]
    },
    {
     "name": "stdout",
     "output_type": "stream",
     "text": [
      "epoch 1: 0.022630995195080984\n"
     ]
    },
    {
     "name": "stderr",
     "output_type": "stream",
     "text": [
      "67it [00:04, 15.20it/s]\n"
     ]
    },
    {
     "name": "stdout",
     "output_type": "stream",
     "text": [
      "epoch 2: 0.016153694936699832\n"
     ]
    },
    {
     "name": "stderr",
     "output_type": "stream",
     "text": [
      "67it [00:04, 16.10it/s]\n"
     ]
    },
    {
     "name": "stdout",
     "output_type": "stream",
     "text": [
      "epoch 3: 0.014119819793572177\n"
     ]
    },
    {
     "name": "stderr",
     "output_type": "stream",
     "text": [
      "67it [00:04, 16.28it/s]\n"
     ]
    },
    {
     "name": "stdout",
     "output_type": "stream",
     "text": [
      "epoch 4: 0.012886879854460262\n"
     ]
    },
    {
     "name": "stderr",
     "output_type": "stream",
     "text": [
      "67it [00:04, 15.39it/s]\n"
     ]
    },
    {
     "name": "stdout",
     "output_type": "stream",
     "text": [
      "epoch 5: 0.012007282254522416\n"
     ]
    },
    {
     "name": "stderr",
     "output_type": "stream",
     "text": [
      "67it [00:04, 16.63it/s]\n"
     ]
    },
    {
     "name": "stdout",
     "output_type": "stream",
     "text": [
      "epoch 6: 0.011335436185238077\n"
     ]
    },
    {
     "name": "stderr",
     "output_type": "stream",
     "text": [
      "67it [00:04, 16.20it/s]\n"
     ]
    },
    {
     "name": "stdout",
     "output_type": "stream",
     "text": [
      "epoch 7: 0.010797563259170126\n"
     ]
    },
    {
     "name": "stderr",
     "output_type": "stream",
     "text": [
      "67it [00:04, 16.22it/s]\n"
     ]
    },
    {
     "name": "stdout",
     "output_type": "stream",
     "text": [
      "epoch 8: 0.010353772720294212\n"
     ]
    },
    {
     "name": "stderr",
     "output_type": "stream",
     "text": [
      "67it [00:04, 16.14it/s]\n"
     ]
    },
    {
     "name": "stdout",
     "output_type": "stream",
     "text": [
      "epoch 9: 0.009983296283701463\n"
     ]
    },
    {
     "name": "stderr",
     "output_type": "stream",
     "text": [
      "67it [00:04, 15.23it/s]"
     ]
    },
    {
     "name": "stdout",
     "output_type": "stream",
     "text": [
      "epoch 10: 0.009664265730821374\n"
     ]
    },
    {
     "name": "stderr",
     "output_type": "stream",
     "text": [
      "\n"
     ]
    }
   ],
   "source": [
    "model.train()\n",
    "for epoch in range(10):\n",
    "    running_loss = 0.0\n",
    "\n",
    "    dataset_count = 0\n",
    "    for text, label in tqdm(train_iter):\n",
    "        optimizer.zero_grad()\n",
    "\n",
    "        text = text.to(device)\n",
    "        label = label.to(device)\n",
    "\n",
    "        output = model(text).permute(0, 2, 1)\n",
    "        loss = criterion(output, label)\n",
    "        running_loss += loss.item()\n",
    "\n",
    "        loss.backward()\n",
    "        optimizer.step()\n",
    "        dataset_count += text.size(0)\n",
    "\n",
    "    print(f\"epoch {epoch+1}: {running_loss/dataset_count}\")"
   ]
  },
  {
   "cell_type": "markdown",
   "metadata": {},
   "source": [
    "# inference\n"
   ]
  },
  {
   "cell_type": "code",
   "execution_count": 17,
   "metadata": {},
   "outputs": [],
   "source": [
    "evaluator = ClassificationEvaluator(label_size, device)"
   ]
  },
  {
   "cell_type": "code",
   "execution_count": 18,
   "metadata": {},
   "outputs": [
    {
     "name": "stderr",
     "output_type": "stream",
     "text": [
      "67it [00:06, 11.07it/s]"
     ]
    },
    {
     "name": "stdout",
     "output_type": "stream",
     "text": [
      "[[   0    0    0 ...    0    0    0]\n",
      " [   0 8576    0 ...    0    0    0]\n",
      " [   0    0 8576 ...    0    0    0]\n",
      " ...\n",
      " [   0    0    0 ...    0    0    0]\n",
      " [   0    0    0 ...    0    0    0]\n",
      " [   0    0    0 ...    0    0    0]]\n"
     ]
    },
    {
     "name": "stderr",
     "output_type": "stream",
     "text": [
      "\n"
     ]
    }
   ],
   "source": [
    "with torch.no_grad():\n",
    "    model.eval()\n",
    "\n",
    "    confusion_matrix = IncrementalConfusionMatrix(label_size)\n",
    "    for text, label in tqdm(train_iter):\n",
    "        text = text.to(device)\n",
    "\n",
    "        output = model(text).argmax(dim=2)\n",
    "\n",
    "        confusion_matrix.update(\n",
    "            label.view(-1).numpy(),\n",
    "            output.view(-1).detach().cpu().numpy(),\n",
    "        )\n",
    "\n",
    "    print(confusion_matrix)"
   ]
  },
  {
   "cell_type": "code",
   "execution_count": 19,
   "metadata": {},
   "outputs": [
    {
     "name": "stdout",
     "output_type": "stream",
     "text": [
      "<unk>     : 0.0\n",
      "<bos>     : 1.0\n",
      "<eos>     : 1.0\n",
      "<pad>     : 0.0\n",
      "NN        : 0.7329493785995757\n",
      "IN        : 0.9125673329475137\n",
      "NNP       : 0.772617642530918\n",
      "DT        : 0.9318144113255544\n",
      "NNS       : 0.2450519082829188\n",
      "JJ        : 0.1636010865347303\n",
      ",         : 1.0\n",
      ".         : 0.990086307441101\n",
      "CD        : 0.45897028249969424\n",
      "VBD       : 0.4926315789473684\n",
      "RB        : 0.2109169630431421\n",
      "VB        : 0.48472058078676344\n",
      "CC        : 0.9532868713505368\n",
      "TO        : 0.9998006776958341\n",
      "VBN       : 0.07672579611027998\n",
      "VBZ       : 0.5518453427065027\n",
      "PRP       : 0.7023206188316885\n",
      "VBG       : 0.00030959752321981426\n",
      "VBP       : 0.4578313253012048\n",
      "MD        : 0.5553990610328638\n",
      "PRP$      : 0.6252019386106623\n",
      "POS       : 0.92573402417962\n",
      "$         : 0.9856156501726122\n",
      "``        : 0.9815059445178336\n",
      "''        : 0.9824442943956786\n",
      ":         : 0.30697190426638915\n",
      "WDT       : 0.05951115834218916\n",
      "JJR       : 0.07337278106508875\n",
      "WP        : 0.5684007707129094\n",
      "WRB       : 0.0\n",
      "NNPS      : 0.0\n",
      "JJS       : 0.0\n",
      "RBR       : 0.0\n",
      ")         : 0.0\n",
      "(         : 0.0\n",
      "EX        : 0.0\n",
      "RBS       : 0.0\n",
      "RP        : 0.0\n",
      "PDT       : 0.0\n",
      "FW        : 0.0\n",
      "#         : 0.0\n",
      "WP$       : 0.0\n",
      "UH        : 0.0\n",
      "SYM       : 0.0\n"
     ]
    },
    {
     "name": "stderr",
     "output_type": "stream",
     "text": [
      "d:\\research\\pytorch-implementations\\.venv\\Lib\\site-packages\\torchlake\\common\\controller\\evaluator.py:63: RuntimeWarning: invalid value encountered in divide\n",
      "  return np.where(total == 0, 0, hits / total)\n"
     ]
    }
   ],
   "source": [
    "per_class_acc = evaluator.get_per_class_accuracy(confusion_matrix)\n",
    "evaluator.show_per_class_accuracy(label_vocab.get_itos(), per_class_acc)"
   ]
  },
  {
   "cell_type": "code",
   "execution_count": 31,
   "metadata": {},
   "outputs": [
    {
     "data": {
      "text/plain": [
       "0.4000459422865499"
      ]
     },
     "execution_count": 31,
     "metadata": {},
     "output_type": "execute_result"
    }
   ],
   "source": [
    "per_class_acc.mean()"
   ]
  },
  {
   "cell_type": "code",
   "execution_count": 21,
   "metadata": {},
   "outputs": [
    {
     "name": "stderr",
     "output_type": "stream",
     "text": [
      "d:\\research\\pytorch-implementations\\.venv\\Lib\\site-packages\\torchlake\\common\\controller\\evaluator.py:82: RuntimeWarning: invalid value encountered in divide\n",
      "  percentage = np.where(total == 0, 0, hits / total)\n"
     ]
    },
    {
     "data": {
      "image/png": "[encoded data removed]",
      "text/plain": [
       "<Figure size 800x800 with 2 Axes>"
      ]
     },
     "metadata": {},
     "output_type": "display_data"
    }
   ],
   "source": [
    "evaluator.plot_confusion_matrix(confusion_matrix, label_vocab.get_itos(), 'Blues', annot=False, figsize=(8, 8))\n"
   ]
  },
  {
   "cell_type": "code",
   "execution_count": 22,
   "metadata": {},
   "outputs": [],
   "source": [
    "model_path = artifacts_path / 'bilstm.pth'"
   ]
  },
  {
   "cell_type": "code",
   "execution_count": 23,
   "metadata": {},
   "outputs": [],
   "source": [
    "torch.save(model.state_dict(), model_path.as_posix())"
   ]
  },
  {
   "cell_type": "code",
   "execution_count": 24,
   "metadata": {},
   "outputs": [
    {
     "data": {
      "text/plain": [
       "<All keys matched successfully>"
      ]
     },
     "execution_count": 24,
     "metadata": {},
     "output_type": "execute_result"
    }
   ],
   "source": [
    "model.load_state_dict(torch.load(model_path.as_posix()))"
   ]
  }
 ],
 "metadata": {
  "kernelspec": {
   "display_name": "Python 3",
   "language": "python",
   "name": "python3"
  },
  "language_info": {
   "codemirror_mode": {
    "name": "ipython",
    "version": 3
   },
   "file_extension": ".py",
   "mimetype": "text/x-python",
   "name": "python",
   "nbconvert_exporter": "python",
   "pygments_lexer": "ipython3",
   "version": "3.11.4"
  }
 },
 "nbformat": 4,
 "nbformat_minor": 2
}
