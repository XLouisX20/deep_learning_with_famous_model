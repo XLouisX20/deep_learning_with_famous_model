{
    "cells": [
        {
            "cell_type": "code",
            "execution_count": 160,
            "metadata": {},
            "outputs": [],
            "source": [
                "from pathlib import Path\n",
                "\n",
                "import matplotlib.pyplot as plt\n",
                "import torch\n",
                "import torchtext\n",
                "import torchinfo\n",
                "import torchtext.transforms as T\n",
                "from torch import nn\n",
                "from torch.utils.data import DataLoader\n",
                "from torchlake.common.schemas import NlpContext\n",
                "from torchlake.common.controller.evaluator import ClassificationEvaluator\n",
                "from torchlake.common.metrics.classification import IncrementalConfusionMatrix\n",
                "from torchlake.sequence_data.models import LstmClassifier\n",
                "from torchtext.data.utils import get_tokenizer\n",
                "from torchlake.common.utils.text import build_vocab\n",
                "from tqdm import tqdm"
            ]
        },
        {
            "cell_type": "code",
            "execution_count": 161,
            "metadata": {},
            "outputs": [
                {
                    "data": {
                        "text/plain": [
                            "'2.1.0+cu118'"
                        ]
                    },
                    "execution_count": 161,
                    "metadata": {},
                    "output_type": "execute_result"
                }
            ],
            "source": [
                "torch.__version__"
            ]
        },
        {
            "cell_type": "code",
            "execution_count": 162,
            "metadata": {},
            "outputs": [
                {
                    "data": {
                        "text/plain": [
                            "'0.16.0+cpu'"
                        ]
                    },
                    "execution_count": 162,
                    "metadata": {},
                    "output_type": "execute_result"
                }
            ],
            "source": [
                "torchtext.__version__"
            ]
        },
        {
            "cell_type": "markdown",
            "metadata": {},
            "source": [
                "# setting\n"
            ]
        },
        {
            "cell_type": "code",
            "execution_count": 163,
            "metadata": {},
            "outputs": [],
            "source": [
                "batch_size = 512\n",
                "context = NlpContext()"
            ]
        },
        {
            "cell_type": "code",
            "execution_count": 164,
            "metadata": {},
            "outputs": [],
            "source": [
                "tokenizer = get_tokenizer(\"basic_english\")"
            ]
        },
        {
            "cell_type": "code",
            "execution_count": 165,
            "metadata": {},
            "outputs": [],
            "source": [
                "artifact_path = Path(\"../../artifacts/lstm\")\n",
                "dataset_path = Path(\"../../data/AGNews\")"
            ]
        },
        {
            "cell_type": "markdown",
            "metadata": {},
            "source": [
                "# dataset\n"
            ]
        },
        {
            "cell_type": "code",
            "execution_count": 166,
            "metadata": {},
            "outputs": [],
            "source": [
                "def datapipe_factory(datapipe, transform=None):\n",
                "    datapipe = (\n",
                "        datapipe\n",
                "            .map(lambda item: (item[0], item[1].strip()))\n",
                "            .map(lambda item: (item[0], item[1].lower()))\n",
                "            .filter(lambda item: len(item[1]) > context.min_seq_len)\n",
                "            .map(lambda item: (item[0], tokenizer(item[1])))\n",
                "        # .map(lambda text: drop_keywords(text, stopwords.words('english')))\n",
                "        # .filter(lambda tokens: drop_short_text(tokens, context_size))\n",
                "    )\n",
                "\n",
                "    if transform:\n",
                "        datapipe = datapipe.map(lambda item: (item[0], transform(item[1])))\n",
                "\n",
                "    return datapipe"
            ]
        },
        {
            "cell_type": "code",
            "execution_count": 167,
            "metadata": {},
            "outputs": [],
            "source": [
                "train_datapipe, test_datapipe = torchtext.datasets.AG_NEWS(dataset_path.as_posix())"
            ]
        },
        {
            "cell_type": "code",
            "execution_count": 168,
            "metadata": {},
            "outputs": [
                {
                    "name": "stderr",
                    "output_type": "stream",
                    "text": [
                        "d:\\research\\pytorch-implementations\\.venv\\Lib\\site-packages\\torch\\utils\\data\\datapipes\\utils\\common.py:141: UserWarning: Local function is not supported by pickle, please use regular python function or functools.partial instead.\n",
                        "  warnings.warn(\n"
                    ]
                }
            ],
            "source": [
                "vocab = build_vocab(map(lambda x: x[1], datapipe_factory(train_datapipe)))"
            ]
        },
        {
            "cell_type": "code",
            "execution_count": 169,
            "metadata": {},
            "outputs": [],
            "source": [
                "text_transform = T.Sequential(\n",
                "    T.VocabTransform(vocab),\n",
                "    T.Truncate(context.max_seq_len - 2),\n",
                "    T.AddToken(token=context.bos_idx, begin=True),\n",
                "    T.AddToken(token=context.eos_idx, begin=False),\n",
                "    T.ToTensor(),\n",
                "    T.PadTransform(context.max_seq_len, context.padding_idx),\n",
                ")"
            ]
        },
        {
            "cell_type": "code",
            "execution_count": 170,
            "metadata": {},
            "outputs": [],
            "source": [
                "train_datapipe = datapipe_factory(\n",
                "    train_datapipe,\n",
                "    text_transform,\n",
                ")\n",
                "\n",
                "test_datapipe = datapipe_factory(\n",
                "    test_datapipe,\n",
                "    text_transform,\n",
                ")"
            ]
        },
        {
            "cell_type": "code",
            "execution_count": 171,
            "metadata": {},
            "outputs": [],
            "source": [
                "def collate_fn(batch: list):\n",
                "    text_placeholder, label_placeholder = [], []\n",
                "    for label, text in batch:\n",
                "        text_placeholder.append(text)\n",
                "        label_placeholder.append(label)\n",
                "\n",
                "    return torch.stack(text_placeholder), torch.Tensor(label_placeholder)"
            ]
        },
        {
            "cell_type": "code",
            "execution_count": 172,
            "metadata": {},
            "outputs": [],
            "source": [
                "train_dataloader = DataLoader(\n",
                "    train_datapipe,\n",
                "    batch_size=batch_size,\n",
                "    collate_fn=collate_fn,\n",
                "    shuffle=True,\n",
                ")\n",
                "\n",
                "test_dataloader = DataLoader(\n",
                "    test_datapipe,\n",
                "    batch_size=batch_size,\n",
                "    collate_fn=collate_fn,\n",
                ")"
            ]
        },
        {
            "cell_type": "code",
            "execution_count": 173,
            "metadata": {},
            "outputs": [
                {
                    "name": "stdout",
                    "output_type": "stream",
                    "text": [
                        "torch.Size([512, 256]) torch.Size([512])\n"
                    ]
                }
            ],
            "source": [
                "for text, label in train_dataloader:\n",
                "    print(text.shape, label.shape)\n",
                "    break"
            ]
        },
        {
            "cell_type": "markdown",
            "metadata": {},
            "source": [
                "# model\n"
            ]
        },
        {
            "cell_type": "code",
            "execution_count": 174,
            "metadata": {},
            "outputs": [
                {
                    "data": {
                        "text/plain": [
                            "30335"
                        ]
                    },
                    "execution_count": 174,
                    "metadata": {},
                    "output_type": "execute_result"
                }
            ],
            "source": [
                "vocab_size = len(vocab)\n",
                "vocab_size"
            ]
        },
        {
            "cell_type": "code",
            "execution_count": 175,
            "metadata": {},
            "outputs": [],
            "source": [
                "label_size = 4"
            ]
        },
        {
            "cell_type": "code",
            "execution_count": 176,
            "metadata": {},
            "outputs": [],
            "source": [
                "device = torch.device(context.device)"
            ]
        },
        {
            "cell_type": "code",
            "execution_count": 177,
            "metadata": {},
            "outputs": [],
            "source": [
                "embed_dim = 256\n",
                "hidden_dim = 256\n",
                "model = LstmClassifier(\n",
                "    vocab_size,\n",
                "    embed_dim,\n",
                "    hidden_dim,\n",
                "    label_size,\n",
                "    num_layers=1,\n",
                "    context=context,\n",
                ").to(device)"
            ]
        },
        {
            "cell_type": "code",
            "execution_count": 178,
            "metadata": {},
            "outputs": [
                {
                    "data": {
                        "text/plain": [
                            "=================================================================\n",
                            "Layer (type:depth-idx)                   Param #\n",
                            "=================================================================\n",
                            "LstmClassifier                           --\n",
                            "├─Embedding: 1-1                         7,765,760\n",
                            "├─LSTM: 1-2                              2,105,344\n",
                            "├─LayerNorm: 1-3                         512\n",
                            "├─Linear: 1-4                            1,028\n",
                            "=================================================================\n",
                            "Total params: 9,872,644\n",
                            "Trainable params: 9,872,644\n",
                            "Non-trainable params: 0\n",
                            "================================================================="
                        ]
                    },
                    "execution_count": 178,
                    "metadata": {},
                    "output_type": "execute_result"
                }
            ],
            "source": [
                "torchinfo.summary(model)"
            ]
        },
        {
            "cell_type": "code",
            "execution_count": 179,
            "metadata": {},
            "outputs": [],
            "source": [
                "criterion = nn.CrossEntropyLoss(ignore_index=context.padding_idx)\n",
                "optimizer = torch.optim.Adam(model.parameters())"
            ]
        },
        {
            "cell_type": "code",
            "execution_count": 180,
            "metadata": {},
            "outputs": [],
            "source": [
                "epoches = 10"
            ]
        },
        {
            "cell_type": "code",
            "execution_count": 181,
            "metadata": {},
            "outputs": [
                {
                    "name": "stderr",
                    "output_type": "stream",
                    "text": [
                        "0it [00:00, ?it/s]d:\\research\\pytorch-implementations\\.venv\\Lib\\site-packages\\torch\\utils\\data\\datapipes\\iter\\combining.py:333: UserWarning: Some child DataPipes are not exhausted when __iter__ is called. We are resetting the buffer and each child DataPipe will read from the start again.\n",
                        "  warnings.warn(\"Some child DataPipes are not exhausted when __iter__ is called. We are resetting \"\n",
                        "235it [00:35,  6.55it/s]\n"
                    ]
                },
                {
                    "name": "stdout",
                    "output_type": "stream",
                    "text": [
                        "epoch 1 : 0.6079397223097213\n"
                    ]
                },
                {
                    "name": "stderr",
                    "output_type": "stream",
                    "text": [
                        "235it [00:33,  6.92it/s]\n"
                    ]
                },
                {
                    "name": "stdout",
                    "output_type": "stream",
                    "text": [
                        "epoch 2 : 0.17800180461812526\n"
                    ]
                },
                {
                    "name": "stderr",
                    "output_type": "stream",
                    "text": [
                        "235it [00:33,  7.02it/s]\n"
                    ]
                },
                {
                    "name": "stdout",
                    "output_type": "stream",
                    "text": [
                        "epoch 3 : 0.12073344905325707\n"
                    ]
                },
                {
                    "name": "stderr",
                    "output_type": "stream",
                    "text": [
                        "235it [00:32,  7.15it/s]\n"
                    ]
                },
                {
                    "name": "stdout",
                    "output_type": "stream",
                    "text": [
                        "epoch 4 : 0.08714607315177614\n"
                    ]
                },
                {
                    "name": "stderr",
                    "output_type": "stream",
                    "text": [
                        "235it [00:35,  6.68it/s]\n"
                    ]
                },
                {
                    "name": "stdout",
                    "output_type": "stream",
                    "text": [
                        "epoch 5 : 0.0689231009480167\n"
                    ]
                },
                {
                    "name": "stderr",
                    "output_type": "stream",
                    "text": [
                        "235it [00:35,  6.56it/s]\n"
                    ]
                },
                {
                    "name": "stdout",
                    "output_type": "stream",
                    "text": [
                        "epoch 6 : 0.053075434943225155\n"
                    ]
                },
                {
                    "name": "stderr",
                    "output_type": "stream",
                    "text": [
                        "235it [00:36,  6.41it/s]\n"
                    ]
                },
                {
                    "name": "stdout",
                    "output_type": "stream",
                    "text": [
                        "epoch 7 : 0.03888517714283885\n"
                    ]
                },
                {
                    "name": "stderr",
                    "output_type": "stream",
                    "text": [
                        "235it [00:35,  6.53it/s]\n"
                    ]
                },
                {
                    "name": "stdout",
                    "output_type": "stream",
                    "text": [
                        "epoch 8 : 0.030877368596005948\n"
                    ]
                },
                {
                    "name": "stderr",
                    "output_type": "stream",
                    "text": [
                        "235it [00:33,  7.00it/s]\n"
                    ]
                },
                {
                    "name": "stdout",
                    "output_type": "stream",
                    "text": [
                        "epoch 9 : 0.02425937910782213\n"
                    ]
                },
                {
                    "name": "stderr",
                    "output_type": "stream",
                    "text": [
                        "235it [00:34,  6.83it/s]"
                    ]
                },
                {
                    "name": "stdout",
                    "output_type": "stream",
                    "text": [
                        "epoch 10 : 0.020805485687278052\n"
                    ]
                },
                {
                    "name": "stderr",
                    "output_type": "stream",
                    "text": [
                        "\n"
                    ]
                }
            ],
            "source": [
                "model.train()\n",
                "training_loss = []\n",
                "for epoch in range(epoches):\n",
                "    running_loss = 0.0\n",
                "    batch_idx = 0\n",
                "    for text, label in tqdm(train_dataloader):\n",
                "        optimizer.zero_grad()\n",
                "\n",
                "        text = text.to(device)\n",
                "        label = label.to(device)\n",
                "        output = model(text)\n",
                "\n",
                "        loss = criterion(output, label.long() - 1)\n",
                "        running_loss += loss.item()\n",
                "\n",
                "        loss.backward()\n",
                "        optimizer.step()\n",
                "        batch_idx += 1\n",
                "\n",
                "    mean_running_loss = running_loss / batch_idx\n",
                "    training_loss.append(mean_running_loss)\n",
                "    print(f\"epoch {epoch+1} : {mean_running_loss}\")"
            ]
        },
        {
            "cell_type": "code",
            "execution_count": 189,
            "metadata": {},
            "outputs": [
                {
                    "data": {
                        "text/plain": [
                            "[<matplotlib.lines.Line2D at 0x23405141950>]"
                        ]
                    },
                    "execution_count": 189,
                    "metadata": {},
                    "output_type": "execute_result"
                },
                {
                    "data": {
                        "image/png": "[encoded data removed]",
                        "text/plain": [
                            "<Figure size 640x480 with 1 Axes>"
                        ]
                    },
                    "metadata": {},
                    "output_type": "display_data"
                }
            ],
            "source": [
                "plt.plot(training_loss)"
            ]
        },
        {
            "cell_type": "markdown",
            "metadata": {},
            "source": [
                "# inference\n"
            ]
        },
        {
            "cell_type": "code",
            "execution_count": 188,
            "metadata": {},
            "outputs": [],
            "source": [
                "evaluator = ClassificationEvaluator(label_size, device)"
            ]
        },
        {
            "cell_type": "code",
            "execution_count": 190,
            "metadata": {},
            "outputs": [
                {
                    "name": "stderr",
                    "output_type": "stream",
                    "text": [
                        "15it [00:01,  7.93it/s]"
                    ]
                },
                {
                    "name": "stdout",
                    "output_type": "stream",
                    "text": [
                        "[[1773   39   88    0]\n",
                        " [  20 1851   29    0]\n",
                        " [  71   18 1811    0]\n",
                        " [ 417   92 1391    0]]\n"
                    ]
                },
                {
                    "name": "stderr",
                    "output_type": "stream",
                    "text": [
                        "\n"
                    ]
                }
            ],
            "source": [
                "with torch.no_grad():\n",
                "    model.eval()\n",
                "\n",
                "    confusion_matrix = IncrementalConfusionMatrix(label_size)\n",
                "    for text, label in tqdm(test_dataloader):\n",
                "        text = text.to(device)\n",
                "\n",
                "        output = model(text).argmax(dim=-1)\n",
                "\n",
                "        confusion_matrix.update(\n",
                "            label.long().view(-1).numpy() -1 ,\n",
                "            output.view(-1).detach().cpu().numpy(),\n",
                "        )\n",
                "\n",
                "    print(confusion_matrix)"
            ]
        },
        {
            "cell_type": "code",
            "execution_count": 191,
            "metadata": {},
            "outputs": [
                {
                    "name": "stdout",
                    "output_type": "stream",
                    "text": [
                        "World     : 0.9331578947368421\n",
                        "Sports    : 0.9742105263157895\n",
                        "Business  : 0.9531578947368421\n",
                        "Sci/Tech  : 0.0\n"
                    ]
                }
            ],
            "source": [
                "per_class_acc = evaluator.get_per_class_accuracy(confusion_matrix)\n",
                "evaluator.show_per_class_accuracy((\"World\", \"Sports\", \"Business\", \"Sci/Tech\") , per_class_acc)"
            ]
        },
        {
            "cell_type": "code",
            "execution_count": 192,
            "metadata": {},
            "outputs": [
                {
                    "data": {
                        "text/plain": [
                            "0.7151315789473685"
                        ]
                    },
                    "execution_count": 192,
                    "metadata": {},
                    "output_type": "execute_result"
                }
            ],
            "source": [
                "per_class_acc.mean()"
            ]
        },
        {
            "cell_type": "code",
            "execution_count": 193,
            "metadata": {},
            "outputs": [
                {
                    "data": {
                        "image/png": "[encoded data removed]",
                        "text/plain": [
                            "<Figure size 600x400 with 2 Axes>"
                        ]
                    },
                    "metadata": {},
                    "output_type": "display_data"
                }
            ],
            "source": [
                "evaluator.plot_confusion_matrix(\n",
                "    confusion_matrix,\n",
                "    (\"World\", \"Sports\", \"Business\", \"Sci/Tech\"),\n",
                "    \"Blues\",\n",
                "    annot=True,\n",
                "    figsize=(6, 4),\n",
                ")"
            ]
        },
        {
            "cell_type": "code",
            "execution_count": 153,
            "metadata": {},
            "outputs": [],
            "source": [
                "model_path = artifact_path.joinpath(\"lstm.pth\")"
            ]
        },
        {
            "cell_type": "code",
            "execution_count": 154,
            "metadata": {},
            "outputs": [],
            "source": [
                "torch.save(model.state_dict(), model_path)"
            ]
        },
        {
            "cell_type": "code",
            "execution_count": 58,
            "metadata": {},
            "outputs": [
                {
                    "data": {
                        "text/plain": [
                            "<All keys matched successfully>"
                        ]
                    },
                    "execution_count": 58,
                    "metadata": {},
                    "output_type": "execute_result"
                }
            ],
            "source": [
                "model.load_state_dict(torch.load(model_path))"
            ]
        }
    ],
    "metadata": {
        "kernelspec": {
            "display_name": "Python 3",
            "language": "python",
            "name": "python3"
        },
        "language_info": {
            "codemirror_mode": {
                "name": "ipython",
                "version": 3
            },
            "file_extension": ".py",
            "mimetype": "text/x-python",
            "name": "python",
            "nbconvert_exporter": "python",
            "pygments_lexer": "ipython3",
            "version": "3.11.4"
        }
    },
    "nbformat": 4,
    "nbformat_minor": 2
}
