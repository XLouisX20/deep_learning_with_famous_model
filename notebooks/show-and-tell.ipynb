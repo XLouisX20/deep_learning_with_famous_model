{
 "cells": [
  {
   "cell_type": "code",
   "execution_count": 1,
   "metadata": {},
   "outputs": [],
   "source": [
    "from pathlib import Path\n",
    "\n",
    "import matplotlib.pyplot as plt\n",
    "import torch\n",
    "import torchinfo\n",
    "import albumentations as A\n",
    "from albumentations.pytorch.transforms import ToTensorV2\n",
    "from torch import nn\n",
    "from torch.utils.data import DataLoader\n",
    "from torchlake.common.schemas import NlpContext\n",
    "from torchlake.common.utils.platform import get_file_size, get_num_workers\n",
    "from torchlake.common.utils.text import build_vocab\n",
    "from torchlake.sequence_data.controller.trainer_rnn_generator import RNNGeneratorTrainer\n",
    "from torchlake.text_generation.datasets.flickr import Flickr8k, Flickr8kFromLMDB\n",
    "from torchlake.text_generation.models.show_and_tell import NeuralImageCation\n",
    "from torchtext.data.utils import get_tokenizer\n",
    "from torchlake.common.controller.weight_manager import WeightManager\n",
    "from torchlake.common.controller.recorder import TrainRecorder\n",
    "import torchtext.transforms as T\n",
    "from tqdm import tqdm"
   ]
  },
  {
   "cell_type": "markdown",
   "metadata": {},
   "source": [
    "To utilize this notebook, you have to install `spacy` and download `de_core_news_sm` and `en_core_web_sm` first"
   ]
  },
  {
   "cell_type": "markdown",
   "metadata": {},
   "source": [
    "# setting"
   ]
  },
  {
   "cell_type": "code",
   "execution_count": 2,
   "metadata": {},
   "outputs": [],
   "source": [
    "data_path = Path(\"F://data/flickr8k\")\n",
    "data_path.mkdir(exist_ok=True)\n",
    "\n",
    "artifacts_path = Path(\"../../artifacts/show-and-tell\")\n",
    "artifacts_path.mkdir(exist_ok=True)"
   ]
  },
  {
   "cell_type": "code",
   "execution_count": 3,
   "metadata": {},
   "outputs": [],
   "source": [
    "BATCH_SIZE = 128\n",
    "CONTEXT = NlpContext()"
   ]
  },
  {
   "cell_type": "code",
   "execution_count": 4,
   "metadata": {},
   "outputs": [],
   "source": [
    "DEVICE = torch.device(CONTEXT.device)"
   ]
  },
  {
   "cell_type": "markdown",
   "metadata": {},
   "source": [
    "# data"
   ]
  },
  {
   "cell_type": "code",
   "execution_count": 5,
   "metadata": {},
   "outputs": [
    {
     "name": "stderr",
     "output_type": "stream",
     "text": [
      "d:\\research\\pytorch-implementations\\.venv\\Lib\\site-packages\\torchtext\\data\\utils.py:105: UserWarning: Spacy model \"en\" could not be loaded, trying \"en_core_web_sm\" instead\n",
      "  warnings.warn(\n"
     ]
    }
   ],
   "source": [
    "tokenizer = get_tokenizer('spacy', language='en')  # en_web_core_sm"
   ]
  },
  {
   "cell_type": "code",
   "execution_count": 6,
   "metadata": {},
   "outputs": [],
   "source": [
    "IMAGE_SIZE = 224"
   ]
  },
  {
   "cell_type": "code",
   "execution_count": 7,
   "metadata": {},
   "outputs": [],
   "source": [
    "image_transform = A.Compose(\n",
    "    [\n",
    "        A.HorizontalFlip(),\n",
    "        A.Resize(IMAGE_SIZE, IMAGE_SIZE),\n",
    "        # extractor will do imagenet normalization, so skip it here\n",
    "        A.Normalize(0, 1), \n",
    "        ToTensorV2(),\n",
    "    ]\n",
    ")"
   ]
  },
  {
   "cell_type": "code",
   "execution_count": 8,
   "metadata": {},
   "outputs": [],
   "source": [
    "# only keep for remind me of how to use official dataset\n",
    "\n",
    "# import joblib\n",
    "# from torchvision.datasets import Flickr8k\n",
    "\n",
    "# cache_path =  Path(\"./cache\")\n",
    "\n",
    "# if cache_path.exists():\n",
    "#     train_iter = joblib.load(cache_path.as_posix())\n",
    "# else:      \n",
    "#     # sloooooooooooooooow\n",
    "#     train_iter = Flickr8k(\n",
    "#         data_path.joinpath(\"Images\"),\n",
    "#         data_path.joinpath(\"8k-pictures.html\"),\n",
    "#         transform=image_transform,\n",
    "#     )\n",
    "#     joblib.dump(train_iter, cache_path.as_posix())  "
   ]
  },
  {
   "cell_type": "code",
   "execution_count": 9,
   "metadata": {},
   "outputs": [],
   "source": [
    "# train_iter = Flickr8k(\n",
    "#     data_path.joinpath(\"Images\"),\n",
    "#     data_path.joinpath(\"captions.txt\"),\n",
    "# )"
   ]
  },
  {
   "cell_type": "code",
   "execution_count": 10,
   "metadata": {},
   "outputs": [],
   "source": [
    "# train_iter.annotations"
   ]
  },
  {
   "cell_type": "code",
   "execution_count": null,
   "metadata": {},
   "outputs": [],
   "source": [
    "# create lmdb one\n",
    "# import lmdb\n",
    "\n",
    "# env = lmdb.Environment(\n",
    "#     data_path.joinpath(\"flickr8k\").as_posix(),\n",
    "#     map_size=1 << 35, # 32GB\n",
    "# )\n",
    "# train_iter = Flickr8k(\n",
    "#     data_path.joinpath(\"Images\"),\n",
    "#     data_path.joinpath(\"captions.txt\"),\n",
    "# )\n",
    "\n",
    "# train_iter.to_lmdb(env)"
   ]
  },
  {
   "cell_type": "code",
   "execution_count": 12,
   "metadata": {},
   "outputs": [],
   "source": [
    "train_iter = Flickr8kFromLMDB(\n",
    "    data_path.joinpath(\"flickr8k\").as_posix(),\n",
    ")"
   ]
  },
  {
   "cell_type": "code",
   "execution_count": 13,
   "metadata": {},
   "outputs": [],
   "source": [
    "vocab = build_vocab(\n",
    "    map(lambda pair: tokenizer(pair[1].lower().strip()), train_iter),\n",
    "    CONTEXT,\n",
    ")"
   ]
  },
  {
   "cell_type": "code",
   "execution_count": 14,
   "metadata": {},
   "outputs": [
    {
     "data": {
      "text/plain": [
       "3102"
      ]
     },
     "execution_count": 14,
     "metadata": {},
     "output_type": "execute_result"
    }
   ],
   "source": [
    "VOCAB_SIZE = len(vocab)\n",
    "VOCAB_SIZE"
   ]
  },
  {
   "cell_type": "code",
   "execution_count": 15,
   "metadata": {},
   "outputs": [],
   "source": [
    "text_transform = T.Sequential(\n",
    "    T.VocabTransform(vocab),\n",
    "    T.Truncate(CONTEXT.max_seq_len - 2),\n",
    "    T.AddToken(token=CONTEXT.bos_idx, begin=True),\n",
    "    T.AddToken(token=CONTEXT.eos_idx, begin=False),\n",
    "    T.ToTensor(),\n",
    "    T.PadTransform(CONTEXT.max_seq_len, CONTEXT.padding_idx),\n",
    ")"
   ]
  },
  {
   "cell_type": "code",
   "execution_count": 16,
   "metadata": {},
   "outputs": [],
   "source": [
    "def text_pipeline(corpus: str) -> list[torch.Tensor]:\n",
    "    x = corpus.lower().strip()\n",
    "    x = tokenizer(x)\n",
    "    x = text_transform(x)\n",
    "    return x"
   ]
  },
  {
   "cell_type": "code",
   "execution_count": 17,
   "metadata": {},
   "outputs": [],
   "source": [
    "# 1GB\n",
    "# train_iter = Flickr8k(\n",
    "#     data_path.joinpath(\"Images\"),\n",
    "#     data_path.joinpath(\"captions.txt\"),\n",
    "#     image_transform,\n",
    "#     text_pipeline,\n",
    "# )"
   ]
  },
  {
   "cell_type": "code",
   "execution_count": 18,
   "metadata": {},
   "outputs": [],
   "source": [
    "train_iter.env.close()"
   ]
  },
  {
   "cell_type": "code",
   "execution_count": 19,
   "metadata": {},
   "outputs": [],
   "source": [
    "train_iter = Flickr8kFromLMDB(\n",
    "    data_path.joinpath(\"flickr8k\").as_posix(),\n",
    "    image_transform,\n",
    "    text_pipeline,\n",
    ")"
   ]
  },
  {
   "cell_type": "code",
   "execution_count": 20,
   "metadata": {},
   "outputs": [
    {
     "name": "stdout",
     "output_type": "stream",
     "text": [
      "torch.Size([3, 224, 224]) torch.Size([256])\n"
     ]
    }
   ],
   "source": [
    "for img, caption in train_iter:\n",
    "    print(img.shape, caption.shape)\n",
    "    break"
   ]
  },
  {
   "cell_type": "code",
   "execution_count": 21,
   "metadata": {},
   "outputs": [],
   "source": [
    "# def collate_fn(batch):\n",
    "#     image_batch, label_batch = [], []\n",
    "\n",
    "#     for x, y in batch:\n",
    "#         y = text_pipeline(y)\n",
    "#         for yi in y:\n",
    "#             image_batch.append(x)\n",
    "#             label_batch.append(yi)\n",
    "\n",
    "#     return torch.stack(image_batch), torch.stack(label_batch)"
   ]
  },
  {
   "cell_type": "code",
   "execution_count": 22,
   "metadata": {},
   "outputs": [],
   "source": [
    "NUM_WORKERS = get_num_workers()"
   ]
  },
  {
   "cell_type": "code",
   "execution_count": 23,
   "metadata": {},
   "outputs": [],
   "source": [
    "train_loader = DataLoader(\n",
    "    train_iter,\n",
    "    batch_size=BATCH_SIZE,\n",
    "    # collate_fn=collate_fn,\n",
    "    num_workers=NUM_WORKERS,\n",
    "    pin_memory=True,\n",
    "    shuffle=True,\n",
    ")\n",
    "\n",
    "# test_loader = DataLoader(\n",
    "#     val_iter,\n",
    "#     batch_size=BATCH_SIZE,\n",
    "#     collate_fn=collate_fn,\n",
    "#     num_workers=NUM_WORKERS,\n",
    "    # pin_memory=True,\n",
    "# )"
   ]
  },
  {
   "cell_type": "code",
   "execution_count": 24,
   "metadata": {},
   "outputs": [
    {
     "name": "stdout",
     "output_type": "stream",
     "text": [
      "torch.Size([128, 3, 224, 224]) torch.Size([128, 256])\n"
     ]
    }
   ],
   "source": [
    "for x, y in train_loader:\n",
    "    print(x.shape, y.shape)\n",
    "    break"
   ]
  },
  {
   "cell_type": "markdown",
   "metadata": {},
   "source": [
    "# Model"
   ]
  },
  {
   "cell_type": "code",
   "execution_count": 25,
   "metadata": {},
   "outputs": [],
   "source": [
    "from functools import partial"
   ]
  },
  {
   "cell_type": "code",
   "execution_count": 26,
   "metadata": {},
   "outputs": [],
   "source": [
    "from torchlake.common.models import VGGFeatureExtractor\n",
    "\n",
    "extractor = VGGFeatureExtractor(\"vgg16\", \"relu\", trainable=False)\n",
    "extractor.forward = partial(extractor.forward, target_layer_names=[\"5_3\"])"
   ]
  },
  {
   "cell_type": "code",
   "execution_count": 27,
   "metadata": {},
   "outputs": [],
   "source": [
    "# from torchlake.common.models import ResNetFeatureExtractor\n",
    "\n",
    "# extractor = ResNetFeatureExtractor(\"resnet50\", \"block\", trainable=False)\n",
    "# extractor.forward = partial(extractor.forward, target_layer_names=[\"4_1\"])"
   ]
  },
  {
   "cell_type": "code",
   "execution_count": null,
   "metadata": {},
   "outputs": [],
   "source": [
    "from torchlake.sequence_data.models.base import RNNGenerator\n",
    "from torchlake.sequence_data.models.lstm import LSTMDiscriminator\n",
    "\n",
    "decoder = RNNGenerator(\n",
    "    LSTMDiscriminator(\n",
    "        VOCAB_SIZE,\n",
    "        # should be the same as convlution feature map\n",
    "        embed_dim=512,\n",
    "        hidden_dim=256,\n",
    "        output_size=VOCAB_SIZE,\n",
    "        num_layers=2,\n",
    "        bidirectional=True,\n",
    "        context=CONTEXT,\n",
    "    )\n",
    ")"
   ]
  },
  {
   "cell_type": "code",
   "execution_count": 28,
   "metadata": {},
   "outputs": [],
   "source": [
    "model = NeuralImageCation(\n",
    "    extractor,\n",
    "    decoder,\n",
    "    context=CONTEXT,\n",
    ")"
   ]
  },
  {
   "cell_type": "code",
   "execution_count": 29,
   "metadata": {},
   "outputs": [
    {
     "data": {
      "text/plain": [
       "=================================================================\n",
       "Layer (type:depth-idx)                   Param #\n",
       "=================================================================\n",
       "NeuralImageCation                        --\n",
       "├─VGGFeatureExtractor: 1-1               --\n",
       "│    └─Sequential: 2-1                   --\n",
       "│    │    └─Conv2d: 3-1                  (1,792)\n",
       "│    │    └─ReLU: 3-2                    --\n",
       "│    │    └─Conv2d: 3-3                  (36,928)\n",
       "│    │    └─ReLU: 3-4                    --\n",
       "│    │    └─MaxPool2d: 3-5               --\n",
       "│    │    └─Conv2d: 3-6                  (73,856)\n",
       "│    │    └─ReLU: 3-7                    --\n",
       "│    │    └─Conv2d: 3-8                  (147,584)\n",
       "│    │    └─ReLU: 3-9                    --\n",
       "│    │    └─MaxPool2d: 3-10              --\n",
       "│    │    └─Conv2d: 3-11                 (295,168)\n",
       "│    │    └─ReLU: 3-12                   --\n",
       "│    │    └─Conv2d: 3-13                 (590,080)\n",
       "│    │    └─ReLU: 3-14                   --\n",
       "│    │    └─Conv2d: 3-15                 (590,080)\n",
       "│    │    └─ReLU: 3-16                   --\n",
       "│    │    └─MaxPool2d: 3-17              --\n",
       "│    │    └─Conv2d: 3-18                 (1,180,160)\n",
       "│    │    └─ReLU: 3-19                   --\n",
       "│    │    └─Conv2d: 3-20                 (2,359,808)\n",
       "│    │    └─ReLU: 3-21                   --\n",
       "│    │    └─Conv2d: 3-22                 (2,359,808)\n",
       "│    │    └─ReLU: 3-23                   --\n",
       "│    │    └─MaxPool2d: 3-24              --\n",
       "│    │    └─Conv2d: 3-25                 (2,359,808)\n",
       "│    │    └─ReLU: 3-26                   --\n",
       "│    │    └─Conv2d: 3-27                 (2,359,808)\n",
       "│    │    └─ReLU: 3-28                   --\n",
       "│    │    └─Conv2d: 3-29                 (2,359,808)\n",
       "│    │    └─ReLU: 3-30                   --\n",
       "│    │    └─MaxPool2d: 3-31              --\n",
       "│    └─ImageNetNormalization: 2-2        --\n",
       "├─FlattenFeature: 1-2                    --\n",
       "│    └─Sequential: 2-3                   --\n",
       "│    │    └─AdaptiveAvgPool2d: 3-32      --\n",
       "│    │    └─Flatten: 3-33                --\n",
       "├─RNNGenerator: 1-3                      --\n",
       "│    └─LSTMDiscriminator: 2-4            --\n",
       "│    │    └─Embedding: 3-34              1,588,224\n",
       "│    │    └─LSTM: 3-35                   3,153,920\n",
       "│    │    └─LayerNorm: 3-36              1,024\n",
       "│    │    └─Linear: 3-37                 1,591,326\n",
       "=================================================================\n",
       "Total params: 21,049,182\n",
       "Trainable params: 6,334,494\n",
       "Non-trainable params: 14,714,688\n",
       "================================================================="
      ]
     },
     "execution_count": 29,
     "metadata": {},
     "output_type": "execute_result"
    }
   ],
   "source": [
    "torchinfo.summary(model)"
   ]
  },
  {
   "cell_type": "markdown",
   "metadata": {},
   "source": [
    "# Training"
   ]
  },
  {
   "cell_type": "code",
   "execution_count": 30,
   "metadata": {},
   "outputs": [],
   "source": [
    "EPOCHES = 10"
   ]
  },
  {
   "cell_type": "code",
   "execution_count": 31,
   "metadata": {},
   "outputs": [],
   "source": [
    "trainer = RNNGeneratorTrainer(EPOCHES, DEVICE, feature_last=True)\n",
    "trainer.set_curriculum_strategy(\"inverse_sigmoid\", k=10)"
   ]
  },
  {
   "cell_type": "code",
   "execution_count": 32,
   "metadata": {},
   "outputs": [],
   "source": [
    "criterion = nn.CrossEntropyLoss(ignore_index=CONTEXT.padding_idx, reduction=\"mean\")\n",
    "optimizer = torch.optim.Adam(model.parameters(), lr=1e-3)"
   ]
  },
  {
   "cell_type": "code",
   "execution_count": 33,
   "metadata": {},
   "outputs": [],
   "source": [
    "recorder = TrainRecorder(total_epoch=EPOCHES)\n",
    "recorder.increment_data_size(len(train_iter))"
   ]
  },
  {
   "cell_type": "code",
   "execution_count": 34,
   "metadata": {},
   "outputs": [
    {
     "data": {
      "text/plain": [
       "40455"
      ]
     },
     "execution_count": 34,
     "metadata": {},
     "output_type": "execute_result"
    }
   ],
   "source": [
    "recorder.data_size"
   ]
  },
  {
   "cell_type": "code",
   "execution_count": 35,
   "metadata": {},
   "outputs": [],
   "source": [
    "scheduler = torch.optim.lr_scheduler.ReduceLROnPlateau(optimizer, 'min', patience=2, threshold=.05 ,threshold_mode ='rel')"
   ]
  },
  {
   "cell_type": "code",
   "execution_count": 36,
   "metadata": {},
   "outputs": [],
   "source": [
    "scaler = torch.cuda.amp.GradScaler()"
   ]
  },
  {
   "cell_type": "code",
   "execution_count": 37,
   "metadata": {},
   "outputs": [
    {
     "name": "stdout",
     "output_type": "stream",
     "text": [
      "Enable AMP: True\n",
      "Training...\n"
     ]
    },
    {
     "name": "stderr",
     "output_type": "stream",
     "text": [
      "100%|██████████| 317/317 [06:07<00:00,  1.16s/it]\n"
     ]
    },
    {
     "name": "stdout",
     "output_type": "stream",
     "text": [
      "Epoch 1 : 0.026358678918173013 (0%)\n"
     ]
    },
    {
     "name": "stderr",
     "output_type": "stream",
     "text": [
      "100%|██████████| 317/317 [06:06<00:00,  1.16s/it]\n"
     ]
    },
    {
     "name": "stdout",
     "output_type": "stream",
     "text": [
      "Epoch 2 : 0.020990287593114998 (-20%)\n"
     ]
    },
    {
     "name": "stderr",
     "output_type": "stream",
     "text": [
      "100%|██████████| 317/317 [06:29<00:00,  1.23s/it]\n"
     ]
    },
    {
     "name": "stdout",
     "output_type": "stream",
     "text": [
      "Epoch 3 : 0.01906968619351686 (-9%)\n"
     ]
    },
    {
     "name": "stderr",
     "output_type": "stream",
     "text": [
      "100%|██████████| 317/317 [05:50<00:00,  1.11s/it]\n"
     ]
    },
    {
     "name": "stdout",
     "output_type": "stream",
     "text": [
      "Epoch 4 : 0.017881154471842818 (-6%)\n"
     ]
    },
    {
     "name": "stderr",
     "output_type": "stream",
     "text": [
      "100%|██████████| 317/317 [05:27<00:00,  1.03s/it]\n"
     ]
    },
    {
     "name": "stdout",
     "output_type": "stream",
     "text": [
      "Epoch 5 : 0.01696805026943464 (-5%)\n"
     ]
    },
    {
     "name": "stderr",
     "output_type": "stream",
     "text": [
      "100%|██████████| 317/317 [05:30<00:00,  1.04s/it]\n"
     ]
    },
    {
     "name": "stdout",
     "output_type": "stream",
     "text": [
      "Epoch 6 : 0.01615550237803446 (-5%)\n"
     ]
    },
    {
     "name": "stderr",
     "output_type": "stream",
     "text": [
      " 98%|█████████▊| 311/317 [05:26<00:06,  1.05s/it]\n"
     ]
    },
    {
     "ename": "KeyboardInterrupt",
     "evalue": "",
     "output_type": "error",
     "traceback": [
      "\u001b[1;31m---------------------------------------------------------------------------\u001b[0m",
      "\u001b[1;31mKeyboardInterrupt\u001b[0m                         Traceback (most recent call last)",
      "Cell \u001b[1;32mIn[37], line 1\u001b[0m\n\u001b[1;32m----> 1\u001b[0m training_loss \u001b[38;5;241m=\u001b[39m \u001b[43mtrainer\u001b[49m\u001b[38;5;241;43m.\u001b[39;49m\u001b[43mrun\u001b[49m\u001b[43m(\u001b[49m\n\u001b[0;32m      2\u001b[0m \u001b[43m    \u001b[49m\u001b[43mtrain_loader\u001b[49m\u001b[43m,\u001b[49m\n\u001b[0;32m      3\u001b[0m \u001b[43m    \u001b[49m\u001b[43mmodel\u001b[49m\u001b[43m,\u001b[49m\n\u001b[0;32m      4\u001b[0m \u001b[43m    \u001b[49m\u001b[43moptimizer\u001b[49m\u001b[43m,\u001b[49m\n\u001b[0;32m      5\u001b[0m \u001b[43m    \u001b[49m\u001b[43mcriterion\u001b[49m\u001b[43m,\u001b[49m\n\u001b[0;32m      6\u001b[0m \u001b[43m    \u001b[49m\u001b[43mscheduler\u001b[49m\u001b[43m,\u001b[49m\n\u001b[0;32m      7\u001b[0m \u001b[43m    \u001b[49m\u001b[43mrecorder\u001b[49m\u001b[38;5;241;43m=\u001b[39;49m\u001b[43mrecorder\u001b[49m\u001b[43m,\u001b[49m\n\u001b[0;32m      8\u001b[0m \u001b[43m    \u001b[49m\u001b[43mscaler\u001b[49m\u001b[38;5;241;43m=\u001b[39;49m\u001b[43mscaler\u001b[49m\u001b[43m,\u001b[49m\n\u001b[0;32m      9\u001b[0m \u001b[43m)\u001b[49m\n",
      "File \u001b[1;32md:\\research\\pytorch-implementations\\.venv\\Lib\\site-packages\\torchlake\\common\\controller\\trainer.py:119\u001b[0m, in \u001b[0;36mTrainerBase.run\u001b[1;34m(self, data, model, optimizer, criterion, scheduler, scaler, recorder, validate_func, checkpoint_func, *args, **kwargs)\u001b[0m\n\u001b[0;32m    117\u001b[0m     main_loss\u001b[38;5;241m.\u001b[39mbackward()\n\u001b[0;32m    118\u001b[0m \u001b[38;5;28;01melse\u001b[39;00m:\n\u001b[1;32m--> 119\u001b[0m     \u001b[43mscaler\u001b[49m\u001b[38;5;241;43m.\u001b[39;49m\u001b[43mscale\u001b[49m\u001b[43m(\u001b[49m\u001b[43mmain_loss\u001b[49m\u001b[43m)\u001b[49m\u001b[38;5;241;43m.\u001b[39;49m\u001b[43mbackward\u001b[49m\u001b[43m(\u001b[49m\u001b[43m)\u001b[49m\n\u001b[0;32m    121\u001b[0m \u001b[38;5;66;03m# weight update\u001b[39;00m\n\u001b[0;32m    122\u001b[0m \u001b[38;5;28;01mif\u001b[39;00m (batch_idx \u001b[38;5;241m+\u001b[39m \u001b[38;5;241m1\u001b[39m) \u001b[38;5;241m%\u001b[39m \u001b[38;5;28mself\u001b[39m\u001b[38;5;241m.\u001b[39macc_iters \u001b[38;5;241m==\u001b[39m \u001b[38;5;241m0\u001b[39m:\n\u001b[0;32m    123\u001b[0m     \u001b[38;5;66;03m# mixed precision\u001b[39;00m\n",
      "File \u001b[1;32md:\\research\\pytorch-implementations\\.venv\\Lib\\site-packages\\torch\\_tensor.py:492\u001b[0m, in \u001b[0;36mTensor.backward\u001b[1;34m(self, gradient, retain_graph, create_graph, inputs)\u001b[0m\n\u001b[0;32m    482\u001b[0m \u001b[38;5;28;01mif\u001b[39;00m has_torch_function_unary(\u001b[38;5;28mself\u001b[39m):\n\u001b[0;32m    483\u001b[0m     \u001b[38;5;28;01mreturn\u001b[39;00m handle_torch_function(\n\u001b[0;32m    484\u001b[0m         Tensor\u001b[38;5;241m.\u001b[39mbackward,\n\u001b[0;32m    485\u001b[0m         (\u001b[38;5;28mself\u001b[39m,),\n\u001b[1;32m   (...)\u001b[0m\n\u001b[0;32m    490\u001b[0m         inputs\u001b[38;5;241m=\u001b[39minputs,\n\u001b[0;32m    491\u001b[0m     )\n\u001b[1;32m--> 492\u001b[0m \u001b[43mtorch\u001b[49m\u001b[38;5;241;43m.\u001b[39;49m\u001b[43mautograd\u001b[49m\u001b[38;5;241;43m.\u001b[39;49m\u001b[43mbackward\u001b[49m\u001b[43m(\u001b[49m\n\u001b[0;32m    493\u001b[0m \u001b[43m    \u001b[49m\u001b[38;5;28;43mself\u001b[39;49m\u001b[43m,\u001b[49m\u001b[43m \u001b[49m\u001b[43mgradient\u001b[49m\u001b[43m,\u001b[49m\u001b[43m \u001b[49m\u001b[43mretain_graph\u001b[49m\u001b[43m,\u001b[49m\u001b[43m \u001b[49m\u001b[43mcreate_graph\u001b[49m\u001b[43m,\u001b[49m\u001b[43m \u001b[49m\u001b[43minputs\u001b[49m\u001b[38;5;241;43m=\u001b[39;49m\u001b[43minputs\u001b[49m\n\u001b[0;32m    494\u001b[0m \u001b[43m\u001b[49m\u001b[43m)\u001b[49m\n",
      "File \u001b[1;32md:\\research\\pytorch-implementations\\.venv\\Lib\\site-packages\\torch\\autograd\\__init__.py:251\u001b[0m, in \u001b[0;36mbackward\u001b[1;34m(tensors, grad_tensors, retain_graph, create_graph, grad_variables, inputs)\u001b[0m\n\u001b[0;32m    246\u001b[0m     retain_graph \u001b[38;5;241m=\u001b[39m create_graph\n\u001b[0;32m    248\u001b[0m \u001b[38;5;66;03m# The reason we repeat the same comment below is that\u001b[39;00m\n\u001b[0;32m    249\u001b[0m \u001b[38;5;66;03m# some Python versions print out the first line of a multi-line function\u001b[39;00m\n\u001b[0;32m    250\u001b[0m \u001b[38;5;66;03m# calls in the traceback and some print out the last line\u001b[39;00m\n\u001b[1;32m--> 251\u001b[0m \u001b[43mVariable\u001b[49m\u001b[38;5;241;43m.\u001b[39;49m\u001b[43m_execution_engine\u001b[49m\u001b[38;5;241;43m.\u001b[39;49m\u001b[43mrun_backward\u001b[49m\u001b[43m(\u001b[49m\u001b[43m  \u001b[49m\u001b[38;5;66;43;03m# Calls into the C++ engine to run the backward pass\u001b[39;49;00m\n\u001b[0;32m    252\u001b[0m \u001b[43m    \u001b[49m\u001b[43mtensors\u001b[49m\u001b[43m,\u001b[49m\n\u001b[0;32m    253\u001b[0m \u001b[43m    \u001b[49m\u001b[43mgrad_tensors_\u001b[49m\u001b[43m,\u001b[49m\n\u001b[0;32m    254\u001b[0m \u001b[43m    \u001b[49m\u001b[43mretain_graph\u001b[49m\u001b[43m,\u001b[49m\n\u001b[0;32m    255\u001b[0m \u001b[43m    \u001b[49m\u001b[43mcreate_graph\u001b[49m\u001b[43m,\u001b[49m\n\u001b[0;32m    256\u001b[0m \u001b[43m    \u001b[49m\u001b[43minputs\u001b[49m\u001b[43m,\u001b[49m\n\u001b[0;32m    257\u001b[0m \u001b[43m    \u001b[49m\u001b[43mallow_unreachable\u001b[49m\u001b[38;5;241;43m=\u001b[39;49m\u001b[38;5;28;43;01mTrue\u001b[39;49;00m\u001b[43m,\u001b[49m\n\u001b[0;32m    258\u001b[0m \u001b[43m    \u001b[49m\u001b[43maccumulate_grad\u001b[49m\u001b[38;5;241;43m=\u001b[39;49m\u001b[38;5;28;43;01mTrue\u001b[39;49;00m\u001b[43m,\u001b[49m\n\u001b[0;32m    259\u001b[0m \u001b[43m\u001b[49m\u001b[43m)\u001b[49m\n",
      "\u001b[1;31mKeyboardInterrupt\u001b[0m: "
     ]
    }
   ],
   "source": [
    "training_loss = trainer.run(\n",
    "    train_loader,\n",
    "    model,\n",
    "    optimizer,\n",
    "    criterion,\n",
    "    scheduler,\n",
    "    recorder=recorder,\n",
    "    scaler=scaler,\n",
    ")"
   ]
  },
  {
   "cell_type": "code",
   "execution_count": 34,
   "metadata": {},
   "outputs": [
    {
     "data": {
      "text/plain": [
       "[<matplotlib.lines.Line2D at 0x26ae6713310>]"
      ]
     },
     "execution_count": 34,
     "metadata": {},
     "output_type": "execute_result"
    },
    {
     "data": {
      "image/png": "[encoded data removed]",
      "text/plain": [
       "<Figure size 640x480 with 1 Axes>"
      ]
     },
     "metadata": {},
     "output_type": "display_data"
    }
   ],
   "source": [
    "plt.plot(training_loss)"
   ]
  },
  {
   "cell_type": "markdown",
   "metadata": {},
   "source": [
    "# Save"
   ]
  },
  {
   "cell_type": "code",
   "execution_count": 32,
   "metadata": {},
   "outputs": [],
   "source": [
    "model_path = artifacts_path.joinpath(\"show-and-tell.vgg16.2.pth\")"
   ]
  },
  {
   "cell_type": "code",
   "execution_count": 33,
   "metadata": {},
   "outputs": [],
   "source": [
    "torch.save(model.state_dict(), model_path.as_posix())"
   ]
  },
  {
   "cell_type": "code",
   "execution_count": 34,
   "metadata": {},
   "outputs": [
    {
     "data": {
      "text/plain": [
       "'80.3MiB'"
      ]
     },
     "execution_count": 34,
     "metadata": {},
     "output_type": "execute_result"
    }
   ],
   "source": [
    "get_file_size(model_path)"
   ]
  },
  {
   "cell_type": "code",
   "execution_count": 35,
   "metadata": {},
   "outputs": [
    {
     "data": {
      "text/plain": [
       "<All keys matched successfully>"
      ]
     },
     "execution_count": 35,
     "metadata": {},
     "output_type": "execute_result"
    }
   ],
   "source": [
    "model.load_state_dict(torch.load(model_path.as_posix()))"
   ]
  },
  {
   "cell_type": "markdown",
   "metadata": {},
   "source": [
    "# Evaluate"
   ]
  },
  {
   "cell_type": "markdown",
   "metadata": {},
   "source": [
    "## BLEU score"
   ]
  },
  {
   "cell_type": "code",
   "execution_count": 19,
   "metadata": {},
   "outputs": [],
   "source": [
    "from torchmetrics.text import BLEUScore"
   ]
  },
  {
   "cell_type": "code",
   "execution_count": 20,
   "metadata": {},
   "outputs": [],
   "source": [
    "metric = BLEUScore()"
   ]
  },
  {
   "cell_type": "code",
   "execution_count": null,
   "metadata": {},
   "outputs": [],
   "source": [
    "model.eval()\n",
    "running_loss = 0.0\n",
    "data_count = 0\n",
    "with torch.no_grad():\n",
    "    for img, text in tqdm(train_loader):\n",
    "        data_count += len(img)\n",
    "        img = img.to(DEVICE)\n",
    "        label = text.to(DEVICE)\n",
    "\n",
    "        output = model(img, teacher_forcing_ratio=0).argmax(-1)\n",
    "        \n",
    "        # list of string\n",
    "        preds = []\n",
    "        for o in output.tolist():\n",
    "            translated = vocab.lookup_tokens(o)\n",
    "            start_idx, end_idx = translated.index(CONTEXT.bos_str), translated.index(CONTEXT.eos_str)\n",
    "            preds.append(\" \".join(translated[start_idx+1 : end_idx]))\n",
    "        \n",
    "        # list of strings\n",
    "        # i.e. list of candidates\n",
    "        labels = []\n",
    "        for l in label.tolist():\n",
    "            translated = vocabs[TRG_LANGUAGE].lookup_tokens(l)\n",
    "            start_idx, end_idx = translated.index(CONTEXT.bos_str), translated.index(CONTEXT.eos_str)\n",
    "            labels.append(\" \".join(translated[start_idx+1 : end_idx]))\n",
    "            \n",
    "        metric.update(preds, labels)"
   ]
  },
  {
   "cell_type": "code",
   "execution_count": null,
   "metadata": {},
   "outputs": [],
   "source": [
    "metric.compute()"
   ]
  },
  {
   "cell_type": "markdown",
   "metadata": {},
   "source": [
    "## Compare to groundtruth"
   ]
  },
  {
   "cell_type": "code",
   "execution_count": 54,
   "metadata": {},
   "outputs": [
    {
     "name": "stdout",
     "output_type": "stream",
     "text": [
      "第1句\n",
      "target: b'a child in a pink dress is climbing up a set of stairs in an <unk> way . '\n",
      "output: b'a young man is sitting on a table in front of him in a bus '\n",
      "第2句\n",
      "target: b'a girl going into a wooden building . '\n",
      "output: b'a young man is sitting on a table in front of him in a bus '\n",
      "第3句\n",
      "target: b'a little girl climbing into a wooden playhouse . '\n",
      "output: b'a young man is sitting on a table in front of him in a bus '\n",
      "第4句\n",
      "target: b'a little girl climbing the stairs to her playhouse . '\n",
      "output: b'a little girl is jumping on a tree . '\n",
      "第5句\n",
      "target: b'a little girl in a pink dress going into a wooden <unk> . '\n",
      "output: b'a young man is sitting on a table in front of him in a bus '\n"
     ]
    }
   ],
   "source": [
    "CLIP = 5\n",
    "\n",
    "model.eval()\n",
    "with torch.no_grad():\n",
    "    for i, (img, text) in enumerate(train_iter):\n",
    "        ori_source, ori_target = img, text\n",
    "        img = img.unsqueeze(0)\n",
    "        img = img.to(DEVICE)\n",
    "        \n",
    "        text = text.unsqueeze(0)\n",
    "        text = text.to(DEVICE)\n",
    "        \n",
    "        output = model.predict(img, topk=3)[0]\n",
    "        \n",
    "        # if EOS_IDX in outputs:\n",
    "        output = vocab.lookup_tokens(output.tolist())\n",
    "        start_idx, end_idx = output.index(CONTEXT.bos_str), output.index(CONTEXT.eos_str)\n",
    "        target_tokens = vocab.lookup_tokens(ori_target.tolist())\n",
    "        target_start_idx, target_end_idx = target_tokens.index(CONTEXT.bos_str), target_tokens.index(CONTEXT.eos_str)\n",
    "        print(f'第{i+1}句')\n",
    "        print('target:', *target_tokens[target_start_idx+1:target_end_idx], sep=' ')\n",
    "        print('output:', *output[start_idx+1:end_idx], sep=' ')\n",
    "        \n",
    "        if i+1==CLIP: break"
   ]
  },
  {
   "cell_type": "markdown",
   "metadata": {},
   "source": [
    "## In the wild"
   ]
  },
  {
   "cell_type": "code",
   "execution_count": 55,
   "metadata": {},
   "outputs": [],
   "source": [
    "from torchlake.common.utils.image import load_image"
   ]
  },
  {
   "cell_type": "code",
   "execution_count": 66,
   "metadata": {},
   "outputs": [
    {
     "data": {
      "text/plain": [
       "<matplotlib.image.AxesImage at 0x18671917dd0>"
      ]
     },
     "execution_count": 66,
     "metadata": {},
     "output_type": "execute_result"
    },
    {
     "data": {
      "image/png": "[encoded data removed]",
      "text/plain": [
       "<Figure size 640x480 with 1 Axes>"
      ]
     },
     "metadata": {},
     "output_type": "display_data"
    }
   ],
   "source": [
    "img = load_image(\"../../data/contents/black-woman.jpg\", is_numpy=True)\n",
    "plt.imshow(img)"
   ]
  },
  {
   "cell_type": "code",
   "execution_count": 67,
   "metadata": {},
   "outputs": [],
   "source": [
    "model.eval()\n",
    "with torch.no_grad():\n",
    "    img = image_transform(image=img)[\"image\"]\n",
    "    img = img.unsqueeze(0).to(DEVICE)\n",
    "    \n",
    "    output = model(img, topk=2)"
   ]
  },
  {
   "cell_type": "code",
   "execution_count": 68,
   "metadata": {},
   "outputs": [
    {
     "name": "stdout",
     "output_type": "stream",
     "text": [
      "b'a woman wearing a black shirt and a . ' "
     ]
    }
   ],
   "source": [
    "for v in vocab.lookup_tokens(output[0].tolist()):\n",
    "    if v not in CONTEXT.special_tokens:\n",
    "        print(v, end=\" \")\n",
    "    if v == CONTEXT.eos_str:\n",
    "        break"
   ]
  }
 ],
 "metadata": {
  "kernelspec": {
   "display_name": ".venv",
   "language": "python",
   "name": "python3"
  },
  "language_info": {
   "codemirror_mode": {
    "name": "ipython",
    "version": 3
   },
   "file_extension": ".py",
   "mimetype": "text/x-python",
   "name": "python",
   "nbconvert_exporter": "python",
   "pygments_lexer": "ipython3",
   "version": "3.11.4"
  }
 },
 "nbformat": 4,
 "nbformat_minor": 2
}
