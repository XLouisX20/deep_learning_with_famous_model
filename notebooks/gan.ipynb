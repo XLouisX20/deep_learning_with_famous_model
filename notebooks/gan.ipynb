{
 "cells": [
  {
   "cell_type": "code",
   "execution_count": 23,
   "metadata": {},
   "outputs": [],
   "source": [
    "from pathlib import Path\n",
    "\n",
    "import torch\n",
    "import torchvision\n",
    "import torchinfo\n",
    "from torch import nn\n",
    "from torch.utils.data import DataLoader\n",
    "from torchlake.common.utils.convert import img_tensor_to_np\n",
    "from torchlake.common.utils.plot import plot_grids\n",
    "from torchlake.common.utils.random import generate_normal\n",
    "from torchlake.image_generation.models.gan import GANDiscriminator, GANGenerator\n",
    "from torchvision import transforms\n",
    "from tqdm import tqdm"
   ]
  },
  {
   "cell_type": "markdown",
   "metadata": {},
   "source": [
    "# Setting"
   ]
  },
  {
   "cell_type": "code",
   "execution_count": 24,
   "metadata": {},
   "outputs": [],
   "source": [
    "IMAGE_SIZE = 32\n",
    "BATCH_SIZE = 128"
   ]
  },
  {
   "cell_type": "code",
   "execution_count": 25,
   "metadata": {},
   "outputs": [],
   "source": [
    "artifact_path = Path(\"../../artifacts/gan\")\n",
    "data_path = Path(\"../../data/fashionMnist\")"
   ]
  },
  {
   "cell_type": "code",
   "execution_count": 26,
   "metadata": {},
   "outputs": [],
   "source": [
    "DEVICE = torch.device(\"cuda:0\")"
   ]
  },
  {
   "cell_type": "markdown",
   "metadata": {},
   "source": [
    "# Data"
   ]
  },
  {
   "cell_type": "code",
   "execution_count": 27,
   "metadata": {},
   "outputs": [],
   "source": [
    "preprocess = transforms.Compose(\n",
    "    [\n",
    "        transforms.Resize(IMAGE_SIZE),\n",
    "        transforms.ToTensor(),\n",
    "    ]\n",
    ")"
   ]
  },
  {
   "cell_type": "code",
   "execution_count": 28,
   "metadata": {},
   "outputs": [],
   "source": [
    "train_data = torchvision.datasets.FashionMNIST(\n",
    "    root=data_path.as_posix(),\n",
    "    train=True,\n",
    "    transform=preprocess,\n",
    "    download=True,\n",
    ")"
   ]
  },
  {
   "cell_type": "code",
   "execution_count": 29,
   "metadata": {},
   "outputs": [],
   "source": [
    "train_loader = DataLoader(\n",
    "    train_data,\n",
    "    batch_size=BATCH_SIZE,\n",
    "    shuffle=True,\n",
    "    drop_last=True,\n",
    ")"
   ]
  },
  {
   "cell_type": "code",
   "execution_count": 30,
   "metadata": {},
   "outputs": [
    {
     "data": {
      "image/png": "[encoded data removed]",
      "text/plain": [
       "<Figure size 800x800 with 9 Axes>"
      ]
     },
     "metadata": {},
     "output_type": "display_data"
    }
   ],
   "source": [
    "# 資料集繪圖\n",
    "plot_grids(\n",
    "    [*img_tensor_to_np(torch.stack([train_data[i][0] for i in range(9)]))],\n",
    "    num_row=3,\n",
    "    num_col=3,\n",
    "    cmap=\"gray\",\n",
    ")"
   ]
  },
  {
   "cell_type": "markdown",
   "metadata": {},
   "source": [
    "# model"
   ]
  },
  {
   "cell_type": "code",
   "execution_count": 31,
   "metadata": {},
   "outputs": [],
   "source": [
    "LATENT_DIM = 128\n",
    "HIDDEN_DIM = 256"
   ]
  },
  {
   "cell_type": "code",
   "execution_count": 32,
   "metadata": {},
   "outputs": [],
   "source": [
    "generator = GANGenerator(\n",
    "    LATENT_DIM,\n",
    "    HIDDEN_DIM,\n",
    "    (1, IMAGE_SIZE, IMAGE_SIZE),\n",
    ").to(DEVICE)\n",
    "discriminator = GANDiscriminator(\n",
    "    HIDDEN_DIM,\n",
    "    (1, IMAGE_SIZE, IMAGE_SIZE),\n",
    "    dropout_prob=0,\n",
    ").to(DEVICE)"
   ]
  },
  {
   "cell_type": "code",
   "execution_count": 33,
   "metadata": {},
   "outputs": [
    {
     "data": {
      "text/plain": [
       "=================================================================\n",
       "Layer (type:depth-idx)                   Param #\n",
       "=================================================================\n",
       "GANGenerator                             --\n",
       "├─Sequential: 1-1                        --\n",
       "│    └─Linear: 2-1                       33,024\n",
       "│    └─LeakyReLU: 2-2                    --\n",
       "├─Sequential: 1-2                        --\n",
       "│    └─Linear: 2-3                       131,584\n",
       "│    └─LeakyReLU: 2-4                    --\n",
       "│    └─Linear: 2-5                       525,312\n",
       "│    └─LeakyReLU: 2-6                    --\n",
       "├─Sequential: 1-3                        --\n",
       "│    └─Linear: 2-7                       1,049,600\n",
       "│    └─Tanh: 2-8                         --\n",
       "=================================================================\n",
       "Total params: 1,739,520\n",
       "Trainable params: 1,739,520\n",
       "Non-trainable params: 0\n",
       "================================================================="
      ]
     },
     "execution_count": 33,
     "metadata": {},
     "output_type": "execute_result"
    }
   ],
   "source": [
    "torchinfo.summary(generator)"
   ]
  },
  {
   "cell_type": "code",
   "execution_count": 34,
   "metadata": {},
   "outputs": [
    {
     "data": {
      "text/plain": [
       "=================================================================\n",
       "Layer (type:depth-idx)                   Param #\n",
       "=================================================================\n",
       "GANDiscriminator                         --\n",
       "├─Sequential: 1-1                        --\n",
       "│    └─Linear: 2-1                       524,800\n",
       "│    └─LeakyReLU: 2-2                    --\n",
       "├─Sequential: 1-2                        --\n",
       "│    └─Linear: 2-3                       131,328\n",
       "│    └─LeakyReLU: 2-4                    --\n",
       "├─Sequential: 1-3                        --\n",
       "│    └─Dropout: 2-5                      --\n",
       "│    └─Linear: 2-6                       257\n",
       "=================================================================\n",
       "Total params: 656,385\n",
       "Trainable params: 656,385\n",
       "Non-trainable params: 0\n",
       "================================================================="
      ]
     },
     "execution_count": 34,
     "metadata": {},
     "output_type": "execute_result"
    }
   ],
   "source": [
    "torchinfo.summary(discriminator)"
   ]
  },
  {
   "cell_type": "markdown",
   "metadata": {},
   "source": [
    "# train"
   ]
  },
  {
   "cell_type": "code",
   "execution_count": 35,
   "metadata": {},
   "outputs": [],
   "source": [
    "LR = 1e-4\n",
    "BETA = (0.5, 0.999)"
   ]
  },
  {
   "cell_type": "code",
   "execution_count": 36,
   "metadata": {},
   "outputs": [],
   "source": [
    "criterion = nn.BCEWithLogitsLoss(reduction=\"mean\")\n",
    "optim_G = torch.optim.Adam(generator.parameters(), lr=LR, betas=BETA)\n",
    "optim_D = torch.optim.Adam(discriminator.parameters(), lr=LR, betas=BETA)"
   ]
  },
  {
   "cell_type": "code",
   "execution_count": 37,
   "metadata": {},
   "outputs": [],
   "source": [
    "EPOCH = 20"
   ]
  },
  {
   "cell_type": "code",
   "execution_count": 38,
   "metadata": {},
   "outputs": [
    {
     "name": "stderr",
     "output_type": "stream",
     "text": [
      "100%|██████████| 468/468 [00:19<00:00, 24.19it/s]\n"
     ]
    },
    {
     "name": "stdout",
     "output_type": "stream",
     "text": [
      "epoch 1: D: 0.004774274805188179 G: 0.0066507078136006995\n"
     ]
    },
    {
     "name": "stderr",
     "output_type": "stream",
     "text": [
      "100%|██████████| 468/468 [00:19<00:00, 24.33it/s]\n"
     ]
    },
    {
     "name": "stdout",
     "output_type": "stream",
     "text": [
      "epoch 2: D: 0.004652475031713644 G: 0.007874268567562103\n"
     ]
    },
    {
     "name": "stderr",
     "output_type": "stream",
     "text": [
      "100%|██████████| 468/468 [00:21<00:00, 21.65it/s]\n"
     ]
    },
    {
     "name": "stdout",
     "output_type": "stream",
     "text": [
      "epoch 3: D: 0.004672614992161592 G: 0.0086614972392718\n"
     ]
    },
    {
     "name": "stderr",
     "output_type": "stream",
     "text": [
      "100%|██████████| 468/468 [00:22<00:00, 21.24it/s]\n"
     ]
    },
    {
     "name": "stdout",
     "output_type": "stream",
     "text": [
      "epoch 4: D: 0.004589657524724801 G: 0.008778885392347972\n"
     ]
    },
    {
     "name": "stderr",
     "output_type": "stream",
     "text": [
      "100%|██████████| 468/468 [00:21<00:00, 21.29it/s]\n"
     ]
    },
    {
     "name": "stdout",
     "output_type": "stream",
     "text": [
      "epoch 5: D: 0.004508637702961763 G: 0.009238215940197308\n"
     ]
    },
    {
     "name": "stderr",
     "output_type": "stream",
     "text": [
      "100%|██████████| 468/468 [00:18<00:00, 24.70it/s]\n"
     ]
    },
    {
     "name": "stdout",
     "output_type": "stream",
     "text": [
      "epoch 6: D: 0.004589661874373754 G: 0.009362971552213033\n"
     ]
    },
    {
     "name": "stderr",
     "output_type": "stream",
     "text": [
      "100%|██████████| 468/468 [00:18<00:00, 24.73it/s]\n"
     ]
    },
    {
     "name": "stdout",
     "output_type": "stream",
     "text": [
      "epoch 7: D: 0.004518462898333867 G: 0.009547066842516263\n"
     ]
    },
    {
     "name": "stderr",
     "output_type": "stream",
     "text": [
      "100%|██████████| 468/468 [00:18<00:00, 25.38it/s]\n"
     ]
    },
    {
     "name": "stdout",
     "output_type": "stream",
     "text": [
      "epoch 8: D: 0.0047370244105656946 G: 0.008768693842490514\n"
     ]
    },
    {
     "name": "stderr",
     "output_type": "stream",
     "text": [
      "100%|██████████| 468/468 [00:21<00:00, 21.63it/s]\n"
     ]
    },
    {
     "name": "stdout",
     "output_type": "stream",
     "text": [
      "epoch 9: D: 0.00480473825931549 G: 0.008247288279732068\n"
     ]
    },
    {
     "name": "stderr",
     "output_type": "stream",
     "text": [
      "100%|██████████| 468/468 [00:22<00:00, 21.03it/s]\n"
     ]
    },
    {
     "name": "stdout",
     "output_type": "stream",
     "text": [
      "epoch 10: D: 0.004862300993998845 G: 0.007938933345675468\n"
     ]
    },
    {
     "name": "stderr",
     "output_type": "stream",
     "text": [
      "100%|██████████| 468/468 [00:19<00:00, 23.81it/s]\n"
     ]
    },
    {
     "name": "stdout",
     "output_type": "stream",
     "text": [
      "epoch 11: D: 0.004916310761372248 G: 0.007945226381222407\n"
     ]
    },
    {
     "name": "stderr",
     "output_type": "stream",
     "text": [
      "100%|██████████| 468/468 [00:18<00:00, 25.67it/s]\n"
     ]
    },
    {
     "name": "stdout",
     "output_type": "stream",
     "text": [
      "epoch 12: D: 0.004916709738969803 G: 0.007752279468377431\n"
     ]
    },
    {
     "name": "stderr",
     "output_type": "stream",
     "text": [
      "100%|██████████| 468/468 [00:18<00:00, 25.85it/s]\n"
     ]
    },
    {
     "name": "stdout",
     "output_type": "stream",
     "text": [
      "epoch 13: D: 0.004879499792059263 G: 0.008149609823028247\n"
     ]
    },
    {
     "name": "stderr",
     "output_type": "stream",
     "text": [
      "100%|██████████| 468/468 [00:18<00:00, 25.78it/s]\n"
     ]
    },
    {
     "name": "stdout",
     "output_type": "stream",
     "text": [
      "epoch 14: D: 0.004963909140229225 G: 0.007776342995961507\n"
     ]
    },
    {
     "name": "stderr",
     "output_type": "stream",
     "text": [
      "100%|██████████| 468/468 [00:21<00:00, 22.03it/s]\n"
     ]
    },
    {
     "name": "stdout",
     "output_type": "stream",
     "text": [
      "epoch 15: D: 0.005100526982545853 G: 0.0074863676657279336\n"
     ]
    },
    {
     "name": "stderr",
     "output_type": "stream",
     "text": [
      "100%|██████████| 468/468 [00:22<00:00, 20.60it/s]\n"
     ]
    },
    {
     "name": "stdout",
     "output_type": "stream",
     "text": [
      "epoch 16: D: 0.005088555909196536 G: 0.007074933415651322\n"
     ]
    },
    {
     "name": "stderr",
     "output_type": "stream",
     "text": [
      "100%|██████████| 468/468 [00:17<00:00, 26.13it/s]\n"
     ]
    },
    {
     "name": "stdout",
     "output_type": "stream",
     "text": [
      "epoch 17: D: 0.0050963037878274916 G: 0.007161622064312299\n"
     ]
    },
    {
     "name": "stderr",
     "output_type": "stream",
     "text": [
      "100%|██████████| 468/468 [00:21<00:00, 21.67it/s]\n"
     ]
    },
    {
     "name": "stdout",
     "output_type": "stream",
     "text": [
      "epoch 18: D: 0.005103391528129578 G: 0.007154350334405899\n"
     ]
    },
    {
     "name": "stderr",
     "output_type": "stream",
     "text": [
      "100%|██████████| 468/468 [00:21<00:00, 21.52it/s]\n"
     ]
    },
    {
     "name": "stdout",
     "output_type": "stream",
     "text": [
      "epoch 19: D: 0.005114297485351562 G: 0.007033053844173749\n"
     ]
    },
    {
     "name": "stderr",
     "output_type": "stream",
     "text": [
      "100%|██████████| 468/468 [00:21<00:00, 21.51it/s]\n"
     ]
    },
    {
     "name": "stdout",
     "output_type": "stream",
     "text": [
      "epoch 20: D: 0.005097343004743259 G: 0.007088982194662094\n"
     ]
    },
    {
     "name": "stderr",
     "output_type": "stream",
     "text": [
      "100%|██████████| 468/468 [00:21<00:00, 21.82it/s]\n"
     ]
    },
    {
     "name": "stdout",
     "output_type": "stream",
     "text": [
      "epoch 21: D: 0.005064014739791552 G: 0.007071500406662623\n"
     ]
    },
    {
     "name": "stderr",
     "output_type": "stream",
     "text": [
      "100%|██████████| 468/468 [00:21<00:00, 21.41it/s]\n"
     ]
    },
    {
     "name": "stdout",
     "output_type": "stream",
     "text": [
      "epoch 22: D: 0.005056069067120552 G: 0.007131486546993256\n"
     ]
    },
    {
     "name": "stderr",
     "output_type": "stream",
     "text": [
      "100%|██████████| 468/468 [00:18<00:00, 24.98it/s]\n"
     ]
    },
    {
     "name": "stdout",
     "output_type": "stream",
     "text": [
      "epoch 23: D: 0.005025999194383621 G: 0.0070776143014431\n"
     ]
    },
    {
     "name": "stderr",
     "output_type": "stream",
     "text": [
      "100%|██████████| 468/468 [00:20<00:00, 22.52it/s]\n"
     ]
    },
    {
     "name": "stdout",
     "output_type": "stream",
     "text": [
      "epoch 24: D: 0.005045747652649879 G: 0.007113728192448616\n"
     ]
    },
    {
     "name": "stderr",
     "output_type": "stream",
     "text": [
      "100%|██████████| 468/468 [00:18<00:00, 25.06it/s]\n"
     ]
    },
    {
     "name": "stdout",
     "output_type": "stream",
     "text": [
      "epoch 25: D: 0.005034001745780309 G: 0.007106048889954885\n"
     ]
    },
    {
     "name": "stderr",
     "output_type": "stream",
     "text": [
      "100%|██████████| 468/468 [00:19<00:00, 24.14it/s]\n"
     ]
    },
    {
     "name": "stdout",
     "output_type": "stream",
     "text": [
      "epoch 26: D: 0.005013399500648181 G: 0.007118292426069577\n"
     ]
    },
    {
     "name": "stderr",
     "output_type": "stream",
     "text": [
      "100%|██████████| 468/468 [00:19<00:00, 24.05it/s]\n"
     ]
    },
    {
     "name": "stdout",
     "output_type": "stream",
     "text": [
      "epoch 27: D: 0.005004836566249529 G: 0.007083325717846553\n"
     ]
    },
    {
     "name": "stderr",
     "output_type": "stream",
     "text": [
      "100%|██████████| 468/468 [00:19<00:00, 24.01it/s]\n"
     ]
    },
    {
     "name": "stdout",
     "output_type": "stream",
     "text": [
      "epoch 28: D: 0.004997964731852214 G: 0.007092852593461672\n"
     ]
    },
    {
     "name": "stderr",
     "output_type": "stream",
     "text": [
      "100%|██████████| 468/468 [00:19<00:00, 23.84it/s]\n"
     ]
    },
    {
     "name": "stdout",
     "output_type": "stream",
     "text": [
      "epoch 29: D: 0.004988021250565847 G: 0.0071224929024775825\n"
     ]
    },
    {
     "name": "stderr",
     "output_type": "stream",
     "text": [
      "100%|██████████| 468/468 [00:19<00:00, 24.07it/s]"
     ]
    },
    {
     "name": "stdout",
     "output_type": "stream",
     "text": [
      "epoch 30: D: 0.00496352097094059 G: 0.007052154976129532\n"
     ]
    },
    {
     "name": "stderr",
     "output_type": "stream",
     "text": [
      "\n"
     ]
    }
   ],
   "source": [
    "N = len(train_data)\n",
    "valid = torch.ones(BATCH_SIZE, 1).to(DEVICE)\n",
    "fake = torch.zeros(BATCH_SIZE, 1).to(DEVICE)\n",
    "        \n",
    "for e in range(EPOCH):\n",
    "    running_loss_G = 0.0\n",
    "    running_loss_D = 0.0\n",
    "\n",
    "    for img, _ in tqdm(train_loader):\n",
    "        img = img.to(DEVICE)\n",
    "\n",
    "        discriminator.train()\n",
    "        generator.eval()\n",
    "        optim_D.zero_grad()\n",
    "        optim_G.zero_grad()\n",
    "        noise = generate_normal(BATCH_SIZE, LATENT_DIM).to(DEVICE)\n",
    "        gen_img = generator(noise)\n",
    "        real_loss = criterion(discriminator(img), valid)\n",
    "        fake_loss = criterion(discriminator(gen_img.detach()), fake)\n",
    "        d_loss = (real_loss + fake_loss) / 2\n",
    "        d_loss.backward()\n",
    "        optim_D.step()\n",
    "        running_loss_D += d_loss.item()\n",
    "\n",
    "        generator.train()\n",
    "        discriminator.eval()\n",
    "        optim_D.zero_grad()\n",
    "        optim_G.zero_grad()\n",
    "        noise = generate_normal(BATCH_SIZE, LATENT_DIM).to(DEVICE)\n",
    "        gen_img = generator(noise)\n",
    "        g_loss = criterion(discriminator(gen_img), valid)\n",
    "        g_loss.backward()\n",
    "        optim_G.step()\n",
    "        running_loss_G += g_loss.item()\n",
    "\n",
    "    print(\n",
    "        f\"epoch {e+1}: D: {running_loss_D / N} G: {running_loss_G / N}\"\n",
    "    )"
   ]
  },
  {
   "cell_type": "markdown",
   "metadata": {},
   "source": [
    "# evaluation"
   ]
  },
  {
   "cell_type": "code",
   "execution_count": 46,
   "metadata": {},
   "outputs": [
    {
     "data": {
      "image/png": "[encoded data removed]",
      "text/plain": [
       "<Figure size 400x400 with 16 Axes>"
      ]
     },
     "metadata": {},
     "output_type": "display_data"
    }
   ],
   "source": [
    "# 合成圖片\n",
    "generator.eval()\n",
    "with torch.no_grad():\n",
    "    noise = generate_normal(16, LATENT_DIM).to(DEVICE)\n",
    "    gen_img = generator(noise)\n",
    "    \n",
    "    plot_grids(\n",
    "        img_tensor_to_np(gen_img),\n",
    "        num_row=4,\n",
    "        num_col=4,\n",
    "        is_gray_scale=True,\n",
    "        figsize=(4,4),\n",
    "    )"
   ]
  },
  {
   "cell_type": "code",
   "execution_count": 40,
   "metadata": {},
   "outputs": [
    {
     "name": "stderr",
     "output_type": "stream",
     "text": [
      "100%|██████████| 468/468 [00:11<00:00, 40.56it/s]"
     ]
    },
    {
     "name": "stdout",
     "output_type": "stream",
     "text": [
      "0.5272\n"
     ]
    },
    {
     "name": "stderr",
     "output_type": "stream",
     "text": [
      "\n"
     ]
    }
   ],
   "source": [
    "# 區別是否為真實圖片\n",
    "generator.eval()\n",
    "discriminator.eval()\n",
    "with torch.no_grad():\n",
    "    hits = 0.0\n",
    "    for img, _ in tqdm(train_loader):\n",
    "        img = img.to(DEVICE)\n",
    "        hits += discriminator(img).sigmoid().gt(0.5).sum().item()\n",
    "\n",
    "    print(hits / len(train_data))"
   ]
  },
  {
   "cell_type": "code",
   "execution_count": 41,
   "metadata": {},
   "outputs": [
    {
     "name": "stderr",
     "output_type": "stream",
     "text": [
      "100%|██████████| 468/468 [00:11<00:00, 39.61it/s]"
     ]
    },
    {
     "name": "stdout",
     "output_type": "stream",
     "text": [
      "0.2678833333333333\n"
     ]
    },
    {
     "name": "stderr",
     "output_type": "stream",
     "text": [
      "\n"
     ]
    }
   ],
   "source": [
    "# 區別是否為合成圖片\n",
    "generator.eval()\n",
    "discriminator.eval()\n",
    "with torch.no_grad():\n",
    "    hits = 0.0\n",
    "    for img, label in tqdm(train_loader):\n",
    "        noise = generate_normal(BATCH_SIZE, LATENT_DIM).to(DEVICE)\n",
    "        gen_img = generator(noise)\n",
    "        hits += discriminator(gen_img).sigmoid().gt(0.5).sum().item()\n",
    "    print(hits / len(train_data))"
   ]
  },
  {
   "cell_type": "code",
   "execution_count": 42,
   "metadata": {},
   "outputs": [],
   "source": [
    "model_path = artifact_path / 'gan.pth'"
   ]
  },
  {
   "cell_type": "code",
   "execution_count": 43,
   "metadata": {},
   "outputs": [],
   "source": [
    "torch.save(generator.state_dict(), model_path.as_posix())"
   ]
  },
  {
   "cell_type": "code",
   "execution_count": 44,
   "metadata": {},
   "outputs": [
    {
     "data": {
      "text/plain": [
       "<All keys matched successfully>"
      ]
     },
     "execution_count": 44,
     "metadata": {},
     "output_type": "execute_result"
    }
   ],
   "source": [
    "generator.load_state_dict(torch.load(model_path.as_posix()))"
   ]
  }
 ],
 "metadata": {
  "kernelspec": {
   "display_name": ".venv",
   "language": "python",
   "name": "python3"
  },
  "language_info": {
   "codemirror_mode": {
    "name": "ipython",
    "version": 3
   },
   "file_extension": ".py",
   "mimetype": "text/x-python",
   "name": "python",
   "nbconvert_exporter": "python",
   "pygments_lexer": "ipython3",
   "version": "3.11.4"
  }
 },
 "nbformat": 4,
 "nbformat_minor": 2
}
