{
 "cells": [
  {
   "cell_type": "code",
   "execution_count": 1,
   "metadata": {},
   "outputs": [],
   "source": [
    "from pathlib import Path\n",
    "\n",
    "import matplotlib.pyplot as plt\n",
    "import torch\n",
    "import torchinfo\n",
    "import torchvision\n",
    "from torch.utils.data import DataLoader\n",
    "from torchlake.common.constants import IMAGENET_MEAN, IMAGENET_STD\n",
    "from torchlake.common.controller.trainer import ClassificationTrainer\n",
    "from torchlake.common.controller.evaluator import ClassificationEvaluator\n",
    "from torchlake.common.utils.platform import get_num_workers, get_file_size\n",
    "from torchlake.image_classification.models import BamResNet\n",
    "from torchvision import transforms"
   ]
  },
  {
   "cell_type": "markdown",
   "metadata": {},
   "source": [
    "# Setting"
   ]
  },
  {
   "cell_type": "code",
   "execution_count": 2,
   "metadata": {},
   "outputs": [],
   "source": [
    "IMAGE_SIZE = 224\n",
    "BATCH_SIZE = 16"
   ]
  },
  {
   "cell_type": "code",
   "execution_count": 3,
   "metadata": {},
   "outputs": [],
   "source": [
    "artifact_path = Path(\"../../artifacts/bam\")\n",
    "data_path = Path(\"../../data/animal10\")"
   ]
  },
  {
   "cell_type": "code",
   "execution_count": 4,
   "metadata": {},
   "outputs": [],
   "source": [
    "device = torch.device(\"cuda:0\")"
   ]
  },
  {
   "cell_type": "markdown",
   "metadata": {},
   "source": [
    "# data"
   ]
  },
  {
   "cell_type": "code",
   "execution_count": 5,
   "metadata": {},
   "outputs": [],
   "source": [
    "preprocess = transforms.Compose(\n",
    "    [\n",
    "        transforms.RandomHorizontalFlip(),\n",
    "        transforms.ColorJitter(),\n",
    "        transforms.Resize((IMAGE_SIZE, IMAGE_SIZE)),\n",
    "        transforms.ToTensor(),\n",
    "        transforms.Normalize(IMAGENET_MEAN, IMAGENET_STD),\n",
    "    ]\n",
    ")"
   ]
  },
  {
   "cell_type": "code",
   "execution_count": 6,
   "metadata": {},
   "outputs": [],
   "source": [
    "dataset = torchvision.datasets.ImageFolder(\n",
    "    data_path.as_posix(),\n",
    "    transform=preprocess,\n",
    ")"
   ]
  },
  {
   "cell_type": "code",
   "execution_count": 7,
   "metadata": {},
   "outputs": [],
   "source": [
    "train_loader = DataLoader(\n",
    "    dataset,\n",
    "    batch_size=BATCH_SIZE,\n",
    "    shuffle=True,\n",
    "    drop_last=True,\n",
    "    pin_memory=True,\n",
    "    num_workers=get_num_workers(),\n",
    ")"
   ]
  },
  {
   "cell_type": "code",
   "execution_count": 8,
   "metadata": {},
   "outputs": [],
   "source": [
    "num_class = len(dataset.classes)"
   ]
  },
  {
   "cell_type": "markdown",
   "metadata": {},
   "source": [
    "# model"
   ]
  },
  {
   "cell_type": "code",
   "execution_count": 9,
   "metadata": {},
   "outputs": [],
   "source": [
    "model = BamResNet(output_size=num_class, num_layer=50).to(device)"
   ]
  },
  {
   "cell_type": "code",
   "execution_count": 10,
   "metadata": {},
   "outputs": [
    {
     "data": {
      "text/plain": [
       "===========================================================================\n",
       "Layer (type:depth-idx)                             Param #\n",
       "===========================================================================\n",
       "BamResNet                                          --\n",
       "├─Sequential: 1-1                                  --\n",
       "│    └─ConvBnRelu: 2-1                             --\n",
       "│    │    └─Conv2d: 3-1                            9,408\n",
       "│    │    └─BatchNorm2d: 3-2                       128\n",
       "│    │    └─ReLU: 3-3                              --\n",
       "│    └─MaxPool2d: 2-2                              --\n",
       "├─Sequential: 1-2                                  --\n",
       "│    └─ResBlock: 2-3                               --\n",
       "│    │    └─BottleNeck: 3-4                        58,112\n",
       "│    │    └─ConvBnRelu: 3-5                        16,896\n",
       "│    └─ResBlock: 2-4                               --\n",
       "│    │    └─BottleNeck: 3-6                        70,400\n",
       "│    │    └─Identity: 3-7                          --\n",
       "│    └─ResBlock: 2-5                               --\n",
       "│    │    └─BottleNeck: 3-8                        70,400\n",
       "│    │    └─Identity: 3-9                          --\n",
       "├─Sequential: 1-3                                  --\n",
       "│    └─ResBlock: 2-6                               --\n",
       "│    │    └─BottleNeck: 3-10                       247,296\n",
       "│    │    └─ConvBnRelu: 3-11                       132,096\n",
       "│    └─ResBlock: 2-7                               --\n",
       "│    │    └─BottleNeck: 3-12                       280,064\n",
       "│    │    └─Identity: 3-13                         --\n",
       "│    └─ResBlock: 2-8                               --\n",
       "│    │    └─BottleNeck: 3-14                       280,064\n",
       "│    │    └─Identity: 3-15                         --\n",
       "│    └─ResBlock: 2-9                               --\n",
       "│    │    └─BottleNeck: 3-16                       280,064\n",
       "│    │    └─Identity: 3-17                         --\n",
       "│    └─Bam2d: 2-10                                 --\n",
       "│    │    └─Sequential: 3-18                       33,312\n",
       "│    │    └─Sequential: 3-19                       34,946\n",
       "│    └─MaxPool2d: 2-11                             --\n",
       "├─Sequential: 1-4                                  --\n",
       "│    └─ResBlock: 2-12                              --\n",
       "│    │    └─BottleNeck: 3-20                       986,112\n",
       "│    │    └─ConvBnRelu: 3-21                       526,336\n",
       "│    └─ResBlock: 2-13                              --\n",
       "│    │    └─BottleNeck: 3-22                       1,117,184\n",
       "│    │    └─Identity: 3-23                         --\n",
       "│    └─ResBlock: 2-14                              --\n",
       "│    │    └─BottleNeck: 3-24                       1,117,184\n",
       "│    │    └─Identity: 3-25                         --\n",
       "│    └─ResBlock: 2-15                              --\n",
       "│    │    └─BottleNeck: 3-26                       1,117,184\n",
       "│    │    └─Identity: 3-27                         --\n",
       "│    └─ResBlock: 2-16                              --\n",
       "│    │    └─BottleNeck: 3-28                       1,117,184\n",
       "│    │    └─Identity: 3-29                         --\n",
       "│    └─ResBlock: 2-17                              --\n",
       "│    │    └─BottleNeck: 3-30                       1,117,184\n",
       "│    │    └─Identity: 3-31                         --\n",
       "│    └─Bam2d: 2-18                                 --\n",
       "│    │    └─Sequential: 3-32                       132,160\n",
       "│    │    └─Sequential: 3-33                       139,522\n",
       "│    └─MaxPool2d: 2-19                             --\n",
       "├─Sequential: 1-5                                  --\n",
       "│    └─ResBlock: 2-20                              --\n",
       "│    │    └─BottleNeck: 3-34                       3,938,304\n",
       "│    │    └─ConvBnRelu: 3-35                       2,101,248\n",
       "│    └─ResBlock: 2-21                              --\n",
       "│    │    └─BottleNeck: 3-36                       4,462,592\n",
       "│    │    └─Identity: 3-37                         --\n",
       "│    └─ResBlock: 2-22                              --\n",
       "│    │    └─BottleNeck: 3-38                       4,462,592\n",
       "│    │    └─Identity: 3-39                         --\n",
       "├─Sequential: 1-6                                  --\n",
       "│    └─AdaptiveAvgPool2d: 2-23                     --\n",
       "│    └─Flatten: 2-24                               --\n",
       "├─Linear: 1-7                                      20,490\n",
       "===========================================================================\n",
       "Total params: 23,868,462\n",
       "Trainable params: 23,868,462\n",
       "Non-trainable params: 0\n",
       "==========================================================================="
      ]
     },
     "execution_count": 10,
     "metadata": {},
     "output_type": "execute_result"
    }
   ],
   "source": [
    "torchinfo.summary(model)"
   ]
  },
  {
   "cell_type": "markdown",
   "metadata": {},
   "source": [
    "# training"
   ]
  },
  {
   "cell_type": "code",
   "execution_count": 11,
   "metadata": {},
   "outputs": [],
   "source": [
    "epoches = 10\n",
    "acc_iters = 64 // BATCH_SIZE"
   ]
  },
  {
   "cell_type": "code",
   "execution_count": 12,
   "metadata": {},
   "outputs": [],
   "source": [
    "trainer = ClassificationTrainer(epoches, device, acc_iters)"
   ]
  },
  {
   "cell_type": "code",
   "execution_count": 13,
   "metadata": {},
   "outputs": [],
   "source": [
    "criterion = trainer.get_criterion(num_class)\n",
    "optim = torch.optim.Adam(model.parameters(), weight_decay=1e-5)"
   ]
  },
  {
   "cell_type": "code",
   "execution_count": 14,
   "metadata": {},
   "outputs": [
    {
     "name": "stderr",
     "output_type": "stream",
     "text": [
      "100%|██████████| 1636/1636 [05:16<00:00,  5.17it/s]\n"
     ]
    },
    {
     "name": "stdout",
     "output_type": "stream",
     "text": [
      "epoch 1 : 0.030161211385521445\n"
     ]
    },
    {
     "name": "stderr",
     "output_type": "stream",
     "text": [
      "100%|██████████| 1636/1636 [04:49<00:00,  5.65it/s]\n"
     ]
    },
    {
     "name": "stdout",
     "output_type": "stream",
     "text": [
      "epoch 2 : 0.022974302576658997\n"
     ]
    },
    {
     "name": "stderr",
     "output_type": "stream",
     "text": [
      "100%|██████████| 1636/1636 [04:49<00:00,  5.64it/s]\n"
     ]
    },
    {
     "name": "stdout",
     "output_type": "stream",
     "text": [
      "epoch 3 : 0.01940277751454341\n"
     ]
    },
    {
     "name": "stderr",
     "output_type": "stream",
     "text": [
      "100%|██████████| 1636/1636 [04:49<00:00,  5.66it/s]\n"
     ]
    },
    {
     "name": "stdout",
     "output_type": "stream",
     "text": [
      "epoch 4 : 0.01644525153694497\n"
     ]
    },
    {
     "name": "stderr",
     "output_type": "stream",
     "text": [
      "100%|██████████| 1636/1636 [04:49<00:00,  5.66it/s]\n"
     ]
    },
    {
     "name": "stdout",
     "output_type": "stream",
     "text": [
      "epoch 5 : 0.014382842436608173\n"
     ]
    },
    {
     "name": "stderr",
     "output_type": "stream",
     "text": [
      "100%|██████████| 1636/1636 [04:52<00:00,  5.59it/s]\n"
     ]
    },
    {
     "name": "stdout",
     "output_type": "stream",
     "text": [
      "epoch 6 : 0.012749242779063311\n"
     ]
    },
    {
     "name": "stderr",
     "output_type": "stream",
     "text": [
      "100%|██████████| 1636/1636 [04:49<00:00,  5.65it/s]\n"
     ]
    },
    {
     "name": "stdout",
     "output_type": "stream",
     "text": [
      "epoch 7 : 0.011412903880114122\n"
     ]
    },
    {
     "name": "stderr",
     "output_type": "stream",
     "text": [
      "100%|██████████| 1636/1636 [04:49<00:00,  5.66it/s]\n"
     ]
    },
    {
     "name": "stdout",
     "output_type": "stream",
     "text": [
      "epoch 8 : 0.010293732766713264\n"
     ]
    },
    {
     "name": "stderr",
     "output_type": "stream",
     "text": [
      "100%|██████████| 1636/1636 [04:50<00:00,  5.62it/s]\n"
     ]
    },
    {
     "name": "stdout",
     "output_type": "stream",
     "text": [
      "epoch 9 : 0.009306505532089329\n"
     ]
    },
    {
     "name": "stderr",
     "output_type": "stream",
     "text": [
      "100%|██████████| 1636/1636 [04:49<00:00,  5.66it/s]"
     ]
    },
    {
     "name": "stdout",
     "output_type": "stream",
     "text": [
      "epoch 10 : 0.00837307944754722\n"
     ]
    },
    {
     "name": "stderr",
     "output_type": "stream",
     "text": [
      "\n"
     ]
    }
   ],
   "source": [
    "training_loss = trainer.run(train_loader, model, optim, criterion)"
   ]
  },
  {
   "cell_type": "code",
   "execution_count": 15,
   "metadata": {},
   "outputs": [
    {
     "data": {
      "text/plain": [
       "[<matplotlib.lines.Line2D at 0x213bdc5aa90>]"
      ]
     },
     "execution_count": 15,
     "metadata": {},
     "output_type": "execute_result"
    },
    {
     "data": {
      "image/png": "[encoded data removed]",
      "text/plain": [
       "<Figure size 640x480 with 1 Axes>"
      ]
     },
     "metadata": {},
     "output_type": "display_data"
    }
   ],
   "source": [
    "plt.plot(training_loss)"
   ]
  },
  {
   "cell_type": "markdown",
   "metadata": {},
   "source": [
    "# inference"
   ]
  },
  {
   "cell_type": "code",
   "execution_count": 16,
   "metadata": {},
   "outputs": [],
   "source": [
    "test_preprocess = transforms.Compose([\n",
    "    transforms.Resize((IMAGE_SIZE, IMAGE_SIZE)),\n",
    "    transforms.ToTensor(),\n",
    "    transforms.Normalize(IMAGENET_MEAN, IMAGENET_STD),\n",
    "])"
   ]
  },
  {
   "cell_type": "code",
   "execution_count": 17,
   "metadata": {},
   "outputs": [],
   "source": [
    "test_dataset = torchvision.datasets.ImageFolder(\n",
    "    data_path.as_posix(),\n",
    "    transform=test_preprocess,\n",
    ")"
   ]
  },
  {
   "cell_type": "code",
   "execution_count": 18,
   "metadata": {},
   "outputs": [],
   "source": [
    "test_loader = DataLoader(\n",
    "    test_dataset,\n",
    "    batch_size=BATCH_SIZE,\n",
    "    pin_memory=True,\n",
    "    num_workers=get_num_workers(),\n",
    ")"
   ]
  },
  {
   "cell_type": "code",
   "execution_count": 19,
   "metadata": {},
   "outputs": [],
   "source": [
    "evaluator = ClassificationEvaluator(num_class, device)"
   ]
  },
  {
   "cell_type": "code",
   "execution_count": 20,
   "metadata": {},
   "outputs": [
    {
     "name": "stderr",
     "output_type": "stream",
     "text": [
      "  0%|          | 0/1637 [00:00<?, ?it/s]"
     ]
    },
    {
     "name": "stderr",
     "output_type": "stream",
     "text": [
      "100%|██████████| 1637/1637 [02:19<00:00, 11.73it/s]"
     ]
    },
    {
     "name": "stdout",
     "output_type": "stream",
     "text": [
      "[[3912  125   47   14   69  335   22   15  117  207]\n",
      " [ 109 2231   41   15   37   32   40   11   55   52]\n",
      " [  31   18 1279    2   17   19    6    9   35   30]\n",
      " [  14    1    3 1707   23   82    3    0  234   45]\n",
      " [  62    5    4   18 2820   45    1    6   75   62]\n",
      " [  82    3    4    3   11 1445    0    2   27   91]\n",
      " [ 155  140   51    1   28   26 1294  105   25   41]\n",
      " [ 138   30   63    2   46   84   70 1241   35  111]\n",
      " [  30    4    4   63   22   83    0    3 4527   85]\n",
      " [  25    2    5   12   14   28    0    1   48 1727]]\n"
     ]
    },
    {
     "name": "stderr",
     "output_type": "stream",
     "text": [
      "\n"
     ]
    }
   ],
   "source": [
    "confusion_matrix = evaluator.run(test_loader, model)"
   ]
  },
  {
   "cell_type": "code",
   "execution_count": 21,
   "metadata": {},
   "outputs": [
    {
     "name": "stdout",
     "output_type": "stream",
     "text": [
      "cane      : 0.8044417026526836\n",
      "cavallo   : 0.85055280213496\n",
      "elefante  : 0.8845089903181189\n",
      "farfalla  : 0.8082386363636364\n",
      "gallina   : 0.9102646868947708\n",
      "gatto     : 0.8663069544364509\n",
      "mucca     : 0.6934619506966774\n",
      "pecora    : 0.6818681318681319\n",
      "ragno     : 0.9390168014934661\n",
      "scoiattolo: 0.9274973147153598\n"
     ]
    }
   ],
   "source": [
    "per_class_acc = evaluator.get_per_class_accuracy(confusion_matrix)\n",
    "evaluator.show_per_class_accuracy(test_dataset.classes, per_class_acc)"
   ]
  },
  {
   "cell_type": "code",
   "execution_count": 22,
   "metadata": {},
   "outputs": [
    {
     "data": {
      "text/plain": [
       "0.8366157971574255"
      ]
     },
     "execution_count": 22,
     "metadata": {},
     "output_type": "execute_result"
    }
   ],
   "source": [
    "per_class_acc.mean()"
   ]
  },
  {
   "cell_type": "code",
   "execution_count": 23,
   "metadata": {},
   "outputs": [
    {
     "data": {
      "image/png": "[encoded data removed]",
      "text/plain": [
       "<Figure size 600x400 with 2 Axes>"
      ]
     },
     "metadata": {},
     "output_type": "display_data"
    }
   ],
   "source": [
    "evaluator.plot_confusion_matrix(\n",
    "    confusion_matrix,\n",
    "    test_dataset.classes,\n",
    "    \"Blues\",\n",
    "    annot=False,\n",
    "    figsize=(6, 4),\n",
    ")"
   ]
  },
  {
   "cell_type": "code",
   "execution_count": 24,
   "metadata": {},
   "outputs": [],
   "source": [
    "model_path = artifact_path / 'bam-resnet50.pth'"
   ]
  },
  {
   "cell_type": "code",
   "execution_count": 25,
   "metadata": {},
   "outputs": [],
   "source": [
    "torch.save(model.state_dict(), model_path)"
   ]
  },
  {
   "cell_type": "code",
   "execution_count": 26,
   "metadata": {},
   "outputs": [
    {
     "data": {
      "text/plain": [
       "'91.38MB'"
      ]
     },
     "execution_count": 26,
     "metadata": {},
     "output_type": "execute_result"
    }
   ],
   "source": [
    "get_file_size(model_path)"
   ]
  },
  {
   "cell_type": "code",
   "execution_count": 27,
   "metadata": {},
   "outputs": [
    {
     "data": {
      "text/plain": [
       "<All keys matched successfully>"
      ]
     },
     "execution_count": 27,
     "metadata": {},
     "output_type": "execute_result"
    }
   ],
   "source": [
    "model.load_state_dict(torch.load(model_path.as_posix()))"
   ]
  },
  {
   "cell_type": "code",
   "execution_count": null,
   "metadata": {},
   "outputs": [],
   "source": []
  }
 ],
 "metadata": {
  "kernelspec": {
   "display_name": "Python 3.11.4 ('pytorch_implementation-d01dM_ad')",
   "language": "python",
   "name": "python3"
  },
  "language_info": {
   "codemirror_mode": {
    "name": "ipython",
    "version": 3
   },
   "file_extension": ".py",
   "mimetype": "text/x-python",
   "name": "python",
   "nbconvert_exporter": "python",
   "pygments_lexer": "ipython3",
   "version": "3.11.4"
  },
  "vscode": {
   "interpreter": {
    "hash": "e9a0f5bc210cc2fd6db4126ab49b4d48087584897d11cdd399640c3fb0a9b61d"
   }
  }
 },
 "nbformat": 4,
 "nbformat_minor": 2
}
