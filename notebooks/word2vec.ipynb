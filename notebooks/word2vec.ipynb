{
  "cells": [
    {
      "cell_type": "code",
      "execution_count": 1,
      "metadata": {
        "id": "d7sKSxZC0mlq"
      },
      "outputs": [],
      "source": [
        "from pathlib import Path\n",
        "\n",
        "import matplotlib.pyplot as plt\n",
        "import torch\n",
        "import torchinfo\n",
        "import torchtext\n",
        "import torchtext.transforms as T\n",
        "from torch import nn, optim\n",
        "from torch.utils.data import DataLoader\n",
        "from torchlake.common.schemas.nlp import NlpContext\n",
        "from torchlake.common.utils.platform import get_num_workers\n",
        "from torchlake.common.utils.text import (build_vocab, get_unigram_counts,\n",
        "                                         is_corpus_title, is_longer_text)\n",
        "from torchlake.language_model.constants.enum import LossType, ModelType\n",
        "from torchlake.language_model.controller.trainer_word2vec import (\n",
        "    CbowTrainer, SkipGramTrainer)\n",
        "from torchlake.language_model.models import Word2Vec\n",
        "from torchlake.language_model.models.word2vec.loss import (HierarchicalSoftmax,\n",
        "                                                           NegativeSampling)\n",
        "from torchlake.language_model.utils.stats import subsampling_probability\n",
        "from torchtext.data.utils import get_tokenizer, ngrams_iterator\n",
        "from torchtext.datasets import WikiText2, WikiText103\n",
        "from tqdm import tqdm"
      ]
    },
    {
      "cell_type": "markdown",
      "metadata": {},
      "source": [
        "To utilize this notebook, you have to install `portalocker` first"
      ]
    },
    {
      "cell_type": "code",
      "execution_count": 2,
      "metadata": {
        "colab": {
          "base_uri": "https://localhost:8080/",
          "height": 35
        },
        "id": "Gcf1yr-Y0mls",
        "outputId": "d5f96f63-22d9-4857-d230-af686ab5df12"
      },
      "outputs": [
        {
          "data": {
            "text/plain": [
              "'2.1.0+cu118'"
            ]
          },
          "execution_count": 2,
          "metadata": {},
          "output_type": "execute_result"
        }
      ],
      "source": [
        "torch.__version__"
      ]
    },
    {
      "cell_type": "code",
      "execution_count": 3,
      "metadata": {
        "colab": {
          "base_uri": "https://localhost:8080/",
          "height": 35
        },
        "id": "Iz1byBBS0mlu",
        "outputId": "7057b39e-a226-43ce-97ee-4e54f9f5cf31"
      },
      "outputs": [
        {
          "data": {
            "text/plain": [
              "'0.16.0+cpu'"
            ]
          },
          "execution_count": 3,
          "metadata": {},
          "output_type": "execute_result"
        }
      ],
      "source": [
        "torchtext.__version__"
      ]
    },
    {
      "cell_type": "markdown",
      "metadata": {
        "id": "dQC-kmj40mlv"
      },
      "source": [
        "# setting\n"
      ]
    },
    {
      "cell_type": "code",
      "execution_count": 4,
      "metadata": {},
      "outputs": [],
      "source": [
        "DATASET_NAME = \"wikiText2\""
      ]
    },
    {
      "cell_type": "code",
      "execution_count": 5,
      "metadata": {},
      "outputs": [],
      "source": [
        "artifact_path = Path('../../artifacts/word2vec')\n",
        "artifact_dataset_path = artifact_path / DATASET_NAME\n",
        "data_path = Path('../../data') / DATASET_NAME"
      ]
    },
    {
      "cell_type": "code",
      "execution_count": 6,
      "metadata": {},
      "outputs": [],
      "source": [
        "CONTEXT = NlpContext()"
      ]
    },
    {
      "cell_type": "code",
      "execution_count": 7,
      "metadata": {},
      "outputs": [],
      "source": [
        "BATCH_SIZE = 32\n",
        "CONTEXT_SIZE = 5"
      ]
    },
    {
      "cell_type": "code",
      "execution_count": 8,
      "metadata": {},
      "outputs": [],
      "source": [
        "DEVICE = torch.device(CONTEXT.device)"
      ]
    },
    {
      "cell_type": "code",
      "execution_count": 9,
      "metadata": {},
      "outputs": [],
      "source": [
        "tokenizer = get_tokenizer('basic_english')"
      ]
    },
    {
      "cell_type": "code",
      "execution_count": 10,
      "metadata": {
        "id": "VjIy_PjO0ml6"
      },
      "outputs": [],
      "source": [
        "def datapipe_factory(datapipe, context_size: int = 1, transform = None):\n",
        "    datapipe = (\n",
        "        datapipe\n",
        "        .map(lambda text: text.strip())\n",
        "        .map(lambda text: text.lower())\n",
        "        .filter(lambda text: is_longer_text(text, context_size))\n",
        "        .filter(lambda text: not is_corpus_title(text))\n",
        "        .map(tokenizer)\n",
        "        # .map(lambda text: drop_keywords(text, stopwords.words('english')))\n",
        "        # .batch(batch_size)\n",
        "        # .map(lambda text: F.to_tensor(text, padding_value=padding_idx))\n",
        "    )\n",
        "\n",
        "    if transform:\n",
        "      datapipe = datapipe.map(transform)\n",
        "\n",
        "    return datapipe"
      ]
    },
    {
      "cell_type": "code",
      "execution_count": 11,
      "metadata": {
        "id": "eGd_f6M00ml7"
      },
      "outputs": [],
      "source": [
        "import random\n",
        "\n",
        "\n",
        "def get_context(batch: list[torch.Tensor], maximum_context_size: int = 5, enable_random_context: bool = True)-> tuple[torch.Tensor, torch.Tensor]:\n",
        "    \"\"\"\n",
        "    Args:\n",
        "        batch: shape(batch_size, max_seq_len)\n",
        "\n",
        "    Return:\n",
        "        gram, context: shape(batch_size, 1 or context_size - 1, max_seq_len - context_size + 1)\n",
        "    \"\"\"\n",
        "    # context is an odd that falls between 3 ~ maximum_context_size\n",
        "    \n",
        "    if maximum_context_size < 3:\n",
        "        raise ValueError(\"contextss size is too small.\")\n",
        "    elif maximum_context_size % 2 == 0:\n",
        "        raise ValueError(\"context size should be odd.\")\n",
        "    \n",
        "    context_size = random.choice(list(range(3, maximum_context_size+1, 2))) if enable_random_context else maximum_context_size \n",
        "\n",
        "    half_size = context_size // 2\n",
        "    context_indice = list(range(context_size))\n",
        "    context_indice.pop(half_size)\n",
        "\n",
        "    batch = torch.stack(batch)\n",
        "    batch = batch.unfold(1, context_size, 1)\n",
        "    gram = batch[:, :, half_size]\n",
        "    context = batch[:, :, context_indice]\n",
        "\n",
        "    return (\n",
        "        gram.long().unsqueeze(1),\n",
        "        context.long().transpose(-1, -2),\n",
        "    )"
      ]
    },
    {
      "cell_type": "code",
      "execution_count": 12,
      "metadata": {
        "id": "IJsLMBXd0ml5"
      },
      "outputs": [],
      "source": [
        "train_datapipe, val_datapipe, test_datapipe = WikiText2(data_path.as_posix())"
      ]
    },
    {
      "cell_type": "code",
      "execution_count": 13,
      "metadata": {
        "colab": {
          "base_uri": "https://localhost:8080/"
        },
        "id": "ZDQE8SdK0ml5",
        "outputId": "25f19425-0b0b-4158-f7c5-a5e4281e10a4"
      },
      "outputs": [
        {
          "name": "stderr",
          "output_type": "stream",
          "text": [
            "d:\\research\\pytorch-implementations\\.venv\\Lib\\site-packages\\torch\\utils\\data\\datapipes\\utils\\common.py:141: UserWarning: Local function is not supported by pickle, please use regular python function or functools.partial instead.\n",
            "  warnings.warn(\n"
          ]
        }
      ],
      "source": [
        "cloned_train_datapipe = datapipe_factory(train_datapipe, CONTEXT_SIZE)\n",
        "vocab = build_vocab(cloned_train_datapipe)"
      ]
    },
    {
      "cell_type": "code",
      "execution_count": 14,
      "metadata": {},
      "outputs": [],
      "source": [
        "vocab_size = len(vocab)"
      ]
    },
    {
      "cell_type": "code",
      "execution_count": 15,
      "metadata": {
        "colab": {
          "base_uri": "https://localhost:8080/"
        },
        "id": "39QfrYufkefY",
        "outputId": "fdc52a35-2910-4d6c-fb09-a074df56d240"
      },
      "outputs": [],
      "source": [
        "# artifact_dataset_path.joinpath(\"vocab.json\").write_text(\n",
        "#     json.dumps(list(vocab.get_stoi().keys()))\n",
        "# )"
      ]
    },
    {
      "cell_type": "code",
      "execution_count": 16,
      "metadata": {
        "colab": {
          "base_uri": "https://localhost:8080/"
        },
        "id": "h5eL12nFLH_M",
        "outputId": "60f7e4e4-09ef-41b6-e388-7079bc5f6c46"
      },
      "outputs": [
        {
          "data": {
            "text/plain": [
              "['<unk>',\n",
              " '<bos>',\n",
              " '<eos>',\n",
              " '<pad>',\n",
              " 'the',\n",
              " ',',\n",
              " '.',\n",
              " 'of',\n",
              " 'and',\n",
              " 'in',\n",
              " 'to',\n",
              " 'a',\n",
              " 'was',\n",
              " \"'\",\n",
              " '@-@',\n",
              " 'on',\n",
              " 'as',\n",
              " 's',\n",
              " 'that',\n",
              " 'for']"
            ]
          },
          "execution_count": 16,
          "metadata": {},
          "output_type": "execute_result"
        }
      ],
      "source": [
        "vocab.lookup_tokens(range(20))"
      ]
    },
    {
      "cell_type": "code",
      "execution_count": 17,
      "metadata": {
        "id": "VXZtp3Xk0ml5"
      },
      "outputs": [],
      "source": [
        "text_transform = T.Sequential(\n",
        "    T.VocabTransform(vocab),\n",
        "    T.Truncate(CONTEXT.max_seq_len - 2),\n",
        "    T.AddToken(token=CONTEXT.bos_idx, begin=True),\n",
        "    T.AddToken(token=CONTEXT.eos_idx, begin=False),\n",
        "    T.ToTensor(),\n",
        "    T.PadTransform(CONTEXT.max_seq_len, CONTEXT.padding_idx),\n",
        ")"
      ]
    },
    {
      "cell_type": "code",
      "execution_count": 18,
      "metadata": {
        "id": "1q159o50PHMf"
      },
      "outputs": [
        {
          "name": "stderr",
          "output_type": "stream",
          "text": [
            "d:\\research\\pytorch-implementations\\.venv\\Lib\\site-packages\\torch\\utils\\data\\datapipes\\utils\\common.py:141: UserWarning: Local function is not supported by pickle, please use regular python function or functools.partial instead.\n",
            "  warnings.warn(\n"
          ]
        }
      ],
      "source": [
        "train_datapipe = datapipe_factory(\n",
        "    train_datapipe,\n",
        "    CONTEXT_SIZE,\n",
        "    text_transform,\n",
        ")\n",
        "\n",
        "val_datapipe = datapipe_factory(\n",
        "    val_datapipe,\n",
        "    CONTEXT_SIZE,\n",
        "    text_transform,\n",
        ")\n",
        "\n",
        "test_datapipe = datapipe_factory(\n",
        "    test_datapipe,\n",
        "    CONTEXT_SIZE,\n",
        "    text_transform,\n",
        ")"
      ]
    },
    {
      "cell_type": "code",
      "execution_count": 19,
      "metadata": {},
      "outputs": [],
      "source": [
        "NUM_WORKERS = get_num_workers()"
      ]
    },
    {
      "cell_type": "code",
      "execution_count": 20,
      "metadata": {
        "id": "DL2__1kp0ml8"
      },
      "outputs": [],
      "source": [
        "train_dataloader = DataLoader(\n",
        "    train_datapipe,\n",
        "    batch_size=BATCH_SIZE,\n",
        "    collate_fn=lambda data: get_context(data, CONTEXT_SIZE),\n",
        "    pin_memory=True,\n",
        "    num_workers=NUM_WORKERS,\n",
        ")\n",
        "\n",
        "val_dataloader = DataLoader(\n",
        "    val_datapipe,\n",
        "    batch_size=BATCH_SIZE,\n",
        "    collate_fn=lambda data: get_context(data, CONTEXT_SIZE),\n",
        "    pin_memory=True,\n",
        "    num_workers=NUM_WORKERS,\n",
        ")\n",
        "\n",
        "test_dataloader = DataLoader(\n",
        "    test_datapipe,\n",
        "    batch_size=BATCH_SIZE,\n",
        "    collate_fn=lambda data: get_context(data, CONTEXT_SIZE),\n",
        "    pin_memory=True,\n",
        "    num_workers=NUM_WORKERS,\n",
        ")"
      ]
    },
    {
      "cell_type": "code",
      "execution_count": 21,
      "metadata": {
        "id": "oz2f4qOd0ml7"
      },
      "outputs": [],
      "source": [
        "# check context size\n",
        "# for data in train_datapipe:\n",
        "#     if len(data) < 5:\n",
        "#         print(data)\n",
        "#         break"
      ]
    },
    {
      "cell_type": "code",
      "execution_count": 22,
      "metadata": {
        "colab": {
          "base_uri": "https://localhost:8080/"
        },
        "id": "sd9gWgCsLymY",
        "outputId": "6b781224-caf6-461d-fd69-83d9fe50c1dc"
      },
      "outputs": [],
      "source": [
        "# sample\n",
        "# for data in train_datapipe:\n",
        "#     if len(data) > 5:\n",
        "#         print(data)\n",
        "#         print(vocab.lookup_tokens(data))\n",
        "#         break"
      ]
    },
    {
      "cell_type": "code",
      "execution_count": 23,
      "metadata": {
        "colab": {
          "base_uri": "https://localhost:8080/"
        },
        "id": "a42AV49hp6vX",
        "outputId": "49b37f15-c86e-450b-a4ff-2335b471fee0"
      },
      "outputs": [],
      "source": [
        "# count = 0\n",
        "# for data in train_datapipe:\n",
        "#   count += len(data)\n",
        "# count"
      ]
    },
    {
      "cell_type": "code",
      "execution_count": 24,
      "metadata": {
        "colab": {
          "base_uri": "https://localhost:8080/"
        },
        "id": "frdhH6YwqDau",
        "outputId": "05768484-8667-4e4b-8add-6448602de244"
      },
      "outputs": [],
      "source": [
        "# number of words in training corpurs\n",
        "# wikitext2 count 1,993,228\n",
        "# wikitext103 count 101,227,641"
      ]
    },
    {
      "cell_type": "code",
      "execution_count": 25,
      "metadata": {
        "id": "c2mRhse60ml8"
      },
      "outputs": [
        {
          "name": "stdout",
          "output_type": "stream",
          "text": [
            "torch.Size([32, 1, 252]) torch.Size([32, 4, 252])\n"
          ]
        }
      ],
      "source": [
        "for gram, context in train_dataloader:\n",
        "    print(gram.shape, context.shape)\n",
        "    break"
      ]
    },
    {
      "cell_type": "markdown",
      "metadata": {
        "id": "L2Dm95bs0ml8"
      },
      "source": [
        "# subsampling\n"
      ]
    },
    {
      "cell_type": "code",
      "execution_count": 26,
      "metadata": {
        "id": "3SutljlQ37hh"
      },
      "outputs": [],
      "source": [
        "# load word frequency\n",
        "# word_counts = json.loads(artifact_dataset_path.joinpath(\"word-count.json\").read_text())\n",
        "# word_counts = torch.LongTensor(word_counts)"
      ]
    },
    {
      "cell_type": "code",
      "execution_count": 27,
      "metadata": {},
      "outputs": [
        {
          "name": "stderr",
          "output_type": "stream",
          "text": [
            "d:\\research\\pytorch-implementations\\.venv\\Lib\\site-packages\\torch\\utils\\data\\datapipes\\iter\\combining.py:333: UserWarning: Some child DataPipes are not exhausted when __iter__ is called. We are resetting the buffer and each child DataPipe will read from the start again.\n",
            "  warnings.warn(\"Some child DataPipes are not exhausted when __iter__ is called. We are resetting \"\n"
          ]
        }
      ],
      "source": [
        "word_counts = get_unigram_counts(\n",
        "    map(lambda x: x.tolist(), train_datapipe),\n",
        "    vocab_size,\n",
        "    freq=False,\n",
        ")"
      ]
    },
    {
      "cell_type": "code",
      "execution_count": 28,
      "metadata": {
        "id": "Z-T_ZdaC0ml9"
      },
      "outputs": [],
      "source": [
        "word_freqs = get_unigram_counts(\n",
        "    map(lambda x: x.tolist(), train_datapipe),\n",
        "    vocab_size,\n",
        "    freq=True,\n",
        ")"
      ]
    },
    {
      "cell_type": "code",
      "execution_count": 29,
      "metadata": {
        "colab": {
          "base_uri": "https://localhost:8080/"
        },
        "id": "FmYLnWPTVO-w",
        "outputId": "3ca2ae3a-d3f2-46cb-b189-df69791ce123"
      },
      "outputs": [
        {
          "data": {
            "text/plain": [
              "torch.Size([20351])"
            ]
          },
          "execution_count": 29,
          "metadata": {},
          "output_type": "execute_result"
        }
      ],
      "source": [
        "word_freqs.shape"
      ]
    },
    {
      "cell_type": "code",
      "execution_count": 30,
      "metadata": {
        "colab": {
          "base_uri": "https://localhost:8080/"
        },
        "id": "R9mbblWIfPId",
        "outputId": "eed6c760-2728-4ea0-d798-50b21734949a"
      },
      "outputs": [
        {
          "data": {
            "text/plain": [
              "tensor(1.0001)"
            ]
          },
          "execution_count": 30,
          "metadata": {},
          "output_type": "execute_result"
        }
      ],
      "source": [
        "sum(word_freqs)"
      ]
    },
    {
      "cell_type": "code",
      "execution_count": 31,
      "metadata": {
        "colab": {
          "base_uri": "https://localhost:8080/"
        },
        "id": "73IXZP6f0ml9",
        "outputId": "337f2433-4e4a-4529-aafe-ff3b7a9e1d39"
      },
      "outputs": [
        {
          "data": {
            "text/plain": [
              "tensor(4468736)"
            ]
          },
          "execution_count": 31,
          "metadata": {},
          "output_type": "execute_result"
        }
      ],
      "source": [
        "sum(word_counts)"
      ]
    },
    {
      "cell_type": "code",
      "execution_count": 32,
      "metadata": {},
      "outputs": [],
      "source": [
        "subsampling_threshold = 1e-5"
      ]
    },
    {
      "cell_type": "code",
      "execution_count": 33,
      "metadata": {
        "id": "Z_AVOBBn0ml9"
      },
      "outputs": [],
      "source": [
        "word_probs = (\n",
        "    subsampling_probability(word_freqs, subsampling_threshold)\n",
        "    .maximum(torch.zeros((1))) # avoid negative number\n",
        "    .to(DEVICE)\n",
        ")"
      ]
    },
    {
      "cell_type": "code",
      "execution_count": 34,
      "metadata": {},
      "outputs": [
        {
          "data": {
            "text/plain": [
              "tensor(1505.4606, device='cuda:0')"
            ]
          },
          "execution_count": 34,
          "metadata": {},
          "output_type": "execute_result"
        }
      ],
      "source": [
        "# the formula itself does not need normalization\n",
        "sum(word_probs)"
      ]
    },
    {
      "cell_type": "code",
      "execution_count": 35,
      "metadata": {
        "colab": {
          "base_uri": "https://localhost:8080/",
          "height": 466
        },
        "id": "tZqPLdRf0ml-",
        "outputId": "22484b9f-7393-4b09-980c-9bb6d2274120"
      },
      "outputs": [
        {
          "data": {
            "text/plain": [
              "Text(0, 0.5, 'drop probability')"
            ]
          },
          "execution_count": 35,
          "metadata": {},
          "output_type": "execute_result"
        },
        {
          "data": {
            "image/png": "[encoded data removed]",
            "text/plain": [
              "<Figure size 640x480 with 1 Axes>"
            ]
          },
          "metadata": {},
          "output_type": "display_data"
        }
      ],
      "source": [
        "plt.scatter(word_freqs, word_probs.cpu())\n",
        "plt.xlabel(\"word frequency\")\n",
        "plt.ylabel(\"drop probability\")"
      ]
    },
    {
      "cell_type": "code",
      "execution_count": 36,
      "metadata": {
        "colab": {
          "base_uri": "https://localhost:8080/"
        },
        "id": "5Pxl0SiKeWV2",
        "outputId": "50b0eb80-284e-4f12-c065-a4c6cadbd926"
      },
      "outputs": [],
      "source": [
        "# save word frequency\n",
        "# artifact_wikitext2_path.joinpath(\"word-count.json\").write_text(json.dumps(word_counts.tolist()))"
      ]
    },
    {
      "cell_type": "markdown",
      "metadata": {
        "id": "Br5_RcSU0ml_"
      },
      "source": [
        "# training\n"
      ]
    },
    {
      "cell_type": "code",
      "execution_count": 37,
      "metadata": {
        "id": "ucGutfqLvOXa"
      },
      "outputs": [],
      "source": [
        "EMBED_DIM = 300"
      ]
    },
    {
      "cell_type": "code",
      "execution_count": 38,
      "metadata": {
        "id": "TLupxmPc0ml_"
      },
      "outputs": [],
      "source": [
        "EPOCHES = 20"
      ]
    },
    {
      "cell_type": "markdown",
      "metadata": {
        "id": "_h-1_YPH0ml_"
      },
      "source": [
        "## cross entropy\n"
      ]
    },
    {
      "cell_type": "markdown",
      "metadata": {
        "id": "PuKbk6FlQ6US"
      },
      "source": [
        "### SkipGram\n"
      ]
    },
    {
      "cell_type": "markdown",
      "metadata": {},
      "source": [
        "batch size 32, context size 5\n",
        "\n",
        "each epoch needs 2min, 11.6GB with 4 workers on linux\n",
        "\n",
        "each epoch needs 73min, 11.6GB with none workers on windows"
      ]
    },
    {
      "cell_type": "code",
      "execution_count": 39,
      "metadata": {
        "id": "D1sVrxGu0mmE"
      },
      "outputs": [],
      "source": [
        "model = Word2Vec(\n",
        "    vocab_size,\n",
        "    EMBED_DIM,\n",
        "    ModelType.SKIP_GRAM,\n",
        "    context=CONTEXT,\n",
        ").to(DEVICE)"
      ]
    },
    {
      "cell_type": "code",
      "execution_count": 40,
      "metadata": {},
      "outputs": [
        {
          "data": {
            "text/plain": [
              "=================================================================\n",
              "Layer (type:depth-idx)                   Param #\n",
              "=================================================================\n",
              "Word2Vec                                 --\n",
              "├─Linear: 1-1                            6,125,651\n",
              "├─SkipGram: 1-2                          --\n",
              "│    └─Embedding: 2-1                    6,105,300\n",
              "=================================================================\n",
              "Total params: 12,230,951\n",
              "Trainable params: 12,230,951\n",
              "Non-trainable params: 0\n",
              "================================================================="
            ]
          },
          "execution_count": 40,
          "metadata": {},
          "output_type": "execute_result"
        }
      ],
      "source": [
        "torchinfo.summary(model)"
      ]
    },
    {
      "cell_type": "code",
      "execution_count": 41,
      "metadata": {
        "id": "5XTK-Pof0mmE"
      },
      "outputs": [],
      "source": [
        "criterion = nn.CrossEntropyLoss()\n",
        "optimizer = optim.SGD(model.parameters(), lr=1e-3)"
      ]
    },
    {
      "cell_type": "code",
      "execution_count": 42,
      "metadata": {},
      "outputs": [
        {
          "name": "stderr",
          "output_type": "stream",
          "text": [
            "547it [02:20,  3.90it/s]\n"
          ]
        },
        {
          "name": "stdout",
          "output_type": "stream",
          "text": [
            "epoch 1 : 0.3087980635225172\n"
          ]
        },
        {
          "name": "stderr",
          "output_type": "stream",
          "text": [
            "547it [02:20,  3.91it/s]\n"
          ]
        },
        {
          "name": "stdout",
          "output_type": "stream",
          "text": [
            "epoch 2 : 0.3008768631164138\n"
          ]
        },
        {
          "name": "stderr",
          "output_type": "stream",
          "text": [
            "547it [02:02,  4.47it/s]\n"
          ]
        },
        {
          "name": "stdout",
          "output_type": "stream",
          "text": [
            "epoch 3 : 0.2930864764396255\n"
          ]
        },
        {
          "name": "stderr",
          "output_type": "stream",
          "text": [
            "547it [01:51,  4.91it/s]\n"
          ]
        },
        {
          "name": "stdout",
          "output_type": "stream",
          "text": [
            "epoch 4 : 0.28571212783414873\n"
          ]
        },
        {
          "name": "stderr",
          "output_type": "stream",
          "text": [
            "547it [01:51,  4.91it/s]\n"
          ]
        },
        {
          "name": "stdout",
          "output_type": "stream",
          "text": [
            "epoch 5 : 0.2787685870140873\n"
          ]
        },
        {
          "name": "stderr",
          "output_type": "stream",
          "text": [
            "547it [01:51,  4.90it/s]\n"
          ]
        },
        {
          "name": "stdout",
          "output_type": "stream",
          "text": [
            "epoch 6 : 0.27227624281079915\n"
          ]
        },
        {
          "name": "stderr",
          "output_type": "stream",
          "text": [
            "547it [01:51,  4.90it/s]\n"
          ]
        },
        {
          "name": "stdout",
          "output_type": "stream",
          "text": [
            "epoch 7 : 0.2660893277221596\n"
          ]
        },
        {
          "name": "stderr",
          "output_type": "stream",
          "text": [
            "547it [01:51,  4.89it/s]\n"
          ]
        },
        {
          "name": "stdout",
          "output_type": "stream",
          "text": [
            "epoch 8 : 0.26012423175611593\n"
          ]
        },
        {
          "name": "stderr",
          "output_type": "stream",
          "text": [
            "547it [01:51,  4.89it/s]\n"
          ]
        },
        {
          "name": "stdout",
          "output_type": "stream",
          "text": [
            "epoch 9 : 0.2543126828183175\n"
          ]
        },
        {
          "name": "stderr",
          "output_type": "stream",
          "text": [
            "547it [01:51,  4.89it/s]\n"
          ]
        },
        {
          "name": "stdout",
          "output_type": "stream",
          "text": [
            "epoch 10 : 0.24859831043058966\n"
          ]
        },
        {
          "name": "stderr",
          "output_type": "stream",
          "text": [
            "547it [01:51,  4.89it/s]\n"
          ]
        },
        {
          "name": "stdout",
          "output_type": "stream",
          "text": [
            "epoch 11 : 0.2429566849108468\n"
          ]
        },
        {
          "name": "stderr",
          "output_type": "stream",
          "text": [
            "547it [02:03,  4.44it/s]\n"
          ]
        },
        {
          "name": "stdout",
          "output_type": "stream",
          "text": [
            "epoch 12 : 0.23735726671848245\n"
          ]
        },
        {
          "name": "stderr",
          "output_type": "stream",
          "text": [
            "547it [02:18,  3.95it/s]\n"
          ]
        },
        {
          "name": "stdout",
          "output_type": "stream",
          "text": [
            "epoch 13 : 0.2317677917937201\n"
          ]
        },
        {
          "name": "stderr",
          "output_type": "stream",
          "text": [
            "547it [02:11,  4.15it/s]\n"
          ]
        },
        {
          "name": "stdout",
          "output_type": "stream",
          "text": [
            "epoch 14 : 0.22624234862004147\n"
          ]
        },
        {
          "name": "stderr",
          "output_type": "stream",
          "text": [
            "547it [02:11,  4.15it/s]\n"
          ]
        },
        {
          "name": "stdout",
          "output_type": "stream",
          "text": [
            "epoch 15 : 0.22074919936309487\n"
          ]
        },
        {
          "name": "stderr",
          "output_type": "stream",
          "text": [
            "547it [02:13,  4.08it/s]\n"
          ]
        },
        {
          "name": "stdout",
          "output_type": "stream",
          "text": [
            "epoch 16 : 0.2153011620809571\n"
          ]
        },
        {
          "name": "stderr",
          "output_type": "stream",
          "text": [
            "547it [02:12,  4.13it/s]\n"
          ]
        },
        {
          "name": "stdout",
          "output_type": "stream",
          "text": [
            "epoch 17 : 0.20986061034456072\n"
          ]
        },
        {
          "name": "stderr",
          "output_type": "stream",
          "text": [
            "547it [02:00,  4.54it/s]\n"
          ]
        },
        {
          "name": "stdout",
          "output_type": "stream",
          "text": [
            "epoch 18 : 0.20452876289321348\n"
          ]
        },
        {
          "name": "stderr",
          "output_type": "stream",
          "text": [
            "547it [01:52,  4.87it/s]\n"
          ]
        },
        {
          "name": "stdout",
          "output_type": "stream",
          "text": [
            "epoch 19 : 0.19922385570327697\n"
          ]
        },
        {
          "name": "stderr",
          "output_type": "stream",
          "text": [
            "547it [01:58,  4.61it/s]"
          ]
        },
        {
          "name": "stdout",
          "output_type": "stream",
          "text": [
            "epoch 20 : 0.1940036424521893\n"
          ]
        },
        {
          "name": "stderr",
          "output_type": "stream",
          "text": [
            "\n"
          ]
        },
        {
          "data": {
            "text/plain": [
              "[0.3087980635225172,\n",
              " 0.3008768631164138,\n",
              " 0.2930864764396255,\n",
              " 0.28571212783414873,\n",
              " 0.2787685870140873,\n",
              " 0.27227624281079915,\n",
              " 0.2660893277221596,\n",
              " 0.26012423175611593,\n",
              " 0.2543126828183175,\n",
              " 0.24859831043058966,\n",
              " 0.2429566849108468,\n",
              " 0.23735726671848245,\n",
              " 0.2317677917937201,\n",
              " 0.22624234862004147,\n",
              " 0.22074919936309487,\n",
              " 0.2153011620809571,\n",
              " 0.20986061034456072,\n",
              " 0.20452876289321348,\n",
              " 0.19922385570327697,\n",
              " 0.1940036424521893]"
            ]
          },
          "execution_count": 42,
          "metadata": {},
          "output_type": "execute_result"
        }
      ],
      "source": [
        "trainer = SkipGramTrainer(EPOCHES, DEVICE)\n",
        "training_loss = trainer.run(train_dataloader, model, optimizer, criterion, word_probs)"
      ]
    },
    {
      "cell_type": "code",
      "execution_count": 44,
      "metadata": {},
      "outputs": [
        {
          "data": {
            "text/plain": [
              "[<matplotlib.lines.Line2D at 0x7f1548250ac0>]"
            ]
          },
          "execution_count": 44,
          "metadata": {},
          "output_type": "execute_result"
        },
        {
          "data": {
            "image/png": "[encoded data removed]",
            "text/plain": [
              "<Figure size 640x480 with 1 Axes>"
            ]
          },
          "metadata": {},
          "output_type": "display_data"
        }
      ],
      "source": [
        "plt.plot(training_loss)"
      ]
    },
    {
      "cell_type": "code",
      "execution_count": 45,
      "metadata": {},
      "outputs": [],
      "source": [
        "model_path = artifact_path / \"sg.2.pth\""
      ]
    },
    {
      "cell_type": "code",
      "execution_count": 46,
      "metadata": {
        "id": "iUzEdQXd0mmF"
      },
      "outputs": [],
      "source": [
        "torch.save(model, model_path.as_posix())"
      ]
    },
    {
      "cell_type": "code",
      "execution_count": 96,
      "metadata": {
        "id": "PaRusaOZ0mmF"
      },
      "outputs": [],
      "source": [
        "model = torch.load(model_path.as_posix())"
      ]
    },
    {
      "cell_type": "markdown",
      "metadata": {
        "id": "mTD_ZolX0mmH"
      },
      "source": [
        "### CBOW\n"
      ]
    },
    {
      "cell_type": "markdown",
      "metadata": {},
      "source": [
        "batch size 32, context size 5\n",
        "\n",
        "each epoch needs 42s, 3.6GB with 4 workers on linux\n",
        "\n",
        "each epoch needs 42s, 3.6GB with none workers on windows"
      ]
    },
    {
      "cell_type": "code",
      "execution_count": 39,
      "metadata": {
        "id": "k63cX6-D0mmH"
      },
      "outputs": [],
      "source": [
        "model = Word2Vec(\n",
        "    vocab_size,\n",
        "    EMBED_DIM,\n",
        "    CONTEXT_SIZE,\n",
        "    ModelType.CBOW,\n",
        "    context=CONTEXT,\n",
        ").to(DEVICE)"
      ]
    },
    {
      "cell_type": "code",
      "execution_count": 38,
      "metadata": {},
      "outputs": [
        {
          "data": {
            "text/plain": [
              "=================================================================\n",
              "Layer (type:depth-idx)                   Param #\n",
              "=================================================================\n",
              "Word2Vec                                 --\n",
              "├─Linear: 1-1                            6,125,651\n",
              "├─Cbow: 1-2                              --\n",
              "│    └─Embedding: 2-1                    6,105,300\n",
              "=================================================================\n",
              "Total params: 12,230,951\n",
              "Trainable params: 12,230,951\n",
              "Non-trainable params: 0\n",
              "================================================================="
            ]
          },
          "execution_count": 38,
          "metadata": {},
          "output_type": "execute_result"
        }
      ],
      "source": [
        "torchinfo.summary(model)"
      ]
    },
    {
      "cell_type": "code",
      "execution_count": 40,
      "metadata": {
        "id": "M-j6UOGF0mmH"
      },
      "outputs": [],
      "source": [
        "criterion = nn.CrossEntropyLoss()\n",
        "optimizer = optim.SGD(model.parameters(), lr=1e-4)"
      ]
    },
    {
      "cell_type": "code",
      "execution_count": 41,
      "metadata": {},
      "outputs": [
        {
          "name": "stderr",
          "output_type": "stream",
          "text": [
            "547it [00:46, 11.89it/s]\n"
          ]
        },
        {
          "name": "stdout",
          "output_type": "stream",
          "text": [
            "epoch 1 : 0.32005459873311354\n"
          ]
        },
        {
          "name": "stderr",
          "output_type": "stream",
          "text": [
            "547it [00:42, 12.78it/s]\n"
          ]
        },
        {
          "name": "stdout",
          "output_type": "stream",
          "text": [
            "epoch 2 : 0.31551956840877027\n"
          ]
        },
        {
          "name": "stderr",
          "output_type": "stream",
          "text": [
            "547it [00:42, 12.82it/s]\n"
          ]
        },
        {
          "name": "stdout",
          "output_type": "stream",
          "text": [
            "epoch 3 : 0.31102606066862015\n"
          ]
        },
        {
          "name": "stderr",
          "output_type": "stream",
          "text": [
            "547it [00:41, 13.06it/s]\n"
          ]
        },
        {
          "name": "stdout",
          "output_type": "stream",
          "text": [
            "epoch 4 : 0.3068001818809894\n"
          ]
        },
        {
          "name": "stderr",
          "output_type": "stream",
          "text": [
            "547it [00:41, 13.19it/s]\n"
          ]
        },
        {
          "name": "stdout",
          "output_type": "stream",
          "text": [
            "epoch 5 : 0.3031790271797495\n"
          ]
        },
        {
          "name": "stderr",
          "output_type": "stream",
          "text": [
            "547it [00:41, 13.12it/s]\n"
          ]
        },
        {
          "name": "stdout",
          "output_type": "stream",
          "text": [
            "epoch 6 : 0.30030418529519237\n"
          ]
        },
        {
          "name": "stderr",
          "output_type": "stream",
          "text": [
            "547it [00:41, 13.09it/s]\n"
          ]
        },
        {
          "name": "stdout",
          "output_type": "stream",
          "text": [
            "epoch 7 : 0.29790209352587693\n"
          ]
        },
        {
          "name": "stderr",
          "output_type": "stream",
          "text": [
            "547it [00:41, 13.11it/s]\n"
          ]
        },
        {
          "name": "stdout",
          "output_type": "stream",
          "text": [
            "epoch 8 : 0.2958969196849302\n"
          ]
        },
        {
          "name": "stderr",
          "output_type": "stream",
          "text": [
            "547it [00:42, 12.84it/s]\n"
          ]
        },
        {
          "name": "stdout",
          "output_type": "stream",
          "text": [
            "epoch 9 : 0.29419840086937826\n"
          ]
        },
        {
          "name": "stderr",
          "output_type": "stream",
          "text": [
            "547it [00:41, 13.33it/s]\n"
          ]
        },
        {
          "name": "stdout",
          "output_type": "stream",
          "text": [
            "epoch 10 : 0.29271949850890094\n"
          ]
        },
        {
          "name": "stderr",
          "output_type": "stream",
          "text": [
            "547it [00:40, 13.45it/s]\n"
          ]
        },
        {
          "name": "stdout",
          "output_type": "stream",
          "text": [
            "epoch 11 : 0.2913915446654686\n"
          ]
        },
        {
          "name": "stderr",
          "output_type": "stream",
          "text": [
            "547it [00:40, 13.61it/s]\n"
          ]
        },
        {
          "name": "stdout",
          "output_type": "stream",
          "text": [
            "epoch 12 : 0.2901640788444568\n"
          ]
        },
        {
          "name": "stderr",
          "output_type": "stream",
          "text": [
            "547it [00:41, 13.32it/s]\n"
          ]
        },
        {
          "name": "stdout",
          "output_type": "stream",
          "text": [
            "epoch 13 : 0.28900249833693537\n"
          ]
        },
        {
          "name": "stderr",
          "output_type": "stream",
          "text": [
            "547it [00:40, 13.39it/s]\n"
          ]
        },
        {
          "name": "stdout",
          "output_type": "stream",
          "text": [
            "epoch 14 : 0.2878982385946566\n"
          ]
        },
        {
          "name": "stderr",
          "output_type": "stream",
          "text": [
            "547it [00:40, 13.66it/s]\n"
          ]
        },
        {
          "name": "stdout",
          "output_type": "stream",
          "text": [
            "epoch 15 : 0.28687833330152673\n"
          ]
        },
        {
          "name": "stderr",
          "output_type": "stream",
          "text": [
            "547it [00:40, 13.65it/s]\n"
          ]
        },
        {
          "name": "stdout",
          "output_type": "stream",
          "text": [
            "epoch 16 : 0.28587390221552933\n"
          ]
        },
        {
          "name": "stderr",
          "output_type": "stream",
          "text": [
            "547it [00:39, 13.69it/s]\n"
          ]
        },
        {
          "name": "stdout",
          "output_type": "stream",
          "text": [
            "epoch 17 : 0.2849168373181337\n"
          ]
        },
        {
          "name": "stderr",
          "output_type": "stream",
          "text": [
            "547it [00:39, 13.69it/s]\n"
          ]
        },
        {
          "name": "stdout",
          "output_type": "stream",
          "text": [
            "epoch 18 : 0.28399199312919876\n"
          ]
        },
        {
          "name": "stderr",
          "output_type": "stream",
          "text": [
            "547it [00:33, 16.24it/s]\n"
          ]
        },
        {
          "name": "stdout",
          "output_type": "stream",
          "text": [
            "epoch 19 : 0.28306203162746624\n"
          ]
        },
        {
          "name": "stderr",
          "output_type": "stream",
          "text": [
            "547it [00:33, 16.26it/s]"
          ]
        },
        {
          "name": "stdout",
          "output_type": "stream",
          "text": [
            "epoch 20 : 0.2821944672836283\n"
          ]
        },
        {
          "name": "stderr",
          "output_type": "stream",
          "text": [
            "\n"
          ]
        }
      ],
      "source": [
        "trainer = CbowTrainer(EPOCHES, DEVICE)\n",
        "training_loss = trainer.run(train_dataloader, model, optimizer, criterion, word_probs)"
      ]
    },
    {
      "cell_type": "code",
      "execution_count": 42,
      "metadata": {},
      "outputs": [
        {
          "data": {
            "text/plain": [
              "[<matplotlib.lines.Line2D at 0x7fb7640f9ba0>]"
            ]
          },
          "execution_count": 42,
          "metadata": {},
          "output_type": "execute_result"
        },
        {
          "data": {
            "image/png": "[encoded data removed]",
            "text/plain": [
              "<Figure size 640x480 with 1 Axes>"
            ]
          },
          "metadata": {},
          "output_type": "display_data"
        }
      ],
      "source": [
        "plt.plot(training_loss)"
      ]
    },
    {
      "cell_type": "code",
      "execution_count": 43,
      "metadata": {},
      "outputs": [],
      "source": [
        "model_path = artifact_path / \"cb.2.pth\""
      ]
    },
    {
      "cell_type": "code",
      "execution_count": 44,
      "metadata": {
        "id": "nyekoVbf0mmI"
      },
      "outputs": [],
      "source": [
        "torch.save(model, model_path.as_posix())"
      ]
    },
    {
      "cell_type": "code",
      "execution_count": 328,
      "metadata": {
        "id": "xwOZG0830mmI"
      },
      "outputs": [],
      "source": [
        "model = torch.load(model_path.as_posix())"
      ]
    },
    {
      "cell_type": "markdown",
      "metadata": {
        "id": "62UKYJJFRDrX"
      },
      "source": [
        "## NS\n"
      ]
    },
    {
      "cell_type": "markdown",
      "metadata": {},
      "source": [
        "batch size 32, context size 5\n",
        "\n",
        "each epoch needs 100s, 10GB with 4 workers on linux\n",
        "\n",
        "batch size 32, context size 5\n",
        "\n",
        "each epoch needs 73m, 1.7GB with none workers on windows"
      ]
    },
    {
      "cell_type": "markdown",
      "metadata": {
        "id": "RGBmJD48PTbw"
      },
      "source": [
        "### SkipGram\n"
      ]
    },
    {
      "cell_type": "code",
      "execution_count": 39,
      "metadata": {
        "id": "vznrmHTXPS4B"
      },
      "outputs": [],
      "source": [
        "model = Word2Vec(\n",
        "    vocab_size,\n",
        "    EMBED_DIM,\n",
        "    ModelType.SKIP_GRAM,\n",
        "    loss_type=LossType.NS,\n",
        "    context=CONTEXT,\n",
        ").to(DEVICE)"
      ]
    },
    {
      "cell_type": "code",
      "execution_count": 40,
      "metadata": {
        "id": "QEmVfMpMPc8N"
      },
      "outputs": [],
      "source": [
        "criterion = NegativeSampling(word_freqs, EMBED_DIM, vocab_size, context=CONTEXT).to(DEVICE)\n",
        "optimizer = optim.SGD([*model.parameters(), *criterion.parameters()], lr=1e-3)"
      ]
    },
    {
      "cell_type": "code",
      "execution_count": 41,
      "metadata": {},
      "outputs": [
        {
          "name": "stderr",
          "output_type": "stream",
          "text": [
            "546it [01:12,  7.49it/s]\n"
          ]
        },
        {
          "name": "stdout",
          "output_type": "stream",
          "text": [
            "epoch 1 : 1708.149009250043\n"
          ]
        },
        {
          "name": "stderr",
          "output_type": "stream",
          "text": [
            "546it [01:08,  7.99it/s]\n"
          ]
        },
        {
          "name": "stdout",
          "output_type": "stream",
          "text": [
            "epoch 2 : 1403.1050937558182\n"
          ]
        },
        {
          "name": "stderr",
          "output_type": "stream",
          "text": [
            "546it [01:06,  8.18it/s]\n"
          ]
        },
        {
          "name": "stdout",
          "output_type": "stream",
          "text": [
            "epoch 3 : 1214.8448687167916\n"
          ]
        },
        {
          "name": "stderr",
          "output_type": "stream",
          "text": [
            "546it [01:05,  8.37it/s]\n"
          ]
        },
        {
          "name": "stdout",
          "output_type": "stream",
          "text": [
            "epoch 4 : 1095.2124243298329\n"
          ]
        },
        {
          "name": "stderr",
          "output_type": "stream",
          "text": [
            "546it [01:06,  8.23it/s]\n"
          ]
        },
        {
          "name": "stdout",
          "output_type": "stream",
          "text": [
            "epoch 5 : 1088.4283948525936\n"
          ]
        },
        {
          "name": "stderr",
          "output_type": "stream",
          "text": [
            "546it [01:11,  7.63it/s]\n"
          ]
        },
        {
          "name": "stdout",
          "output_type": "stream",
          "text": [
            "epoch 6 : 1024.7347238122816\n"
          ]
        },
        {
          "name": "stderr",
          "output_type": "stream",
          "text": [
            "546it [01:05,  8.27it/s]\n"
          ]
        },
        {
          "name": "stdout",
          "output_type": "stream",
          "text": [
            "epoch 7 : 902.5408464496448\n"
          ]
        },
        {
          "name": "stderr",
          "output_type": "stream",
          "text": [
            "546it [01:10,  7.74it/s]\n"
          ]
        },
        {
          "name": "stdout",
          "output_type": "stream",
          "text": [
            "epoch 8 : 883.0412290522421\n"
          ]
        },
        {
          "name": "stderr",
          "output_type": "stream",
          "text": [
            "546it [01:11,  7.60it/s]\n"
          ]
        },
        {
          "name": "stdout",
          "output_type": "stream",
          "text": [
            "epoch 9 : 905.4069820302653\n"
          ]
        },
        {
          "name": "stderr",
          "output_type": "stream",
          "text": [
            "546it [01:10,  7.77it/s]\n"
          ]
        },
        {
          "name": "stdout",
          "output_type": "stream",
          "text": [
            "epoch 10 : 830.4087335882003\n"
          ]
        },
        {
          "name": "stderr",
          "output_type": "stream",
          "text": [
            "546it [01:10,  7.70it/s]\n"
          ]
        },
        {
          "name": "stdout",
          "output_type": "stream",
          "text": [
            "epoch 11 : 826.6726763451678\n"
          ]
        },
        {
          "name": "stderr",
          "output_type": "stream",
          "text": [
            "546it [01:12,  7.56it/s]\n"
          ]
        },
        {
          "name": "stdout",
          "output_type": "stream",
          "text": [
            "epoch 12 : 823.7295012504654\n"
          ]
        },
        {
          "name": "stderr",
          "output_type": "stream",
          "text": [
            "546it [01:10,  7.79it/s]\n"
          ]
        },
        {
          "name": "stdout",
          "output_type": "stream",
          "text": [
            "epoch 13 : 757.6474490213787\n"
          ]
        },
        {
          "name": "stderr",
          "output_type": "stream",
          "text": [
            "546it [01:15,  7.28it/s]\n"
          ]
        },
        {
          "name": "stdout",
          "output_type": "stream",
          "text": [
            "epoch 14 : 785.6849327192298\n"
          ]
        },
        {
          "name": "stderr",
          "output_type": "stream",
          "text": [
            "546it [01:18,  6.99it/s]\n"
          ]
        },
        {
          "name": "stdout",
          "output_type": "stream",
          "text": [
            "epoch 15 : 769.69487115596\n"
          ]
        },
        {
          "name": "stderr",
          "output_type": "stream",
          "text": [
            "546it [01:14,  7.33it/s]\n"
          ]
        },
        {
          "name": "stdout",
          "output_type": "stream",
          "text": [
            "epoch 16 : 752.4447977011844\n"
          ]
        },
        {
          "name": "stderr",
          "output_type": "stream",
          "text": [
            "546it [01:13,  7.43it/s]\n"
          ]
        },
        {
          "name": "stdout",
          "output_type": "stream",
          "text": [
            "epoch 17 : 740.6779258161592\n"
          ]
        },
        {
          "name": "stderr",
          "output_type": "stream",
          "text": [
            "546it [01:14,  7.36it/s]\n"
          ]
        },
        {
          "name": "stdout",
          "output_type": "stream",
          "text": [
            "epoch 18 : 738.3015512104541\n"
          ]
        },
        {
          "name": "stderr",
          "output_type": "stream",
          "text": [
            "546it [01:09,  7.84it/s]\n"
          ]
        },
        {
          "name": "stdout",
          "output_type": "stream",
          "text": [
            "epoch 19 : 684.36737524884\n"
          ]
        },
        {
          "name": "stderr",
          "output_type": "stream",
          "text": [
            "546it [01:12,  7.58it/s]"
          ]
        },
        {
          "name": "stdout",
          "output_type": "stream",
          "text": [
            "epoch 20 : 717.1233577570929\n"
          ]
        },
        {
          "name": "stderr",
          "output_type": "stream",
          "text": [
            "\n"
          ]
        }
      ],
      "source": [
        "trainer = SkipGramTrainer(EPOCHES, DEVICE)\n",
        "training_loss = trainer.run(train_dataloader, model, optimizer, criterion, word_probs)"
      ]
    },
    {
      "cell_type": "code",
      "execution_count": 42,
      "metadata": {},
      "outputs": [
        {
          "data": {
            "text/plain": [
              "[<matplotlib.lines.Line2D at 0x220caa2f4d0>]"
            ]
          },
          "execution_count": 42,
          "metadata": {},
          "output_type": "execute_result"
        },
        {
          "data": {
            "image/png": "[encoded data removed]",
            "text/plain": [
              "<Figure size 640x480 with 1 Axes>"
            ]
          },
          "metadata": {},
          "output_type": "display_data"
        }
      ],
      "source": [
        "plt.plot(training_loss)"
      ]
    },
    {
      "cell_type": "code",
      "execution_count": 43,
      "metadata": {},
      "outputs": [],
      "source": [
        "model_path = artifact_path / \"sg-ns.2.random-context.pth\""
      ]
    },
    {
      "cell_type": "code",
      "execution_count": 44,
      "metadata": {
        "id": "H8vmnjSLQWxj"
      },
      "outputs": [],
      "source": [
        "torch.save(model, model_path.as_posix())"
      ]
    },
    {
      "cell_type": "code",
      "execution_count": 368,
      "metadata": {
        "id": "kNAdrwRgQWzx"
      },
      "outputs": [],
      "source": [
        "model = torch.load(model_path.as_posix())"
      ]
    },
    {
      "cell_type": "markdown",
      "metadata": {
        "id": "T17Jiwv3trmZ"
      },
      "source": [
        "### CBOW\n"
      ]
    },
    {
      "cell_type": "markdown",
      "metadata": {},
      "source": [
        "batch size 32, context size 5\n",
        "\n",
        "each epoch needs 30s, 5.5GB with 4 workers on linux\n",
        "\n",
        "each epoch needs 12min, 1.5GB with none workers on windows"
      ]
    },
    {
      "cell_type": "code",
      "execution_count": 39,
      "metadata": {
        "id": "uToiCxSVtt1g"
      },
      "outputs": [],
      "source": [
        "model = Word2Vec(\n",
        "    vocab_size,\n",
        "    EMBED_DIM,\n",
        "    CONTEXT_SIZE,\n",
        "    ModelType.CBOW,\n",
        "    LossType.NS,\n",
        "    context=CONTEXT,\n",
        ").to(DEVICE)"
      ]
    },
    {
      "cell_type": "code",
      "execution_count": 40,
      "metadata": {
        "id": "JYWSQBOAtt4N"
      },
      "outputs": [],
      "source": [
        "criterion = NegativeSampling(\n",
        "    word_freqs,\n",
        "    EMBED_DIM,\n",
        "    vocab_size,\n",
        "    context=CONTEXT,\n",
        ").to(DEVICE)\n",
        "optimizer = optim.SGD([*model.parameters(), *criterion.parameters()], lr=1e-4)"
      ]
    },
    {
      "cell_type": "code",
      "execution_count": 42,
      "metadata": {},
      "outputs": [
        {
          "name": "stderr",
          "output_type": "stream",
          "text": [
            "547it [00:31, 17.59it/s]\n"
          ]
        },
        {
          "name": "stdout",
          "output_type": "stream",
          "text": [
            "epoch 1 : 421.13764485080344\n"
          ]
        },
        {
          "name": "stderr",
          "output_type": "stream",
          "text": [
            "547it [00:28, 18.94it/s]\n"
          ]
        },
        {
          "name": "stdout",
          "output_type": "stream",
          "text": [
            "epoch 2 : 342.3750703498707\n"
          ]
        },
        {
          "name": "stderr",
          "output_type": "stream",
          "text": [
            "547it [00:28, 19.26it/s]\n"
          ]
        },
        {
          "name": "stdout",
          "output_type": "stream",
          "text": [
            "epoch 3 : 314.81653808258085\n"
          ]
        },
        {
          "name": "stderr",
          "output_type": "stream",
          "text": [
            "547it [00:29, 18.79it/s]\n"
          ]
        },
        {
          "name": "stdout",
          "output_type": "stream",
          "text": [
            "epoch 4 : 299.2037936174793\n"
          ]
        },
        {
          "name": "stderr",
          "output_type": "stream",
          "text": [
            "547it [00:28, 19.32it/s]\n"
          ]
        },
        {
          "name": "stdout",
          "output_type": "stream",
          "text": [
            "epoch 5 : 289.14561033030367\n"
          ]
        },
        {
          "name": "stderr",
          "output_type": "stream",
          "text": [
            "547it [00:28, 19.33it/s]\n"
          ]
        },
        {
          "name": "stdout",
          "output_type": "stream",
          "text": [
            "epoch 6 : 281.80886286972424\n"
          ]
        },
        {
          "name": "stderr",
          "output_type": "stream",
          "text": [
            "547it [00:28, 19.35it/s]\n"
          ]
        },
        {
          "name": "stdout",
          "output_type": "stream",
          "text": [
            "epoch 7 : 275.9343293327241\n"
          ]
        },
        {
          "name": "stderr",
          "output_type": "stream",
          "text": [
            "547it [00:28, 19.18it/s]\n"
          ]
        },
        {
          "name": "stdout",
          "output_type": "stream",
          "text": [
            "epoch 8 : 271.7440600932792\n"
          ]
        },
        {
          "name": "stderr",
          "output_type": "stream",
          "text": [
            "547it [00:30, 18.10it/s]\n"
          ]
        },
        {
          "name": "stdout",
          "output_type": "stream",
          "text": [
            "epoch 9 : 266.34392121731963\n"
          ]
        },
        {
          "name": "stderr",
          "output_type": "stream",
          "text": [
            "547it [00:29, 18.60it/s]\n"
          ]
        },
        {
          "name": "stdout",
          "output_type": "stream",
          "text": [
            "epoch 10 : 262.71269658243403\n"
          ]
        },
        {
          "name": "stderr",
          "output_type": "stream",
          "text": [
            "547it [00:29, 18.35it/s]\n"
          ]
        },
        {
          "name": "stdout",
          "output_type": "stream",
          "text": [
            "epoch 11 : 259.51177265226676\n"
          ]
        },
        {
          "name": "stderr",
          "output_type": "stream",
          "text": [
            "547it [00:26, 20.58it/s]\n"
          ]
        },
        {
          "name": "stdout",
          "output_type": "stream",
          "text": [
            "epoch 12 : 257.38871531569555\n"
          ]
        },
        {
          "name": "stderr",
          "output_type": "stream",
          "text": [
            "547it [00:26, 20.29it/s]\n"
          ]
        },
        {
          "name": "stdout",
          "output_type": "stream",
          "text": [
            "epoch 13 : 254.5563600926526\n"
          ]
        },
        {
          "name": "stderr",
          "output_type": "stream",
          "text": [
            "547it [00:26, 20.30it/s]\n"
          ]
        },
        {
          "name": "stdout",
          "output_type": "stream",
          "text": [
            "epoch 14 : 252.29866955107664\n"
          ]
        },
        {
          "name": "stderr",
          "output_type": "stream",
          "text": [
            "547it [00:27, 20.02it/s]\n"
          ]
        },
        {
          "name": "stdout",
          "output_type": "stream",
          "text": [
            "epoch 15 : 248.99950808237497\n"
          ]
        },
        {
          "name": "stderr",
          "output_type": "stream",
          "text": [
            "547it [00:26, 20.33it/s]\n"
          ]
        },
        {
          "name": "stdout",
          "output_type": "stream",
          "text": [
            "epoch 16 : 248.3588456836564\n"
          ]
        },
        {
          "name": "stderr",
          "output_type": "stream",
          "text": [
            "547it [00:26, 20.58it/s]\n"
          ]
        },
        {
          "name": "stdout",
          "output_type": "stream",
          "text": [
            "epoch 17 : 245.92208151812952\n"
          ]
        },
        {
          "name": "stderr",
          "output_type": "stream",
          "text": [
            "547it [00:26, 20.48it/s]\n"
          ]
        },
        {
          "name": "stdout",
          "output_type": "stream",
          "text": [
            "epoch 18 : 245.35420331946216\n"
          ]
        },
        {
          "name": "stderr",
          "output_type": "stream",
          "text": [
            "547it [00:26, 20.42it/s]\n"
          ]
        },
        {
          "name": "stdout",
          "output_type": "stream",
          "text": [
            "epoch 19 : 242.14197113009138\n"
          ]
        },
        {
          "name": "stderr",
          "output_type": "stream",
          "text": [
            "547it [00:26, 20.51it/s]"
          ]
        },
        {
          "name": "stdout",
          "output_type": "stream",
          "text": [
            "epoch 20 : 240.88479421250216\n"
          ]
        },
        {
          "name": "stderr",
          "output_type": "stream",
          "text": [
            "\n"
          ]
        },
        {
          "data": {
            "text/plain": [
              "[421.13764485080344,\n",
              " 342.3750703498707,\n",
              " 314.81653808258085,\n",
              " 299.2037936174793,\n",
              " 289.14561033030367,\n",
              " 281.80886286972424,\n",
              " 275.9343293327241,\n",
              " 271.7440600932792,\n",
              " 266.34392121731963,\n",
              " 262.71269658243403,\n",
              " 259.51177265226676,\n",
              " 257.38871531569555,\n",
              " 254.5563600926526,\n",
              " 252.29866955107664,\n",
              " 248.99950808237497,\n",
              " 248.3588456836564,\n",
              " 245.92208151812952,\n",
              " 245.35420331946216,\n",
              " 242.14197113009138,\n",
              " 240.88479421250216]"
            ]
          },
          "execution_count": 42,
          "metadata": {},
          "output_type": "execute_result"
        }
      ],
      "source": [
        "trainer = CbowTrainer(EPOCHES, DEVICE)\n",
        "training_loss = trainer.run(train_dataloader, model, optimizer, criterion, word_probs)"
      ]
    },
    {
      "cell_type": "code",
      "execution_count": 44,
      "metadata": {},
      "outputs": [
        {
          "data": {
            "text/plain": [
              "[<matplotlib.lines.Line2D at 0x7f49ced04cd0>]"
            ]
          },
          "execution_count": 44,
          "metadata": {},
          "output_type": "execute_result"
        },
        {
          "data": {
            "image/png": "[encoded data removed]",
            "text/plain": [
              "<Figure size 640x480 with 1 Axes>"
            ]
          },
          "metadata": {},
          "output_type": "display_data"
        }
      ],
      "source": [
        "plt.plot(training_loss)"
      ]
    },
    {
      "cell_type": "code",
      "execution_count": 45,
      "metadata": {},
      "outputs": [],
      "source": [
        "model_path = artifact_path / \"cb-ns.2.pth\""
      ]
    },
    {
      "cell_type": "code",
      "execution_count": 46,
      "metadata": {
        "id": "NHPvMLnq8koj"
      },
      "outputs": [],
      "source": [
        "torch.save(model, model_path.as_posix())"
      ]
    },
    {
      "cell_type": "code",
      "execution_count": 379,
      "metadata": {
        "id": "JmBIksc58uGj"
      },
      "outputs": [],
      "source": [
        "model = torch.load(model_path.as_posix())"
      ]
    },
    {
      "cell_type": "markdown",
      "metadata": {
        "id": "c1LtPLsWRRz3"
      },
      "source": [
        "## HS\n"
      ]
    },
    {
      "cell_type": "markdown",
      "metadata": {
        "id": "wx8hQALcPajl"
      },
      "source": [
        "### SkipGram\n"
      ]
    },
    {
      "cell_type": "markdown",
      "metadata": {},
      "source": [
        "batch size 32, context size 5\n",
        "\n",
        "each epoch needs 50s, 7.5GB with 4 workers on linux\n",
        "\n",
        "each epoch needs min, GB with none workers on windows"
      ]
    },
    {
      "cell_type": "code",
      "execution_count": 39,
      "metadata": {
        "id": "GKHsdNnEPbwU"
      },
      "outputs": [],
      "source": [
        "model = Word2Vec(\n",
        "    vocab_size,\n",
        "    EMBED_DIM,\n",
        "    ModelType.SKIP_GRAM,\n",
        "    LossType.HS,\n",
        "    context=CONTEXT,\n",
        ").to(DEVICE)"
      ]
    },
    {
      "cell_type": "code",
      "execution_count": 40,
      "metadata": {
        "id": "ygmqPYasPcil"
      },
      "outputs": [],
      "source": [
        "criterion = HierarchicalSoftmax(\n",
        "    word_counts,\n",
        "    EMBED_DIM,\n",
        "    vocab_size,\n",
        "    context=CONTEXT,\n",
        ").to(DEVICE)\n",
        "optimizer = optim.SGD([*model.parameters(), *criterion.parameters()], lr=1e-3)"
      ]
    },
    {
      "cell_type": "code",
      "execution_count": 41,
      "metadata": {},
      "outputs": [
        {
          "name": "stderr",
          "output_type": "stream",
          "text": [
            "546it [00:39, 13.89it/s]\n"
          ]
        },
        {
          "name": "stdout",
          "output_type": "stream",
          "text": [
            "epoch 1 : 0.1173579934455188\n"
          ]
        },
        {
          "name": "stderr",
          "output_type": "stream",
          "text": [
            "546it [00:39, 13.91it/s]\n"
          ]
        },
        {
          "name": "stdout",
          "output_type": "stream",
          "text": [
            "epoch 2 : 0.09393413118355652\n"
          ]
        },
        {
          "name": "stderr",
          "output_type": "stream",
          "text": [
            "546it [00:41, 13.31it/s]\n"
          ]
        },
        {
          "name": "stdout",
          "output_type": "stream",
          "text": [
            "epoch 3 : 0.08620688226330073\n"
          ]
        },
        {
          "name": "stderr",
          "output_type": "stream",
          "text": [
            "546it [00:44, 12.15it/s]\n"
          ]
        },
        {
          "name": "stdout",
          "output_type": "stream",
          "text": [
            "epoch 4 : 0.08339510082269785\n"
          ]
        },
        {
          "name": "stderr",
          "output_type": "stream",
          "text": [
            "546it [00:48, 11.24it/s]\n"
          ]
        },
        {
          "name": "stdout",
          "output_type": "stream",
          "text": [
            "epoch 5 : 0.08149199057319206\n"
          ]
        },
        {
          "name": "stderr",
          "output_type": "stream",
          "text": [
            "546it [00:46, 11.78it/s]\n"
          ]
        },
        {
          "name": "stdout",
          "output_type": "stream",
          "text": [
            "epoch 6 : 0.07983706359547502\n"
          ]
        },
        {
          "name": "stderr",
          "output_type": "stream",
          "text": [
            "546it [00:45, 11.99it/s]\n"
          ]
        },
        {
          "name": "stdout",
          "output_type": "stream",
          "text": [
            "epoch 7 : 0.07842107030446108\n"
          ]
        },
        {
          "name": "stderr",
          "output_type": "stream",
          "text": [
            "546it [00:44, 12.19it/s]\n"
          ]
        },
        {
          "name": "stdout",
          "output_type": "stream",
          "text": [
            "epoch 8 : 0.07719061535285439\n"
          ]
        },
        {
          "name": "stderr",
          "output_type": "stream",
          "text": [
            "546it [00:46, 11.67it/s]\n"
          ]
        },
        {
          "name": "stdout",
          "output_type": "stream",
          "text": [
            "epoch 9 : 0.07609419253553194\n"
          ]
        },
        {
          "name": "stderr",
          "output_type": "stream",
          "text": [
            "546it [00:47, 11.44it/s]\n"
          ]
        },
        {
          "name": "stdout",
          "output_type": "stream",
          "text": [
            "epoch 10 : 0.07515856055465998\n"
          ]
        },
        {
          "name": "stderr",
          "output_type": "stream",
          "text": [
            "546it [00:44, 12.15it/s]\n"
          ]
        },
        {
          "name": "stdout",
          "output_type": "stream",
          "text": [
            "epoch 11 : 0.07436773553832095\n"
          ]
        },
        {
          "name": "stderr",
          "output_type": "stream",
          "text": [
            "546it [00:44, 12.14it/s]\n"
          ]
        },
        {
          "name": "stdout",
          "output_type": "stream",
          "text": [
            "epoch 12 : 0.0736223155142625\n"
          ]
        },
        {
          "name": "stderr",
          "output_type": "stream",
          "text": [
            "546it [00:46, 11.75it/s]\n"
          ]
        },
        {
          "name": "stdout",
          "output_type": "stream",
          "text": [
            "epoch 13 : 0.07287868210665137\n"
          ]
        },
        {
          "name": "stderr",
          "output_type": "stream",
          "text": [
            "546it [00:45, 12.01it/s]\n"
          ]
        },
        {
          "name": "stdout",
          "output_type": "stream",
          "text": [
            "epoch 14 : 0.07221920698826516\n"
          ]
        },
        {
          "name": "stderr",
          "output_type": "stream",
          "text": [
            "546it [00:45, 11.91it/s]\n"
          ]
        },
        {
          "name": "stdout",
          "output_type": "stream",
          "text": [
            "epoch 15 : 0.07156809504757662\n"
          ]
        },
        {
          "name": "stderr",
          "output_type": "stream",
          "text": [
            "546it [00:49, 11.12it/s]\n"
          ]
        },
        {
          "name": "stdout",
          "output_type": "stream",
          "text": [
            "epoch 16 : 0.0708941439837627\n"
          ]
        },
        {
          "name": "stderr",
          "output_type": "stream",
          "text": [
            "546it [00:48, 11.17it/s]\n"
          ]
        },
        {
          "name": "stdout",
          "output_type": "stream",
          "text": [
            "epoch 17 : 0.07036363330049104\n"
          ]
        },
        {
          "name": "stderr",
          "output_type": "stream",
          "text": [
            "546it [00:45, 11.88it/s]\n"
          ]
        },
        {
          "name": "stdout",
          "output_type": "stream",
          "text": [
            "epoch 18 : 0.0697729457869757\n"
          ]
        },
        {
          "name": "stderr",
          "output_type": "stream",
          "text": [
            "546it [00:45, 12.07it/s]\n"
          ]
        },
        {
          "name": "stdout",
          "output_type": "stream",
          "text": [
            "epoch 19 : 0.06923326075514122\n"
          ]
        },
        {
          "name": "stderr",
          "output_type": "stream",
          "text": [
            "546it [00:46, 11.72it/s]"
          ]
        },
        {
          "name": "stdout",
          "output_type": "stream",
          "text": [
            "epoch 20 : 0.06876227408510954\n"
          ]
        },
        {
          "name": "stderr",
          "output_type": "stream",
          "text": [
            "\n"
          ]
        }
      ],
      "source": [
        "trainer = SkipGramTrainer(EPOCHES, DEVICE)\n",
        "training_loss = trainer.run(train_dataloader, model, optimizer, criterion, word_probs)"
      ]
    },
    {
      "cell_type": "code",
      "execution_count": 42,
      "metadata": {},
      "outputs": [
        {
          "data": {
            "text/plain": [
              "[<matplotlib.lines.Line2D at 0x2b9853ed110>]"
            ]
          },
          "execution_count": 42,
          "metadata": {},
          "output_type": "execute_result"
        },
        {
          "data": {
            "image/png": "[encoded data removed]",
            "text/plain": [
              "<Figure size 640x480 with 1 Axes>"
            ]
          },
          "metadata": {},
          "output_type": "display_data"
        }
      ],
      "source": [
        "plt.plot(training_loss)"
      ]
    },
    {
      "cell_type": "code",
      "execution_count": 43,
      "metadata": {},
      "outputs": [],
      "source": [
        "model_path = artifact_path / \"sg-hs.2.random-context.pth\""
      ]
    },
    {
      "cell_type": "code",
      "execution_count": 44,
      "metadata": {},
      "outputs": [],
      "source": [
        "torch.save(model, model_path.as_posix())"
      ]
    },
    {
      "cell_type": "code",
      "execution_count": null,
      "metadata": {},
      "outputs": [],
      "source": [
        "model = torch.load(model_path.as_posix())"
      ]
    },
    {
      "cell_type": "markdown",
      "metadata": {
        "id": "889SiePetuPH"
      },
      "source": [
        "### CBOW\n"
      ]
    },
    {
      "cell_type": "markdown",
      "metadata": {},
      "source": [
        "batch size 32, context size 5\n",
        "\n",
        "each epoch needs 15s, 3.3GB with 4 workers on linux\n",
        "\n",
        "each epoch needs min, GB with none workers on windows"
      ]
    },
    {
      "cell_type": "code",
      "execution_count": 55,
      "metadata": {
        "id": "bKvN6LHUCGgd"
      },
      "outputs": [],
      "source": [
        "model = Word2Vec(\n",
        "    vocab_size,\n",
        "    EMBED_DIM,\n",
        "    CONTEXT_SIZE,\n",
        "    ModelType.CBOW,\n",
        "    LossType.HS,\n",
        "    context=CONTEXT,\n",
        ").to(DEVICE)"
      ]
    },
    {
      "cell_type": "code",
      "execution_count": 56,
      "metadata": {
        "id": "rsTfF4GECGge"
      },
      "outputs": [],
      "source": [
        "criterion = HierarchicalSoftmax(\n",
        "    word_counts,\n",
        "    EMBED_DIM,\n",
        "    vocab_size,\n",
        "    context=CONTEXT,\n",
        ").to(DEVICE)\n",
        "optimizer = optim.SGD([*model.parameters(), *criterion.parameters()], lr=1e-3)"
      ]
    },
    {
      "cell_type": "code",
      "execution_count": 57,
      "metadata": {},
      "outputs": [
        {
          "name": "stderr",
          "output_type": "stream",
          "text": [
            "547it [00:17, 30.52it/s]\n"
          ]
        },
        {
          "name": "stdout",
          "output_type": "stream",
          "text": [
            "epoch 1 : 0.17942986124486252\n"
          ]
        },
        {
          "name": "stderr",
          "output_type": "stream",
          "text": [
            "547it [00:14, 37.03it/s]\n"
          ]
        },
        {
          "name": "stdout",
          "output_type": "stream",
          "text": [
            "epoch 2 : 0.1666779303692766\n"
          ]
        },
        {
          "name": "stderr",
          "output_type": "stream",
          "text": [
            "547it [00:14, 38.42it/s]\n"
          ]
        },
        {
          "name": "stdout",
          "output_type": "stream",
          "text": [
            "epoch 3 : 0.15994363399026157\n"
          ]
        },
        {
          "name": "stderr",
          "output_type": "stream",
          "text": [
            "547it [00:14, 37.94it/s]\n"
          ]
        },
        {
          "name": "stdout",
          "output_type": "stream",
          "text": [
            "epoch 4 : 0.15522356833972373\n"
          ]
        },
        {
          "name": "stderr",
          "output_type": "stream",
          "text": [
            "547it [00:14, 38.45it/s]\n"
          ]
        },
        {
          "name": "stdout",
          "output_type": "stream",
          "text": [
            "epoch 5 : 0.1516314132649564\n"
          ]
        },
        {
          "name": "stderr",
          "output_type": "stream",
          "text": [
            "547it [00:14, 38.52it/s]\n"
          ]
        },
        {
          "name": "stdout",
          "output_type": "stream",
          "text": [
            "epoch 6 : 0.1485341561567226\n"
          ]
        },
        {
          "name": "stderr",
          "output_type": "stream",
          "text": [
            "547it [00:14, 38.69it/s]\n"
          ]
        },
        {
          "name": "stdout",
          "output_type": "stream",
          "text": [
            "epoch 7 : 0.1460283011416576\n"
          ]
        },
        {
          "name": "stderr",
          "output_type": "stream",
          "text": [
            "547it [00:15, 35.47it/s]\n"
          ]
        },
        {
          "name": "stdout",
          "output_type": "stream",
          "text": [
            "epoch 8 : 0.14376579286525493\n"
          ]
        },
        {
          "name": "stderr",
          "output_type": "stream",
          "text": [
            "547it [00:18, 29.95it/s]\n"
          ]
        },
        {
          "name": "stdout",
          "output_type": "stream",
          "text": [
            "epoch 9 : 0.14183737579340458\n"
          ]
        },
        {
          "name": "stderr",
          "output_type": "stream",
          "text": [
            "547it [00:16, 33.68it/s]\n"
          ]
        },
        {
          "name": "stdout",
          "output_type": "stream",
          "text": [
            "epoch 10 : 0.14019999233109487\n"
          ]
        },
        {
          "name": "stderr",
          "output_type": "stream",
          "text": [
            "547it [00:15, 35.90it/s]\n"
          ]
        },
        {
          "name": "stdout",
          "output_type": "stream",
          "text": [
            "epoch 11 : 0.13858588192847537\n"
          ]
        },
        {
          "name": "stderr",
          "output_type": "stream",
          "text": [
            "547it [00:14, 36.78it/s]\n"
          ]
        },
        {
          "name": "stdout",
          "output_type": "stream",
          "text": [
            "epoch 12 : 0.13716941925771295\n"
          ]
        },
        {
          "name": "stderr",
          "output_type": "stream",
          "text": [
            "547it [00:14, 37.29it/s]\n"
          ]
        },
        {
          "name": "stdout",
          "output_type": "stream",
          "text": [
            "epoch 13 : 0.13584011077443794\n"
          ]
        },
        {
          "name": "stderr",
          "output_type": "stream",
          "text": [
            "547it [00:14, 36.97it/s]\n"
          ]
        },
        {
          "name": "stdout",
          "output_type": "stream",
          "text": [
            "epoch 14 : 0.1346365648136567\n"
          ]
        },
        {
          "name": "stderr",
          "output_type": "stream",
          "text": [
            "547it [00:14, 36.93it/s]\n"
          ]
        },
        {
          "name": "stdout",
          "output_type": "stream",
          "text": [
            "epoch 15 : 0.1333807571889281\n"
          ]
        },
        {
          "name": "stderr",
          "output_type": "stream",
          "text": [
            "547it [00:14, 37.86it/s]\n"
          ]
        },
        {
          "name": "stdout",
          "output_type": "stream",
          "text": [
            "epoch 16 : 0.1323354737431931\n"
          ]
        },
        {
          "name": "stderr",
          "output_type": "stream",
          "text": [
            "547it [00:14, 39.01it/s]\n"
          ]
        },
        {
          "name": "stdout",
          "output_type": "stream",
          "text": [
            "epoch 17 : 0.13139466482439138\n"
          ]
        },
        {
          "name": "stderr",
          "output_type": "stream",
          "text": [
            "547it [00:14, 38.78it/s]\n"
          ]
        },
        {
          "name": "stdout",
          "output_type": "stream",
          "text": [
            "epoch 18 : 0.13044138926087334\n"
          ]
        },
        {
          "name": "stderr",
          "output_type": "stream",
          "text": [
            "547it [00:14, 38.93it/s]\n"
          ]
        },
        {
          "name": "stdout",
          "output_type": "stream",
          "text": [
            "epoch 19 : 0.1294636450892299\n"
          ]
        },
        {
          "name": "stderr",
          "output_type": "stream",
          "text": [
            "547it [00:14, 38.48it/s]"
          ]
        },
        {
          "name": "stdout",
          "output_type": "stream",
          "text": [
            "epoch 20 : 0.12860948452427232\n"
          ]
        },
        {
          "name": "stderr",
          "output_type": "stream",
          "text": [
            "\n"
          ]
        },
        {
          "data": {
            "text/plain": [
              "[0.17942986124486252,\n",
              " 0.1666779303692766,\n",
              " 0.15994363399026157,\n",
              " 0.15522356833972373,\n",
              " 0.1516314132649564,\n",
              " 0.1485341561567226,\n",
              " 0.1460283011416576,\n",
              " 0.14376579286525493,\n",
              " 0.14183737579340458,\n",
              " 0.14019999233109487,\n",
              " 0.13858588192847537,\n",
              " 0.13716941925771295,\n",
              " 0.13584011077443794,\n",
              " 0.1346365648136567,\n",
              " 0.1333807571889281,\n",
              " 0.1323354737431931,\n",
              " 0.13139466482439138,\n",
              " 0.13044138926087334,\n",
              " 0.1294636450892299,\n",
              " 0.12860948452427232]"
            ]
          },
          "execution_count": 57,
          "metadata": {},
          "output_type": "execute_result"
        }
      ],
      "source": [
        "trainer = CbowTrainer(EPOCHES, DEVICE)\n",
        "training_loss = trainer.run(train_dataloader, model, optimizer, criterion, word_probs)"
      ]
    },
    {
      "cell_type": "code",
      "execution_count": 58,
      "metadata": {},
      "outputs": [
        {
          "data": {
            "text/plain": [
              "[<matplotlib.lines.Line2D at 0x7fd1c17f7790>]"
            ]
          },
          "execution_count": 58,
          "metadata": {},
          "output_type": "execute_result"
        },
        {
          "data": {
            "image/png": "[encoded data removed]",
            "text/plain": [
              "<Figure size 640x480 with 1 Axes>"
            ]
          },
          "metadata": {},
          "output_type": "display_data"
        }
      ],
      "source": [
        "plt.plot(training_loss)"
      ]
    },
    {
      "cell_type": "code",
      "execution_count": 59,
      "metadata": {},
      "outputs": [],
      "source": [
        "model_path = artifact_path / \"cb-hs.2.pth\""
      ]
    },
    {
      "cell_type": "code",
      "execution_count": 60,
      "metadata": {},
      "outputs": [],
      "source": [
        "torch.save(model, model_path.as_posix())"
      ]
    },
    {
      "cell_type": "code",
      "execution_count": null,
      "metadata": {},
      "outputs": [],
      "source": [
        "model = torch.load(model_path.as_posix())"
      ]
    },
    {
      "cell_type": "markdown",
      "metadata": {
        "id": "L7OmkYxH1jIT"
      },
      "source": [
        "# Evaluation\n"
      ]
    },
    {
      "cell_type": "markdown",
      "metadata": {
        "id": "NKBBG3gE0mmJ"
      },
      "source": [
        "## show embedding\n"
      ]
    },
    {
      "cell_type": "code",
      "execution_count": 45,
      "metadata": {},
      "outputs": [],
      "source": [
        "from torchtext.vocab import Vocab"
      ]
    },
    {
      "cell_type": "code",
      "execution_count": 46,
      "metadata": {
        "id": "zA3Gl4kX0mmL"
      },
      "outputs": [],
      "source": [
        "def sentence_to_vector(sentence: str, embedding: nn.Embedding, vocab: Vocab, device: torch.device) -> torch.Tensor:\n",
        "    with torch.no_grad():\n",
        "      tokens = tokenizer(sentence)\n",
        "      indices = torch.LongTensor(vocab(tokens)).to(device)\n",
        "      return embedding(indices)"
      ]
    },
    {
      "cell_type": "code",
      "execution_count": 47,
      "metadata": {
        "id": "u2hvO7it0mmJ"
      },
      "outputs": [],
      "source": [
        "sample_word_pairs = [\n",
        "    [\"paris\", \"france\"],\n",
        "    [\"beijing\", \"china\"],\n",
        "    [\"moscow\", \"russia\"],\n",
        "    [\"tokyo\", \"japan\"],\n",
        "    [\"athens\", \"greece\"],\n",
        "    [\"rome\", \"italy\"],\n",
        "    [\"berlin\", \"germany\"],\n",
        "    [\"madrid\", \"spain\"],\n",
        "    [\"lisbon\", \"portugal\"],\n",
        "]"
      ]
    },
    {
      "cell_type": "code",
      "execution_count": 48,
      "metadata": {
        "id": "Rlg9lLio0mmK"
      },
      "outputs": [],
      "source": [
        "vectors = []\n",
        "for pair in sample_word_pairs:\n",
        "    vectors.append(torch.cat([sentence_to_vector(item, model.embeddings, vocab, DEVICE) for item in pair]))\n",
        "\n",
        "vectors = torch.cat(vectors)"
      ]
    },
    {
      "cell_type": "code",
      "execution_count": 49,
      "metadata": {
        "id": "aT4IUgHd0mmK"
      },
      "outputs": [],
      "source": [
        "from sklearn.decomposition import PCA\n",
        "from sklearn.manifold import TSNE"
      ]
    },
    {
      "cell_type": "code",
      "execution_count": 50,
      "metadata": {
        "colab": {
          "base_uri": "https://localhost:8080/",
          "height": 75
        },
        "id": "UNl1Qq7e0mmK",
        "outputId": "9b3227a6-0109-46b8-fd66-d2f617dbfdd0"
      },
      "outputs": [
        {
          "data": {
            "text/html": [
              "<style>#sk-container-id-1 {color: black;}#sk-container-id-1 pre{padding: 0;}#sk-container-id-1 div.sk-toggleable {background-color: white;}#sk-container-id-1 label.sk-toggleable__label {cursor: pointer;display: block;width: 100%;margin-bottom: 0;padding: 0.3em;box-sizing: border-box;text-align: center;}#sk-container-id-1 label.sk-toggleable__label-arrow:before {content: \"▸\";float: left;margin-right: 0.25em;color: #696969;}#sk-container-id-1 label.sk-toggleable__label-arrow:hover:before {color: black;}#sk-container-id-1 div.sk-estimator:hover label.sk-toggleable__label-arrow:before {color: black;}#sk-container-id-1 div.sk-toggleable__content {max-height: 0;max-width: 0;overflow: hidden;text-align: left;background-color: #f0f8ff;}#sk-container-id-1 div.sk-toggleable__content pre {margin: 0.2em;color: black;border-radius: 0.25em;background-color: #f0f8ff;}#sk-container-id-1 input.sk-toggleable__control:checked~div.sk-toggleable__content {max-height: 200px;max-width: 100%;overflow: auto;}#sk-container-id-1 input.sk-toggleable__control:checked~label.sk-toggleable__label-arrow:before {content: \"▾\";}#sk-container-id-1 div.sk-estimator input.sk-toggleable__control:checked~label.sk-toggleable__label {background-color: #d4ebff;}#sk-container-id-1 div.sk-label input.sk-toggleable__control:checked~label.sk-toggleable__label {background-color: #d4ebff;}#sk-container-id-1 input.sk-hidden--visually {border: 0;clip: rect(1px 1px 1px 1px);clip: rect(1px, 1px, 1px, 1px);height: 1px;margin: -1px;overflow: hidden;padding: 0;position: absolute;width: 1px;}#sk-container-id-1 div.sk-estimator {font-family: monospace;background-color: #f0f8ff;border: 1px dotted black;border-radius: 0.25em;box-sizing: border-box;margin-bottom: 0.5em;}#sk-container-id-1 div.sk-estimator:hover {background-color: #d4ebff;}#sk-container-id-1 div.sk-parallel-item::after {content: \"\";width: 100%;border-bottom: 1px solid gray;flex-grow: 1;}#sk-container-id-1 div.sk-label:hover label.sk-toggleable__label {background-color: #d4ebff;}#sk-container-id-1 div.sk-serial::before {content: \"\";position: absolute;border-left: 1px solid gray;box-sizing: border-box;top: 0;bottom: 0;left: 50%;z-index: 0;}#sk-container-id-1 div.sk-serial {display: flex;flex-direction: column;align-items: center;background-color: white;padding-right: 0.2em;padding-left: 0.2em;position: relative;}#sk-container-id-1 div.sk-item {position: relative;z-index: 1;}#sk-container-id-1 div.sk-parallel {display: flex;align-items: stretch;justify-content: center;background-color: white;position: relative;}#sk-container-id-1 div.sk-item::before, #sk-container-id-1 div.sk-parallel-item::before {content: \"\";position: absolute;border-left: 1px solid gray;box-sizing: border-box;top: 0;bottom: 0;left: 50%;z-index: -1;}#sk-container-id-1 div.sk-parallel-item {display: flex;flex-direction: column;z-index: 1;position: relative;background-color: white;}#sk-container-id-1 div.sk-parallel-item:first-child::after {align-self: flex-end;width: 50%;}#sk-container-id-1 div.sk-parallel-item:last-child::after {align-self: flex-start;width: 50%;}#sk-container-id-1 div.sk-parallel-item:only-child::after {width: 0;}#sk-container-id-1 div.sk-dashed-wrapped {border: 1px dashed gray;margin: 0 0.4em 0.5em 0.4em;box-sizing: border-box;padding-bottom: 0.4em;background-color: white;}#sk-container-id-1 div.sk-label label {font-family: monospace;font-weight: bold;display: inline-block;line-height: 1.2em;}#sk-container-id-1 div.sk-label-container {text-align: center;}#sk-container-id-1 div.sk-container {/* jupyter's `normalize.less` sets `[hidden] { display: none; }` but bootstrap.min.css set `[hidden] { display: none !important; }` so we also need the `!important` here to be able to override the default hidden behavior on the sphinx rendered scikit-learn.org. See: https://github.com/scikit-learn/scikit-learn/issues/21755 */display: inline-block !important;position: relative;}#sk-container-id-1 div.sk-text-repr-fallback {display: none;}</style><div id=\"sk-container-id-1\" class=\"sk-top-container\"><div class=\"sk-text-repr-fallback\"><pre>PCA(n_components=2)</pre><b>In a Jupyter environment, please rerun this cell to show the HTML representation or trust the notebook. <br />On GitHub, the HTML representation is unable to render, please try loading this page with nbviewer.org.</b></div><div class=\"sk-container\" hidden><div class=\"sk-item\"><div class=\"sk-estimator sk-toggleable\"><input class=\"sk-toggleable__control sk-hidden--visually\" id=\"sk-estimator-id-1\" type=\"checkbox\" checked><label for=\"sk-estimator-id-1\" class=\"sk-toggleable__label sk-toggleable__label-arrow\">PCA</label><div class=\"sk-toggleable__content\"><pre>PCA(n_components=2)</pre></div></div></div></div></div>"
            ],
            "text/plain": [
              "PCA(n_components=2)"
            ]
          },
          "execution_count": 50,
          "metadata": {},
          "output_type": "execute_result"
        }
      ],
      "source": [
        "projector = PCA(2)\n",
        "projector.fit(model.embeddings.weight.clone().detach().cpu())"
      ]
    },
    {
      "cell_type": "code",
      "execution_count": null,
      "metadata": {
        "id": "GFtCCvFvn_Ct"
      },
      "outputs": [],
      "source": [
        "projector = TSNE(perplexity=2)\n",
        "projector.fit(model.embeddings.weight.clone().detach().cpu())"
      ]
    },
    {
      "cell_type": "code",
      "execution_count": 385,
      "metadata": {
        "colab": {
          "base_uri": "https://localhost:8080/",
          "height": 676
        },
        "id": "jvrd5M8U0mmK",
        "outputId": "f6c3875a-e8f2-446a-a435-af04c8c617f1"
      },
      "outputs": [
        {
          "data": {
            "image/png": "[encoded data removed]",
            "text/plain": [
              "<Figure size 800x800 with 1 Axes>"
            ]
          },
          "metadata": {},
          "output_type": "display_data"
        }
      ],
      "source": [
        "projected = projector.transform(vectors.detach().cpu())\n",
        "\n",
        "plt.figure(figsize=(8,8))\n",
        "for i in range(0, len(projected), 2):\n",
        "    pair = sample_word_pairs[i // 2]\n",
        "\n",
        "    plt.plot(projected[i:i+2, 0], projected[i:i+2, 1], '--')\n",
        "\n",
        "    for j in range(2):\n",
        "        x, y = projected[i+j, 0], projected[i+j, 1]\n",
        "        plt.scatter(x, y)\n",
        "        plt.text(x, y, pair[j])"
      ]
    },
    {
      "cell_type": "code",
      "execution_count": null,
      "metadata": {
        "colab": {
          "base_uri": "https://localhost:8080/",
          "height": 430
        },
        "id": "41P3miXNG4p6",
        "outputId": "41d904b8-fa91-4fed-b9aa-a8c99455b976"
      },
      "outputs": [
        {
          "data": {
            "image/png": "[encoded data removed]",
            "text/plain": [
              "<Figure size 640x480 with 1 Axes>"
            ]
          },
          "metadata": {},
          "output_type": "display_data"
        }
      ],
      "source": [
        "demo = 'mother father desk'\n",
        "projected = projector.transform(vectors.detach().cpu())\n",
        "for j in range(3):\n",
        "  x, y = projected[j, 0], projected[j, 1]\n",
        "  plt.scatter(x, y)\n",
        "  plt.text(x, y, tokenizer(demo)[j])\n",
        "  plt.plot(torch.Tensor([0, x]), torch.Tensor([0, y]), '--')"
      ]
    },
    {
      "cell_type": "markdown",
      "metadata": {
        "id": "_HbLdV310mmL"
      },
      "source": [
        "## Simple QA / relationship inference\n",
        "\n",
        "prove linear composability\n"
      ]
    },
    {
      "cell_type": "code",
      "execution_count": 387,
      "metadata": {
        "id": "ajHr6-gC0mmM"
      },
      "outputs": [],
      "source": [
        "question = sentence_to_vector('berlin') - sentence_to_vector('germany')"
      ]
    },
    {
      "cell_type": "code",
      "execution_count": 388,
      "metadata": {
        "colab": {
          "base_uri": "https://localhost:8080/"
        },
        "id": "341Cg28S0mmN",
        "outputId": "a2fbb3d2-a8d2-4257-f71b-1286ac8a96fc"
      },
      "outputs": [
        {
          "name": "stdout",
          "output_type": "stream",
          "text": [
            "question: france\n",
            "tensor([0.5920, 0.0461, 0.0130], device='cuda:0')\n",
            "answer: ['berlin', 'beijing', 'rome']\n",
            "-------------------------------\n",
            "question: china\n",
            "tensor([0.5827, 0.0960, 0.0737], device='cuda:0')\n",
            "answer: ['berlin', 'athens', 'beijing']\n",
            "-------------------------------\n",
            "question: russia\n",
            "tensor([0.5642, 0.0994, 0.0861], device='cuda:0')\n",
            "answer: ['berlin', 'beijing', 'paris']\n",
            "-------------------------------\n",
            "question: japan\n",
            "tensor([0.5794, 0.0735, 0.0387], device='cuda:0')\n",
            "answer: ['berlin', 'moscow', 'beijing']\n",
            "-------------------------------\n",
            "question: greece\n",
            "tensor([0.5650, 0.1255, 0.0694], device='cuda:0')\n",
            "answer: ['berlin', 'beijing', 'athens']\n",
            "-------------------------------\n",
            "question: italy\n",
            "tensor([0.6387, 0.1244, 0.1070], device='cuda:0')\n",
            "answer: ['berlin', 'beijing', 'rome']\n",
            "-------------------------------\n",
            "question: germany\n",
            "tensor([1.0000, 0.0849, 0.0374], device='cuda:0')\n",
            "answer: ['berlin', 'lisbon', 'madrid']\n",
            "-------------------------------\n",
            "question: spain\n",
            "tensor([0.6523, 0.1759, 0.0547], device='cuda:0')\n",
            "answer: ['berlin', 'beijing', 'rome']\n",
            "-------------------------------\n",
            "question: portugal\n",
            "tensor([0.6184, 0.1200, 0.0717], device='cuda:0')\n",
            "answer: ['berlin', 'beijing', 'rome']\n",
            "-------------------------------\n",
            "1/9\n"
          ]
        }
      ],
      "source": [
        "acc = 0\n",
        "\n",
        "metric = nn.CosineSimilarity()\n",
        "choices = [capital for capital, country in sample_word_pairs]\n",
        "for capital, country in sample_word_pairs:\n",
        "  print('question:', country)\n",
        "  guess = metric(question + sentence_to_vector(country), sentence_to_vector(\" \".join(choices)))\n",
        "  # guess = metric(question, model.embeddings.weight)\n",
        "  # print(guess)\n",
        "  topk_guess_value, topk_guess_idx = guess.topk(3, largest=True)\n",
        "  answer = [choices[g] for g in topk_guess_idx]\n",
        "  print(topk_guess_value)\n",
        "  # answer = vocab.lookup_tokens([guess[4:].abs().argmin()])\n",
        "  print('answer:', answer)\n",
        "  print('-------------------------------')\n",
        "\n",
        "  acc += answer[0] == capital\n",
        "\n",
        "print(f\"{acc}/{len(sample_word_pairs)}\")"
      ]
    },
    {
      "cell_type": "markdown",
      "metadata": {
        "id": "9xT4nfpj0mmP"
      },
      "source": [
        "## phrase construction\n"
      ]
    },
    {
      "cell_type": "code",
      "execution_count": null,
      "metadata": {},
      "outputs": [],
      "source": [
        "from collections import Counter"
      ]
    },
    {
      "cell_type": "code",
      "execution_count": null,
      "metadata": {},
      "outputs": [],
      "source": [
        "import nltk\n",
        "from nltk.corpus import stopwords"
      ]
    },
    {
      "cell_type": "code",
      "execution_count": null,
      "metadata": {},
      "outputs": [],
      "source": [
        "# nltk.__version__"
      ]
    },
    {
      "cell_type": "code",
      "execution_count": null,
      "metadata": {},
      "outputs": [],
      "source": [
        "nltk.download('stopwords')"
      ]
    },
    {
      "cell_type": "code",
      "execution_count": null,
      "metadata": {},
      "outputs": [],
      "source": [
        "stopwords.words('english')[:10]"
      ]
    },
    {
      "cell_type": "code",
      "execution_count": null,
      "metadata": {
        "colab": {
          "base_uri": "https://localhost:8080/"
        },
        "id": "4YTceMTl0mmP",
        "outputId": "91a30109-baca-418b-f81b-bfd4792efea6"
      },
      "outputs": [
        {
          "data": {
            "text/plain": [
              "torch.Size([6, 128])"
            ]
          },
          "execution_count": 104,
          "metadata": {},
          "output_type": "execute_result"
        }
      ],
      "source": [
        "# bigram count / unigram product => keep filtering"
      ]
    },
    {
      "cell_type": "code",
      "execution_count": 487,
      "metadata": {},
      "outputs": [],
      "source": [
        "train_datapipe, val_datapipe, test_datapipe = WikiText2(\"./data\")"
      ]
    },
    {
      "cell_type": "code",
      "execution_count": 488,
      "metadata": {},
      "outputs": [
        {
          "name": "stderr",
          "output_type": "stream",
          "text": [
            "d:\\research\\pytorch-implementations\\.venv\\Lib\\site-packages\\torch\\utils\\data\\datapipes\\utils\\common.py:141: UserWarning: Local function is not supported by pickle, please use regular python function or functools.partial instead.\n",
            "  warnings.warn(\n"
          ]
        }
      ],
      "source": [
        "ngrams_counter = Counter()\n",
        "for data in datapipe_factory(train_datapipe):\n",
        "    ngrams_counter.update(ngrams_iterator(data, 2))"
      ]
    },
    {
      "cell_type": "code",
      "execution_count": 489,
      "metadata": {},
      "outputs": [],
      "source": [
        "for stopword in stopwords.words('english'):\n",
        "    ngrams_counter.pop(stopword, \"\")\n",
        "\n",
        "import string\n",
        "\n",
        "for stopword in string.ascii_letters + string.punctuation:\n",
        "    ngrams_counter.pop(stopword, \"\")"
      ]
    },
    {
      "cell_type": "code",
      "execution_count": 490,
      "metadata": {},
      "outputs": [],
      "source": [
        "iter_limit = 1\n",
        "frequent_word_threshold = sum(ngrams_counter) * 1e-4\n",
        "count_threshold = 5e-5\n",
        "count_threshold_factor = 0.8"
      ]
    },
    {
      "cell_type": "code",
      "execution_count": 491,
      "metadata": {},
      "outputs": [
        {
          "name": "stderr",
          "output_type": "stream",
          "text": [
            "100%|█████████▉| 577048/577049 [00:00<00:00, 672551.02it/s]\n"
          ]
        }
      ],
      "source": [
        "phrases = set()\n",
        "bigrams = [key for key in ngrams_counter.keys() if \" \" in key and key != \"\"]\n",
        "for _ in range(iter_limit):\n",
        "   for bigram in tqdm(bigrams):\n",
        "      gram1, gram2 = bigram.split(\" \")\n",
        "      gram1_count, gram2_count = ngrams_counter[gram1], ngrams_counter[gram2]\n",
        "\n",
        "      if gram1_count > frequent_word_threshold or gram2_count > frequent_word_threshold:\n",
        "         continue\n",
        "\n",
        "      if gram1_count == 0 or gram2_count == 0:\n",
        "         continue\n",
        "\n",
        "      lift = ngrams_counter[bigram] / (gram1_count * gram2_count)\n",
        "      # print(bigram, lift)\n",
        "      if lift > count_threshold:\n",
        "         phrases.add(bigram)\n",
        "      else:\n",
        "         bigrams.remove(bigram)\n",
        "      \n",
        "      count_threshold *= count_threshold_factor"
      ]
    },
    {
      "cell_type": "code",
      "execution_count": null,
      "metadata": {},
      "outputs": [],
      "source": [
        "phrases"
      ]
    },
    {
      "cell_type": "code",
      "execution_count": 493,
      "metadata": {},
      "outputs": [
        {
          "data": {
            "text/plain": [
              "7.172148157986485e-05"
            ]
          },
          "execution_count": 493,
          "metadata": {},
          "output_type": "execute_result"
        }
      ],
      "source": [
        "ngrams_counter['video game'] / (ngrams_counter['video'] * ngrams_counter['game'])"
      ]
    },
    {
      "cell_type": "code",
      "execution_count": 494,
      "metadata": {},
      "outputs": [
        {
          "data": {
            "text/plain": [
              "True"
            ]
          },
          "execution_count": 494,
          "metadata": {},
          "output_type": "execute_result"
        }
      ],
      "source": [
        "'video game' in phrases"
      ]
    },
    {
      "cell_type": "markdown",
      "metadata": {},
      "source": [
        "# Profiling"
      ]
    },
    {
      "cell_type": "code",
      "execution_count": 1,
      "metadata": {},
      "outputs": [],
      "source": [
        "import torch.autograd.profiler as profiler"
      ]
    },
    {
      "cell_type": "code",
      "execution_count": null,
      "metadata": {},
      "outputs": [],
      "source": [
        "for gram, context in train_dataloader:\n",
        "    \n",
        "    with profiler.profile(with_stack=True, profile_memory=True) as prof:\n",
        "        gram = gram.to(CONTEXT.device)\n",
        "        context = context.to(CONTEXT.device)\n",
        "        \n",
        "        output = model(gram, word_probs)\n",
        "        loss = criterion(output, context)\n",
        "        loss.backward()\n",
        "        \n",
        "    break"
      ]
    },
    {
      "cell_type": "code",
      "execution_count": 54,
      "metadata": {},
      "outputs": [
        {
          "name": "stdout",
          "output_type": "stream",
          "text": [
            "-------------------------------------------------------  ------------  ------------  ------------  ------------  ------------  ------------  ------------  ------------  ------------  ------------  \n",
            "                                                   Name    Self CPU %      Self CPU   CPU total %     CPU total  CPU time avg       CPU Mem  Self CPU Mem      CUDA Mem  Self CUDA Mem    # of Calls  \n",
            "-------------------------------------------------------  ------------  ------------  ------------  ------------  ------------  ------------  ------------  ------------  ------------  ------------  \n",
            "                                             aten::topk        15.59%     293.022ms        15.59%     293.022ms     293.022ms           0 b           0 b           0 b           0 b             1  \n",
            "                                 aten::_index_put_impl_        13.37%     251.247ms        25.81%     485.048ms     242.524ms           0 b          -8 b           0 b     -48.05 Mb             2  \n",
            "                                         aten::scatter_         7.89%     148.300ms         7.89%     148.301ms     148.301ms           0 b           0 b           0 b           0 b             1  \n",
            "                                        aten::remainder         6.95%     130.573ms         6.95%     130.573ms      65.287ms           0 b           0 b     378.00 Kb     378.00 Kb             2  \n",
            "                                              aten::bmm         6.49%     122.059ms         6.49%     122.059ms      20.343ms           0 b           0 b      90.26 Mb      90.26 Mb             6  \n",
            "                                            aten::fill_         5.94%     111.556ms         5.94%     111.556ms      10.141ms           0 b           0 b           0 b           0 b            11  \n",
            "                                             aten::exp_         4.48%      84.182ms         4.48%      84.182ms      21.046ms           0 b           0 b           0 b           0 b             4  \n",
            "                         aten::embedding_dense_backward         4.44%      83.453ms         4.45%      83.659ms      83.659ms           0 b           0 b      23.29 Mb     -66.11 Mb             1  \n",
            "                                              aten::neg         3.31%      62.150ms         3.31%      62.150ms      10.358ms           0 b           0 b     567.00 Kb     567.00 Kb             6  \n",
            "                                       aten::clamp_min_         3.19%      59.918ms         3.19%      59.918ms      29.959ms           0 b           0 b           0 b           0 b             2  \n",
            "                                             aten::div_         2.76%      51.825ms         2.76%      51.825ms      25.913ms           0 b           0 b           0 b           0 b             2  \n",
            "                                     aten::exponential_         2.46%      46.271ms         2.46%      46.271ms      46.271ms           0 b           0 b           0 b           0 b             1  \n",
            "                                      aten::multinomial         2.26%      42.504ms        22.99%     432.086ms     432.086ms           0 b           0 b     315.00 Kb    -626.23 Mb             1  \n",
            "                              aten::_local_scalar_dense         2.17%      40.693ms         2.17%      40.693ms      20.346ms           0 b           0 b           0 b           0 b             2  \n",
            "                                     aten::index_select         2.15%      40.415ms         2.16%      40.669ms      40.669ms           0 b           0 b      36.91 Mb           0 b             1  \n",
            "                                          POSITIVE LOSS         1.92%      36.061ms        16.21%     304.645ms     304.645ms           0 b           0 b      32.00 Kb           0 b             1  \n",
            "                                             aten::log_         1.87%      35.095ms         1.87%      35.095ms      17.547ms           0 b           0 b           0 b           0 b             2  \n",
            "                                           aten::arange         1.75%      32.809ms         3.31%      62.293ms      10.382ms           0 b           0 b       1.23 Mb           0 b             6  \n",
            "                                          aten::sigmoid         1.70%      31.916ms         1.70%      31.916ms      15.958ms           0 b           0 b     189.00 Kb     189.00 Kb             2  \n",
            "                                   aten::_reshape_alias         1.13%      21.188ms         1.13%      21.188ms      10.594ms           0 b           0 b           0 b           0 b             2  \n",
            "                                          aten::divide_         0.98%      18.375ms         3.73%      70.200ms      35.100ms           0 b           0 b           0 b           0 b             2  \n",
            "                 aten::binary_cross_entropy_with_logits         0.86%      16.225ms        13.72%     257.864ms     128.932ms           0 b           0 b       1.00 Kb    -945.50 Kb             2  \n",
            "                                              aten::sum         0.64%      12.063ms         0.64%      12.097ms       2.016ms           0 b           0 b       9.26 Mb       9.20 Mb             6  \n",
            "                                         IndexBackward0         0.57%      10.624ms        26.38%     495.767ms     247.883ms           0 b           0 b      46.58 Mb           0 b             2  \n",
            "                                     UnsqueezeBackward0         0.55%      10.267ms         0.79%      14.903ms      14.903ms           0 b           0 b           0 b           0 b             1  \n",
            "                                   aten::slice_backward         0.53%      10.039ms         0.54%      10.169ms       5.085ms           0 b           0 b      46.58 Mb           0 b             2  \n",
            "                                           AddBackward0         0.46%       8.631ms         0.46%       8.631ms       8.631ms           0 b           0 b           0 b           0 b             1  \n",
            "                                              aten::sub         0.44%       8.354ms         0.44%       8.354ms       2.785ms           0 b           0 b       1.22 Gb       1.22 Gb             3  \n",
            "                                               aten::ge         0.44%       8.257ms         0.44%       8.257ms       8.257ms           0 b           0 b         512 b         512 b             1  \n",
            "                                         SliceBackward0         0.42%       7.976ms         0.97%      18.145ms       9.072ms           0 b           0 b      46.58 Mb           0 b             2  \n",
            "                                       aten::bernoulli_         0.36%       6.688ms         0.36%       6.697ms       6.697ms           0 b           0 b           0 b           0 b             1  \n",
            "                                            aten::empty         0.30%       5.631ms         0.30%       5.631ms     160.886us      63.00 Kb      63.00 Kb       2.06 Gb       2.06 Gb            35  \n",
            "                                              aten::div         0.29%       5.540ms         0.29%       5.540ms       1.847ms           0 b           0 b       1.00 Kb       1.00 Kb             3  \n",
            "                                              aten::mul         0.29%       5.445ms         0.29%       5.445ms       1.361ms           8 b           8 b     626.52 Mb     626.52 Mb             4  \n",
            "                                          aten::squeeze         0.25%       4.629ms         0.25%       4.636ms       4.636ms           0 b           0 b           0 b           0 b             1  \n",
            "                                    POSITIVE PREDICTION         0.16%       3.044ms         3.84%      72.166ms      72.166ms           0 b           0 b      17.38 Mb           0 b             1  \n",
            "                                             aten::add_         0.11%       2.026ms         0.11%       2.026ms     289.429us           0 b           0 b           0 b           0 b             7  \n",
            "                                            aten::copy_         0.10%       1.812ms         0.14%       2.564ms     197.231us           0 b     -63.00 Kb           0 b           0 b            13  \n",
            "                                           DivBackward0         0.06%       1.207ms         0.07%       1.310ms       1.310ms           0 b           0 b         512 b           0 b             1  \n",
            "                  BinaryCrossEntropyWithLogitsBackward0         0.04%     739.000us         1.74%      32.782ms      16.391ms           0 b           0 b     189.00 Kb           0 b             2  \n",
            "      autograd::engine::evaluate_function: DivBackward0         0.04%     729.000us         0.11%       2.039ms       2.039ms          -8 b          -8 b         512 b           0 b             1  \n",
            "                                          ViewBackward0         0.03%     640.000us         0.04%     680.000us      97.143us           0 b           0 b           0 b           0 b             7  \n",
            "                                           SumBackward1         0.03%     609.000us         0.03%     618.000us     618.000us           0 b           0 b           0 b           0 b             1  \n",
            "                                       PermuteBackward0         0.03%     539.000us         0.03%     586.000us      58.600us           0 b           0 b           0 b           0 b            10  \n",
            "                                              aten::min         0.03%     500.000us         0.03%     503.000us     503.000us           0 b           0 b         512 b           0 b             1  \n",
            "                                      NEGATIVE SAMPLING         0.02%     464.000us        37.27%     700.425ms     700.425ms           0 b           0 b     315.00 Kb      -3.67 Gb             1  \n",
            "                                          aten::resize_         0.02%     285.000us         0.02%     285.000us      57.000us           0 b           0 b      37.84 Mb      37.84 Mb             5  \n",
            "                                            aten::index         0.01%     198.000us         0.01%     249.000us      83.000us           0 b           0 b      55.49 Mb      55.49 Mb             3  \n",
            "                                    NEGATIVE PREDICTION         0.01%     164.000us         1.15%      21.682ms      21.682ms           0 b           0 b      46.30 Mb           0 b             1  \n",
            "                                              aten::max         0.01%     161.000us         0.01%     181.000us     181.000us           0 b           0 b         512 b           0 b             1  \n",
            "                                          NEGATIVE LOSS         0.01%     143.000us         0.32%       6.012ms       6.012ms           8 b           8 b     158.00 Kb        -512 b             1  \n",
            "                                             aten::view         0.01%     139.000us         0.01%     139.000us       6.043us           0 b           0 b           0 b           0 b            23  \n",
            "                                           aten::einsum         0.01%     134.000us         4.81%      90.452ms      45.226ms           0 b           0 b       8.31 Mb           0 b             2  \n",
            "                                          aten::permute         0.01%     131.000us         0.01%     152.000us       7.600us           0 b           0 b           0 b           0 b            20  \n",
            "                                             aten::mul_         0.01%     126.000us         0.01%     126.000us      31.500us           0 b           0 b           0 b           0 b             4  \n",
            "                                    aten::empty_strided         0.01%     125.000us         0.01%     125.000us      12.500us           0 b           0 b     627.02 Mb     627.02 Mb            10  \n",
            "                                        aten::embedding         0.01%      98.000us         2.17%      40.872ms      40.872ms           0 b           0 b      36.91 Mb    -252.00 Kb             1  \n",
            "                                               aten::eq         0.00%      91.000us         0.00%      91.000us      91.000us           0 b           0 b       8.00 Kb       8.00 Kb             1  \n",
            "                                       aten::as_strided         0.00%      87.000us         0.00%      87.000us       1.776us           0 b           0 b           0 b           0 b            49  \n",
            "                                          aten::reshape         0.00%      84.000us         1.14%      21.423ms       1.071ms           0 b           0 b     252.00 Kb           0 b            20  \n",
            "                                             aten::sub_         0.00%      74.000us         0.00%      74.000us      18.500us           0 b           0 b           0 b           0 b             4  \n",
            "                                       aten::empty_like         0.00%      61.000us         0.01%     210.000us      11.053us      63.00 Kb           0 b     711.55 Mb     315.00 Kb            19  \n",
            "                                              aten::add         0.00%      58.000us         0.00%      58.000us      29.000us           0 b           0 b       9.23 Mb       9.23 Mb             2  \n",
            "                                            aten::slice         0.00%      57.000us         0.00%      69.000us      17.250us           0 b           0 b           0 b           0 b             4  \n",
            "                                           aten::repeat         0.00%      55.000us         0.12%       2.287ms       2.287ms           0 b           0 b     626.03 Mb           0 b             1  \n",
            "autograd::engine::evaluate_function: EmbeddingBackwa...         0.00%      54.000us         4.46%      83.757ms      83.757ms           0 b           0 b      13.82 Mb      -9.47 Mb             1  \n",
            "                                         aten::_to_copy         0.00%      49.000us         0.08%       1.580ms     395.000us           0 b           0 b     630.00 Kb           0 b             4  \n",
            "                                            aten::zero_         0.00%      48.000us         5.34%     100.378ms      14.340ms           0 b           0 b           0 b           0 b             7  \n",
            "      autograd::engine::evaluate_function: BmmBackward0         0.00%      48.000us         2.83%      53.226ms      26.613ms           0 b           0 b      26.40 Mb     -55.56 Mb             2  \n",
            "autograd::engine::evaluate_function: BinaryCrossEntr...         0.00%      46.000us         1.75%      32.828ms      16.414ms           0 b           0 b    -189.50 Kb    -378.50 Kb             2  \n",
            "autograd::engine::evaluate_function: PermuteBackward...         0.00%      46.000us         0.04%     671.000us      67.100us           0 b           0 b      -9.23 Mb     -18.46 Mb            10  \n",
            "                                          aten::one_hot         0.00%      45.000us        13.41%     252.037ms     252.037ms           0 b           0 b       1.22 Gb           0 b             1  \n",
            "      autograd::engine::evaluate_function: AddBackward0         0.00%      42.000us         0.46%       8.673ms       8.673ms           0 b           0 b           0 b           0 b             1  \n",
            "                                           BmmBackward0         0.00%      39.000us         2.83%      53.178ms      26.589ms           0 b           0 b      81.95 Mb           0 b             2  \n",
            "    autograd::engine::evaluate_function: IndexBackward0         0.00%      38.000us        26.38%     495.805ms     247.903ms           0 b           0 b      -9.10 Mb     -55.68 Mb             2  \n",
            "                                        aten::unsqueeze         0.00%      33.000us         0.00%      39.000us      19.500us           0 b           0 b           0 b           0 b             2  \n",
            "                                     EmbeddingBackward0         0.00%      32.000us         4.45%      83.703ms      83.703ms           0 b           0 b      23.29 Mb           0 b             1  \n",
            "                                        aten::bernoulli         0.00%      31.000us         0.36%       6.743ms       6.743ms           0 b           0 b     126.00 Kb           0 b             1  \n",
            "                                               aten::to         0.00%      30.000us         0.09%       1.610ms     201.250us           0 b           0 b     630.00 Kb           0 b             8  \n",
            "                                            aten::clone         0.00%      27.000us         0.01%     231.000us      46.200us      63.00 Kb           0 b      83.55 Mb           0 b             5  \n",
            "                                               aten::lt         0.00%      26.000us         0.00%      26.000us      26.000us           0 b           0 b         512 b         512 b             1  \n",
            "                                        aten::transpose         0.00%      26.000us         0.00%      34.000us       8.500us           0 b           0 b           0 b           0 b             4  \n",
            "    autograd::engine::evaluate_function: SliceBackward0         0.00%      26.000us         1.07%      20.147ms      10.073ms           0 b           0 b     -23.29 Mb     -69.87 Mb             2  \n",
            "     autograd::engine::evaluate_function: ViewBackward0         0.00%      23.000us         0.04%     705.000us     100.714us           0 b           0 b           0 b           0 b             7  \n",
            "                                            aten::zeros         0.00%      21.000us         5.52%     103.770ms      25.942ms           0 b           0 b       1.29 Gb           0 b             4  \n",
            "                                             aten::rsub         0.00%      21.000us         0.44%       8.334ms       8.334ms           0 b           0 b       1.22 Gb           0 b             1  \n",
            "                                           aten::expand         0.00%      20.000us         0.00%      30.000us       7.500us           0 b           0 b           0 b           0 b             4  \n",
            "                                        aten::new_zeros         0.00%      19.000us         0.01%      95.000us      47.500us           0 b           0 b      46.58 Mb           0 b             2  \n",
            "                        torch::autograd::AccumulateGrad         0.00%      19.000us         0.00%      33.000us      16.500us           0 b           0 b           0 b           0 b             2  \n",
            "      autograd::engine::evaluate_function: SumBackward1         0.00%      19.000us         0.03%     637.000us     637.000us           0 b           0 b           0 b           0 b             1  \n",
            "                                           aten::unfold         0.00%      18.000us         0.00%      23.000us       5.750us           0 b           0 b           0 b           0 b             4  \n",
            "                                             aten::item         0.00%      18.000us         2.17%      40.711ms      20.355ms           0 b           0 b           0 b           0 b             2  \n",
            "autograd::engine::evaluate_function: UnsqueezeBackwa...         0.00%      17.000us         0.79%      14.920ms      14.920ms           0 b           0 b           0 b           0 b             1  \n",
            "                                      aten::bitwise_and         0.00%      14.000us         0.00%      14.000us      14.000us           0 b           0 b         512 b         512 b             1  \n",
            "                                        aten::ones_like         0.00%      13.000us         0.60%      11.251ms       5.625ms           0 b           0 b      32.00 Kb           0 b             2  \n",
            "                               aten::embedding_backward         0.00%      12.000us         4.45%      83.671ms      83.671ms           0 b           0 b      23.29 Mb           0 b             1  \n",
            "                                       aten::contiguous         0.00%      11.000us         0.01%     173.000us      43.250us      63.00 Kb           0 b      83.30 Mb           0 b             4  \n",
            "autograd::engine::evaluate_function: torch::autograd...         0.00%      11.000us         0.00%      44.000us      22.000us           0 b           0 b           0 b           0 b             2  \n",
            "                                                 detach         0.00%      11.000us         0.00%      11.000us       5.500us           0 b           0 b           0 b           0 b             2  \n",
            "                                       aten::zeros_like         0.00%       7.000us         0.00%      32.000us      32.000us           0 b           0 b     157.50 Kb           0 b             1  \n",
            "-------------------------------------------------------  ------------  ------------  ------------  ------------  ------------  ------------  ------------  ------------  ------------  ------------  \n",
            "Self CPU time total: 1.880s\n",
            "\n"
          ]
        }
      ],
      "source": [
        "print(prof.key_averages(group_by_stack_n=5).table(sort_by='self_cpu_time_total', row_limit=100))"
      ]
    },
    {
      "cell_type": "code",
      "execution_count": null,
      "metadata": {},
      "outputs": [],
      "source": []
    }
  ],
  "metadata": {
    "colab": {
      "provenance": [],
      "toc_visible": true
    },
    "kernelspec": {
      "display_name": "Python 3.11.4 ('.venv': pipenv)",
      "language": "python",
      "name": "python3"
    },
    "language_info": {
      "codemirror_mode": {
        "name": "ipython",
        "version": 3
      },
      "file_extension": ".py",
      "mimetype": "text/x-python",
      "name": "python",
      "nbconvert_exporter": "python",
      "pygments_lexer": "ipython3",
      "version": "3.11.4"
    },
    "vscode": {
      "interpreter": {
        "hash": "f35bd473d876cea6bd28a6266f5aa5f9962dc64f5f4db6f1a1cfdf1b2fe9cc07"
      }
    }
  },
  "nbformat": 4,
  "nbformat_minor": 0
}
