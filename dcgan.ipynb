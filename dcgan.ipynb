{
 "cells": [
  {
   "cell_type": "code",
   "execution_count": 1,
   "metadata": {},
   "outputs": [],
   "source": [
    "import torch\n",
    "from torch import nn\n",
    "from torch.autograd import Variable\n",
    "import torchvision\n",
    "from torchvision import transforms\n",
    "\n",
    "\n",
    "from tqdm import tqdm\n",
    "import matplotlib.pyplot as plt\n",
    "import numpy as np"
   ]
  },
  {
   "cell_type": "code",
   "execution_count": 2,
   "metadata": {},
   "outputs": [],
   "source": [
    "preprocess = transforms.Compose([\n",
    "    transforms.Resize((28,28)),\n",
    "    transforms.ToTensor()\n",
    "])"
   ]
  },
  {
   "cell_type": "code",
   "execution_count": 3,
   "metadata": {},
   "outputs": [
    {
     "name": "stdout",
     "output_type": "stream",
     "text": [
      "Files already downloaded and verified\n"
     ]
    }
   ],
   "source": [
    "trainset = torchvision.datasets.CIFAR10(root='./data',transform=preprocess,download=True)"
   ]
  },
  {
   "cell_type": "code",
   "execution_count": 4,
   "metadata": {},
   "outputs": [],
   "source": [
    "trainloader = torch.utils.data.DataLoader(trainset,batch_size=32,shuffle=True,num_workers=0)"
   ]
  },
  {
   "cell_type": "code",
   "execution_count": 5,
   "metadata": {},
   "outputs": [
    {
     "data": {
      "text/plain": [
       "<matplotlib.image.AxesImage at 0x1aae950b518>"
      ]
     },
     "execution_count": 5,
     "metadata": {},
     "output_type": "execute_result"
    },
    {
     "data": {
      "image/png": "[encoded data removed]",
      "text/plain": [
       "<Figure size 432x288 with 1 Axes>"
      ]
     },
     "metadata": {},
     "output_type": "display_data"
    }
   ],
   "source": [
    "# 資料集繪圖\n",
    "img = trainset[1][0].permute(1,2,0).numpy()\n",
    "plt.imshow(img)"
   ]
  },
  {
   "cell_type": "code",
   "execution_count": 5,
   "metadata": {},
   "outputs": [],
   "source": [
    "def generate_gaussian_noise(latent_dim):\n",
    "    \n",
    "    noise = np.random.normal(0, 1, (img.shape[0], latent_dim))\n",
    "    noise = torch.from_numpy(noise).float().cuda()\n",
    "    \n",
    "    return noise"
   ]
  },
  {
   "cell_type": "code",
   "execution_count": 6,
   "metadata": {},
   "outputs": [],
   "source": [
    "class ConvBNRelu(nn.Module):\n",
    "    \n",
    "    def __init__(self, in_ch, out_ch):\n",
    "        super(ConvBNRelu,self).__init__()\n",
    "        \n",
    "        self.conv = nn.Sequential(\n",
    "            nn.Conv2d(in_ch,out_ch,3,padding=1),\n",
    "            nn.BatchNorm2d(out_ch),\n",
    "            nn.LeakyReLU(inplace=True)\n",
    "        )\n",
    "        \n",
    "    def forward(self,x):\n",
    "        tmp = self.conv(x)\n",
    "        \n",
    "        return tmp"
   ]
  },
  {
   "cell_type": "code",
   "execution_count": 7,
   "metadata": {},
   "outputs": [],
   "source": [
    "class Generator_Network(nn.Module):\n",
    "    \n",
    "    def __init__(self, latent_dim = 128):\n",
    "        super(Generator_Network,self).__init__()\n",
    "        self.latent_dim = latent_dim\n",
    "        \n",
    "        self.noise_projection = nn.Sequential(\n",
    "            nn.Linear(latent_dim,latent_dim*7*7)\n",
    "        )\n",
    "        \n",
    "        self.generator = nn.Sequential(\n",
    "            nn.Upsample(scale_factor=2),\n",
    "            ConvBNRelu(latent_dim,128),\n",
    "            nn.Upsample(scale_factor=2),\n",
    "            ConvBNRelu(128,64),\n",
    "            nn.Conv2d(64,3,3,padding=1),\n",
    "            nn.Tanh()\n",
    "        )\n",
    "        \n",
    "    def forward(self,x):\n",
    "        tmp = self.noise_projection(x)\n",
    "        tmp = tmp.view(-1,self.latent_dim,7,7)\n",
    "        tmp = self.generator(tmp)\n",
    "        \n",
    "        return tmp"
   ]
  },
  {
   "cell_type": "code",
   "execution_count": 8,
   "metadata": {},
   "outputs": [],
   "source": [
    "class Discriminator_Network(nn.Module):\n",
    "    \n",
    "    def __init__(self):\n",
    "        super(Discriminator_Network,self).__init__()\n",
    "        self.discriminator = nn.Sequential(\n",
    "            ConvBNRelu(3,32),\n",
    "            ConvBNRelu(32,64),\n",
    "            ConvBNRelu(64,128),\n",
    "            nn.AdaptiveAvgPool2d((1,1)),\n",
    "        )\n",
    "        \n",
    "        self.clf = nn.Sequential(\n",
    "            nn.Linear(128,1),\n",
    "            nn.Sigmoid()\n",
    "        )\n",
    "        \n",
    "    def forward(self,x):\n",
    "        tmp = self.discriminator(x)\n",
    "        tmp = torch.flatten(tmp,start_dim=1)\n",
    "        tmp = self.clf(tmp)\n",
    "        return tmp"
   ]
  },
  {
   "cell_type": "code",
   "execution_count": 9,
   "metadata": {},
   "outputs": [],
   "source": [
    "gen = Generator_Network().cuda()\n",
    "dis = Discriminator_Network().cuda()"
   ]
  },
  {
   "cell_type": "code",
   "execution_count": 10,
   "metadata": {},
   "outputs": [],
   "source": [
    "criterion = nn.BCELoss()\n",
    "optim_G = torch.optim.Adam(gen.parameters(),lr=0.0002,betas=(0.5,0.999))\n",
    "optim_D = torch.optim.Adam(dis.parameters(),lr=0.0002,betas=(0.5,0.999))"
   ]
  },
  {
   "cell_type": "code",
   "execution_count": 11,
   "metadata": {},
   "outputs": [],
   "source": [
    "epoches = 10"
   ]
  },
  {
   "cell_type": "code",
   "execution_count": 12,
   "metadata": {},
   "outputs": [
    {
     "name": "stderr",
     "output_type": "stream",
     "text": [
      "100%|██████████████████████████████████████████████████████████████████████████████| 1563/1563 [00:59<00:00, 26.07it/s]\n",
      "  0%|▏                                                                                | 3/1563 [00:00<00:58, 26.79it/s]"
     ]
    },
    {
     "name": "stdout",
     "output_type": "stream",
     "text": [
      "epoch 1: D:0.020664865721464157 G:0.022830508320331573\n"
     ]
    },
    {
     "name": "stderr",
     "output_type": "stream",
     "text": [
      "100%|██████████████████████████████████████████████████████████████████████████████| 1563/1563 [00:59<00:00, 26.30it/s]\n",
      "  0%|▏                                                                                | 3/1563 [00:00<00:58, 26.79it/s]"
     ]
    },
    {
     "name": "stdout",
     "output_type": "stream",
     "text": [
      "epoch 2: D:0.020818689205646515 G:0.022685895985364912\n"
     ]
    },
    {
     "name": "stderr",
     "output_type": "stream",
     "text": [
      "100%|██████████████████████████████████████████████████████████████████████████████| 1563/1563 [00:59<00:00, 26.24it/s]\n",
      "  0%|▏                                                                                | 3/1563 [00:00<00:56, 27.52it/s]"
     ]
    },
    {
     "name": "stdout",
     "output_type": "stream",
     "text": [
      "epoch 3: D:0.020738229459524155 G:0.02281797847867012\n"
     ]
    },
    {
     "name": "stderr",
     "output_type": "stream",
     "text": [
      "100%|██████████████████████████████████████████████████████████████████████████████| 1563/1563 [00:59<00:00, 26.13it/s]\n",
      "  0%|▏                                                                                | 3/1563 [00:00<01:04, 24.19it/s]"
     ]
    },
    {
     "name": "stdout",
     "output_type": "stream",
     "text": [
      "epoch 4: D:0.02072842903971672 G:0.02283094676733017\n"
     ]
    },
    {
     "name": "stderr",
     "output_type": "stream",
     "text": [
      "100%|██████████████████████████████████████████████████████████████████████████████| 1563/1563 [01:00<00:00, 25.87it/s]\n",
      "  0%|▏                                                                                | 3/1563 [00:00<00:59, 26.32it/s]"
     ]
    },
    {
     "name": "stdout",
     "output_type": "stream",
     "text": [
      "epoch 5: D:0.020680926941633225 G:0.022893032646179198\n"
     ]
    },
    {
     "name": "stderr",
     "output_type": "stream",
     "text": [
      "100%|██████████████████████████████████████████████████████████████████████████████| 1563/1563 [00:59<00:00, 26.35it/s]\n",
      "  0%|▏                                                                                | 3/1563 [00:00<00:56, 27.78it/s]"
     ]
    },
    {
     "name": "stdout",
     "output_type": "stream",
     "text": [
      "epoch 6: D:0.02063230256795883 G:0.02296418889403343\n"
     ]
    },
    {
     "name": "stderr",
     "output_type": "stream",
     "text": [
      "100%|██████████████████████████████████████████████████████████████████████████████| 1563/1563 [00:58<00:00, 26.72it/s]\n",
      "  0%|▏                                                                                | 3/1563 [00:00<00:56, 27.78it/s]"
     ]
    },
    {
     "name": "stdout",
     "output_type": "stream",
     "text": [
      "epoch 7: D:0.02058443162202835 G:0.023035892165899276\n"
     ]
    },
    {
     "name": "stderr",
     "output_type": "stream",
     "text": [
      "100%|██████████████████████████████████████████████████████████████████████████████| 1563/1563 [00:58<00:00, 26.77it/s]\n",
      "  0%|▏                                                                                | 3/1563 [00:00<00:57, 27.03it/s]"
     ]
    },
    {
     "name": "stdout",
     "output_type": "stream",
     "text": [
      "epoch 8: D:0.02054223442196846 G:0.023093882319927216\n"
     ]
    },
    {
     "name": "stderr",
     "output_type": "stream",
     "text": [
      "100%|██████████████████████████████████████████████████████████████████████████████| 1563/1563 [00:58<00:00, 26.65it/s]\n",
      "  0%|▏                                                                                | 3/1563 [00:00<01:03, 24.59it/s]"
     ]
    },
    {
     "name": "stdout",
     "output_type": "stream",
     "text": [
      "epoch 9: D:0.020534786006212235 G:0.02311459510922432\n"
     ]
    },
    {
     "name": "stderr",
     "output_type": "stream",
     "text": [
      "100%|██████████████████████████████████████████████████████████████████████████████| 1563/1563 [00:58<00:00, 26.91it/s]"
     ]
    },
    {
     "name": "stdout",
     "output_type": "stream",
     "text": [
      "epoch 10: D:0.020545785384178162 G:0.02311374064922333\n"
     ]
    },
    {
     "name": "stderr",
     "output_type": "stream",
     "text": [
      "\n"
     ]
    }
   ],
   "source": [
    "gen.train()\n",
    "dis.train()\n",
    "for e in range(epoches):\n",
    "    running_loss_G = 0.0\n",
    "    running_loss_D = 0.0\n",
    "    for data in tqdm(trainloader):\n",
    "        img, _ = data\n",
    "        img = img.cuda()\n",
    "\n",
    "        valid = torch.ones(img.size(0), 1).cuda()\n",
    "        fake = torch.zeros(img.size(0), 1).cuda()\n",
    "        \n",
    "        noise = generate_gaussian_noise(128)\n",
    "        \n",
    "        optim_G.zero_grad()\n",
    "        gen_img = gen(noise)\n",
    "        g_loss = criterion(dis(gen_img), valid)\n",
    "        g_loss.backward()\n",
    "        optim_G.step()\n",
    "        running_loss_G+=g_loss.item()\n",
    "\n",
    "        optim_D.zero_grad()\n",
    "        real_loss = criterion(dis(img), valid)\n",
    "        fake_loss = criterion(dis(gen_img.detach()), fake)\n",
    "        d_loss = (real_loss + fake_loss) / 2\n",
    "        d_loss.backward()\n",
    "        optim_D.step()\n",
    "        running_loss_D+=d_loss.item()\n",
    "        \n",
    "    print(f'epoch {e+1}: D:{running_loss_D/len(trainset)} G:{running_loss_G/len(trainset)}')"
   ]
  },
  {
   "cell_type": "code",
   "execution_count": 13,
   "metadata": {},
   "outputs": [
    {
     "name": "stderr",
     "output_type": "stream",
     "text": [
      "Clipping input data to the valid range for imshow with RGB data ([0..1] for floats or [0..255] for integers).\n",
      "Clipping input data to the valid range for imshow with RGB data ([0..1] for floats or [0..255] for integers).\n",
      "Clipping input data to the valid range for imshow with RGB data ([0..1] for floats or [0..255] for integers).\n"
     ]
    },
    {
     "data": {
      "image/png": "[encoded data removed]",
      "text/plain": [
       "<Figure size 432x288 with 9 Axes>"
      ]
     },
     "metadata": {},
     "output_type": "display_data"
    }
   ],
   "source": [
    "# 合成圖片\n",
    "\n",
    "for i in range(3):\n",
    "    for j in range(3):\n",
    "        with torch.no_grad():\n",
    "            gen.eval()\n",
    "            noise = generate_gaussian_noise(128)\n",
    "\n",
    "            gen_img = gen(noise).detach().cpu()\n",
    "            gen_img = gen_img[0].permute(1,2,0).numpy()\n",
    "            \n",
    "            plt.subplot(3,3,1+i*3+j)\n",
    "            plt.imshow(gen_img)"
   ]
  },
  {
   "cell_type": "code",
   "execution_count": 14,
   "metadata": {},
   "outputs": [],
   "source": [
    "torch.save(gen.state_dict(),'gan.pth')"
   ]
  },
  {
   "cell_type": "code",
   "execution_count": null,
   "metadata": {},
   "outputs": [],
   "source": []
  }
 ],
 "metadata": {
  "kernelspec": {
   "display_name": "Python 3",
   "language": "python",
   "name": "python3"
  },
  "language_info": {
   "codemirror_mode": {
    "name": "ipython",
    "version": 3
   },
   "file_extension": ".py",
   "mimetype": "text/x-python",
   "name": "python",
   "nbconvert_exporter": "python",
   "pygments_lexer": "ipython3",
   "version": "3.6.5"
  }
 },
 "nbformat": 4,
 "nbformat_minor": 2
}
