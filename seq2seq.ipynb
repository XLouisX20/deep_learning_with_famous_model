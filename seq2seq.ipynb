{
 "cells": [
  {
   "cell_type": "code",
   "execution_count": 1,
   "metadata": {},
   "outputs": [],
   "source": [
    "import torch\n",
    "from torch import nn\n",
    "import torch.nn.functional as F\n",
    "import torchtext\n",
    "from torch.autograd import Variable\n",
    "from torchtext.data import Field,BucketIterator"
   ]
  },
  {
   "cell_type": "code",
   "execution_count": 2,
   "metadata": {},
   "outputs": [],
   "source": [
    "from tqdm import tqdm\n",
    "import matplotlib.pyplot as plt\n",
    "import random\n",
    "import spacy"
   ]
  },
  {
   "cell_type": "code",
   "execution_count": 3,
   "metadata": {},
   "outputs": [],
   "source": [
    "spacy_de = spacy.load('de_core_news_sm')\n",
    "spacy_en = spacy.load('en_core_web_sm')"
   ]
  },
  {
   "cell_type": "code",
   "execution_count": 4,
   "metadata": {},
   "outputs": [],
   "source": [
    "def tokenize_de(text):\n",
    "    \"\"\"\n",
    "    Tokenizes German text from a string into a list of strings (tokens) and reverses it\n",
    "    \"\"\"\n",
    "    return [tok.text for tok in spacy_de.tokenizer(text)][::-1]\n",
    "\n",
    "def tokenize_en(text):\n",
    "    \"\"\"\n",
    "    Tokenizes English text from a string into a list of strings (tokens)\n",
    "    \"\"\"\n",
    "    return [tok.text for tok in spacy_en.tokenizer(text)]"
   ]
  },
  {
   "cell_type": "code",
   "execution_count": 5,
   "metadata": {},
   "outputs": [],
   "source": [
    "SRC = Field(tokenize = tokenize_de, \n",
    "             lower=True,\n",
    "             init_token = '<sos>', \n",
    "             eos_token = '<eos>'\n",
    "             )\n",
    "TRG = Field(tokenize = tokenize_en, \n",
    "            lower=True,\n",
    "            init_token = '<sos>', \n",
    "            eos_token = '<eos>')"
   ]
  },
  {
   "cell_type": "code",
   "execution_count": 6,
   "metadata": {},
   "outputs": [
    {
     "name": "stdout",
     "output_type": "stream",
     "text": [
      "downloading training.tar.gz\n"
     ]
    },
    {
     "name": "stderr",
     "output_type": "stream",
     "text": [
      ".data\\multi30k\\training.tar.gz: 100%|██████████████████████████████████████████████| 1.21M/1.21M [00:06<00:00, 200kB/s]\n"
     ]
    },
    {
     "name": "stdout",
     "output_type": "stream",
     "text": [
      "downloading validation.tar.gz\n"
     ]
    },
    {
     "name": "stderr",
     "output_type": "stream",
     "text": [
      ".data\\multi30k\\validation.tar.gz: 100%|███████████████████████████████████████████| 46.3k/46.3k [00:00<00:00, 64.0kB/s]\n"
     ]
    },
    {
     "name": "stdout",
     "output_type": "stream",
     "text": [
      "downloading mmt_task1_test2016.tar.gz\n"
     ]
    },
    {
     "name": "stderr",
     "output_type": "stream",
     "text": [
      ".data\\multi30k\\mmt_task1_test2016.tar.gz: 100%|███████████████████████████████████| 66.2k/66.2k [00:01<00:00, 64.9kB/s]\n"
     ]
    }
   ],
   "source": [
    "train, val, test = torchtext.datasets.Multi30k.splits(exts = ('.de', '.en'), \n",
    "                                                      fields = (SRC, TRG))"
   ]
  },
  {
   "cell_type": "code",
   "execution_count": 9,
   "metadata": {},
   "outputs": [],
   "source": [
    "SRC.build_vocab(train)\n",
    "TRG.build_vocab(train)"
   ]
  },
  {
   "cell_type": "code",
   "execution_count": 10,
   "metadata": {},
   "outputs": [],
   "source": [
    "train_iter, val_iter, test_iter = BucketIterator.splits(\n",
    "                                  (train, val, test), batch_size=16)"
   ]
  },
  {
   "cell_type": "code",
   "execution_count": 30,
   "metadata": {},
   "outputs": [],
   "source": [
    "class Encoder(nn.Module):\n",
    "    \"\"\"\n",
    "    將欲翻譯句子轉為隱向量\n",
    "    \"\"\"\n",
    "    \n",
    "    def __init__(self, embed_dim = 128):\n",
    "        super(Encoder,self).__init__()\n",
    "        self.embed_dim = embed_dim\n",
    "        self.hidden_dim = embed_dim\n",
    "        \n",
    "        self.embed = nn.Embedding(len(SRC.vocab),embed_dim)\n",
    "        self.rnn = nn.LSTM(embed_dim,self.hidden_dim,1)\n",
    "    \n",
    "    def forward(self, x):\n",
    "        tmp = self.embed(x)\n",
    "        tmp, (ht, ct) = self.rnn(tmp)\n",
    "        return ht, ct"
   ]
  },
  {
   "cell_type": "code",
   "execution_count": 31,
   "metadata": {},
   "outputs": [],
   "source": [
    "class Decoder(nn.Module):\n",
    "    \"\"\"\n",
    "    將隱向量與目標句子轉為欲翻譯句子\n",
    "    \"\"\"\n",
    "    \n",
    "    def __init__(self, embed_dim = 128):\n",
    "        super(Decoder,self).__init__()\n",
    "        self.embed_dim = embed_dim\n",
    "        self.hidden_dim = embed_dim\n",
    "        self.output_dim = len(TRG.vocab)\n",
    "        \n",
    "        self.embed = nn.Embedding(self.output_dim,embed_dim)\n",
    "        self.rnn = nn.LSTM(embed_dim,self.hidden_dim,1)\n",
    "        self.fc = nn.Linear(self.hidden_dim,self.output_dim)\n",
    "    \n",
    "    def forward(self, x, h, c):\n",
    "        tmp = x.unsqueeze(0)\n",
    "        tmp = self.embed(tmp)\n",
    "        tmp, (h, c) = self.rnn(tmp, (h, c))\n",
    "        tmp = tmp.squeeze(0)\n",
    "        tmp = self.fc(tmp)\n",
    "        return tmp, h, c"
   ]
  },
  {
   "cell_type": "code",
   "execution_count": 32,
   "metadata": {},
   "outputs": [],
   "source": [
    "class Seq2Seq(nn.Module):\n",
    "    def __init__(self, encoder, decoder):\n",
    "        super().__init__()\n",
    "        \n",
    "        self.encoder = encoder\n",
    "        self.decoder = decoder\n",
    "        \n",
    "    def forward(self, src, trg, teacher_forcing_ratio = 0.5):\n",
    "        \n",
    "        trg_len, batch_size = trg.shape[0], trg.shape[1]\n",
    "        trg_vocab_size = self.decoder.output_dim\n",
    "        \n",
    "        #tensor to store decoder outputs\n",
    "        outputs = torch.zeros(trg_len, batch_size, trg_vocab_size).cuda()\n",
    "        \n",
    "        #last hidden state of the encoder is used as the initial hidden state of the decoder\n",
    "        hidden, cell = self.encoder(src)\n",
    "        \n",
    "        #first input to the decoder is the <sos> tokens\n",
    "        input = trg[0,:]\n",
    "        \n",
    "        for t in range(1, trg_len):\n",
    "            \n",
    "            #insert input token embedding, previous hidden and previous cell states\n",
    "            #receive output tensor (predictions) and new hidden and cell states\n",
    "            output, hidden, cell = self.decoder(input, hidden, cell)\n",
    "            \n",
    "            #place predictions in a tensor holding predictions for each token\n",
    "            outputs[t] = output\n",
    "            \n",
    "            #decide if we are going to use teacher forcing or not\n",
    "            teacher_force = random.random() < teacher_forcing_ratio\n",
    "            \n",
    "            #get the highest predicted token from our predictions\n",
    "            top1 = output.argmax(1) \n",
    "            \n",
    "            #if teacher forcing, use actual next token as next input\n",
    "            #if not, use predicted token\n",
    "            input = trg[t] if teacher_force else top1\n",
    "        \n",
    "        return outputs"
   ]
  },
  {
   "cell_type": "code",
   "execution_count": 18,
   "metadata": {},
   "outputs": [],
   "source": [
    "enc = Encoder().cuda()\n",
    "dec = Decoder().cuda()\n",
    "model = Seq2Seq(enc,dec).cuda()"
   ]
  },
  {
   "cell_type": "code",
   "execution_count": null,
   "metadata": {},
   "outputs": [],
   "source": [
    "## 測試 forward\n",
    "for i in train_iter:\n",
    "    text = i.src\n",
    "    label = i.trg\n",
    "    output = model(text,label)\n",
    "    print(output.shape)\n",
    "    break"
   ]
  },
  {
   "cell_type": "code",
   "execution_count": 23,
   "metadata": {},
   "outputs": [],
   "source": [
    "criterion = nn.CrossEntropyLoss(ignore_index = TRG.vocab.stoi[TRG.pad_token])\n",
    "optim = torch.optim.Adam(model.parameters())"
   ]
  },
  {
   "cell_type": "code",
   "execution_count": 33,
   "metadata": {},
   "outputs": [],
   "source": [
    "epoches = 10"
   ]
  },
  {
   "cell_type": "code",
   "execution_count": 34,
   "metadata": {},
   "outputs": [
    {
     "name": "stderr",
     "output_type": "stream",
     "text": [
      "100%|██████████████████████████████████████████████████████████████████████████████| 1813/1813 [01:37<00:00, 18.59it/s]\n",
      "  0%|                                                                                 | 2/1813 [00:00<02:03, 14.71it/s]"
     ]
    },
    {
     "name": "stdout",
     "output_type": "stream",
     "text": [
      "epoch 1 : 0.2560454741921918\n"
     ]
    },
    {
     "name": "stderr",
     "output_type": "stream",
     "text": [
      "100%|██████████████████████████████████████████████████████████████████████████████| 1813/1813 [01:36<00:00, 18.84it/s]\n",
      "  0%|                                                                                 | 2/1813 [00:00<02:01, 14.93it/s]"
     ]
    },
    {
     "name": "stdout",
     "output_type": "stream",
     "text": [
      "epoch 2 : 0.2371128207157398\n"
     ]
    },
    {
     "name": "stderr",
     "output_type": "stream",
     "text": [
      "100%|██████████████████████████████████████████████████████████████████████████████| 1813/1813 [01:36<00:00, 18.83it/s]\n",
      "  0%|                                                                                 | 2/1813 [00:00<02:12, 13.70it/s]"
     ]
    },
    {
     "name": "stdout",
     "output_type": "stream",
     "text": [
      "epoch 3 : 0.22336561082971507\n"
     ]
    },
    {
     "name": "stderr",
     "output_type": "stream",
     "text": [
      "100%|██████████████████████████████████████████████████████████████████████████████| 1813/1813 [01:38<00:00, 18.41it/s]\n",
      "  0%|                                                                                 | 2/1813 [00:00<02:10, 13.89it/s]"
     ]
    },
    {
     "name": "stdout",
     "output_type": "stream",
     "text": [
      "epoch 4 : 0.21276846999957644\n"
     ]
    },
    {
     "name": "stderr",
     "output_type": "stream",
     "text": [
      "100%|██████████████████████████████████████████████████████████████████████████████| 1813/1813 [01:35<00:00, 18.91it/s]\n",
      "  0%|                                                                                 | 2/1813 [00:00<01:45, 17.24it/s]"
     ]
    },
    {
     "name": "stdout",
     "output_type": "stream",
     "text": [
      "epoch 5 : 0.20422995005804917\n"
     ]
    },
    {
     "name": "stderr",
     "output_type": "stream",
     "text": [
      "100%|██████████████████████████████████████████████████████████████████████████████| 1813/1813 [01:37<00:00, 18.51it/s]\n",
      "  0%|                                                                                 | 2/1813 [00:00<01:49, 16.53it/s]"
     ]
    },
    {
     "name": "stdout",
     "output_type": "stream",
     "text": [
      "epoch 6 : 0.19617808093695804\n"
     ]
    },
    {
     "name": "stderr",
     "output_type": "stream",
     "text": [
      "100%|██████████████████████████████████████████████████████████████████████████████| 1813/1813 [01:37<00:00, 18.67it/s]\n",
      "  0%|                                                                                 | 2/1813 [00:00<02:43, 11.05it/s]"
     ]
    },
    {
     "name": "stdout",
     "output_type": "stream",
     "text": [
      "epoch 7 : 0.18910529427692807\n"
     ]
    },
    {
     "name": "stderr",
     "output_type": "stream",
     "text": [
      "100%|██████████████████████████████████████████████████████████████████████████████| 1813/1813 [01:37<00:00, 18.62it/s]\n",
      "  0%|                                                                                 | 2/1813 [00:00<02:11, 13.79it/s]"
     ]
    },
    {
     "name": "stdout",
     "output_type": "stream",
     "text": [
      "epoch 8 : 0.18321211649631633\n"
     ]
    },
    {
     "name": "stderr",
     "output_type": "stream",
     "text": [
      "100%|██████████████████████████████████████████████████████████████████████████████| 1813/1813 [01:38<00:00, 18.35it/s]\n",
      "  0%|                                                                                 | 2/1813 [00:00<02:06, 14.29it/s]"
     ]
    },
    {
     "name": "stdout",
     "output_type": "stream",
     "text": [
      "epoch 9 : 0.1780278966467956\n"
     ]
    },
    {
     "name": "stderr",
     "output_type": "stream",
     "text": [
      "100%|██████████████████████████████████████████████████████████████████████████████| 1813/1813 [01:38<00:00, 18.47it/s]"
     ]
    },
    {
     "name": "stdout",
     "output_type": "stream",
     "text": [
      "epoch 10 : 0.17162103613902782\n"
     ]
    },
    {
     "name": "stderr",
     "output_type": "stream",
     "text": [
      "\n"
     ]
    }
   ],
   "source": [
    "model.train()\n",
    "training_loss = []\n",
    "for e in range(epoches):\n",
    "    running_loss = 0.0\n",
    "    for data in tqdm(train_iter):\n",
    "        text = data.src.cuda()\n",
    "        label = data.trg.cuda()\n",
    "        \n",
    "        output = model(text,label)\n",
    "        \n",
    "        output = output[1:].view(-1, output.shape[-1])\n",
    "        label = label[1:].view(-1)\n",
    "        \n",
    "        optim.zero_grad()\n",
    "        loss = criterion(output,label)\n",
    "        loss.backward()\n",
    "        optim.step()\n",
    "        \n",
    "        output = output.detach().cpu()\n",
    "        text = text.detach().cpu()\n",
    "        label = label.detach().cpu()\n",
    "        \n",
    "        running_loss += loss.item()\n",
    "    training_loss.append(running_loss/len(train))\n",
    "    print(f'epoch {e+1} : {running_loss/len(train)}')"
   ]
  },
  {
   "cell_type": "code",
   "execution_count": 35,
   "metadata": {},
   "outputs": [
    {
     "data": {
      "text/plain": [
       "[<matplotlib.lines.Line2D at 0x1c483b60ac8>]"
      ]
     },
     "execution_count": 35,
     "metadata": {},
     "output_type": "execute_result"
    },
    {
     "data": {
      "image/png": "[encoded data removed]",
      "text/plain": [
       "<Figure size 432x288 with 1 Axes>"
      ]
     },
     "metadata": {},
     "output_type": "display_data"
    }
   ],
   "source": [
    "plt.plot(training_loss)"
   ]
  },
  {
   "cell_type": "code",
   "execution_count": 86,
   "metadata": {},
   "outputs": [
    {
     "name": "stdout",
     "output_type": "stream",
     "text": [
      "<unk> two people stand in front of a building with two two men with graffiti . <eos> <eos> . <eos> <eos>\n",
      "<unk> a woman is on a a . <eos> <eos> <eos> <eos> <eos> <eos> <eos> <eos> <eos> <eos> <eos> <eos> <eos>\n",
      "<unk> a little girl with a pink pink sits on a beach with her . <eos> <eos> <eos> <eos> <eos> <eos>\n",
      "<unk> a boy playing in a a game . <eos> <eos> <eos> <eos> <eos> <eos> <eos> <eos> <eos> <eos> <eos> <eos>\n",
      "<unk> two girls are sitting on a table . <eos> <eos> . <eos> <eos> <eos> <eos> <eos> <eos> <eos> <eos> <eos>\n",
      "<unk> a woman and children are standing on the sidewalk with a a on a a . . <eos> <eos> <eos>\n",
      "<unk> a cowboy is a a a a a a a a a a a a a a a . .\n",
      "<unk> a girl is on a a and a and and the other is on her . . <eos> <eos> <eos>\n",
      "<unk> five young adults are having fun in a a in a room . <eos> <eos> <eos> <eos> <eos> <eos> <eos>\n",
      "<unk> men are two men in two men are standing in the . . <eos> <eos> <eos> <eos> <eos> <eos> <eos>\n",
      "<unk> a woman with a white hat and a stands in front of a busy street corner . <eos> <eos> .\n",
      "<unk> pedestrians walk down a street with a a on . <eos> <eos> <eos> <eos> <eos> <eos> <eos> <eos> <eos> <eos>\n",
      "<unk> soccer players on the field field trying to reach the ball . <eos> <eos> . <eos> <eos> <eos> <eos> <eos>\n",
      "<unk> a dog is walking on a dirt road . <eos> <eos> <eos> <eos> <eos> <eos> <eos> <eos> <eos> <eos> <eos>\n",
      "<unk> people are at a a at a a a a . . <eos> <eos> <eos> <eos> <eos> <eos> <eos> <eos>\n",
      "<unk> construction workers are to the the of . . <eos> <eos> <eos> <eos> <eos> <eos> <eos> <eos> <eos> <eos> <eos>\n",
      "<unk> a young man is on a ladder to a a that is being pulled by . <eos> . <eos> <eos> <eos> <eos> <eos> <eos> <eos>\n",
      "<unk> a young man is sitting on the side of his on the . . <eos> <eos> <eos> <eos> <eos> <eos> <eos> <eos> <eos> <eos> <eos>\n",
      "<unk> a police band in a a , wearing a black and and and , and , , , , , in a a a a\n",
      "<unk> people are the the . . <eos> <eos> <eos> <eos> <eos> <eos> <eos> <eos> <eos> <eos> <eos> <eos> <eos> <eos> <eos> <eos> <eos> <eos> <eos>\n",
      "<unk> two men are getting a basketball , one with a , , and . <eos> <eos> <eos> <eos> <eos> <eos> <eos> <eos> <eos> <eos> <eos>\n",
      "<unk> a man is on his desk on his lap on his skateboard . <eos> <eos> <eos> <eos> <eos> <eos> <eos> <eos> <eos> <eos> <eos> <eos>\n",
      "<unk> firefighters are down a race during a race . <eos> <eos> <eos> <eos> <eos> <eos> <eos> <eos> <eos> <eos> <eos> <eos> <eos> <eos> <eos> <eos>\n",
      "<unk> girls are are at a a game of water . <eos> <eos> <eos> <eos> <eos> <eos> <eos> <eos> <eos> <eos> <eos> <eos> <eos> <eos> <eos>\n",
      "<unk> someone is riding a bike on a . <eos> <eos> <eos> <eos> <eos> <eos> <eos> <eos> <eos> <eos> <eos> <eos> <eos> <eos> <eos> <eos> <eos>\n",
      "<unk> a man is on stage while another man is to a a . <eos> <eos> <eos> <eos> <eos> <eos> <eos> <eos> <eos> <eos> <eos> <eos>\n",
      "<unk> a lone skier is down a mountain on a a a . <eos> <eos> <eos> <eos> <eos> <eos> <eos> <eos> <eos> <eos> <eos> <eos> <eos>\n",
      "<unk> a boy wearing a green and and holding a his face . <eos> <eos> . <eos> <eos> <eos> <eos> <eos> <eos> <eos> <eos> <eos> <eos>\n",
      "<unk> a teenager is in a kitchen in a a a to his . . <eos> <eos> <eos> <eos> <eos> <eos> <eos> <eos> <eos> <eos> <eos>\n",
      "<unk> a person is riding a a on a dirt hill . <eos> <eos> <eos> <eos> <eos> <eos> <eos> <eos> <eos> <eos> <eos> <eos> <eos> <eos>\n",
      "<unk> the man is climbing a bicycle on a mountain . <eos> <eos> <eos> <eos> <eos> <eos> <eos> <eos> <eos> <eos> <eos> <eos> <eos> <eos> <eos>\n",
      "<unk> a woman is in a red bikini stands on a beach . <eos> <eos> <eos> <eos> <eos> <eos> <eos> <eos> <eos> <eos> <eos> <eos> <eos>\n",
      "<unk> two men are a a while a while a young man watches as they are to to a and . . <eos> <eos> <eos> <eos>\n",
      "<unk> a group of people are standing in a market . <eos> <eos> . <eos> <eos> <eos> <eos> <eos> <eos> <eos> <eos> <eos> <eos> <eos> <eos>\n",
      "<unk> a man is on his back on his head to to to the the to to catch the ball . <eos> <eos> <eos> <eos> <eos>\n",
      "<unk> a red car is parked in front of a building . <eos> <eos> <eos> <eos> <eos> <eos> <eos> <eos> <eos> <eos> <eos> <eos> <eos> <eos>\n",
      "<unk> a woman wearing a brown top is riding a bicycle . <eos> <eos> <eos> <eos> <eos> <eos> <eos> <eos> <eos> <eos> <eos> <eos> <eos> <eos>\n",
      "<unk> a skateboarder performs a trick . <eos> <eos> <eos> <eos> <eos> <eos> <eos> <eos> <eos> <eos> <eos> <eos> <eos> <eos> <eos> <eos> <eos> <eos> <eos>\n",
      "<unk> a group of teens are a a building . <eos> <eos> <eos> <eos> <eos> <eos> <eos> <eos> <eos> <eos> <eos> <eos> <eos> <eos> <eos> <eos>\n",
      "<unk> a family and sitting sitting at a table table with table and vegetables and food on . <eos> . <eos> <eos> <eos> <eos> <eos> <eos>\n",
      "<unk> a man is the the as the man is to the the . . <eos> <eos> . <eos> <eos> . <eos> <eos> . <eos> <eos>\n",
      "<unk> two children playing on a a on a playground . <eos> <eos> <eos> <eos> <eos> <eos> <eos> <eos> <eos> <eos> <eos> <eos> <eos> <eos> <eos>\n",
      "<unk> an asian woman in a red shirt is a a to a a a . <eos> <eos> <eos> <eos> <eos> <eos> <eos> <eos> <eos> <eos>\n",
      "<unk> two young girls , one the the the the the the the the the water from the . . <eos> <eos> <eos> <eos> <eos> <eos>\n",
      "<unk> people are on the the the of a a of a river . <eos> <eos> . <eos> <eos> <eos> <eos> <eos> <eos> <eos> <eos> <eos>\n",
      "<unk> many people sit on a sidewalk outside of a building building a building on the sidewalk in the street . <eos> <eos> <eos> <eos> <eos>\n",
      "<unk> three children are at a at a restaurant while holding a paper . <eos> <eos> <eos> <eos> <eos> <eos> <eos> <eos> <eos> <eos> <eos> <eos>\n",
      "<unk> a large group of people are on a dock in a lake . <eos> <eos> <eos> <eos> <eos> <eos> <eos> <eos> <eos> <eos> <eos> <eos>\n"
     ]
    }
   ],
   "source": [
    "model.eval()\n",
    "with torch.no_grad():\n",
    "    for index, data in enumerate(train_iter):\n",
    "        text = data.src.cuda()\n",
    "        label = data.trg.cuda()\n",
    "        \n",
    "        output = model(text, label, 0)\n",
    "        output = output.detach().cpu()\n",
    "        output = output.argmax(dim=2).transpose(0,1).numpy()\n",
    "        output = [[TRG.vocab.itos[i] for i in o] for o in output]\n",
    "        for z in output:\n",
    "            print(' '.join(z))\n",
    "        if index > 1:\n",
    "            break"
   ]
  },
  {
   "cell_type": "code",
   "execution_count": 87,
   "metadata": {},
   "outputs": [],
   "source": [
    "torch.save(model.state_dict(),'seq2seq.pth')"
   ]
  },
  {
   "cell_type": "code",
   "execution_count": null,
   "metadata": {},
   "outputs": [],
   "source": [
    "model.load_state_dict(torch.load('seq2seq.pth'))"
   ]
  }
 ],
 "metadata": {
  "kernelspec": {
   "display_name": "Python 3",
   "language": "python",
   "name": "python3"
  },
  "language_info": {
   "codemirror_mode": {
    "name": "ipython",
    "version": 3
   },
   "file_extension": ".py",
   "mimetype": "text/x-python",
   "name": "python",
   "nbconvert_exporter": "python",
   "pygments_lexer": "ipython3",
   "version": "3.6.5"
  }
 },
 "nbformat": 4,
 "nbformat_minor": 2
}
