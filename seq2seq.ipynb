{
 "cells": [
  {
   "cell_type": "code",
   "execution_count": 1,
   "metadata": {},
   "outputs": [],
   "source": [
    "import torch\n",
    "from torch import nn\n",
    "import torch.nn.functional as F\n",
    "from torch.autograd import Variable\n",
    "from torch.utils.data import DataLoader"
   ]
  },
  {
   "cell_type": "code",
   "execution_count": 2,
   "metadata": {},
   "outputs": [],
   "source": [
    "from tqdm import tqdm\n",
    "import matplotlib.pyplot as plt\n",
    "import random\n",
    "import math\n",
    "from typing import List"
   ]
  },
  {
   "cell_type": "code",
   "execution_count": 3,
   "metadata": {},
   "outputs": [],
   "source": [
    "from torchtext.data import get_tokenizer\n",
    "from torchtext.vocab import build_vocab_from_iterator\n",
    "from torch.nn.utils.rnn import pad_sequence\n",
    "from torchtext.datasets import Multi30k"
   ]
  },
  {
   "cell_type": "markdown",
   "metadata": {},
   "source": [
    "# setting and preprocessing"
   ]
  },
  {
   "cell_type": "code",
   "execution_count": 4,
   "metadata": {},
   "outputs": [],
   "source": [
    "SRC_LANGUAGE = 'de'\n",
    "TRG_LANGUAGE = 'en'"
   ]
  },
  {
   "cell_type": "code",
   "execution_count": 5,
   "metadata": {},
   "outputs": [],
   "source": [
    "token_transform = {\n",
    "    'de': get_tokenizer('spacy',language='de_core_news_sm'),\n",
    "    'en': get_tokenizer('spacy',language='en_core_web_sm')\n",
    "}"
   ]
  },
  {
   "cell_type": "code",
   "execution_count": 6,
   "metadata": {},
   "outputs": [],
   "source": [
    "UNK_IDX, PAD_IDX, BOS_IDX, EOS_IDX = 0, 1, 2, 3\n",
    "special_tokens = ['<unk>', '<pad>', '<bos>', '<eos>']"
   ]
  },
  {
   "cell_type": "code",
   "execution_count": 7,
   "metadata": {},
   "outputs": [],
   "source": [
    "def iter_func(dataset, lang: str) -> List[str]:\n",
    "    for i in dataset:\n",
    "        yield token_transform[lang](i[0 if lang==SRC_LANGUAGE else 1])"
   ]
  },
  {
   "cell_type": "code",
   "execution_count": 8,
   "metadata": {},
   "outputs": [],
   "source": [
    "vocab_transform = {\n",
    "    'de': '',\n",
    "    'en': ''\n",
    "}"
   ]
  },
  {
   "cell_type": "code",
   "execution_count": 9,
   "metadata": {},
   "outputs": [],
   "source": [
    "for l in vocab_transform:\n",
    "\n",
    "    train_iter = Multi30k(split='train')\n",
    "    \n",
    "    vocab_transform[l] = build_vocab_from_iterator(iter_func(train_iter,l), \n",
    "                                                  specials=special_tokens,\n",
    "                                                  special_first=True)\n",
    "    \n",
    "    vocab_transform[l].set_default_index(UNK_IDX)"
   ]
  },
  {
   "cell_type": "code",
   "execution_count": 10,
   "metadata": {},
   "outputs": [],
   "source": [
    "# function to add BOS/EOS and create tensor for input sequence indices\n",
    "def tensor_transform(token_ids: List[int]):\n",
    "    return torch.cat([torch.tensor([BOS_IDX]),\n",
    "                      torch.tensor(token_ids),\n",
    "                      torch.tensor([EOS_IDX])])"
   ]
  },
  {
   "cell_type": "code",
   "execution_count": 11,
   "metadata": {},
   "outputs": [],
   "source": [
    "# helper function to club together sequential operations\n",
    "def sequential_transforms(*transforms):\n",
    "    def func(txt_input):\n",
    "        for transform in transforms:\n",
    "            txt_input = transform(txt_input)\n",
    "        return txt_input\n",
    "    return func"
   ]
  },
  {
   "cell_type": "code",
   "execution_count": 12,
   "metadata": {},
   "outputs": [],
   "source": [
    "# src and tgt language text transforms to convert raw strings into tensors indices\n",
    "text_transform = {\n",
    "    'de': sequential_transforms(token_transform[SRC_LANGUAGE],vocab_transform[SRC_LANGUAGE], tensor_transform),\n",
    "    'en': sequential_transforms(token_transform[TRG_LANGUAGE],vocab_transform[TRG_LANGUAGE], tensor_transform)\n",
    "}"
   ]
  },
  {
   "cell_type": "code",
   "execution_count": 19,
   "metadata": {},
   "outputs": [],
   "source": [
    "# function to collate data samples into batch tesors\n",
    "def collate_fn(batch):\n",
    "    src_batch, tgt_batch = [], []\n",
    "    for src_sample, tgt_sample in batch:\n",
    "        src_batch.append(text_transform[SRC_LANGUAGE](src_sample.rstrip(\"\\n\")))\n",
    "        tgt_batch.append(text_transform[TRG_LANGUAGE](tgt_sample.rstrip(\"\\n\")))\n",
    "\n",
    "    src_batch = pad_sequence(src_batch, padding_value=PAD_IDX)\n",
    "    tgt_batch = pad_sequence(tgt_batch, padding_value=PAD_IDX)\n",
    "    return src_batch, tgt_batch"
   ]
  },
  {
   "cell_type": "markdown",
   "metadata": {},
   "source": [
    "# Model"
   ]
  },
  {
   "cell_type": "code",
   "execution_count": 14,
   "metadata": {},
   "outputs": [],
   "source": [
    "class Encoder(nn.Module):\n",
    "    \"\"\"\n",
    "    將欲翻譯句子轉為隱向量\n",
    "    \"\"\"\n",
    "    \n",
    "    def __init__(self, embed_dim = 128):\n",
    "        super(Encoder,self).__init__()\n",
    "        self.embed_dim = embed_dim\n",
    "        self.hidden_dim = embed_dim\n",
    "        \n",
    "        self.embed = nn.Embedding(len(vocab_transform[SRC_LANGUAGE]),embed_dim)\n",
    "        self.rnn = nn.LSTM(embed_dim,self.hidden_dim,1)\n",
    "    \n",
    "    def forward(self, x):\n",
    "        tmp = self.embed(x)\n",
    "        o, (ht, ct) = self.rnn(tmp)\n",
    "        return ht, ct"
   ]
  },
  {
   "cell_type": "code",
   "execution_count": 15,
   "metadata": {},
   "outputs": [],
   "source": [
    "class Decoder(nn.Module):\n",
    "    \"\"\"\n",
    "    將隱向量與目標句子轉為欲翻譯句子\n",
    "    \"\"\"\n",
    "    \n",
    "    def __init__(self, embed_dim = 128):\n",
    "        super(Decoder,self).__init__()\n",
    "        self.embed_dim = embed_dim\n",
    "        self.hidden_dim = embed_dim\n",
    "        self.output_dim = len(vocab_transform[TRG_LANGUAGE])\n",
    "        \n",
    "        self.embed = nn.Embedding(self.output_dim,embed_dim)\n",
    "        self.rnn = nn.LSTM(embed_dim,self.hidden_dim,1)\n",
    "        self.fc = nn.Linear(self.hidden_dim,self.output_dim)\n",
    "    \n",
    "    def forward(self, x, h, c):\n",
    "        tmp = x.unsqueeze(0)\n",
    "        tmp = self.embed(tmp)\n",
    "        o, (h, c) = self.rnn(tmp, (h, c))\n",
    "        o = o.squeeze(0)\n",
    "        o = self.fc(o)\n",
    "        return o, h, c"
   ]
  },
  {
   "cell_type": "code",
   "execution_count": 16,
   "metadata": {},
   "outputs": [],
   "source": [
    "class Seq2Seq(nn.Module):\n",
    "    def __init__(self, encoder, decoder):\n",
    "        super().__init__()\n",
    "        \n",
    "        self.encoder = encoder\n",
    "        self.decoder = decoder\n",
    "        \n",
    "    def forward(self, src, trg, teacher_forcing_ratio = 0.5):\n",
    "        \n",
    "        trg_len, batch_size = trg.shape\n",
    "        trg_vocab_size = self.decoder.output_dim\n",
    "        \n",
    "        #tensor to store decoder outputs\n",
    "        outputs = torch.full((trg_len, batch_size, trg_vocab_size), float(BOS_IDX)).cuda()\n",
    "        \n",
    "        #last hidden state of the encoder is used as the initial hidden state of the decoder\n",
    "        hidden, cell = self.encoder(src)\n",
    "        \n",
    "        #first input to the decoder is the <sos> tokens\n",
    "        input_seq = trg[0,:]\n",
    "        \n",
    "        for t in range(1, trg_len):\n",
    "            \n",
    "            #insert input token embedding, previous hidden and previous cell states\n",
    "            #receive output tensor (predictions) and new hidden and cell states\n",
    "            output, _, _ = self.decoder(input_seq, hidden, cell)\n",
    "            \n",
    "            #place predictions in a tensor holding predictions for each token\n",
    "            outputs[t] = output\n",
    "            \n",
    "            #decide if we are going to use teacher forcing or not\n",
    "            teacher_force = random.random() < teacher_forcing_ratio\n",
    "            \n",
    "            #get the highest predicted token from our predictions\n",
    "            top1 = output.argmax(1) \n",
    "            \n",
    "            #if teacher forcing, use actual next token as next input\n",
    "            #if not, use predicted token\n",
    "            input_seq = trg[t] if teacher_force else top1\n",
    "        \n",
    "        return outputs"
   ]
  },
  {
   "cell_type": "code",
   "execution_count": 121,
   "metadata": {},
   "outputs": [],
   "source": [
    "enc = Encoder().cuda()\n",
    "dec = Decoder().cuda()\n",
    "model = Seq2Seq(enc,dec).cuda()"
   ]
  },
  {
   "cell_type": "code",
   "execution_count": 122,
   "metadata": {},
   "outputs": [
    {
     "name": "stdout",
     "output_type": "stream",
     "text": [
      "torch.Size([24, 32, 10838])\n"
     ]
    }
   ],
   "source": [
    "## 測試 forward\n",
    "for s,t in trainloader:\n",
    "    s,t = s.cuda(), t.cuda()\n",
    "    output = model(s,t)\n",
    "    print(output.shape)\n",
    "    break"
   ]
  },
  {
   "cell_type": "markdown",
   "metadata": {},
   "source": [
    "# Training"
   ]
  },
  {
   "cell_type": "code",
   "execution_count": 21,
   "metadata": {},
   "outputs": [],
   "source": [
    "criterion = nn.CrossEntropyLoss(ignore_index = PAD_IDX)\n",
    "optim = torch.optim.Adam(model.parameters())"
   ]
  },
  {
   "cell_type": "code",
   "execution_count": 124,
   "metadata": {},
   "outputs": [],
   "source": [
    "epoches = 10"
   ]
  },
  {
   "cell_type": "code",
   "execution_count": 125,
   "metadata": {},
   "outputs": [
    {
     "name": "stderr",
     "output_type": "stream",
     "text": [
      "100%|████████████████████████████████████████████████████████████████████████████████| 907/907 [01:03<00:00, 14.38it/s]\n",
      "  0%|▏                                                                                 | 2/907 [00:00<00:58, 15.43it/s]"
     ]
    },
    {
     "name": "stdout",
     "output_type": "stream",
     "text": [
      "epoch 1 : 0.1607525174535554\n"
     ]
    },
    {
     "name": "stderr",
     "output_type": "stream",
     "text": [
      "100%|████████████████████████████████████████████████████████████████████████████████| 907/907 [01:03<00:00, 14.33it/s]\n",
      "  0%|▏                                                                                 | 2/907 [00:00<00:57, 15.67it/s]"
     ]
    },
    {
     "name": "stdout",
     "output_type": "stream",
     "text": [
      "epoch 2 : 0.14542219115947855\n"
     ]
    },
    {
     "name": "stderr",
     "output_type": "stream",
     "text": [
      "100%|████████████████████████████████████████████████████████████████████████████████| 907/907 [01:01<00:00, 14.85it/s]\n",
      "  0%|▏                                                                                 | 2/907 [00:00<00:55, 16.44it/s]"
     ]
    },
    {
     "name": "stdout",
     "output_type": "stream",
     "text": [
      "epoch 3 : 0.13578977411368798\n"
     ]
    },
    {
     "name": "stderr",
     "output_type": "stream",
     "text": [
      "100%|████████████████████████████████████████████████████████████████████████████████| 907/907 [01:02<00:00, 14.62it/s]\n",
      "  0%|▏                                                                                 | 2/907 [00:00<00:57, 15.79it/s]"
     ]
    },
    {
     "name": "stdout",
     "output_type": "stream",
     "text": [
      "epoch 4 : 0.12786224468823137\n"
     ]
    },
    {
     "name": "stderr",
     "output_type": "stream",
     "text": [
      "100%|████████████████████████████████████████████████████████████████████████████████| 907/907 [01:02<00:00, 14.44it/s]\n",
      "  0%|▏                                                                                 | 2/907 [00:00<00:55, 16.30it/s]"
     ]
    },
    {
     "name": "stdout",
     "output_type": "stream",
     "text": [
      "epoch 5 : 0.12155147397107091\n"
     ]
    },
    {
     "name": "stderr",
     "output_type": "stream",
     "text": [
      "100%|████████████████████████████████████████████████████████████████████████████████| 907/907 [01:01<00:00, 14.87it/s]\n",
      "  0%|▏                                                                                 | 2/907 [00:00<00:55, 16.30it/s]"
     ]
    },
    {
     "name": "stdout",
     "output_type": "stream",
     "text": [
      "epoch 6 : 0.11617290838833513\n"
     ]
    },
    {
     "name": "stderr",
     "output_type": "stream",
     "text": [
      "100%|████████████████████████████████████████████████████████████████████████████████| 907/907 [01:01<00:00, 14.87it/s]\n",
      "  0%|▏                                                                                 | 2/907 [00:00<00:55, 16.17it/s]"
     ]
    },
    {
     "name": "stdout",
     "output_type": "stream",
     "text": [
      "epoch 7 : 0.11218528918562264\n"
     ]
    },
    {
     "name": "stderr",
     "output_type": "stream",
     "text": [
      "100%|████████████████████████████████████████████████████████████████████████████████| 907/907 [01:02<00:00, 14.58it/s]\n",
      "  0%|▏                                                                                 | 2/907 [00:00<00:57, 15.79it/s]"
     ]
    },
    {
     "name": "stdout",
     "output_type": "stream",
     "text": [
      "epoch 8 : 0.10831787346971446\n"
     ]
    },
    {
     "name": "stderr",
     "output_type": "stream",
     "text": [
      "100%|████████████████████████████████████████████████████████████████████████████████| 907/907 [01:02<00:00, 14.49it/s]\n",
      "  0%|▏                                                                                 | 2/907 [00:00<00:57, 15.67it/s]"
     ]
    },
    {
     "name": "stdout",
     "output_type": "stream",
     "text": [
      "epoch 9 : 0.10448978164278228\n"
     ]
    },
    {
     "name": "stderr",
     "output_type": "stream",
     "text": [
      "100%|████████████████████████████████████████████████████████████████████████████████| 907/907 [01:04<00:00, 14.00it/s]"
     ]
    },
    {
     "name": "stdout",
     "output_type": "stream",
     "text": [
      "epoch 10 : 0.10110897660255432\n"
     ]
    },
    {
     "name": "stderr",
     "output_type": "stream",
     "text": [
      "\n"
     ]
    }
   ],
   "source": [
    "model.train()\n",
    "training_loss = []\n",
    "for e in range(epoches):\n",
    "    running_loss = 0.0\n",
    "    \n",
    "    train_iter = Multi30k(split='train')\n",
    "    trainloader = DataLoader(train_iter, batch_size=32, collate_fn=collate_fn)\n",
    "    \n",
    "    for s,t in tqdm(trainloader):\n",
    "        text = s.cuda()\n",
    "        label = t.cuda()\n",
    "        \n",
    "        output = model(text,label)\n",
    "        \n",
    "        output = output[1:].view(-1, output.shape[-1])\n",
    "        label = label[1:].view(-1)\n",
    "        \n",
    "        optim.zero_grad()\n",
    "        loss = criterion(output,label)\n",
    "        loss.backward()\n",
    "        optim.step()\n",
    "        \n",
    "        running_loss += loss.item()\n",
    "    training_loss.append(running_loss/len(train))\n",
    "    print(f'epoch {e+1} : {running_loss/len(train)}')"
   ]
  },
  {
   "cell_type": "code",
   "execution_count": 126,
   "metadata": {},
   "outputs": [
    {
     "data": {
      "text/plain": [
       "[<matplotlib.lines.Line2D at 0x2588da78670>]"
      ]
     },
     "execution_count": 126,
     "metadata": {},
     "output_type": "execute_result"
    },
    {
     "data": {
      "image/png": "[encoded data removed]",
      "text/plain": [
       "<Figure size 432x288 with 1 Axes>"
      ]
     },
     "metadata": {
      "needs_background": "light"
     },
     "output_type": "display_data"
    }
   ],
   "source": [
    "plt.plot(training_loss)"
   ]
  },
  {
   "cell_type": "markdown",
   "metadata": {},
   "source": [
    "# Evaluate"
   ]
  },
  {
   "cell_type": "code",
   "execution_count": 22,
   "metadata": {},
   "outputs": [
    {
     "name": "stderr",
     "output_type": "stream",
     "text": [
      "100%|██████████████████████████████████████████████████████████████████████████████████| 32/32 [00:00<00:00, 34.81it/s]"
     ]
    },
    {
     "name": "stdout",
     "output_type": "stream",
     "text": [
      "loss: 0.14418118381500244\n",
      "perplexity: 1.155093373790749\n"
     ]
    },
    {
     "name": "stderr",
     "output_type": "stream",
     "text": [
      "\n"
     ]
    }
   ],
   "source": [
    "model.eval()\n",
    "running_loss = 0.0\n",
    "with torch.no_grad():\n",
    "    test_iter = Multi30k(split='test')\n",
    "    testloader = DataLoader(test_iter, batch_size=32, collate_fn=collate_fn)\n",
    "    \n",
    "    for s, t in tqdm(testloader):\n",
    "        text, label = s.cuda(), t.cuda()\n",
    "        \n",
    "        output = model(text, label, 0)\n",
    "        output = output[1:].view(-1, output.shape[-1])\n",
    "        label = label[1:].view(-1)\n",
    "        loss = criterion(output,label)\n",
    "        \n",
    "        running_loss += loss.item()\n",
    "    final_loss = running_loss/len(test_iter)\n",
    "print(f'loss: {final_loss}')\n",
    "print(f'perplexity: {math.exp(final_loss)}')"
   ]
  },
  {
   "cell_type": "markdown",
   "metadata": {},
   "source": [
    "# Translate"
   ]
  },
  {
   "cell_type": "code",
   "execution_count": 23,
   "metadata": {},
   "outputs": [
    {
     "name": "stdout",
     "output_type": "stream",
     "text": [
      "第1句\n",
      "Ein Mann mit einem orangefarbenen Hut, der etwas anstarrt.\n",
      "A man in a orange hat is eating something\n",
      "第4句\n",
      "Fünf Leute in Winterjacken und mit Helmen stehen im Schnee mit Schneemobilen im Hintergrund.\n",
      "Five people are standing in the background\n",
      "第5句\n",
      "Leute Reparieren das Dach eines Hauses.\n",
      "People are working on the roof of a building\n",
      "第7句\n",
      "Eine Gruppe von Menschen steht vor einem Iglu.\n",
      "A group of people standing outside a building\n",
      "第10句\n",
      "Ein Mann in einer Weste sitzt auf einem Stuhl und hält Magazine.\n",
      "A man in a chair\n",
      "第12句\n",
      "Männer, die Volleyball spielen, wobei ein Mann denn Ball nicht trifft während seine Hände immer noch in der Luft sind.\n",
      "Men in the air\n",
      "第13句\n",
      "Eine Frau, die in einer Küche eine Schale mit Essen hält.\n",
      "A woman holding a hand\n",
      "第15句\n",
      "Drei Leute sitzen in einer Höhle.\n",
      "Three people sit on a park\n",
      "第21句\n",
      "Leute, die vor einem Gebäude stehen.\n",
      "People standing in front of a building\n",
      "第24句\n",
      "Ein Mann steht bei einigen Spielautomaten in einer Bar.\n",
      "A man is standing at a\n",
      "第28句\n",
      "Eine Gruppe Asiatischer Jungen wartet am Grill darauf, dass Fleisch gar wird.\n",
      "A group of people\n",
      "第29句\n",
      "Frauen, die traditionelle Kleidung tragen, spielen das Leben Einheimischer nach.\n",
      "Women in the\n",
      "第30句\n",
      "Ein Mann drückt den Kopf eines anderen Mannes nach unten und will ihm ins Gesicht schlagen.\n",
      "A man is to him\n",
      "第31句\n",
      "Sechs Leute fahren Mountainbikes durch eine Dschungellandschaft.\n",
      "Several people are through a track\n",
      "第33句\n",
      "Ein Kind planscht im Wasser.\n",
      "A child is jumping in the water\n",
      "第36句\n",
      "Ein Angestellter reicht einer Frau auf einem Markt eine Tüte, während sie auf Eis gelegten Fisch begutachtet.\n",
      "A woman on a market\n",
      "第41句\n",
      "Ein Mädchen in einer Rettungsweste treibt im Wasser.\n",
      "A girl in a water\n",
      "第43句\n",
      "Leute sitzen in einem Zug.\n",
      "People sitting in a\n",
      "第48句\n",
      "Eine Vaterfigur und zwei Kinder machen vor ihrem Zuhause Gartenarbeit wie den Rasen mit einer Gartenhacke zu bearbeiten und einen Baum zu pflanzen.\n",
      "A child , with a large\n",
      "第52句\n",
      "Ein Wakeboarder macht einen Salto während er bei hoher Geschwindigkeit an einem Seil gezogen wird.\n",
      "A horse is a\n",
      "第53句\n",
      "Eine große Menschenmenge säumt eine Straße.\n",
      "A large group of people\n",
      "第54句\n",
      "Ein Mann an einem Halteseil geht ins Wasser.\n",
      "A man is a the water\n",
      "第59句\n",
      "Der Mann in der gelben Hose hebt seine Arme.\n",
      "The man in a white\n",
      "第60句\n",
      "Zwei Männer mit Hüten und Spazierstöcken schlendern neben einem Gewässer bei Sonnenuntergang.\n",
      "Two men are sitting next to a\n",
      "第61句\n",
      "Ein Cheerleaderteam macht eine Übung auf Stühlen.\n",
      "A guy is on a\n",
      "第63句\n",
      "Eine Gruppe Menschen, die sich in einem öffentlichen Park amüsieren wollen.\n",
      "A group of people are in a park\n",
      "第64句\n",
      "Ein Mann sitzt auf einer Bank während er seinen Hund hält und aufs Wasser blickt.\n",
      "A man sitting on the ground\n",
      "第65句\n",
      "Ein Junge und sein jüngerer Bruder spielen gemeinsam auf einem Spielplatz.\n",
      "A boy and a game\n",
      "第67句\n",
      "Der braune Hund steht auf dem Sandstrand.\n",
      "The brown and white dog is sitting on the ground\n",
      "第70句\n",
      "Eine Frau singt in einem Klub mit einem Gitarristen hinter ihr.\n",
      "A woman is her\n",
      "第72句\n",
      "Ein Kind sitzt auf einem Gartenstuhl und sieht zur Kamera auf\n",
      "A child sitting on the ground\n",
      "第74句\n",
      "Eine Musikantin mit einer Violine spielt auf der Straße während eine Frau mit einer blauen Gitarre zusieht.\n",
      "A woman playing the street\n",
      "第75句\n",
      "Ein junges Mädchen schwimmt in einem Pool\n",
      "A young girl in a pool\n",
      "第76句\n",
      "Mehrere Kinder sind im Freien und bereiten sich auf Tauziehen vor.\n",
      "Several children are in the area\n",
      "第77句\n",
      "Drei Teenager in einer U-Bahn albern herum.\n",
      "Three men are in a\n",
      "第78句\n",
      "Ein Brauner Hund läuft durchs Gras und seine Zunge hängt heraus.\n",
      "A black dog running through the grass\n",
      "第79句\n",
      "Leute sitzen vor einem Gebäude im Gras und machen Pause.\n",
      "People are sitting in front of a building\n",
      "第81句\n",
      "Zwei Jungen packen Obst auf das Fahrrad.\n",
      "Two boys are riding a the ground\n",
      "第84句\n",
      "Zwei Spielerinnen der US-Nationalmannschaft klatschen im Sprung ab, umgeben von zwei weiteren Spielerinnen.\n",
      "Two older woman , two other\n",
      "第85句\n",
      "Ein Mann rührt in einem Topf in seiner Küche.\n",
      "A man is in a kitchen\n",
      "第86句\n",
      "Ein Junge beim Wakeboarden auf dem See.\n",
      "A boy is the ocean\n",
      "第92句\n",
      "Der Mann im japanischen Kochgewand bereitet ein Essen für zwei Personen zu.\n",
      "The man in a picture\n",
      "第95句\n",
      "Ein älterer Mann breitet seine Arme aus und blickt verblüfft.\n",
      "An older man is cutting his\n",
      "第97句\n",
      "Drei Männer in gleichfarbigen Westen halten sich im Freien auf.\n",
      "Three men in a\n",
      "第99句\n",
      "Eine Gruppe überwiegend asiatischer Kinder sitzt in Kabinen verteilt auf blauen Stühlen.\n",
      "A group of people sitting on a table\n"
     ]
    }
   ],
   "source": [
    "MAX_LENGTH = 100\n",
    "\n",
    "model.eval()\n",
    "with torch.no_grad():\n",
    "    test_iter = Multi30k(split='test')\n",
    "    trg_vocab_size = len(vocab_transform[TRG_LANGUAGE])\n",
    "    \n",
    "    for i, (s, _) in enumerate(test_iter):\n",
    "        ori_text = s\n",
    "        s = text_transform[SRC_LANGUAGE](s.rstrip())\n",
    "        s = s.unsqueeze(1)\n",
    "        s = s.cuda()\n",
    "        \n",
    "        outputs = [BOS_IDX]\n",
    "        \n",
    "        h, c = model.encoder(s)\n",
    "        \n",
    "        for _ in range(MAX_LENGTH):\n",
    "            \n",
    "            input_seq = torch.LongTensor([outputs[-1]]).cuda()\n",
    "            \n",
    "            output, _, _ = model.decoder(input_seq, h, c)\n",
    "            \n",
    "            next_token = output.argmax(1).item()\n",
    "            outputs.append(next_token) \n",
    "            \n",
    "            if next_token == EOS_IDX: break\n",
    "        \n",
    "        if EOS_IDX in outputs:\n",
    "            translated = vocab_transform[TRG_LANGUAGE].lookup_tokens(outputs[1:-2])\n",
    "            print(f'第{i+1}句')\n",
    "            print(ori_text.rstrip())\n",
    "            print(*translated,sep=' ')\n",
    "        \n",
    "        if i==100: break"
   ]
  },
  {
   "cell_type": "markdown",
   "metadata": {},
   "source": [
    "# SL"
   ]
  },
  {
   "cell_type": "code",
   "execution_count": 160,
   "metadata": {},
   "outputs": [],
   "source": [
    "torch.save(model,'seq2seq.pth')"
   ]
  },
  {
   "cell_type": "code",
   "execution_count": 17,
   "metadata": {},
   "outputs": [],
   "source": [
    "model = torch.load('seq2seq.pth')"
   ]
  },
  {
   "cell_type": "code",
   "execution_count": null,
   "metadata": {},
   "outputs": [],
   "source": []
  }
 ],
 "metadata": {
  "kernelspec": {
   "display_name": "Python 3",
   "language": "python",
   "name": "python3"
  },
  "language_info": {
   "codemirror_mode": {
    "name": "ipython",
    "version": 3
   },
   "file_extension": ".py",
   "mimetype": "text/x-python",
   "name": "python",
   "nbconvert_exporter": "python",
   "pygments_lexer": "ipython3",
   "version": "3.8.8"
  }
 },
 "nbformat": 4,
 "nbformat_minor": 2
}
