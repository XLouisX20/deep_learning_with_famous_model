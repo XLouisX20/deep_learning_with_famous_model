{
 "cells": [
  {
   "cell_type": "code",
   "execution_count": 1,
   "metadata": {},
   "outputs": [],
   "source": [
    "import torch\n",
    "from torch import nn\n",
    "from torch.autograd import Variable\n",
    "import torchvision\n",
    "from torchvision import transforms\n",
    "\n",
    "\n",
    "from tqdm import tqdm\n",
    "import matplotlib.pyplot as plt\n",
    "import numpy as np"
   ]
  },
  {
   "cell_type": "code",
   "execution_count": 2,
   "metadata": {},
   "outputs": [],
   "source": [
    "trainset = torchvision.datasets.FashionMNIST(root='./data',train=True,transform=transforms.ToTensor(),download=True)"
   ]
  },
  {
   "cell_type": "code",
   "execution_count": 3,
   "metadata": {},
   "outputs": [],
   "source": [
    "trainloader = torch.utils.data.DataLoader(trainset,batch_size=32,shuffle=True,num_workers=4)"
   ]
  },
  {
   "cell_type": "code",
   "execution_count": 4,
   "metadata": {},
   "outputs": [
    {
     "data": {
      "text/plain": [
       "<matplotlib.image.AxesImage at 0x1ab4fdd79b0>"
      ]
     },
     "execution_count": 4,
     "metadata": {},
     "output_type": "execute_result"
    },
    {
     "data": {
      "image/png": "[encoded data removed]",
      "text/plain": [
       "<Figure size 432x288 with 1 Axes>"
      ]
     },
     "metadata": {},
     "output_type": "display_data"
    }
   ],
   "source": [
    "# 資料集繪圖\n",
    "img = np.rollaxis(trainset[0][0].numpy(),0,3)\n",
    "img = np.reshape(img,(28,28))\n",
    "plt.imshow(img,cmap='gray')"
   ]
  },
  {
   "cell_type": "code",
   "execution_count": 14,
   "metadata": {},
   "outputs": [],
   "source": [
    "def generate_gaussian_noise(latent_dim):\n",
    "    \n",
    "    noise = np.random.normal(0, 1, (img.shape[0], latent_dim))\n",
    "    noise = torch.from_numpy(noise).float().cuda()\n",
    "    \n",
    "    return noise"
   ]
  },
  {
   "cell_type": "code",
   "execution_count": 5,
   "metadata": {},
   "outputs": [],
   "source": [
    "class Generator_Network(nn.Module):\n",
    "    \n",
    "    def __init__(self, latent_dim = 128):\n",
    "        super(Generator_Network,self).__init__()\n",
    "        self.generator = nn.Sequential(\n",
    "            nn.Linear(latent_dim,256),\n",
    "            nn.Linear(256,512),\n",
    "            nn.Linear(512, 28*28),\n",
    "            nn.Tanh()\n",
    "        )\n",
    "        \n",
    "    def forward(self,x):\n",
    "        tmp = self.generator(x)\n",
    "        tmp = tmp.view(-1,1,28,28)\n",
    "        return tmp"
   ]
  },
  {
   "cell_type": "code",
   "execution_count": 6,
   "metadata": {},
   "outputs": [],
   "source": [
    "class Discriminator_Network(nn.Module):\n",
    "    \n",
    "    def __init__(self):\n",
    "        super(Discriminator_Network,self).__init__()\n",
    "        self.discriminator = nn.Sequential(\n",
    "            nn.Linear(28*28,512),\n",
    "            nn.Linear(512,256),\n",
    "            nn.Linear(256,1),\n",
    "            nn.Sigmoid()\n",
    "        )\n",
    "        \n",
    "    def forward(self,x):\n",
    "        tmp = x.view(-1,28*28)\n",
    "        tmp = self.discriminator(tmp)\n",
    "        return tmp"
   ]
  },
  {
   "cell_type": "code",
   "execution_count": 7,
   "metadata": {},
   "outputs": [],
   "source": [
    "gen = Generator_Network().cuda()\n",
    "dis = Discriminator_Network().cuda()"
   ]
  },
  {
   "cell_type": "code",
   "execution_count": 8,
   "metadata": {},
   "outputs": [],
   "source": [
    "criterion = nn.BCELoss()\n",
    "optim_G = torch.optim.Adam(gen.parameters())\n",
    "optim_D = torch.optim.Adam(dis.parameters())"
   ]
  },
  {
   "cell_type": "code",
   "execution_count": 9,
   "metadata": {},
   "outputs": [],
   "source": [
    "epoches = 20"
   ]
  },
  {
   "cell_type": "code",
   "execution_count": 18,
   "metadata": {},
   "outputs": [
    {
     "name": "stderr",
     "output_type": "stream",
     "text": [
      "100%|██████████████████████████████████████████████████████████████████████████████| 1875/1875 [00:29<00:00, 62.67it/s]\n",
      "  0%|                                                                                         | 0/1875 [00:00<?, ?it/s]"
     ]
    },
    {
     "name": "stdout",
     "output_type": "stream",
     "text": [
      "epoch 1: D:0.02101070263981819 G:0.026278423754374187\n"
     ]
    },
    {
     "name": "stderr",
     "output_type": "stream",
     "text": [
      "100%|██████████████████████████████████████████████████████████████████████████████| 1875/1875 [00:29<00:00, 63.38it/s]\n",
      "  0%|                                                                                         | 0/1875 [00:00<?, ?it/s]"
     ]
    },
    {
     "name": "stdout",
     "output_type": "stream",
     "text": [
      "epoch 2: D:0.019666342022518317 G:0.032344727823138235\n"
     ]
    },
    {
     "name": "stderr",
     "output_type": "stream",
     "text": [
      "100%|██████████████████████████████████████████████████████████████████████████████| 1875/1875 [00:29<00:00, 64.27it/s]\n",
      "  0%|                                                                                         | 0/1875 [00:00<?, ?it/s]"
     ]
    },
    {
     "name": "stdout",
     "output_type": "stream",
     "text": [
      "epoch 3: D:0.01965667751530806 G:0.03246094545324643\n"
     ]
    },
    {
     "name": "stderr",
     "output_type": "stream",
     "text": [
      "100%|██████████████████████████████████████████████████████████████████████████████| 1875/1875 [00:28<00:00, 64.73it/s]\n",
      "  0%|                                                                                         | 0/1875 [00:00<?, ?it/s]"
     ]
    },
    {
     "name": "stdout",
     "output_type": "stream",
     "text": [
      "epoch 4: D:0.020610454381505647 G:0.02817903505762418\n"
     ]
    },
    {
     "name": "stderr",
     "output_type": "stream",
     "text": [
      "100%|██████████████████████████████████████████████████████████████████████████████| 1875/1875 [00:29<00:00, 64.38it/s]\n",
      "  0%|                                                                                         | 0/1875 [00:00<?, ?it/s]"
     ]
    },
    {
     "name": "stdout",
     "output_type": "stream",
     "text": [
      "epoch 5: D:0.020065097644925117 G:0.030875287092725436\n"
     ]
    },
    {
     "name": "stderr",
     "output_type": "stream",
     "text": [
      "100%|██████████████████████████████████████████████████████████████████████████████| 1875/1875 [00:29<00:00, 64.49it/s]\n",
      "  0%|                                                                                         | 0/1875 [00:00<?, ?it/s]"
     ]
    },
    {
     "name": "stdout",
     "output_type": "stream",
     "text": [
      "epoch 6: D:0.019174469175438087 G:0.03528909263809522\n"
     ]
    },
    {
     "name": "stderr",
     "output_type": "stream",
     "text": [
      "100%|██████████████████████████████████████████████████████████████████████████████| 1875/1875 [00:29<00:00, 64.12it/s]\n",
      "  0%|                                                                                         | 0/1875 [00:00<?, ?it/s]"
     ]
    },
    {
     "name": "stdout",
     "output_type": "stream",
     "text": [
      "epoch 7: D:0.01952780907501777 G:0.03351663789351781\n"
     ]
    },
    {
     "name": "stderr",
     "output_type": "stream",
     "text": [
      "100%|██████████████████████████████████████████████████████████████████████████████| 1875/1875 [00:29<00:00, 64.13it/s]\n",
      "  0%|                                                                                         | 0/1875 [00:00<?, ?it/s]"
     ]
    },
    {
     "name": "stdout",
     "output_type": "stream",
     "text": [
      "epoch 8: D:0.019510055122276146 G:0.03342530138790607\n"
     ]
    },
    {
     "name": "stderr",
     "output_type": "stream",
     "text": [
      "100%|██████████████████████████████████████████████████████████████████████████████| 1875/1875 [00:29<00:00, 64.49it/s]\n",
      "  0%|                                                                                         | 0/1875 [00:00<?, ?it/s]"
     ]
    },
    {
     "name": "stdout",
     "output_type": "stream",
     "text": [
      "epoch 9: D:0.019066615451375644 G:0.03570423176685969\n"
     ]
    },
    {
     "name": "stderr",
     "output_type": "stream",
     "text": [
      "100%|██████████████████████████████████████████████████████████████████████████████| 1875/1875 [00:29<00:00, 64.58it/s]\n",
      "  0%|                                                                                         | 0/1875 [00:00<?, ?it/s]"
     ]
    },
    {
     "name": "stdout",
     "output_type": "stream",
     "text": [
      "epoch 10: D:0.01933467213412126 G:0.03399268913070361\n"
     ]
    },
    {
     "name": "stderr",
     "output_type": "stream",
     "text": [
      "100%|██████████████████████████████████████████████████████████████████████████████| 1875/1875 [00:28<00:00, 64.78it/s]\n",
      "  0%|                                                                                         | 0/1875 [00:00<?, ?it/s]"
     ]
    },
    {
     "name": "stdout",
     "output_type": "stream",
     "text": [
      "epoch 11: D:0.01955029067993164 G:0.03298694462974866\n"
     ]
    },
    {
     "name": "stderr",
     "output_type": "stream",
     "text": [
      "100%|██████████████████████████████████████████████████████████████████████████████| 1875/1875 [00:29<00:00, 64.01it/s]\n",
      "  0%|                                                                                         | 0/1875 [00:00<?, ?it/s]"
     ]
    },
    {
     "name": "stdout",
     "output_type": "stream",
     "text": [
      "epoch 12: D:0.019260746003190676 G:0.03433847393095493\n"
     ]
    },
    {
     "name": "stderr",
     "output_type": "stream",
     "text": [
      "100%|██████████████████████████████████████████████████████████████████████████████| 1875/1875 [00:29<00:00, 64.39it/s]\n",
      "  0%|                                                                                         | 0/1875 [00:00<?, ?it/s]"
     ]
    },
    {
     "name": "stdout",
     "output_type": "stream",
     "text": [
      "epoch 13: D:0.018527702124416828 G:0.038395718335111934\n"
     ]
    },
    {
     "name": "stderr",
     "output_type": "stream",
     "text": [
      "100%|██████████████████████████████████████████████████████████████████████████████| 1875/1875 [00:28<00:00, 64.72it/s]\n",
      "  0%|                                                                                         | 0/1875 [00:00<?, ?it/s]"
     ]
    },
    {
     "name": "stdout",
     "output_type": "stream",
     "text": [
      "epoch 14: D:0.019277837874988716 G:0.03451106878320376\n"
     ]
    },
    {
     "name": "stderr",
     "output_type": "stream",
     "text": [
      "100%|██████████████████████████████████████████████████████████████████████████████| 1875/1875 [00:29<00:00, 64.42it/s]\n",
      "  0%|                                                                                         | 0/1875 [00:00<?, ?it/s]"
     ]
    },
    {
     "name": "stdout",
     "output_type": "stream",
     "text": [
      "epoch 15: D:0.01925826146354278 G:0.03447588132123153\n"
     ]
    },
    {
     "name": "stderr",
     "output_type": "stream",
     "text": [
      "100%|██████████████████████████████████████████████████████████████████████████████| 1875/1875 [00:29<00:00, 64.37it/s]\n",
      "  0%|                                                                                         | 0/1875 [00:00<?, ?it/s]"
     ]
    },
    {
     "name": "stdout",
     "output_type": "stream",
     "text": [
      "epoch 16: D:0.01731383159905672 G:0.044645947759350144\n"
     ]
    },
    {
     "name": "stderr",
     "output_type": "stream",
     "text": [
      "100%|██████████████████████████████████████████████████████████████████████████████| 1875/1875 [00:29<00:00, 64.50it/s]\n",
      "  0%|                                                                                         | 0/1875 [00:00<?, ?it/s]"
     ]
    },
    {
     "name": "stdout",
     "output_type": "stream",
     "text": [
      "epoch 17: D:0.016888158691922825 G:0.047101357471942905\n"
     ]
    },
    {
     "name": "stderr",
     "output_type": "stream",
     "text": [
      "100%|██████████████████████████████████████████████████████████████████████████████| 1875/1875 [00:28<00:00, 64.70it/s]\n",
      "  0%|                                                                                         | 0/1875 [00:00<?, ?it/s]"
     ]
    },
    {
     "name": "stdout",
     "output_type": "stream",
     "text": [
      "epoch 18: D:0.01721433260589838 G:0.044755439829826354\n"
     ]
    },
    {
     "name": "stderr",
     "output_type": "stream",
     "text": [
      "100%|██████████████████████████████████████████████████████████████████████████████| 1875/1875 [00:29<00:00, 63.05it/s]\n",
      "  0%|                                                                                         | 0/1875 [00:00<?, ?it/s]"
     ]
    },
    {
     "name": "stdout",
     "output_type": "stream",
     "text": [
      "epoch 19: D:0.018746576725443203 G:0.037260319781303404\n"
     ]
    },
    {
     "name": "stderr",
     "output_type": "stream",
     "text": [
      "100%|██████████████████████████████████████████████████████████████████████████████| 1875/1875 [00:29<00:00, 64.53it/s]"
     ]
    },
    {
     "name": "stdout",
     "output_type": "stream",
     "text": [
      "epoch 20: D:0.01907158818443616 G:0.03581943595906099\n"
     ]
    },
    {
     "name": "stderr",
     "output_type": "stream",
     "text": [
      "\n"
     ]
    }
   ],
   "source": [
    "gen.train()\n",
    "dis.train()\n",
    "for e in range(epoches):\n",
    "    running_loss_G = 0.0\n",
    "    running_loss_D = 0.0\n",
    "    for data in tqdm(trainloader):\n",
    "        img, label = data\n",
    "        img = img.cuda()\n",
    "\n",
    "        valid = torch.ones(img.size(0), 1).cuda()\n",
    "        fake = torch.zeros(img.size(0), 1).cuda()\n",
    "        \n",
    "        noise = generate_gaussian_noise(128)\n",
    "        \n",
    "        optim_G.zero_grad()\n",
    "        gen_img = gen(noise)\n",
    "        g_loss = criterion(dis(gen_img), valid)\n",
    "        g_loss.backward()\n",
    "        optim_G.step()\n",
    "        running_loss_G+=g_loss.item()\n",
    "\n",
    "        optim_D.zero_grad()\n",
    "        real_loss = criterion(dis(img), valid)\n",
    "        fake_loss = criterion(dis(gen_img.detach()), fake)\n",
    "        d_loss = (real_loss + fake_loss) / 2\n",
    "        d_loss.backward()\n",
    "        optim_D.step()\n",
    "        running_loss_D+=d_loss.item()\n",
    "        \n",
    "    print(f'epoch {e+1}: D:{running_loss_D/len(trainset)} G:{running_loss_G/len(trainset)}')"
   ]
  },
  {
   "cell_type": "code",
   "execution_count": 20,
   "metadata": {},
   "outputs": [
    {
     "name": "stdout",
     "output_type": "stream",
     "text": [
      "0.6747552283922831\n"
     ]
    }
   ],
   "source": [
    "# 區別是否為真實圖片\n",
    "with torch.no_grad():\n",
    "    gen.eval()\n",
    "    dis.eval()\n",
    "    hits = 0.0\n",
    "    for data in trainloader:\n",
    "        img, label = data\n",
    "        img = img.cuda()\n",
    "        \n",
    "        hits+=dis(img).sum().item()\n",
    "    print(hits/len(trainset))"
   ]
  },
  {
   "cell_type": "code",
   "execution_count": 21,
   "metadata": {},
   "outputs": [
    {
     "name": "stdout",
     "output_type": "stream",
     "text": [
      "0.5077804422219594\n"
     ]
    }
   ],
   "source": [
    "# 區別是否為合成圖片\n",
    "with torch.no_grad():\n",
    "    gen.eval()\n",
    "    dis.eval()\n",
    "    hits = 0.0\n",
    "    for data in trainloader:\n",
    "        img, label = data\n",
    "        noise = np.random.normal(0,1,(32,128))\n",
    "        noise = torch.from_numpy(noise).float().cuda()\n",
    "        \n",
    "        gen_img = gen(noise)\n",
    "        hits+=dis(gen_img).sum().item()\n",
    "    print(hits/len(trainset))"
   ]
  },
  {
   "cell_type": "code",
   "execution_count": 19,
   "metadata": {},
   "outputs": [
    {
     "data": {
      "image/png": "[encoded data removed]",
      "text/plain": [
       "<Figure size 432x288 with 9 Axes>"
      ]
     },
     "metadata": {},
     "output_type": "display_data"
    }
   ],
   "source": [
    "# 合成圖片\n",
    "for i in range(3):\n",
    "    for j in range(3):\n",
    "        with torch.no_grad():\n",
    "            gen.eval()\n",
    "            noise = generate_gaussian_noise(128)\n",
    "\n",
    "            gen_img = gen(noise).detach().cpu().numpy()\n",
    "            gen_img = np.rollaxis(gen_img[0],0,3)\n",
    "            gen_img = np.reshape(gen_img,(28,28))\n",
    "            \n",
    "            plt.subplot(3,3,1+i*3+j)\n",
    "            plt.imshow(gen_img,cmap='gray')"
   ]
  },
  {
   "cell_type": "code",
   "execution_count": 13,
   "metadata": {},
   "outputs": [],
   "source": [
    "torch.save(gen.state_dict(),'gan.pth')"
   ]
  },
  {
   "cell_type": "code",
   "execution_count": null,
   "metadata": {},
   "outputs": [],
   "source": []
  }
 ],
 "metadata": {
  "kernelspec": {
   "display_name": "Python 3",
   "language": "python",
   "name": "python3"
  },
  "language_info": {
   "codemirror_mode": {
    "name": "ipython",
    "version": 3
   },
   "file_extension": ".py",
   "mimetype": "text/x-python",
   "name": "python",
   "nbconvert_exporter": "python",
   "pygments_lexer": "ipython3",
   "version": "3.6.5"
  }
 },
 "nbformat": 4,
 "nbformat_minor": 2
}
