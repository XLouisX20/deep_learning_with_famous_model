{
 "cells": [
  {
   "cell_type": "code",
   "execution_count": 59,
   "metadata": {},
   "outputs": [],
   "source": [
    "import torch \n",
    "import torchinfo\n",
    "import torchvision\n",
    "from torch import nn\n",
    "from torchvision import transforms\n",
    "from torch.utils.data import Dataset, DataLoader\n",
    "\n",
    "import os\n",
    "import string\n",
    "import Levenshtein\n",
    "from time import time\n",
    "from PIL import Image\n",
    "from glob import glob\n",
    "from tqdm import tqdm\n",
    "import matplotlib.pyplot as plt\n",
    "\n",
    "from spellchecker import SpellChecker\n",
    "from trdg.generators import GeneratorFromWikipedia"
   ]
  },
  {
   "cell_type": "markdown",
   "metadata": {},
   "source": [
    "# generate synthetic data"
   ]
  },
  {
   "cell_type": "code",
   "execution_count": 51,
   "metadata": {},
   "outputs": [],
   "source": [
    "generator = GeneratorFromWikipedia()"
   ]
  },
  {
   "cell_type": "code",
   "execution_count": null,
   "metadata": {},
   "outputs": [],
   "source": [
    "for index, (img, label) in enumerate(generator):\n",
    "    img.save(f'data/{label}.png')\n",
    "    if index > 1000:\n",
    "        break"
   ]
  },
  {
   "cell_type": "markdown",
   "metadata": {},
   "source": [
    "# data"
   ]
  },
  {
   "cell_type": "code",
   "execution_count": 20,
   "metadata": {},
   "outputs": [],
   "source": [
    "ascii_table = {s:i+1 for i,s in enumerate(string.printable)}\n",
    "ascii_table['😀'] = 0"
   ]
  },
  {
   "cell_type": "code",
   "execution_count": 21,
   "metadata": {},
   "outputs": [],
   "source": [
    "class OCR(Dataset):\n",
    "    \n",
    "    def __init__(self,root,transform=None):\n",
    "        self.images = glob(os.path.join(root,'*.png'))\n",
    "        self.transform = transform\n",
    "        \n",
    "    def __len__(self):\n",
    "        return len(self.images)\n",
    "    \n",
    "    def __getitem__(self,idx):\n",
    "        image = Image.open(self.images[idx])\n",
    "        label = os.path.basename(self.images[idx]).replace('.png','')\n",
    "        \n",
    "        image = transforms.ToTensor()(image)\n",
    "        label = torch.Tensor([ascii_table.get(s,0) for s in label]).long()\n",
    "        return image, label"
   ]
  },
  {
   "cell_type": "code",
   "execution_count": 22,
   "metadata": {},
   "outputs": [],
   "source": [
    "dataset = OCR('./data')"
   ]
  },
  {
   "cell_type": "code",
   "execution_count": 26,
   "metadata": {},
   "outputs": [],
   "source": [
    "# dataloader = DataLoader(dataset,batch_size=1)"
   ]
  },
  {
   "cell_type": "markdown",
   "metadata": {},
   "source": [
    "# model"
   ]
  },
  {
   "cell_type": "code",
   "execution_count": 23,
   "metadata": {},
   "outputs": [],
   "source": [
    "class convblock(nn.Module):\n",
    "    def __init__(self, in_c:int, out_c:int, k:int, s:int, p:int, bn:bool=False):\n",
    "        super(convblock,self).__init__()        \n",
    "        self.conv = nn.Conv2d(in_c, out_c, k, s, p)\n",
    "        self.bn = nn.BatchNorm2d(out_c) if bn else bn\n",
    "        self.relu = nn.ReLU(True)\n",
    "            \n",
    "    def forward(self,x):\n",
    "        x = self.conv(x)\n",
    "        if self.bn: x = self.bn(x)\n",
    "        x = self.relu(x)\n",
    "        \n",
    "        return x"
   ]
  },
  {
   "cell_type": "code",
   "execution_count": 24,
   "metadata": {},
   "outputs": [],
   "source": [
    "class recurrnetblock(nn.Module):\n",
    "    def __init__(self, in_dim:int, hid_dim:int, out_dim:int):\n",
    "        super(recurrnetblock,self).__init__()        \n",
    "        self.hid_dim = hid_dim\n",
    "        self.out_dim = out_dim\n",
    "        self.rnn = nn.LSTM(in_dim, hid_dim, bidirectional=True)\n",
    "        self.embedding = nn.Linear(hid_dim * 2, out_dim)\n",
    "            \n",
    "    def forward(self,x):\n",
    "        o, _ = self.rnn(x)\n",
    "        t, b, h = o.shape\n",
    "        o = o.view(t * b, h)\n",
    "        o = self.embedding(o)\n",
    "        o = o.view(t, b, self.out_dim)\n",
    "        \n",
    "        return o"
   ]
  },
  {
   "cell_type": "code",
   "execution_count": 25,
   "metadata": {},
   "outputs": [],
   "source": [
    "class crnn(nn.Module):\n",
    "    \n",
    "    def __init__(self, in_dim:int, hid_dim:int, nclass:int):\n",
    "        super(crnn,self).__init__()        \n",
    "\n",
    "        self.cnn = nn.Sequential(\n",
    "            convblock(3,64,3,1,1), # B, 64, H, W\n",
    "            nn.MaxPool2d(2,2), # B, 64, H//2, W//2\n",
    "            convblock(64,128,3,1,1), # B, 128, H//2, W//2\n",
    "            nn.MaxPool2d(2,2), # B, 128, H//4, W//4\n",
    "            convblock(128,256,3,1,1,True), # B, 256, H//4, W//4\n",
    "            convblock(256,256,3,1,1), \n",
    "            nn.MaxPool2d((2,2), (2,1), (0,1)), # B, 256, H//8, W//4\n",
    "            convblock(256,512,3,1,1,True), # B, 512, H//8, W//4\n",
    "            convblock(512,512,3,1,1),\n",
    "            nn.MaxPool2d((2,2), (2,1), (0,1)), # B, 512, H//16, W//4\n",
    "            convblock(512,512,2,1,0,True) # B, 512, H//16-1, W//4-1\n",
    "        )\n",
    "        \n",
    "        self.rnn = nn.Sequential(\n",
    "            recurrnetblock(512, hid_dim, hid_dim),\n",
    "            recurrnetblock(hid_dim, hid_dim, nclass)\n",
    "        )\n",
    "    \n",
    "    def cnn_debug(self,x):\n",
    "        for i in self.cnn:\n",
    "            x = i(x)\n",
    "            print(x.shape)\n",
    "    \n",
    "    def forward(self,x):        \n",
    "        x = self.cnn(x)\n",
    "        b, c, h, w = x.shape\n",
    "        assert h == 1, \"the height of conv must be 1\"\n",
    "        x = x.squeeze(2).permute(2, 0, 1) # w, b, c\n",
    "        o = self.rnn(x)\n",
    "        \n",
    "        return o"
   ]
  },
  {
   "cell_type": "code",
   "execution_count": 9,
   "metadata": {},
   "outputs": [
    {
     "data": {
      "text/plain": [
       "=================================================================\n",
       "Layer (type:depth-idx)                   Param #\n",
       "=================================================================\n",
       "crnn                                     --\n",
       "├─Sequential: 1-1                        --\n",
       "│    └─convblock: 2-1                    --\n",
       "│    │    └─Conv2d: 3-1                  1,792\n",
       "│    │    └─ReLU: 3-2                    --\n",
       "│    └─MaxPool2d: 2-2                    --\n",
       "│    └─convblock: 2-3                    --\n",
       "│    │    └─Conv2d: 3-3                  73,856\n",
       "│    │    └─ReLU: 3-4                    --\n",
       "│    └─MaxPool2d: 2-4                    --\n",
       "│    └─convblock: 2-5                    --\n",
       "│    │    └─Conv2d: 3-5                  295,168\n",
       "│    │    └─BatchNorm2d: 3-6             512\n",
       "│    │    └─ReLU: 3-7                    --\n",
       "│    └─convblock: 2-6                    --\n",
       "│    │    └─Conv2d: 3-8                  590,080\n",
       "│    │    └─ReLU: 3-9                    --\n",
       "│    └─MaxPool2d: 2-7                    --\n",
       "│    └─convblock: 2-8                    --\n",
       "│    │    └─Conv2d: 3-10                 1,180,160\n",
       "│    │    └─BatchNorm2d: 3-11            1,024\n",
       "│    │    └─ReLU: 3-12                   --\n",
       "│    └─convblock: 2-9                    --\n",
       "│    │    └─Conv2d: 3-13                 2,359,808\n",
       "│    │    └─ReLU: 3-14                   --\n",
       "│    └─MaxPool2d: 2-10                   --\n",
       "│    └─convblock: 2-11                   --\n",
       "│    │    └─Conv2d: 3-15                 1,049,088\n",
       "│    │    └─BatchNorm2d: 3-16            1,024\n",
       "│    │    └─ReLU: 3-17                   --\n",
       "├─Sequential: 1-2                        --\n",
       "│    └─recurrnetblock: 2-12              --\n",
       "│    │    └─LSTM: 3-18                   657,408\n",
       "│    │    └─Linear: 3-19                 32,896\n",
       "│    └─recurrnetblock: 2-13              --\n",
       "│    │    └─LSTM: 3-20                   264,192\n",
       "│    │    └─Linear: 3-21                 25,957\n",
       "=================================================================\n",
       "Total params: 6,532,965\n",
       "Trainable params: 6,532,965\n",
       "Non-trainable params: 0\n",
       "================================================================="
      ]
     },
     "execution_count": 9,
     "metadata": {},
     "output_type": "execute_result"
    }
   ],
   "source": [
    "torchinfo.summary(crnn(3,128,len(ascii_table)))"
   ]
  },
  {
   "cell_type": "code",
   "execution_count": 10,
   "metadata": {},
   "outputs": [
    {
     "data": {
      "text/plain": [
       "torch.Size([425, 1, 101])"
      ]
     },
     "execution_count": 10,
     "metadata": {},
     "output_type": "execute_result"
    }
   ],
   "source": [
    "crnn(3,128,len(ascii_table))(torch.randn(1,3,32,1698)).shape"
   ]
  },
  {
   "cell_type": "markdown",
   "metadata": {},
   "source": [
    "# setting"
   ]
  },
  {
   "cell_type": "code",
   "execution_count": 26,
   "metadata": {},
   "outputs": [],
   "source": [
    "device = 'cuda:0'"
   ]
  },
  {
   "cell_type": "code",
   "execution_count": 27,
   "metadata": {},
   "outputs": [],
   "source": [
    "model = crnn(3,128,len(ascii_table)).to(device)"
   ]
  },
  {
   "cell_type": "code",
   "execution_count": 28,
   "metadata": {},
   "outputs": [],
   "source": [
    "criterion = nn.CTCLoss(blank=ascii_table['😀'])\n",
    "optim = torch.optim.Adam(model.parameters())"
   ]
  },
  {
   "cell_type": "markdown",
   "metadata": {},
   "source": [
    "# training"
   ]
  },
  {
   "cell_type": "code",
   "execution_count": 29,
   "metadata": {},
   "outputs": [],
   "source": [
    "epoch = 30"
   ]
  },
  {
   "cell_type": "code",
   "execution_count": 30,
   "metadata": {},
   "outputs": [
    {
     "name": "stderr",
     "output_type": "stream",
     "text": [
      "100%|████████████████████████████████████████████████████████████████████████████████| 918/918 [00:29<00:00, 30.99it/s]\n",
      "  0%|▏                                                                                 | 2/918 [00:00<01:02, 14.64it/s]"
     ]
    },
    {
     "name": "stdout",
     "output_type": "stream",
     "text": [
      "epoch 1:  3.125126445475227\n"
     ]
    },
    {
     "name": "stderr",
     "output_type": "stream",
     "text": [
      "100%|████████████████████████████████████████████████████████████████████████████████| 918/918 [00:28<00:00, 31.66it/s]\n",
      "  0%|▏                                                                                 | 2/918 [00:00<01:00, 15.08it/s]"
     ]
    },
    {
     "name": "stdout",
     "output_type": "stream",
     "text": [
      "epoch 2:  2.5315221918823934\n"
     ]
    },
    {
     "name": "stderr",
     "output_type": "stream",
     "text": [
      "100%|████████████████████████████████████████████████████████████████████████████████| 918/918 [00:28<00:00, 31.89it/s]\n",
      "  0%|▏                                                                                 | 2/918 [00:00<01:01, 14.85it/s]"
     ]
    },
    {
     "name": "stdout",
     "output_type": "stream",
     "text": [
      "epoch 3:  1.9855604416534531\n"
     ]
    },
    {
     "name": "stderr",
     "output_type": "stream",
     "text": [
      "100%|████████████████████████████████████████████████████████████████████████████████| 918/918 [00:28<00:00, 31.83it/s]\n",
      "  0%|▏                                                                                 | 2/918 [00:00<01:01, 14.85it/s]"
     ]
    },
    {
     "name": "stdout",
     "output_type": "stream",
     "text": [
      "epoch 4:  1.4294446383101749\n"
     ]
    },
    {
     "name": "stderr",
     "output_type": "stream",
     "text": [
      "100%|████████████████████████████████████████████████████████████████████████████████| 918/918 [00:28<00:00, 31.77it/s]\n",
      "  0%|▏                                                                                 | 2/918 [00:00<01:01, 14.85it/s]"
     ]
    },
    {
     "name": "stdout",
     "output_type": "stream",
     "text": [
      "epoch 5:  1.0262338225537007\n"
     ]
    },
    {
     "name": "stderr",
     "output_type": "stream",
     "text": [
      "100%|████████████████████████████████████████████████████████████████████████████████| 918/918 [00:29<00:00, 31.61it/s]\n",
      "  0%|▏                                                                                 | 2/918 [00:00<01:03, 14.53it/s]"
     ]
    },
    {
     "name": "stdout",
     "output_type": "stream",
     "text": [
      "epoch 6:  0.7443176372999362\n"
     ]
    },
    {
     "name": "stderr",
     "output_type": "stream",
     "text": [
      "100%|████████████████████████████████████████████████████████████████████████████████| 918/918 [00:29<00:00, 31.32it/s]\n",
      "  0%|▏                                                                                 | 2/918 [00:00<01:03, 14.53it/s]"
     ]
    },
    {
     "name": "stdout",
     "output_type": "stream",
     "text": [
      "epoch 7:  0.5489569164747636\n"
     ]
    },
    {
     "name": "stderr",
     "output_type": "stream",
     "text": [
      "100%|████████████████████████████████████████████████████████████████████████████████| 918/918 [00:28<00:00, 31.72it/s]\n",
      "  0%|▏                                                                                 | 2/918 [00:00<01:02, 14.75it/s]"
     ]
    },
    {
     "name": "stdout",
     "output_type": "stream",
     "text": [
      "epoch 8:  0.41111228476158773\n"
     ]
    },
    {
     "name": "stderr",
     "output_type": "stream",
     "text": [
      "100%|████████████████████████████████████████████████████████████████████████████████| 918/918 [00:28<00:00, 31.84it/s]\n",
      "  0%|▏                                                                                 | 2/918 [00:00<01:03, 14.43it/s]"
     ]
    },
    {
     "name": "stdout",
     "output_type": "stream",
     "text": [
      "epoch 9:  0.32632873521829614\n"
     ]
    },
    {
     "name": "stderr",
     "output_type": "stream",
     "text": [
      "100%|████████████████████████████████████████████████████████████████████████████████| 918/918 [00:28<00:00, 31.80it/s]\n",
      "  0%|▏                                                                                 | 2/918 [00:00<01:03, 14.32it/s]"
     ]
    },
    {
     "name": "stdout",
     "output_type": "stream",
     "text": [
      "epoch 10:  0.2717337980044677\n"
     ]
    },
    {
     "name": "stderr",
     "output_type": "stream",
     "text": [
      "100%|████████████████████████████████████████████████████████████████████████████████| 918/918 [00:28<00:00, 31.82it/s]\n",
      "  0%|▏                                                                                 | 2/918 [00:00<01:03, 14.43it/s]"
     ]
    },
    {
     "name": "stdout",
     "output_type": "stream",
     "text": [
      "epoch 11:  0.2270297699598778\n"
     ]
    },
    {
     "name": "stderr",
     "output_type": "stream",
     "text": [
      "100%|████████████████████████████████████████████████████████████████████████████████| 918/918 [00:28<00:00, 31.81it/s]\n",
      "  0%|▏                                                                                 | 2/918 [00:00<01:02, 14.64it/s]"
     ]
    },
    {
     "name": "stdout",
     "output_type": "stream",
     "text": [
      "epoch 12:  0.19317978477609712\n"
     ]
    },
    {
     "name": "stderr",
     "output_type": "stream",
     "text": [
      "100%|████████████████████████████████████████████████████████████████████████████████| 918/918 [00:29<00:00, 31.65it/s]\n",
      "  0%|▏                                                                                 | 2/918 [00:00<01:03, 14.43it/s]"
     ]
    },
    {
     "name": "stdout",
     "output_type": "stream",
     "text": [
      "epoch 13:  0.15451798607287867\n"
     ]
    },
    {
     "name": "stderr",
     "output_type": "stream",
     "text": [
      "100%|████████████████████████████████████████████████████████████████████████████████| 918/918 [00:29<00:00, 31.65it/s]\n",
      "  0%|▏                                                                                 | 2/918 [00:00<01:02, 14.64it/s]"
     ]
    },
    {
     "name": "stdout",
     "output_type": "stream",
     "text": [
      "epoch 14:  0.13136563588845318\n"
     ]
    },
    {
     "name": "stderr",
     "output_type": "stream",
     "text": [
      "100%|████████████████████████████████████████████████████████████████████████████████| 918/918 [00:29<00:00, 31.57it/s]\n",
      "  0%|▏                                                                                 | 2/918 [00:00<01:03, 14.53it/s]"
     ]
    },
    {
     "name": "stdout",
     "output_type": "stream",
     "text": [
      "epoch 15:  0.13707988052428569\n"
     ]
    },
    {
     "name": "stderr",
     "output_type": "stream",
     "text": [
      "100%|████████████████████████████████████████████████████████████████████████████████| 918/918 [00:29<00:00, 30.96it/s]\n",
      "  0%|▏                                                                                 | 2/918 [00:00<01:03, 14.32it/s]"
     ]
    },
    {
     "name": "stdout",
     "output_type": "stream",
     "text": [
      "epoch 16:  0.11872751936788238\n"
     ]
    },
    {
     "name": "stderr",
     "output_type": "stream",
     "text": [
      "100%|████████████████████████████████████████████████████████████████████████████████| 918/918 [00:29<00:00, 30.83it/s]\n",
      "  0%|▏                                                                                 | 2/918 [00:00<01:02, 14.64it/s]"
     ]
    },
    {
     "name": "stdout",
     "output_type": "stream",
     "text": [
      "epoch 17:  0.10086941782474895\n"
     ]
    },
    {
     "name": "stderr",
     "output_type": "stream",
     "text": [
      "100%|████████████████████████████████████████████████████████████████████████████████| 918/918 [00:29<00:00, 31.60it/s]\n",
      "  0%|▏                                                                                 | 2/918 [00:00<01:03, 14.53it/s]"
     ]
    },
    {
     "name": "stdout",
     "output_type": "stream",
     "text": [
      "epoch 18:  0.09805365152312605\n"
     ]
    },
    {
     "name": "stderr",
     "output_type": "stream",
     "text": [
      "100%|████████████████████████████████████████████████████████████████████████████████| 918/918 [00:29<00:00, 31.03it/s]\n",
      "  0%|▏                                                                                 | 2/918 [00:00<01:03, 14.53it/s]"
     ]
    },
    {
     "name": "stdout",
     "output_type": "stream",
     "text": [
      "epoch 19:  0.07544749220381725\n"
     ]
    },
    {
     "name": "stderr",
     "output_type": "stream",
     "text": [
      "100%|████████████████████████████████████████████████████████████████████████████████| 918/918 [00:29<00:00, 31.63it/s]\n",
      "  0%|▏                                                                                 | 2/918 [00:00<01:03, 14.53it/s]"
     ]
    },
    {
     "name": "stdout",
     "output_type": "stream",
     "text": [
      "epoch 20:  0.09734940687761326\n"
     ]
    },
    {
     "name": "stderr",
     "output_type": "stream",
     "text": [
      "100%|████████████████████████████████████████████████████████████████████████████████| 918/918 [00:29<00:00, 31.18it/s]\n",
      "  0%|▏                                                                                 | 2/918 [00:00<01:02, 14.64it/s]"
     ]
    },
    {
     "name": "stdout",
     "output_type": "stream",
     "text": [
      "epoch 21:  0.07209924387457438\n"
     ]
    },
    {
     "name": "stderr",
     "output_type": "stream",
     "text": [
      "100%|████████████████████████████████████████████████████████████████████████████████| 918/918 [00:29<00:00, 30.64it/s]\n",
      "  0%|▏                                                                                 | 2/918 [00:00<01:07, 13.55it/s]"
     ]
    },
    {
     "name": "stdout",
     "output_type": "stream",
     "text": [
      "epoch 22:  0.05505466786263184\n"
     ]
    },
    {
     "name": "stderr",
     "output_type": "stream",
     "text": [
      "100%|████████████████████████████████████████████████████████████████████████████████| 918/918 [00:29<00:00, 30.69it/s]\n",
      "  0%|▏                                                                                 | 2/918 [00:00<01:09, 13.11it/s]"
     ]
    },
    {
     "name": "stdout",
     "output_type": "stream",
     "text": [
      "epoch 23:  0.07929186493365428\n"
     ]
    },
    {
     "name": "stderr",
     "output_type": "stream",
     "text": [
      "100%|████████████████████████████████████████████████████████████████████████████████| 918/918 [00:29<00:00, 31.03it/s]\n",
      "  0%|▏                                                                                 | 2/918 [00:00<01:01, 14.85it/s]"
     ]
    },
    {
     "name": "stdout",
     "output_type": "stream",
     "text": [
      "epoch 24:  0.06629613729904346\n"
     ]
    },
    {
     "name": "stderr",
     "output_type": "stream",
     "text": [
      "100%|████████████████████████████████████████████████████████████████████████████████| 918/918 [00:30<00:00, 30.52it/s]\n",
      "  0%|▏                                                                                 | 2/918 [00:00<01:03, 14.43it/s]"
     ]
    },
    {
     "name": "stdout",
     "output_type": "stream",
     "text": [
      "epoch 25:  0.05244064886449615\n"
     ]
    },
    {
     "name": "stderr",
     "output_type": "stream",
     "text": [
      "100%|████████████████████████████████████████████████████████████████████████████████| 918/918 [00:29<00:00, 31.29it/s]\n",
      "  0%|▏                                                                                 | 2/918 [00:00<01:02, 14.64it/s]"
     ]
    },
    {
     "name": "stdout",
     "output_type": "stream",
     "text": [
      "epoch 26:  0.07472635616980415\n"
     ]
    },
    {
     "name": "stderr",
     "output_type": "stream",
     "text": [
      " 68%|███████████████████████████████████████████████████▌                        | 623/918 [8:00:19<3:47:26, 46.26s/it]\n"
     ]
    },
    {
     "ename": "KeyboardInterrupt",
     "evalue": "",
     "output_type": "error",
     "traceback": [
      "\u001b[1;31m---------------------------------------------------------------------------\u001b[0m",
      "\u001b[1;31mKeyboardInterrupt\u001b[0m                         Traceback (most recent call last)",
      "\u001b[1;32m<ipython-input-30-01f434a768ae>\u001b[0m in \u001b[0;36m<module>\u001b[1;34m\u001b[0m\n\u001b[0;32m     16\u001b[0m         \u001b[0mloss\u001b[0m\u001b[1;33m.\u001b[0m\u001b[0mbackward\u001b[0m\u001b[1;33m(\u001b[0m\u001b[1;33m)\u001b[0m\u001b[1;33m\u001b[0m\u001b[1;33m\u001b[0m\u001b[0m\n\u001b[0;32m     17\u001b[0m \u001b[1;33m\u001b[0m\u001b[0m\n\u001b[1;32m---> 18\u001b[1;33m         \u001b[0moptim\u001b[0m\u001b[1;33m.\u001b[0m\u001b[0mstep\u001b[0m\u001b[1;33m(\u001b[0m\u001b[1;33m)\u001b[0m\u001b[1;33m\u001b[0m\u001b[1;33m\u001b[0m\u001b[0m\n\u001b[0m\u001b[0;32m     19\u001b[0m         \u001b[0moptim\u001b[0m\u001b[1;33m.\u001b[0m\u001b[0mzero_grad\u001b[0m\u001b[1;33m(\u001b[0m\u001b[1;33m)\u001b[0m\u001b[1;33m\u001b[0m\u001b[1;33m\u001b[0m\u001b[0m\n\u001b[0;32m     20\u001b[0m \u001b[1;33m\u001b[0m\u001b[0m\n",
      "\u001b[1;32m~\\anaconda3\\lib\\site-packages\\torch\\optim\\optimizer.py\u001b[0m in \u001b[0;36mwrapper\u001b[1;34m(*args, **kwargs)\u001b[0m\n\u001b[0;32m     86\u001b[0m                 \u001b[0mprofile_name\u001b[0m \u001b[1;33m=\u001b[0m \u001b[1;34m\"Optimizer.step#{}.step\"\u001b[0m\u001b[1;33m.\u001b[0m\u001b[0mformat\u001b[0m\u001b[1;33m(\u001b[0m\u001b[0mobj\u001b[0m\u001b[1;33m.\u001b[0m\u001b[0m__class__\u001b[0m\u001b[1;33m.\u001b[0m\u001b[0m__name__\u001b[0m\u001b[1;33m)\u001b[0m\u001b[1;33m\u001b[0m\u001b[1;33m\u001b[0m\u001b[0m\n\u001b[0;32m     87\u001b[0m                 \u001b[1;32mwith\u001b[0m \u001b[0mtorch\u001b[0m\u001b[1;33m.\u001b[0m\u001b[0mautograd\u001b[0m\u001b[1;33m.\u001b[0m\u001b[0mprofiler\u001b[0m\u001b[1;33m.\u001b[0m\u001b[0mrecord_function\u001b[0m\u001b[1;33m(\u001b[0m\u001b[0mprofile_name\u001b[0m\u001b[1;33m)\u001b[0m\u001b[1;33m:\u001b[0m\u001b[1;33m\u001b[0m\u001b[1;33m\u001b[0m\u001b[0m\n\u001b[1;32m---> 88\u001b[1;33m                     \u001b[1;32mreturn\u001b[0m \u001b[0mfunc\u001b[0m\u001b[1;33m(\u001b[0m\u001b[1;33m*\u001b[0m\u001b[0margs\u001b[0m\u001b[1;33m,\u001b[0m \u001b[1;33m**\u001b[0m\u001b[0mkwargs\u001b[0m\u001b[1;33m)\u001b[0m\u001b[1;33m\u001b[0m\u001b[1;33m\u001b[0m\u001b[0m\n\u001b[0m\u001b[0;32m     89\u001b[0m             \u001b[1;32mreturn\u001b[0m \u001b[0mwrapper\u001b[0m\u001b[1;33m\u001b[0m\u001b[1;33m\u001b[0m\u001b[0m\n\u001b[0;32m     90\u001b[0m \u001b[1;33m\u001b[0m\u001b[0m\n",
      "\u001b[1;32m~\\anaconda3\\lib\\site-packages\\torch\\autograd\\grad_mode.py\u001b[0m in \u001b[0;36mdecorate_context\u001b[1;34m(*args, **kwargs)\u001b[0m\n\u001b[0;32m     26\u001b[0m         \u001b[1;32mdef\u001b[0m \u001b[0mdecorate_context\u001b[0m\u001b[1;33m(\u001b[0m\u001b[1;33m*\u001b[0m\u001b[0margs\u001b[0m\u001b[1;33m,\u001b[0m \u001b[1;33m**\u001b[0m\u001b[0mkwargs\u001b[0m\u001b[1;33m)\u001b[0m\u001b[1;33m:\u001b[0m\u001b[1;33m\u001b[0m\u001b[1;33m\u001b[0m\u001b[0m\n\u001b[0;32m     27\u001b[0m             \u001b[1;32mwith\u001b[0m \u001b[0mself\u001b[0m\u001b[1;33m.\u001b[0m\u001b[0m__class__\u001b[0m\u001b[1;33m(\u001b[0m\u001b[1;33m)\u001b[0m\u001b[1;33m:\u001b[0m\u001b[1;33m\u001b[0m\u001b[1;33m\u001b[0m\u001b[0m\n\u001b[1;32m---> 28\u001b[1;33m                 \u001b[1;32mreturn\u001b[0m \u001b[0mfunc\u001b[0m\u001b[1;33m(\u001b[0m\u001b[1;33m*\u001b[0m\u001b[0margs\u001b[0m\u001b[1;33m,\u001b[0m \u001b[1;33m**\u001b[0m\u001b[0mkwargs\u001b[0m\u001b[1;33m)\u001b[0m\u001b[1;33m\u001b[0m\u001b[1;33m\u001b[0m\u001b[0m\n\u001b[0m\u001b[0;32m     29\u001b[0m         \u001b[1;32mreturn\u001b[0m \u001b[0mcast\u001b[0m\u001b[1;33m(\u001b[0m\u001b[0mF\u001b[0m\u001b[1;33m,\u001b[0m \u001b[0mdecorate_context\u001b[0m\u001b[1;33m)\u001b[0m\u001b[1;33m\u001b[0m\u001b[1;33m\u001b[0m\u001b[0m\n\u001b[0;32m     30\u001b[0m \u001b[1;33m\u001b[0m\u001b[0m\n",
      "\u001b[1;32m~\\anaconda3\\lib\\site-packages\\torch\\optim\\adam.py\u001b[0m in \u001b[0;36mstep\u001b[1;34m(self, closure)\u001b[0m\n\u001b[0;32m    105\u001b[0m                     \u001b[0mstate_steps\u001b[0m\u001b[1;33m.\u001b[0m\u001b[0mappend\u001b[0m\u001b[1;33m(\u001b[0m\u001b[0mstate\u001b[0m\u001b[1;33m[\u001b[0m\u001b[1;34m'step'\u001b[0m\u001b[1;33m]\u001b[0m\u001b[1;33m)\u001b[0m\u001b[1;33m\u001b[0m\u001b[1;33m\u001b[0m\u001b[0m\n\u001b[0;32m    106\u001b[0m \u001b[1;33m\u001b[0m\u001b[0m\n\u001b[1;32m--> 107\u001b[1;33m             F.adam(params_with_grad,\n\u001b[0m\u001b[0;32m    108\u001b[0m                    \u001b[0mgrads\u001b[0m\u001b[1;33m,\u001b[0m\u001b[1;33m\u001b[0m\u001b[1;33m\u001b[0m\u001b[0m\n\u001b[0;32m    109\u001b[0m                    \u001b[0mexp_avgs\u001b[0m\u001b[1;33m,\u001b[0m\u001b[1;33m\u001b[0m\u001b[1;33m\u001b[0m\u001b[0m\n",
      "\u001b[1;32m~\\anaconda3\\lib\\site-packages\\torch\\optim\\_functional.py\u001b[0m in \u001b[0;36madam\u001b[1;34m(params, grads, exp_avgs, exp_avg_sqs, max_exp_avg_sqs, state_steps, amsgrad, beta1, beta2, lr, weight_decay, eps)\u001b[0m\n\u001b[0;32m     92\u001b[0m             \u001b[0mdenom\u001b[0m \u001b[1;33m=\u001b[0m \u001b[1;33m(\u001b[0m\u001b[0mmax_exp_avg_sqs\u001b[0m\u001b[1;33m[\u001b[0m\u001b[0mi\u001b[0m\u001b[1;33m]\u001b[0m\u001b[1;33m.\u001b[0m\u001b[0msqrt\u001b[0m\u001b[1;33m(\u001b[0m\u001b[1;33m)\u001b[0m \u001b[1;33m/\u001b[0m \u001b[0mmath\u001b[0m\u001b[1;33m.\u001b[0m\u001b[0msqrt\u001b[0m\u001b[1;33m(\u001b[0m\u001b[0mbias_correction2\u001b[0m\u001b[1;33m)\u001b[0m\u001b[1;33m)\u001b[0m\u001b[1;33m.\u001b[0m\u001b[0madd_\u001b[0m\u001b[1;33m(\u001b[0m\u001b[0meps\u001b[0m\u001b[1;33m)\u001b[0m\u001b[1;33m\u001b[0m\u001b[1;33m\u001b[0m\u001b[0m\n\u001b[0;32m     93\u001b[0m         \u001b[1;32melse\u001b[0m\u001b[1;33m:\u001b[0m\u001b[1;33m\u001b[0m\u001b[1;33m\u001b[0m\u001b[0m\n\u001b[1;32m---> 94\u001b[1;33m             \u001b[0mdenom\u001b[0m \u001b[1;33m=\u001b[0m \u001b[1;33m(\u001b[0m\u001b[0mexp_avg_sq\u001b[0m\u001b[1;33m.\u001b[0m\u001b[0msqrt\u001b[0m\u001b[1;33m(\u001b[0m\u001b[1;33m)\u001b[0m \u001b[1;33m/\u001b[0m \u001b[0mmath\u001b[0m\u001b[1;33m.\u001b[0m\u001b[0msqrt\u001b[0m\u001b[1;33m(\u001b[0m\u001b[0mbias_correction2\u001b[0m\u001b[1;33m)\u001b[0m\u001b[1;33m)\u001b[0m\u001b[1;33m.\u001b[0m\u001b[0madd_\u001b[0m\u001b[1;33m(\u001b[0m\u001b[0meps\u001b[0m\u001b[1;33m)\u001b[0m\u001b[1;33m\u001b[0m\u001b[1;33m\u001b[0m\u001b[0m\n\u001b[0m\u001b[0;32m     95\u001b[0m \u001b[1;33m\u001b[0m\u001b[0m\n\u001b[0;32m     96\u001b[0m         \u001b[0mstep_size\u001b[0m \u001b[1;33m=\u001b[0m \u001b[0mlr\u001b[0m \u001b[1;33m/\u001b[0m \u001b[0mbias_correction1\u001b[0m\u001b[1;33m\u001b[0m\u001b[1;33m\u001b[0m\u001b[0m\n",
      "\u001b[1;31mKeyboardInterrupt\u001b[0m: "
     ]
    }
   ],
   "source": [
    "training_loss = []\n",
    "for e in range(epoch):\n",
    "    \n",
    "    running_loss = 0\n",
    "    optim.zero_grad()\n",
    "    \n",
    "    for data in tqdm(dataset):\n",
    "        img, label = data\n",
    "        img = img.unsqueeze(0).to(device)\n",
    "        \n",
    "        output = model(img).log_softmax(2)\n",
    "        pred_len = torch.Tensor([len(output)]).long().to(device)\n",
    "        trg_len = torch.Tensor([len(label)]).long().to(device)\n",
    "        loss = criterion(output,label,pred_len,trg_len)\n",
    "        \n",
    "        loss.backward()\n",
    "        \n",
    "        optim.step()\n",
    "        optim.zero_grad()\n",
    "        \n",
    "        \n",
    "        running_loss += loss.item()\n",
    "#         training_loss.append(ru)\n",
    "        \n",
    "    print(f'epoch {e+1}: ',running_loss/len(dataset))"
   ]
  },
  {
   "cell_type": "code",
   "execution_count": 31,
   "metadata": {},
   "outputs": [],
   "source": [
    "torch.save(model.state_dict(),'ocr_blank.pth')"
   ]
  },
  {
   "cell_type": "code",
   "execution_count": 20,
   "metadata": {},
   "outputs": [
    {
     "data": {
      "text/plain": [
       "<All keys matched successfully>"
      ]
     },
     "execution_count": 20,
     "metadata": {},
     "output_type": "execute_result"
    }
   ],
   "source": [
    "model.load_state_dict(torch.load('ocr.pth'))"
   ]
  },
  {
   "cell_type": "markdown",
   "metadata": {},
   "source": [
    "# predict"
   ]
  },
  {
   "cell_type": "code",
   "execution_count": 32,
   "metadata": {},
   "outputs": [],
   "source": [
    "def tensor2str(x:torch.Tensor, itos_table:dict)->str:\n",
    "    return ''.join([itos_table.get(o.item()) for o in x])"
   ]
  },
  {
   "cell_type": "code",
   "execution_count": 36,
   "metadata": {},
   "outputs": [],
   "source": [
    "def decode(output:torch.Tensor, itos_table:dict, remove_blank:bool=False, remove_repeat:bool=False)->str:\n",
    "    pred_text = tensor2str(output,itos_table)\n",
    "    pred_text = pred_text.strip()\n",
    "    \n",
    "    if remove_repeat:\n",
    "        placeholder = ''\n",
    "        for i, d in enumerate(pred_text):\n",
    "            if i == len(pred_text)-1:\n",
    "                placeholder+=d\n",
    "                break\n",
    "            if d!=pred_text[i+1]: placeholder+=d\n",
    "        pred_text = placeholder\n",
    "    \n",
    "    if remove_blank:\n",
    "        pred_text = pred_text.replace('😀','')\n",
    "\n",
    "    return pred_text"
   ]
  },
  {
   "cell_type": "code",
   "execution_count": 37,
   "metadata": {},
   "outputs": [],
   "source": [
    "lookup_back = {v:k for k,v in ascii_table.items()}"
   ]
  },
  {
   "cell_type": "code",
   "execution_count": 51,
   "metadata": {},
   "outputs": [
    {
     "name": "stdout",
     "output_type": "stream",
     "text": [
      "1\n",
      "prediction:\n",
      "In A Bit of a Holding Pattern Uptown condo boom fades Several projects delayed as risk conscious lenders limit their exposure The Charlotte Observer March 20 2008 Retrieved December 5 2017 via NewsLi\n",
      "label:\n",
      "'In A Bit of a Holding Pattern Uptown condo boom fades Several projects delayed as risk conscious lenders limit their exposure The Charlotte Observer March 20 2008 Retrieved December 5 2017 via NewsLi\n",
      "------------------------------------------------\n",
      "2\n",
      "prediction:\n",
      "WNewsweek Trump Show Mirrors Reality Palm Beach Daily News February 26 2004 Retrieved November 15 2017 The latesttask is dubbed Ice Escapades as the contestants compete in the marketplace debut of T\n",
      "label:\n",
      "'Newsweek' Trump Show Mirrors Reality Palm Beach Daily News February 26 2004 Retrieved November 15 2017 The latest task is dubbed Ice Escapades as the contestants compete in the marketplace debut of T\n",
      "------------------------------------------------\n",
      "3\n",
      "prediction:\n",
      "Trump Force One' the plane that caries Donald Trump from campaign stop to campaign stop KTAR com KTAR com August 2 2015 Retrieved April 22 2016\n",
      "label:\n",
      "'Trump Force One' the plane that carries Donald Trump from campaign stop to campaign stop KTAR com KTAR com August 2 2015 Retrieved April 22 2016\n",
      "------------------------------------------------\n",
      "4\n",
      "prediction:\n",
      "1 Biography\n",
      "label:\n",
      "1 Biography\n",
      "------------------------------------------------\n",
      "5\n",
      "prediction:\n",
      "1 Early life education and teaching career\n",
      "label:\n",
      "1 Early life education and teaching career\n",
      "------------------------------------------------\n",
      "6\n",
      "prediction:\n",
      "1 Etymology\n",
      "label:\n",
      "1 Etymology\n",
      "------------------------------------------------\n",
      "7\n",
      "prediction:\n",
      "1 History\n",
      "label:\n",
      "1 History\n",
      "------------------------------------------------\n",
      "8\n",
      "prediction:\n",
      "1 Real estate\n",
      "label:\n",
      "1 Real estate\n",
      "------------------------------------------------\n",
      "9\n",
      "prediction:\n",
      "10 1 Current\n",
      "label:\n",
      "10 1 Current\n",
      "------------------------------------------------\n",
      "10\n",
      "prediction:\n",
      "10 2 Former\n",
      "label:\n",
      "10 2 Former\n",
      "------------------------------------------------\n",
      "11\n",
      "prediction:\n",
      "10 Food and drink\n",
      "label:\n",
      "10 Food and drink\n",
      "------------------------------------------------\n",
      "12\n",
      "prediction:\n",
      "10 Manirang Expedition 1974\n",
      "label:\n",
      "10 Manirang Expedition 1974\n",
      "------------------------------------------------\n",
      "13\n",
      "prediction:\n",
      "11 Kuti Valley Project 2nd phase 1976\n",
      "label:\n",
      "11 Kuti Valley Project 2nd phase 1976\n",
      "------------------------------------------------\n",
      "14\n",
      "prediction:\n",
      "11 People\n",
      "label:\n",
      "11 People\n",
      "------------------------------------------------\n",
      "15\n",
      "prediction:\n",
      "12 Exploration SPINGPA Valleys 1976\n",
      "label:\n",
      "12 Exploration SPINGPA Valleys 1978\n",
      "------------------------------------------------\n",
      "16\n",
      "prediction:\n",
      "12 Species\n",
      "label:\n",
      "12 Species\n",
      "------------------------------------------------\n",
      "17\n",
      "prediction:\n",
      "13 Other\n",
      "label:\n",
      "13 Other\n",
      "------------------------------------------------\n",
      "18\n",
      "prediction:\n",
      "13 Rock Climbing course in Susunia Hill Bankura\n",
      "label:\n",
      "13 Rock Climbing course in Susunia Hill Bankura\n",
      "------------------------------------------------\n",
      "19\n",
      "prediction:\n",
      "14 1 Current\n",
      "label:\n",
      "14 1 Current\n",
      "------------------------------------------------\n",
      "20\n",
      "prediction:\n",
      "14 2 Former\n",
      "label:\n",
      "14 2 Former\n",
      "------------------------------------------------\n",
      "21\n",
      "prediction:\n",
      "14 Other ventures\n",
      "label:\n",
      "14 Other ventures\n",
      "------------------------------------------------\n",
      "22\n",
      "prediction:\n",
      "14 References\n",
      "label:\n",
      "14 References\n",
      "------------------------------------------------\n",
      "23\n",
      "prediction:\n",
      "15 External links\n",
      "label:\n",
      "15 External links\n",
      "------------------------------------------------\n",
      "24\n",
      "prediction:\n",
      "15 See also\n",
      "label:\n",
      "15 See also\n",
      "------------------------------------------------\n",
      "25\n",
      "prediction:\n",
      "16 References\n",
      "label:\n",
      "16 References\n",
      "------------------------------------------------\n",
      "26\n",
      "prediction:\n",
      "17 External links\n",
      "label:\n",
      "17 External links\n",
      "------------------------------------------------\n",
      "27\n",
      "prediction:\n",
      " 1 Current\n",
      "label:\n",
      "2 1 Current\n",
      "------------------------------------------------\n",
      "28\n",
      "prediction:\n",
      "2 2 In development\n",
      "label:\n",
      "2 2 In development\n",
      "------------------------------------------------\n",
      "29\n",
      "prediction:\n",
      "2 3 Cancelled or never completed\n",
      "label:\n",
      "2 3 Cancelled or never completed\n",
      "------------------------------------------------\n",
      "30\n",
      "prediction:\n",
      "2 Interest in Himalaya\n",
      "label:\n",
      "2 Interest in Himalaya\n",
      "------------------------------------------------\n",
      "31\n",
      "prediction:\n",
      "S Malariology\n",
      "label:\n",
      "2 Malariology\n",
      "------------------------------------------------\n",
      "32\n",
      "prediction:\n",
      "2 Metal type\n",
      "label:\n",
      "2 Metal type\n",
      "------------------------------------------------\n",
      "33\n",
      "prediction:\n",
      "2 Population\n",
      "label:\n",
      "2 Population\n",
      "------------------------------------------------\n",
      "34\n",
      "prediction:\n",
      "2 Trump Tower\n",
      "label:\n",
      "2 Trump Tower\n",
      "------------------------------------------------\n",
      "35\n",
      "prediction:\n",
      "2018 19\n",
      "label:\n",
      "2018 19\n",
      "------------------------------------------------\n",
      "36\n",
      "prediction:\n",
      "3 1 Weight\n",
      "label:\n",
      "3 1 Weight\n",
      "------------------------------------------------\n",
      "37\n",
      "prediction:\n",
      "3 2 Slope\n",
      "label:\n",
      "3 2 Slope\n",
      "------------------------------------------------\n",
      "38\n",
      "prediction:\n",
      "3 3 Width\n",
      "label:\n",
      "3 3 Width\n",
      "------------------------------------------------\n",
      "39\n",
      "prediction:\n",
      " 4 Optical size\n",
      "label:\n",
      "3 4 Optical size\n",
      "------------------------------------------------\n",
      "40\n",
      "prediction:\n",
      "3 5 Metrics\n",
      "label:\n",
      "3 5 Metrics\n",
      "------------------------------------------------\n",
      "41\n",
      "prediction:\n",
      " 6 Serifs\n",
      "label:\n",
      "3 6 Serifs\n",
      "------------------------------------------------\n",
      "42\n",
      "prediction:\n",
      " P1 Digits\n",
      "label:\n",
      "3 7 1 Digits\n",
      "------------------------------------------------\n",
      "43\n",
      "prediction:\n",
      "3 f Character variants\n",
      "label:\n",
      "3 7 Character variants\n",
      "------------------------------------------------\n",
      "44\n",
      "prediction:\n",
      "9 Characteristics\n",
      "label:\n",
      "3 Characteristics\n",
      "------------------------------------------------\n",
      "45\n",
      "prediction:\n",
      "3 Education\n",
      "label:\n",
      "3 Education\n",
      "------------------------------------------------\n",
      "46\n",
      "prediction:\n",
      "8 Kalindi Pass Expedition 1959\n",
      "label:\n",
      "3 Kalindi Pass Expedition 1959\n",
      "------------------------------------------------\n",
      "47\n",
      "prediction:\n",
      "9 Legacy and honors\n",
      "label:\n",
      "3 Legacy and honors\n",
      "------------------------------------------------\n",
      "48\n",
      "prediction:\n",
      "9 Trump Plaza\n",
      "label:\n",
      "3 Trump Plaza\n",
      "------------------------------------------------\n",
      "49\n",
      "prediction:\n",
      "4 1 Current\n",
      "label:\n",
      "4 1 Current\n",
      "------------------------------------------------\n",
      "50\n",
      "prediction:\n",
      "4 2 Former\n",
      "label:\n",
      "4 2 Former\n",
      "------------------------------------------------\n",
      "51\n",
      "prediction:\n",
      "A 3 Sancelled or never completed\n",
      "label:\n",
      "4 3 Cancelled or never completed\n",
      "------------------------------------------------\n",
      "52\n",
      "prediction:\n",
      "9 Institutions\n",
      "label:\n",
      "4 Institutions\n",
      "------------------------------------------------\n",
      "53\n",
      "prediction:\n",
      "A Nanda Ghunti Expedition 1960\n",
      "label:\n",
      "4 Nanda Ghunti Expedition 1960\n",
      "------------------------------------------------\n",
      "54\n",
      "prediction:\n",
      "4 Other Trump buildings\n",
      "label:\n",
      "4 Other Trump buildings\n",
      "------------------------------------------------\n",
      "55\n",
      "prediction:\n",
      "A Subsetting\n",
      "label:\n",
      "4 Subsetting\n",
      "------------------------------------------------\n",
      "56\n",
      "prediction:\n",
      "4 IWorks\n",
      "label:\n",
      "4 Works\n",
      "------------------------------------------------\n",
      "57\n",
      "prediction:\n",
      "5 t Current\n",
      "label:\n",
      "5 1 Current\n",
      "------------------------------------------------\n",
      "58\n",
      "prediction:\n",
      "6 2 Former\n",
      "label:\n",
      "5 2 Former\n",
      "------------------------------------------------\n",
      "59\n",
      "prediction:\n",
      "S S3 Cancelled or never completed\n",
      "label:\n",
      "5 3 Cancelled or never completed\n",
      "------------------------------------------------\n",
      "60\n",
      "prediction:\n",
      "5 Hotels\n",
      "label:\n",
      "5 Hotels\n",
      "------------------------------------------------\n",
      "61\n",
      "prediction:\n",
      "S Rabit Ohinga tu Pelo an anti Trump Beer to be bottled Beer Street Journal beerstreetjournal com 15 March 2016 Retrieved 9 August 2016\n",
      "label:\n",
      "5 Rabbit Chinga tu Pelo an anti Trump Beer to be bottled Beer Street Journal beerstreetjournal com 15 March 2016 Retrieved 9 August 2016\n",
      "------------------------------------------------\n",
      "62\n",
      "prediction:\n",
      "6 References\n",
      "label:\n",
      "5 References\n",
      "------------------------------------------------\n",
      "63\n",
      "prediction:\n",
      "S Roopkund Expedition 1963\n",
      "label:\n",
      "5 Roopkund Expedition 1963\n",
      "------------------------------------------------\n",
      "64\n",
      "prediction:\n",
      "9 See also\n",
      "label:\n",
      "5 See also\n",
      "------------------------------------------------\n",
      "65\n",
      "prediction:\n",
      "6 1 United States\n",
      "label:\n",
      "6 1 United States\n",
      "------------------------------------------------\n",
      "66\n",
      "prediction:\n",
      "6 2 International\n",
      "label:\n",
      "6 2 International\n",
      "------------------------------------------------\n",
      "67\n",
      "prediction:\n",
      "6 3 In development\n",
      "label:\n",
      "6 3 In development\n",
      "------------------------------------------------\n",
      "68\n",
      "prediction:\n",
      "6 4 Former\n",
      "label:\n",
      "6 4 Former\n",
      "------------------------------------------------\n",
      "69\n",
      "prediction:\n",
      "6 Additional source\n",
      "label:\n",
      "6 Additional source\n",
      "------------------------------------------------\n",
      "70\n",
      "prediction:\n",
      "6 Golf courses\n",
      "label:\n",
      "6 Golf courses\n",
      "------------------------------------------------\n",
      "71\n",
      "prediction:\n",
      "6 References\n",
      "label:\n",
      "6 References\n",
      "------------------------------------------------\n",
      "72\n",
      "prediction:\n",
      "S Tirsuli Expedition 1966\n",
      "label:\n",
      "6 Tirsuli Expedition 1966\n",
      "------------------------------------------------\n",
      "73\n",
      "prediction:\n",
      "T 1 Former\n",
      "label:\n",
      "7 1 Former\n",
      "------------------------------------------------\n",
      "74\n",
      "prediction:\n",
      "T 2 Cancelled or never built\n",
      "label:\n",
      "7 2 Cancelled or never built\n",
      "------------------------------------------------\n",
      "75\n",
      "prediction:\n",
      "7 Casinos\n",
      "label:\n",
      "7 Casinos\n",
      "------------------------------------------------\n",
      "76\n",
      "prediction:\n",
      "7 Council of Himalayan Exploration and Research\n",
      "label:\n",
      "7 Council of Himalayan Exploration and Research\n",
      "------------------------------------------------\n",
      "77\n",
      "prediction:\n",
      "7 Notes\n",
      "label:\n",
      "7 Notes\n",
      "------------------------------------------------\n",
      "78\n",
      "prediction:\n",
      "S 1 Proposed\n",
      "label:\n",
      "8 1 Proposed\n",
      "------------------------------------------------\n",
      "79\n",
      "prediction:\n",
      "S Further reading\n",
      "label:\n",
      "8 Further reading\n",
      "------------------------------------------------\n",
      "80\n",
      "prediction:\n",
      "R Kuti valley Expedition 1968\n",
      "label:\n",
      "8 Kuti Valley Expedition 1968\n",
      "------------------------------------------------\n",
      "81\n",
      "prediction:\n",
      "S Streets roads other\n",
      "label:\n",
      "8 Streets roads other\n",
      "------------------------------------------------\n",
      "82\n",
      "prediction:\n",
      "9 1 Books\n",
      "label:\n",
      "9 1 Books\n",
      "------------------------------------------------\n",
      "83\n",
      "prediction:\n",
      "9 2 Rilms\n",
      "label:\n",
      "9 2 Films\n",
      "------------------------------------------------\n",
      "84\n",
      "prediction:\n",
      "9 3 Games\n",
      "label:\n",
      "9 3 Games\n",
      "------------------------------------------------\n",
      "85\n",
      "prediction:\n",
      "9 A Magazines\n",
      "label:\n",
      "9 4 Magazines\n",
      "------------------------------------------------\n",
      "86\n",
      "prediction:\n",
      "P S5 Songs\n",
      "label:\n",
      "9 5 Songs\n",
      "------------------------------------------------\n",
      "87\n",
      "prediction:\n",
      "9 6 Other media\n",
      "label:\n",
      "9 6 Other media\n",
      "------------------------------------------------\n",
      "88\n",
      "prediction:\n",
      "9 Arts and media\n",
      "label:\n",
      "9 Arts and media\n",
      "------------------------------------------------\n",
      "89\n",
      "prediction:\n",
      "S Upper Spiti Exploration 1970\n",
      "label:\n",
      "9 Upper Spiti Exploration 1970\n",
      "------------------------------------------------\n",
      "90\n",
      "prediction:\n"
     ]
    },
    {
     "name": "stdout",
     "output_type": "stream",
     "text": [
      "A 1910 letterpress poster advertising an auction using a variety of fonts\n",
      "label:\n",
      "A 1910 letterpress poster advertising an auction using a variety of fonts\n",
      "------------------------------------------------\n",
      "91\n",
      "prediction:\n",
      "a b Amico Bignami Whonamedit Ole Daniel Enersen Retrieved 2 May 2014\n",
      "label:\n",
      "a b Amico Bignami Whonamedit Ole Daniel Enersen Retrieved 2 May 2014\n",
      "------------------------------------------------\n",
      "92\n",
      "prediction:\n",
      "a b Beinin Joel The Palestine Communist Party 1919 1948 in MRRlP Reports No 5S Mar 1977 pp 3 17\n",
      "label:\n",
      "a b Beinin Joel The Palestine Communist Party 1919 1948 in MERIP Reports No 55 Mar 1977 pp 3 17\n",
      "------------------------------------------------\n",
      "93\n",
      "prediction:\n",
      "a b Biographies of Palestinian political leaders since 1967 Archived 2008 10 25 at the Wayback Machine\n",
      "label:\n",
      "a b Biographies of Palestinian political leaders since 1967 Archived 2008 10 25 at the Wayback Machine\n",
      "------------------------------------------------\n",
      "94\n",
      "prediction:\n",
      "a a e Palestinian Political Parties and Organizatians\n",
      "label:\n",
      "a b c Palestinian Political Parties and Organizations\n",
      "------------------------------------------------\n",
      "95\n",
      "prediction:\n",
      "aa b Frere Jones Tobias MicroPlus Frere Jones Type Retrieved t December 2015\n",
      "label:\n",
      "a b Frere Jones Tobias MicroPlus Frere Jones Type Retrieved 1 December 2015\n",
      "------------------------------------------------\n",
      "96\n",
      "prediction:\n",
      "a b Roncalli Amici Raffaele 2001 The history of Italian parasitology Veterinary Parasitology b8 1 3 3 30 dot 10 1016 S1304 4017 101 00420 4 PMhiD 11516576\n",
      "label:\n",
      "a b Roncalli Amici Raffaele 2001 The history of Italian parasitology Veterinary Parasitology 98 1 3 3 30 doi 10 1016 S0304 4017 01 00420 4 PMID 11516576\n",
      "------------------------------------------------\n",
      "97\n",
      "prediction:\n",
      "Aculsecton of ahldes veohrprera romp fuit kuler Met aimbalaiear y banerjle cK Guosh e M dorgomoludmer entomolocgy ladraiory Uiniverstr of Caucutae Otigntol inlseis Ll p 2 Lr 17\n",
      "label:\n",
      "A collection of Aphides Hemiptera from Kuti Valley West Himalaya by H Banerjee A K Ghosh D N Roychoudhury Entomology Laboratory University of Calcutta Oriental Insects Vol 3 pp 255 264 1969\n",
      "------------------------------------------------\n",
      "98\n",
      "prediction:\n",
      "A more common font variant especialy of serif typefaces is that of alternate capitals They can have swashes to go with italic minuscules or they can be of a fiaurish design for use as initials drop c\n",
      "label:\n",
      "A more common font variant especially of serif typefaces is that of alternate capitals They can have swashes to go with italic minuscules or they can be of a flourish design for use as initials drop c\n",
      "------------------------------------------------\n",
      "99\n",
      "prediction:\n",
      "A paralel expedition to the same place and at the same time was organised by Himalayan Association too\n",
      "label:\n",
      "A parallel expedition to the same place and at the same time was organised by Himalayan Association too\n",
      "------------------------------------------------\n",
      "100\n",
      "prediction:\n",
      "A particularly important basic set of fonts that became an early standard in digital printing was the Core Font Set included in the PostScript printing system developed by Apple and Adobe To avoid pay\n",
      "label:\n",
      "A particularly important basic set of fonts that became an early standard in digital printing was the Core Font Set included in the PostScript printing system developed by Apple and Adobe To avoid pay\n",
      "------------------------------------------------\n",
      "101\n",
      "prediction:\n",
      "A set of optical sizes developed at URW The fonts become thicker and more widely spaced as the potint size for which they are designed decreases\n",
      "label:\n",
      "A set of optical sizes developed at URW The fonts become thicker and more widely spaced as the point size for which they are designed decreases\n",
      "------------------------------------------------\n",
      "102\n",
      "prediction:\n",
      "A Trump Project Around the Corner City Oficial lts Serious The Charlotte Observer May 18 2007 Retrieved December 5 2017 via Newslibrary\n",
      "label:\n",
      "A Trump Project Around the Corner City Official It's Serious The Charlotte Observer May 18 2007 Retrieved December 5 2017 via NewsLibrary\n",
      "------------------------------------------------\n",
      "seconds for 100 examples:  1.072098970413208\n"
     ]
    }
   ],
   "source": [
    "a = time()\n",
    "for i, (img,label) in enumerate(dataset):\n",
    "    output = model(img.unsqueeze(0).to(device))[:,0,:].max(1)[1]\n",
    "    print(i+1)\n",
    "    print('prediction:')\n",
    "    print(decode(output,lookup_back,remove_blank=True,remove_repeat=True))\n",
    "    print('label:')\n",
    "    print(tensor2str(label,lookup_back))\n",
    "    print('------------------------------------------------')\n",
    "    \n",
    "    if i > 100: break\n",
    "b = time()\n",
    "print('seconds for 100 examples: ',b-a)"
   ]
  },
  {
   "cell_type": "code",
   "execution_count": 87,
   "metadata": {},
   "outputs": [
    {
     "name": "stdout",
     "output_type": "stream",
     "text": [
      "write\n",
      "Trump Force One' the plane that caries Donald Trump from campaign stop to campaign stop KTAR com KTAR com August 2 2015 Retrieved April 22 2016\n",
      "Ks present name originales trom he frankish term Dustrick y Easlen Kingdom least of the Frankish Hingdomy\n",
      "PPlrueingainleta\n"
     ]
    },
    {
     "data": {
      "image/png": "[encoded data removed]",
      "text/plain": [
       "<Figure size 2160x144 with 1 Axes>"
      ]
     },
     "metadata": {
      "needs_background": "light"
     },
     "output_type": "display_data"
    },
    {
     "data": {
      "image/png": "[encoded data removed]",
      "text/plain": [
       "<Figure size 2160x144 with 1 Axes>"
      ]
     },
     "metadata": {
      "needs_background": "light"
     },
     "output_type": "display_data"
    },
    {
     "data": {
      "image/png": "[encoded data removed]",
      "text/plain": [
       "<Figure size 2160x144 with 1 Axes>"
      ]
     },
     "metadata": {
      "needs_background": "light"
     },
     "output_type": "display_data"
    },
    {
     "data": {
      "image/png": "[encoded data removed]",
      "text/plain": [
       "<Figure size 2160x144 with 1 Axes>"
      ]
     },
     "metadata": {
      "needs_background": "light"
     },
     "output_type": "display_data"
    }
   ],
   "source": [
    "demo_list = [\n",
    "    ('mspaint','./write.png'),\n",
    "    ('synthetic',\"\"\"./data/'Trump Force One' the plane that carries Donald Trump from campaign stop to campaign stop KTAR com KTAR com August 2 2015 Retrieved April 22 2016.png\"\"\"),\n",
    "    ('wiki','./wiki.png'),\n",
    "    ('internet','./signboard.jpg'),\n",
    "]\n",
    "\n",
    "# plt.figure(figsize=(30,8))\n",
    "for i, (source,name) in enumerate(demo_list):\n",
    "    demo_pic = Image.open(name).convert('RGB')\n",
    "    w,h = demo_pic.size\n",
    "    demo_pic = demo_pic.resize((int(w*32/h),32))\n",
    "    demo_text = transforms.ToTensor()(demo_pic).unsqueeze(0).to(device)\n",
    "    decoded = decode(model(demo_text)[:,0,:].max(1)[1],lookup_back,remove_blank=True,remove_repeat=True)\n",
    "    \n",
    "    plt.figure(figsize=(30,2))  \n",
    "#     plt.title(source)\n",
    "    plt.axis('off')\n",
    "    plt.imshow(demo_pic)\n",
    "    print(decoded)"
   ]
  },
  {
   "cell_type": "code",
   "execution_count": 53,
   "metadata": {},
   "outputs": [],
   "source": [
    "# bad, even english\n",
    "spell = SpellChecker()\n",
    "misspelled = spell.unknown(['caries'])\n",
    "for m in misspelled:\n",
    "    print(spell.correction(m))"
   ]
  },
  {
   "cell_type": "code",
   "execution_count": 71,
   "metadata": {},
   "outputs": [
    {
     "name": "stdout",
     "output_type": "stream",
     "text": [
      "data folder is set to `C:\\Users\\User\\AppData\\Roaming\\Python\\Python38\\site-packages\\neuspell\\../data` script\n"
     ]
    }
   ],
   "source": [
    "import neuspell\n",
    "from neuspell import BertChecker"
   ]
  },
  {
   "cell_type": "code",
   "execution_count": null,
   "metadata": {},
   "outputs": [],
   "source": [
    "checker = BertChecker()\n",
    "checker.from_pretrained()"
   ]
  },
  {
   "cell_type": "code",
   "execution_count": null,
   "metadata": {},
   "outputs": [],
   "source": [
    "checker.correct(\"I luk foward to receving your reply\")"
   ]
  },
  {
   "cell_type": "markdown",
   "metadata": {},
   "source": [
    "# evaluation"
   ]
  },
  {
   "cell_type": "code",
   "execution_count": 44,
   "metadata": {},
   "outputs": [
    {
     "name": "stderr",
     "output_type": "stream",
     "text": [
      "100%|████████████████████████████████████████████████████████████████████████████████| 918/918 [00:13<00:00, 67.08it/s]\n"
     ]
    }
   ],
   "source": [
    "score = 0\n",
    "\n",
    "for img,label in tqdm(dataset):\n",
    "    output = model(img.unsqueeze(0).to(device))[:,0,:].max(1)[1]\n",
    "    dist = Levenshtein.distance(decode(output,lookup_back,remove_blank=True,remove_repeat=True),tensor2str(label,lookup_back))\n",
    "    score += dist"
   ]
  },
  {
   "cell_type": "code",
   "execution_count": 45,
   "metadata": {},
   "outputs": [
    {
     "data": {
      "text/plain": [
       "1.5740740740740742"
      ]
     },
     "execution_count": 45,
     "metadata": {},
     "output_type": "execute_result"
    }
   ],
   "source": [
    "score/len(dataset)"
   ]
  },
  {
   "cell_type": "code",
   "execution_count": null,
   "metadata": {},
   "outputs": [],
   "source": []
  }
 ],
 "metadata": {
  "kernelspec": {
   "display_name": "Python 3",
   "language": "python",
   "name": "python3"
  },
  "language_info": {
   "codemirror_mode": {
    "name": "ipython",
    "version": 3
   },
   "file_extension": ".py",
   "mimetype": "text/x-python",
   "name": "python",
   "nbconvert_exporter": "python",
   "pygments_lexer": "ipython3",
   "version": "3.8.8"
  }
 },
 "nbformat": 4,
 "nbformat_minor": 2
}
