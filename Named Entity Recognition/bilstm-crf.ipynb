{
 "cells": [
  {
   "cell_type": "code",
   "execution_count": 1,
   "metadata": {},
   "outputs": [],
   "source": [
    "import torch\n",
    "from torch import nn\n",
    "from torch.nn.utils.rnn import pad_sequence, pack_padded_sequence, pad_packed_sequence\n",
    "from torch.utils.data import Dataset, DataLoader\n",
    "from torchtext.data import get_tokenizer\n",
    "from torchtext.vocab import build_vocab_from_iterator\n",
    "\n",
    "import re\n",
    "import json\n",
    "import pandas as pd\n",
    "import numpy as np\n",
    "import matplotlib.pyplot as plt\n",
    "from tqdm import tqdm\n",
    "from time import time\n",
    "from typing import List, Dict\n",
    "from collections import Counter\n",
    "from seaborn import heatmap"
   ]
  },
  {
   "cell_type": "markdown",
   "metadata": {},
   "source": [
    "# preprocess data"
   ]
  },
  {
   "cell_type": "code",
   "execution_count": 2,
   "metadata": {},
   "outputs": [],
   "source": [
    "x = pd.read_csv('../data/NER_dataset/ner_dataset.csv',encoding='latin-1')"
   ]
  },
  {
   "cell_type": "code",
   "execution_count": null,
   "metadata": {},
   "outputs": [],
   "source": [
    "x['Sentence #'] = x['Sentence #'].fillna(method='ffill')"
   ]
  },
  {
   "cell_type": "code",
   "execution_count": null,
   "metadata": {},
   "outputs": [],
   "source": [
    "# this is seriously important, which can save you hours\n",
    "x = x.set_index('Sentence #')"
   ]
  },
  {
   "cell_type": "code",
   "execution_count": null,
   "metadata": {},
   "outputs": [],
   "source": [
    "# best groupby speedup for now\n",
    "new_df = x.groupby(level=(0)).apply(lambda x: [x['Word'].str.cat(sep=' '), x['Tag'].str.cat(sep=' ')])"
   ]
  },
  {
   "cell_type": "code",
   "execution_count": null,
   "metadata": {},
   "outputs": [],
   "source": [
    "# this can be improved\n",
    "new_df = pd.DataFrame([d for d in new_df],columns=['Text','Label'])"
   ]
  },
  {
   "cell_type": "code",
   "execution_count": null,
   "metadata": {},
   "outputs": [],
   "source": [
    "new_df.to_csv('train.csv',index=False)"
   ]
  },
  {
   "cell_type": "markdown",
   "metadata": {},
   "source": [
    "# load text data"
   ]
  },
  {
   "cell_type": "code",
   "execution_count": 3,
   "metadata": {},
   "outputs": [],
   "source": [
    "def iter_func(dataset: pd.DataFrame, x_or_y: str) -> List[str]:\n",
    "    \n",
    "    for text, label in dataset:\n",
    "        if x_or_y == 'x':\n",
    "            yield tokenizer(text)\n",
    "        elif x_or_y == 'y':\n",
    "            yield tokenizer(label)"
   ]
  },
  {
   "cell_type": "code",
   "execution_count": 4,
   "metadata": {},
   "outputs": [],
   "source": [
    "# function to add BOS/EOS and create tensor for input sequence indices\n",
    "def tensor_transform(token_ids: List[int]):\n",
    "    return torch.cat([torch.tensor([BOS_IDX]),\n",
    "                      torch.tensor(token_ids),\n",
    "                      torch.tensor([EOS_IDX])])"
   ]
  },
  {
   "cell_type": "code",
   "execution_count": 5,
   "metadata": {},
   "outputs": [],
   "source": [
    "# helper function to club together sequential operations\n",
    "def sequential_transforms(*transforms):\n",
    "    def func(txt_input):\n",
    "        for transform in transforms:\n",
    "            txt_input = transform(txt_input)\n",
    "        return txt_input\n",
    "    return func"
   ]
  },
  {
   "cell_type": "code",
   "execution_count": 6,
   "metadata": {},
   "outputs": [],
   "source": [
    "# function to collate data samples into batch tesors\n",
    "def collate_fn(batch):\n",
    "    src_batch, tgt_batch = [], []\n",
    "    for src_sample, tgt_sample in batch:\n",
    "        src_batch.append(text_transform(src_sample))\n",
    "        tgt_batch.append(label_transform(tgt_sample))\n",
    "\n",
    "    src_batch = pad_sequence(src_batch, padding_value=PAD_IDX)\n",
    "    tgt_batch = pad_sequence(tgt_batch, padding_value=PAD_IDX)\n",
    "    return src_batch, tgt_batch"
   ]
  },
  {
   "cell_type": "code",
   "execution_count": 7,
   "metadata": {},
   "outputs": [],
   "source": [
    "class NERDataset(Dataset):\n",
    "\n",
    "    def __init__(self, data, x_transform=None, y_transform=None):\n",
    "        self.data = data\n",
    "        self.transform = (x_transform,y_transform)\n",
    "        \n",
    "    def __len__(self):\n",
    "        return len(self.data)\n",
    "        \n",
    "    def __getitem__(self, idx):\n",
    "        text, label = self.data[idx]\n",
    "        \n",
    "        if self.transform[0] and self.transform[1]:\n",
    "            x, y = self.transform\n",
    "            text = x(text)\n",
    "            label = y(label)\n",
    "        \n",
    "        return text, label"
   ]
  },
  {
   "cell_type": "code",
   "execution_count": 8,
   "metadata": {},
   "outputs": [],
   "source": [
    "training_data = pd.read_csv('../data/NER_dataset/train.csv').dropna().to_numpy().tolist()"
   ]
  },
  {
   "cell_type": "code",
   "execution_count": 9,
   "metadata": {},
   "outputs": [],
   "source": [
    "UNK_IDX, PAD_IDX, BOS_IDX, EOS_IDX = 0, 1, 2, 3\n",
    "special_tokens = ['<unk>', '<pad>', '<bos>', '<eos>']"
   ]
  },
  {
   "cell_type": "code",
   "execution_count": 10,
   "metadata": {},
   "outputs": [],
   "source": [
    "tokenizer = get_tokenizer(lambda a: a.split(' '))"
   ]
  },
  {
   "cell_type": "code",
   "execution_count": 11,
   "metadata": {},
   "outputs": [],
   "source": [
    "text_vocab = build_vocab_from_iterator(iter_func(training_data,'x'), \n",
    "                                            specials=special_tokens,\n",
    "                                            special_first=True)\n",
    "    \n",
    "text_vocab.set_default_index(UNK_IDX)"
   ]
  },
  {
   "cell_type": "code",
   "execution_count": 12,
   "metadata": {},
   "outputs": [],
   "source": [
    "label_vocab = build_vocab_from_iterator(iter_func(training_data,'y'), \n",
    "                                            specials=special_tokens,\n",
    "                                            special_first=True)\n",
    "    \n",
    "label_vocab.set_default_index(UNK_IDX)"
   ]
  },
  {
   "cell_type": "code",
   "execution_count": 13,
   "metadata": {},
   "outputs": [],
   "source": [
    "# src and tgt language text transforms to convert raw strings into tensors indices\n",
    "text_transform = sequential_transforms(tokenizer, text_vocab, tensor_transform)\n",
    "label_transform = sequential_transforms(tokenizer, label_vocab, tensor_transform)"
   ]
  },
  {
   "cell_type": "markdown",
   "metadata": {},
   "source": [
    "# utils"
   ]
  },
  {
   "cell_type": "code",
   "execution_count": 74,
   "metadata": {},
   "outputs": [],
   "source": [
    "def viterbi_decode(yhat, transition_matrix, mask=None):\n",
    "    \"\"\"\n",
    "    forward backward algorithm\n",
    "    \n",
    "    viterbi forward: path score\n",
    "    backward: find token\n",
    "    \n",
    "    \"\"\"\n",
    "    seq_len, batch_size, label_size = yhat.size()\n",
    "\n",
    "    backpointers = []\n",
    "\n",
    "    # forward\n",
    "    init_vvars = torch.full((batch_size, label_size), LIKELIHOOD_INIT)\n",
    "    init_vvars[:,BOS_IDX] = 0\n",
    "    \n",
    "    for s, feat in enumerate(yhat):\n",
    "        # batch_size, next_tag, current_tag\n",
    "        viterai_t = init_vvars.unsqueeze(1) +transition_matrix.unsqueeze(0) # B,1,L + 1,L,L \n",
    "        viterai_t, bkptr_t = torch.max(viterai_t, -1) # B,L\n",
    "        viterai_t += feat #B,L\n",
    "        backpointers.append(bkptr_t) #S x B,L\n",
    "        \n",
    "        if mask is not None:\n",
    "            mask_t = mask[s].unsqueeze(-1)  # B, 1\n",
    "        else:\n",
    "            mask_t = torch.ones(batch_size,1).to(device)\n",
    "        \n",
    "        init_vvars = viterai_t * mask_t.long() + init_vvars * (1 - mask_t.long()) #B,L\n",
    "        \n",
    "    backpointers = torch.stack(backpointers, 0) # S, B, L\n",
    "    init_vvars += transition_matrix[EOS_IDX].unsqueeze(0) # 1, L\n",
    "    best_score, best_tag = torch.max(init_vvars, -1)  # B\n",
    "    \n",
    "    # backtracking\n",
    "    best_path = best_tag.unsqueeze(-1).tolist() # B,1\n",
    "    for i in range(batch_size):\n",
    "        best_tag_i = best_tag[i] # 1\n",
    "        seq_len_i = int(mask[:, i].sum()) if mask is not None else len(yhat)\n",
    "        for ptr_t in reversed(backpointers[:seq_len_i, i]): # S, L\n",
    "            best_tag_i = ptr_t[best_tag_i].item() # S+1 x L\n",
    "            best_path[i].append(best_tag_i)\n",
    "        # pop first tag\n",
    "        best_path[i].pop() #B,S,L\n",
    "        # reverse order\n",
    "        best_path[i].reverse()\n",
    "    \n",
    "    return best_score, best_path # B # B,S,L"
   ]
  },
  {
   "cell_type": "markdown",
   "metadata": {},
   "source": [
    "# model"
   ]
  },
  {
   "cell_type": "code",
   "execution_count": 15,
   "metadata": {},
   "outputs": [],
   "source": [
    "class BiLSTM_CRF(nn.Module):\n",
    "\n",
    "    def __init__(self, vocab_size:int, label_num:int, embedding_dim:int, hidden_dim:int):\n",
    "        super(BiLSTM_CRF, self).__init__()\n",
    "        self.embedding_dim = embedding_dim\n",
    "        self.hidden_dim = hidden_dim\n",
    "        self.vocab_size = vocab_size\n",
    "        self.tagset_size = label_num\n",
    "\n",
    "        self.word_embeds = nn.Embedding(vocab_size, embedding_dim)\n",
    "        self.lstm = nn.LSTM(embedding_dim, hidden_dim // 2, num_layers=1, bidirectional=True)\n",
    "        self.ln = nn.LayerNorm(hidden_dim)\n",
    "        self.hidden2tag = nn.Linear(hidden_dim, self.tagset_size)\n",
    "        \n",
    "        # transition matrix\n",
    "        # store not prob but log likelihood \n",
    "        # from j to i !?\n",
    "        self.transitions = nn.Parameter(torch.randn(self.tagset_size, self.tagset_size).to(device))\n",
    "        # never transfer to the start tag\n",
    "        self.transitions.data[BOS_IDX, :] = LIKELIHOOD_INIT\n",
    "        # never transfer from the start to the end\n",
    "        self.transitions.data[EOS_IDX, BOS_IDX] = LIKELIHOOD_INIT\n",
    "        # never transfer from the eos\n",
    "        self.transitions.data[:, EOS_IDX] = LIKELIHOOD_INIT\n",
    "        \n",
    "\n",
    "    def get_token_output(self, sentences):\n",
    "        \"\"\"token classfication\"\"\"\n",
    "        mask = sentences.ne(PAD_IDX)\n",
    "        mask_length, mask_order = mask.sum(0).sort(descending=True)\n",
    "        embeds = self.word_embeds(sentences)[:,mask_order,:]\n",
    "        embeds = pack_padded_sequence(embeds, mask_length)\n",
    "        lstm_out, _ = self.lstm(embeds)\n",
    "        lstm_out, _ = pad_packed_sequence(lstm_out) # S, B, H\n",
    "        lstm_out = self.ln(lstm_out * mask.unsqueeze(-1))\n",
    "        lstm_feats = self.hidden2tag(lstm_out * mask.unsqueeze(-1)) * mask.unsqueeze(-1) # S, B, L\n",
    "        _, sort_back = mask_order.sort()\n",
    "        lstm_feats = lstm_feats[:,sort_back,:]\n",
    "        return lstm_feats\n",
    "    \n",
    "    def forward(self, sentence):\n",
    "\n",
    "        lstm_feats = self.get_token_output(sentence)\n",
    "        \n",
    "        return lstm_feats"
   ]
  },
  {
   "cell_type": "code",
   "execution_count": 16,
   "metadata": {},
   "outputs": [],
   "source": [
    "class customloss(nn.Module):\n",
    "    \n",
    "    def __init__(self, label_num: int):\n",
    "        super(customloss,self).__init__()\n",
    "        self.target_size = label_num\n",
    "        \n",
    "    # Compute log sum exp in a numerically stable way for the forward algorithm\n",
    "    @staticmethod\n",
    "    def log_sum_exp(x):\n",
    "        \"\"\"log softmax\"\"\"\n",
    "        max_score, _ = x.max(-1, keepdim=True) # B, L, 1\n",
    "        return max_score + torch.exp(x - max_score).sum(-1, keepdim=True).log()\n",
    "        \n",
    "    def forward_alg(self, yhat, mask, transition_matrix):\n",
    "        \"\"\"yhat on its own\"\"\"\n",
    "        \n",
    "        seq_len, batch_size, _ = yhat.shape\n",
    "        \n",
    "        # batch_size, label_size\n",
    "        alpha = torch.full((batch_size, self.target_size), LIKELIHOOD_INIT).to(device)\n",
    "        # BOS has all of the score.\n",
    "        alpha[:, BOS_IDX] = 0\n",
    "\n",
    "        # batch_size, next_tag, current_tag\n",
    "        for s, feat in enumerate(yhat):\n",
    "            \n",
    "            emit_score = feat.unsqueeze(-1) # B, L, 1\n",
    "            transition_score = transition_matrix.unsqueeze(0) # 1, L, L\n",
    "            alpha_score = alpha.unsqueeze(1) # B, 1, L\n",
    "            \n",
    "            alpha_score = alpha_score + transition_score + emit_score #B,L,L\n",
    "            mask_t = mask[s].unsqueeze(-1) # B,1\n",
    "            alpha = self.log_sum_exp(alpha_score).squeeze(-1) * mask_t.long() + alpha * (1 - mask_t.long()) # B, L\n",
    "                    \n",
    "        alpha = alpha + transition_matrix[EOS_IDX].unsqueeze(0) # B,L + 1, L\n",
    "        \n",
    "        return self.log_sum_exp(alpha).squeeze(-1) # B\n",
    "                \n",
    "    def score_sentence(self, yhat, y, mask, transition_matrix):\n",
    "        \"\"\"yhat with true path\"\"\"\n",
    "        \n",
    "        assert y.size(0) == yhat.size(0), f'misaligned seq length {y.size(0)}, {yhat.size(0)}'\n",
    "        assert y.size(1) == yhat.size(1), 'misaligned batch size'\n",
    "        assert yhat.size(2) == len(label_vocab), 'wrong yhat label size'\n",
    "        \n",
    "        seq_len, batch_size = y.size()\n",
    "        scores = torch.zeros(batch_size).to(device)\n",
    "        start_tag = torch.full((1, batch_size), fill_value=BOS_IDX)\n",
    "        y = torch.cat([start_tag,y],0) # S+1, B\n",
    "        \n",
    "        for s, feat in enumerate(yhat):\n",
    "            emit_score = torch.stack([f[next_tag] for f, next_tag in zip(feat, y[s + 1])]) # B, L\n",
    "            transition_score = torch.stack([transition_matrix[y[s + 1, b], y[s, b]] for b in range(batch_size)]) # B\n",
    "            scores += (emit_score + transition_score) * mask[s] # B\n",
    "        transition_to_end = torch.stack([transition_matrix[EOS_IDX, tag[mask[:, b].sum().long()]] for b, tag in enumerate(y.transpose(0, 1))])\n",
    "        scores += transition_to_end\n",
    "        \n",
    "        return scores\n",
    "    \n",
    "        \n",
    "    def forward(self, yhat, y, mask, transition_matrix):\n",
    "                \n",
    "        forward_score = self.forward_alg(yhat, mask, transition_matrix)\n",
    "        \n",
    "        gold_score = self.score_sentence(yhat, y, mask, transition_matrix)\n",
    "                        \n",
    "        return (forward_score - gold_score).sum()"
   ]
  },
  {
   "cell_type": "markdown",
   "metadata": {},
   "source": [
    "# setting"
   ]
  },
  {
   "cell_type": "code",
   "execution_count": 22,
   "metadata": {},
   "outputs": [],
   "source": [
    "EMBEDDING_DIM = 128\n",
    "HIDDEN_DIM = 128\n",
    "EPOCHES = 10\n",
    "BATCH_SIZE = 128\n",
    "device = 'cpu'\n",
    "LIKELIHOOD_INIT = -10000"
   ]
  },
  {
   "cell_type": "code",
   "execution_count": 23,
   "metadata": {},
   "outputs": [],
   "source": [
    "trainset = NERDataset(training_data)"
   ]
  },
  {
   "cell_type": "code",
   "execution_count": 24,
   "metadata": {},
   "outputs": [],
   "source": [
    "trainloader = DataLoader(trainset, batch_size=BATCH_SIZE, shuffle=True, collate_fn=collate_fn)"
   ]
  },
  {
   "cell_type": "code",
   "execution_count": 25,
   "metadata": {},
   "outputs": [],
   "source": [
    "model = BiLSTM_CRF(len(text_vocab), len(label_vocab), EMBEDDING_DIM, HIDDEN_DIM).to(device)"
   ]
  },
  {
   "cell_type": "code",
   "execution_count": 26,
   "metadata": {},
   "outputs": [],
   "source": [
    "criterion = customloss(len(label_vocab))\n",
    "optimizer = torch.optim.SGD(model.parameters(), lr=1e-2, weight_decay=1e-4)"
   ]
  },
  {
   "cell_type": "markdown",
   "metadata": {},
   "source": [
    "# training"
   ]
  },
  {
   "cell_type": "code",
   "execution_count": 27,
   "metadata": {},
   "outputs": [
    {
     "name": "stderr",
     "output_type": "stream",
     "text": [
      "100%|████████████████████████████████████████████████████████████████████████████████| 375/375 [03:20<00:00,  1.87it/s]\n",
      "  0%|                                                                                          | 0/375 [00:00<?, ?it/s]"
     ]
    },
    {
     "name": "stdout",
     "output_type": "stream",
     "text": [
      "epoch 1: 12779.68973628516\n"
     ]
    },
    {
     "name": "stderr",
     "output_type": "stream",
     "text": [
      "100%|████████████████████████████████████████████████████████████████████████████████| 375/375 [03:31<00:00,  1.78it/s]\n",
      "  0%|                                                                                          | 0/375 [00:00<?, ?it/s]"
     ]
    },
    {
     "name": "stdout",
     "output_type": "stream",
     "text": [
      "epoch 2: 9992.40908249755\n"
     ]
    },
    {
     "name": "stderr",
     "output_type": "stream",
     "text": [
      "100%|████████████████████████████████████████████████████████████████████████████████| 375/375 [03:32<00:00,  1.77it/s]\n",
      "  0%|                                                                                          | 0/375 [00:00<?, ?it/s]"
     ]
    },
    {
     "name": "stdout",
     "output_type": "stream",
     "text": [
      "epoch 3: 9422.148295940282\n"
     ]
    },
    {
     "name": "stderr",
     "output_type": "stream",
     "text": [
      "100%|████████████████████████████████████████████████████████████████████████████████| 375/375 [03:32<00:00,  1.77it/s]\n",
      "  0%|                                                                                          | 0/375 [00:00<?, ?it/s]"
     ]
    },
    {
     "name": "stdout",
     "output_type": "stream",
     "text": [
      "epoch 4: 8173.158721512125\n"
     ]
    },
    {
     "name": "stderr",
     "output_type": "stream",
     "text": [
      "100%|████████████████████████████████████████████████████████████████████████████████| 375/375 [03:33<00:00,  1.76it/s]\n",
      "  0%|                                                                                          | 0/375 [00:00<?, ?it/s]"
     ]
    },
    {
     "name": "stdout",
     "output_type": "stream",
     "text": [
      "epoch 5: 6635.433308920119\n"
     ]
    },
    {
     "name": "stderr",
     "output_type": "stream",
     "text": [
      "100%|████████████████████████████████████████████████████████████████████████████████| 375/375 [03:32<00:00,  1.77it/s]\n",
      "  0%|                                                                                          | 0/375 [00:00<?, ?it/s]"
     ]
    },
    {
     "name": "stdout",
     "output_type": "stream",
     "text": [
      "epoch 6: 4478.236309920974\n"
     ]
    },
    {
     "name": "stderr",
     "output_type": "stream",
     "text": [
      "100%|████████████████████████████████████████████████████████████████████████████████| 375/375 [03:32<00:00,  1.76it/s]\n",
      "  0%|                                                                                          | 0/375 [00:00<?, ?it/s]"
     ]
    },
    {
     "name": "stdout",
     "output_type": "stream",
     "text": [
      "epoch 7: 3899.988939119873\n"
     ]
    },
    {
     "name": "stderr",
     "output_type": "stream",
     "text": [
      "100%|████████████████████████████████████████████████████████████████████████████████| 375/375 [03:34<00:00,  1.75it/s]\n",
      "  0%|                                                                                          | 0/375 [00:00<?, ?it/s]"
     ]
    },
    {
     "name": "stdout",
     "output_type": "stream",
     "text": [
      "epoch 8: 3622.9017070570694\n"
     ]
    },
    {
     "name": "stderr",
     "output_type": "stream",
     "text": [
      "100%|████████████████████████████████████████████████████████████████████████████████| 375/375 [03:35<00:00,  1.74it/s]\n",
      "  0%|                                                                                          | 0/375 [00:00<?, ?it/s]"
     ]
    },
    {
     "name": "stdout",
     "output_type": "stream",
     "text": [
      "epoch 9: 3344.912685835818\n"
     ]
    },
    {
     "name": "stderr",
     "output_type": "stream",
     "text": [
      "100%|████████████████████████████████████████████████████████████████████████████████| 375/375 [03:37<00:00,  1.73it/s]"
     ]
    },
    {
     "name": "stdout",
     "output_type": "stream",
     "text": [
      "epoch 10: 3209.1510746809777\n"
     ]
    },
    {
     "name": "stderr",
     "output_type": "stream",
     "text": [
      "\n"
     ]
    }
   ],
   "source": [
    "model.train()\n",
    "for epoch in range(EPOCHES):\n",
    "    running_loss = 0\n",
    "    for datas in tqdm(trainloader):\n",
    "        optimizer.zero_grad()\n",
    "        \n",
    "        sentence, tags = datas\n",
    "        sentence = sentence.to(device)\n",
    "        tags = tags.to(device)        \n",
    "        \n",
    "        output = model(sentence)\n",
    "        \n",
    "        loss = criterion(output, tags, sentence.ne(PAD_IDX), model.transitions)\n",
    "        loss.backward()\n",
    "        optimizer.step()\n",
    "                \n",
    "        running_loss += loss.item()\n",
    "                            \n",
    "    print(f'epoch {epoch+1}: {running_loss/len(training_data)}')"
   ]
  },
  {
   "cell_type": "code",
   "execution_count": 28,
   "metadata": {},
   "outputs": [],
   "source": [
    "torch.save(model,'crf.pth')"
   ]
  },
  {
   "cell_type": "code",
   "execution_count": 20,
   "metadata": {},
   "outputs": [],
   "source": [
    "model = torch.load('crf.pth')"
   ]
  },
  {
   "cell_type": "markdown",
   "metadata": {},
   "source": [
    "# prediction"
   ]
  },
  {
   "cell_type": "code",
   "execution_count": 61,
   "metadata": {},
   "outputs": [
    {
     "name": "stdout",
     "output_type": "stream",
     "text": [
      "-------------- 0\n",
      "score:  -2212.620849609375\n",
      "pred :  O     O     O     O     O     O     O     O     O     O     O     O     O     O     O     O     O     O     O     O     O     O     O     O    \n",
      "label:  O     O     O     O     O     O     B-geo O     O     O     O     O     B-geo O     O     O     O     O     B-gpe O     O     O     O     O    \n",
      "text :  Thousands of demonstrators have marched through London to protest the war in Iraq and demand the withdrawal of British troops from that country .\n",
      "\n",
      "-------------- 1\n",
      "score:  -1754.36865234375\n",
      "pred :  O     O     O     O     O     O     O     O     O     O     O     O     O     O     O     B-tim O     O     O     O     O     O     O     O     O    \n",
      "label:  B-gpe O     O     O     O     O     O     O     O     O     O     O     O     O     O     B-tim O     O     O     B-org O     O     O     O     O    \n",
      "text :  Iranian officials say they expect to get access to sealed sensitive parts of the plant Wednesday , after an IAEA surveillance system begins functioning .\n",
      "\n",
      "-------------- 2\n",
      "score:  -1561.9033203125\n",
      "pred :  O     O     O     O     O     O     O     O     O     O     O     O     O     B-gpe O     O     O     O     O     O     O     O     O     O     O     O     O     O     B-gpe O     O     O    \n",
      "label:  O     O     B-tim O     O     O     O     O     B-geo O     O     O     O     O     B-org O     O     O     O     O     O     O     O     O     O     O     O     O     O     B-geo I-geo O    \n",
      "text :  Helicopter gunships Saturday pounded militant hideouts in the Orakzai tribal region , where many Taliban militants are believed to have fled to avoid an earlier military offensive in nearby South Waziristan .\n",
      "\n",
      "-------------- 3\n",
      "score:  -802.2626953125\n",
      "pred :  O     O     O     O     O     O     O     O     O     O     O    \n",
      "label:  O     O     O     O     O     O     O     O     O     O     O    \n",
      "text :  They left after a tense hour-long standoff with riot police .\n",
      "\n",
      "-------------- 4\n",
      "score:  -4997.7861328125\n",
      "pred :  B-geo B-per I-org I-org O     O     B-tim O     B-geo O     O     O     O     O     O     O     O     O     O     O     O     O     O     O     O     O     O     O     O     O     O     O     O     O     O    \n",
      "label:  B-geo O     O     B-per I-per O     B-tim O     B-geo O     B-gpe O     B-gpe O     O     O     O     O     O     O     O     O     O     O     O     O     B-geo O     O     O     O     O     O     O     O    \n",
      "text :  U.N. relief coordinator Jan Egeland said Sunday , U.S. , Indonesian and Australian military helicopters are ferrying out food and supplies to remote areas of western Aceh province that ground crews can not reach .\n",
      "\n",
      "-------------- 5\n",
      "score:  -1695.6279296875\n",
      "pred :  B-per O     O     O     O     O     O     O     O     O     O     O     O     O     O     O     O     O     O     O     O     O     O     O     O     O     O     O     O     O     B-tim O    \n",
      "label:  B-per I-per O     O     O     O     O     O     O     O     O     O     O     O     O     O     O     O     O     O     O     O     B-tim O     B-per B-gpe O     O     B-geo O     B-geo O    \n",
      "text :  Mr. Egeland said the latest figures show 1.8 million people are in need of food assistance - with the need greatest in Indonesia , Sri Lanka , the Maldives and India .\n",
      "\n",
      "-------------- 6\n",
      "score:  -965.42138671875\n",
      "pred :  O     O     O     O     O     B-gpe O     O     O     O     O     O     O     O     O     O     O     O     O     O     O     O    \n",
      "label:  O     O     O     O     O     O     O     O     O     O     O     O     O     O     O     O     O     O     B-geo O     B-geo O    \n",
      "text :  He said last week 's tsunami and the massive underwater earthquake that triggered it has affected millions in Asia and Africa .\n",
      "\n",
      "-------------- 7\n",
      "score:  420.95068359375\n",
      "pred :  O     O     O     O     O     O     O    \n",
      "label:  O     O     O     O     O     O     O    \n",
      "text :  Some 1,27,000 people are known dead .\n",
      "\n",
      "-------------- 8\n",
      "score:  -2594.547607421875\n",
      "pred :  O     O     O     O     O     O     O     O     O     O     B-org O     O     O     O     O     O     O     O     O     O     O     O     O    \n",
      "label:  O     O     O     O     O     O     O     O     O     O     B-geo O     O     O     O     O     O     O     O     O     O     O     O     O    \n",
      "text :  Aid is being rushed to the region , but the U.N. official stressed that bottlenecks and a lack of infrastructure remain a challenge .\n",
      "\n",
      "-------------- 9\n",
      "score:  -2514.587646484375\n",
      "pred :  B-geo I-geo O     O     B-tim O     B-geo O     O     O     B-gpe O     O     O     O     O     O     O     O     O     O     O     O     O     O     O     O    \n",
      "label:  B-gpe O     O     O     B-tim O     O     O     O     O     O     O     O     B-geo O     O     O     O     O     O     O     O     O     O     O     O     O    \n",
      "text :  Lebanese politicians are condemning Friday 's bomb blast in a Christian neighborhood of Beirut as an attempt to sow sectarian strife in the formerly war-torn country .\n",
      "\n",
      "-------------- 10\n",
      "score:  -5313.427734375\n",
      "pred :  O     O     O     O     O     O     O     O     O     O     O     O     O     O     O     O     O     O     B-geo I-geo O     B-per O     O     O     O     O     O     O     O     O     O     O     O     O     O     O     O     O     O    \n",
      "label:  O     B-geo O     O     O     O     O     O     O     O     O     O     O     O     B-org I-org O     O     B-geo I-geo O     B-per O     B-per I-per O     O     B-gpe O     O     O     O     O     O     O     O     O     O     O     O    \n",
      "text :  In Beirut , a string of officials voiced their anger , while at the United Nations summit in New York , Prime Minister Fouad Siniora said the Lebanese people are resolute in preventing such attempts from destroying their spirit .\n",
      "\n",
      "-------------- 11\n",
      "score:  -3186.16259765625\n",
      "pred :  O     O     O     O     O     O     O     O     <eos> <bos> O     O     O     O     O     B-tim O     O     O     O     O     O     O     O     O    \n",
      "label:  O     O     O     O     O     O     O     O     O     O     O     O     O     O     O     B-tim O     O     O     O     O     O     O     O     O    \n",
      "text :  One person was killed and more than 20 others injured in the bomb blast late Friday , which took place on a residential street .\n",
      "\n"
     ]
    }
   ],
   "source": [
    "model.eval()\n",
    "with torch.no_grad():\n",
    "    for i, data in enumerate(trainset):\n",
    "        sentence, tag = data\n",
    "        output = model(text_transform(sentence).unsqueeze(1))\n",
    "        score, tag_seq = viterbi_decode(output,model.transitions)\n",
    "        tag_seq = np.array(tag_seq).flatten().tolist()\n",
    "        decoded_seq = label_vocab.lookup_tokens(tag_seq)\n",
    "        print('--------------',i)\n",
    "        print('score: ', score.item())\n",
    "        print('pred : ', *[f'{d:<5}' for d in decoded_seq[1:-1]])\n",
    "        print('label: ', *[f'{t:<5}' for t in tag.split(' ')])\n",
    "        print('text : ', sentence)\n",
    "        print()\n",
    "        if i>10: break"
   ]
  },
  {
   "cell_type": "markdown",
   "metadata": {},
   "source": [
    "# Evaluation"
   ]
  },
  {
   "cell_type": "code",
   "execution_count": 98,
   "metadata": {},
   "outputs": [
    {
     "name": "stderr",
     "output_type": "stream",
     "text": [
      "100%|████████████████████████████████████████████████████████████████████████████████| 375/375 [00:35<00:00, 10.46it/s]\n"
     ]
    }
   ],
   "source": [
    "model.eval()\n",
    "acc = 0\n",
    "with torch.no_grad():\n",
    "    for i, data in enumerate(tqdm(trainloader)):\n",
    "        sentence, tag = data\n",
    "        mask = sentence.ne(PAD_IDX)\n",
    "        output = model(sentence)\n",
    "        score, tag_seq = viterbi_decode(output,model.transitions,mask=mask)\n",
    "        for b in range(len(tag_seq)):\n",
    "            tmp_yhat = torch.Tensor(tag_seq[b])\n",
    "            tmp_y = tag[:tag[:,b].ne(PAD_IDX).sum(),b]\n",
    "            assert tmp_yhat.size(0) == tmp_y.size(0), 'misaligned'\n",
    "            acc += tmp_y[1:-1].eq(tmp_yhat[1:-1]).float().mean().item()"
   ]
  },
  {
   "cell_type": "code",
   "execution_count": 99,
   "metadata": {},
   "outputs": [
    {
     "data": {
      "text/plain": [
       "0.8473807377815893"
      ]
     },
     "execution_count": 99,
     "metadata": {},
     "output_type": "execute_result"
    }
   ],
   "source": [
    "acc/len(trainset)"
   ]
  },
  {
   "cell_type": "code",
   "execution_count": 100,
   "metadata": {},
   "outputs": [
    {
     "name": "stderr",
     "output_type": "stream",
     "text": [
      "100%|████████████████████████████████████████████████████████████████████████████████| 375/375 [00:48<00:00,  7.66it/s]\n"
     ]
    }
   ],
   "source": [
    "model.eval()\n",
    "acc = torch.zeros(len(label_vocab)-len(special_tokens))\n",
    "with torch.no_grad():\n",
    "    for i, data in enumerate(tqdm(trainloader)):\n",
    "        sentence, tag = data\n",
    "        mask = sentence.ne(PAD_IDX)\n",
    "        output = model(sentence)\n",
    "        score, tag_seq = viterbi_decode(output,model.transitions,mask=mask)\n",
    "        for b in range(len(tag_seq)):\n",
    "            tmp_yhat = torch.Tensor(tag_seq[b])\n",
    "            tmp_y = tag[:tag[:,b].ne(PAD_IDX).sum(),b]\n",
    "            assert tmp_yhat.size(0) == tmp_y.size(0), 'misaligned'\n",
    "            tmp_acc = tmp_y[1:-1].eq(tmp_yhat[1:-1]).float().div(len(tmp_y)-2)\n",
    "            for a,b in zip(tmp_y[1:-1],tmp_acc): acc[a-len(special_tokens)] += b "
   ]
  },
  {
   "cell_type": "code",
   "execution_count": 114,
   "metadata": {},
   "outputs": [
    {
     "name": "stdout",
     "output_type": "stream",
     "text": [
      "acc O     : 82.4 %\n",
      "acc B-geo : 0.6 %\n",
      "acc B-tim : 0.5 %\n",
      "acc B-org : 0.1 %\n",
      "acc I-per : 0.2 %\n",
      "acc B-per : 0.5 %\n",
      "acc I-org : 0.1 %\n",
      "acc B-gpe : 0.2 %\n",
      "acc I-geo : 0.1 %\n",
      "acc I-tim : 0.0 %\n",
      "acc B-art : 0.0 %\n",
      "acc B-eve : 0.0 %\n",
      "acc I-art : 0.0 %\n",
      "acc I-eve : 0.0 %\n",
      "acc B-nat : 0.0 %\n",
      "acc I-gpe : 0.0 %\n",
      "acc I-nat : 0.0 %\n"
     ]
    }
   ],
   "source": [
    "for a,b in zip(label_vocab.get_itos()[len(special_tokens):],acc.div(len(trainset)).mul(1000).round().tolist()):\n",
    "    print(f'acc {a:<5} : {b/10} %')"
   ]
  },
  {
   "cell_type": "markdown",
   "metadata": {},
   "source": [
    "# Visualization"
   ]
  },
  {
   "cell_type": "code",
   "execution_count": 62,
   "metadata": {},
   "outputs": [
    {
     "data": {
      "text/plain": [
       "<AxesSubplot:>"
      ]
     },
     "execution_count": 62,
     "metadata": {},
     "output_type": "execute_result"
    },
    {
     "data": {
      "image/png": "[encoded data removed]",
      "text/plain": [
       "<Figure size 576x432 with 2 Axes>"
      ]
     },
     "metadata": {
      "needs_background": "light"
     },
     "output_type": "display_data"
    }
   ],
   "source": [
    "plt.figure(figsize=(8,6))\n",
    "heatmap(model.transitions[2:,2:].div(-LIKELIHOOD_INIT).clone().detach().numpy().transpose(),\n",
    "        xticklabels=label_vocab.get_itos()[2:],      \n",
    "        yticklabels=label_vocab.get_itos()[2:])"
   ]
  },
  {
   "cell_type": "code",
   "execution_count": null,
   "metadata": {},
   "outputs": [],
   "source": []
  }
 ],
 "metadata": {
  "kernelspec": {
   "display_name": "Python 3",
   "language": "python",
   "name": "python3"
  },
  "language_info": {
   "codemirror_mode": {
    "name": "ipython",
    "version": 3
   },
   "file_extension": ".py",
   "mimetype": "text/x-python",
   "name": "python",
   "nbconvert_exporter": "python",
   "pygments_lexer": "ipython3",
   "version": "3.8.8"
  }
 },
 "nbformat": 4,
 "nbformat_minor": 4
}
